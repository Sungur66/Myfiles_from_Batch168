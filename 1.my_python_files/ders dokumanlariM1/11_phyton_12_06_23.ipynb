{
 "cells": [
  {
   "attachments": {},
   "cell_type": "markdown",
   "metadata": {},
   "source": [
    "# while loop"
   ]
  },
  {
   "cell_type": "code",
   "execution_count": null,
   "metadata": {},
   "outputs": [],
   "source": [
    "\"Techpro\""
   ]
  },
  {
   "cell_type": "code",
   "execution_count": null,
   "metadata": {},
   "outputs": [],
   "source": [
    "x = 5                       # calistirma sonsuza kadar calisir\n",
    "while 10 > x:\n",
    "    print(\"bu döngü sonsuza kadar calisir\")"
   ]
  },
  {
   "cell_type": "code",
   "execution_count": 2,
   "metadata": {},
   "outputs": [
    {
     "name": "stdout",
     "output_type": "stream",
     "text": [
      "bu döngü bir miktar calisir\n",
      "bu döngü bir miktar calisir\n",
      "bu döngü bir miktar calisir\n",
      "bu döngü bir miktar calisir\n",
      "bu döngü bir miktar calisir\n"
     ]
    }
   ],
   "source": [
    "x = 5                       # calistirma sonsuza kadar calisir\n",
    "while 10 > x:\n",
    "    print(\"bu döngü bir miktar calisir\")\n",
    "    x += 1    # x i her seferinde bir artirip bir müddet sonra keser"
   ]
  },
  {
   "cell_type": "code",
   "execution_count": 9,
   "metadata": {},
   "outputs": [
    {
     "name": "stdout",
     "output_type": "stream",
     "text": [
      "1 2 3 4 5 6 7 8 9 10 11 12 13 14 15 16 17 18 19 20 "
     ]
    }
   ],
   "source": [
    "x = 1\n",
    "while x <= 20:\n",
    "    print(f\"{x}\", end=\" \")\n",
    "    x += 1"
   ]
  },
  {
   "cell_type": "code",
   "execution_count": 10,
   "metadata": {},
   "outputs": [],
   "source": [
    "while False:\n",
    "    print(\"sanki calismayacak gibi\")"
   ]
  },
  {
   "cell_type": "code",
   "execution_count": 12,
   "metadata": {},
   "outputs": [
    {
     "name": "stdout",
     "output_type": "stream",
     "text": [
      "while döngüsü condition **False olana kadar calismaya devam eder\n"
     ]
    }
   ],
   "source": [
    "y = True\n",
    "\n",
    "while y:\n",
    "    print(\"while döngüsü condition **False olana kadar calismaya devam eder\")\n",
    "    y = False"
   ]
  },
  {
   "cell_type": "code",
   "execution_count": 13,
   "metadata": {},
   "outputs": [
    {
     "name": "stdout",
     "output_type": "stream",
     "text": [
      "0\n",
      "2\n",
      "4\n",
      "6\n",
      "8\n",
      "10\n"
     ]
    }
   ],
   "source": [
    "x = 0\n",
    "\n",
    "while x < 11:\n",
    "    print(x)\n",
    "    x += 2"
   ]
  },
  {
   "cell_type": "code",
   "execution_count": 14,
   "metadata": {},
   "outputs": [
    {
     "name": "stdout",
     "output_type": "stream",
     "text": [
      "2\n",
      "4\n",
      "6\n",
      "8\n",
      "10\n",
      "12\n"
     ]
    }
   ],
   "source": [
    "x = 0\n",
    "\n",
    "while x < 11:\n",
    "    x += 2\n",
    "    print(x)\n",
    "    "
   ]
  },
  {
   "cell_type": "code",
   "execution_count": 15,
   "metadata": {},
   "outputs": [
    {
     "name": "stdout",
     "output_type": "stream",
     "text": [
      "0\n",
      "1\n",
      "2\n",
      "3\n",
      "4\n",
      "while döngüsü burada bitti\n"
     ]
    }
   ],
   "source": [
    "x = 0\n",
    "\n",
    "while x < 5:\n",
    "    print(x)\n",
    "    x += 1\n",
    "print(\"while döngüsü burada bitti\")"
   ]
  },
  {
   "cell_type": "code",
   "execution_count": 16,
   "metadata": {},
   "outputs": [
    {
     "name": "stdout",
     "output_type": "stream",
     "text": [
      "0\n",
      "while döngüsü burada bitti\n",
      "1\n",
      "while döngüsü burada bitti\n",
      "2\n",
      "while döngüsü burada bitti\n",
      "3\n",
      "while döngüsü burada bitti\n",
      "4\n",
      "while döngüsü burada bitti\n"
     ]
    }
   ],
   "source": [
    "x = 0\n",
    "\n",
    "while x < 5:\n",
    "    print(x)\n",
    "    x += 1\n",
    "    print(\"while döngüsü burada bitti\")"
   ]
  },
  {
   "cell_type": "code",
   "execution_count": null,
   "metadata": {},
   "outputs": [],
   "source": [
    "# calistirma \n",
    "x = 0\n",
    "\n",
    "while x < 5:\n",
    "    print(x)\n",
    "x += 1           # döngüyü kiracak kodu döngü icine yazmamiz gerekiyor\n",
    "print(\"while döngüsü burada bitti\")"
   ]
  },
  {
   "cell_type": "code",
   "execution_count": 17,
   "metadata": {},
   "outputs": [
    {
     "name": "stdout",
     "output_type": "stream",
     "text": [
      "1\n",
      "4\n",
      "9\n",
      "16\n",
      "25\n"
     ]
    }
   ],
   "source": [
    "x = 1            # önce döngüyü bitirmeyi planlayin kod icini sonra yazariz\n",
    "\n",
    "while x <= 5:\n",
    "    print(x**2)\n",
    "    x += 1"
   ]
  },
  {
   "cell_type": "code",
   "execution_count": 20,
   "metadata": {},
   "outputs": [
    {
     "name": "stdout",
     "output_type": "stream",
     "text": [
      "1\n",
      "9\n",
      "36\n",
      "64\n",
      "121\n",
      "225\n"
     ]
    }
   ],
   "source": [
    "sayilar = [1, 3, 6, 8, 11, 15]\n",
    "\n",
    "len_liste = len(sayilar)\n",
    "\n",
    "x = 0\n",
    "\n",
    "while x < len_liste:\n",
    "    print(sayilar[x] ** 2)\n",
    "    x += 1 "
   ]
  },
  {
   "cell_type": "code",
   "execution_count": 21,
   "metadata": {},
   "outputs": [
    {
     "name": "stdout",
     "output_type": "stream",
     "text": [
      "1\n",
      "9\n",
      "36\n",
      "64\n",
      "121\n",
      "225\n"
     ]
    },
    {
     "ename": "IndexError",
     "evalue": "list index out of range",
     "output_type": "error",
     "traceback": [
      "\u001b[1;31m---------------------------------------------------------------------------\u001b[0m",
      "\u001b[1;31mIndexError\u001b[0m                                Traceback (most recent call last)",
      "Cell \u001b[1;32mIn[21], line 8\u001b[0m\n\u001b[0;32m      5\u001b[0m x \u001b[39m=\u001b[39m \u001b[39m0\u001b[39m\n\u001b[0;32m      7\u001b[0m \u001b[39mwhile\u001b[39;00m x \u001b[39m<\u001b[39m\u001b[39m=\u001b[39m len_liste:\n\u001b[1;32m----> 8\u001b[0m     \u001b[39mprint\u001b[39m(sayilar[x] \u001b[39m*\u001b[39m\u001b[39m*\u001b[39m \u001b[39m2\u001b[39m)\n\u001b[0;32m      9\u001b[0m     x \u001b[39m+\u001b[39m\u001b[39m=\u001b[39m \u001b[39m1\u001b[39m \n",
      "\u001b[1;31mIndexError\u001b[0m: list index out of range"
     ]
    }
   ],
   "source": [
    "sayilar = [1, 3, 6, 8, 11, 15]\n",
    "\n",
    "len_liste = len(sayilar)\n",
    "\n",
    "x = 0\n",
    "\n",
    "while x <= len_liste:\n",
    "    print(sayilar[x] ** 2)\n",
    "    x += 1 "
   ]
  },
  {
   "cell_type": "code",
   "execution_count": null,
   "metadata": {},
   "outputs": [],
   "source": [
    "while []:\n",
    "    print(\"bos liste\")\n",
    "print(\"sanki bunu yazdirmaz\")"
   ]
  },
  {
   "cell_type": "code",
   "execution_count": 25,
   "metadata": {},
   "outputs": [
    {
     "name": "stdout",
     "output_type": "stream",
     "text": [
      "15\n",
      "11\n",
      "8\n",
      "6\n",
      "3\n",
      "1\n",
      "döngü bitti\n"
     ]
    }
   ],
   "source": [
    "sayilar = [1, 3, 6, 8, 11, 15]\n",
    "\n",
    "while sayilar:\n",
    "    print(sayilar[-1])\n",
    "    sayilar.pop()\n",
    "print(\"döngü bitti\")"
   ]
  },
  {
   "cell_type": "code",
   "execution_count": 26,
   "metadata": {},
   "outputs": [
    {
     "name": "stdout",
     "output_type": "stream",
     "text": [
      "1\n",
      "3\n",
      "6\n",
      "8\n",
      "11\n",
      "15\n",
      "döngü bitti\n"
     ]
    }
   ],
   "source": [
    "sayilar = [1, 3, 6, 8, 11, 15]   # her seferinde ilk elemani silecek ve ...\n",
    "\n",
    "while sayilar:\n",
    "    print(sayilar[0])\n",
    "    sayilar.remove(sayilar[0])\n",
    "print(\"döngü bitti\")"
   ]
  },
  {
   "cell_type": "code",
   "execution_count": 29,
   "metadata": {},
   "outputs": [
    {
     "name": "stdout",
     "output_type": "stream",
     "text": [
      "Girdiginiz sayi: 5656. Tahminini azalt\n",
      "Girdiginiz sayi: 45. Tahminini artir\n",
      "Tebrikler. Tahmininiz dogru\n",
      "oyun bitti\n"
     ]
    }
   ],
   "source": [
    "sayi = 60\n",
    "\n",
    "y = True\n",
    "\n",
    "while y:\n",
    "\n",
    "    tahmin = int(input(\"bir sayi giriniz\"))\n",
    "\n",
    "    if sayi < tahmin:\n",
    "        print(f\"Girdiginiz sayi: {tahmin}. Tahminini azalt\")\n",
    "    elif sayi > tahmin:\n",
    "        print(f\"Girdiginiz sayi: {tahmin}. Tahminini artir\")\n",
    "    else:\n",
    "        print(f\"Tebrikler. Tahmininiz dogru\")\n",
    "        y = False\n",
    "\n",
    "print(\"oyun bitti\")\n",
    "            "
   ]
  },
  {
   "cell_type": "code",
   "execution_count": 33,
   "metadata": {},
   "outputs": [
    {
     "name": "stdout",
     "output_type": "stream",
     "text": [
      "Girdiginiz sayi: 45. Tahminini artir\n",
      "Girdiginiz sayi: 76. Tahminini azalt\n",
      "Tebrikler. Tahmininiz dogru\n",
      "oyun bitti. 3 kerede tahmin ettin\n"
     ]
    }
   ],
   "source": [
    "sayi = 60\n",
    "\n",
    "y = True\n",
    "\n",
    "sayac = 0\n",
    "\n",
    "while y:\n",
    "    \n",
    "    tahmin = int(input(\"bir sayi giriniz\"))\n",
    "\n",
    "    if sayi < tahmin:\n",
    "        print(f\"Girdiginiz sayi: {tahmin}. Tahminini azalt\")\n",
    "    elif sayi > tahmin:\n",
    "        print(f\"Girdiginiz sayi: {tahmin}. Tahminini artir\")\n",
    "    else:\n",
    "        print(f\"Tebrikler. Tahmininiz dogru\")\n",
    "        y = False\n",
    "    sayac += 1\n",
    "\n",
    "print(f\"oyun bitti. {sayac} kerede tahmin ettin\")"
   ]
  },
  {
   "attachments": {},
   "cell_type": "markdown",
   "metadata": {},
   "source": [
    "## random modülü"
   ]
  },
  {
   "cell_type": "code",
   "execution_count": 34,
   "metadata": {},
   "outputs": [],
   "source": [
    "import random"
   ]
  },
  {
   "cell_type": "code",
   "execution_count": 38,
   "metadata": {},
   "outputs": [
    {
     "data": {
      "text/plain": [
       "0.7139231576527912"
      ]
     },
     "execution_count": 38,
     "metadata": {},
     "output_type": "execute_result"
    }
   ],
   "source": [
    "random.random()   # [0,1) yani 0 dahil, 1 dahil degil"
   ]
  },
  {
   "cell_type": "code",
   "execution_count": 40,
   "metadata": {},
   "outputs": [
    {
     "data": {
      "text/plain": [
       "0.5486946056438222"
      ]
     },
     "execution_count": 40,
     "metadata": {},
     "output_type": "execute_result"
    }
   ],
   "source": [
    "random.seed(35)  # sabitlemeye yarar. cikti degerini bütün pc lerde sabitler\n",
    "random.random()"
   ]
  },
  {
   "cell_type": "code",
   "execution_count": 41,
   "metadata": {},
   "outputs": [
    {
     "name": "stdout",
     "output_type": "stream",
     "text": [
      "Help on method randint in module random:\n",
      "\n",
      "randint(a, b) method of random.Random instance\n",
      "    Return random integer in range [a, b], including both end points.\n",
      "\n"
     ]
    }
   ],
   "source": [
    "help(random.randint)"
   ]
  },
  {
   "cell_type": "code",
   "execution_count": 47,
   "metadata": {},
   "outputs": [
    {
     "data": {
      "text/plain": [
       "8"
      ]
     },
     "execution_count": 47,
     "metadata": {},
     "output_type": "execute_result"
    }
   ],
   "source": [
    "random.randint(5,10)"
   ]
  },
  {
   "cell_type": "code",
   "execution_count": 49,
   "metadata": {},
   "outputs": [
    {
     "name": "stdout",
     "output_type": "stream",
     "text": [
      "Girdiginiz sayi: 33. Tahminini artir\n",
      "Girdiginiz sayi: 66. Tahminini artir\n",
      "Girdiginiz sayi: 45. Tahminini artir\n",
      "Girdiginiz sayi: 80. Tahminini azalt\n",
      "Girdiginiz sayi: 90. Tahminini azalt\n",
      "Girdiginiz sayi: 68. Tahminini artir\n",
      "Girdiginiz sayi: 73. Tahminini azalt\n",
      "Tebrikler. Tahmininiz dogru\n",
      "oyun bitti\n"
     ]
    }
   ],
   "source": [
    "sayi = random.randint(0, 100)\n",
    "\n",
    "y = True\n",
    "\n",
    "while y:\n",
    "\n",
    "    tahmin = int(input(\"0 ile 100 bir sayi giriniz\"))\n",
    "\n",
    "    if sayi < tahmin:\n",
    "        print(f\"Girdiginiz sayi: {tahmin}. Tahminini azalt\")\n",
    "    elif sayi > tahmin:\n",
    "        print(f\"Girdiginiz sayi: {tahmin}. Tahminini artir\")\n",
    "    else:\n",
    "        print(f\"Tebrikler. Tahmininiz dogru\")\n",
    "        y = False\n",
    "\n",
    "print(\"oyun bitti\")"
   ]
  },
  {
   "cell_type": "code",
   "execution_count": 2,
   "metadata": {},
   "outputs": [
    {
     "name": "stdout",
     "output_type": "stream",
     "text": [
      "Girdiginiz sayi: 43. Tahminini artir\n",
      "Girdiginiz sayi: 65. Tahminini artir\n",
      "Girdiginiz sayi: 65. Tahminini artir\n",
      "Girdiginiz sayi: 82. Tahminini artir\n",
      "Girdiginiz sayi: 96. Tahminini artir\n",
      "Girdiginiz sayi: 96. Tahminini artir\n",
      "Girdiginiz sayi: 99. Tahminini azalt\n",
      "Girdiginiz sayi: 99. Tahminini azalt\n",
      "Tebrikler. Tahmininiz dogru\n",
      "oyun bitti. 9 kerede tahmin ettin\n"
     ]
    }
   ],
   "source": [
    "import random\n",
    "sayi = random.randint(0, 100)\n",
    "import time\n",
    "y = True\n",
    "\n",
    "sayac = 0\n",
    "\n",
    "while y:\n",
    "    \n",
    "    tahmin = int(input(\"bir sayi giriniz\"))\n",
    "    time.sleep(2)\n",
    "\n",
    "    if sayi < tahmin:\n",
    "        print(f\"Girdiginiz sayi: {tahmin}. Tahminini azalt\")\n",
    "    elif sayi > tahmin:\n",
    "        print(f\"Girdiginiz sayi: {tahmin}. Tahminini artir\")\n",
    "    else:\n",
    "        print(f\"Tebrikler. Tahmininiz dogru\")\n",
    "        y = False\n",
    "    sayac += 1\n",
    "\n",
    "print(f\"oyun bitti. {sayac} kerede tahmin ettin\")"
   ]
  },
  {
   "cell_type": "code",
   "execution_count": 5,
   "metadata": {},
   "outputs": [
    {
     "name": "stdout",
     "output_type": "stream",
     "text": [
      "Girdiginiz sayi: 68. Tahminini azalt\n",
      "Girdiginiz sayi: 68. Tahminini azalt\n",
      "Girdiginiz sayi: 40. Tahminini azalt\n",
      "Girdiginiz sayi: 40. Tahminini azalt\n",
      "Girdiginiz sayi: 21. Tahminini artir\n",
      "Dogru tahmin edemediniz. Sayi 24 idi\n"
     ]
    }
   ],
   "source": [
    "import random\n",
    "sayi = random.randint(0, 100)\n",
    "import time\n",
    "\n",
    "sayac = 0\n",
    "\n",
    "while sayac <5:\n",
    "    sayac += 1\n",
    "    tahmin = int(input(\"bir sayi giriniz\"))\n",
    "    time.sleep(2)\n",
    "\n",
    "    if sayi < tahmin:\n",
    "        print(f\"Girdiginiz sayi: {tahmin}. Tahminini azalt\")\n",
    "    elif sayi > tahmin:\n",
    "        print(f\"Girdiginiz sayi: {tahmin}. Tahminini artir\")\n",
    "    else:\n",
    "        print(f\"Tebrikler. Tahmininiz dogru\")\n",
    "        print(f\"oyun bitti. {sayac} kerede tahmin ettin\")\n",
    "        break\n",
    "    \n",
    "    if sayac == 5:\n",
    "        print(f\"Dogru tahmin edemediniz. Sayi {sayi} idi\")\n",
    "        break\n",
    "\n",
    "# break direkt olarak while dongusunun disina atar. \n",
    "\n"
   ]
  },
  {
   "cell_type": "code",
   "execution_count": 17,
   "metadata": {},
   "outputs": [
    {
     "name": "stdout",
     "output_type": "stream",
     "text": [
      "odds: [1, 45, 69, 55, 47, 45, 49] evens [22, 58, 46, 48, 50, 40]\n"
     ]
    }
   ],
   "source": [
    "liste_1 = [1,45,22,69,58,55,47,45,46,48,49,50,40]\n",
    "x = 0\n",
    "odds = []\n",
    "evens = []\n",
    "\n",
    "while x < len(liste_1):\n",
    "\n",
    "    if liste_1[x]%2 == 0:\n",
    "        evens.append(liste_1[x])\n",
    "    else:\n",
    "        odds.append(liste_1[x])\n",
    "    x += 1\n",
    "\n",
    "print(\"odds:\", odds, \"evens\", evens)"
   ]
  },
  {
   "cell_type": "code",
   "execution_count": 15,
   "metadata": {},
   "outputs": [
    {
     "name": "stdout",
     "output_type": "stream",
     "text": [
      "odds: [1, 45, 69, 55, 47, 45, 49] \n",
      "evens [22, 58, 46, 48, 50, 40]\n"
     ]
    }
   ],
   "source": [
    "liste_1 = [1,45,22,69,58,55,47,45,46,48,49,50,40]\n",
    "\n",
    "odds = []\n",
    "evens = []\n",
    "\n",
    "while liste_1:\n",
    "\n",
    "    if liste_1[0]%2 == 0:\n",
    "        evens.append(liste_1[0])\n",
    "        liste_1.remove(liste_1[0])\n",
    "    else:\n",
    "        odds.append(liste_1[0])\n",
    "        liste_1.remove(liste_1[0])\n",
    "    x += 1\n",
    "\n",
    "print(\"odds:\", odds, \"\\nevens\", evens)"
   ]
  },
  {
   "cell_type": "code",
   "execution_count": null,
   "metadata": {},
   "outputs": [],
   "source": []
  }
 ],
 "metadata": {
  "kernelspec": {
   "display_name": "Python 3",
   "language": "python",
   "name": "python3"
  },
  "language_info": {
   "codemirror_mode": {
    "name": "ipython",
    "version": 3
   },
   "file_extension": ".py",
   "mimetype": "text/x-python",
   "name": "python",
   "nbconvert_exporter": "python",
   "pygments_lexer": "ipython3",
   "version": "3.11.3"
  },
  "orig_nbformat": 4
 },
 "nbformat": 4,
 "nbformat_minor": 2
}
