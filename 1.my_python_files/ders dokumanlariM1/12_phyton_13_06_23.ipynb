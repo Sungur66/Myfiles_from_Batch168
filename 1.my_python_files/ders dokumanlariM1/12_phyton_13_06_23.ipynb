{
 "cells": [
  {
   "attachments": {},
   "cell_type": "markdown",
   "metadata": {},
   "source": [
    "## min() max()"
   ]
  },
  {
   "cell_type": "code",
   "execution_count": 2,
   "metadata": {},
   "outputs": [],
   "source": [
    "liste_1 = [4,9,68,53,41,2,3,75,6]"
   ]
  },
  {
   "cell_type": "code",
   "execution_count": 3,
   "metadata": {},
   "outputs": [
    {
     "data": {
      "text/plain": [
       "2"
      ]
     },
     "execution_count": 3,
     "metadata": {},
     "output_type": "execute_result"
    }
   ],
   "source": [
    "min(liste_1)"
   ]
  },
  {
   "cell_type": "code",
   "execution_count": 4,
   "metadata": {},
   "outputs": [
    {
     "data": {
      "text/plain": [
       "75"
      ]
     },
     "execution_count": 4,
     "metadata": {},
     "output_type": "execute_result"
    }
   ],
   "source": [
    "max(liste_1)"
   ]
  },
  {
   "cell_type": "code",
   "execution_count": 11,
   "metadata": {},
   "outputs": [
    {
     "data": {
      "text/plain": [
       "'world'"
      ]
     },
     "execution_count": 11,
     "metadata": {},
     "output_type": "execute_result"
    }
   ],
   "source": [
    "max([\"hello\", \"world\", \"techpro\"])  # ascii ye göre siralar"
   ]
  },
  {
   "cell_type": "code",
   "execution_count": 7,
   "metadata": {},
   "outputs": [
    {
     "data": {
      "text/plain": [
       "1"
      ]
     },
     "execution_count": 7,
     "metadata": {},
     "output_type": "execute_result"
    }
   ],
   "source": [
    "min(1, True, 2, 3)"
   ]
  },
  {
   "cell_type": "code",
   "execution_count": 8,
   "metadata": {},
   "outputs": [
    {
     "data": {
      "text/plain": [
       "True"
      ]
     },
     "execution_count": 8,
     "metadata": {},
     "output_type": "execute_result"
    }
   ],
   "source": [
    "min(True, 1, 2, 3)"
   ]
  },
  {
   "cell_type": "code",
   "execution_count": 12,
   "metadata": {},
   "outputs": [
    {
     "data": {
      "text/plain": [
       "'techpro'"
      ]
     },
     "execution_count": 12,
     "metadata": {},
     "output_type": "execute_result"
    }
   ],
   "source": [
    "max([\"hello\", \"World\", \"techpro\"])"
   ]
  },
  {
   "cell_type": "code",
   "execution_count": 13,
   "metadata": {},
   "outputs": [
    {
     "data": {
      "text/plain": [
       "'World'"
      ]
     },
     "execution_count": 13,
     "metadata": {},
     "output_type": "execute_result"
    }
   ],
   "source": [
    "max([\"hello\", \"World\", \"techpro\"], key = str.lower)  \n",
    "# lower da  () yok, fonksiyonu cagirmiyoruz, yani printini görmek istemiyoruz\n",
    "# calismasini istiyoruz sadece "
   ]
  },
  {
   "cell_type": "code",
   "execution_count": 22,
   "metadata": {},
   "outputs": [
    {
     "name": "stdout",
     "output_type": "stream",
     "text": [
      "Max = 325\n",
      "Min = -400\n"
     ]
    }
   ],
   "source": [
    "sayilar_listesi = [1, 4, 56, 18, 47, 96, 325, 1, 5, 4, 7, 8, -8, -400, 0, 47]\n",
    "min = sayilar_listesi[0]\n",
    "max = sayilar_listesi[0]\n",
    "while sayilar_listesi:\n",
    "    sayi = sayilar_listesi[0]\n",
    "    if sayi > max: \n",
    "        max = sayi\n",
    "    if sayi < min:\n",
    "        min = sayi\n",
    "    sayilar_listesi.remove(sayi)\n",
    "print(f\"Max = {max}\\nMin = {min}\")   # Halil beyin cözümü "
   ]
  },
  {
   "cell_type": "code",
   "execution_count": null,
   "metadata": {},
   "outputs": [],
   "source": [
    "sayilar_listesi = [1, 4, 56, 18, 47, 96, 325, 1, 5, 4, 7, 8, -8, -400, 0, 47]\n",
    "x = 0\n",
    "while x < len(sayilar_listesi):\n",
    "    if sayilar_listesi(0) < sayilar_listesi(1):\n",
    "        max_sayi"
   ]
  },
  {
   "cell_type": "code",
   "execution_count": 24,
   "metadata": {},
   "outputs": [
    {
     "name": "stdout",
     "output_type": "stream",
     "text": [
      "maximum deger = 325\n"
     ]
    }
   ],
   "source": [
    "sayilar_listesi = [1, 4, 56, 18, 47, 96, 325, 1, 5, 4, 7, 8, -8, -400, 0, 47]\n",
    "index = 0\n",
    "\n",
    "max_say = 0      # listedekiler negatif ise ve sifir yoksa kod patlar\n",
    "\n",
    "while index < len(sayilar_listesi):\n",
    "    \n",
    "    if sayilar_listesi[index] > max_say:\n",
    "        max_say = sayilar_listesi[index]\n",
    "\n",
    "    index += 1\n",
    "print(f\"maximum deger = {max_say}\")"
   ]
  },
  {
   "cell_type": "code",
   "execution_count": 25,
   "metadata": {},
   "outputs": [
    {
     "name": "stdout",
     "output_type": "stream",
     "text": [
      "maximum deger = 325\n"
     ]
    }
   ],
   "source": [
    "sayilar_listesi = [1, 4, 56, 18, 47, 96, 325, 1, 5, 4, 7, 8, -8, -400, 0, 47]\n",
    "index = 0\n",
    "\n",
    "max_say = sayilar_listesi[0]      # düzenlenmis hali\n",
    "\n",
    "while index < len(sayilar_listesi):\n",
    "    \n",
    "    if sayilar_listesi[index] > max_say:\n",
    "        max_say = sayilar_listesi[index]\n",
    "\n",
    "    index += 1\n",
    "print(f\"maximum deger = {max_say}\")"
   ]
  },
  {
   "cell_type": "code",
   "execution_count": 19,
   "metadata": {},
   "outputs": [
    {
     "ename": "KeyboardInterrupt",
     "evalue": "",
     "output_type": "error",
     "traceback": [
      "\u001b[1;31m---------------------------------------------------------------------------\u001b[0m",
      "\u001b[1;31mKeyboardInterrupt\u001b[0m                         Traceback (most recent call last)",
      "Cell \u001b[1;32mIn[19], line 4\u001b[0m\n\u001b[0;32m      2\u001b[0m index \u001b[39m=\u001b[39m \u001b[39m0\u001b[39m\n\u001b[0;32m      3\u001b[0m min_say \u001b[39m=\u001b[39m sayilar_listesi[\u001b[39m0\u001b[39m]\n\u001b[1;32m----> 4\u001b[0m \u001b[39mwhile\u001b[39;00m index \u001b[39m<\u001b[39m \u001b[39mlen\u001b[39m(sayilar_listesi):\n\u001b[0;32m      5\u001b[0m     \u001b[39mif\u001b[39;00m sayilar_listesi[index] \u001b[39m<\u001b[39m\u001b[39m=\u001b[39m min_say:\n\u001b[0;32m      6\u001b[0m         min_say \u001b[39m=\u001b[39m sayilar_listesi[index]\n",
      "\u001b[1;31mKeyboardInterrupt\u001b[0m: "
     ]
    }
   ],
   "source": [
    "sayilar_listesi = [1, 4, 56, 18, 47, 96, 325, 1, 5, 4, 7, 8, -8, -400, 0, 47]\n",
    "index = 0\n",
    "min_say = sayilar_listesi[0]\n",
    "while index < len(sayilar_listesi):\n",
    "    if sayilar_listesi[index] <= min_say:\n",
    "        min_say = sayilar_listesi[index]\n",
    "        index += 1\n",
    "print(f\"minimum deger = {min_say}\")"
   ]
  },
  {
   "attachments": {},
   "cell_type": "markdown",
   "metadata": {},
   "source": [
    "# Loops - for"
   ]
  },
  {
   "attachments": {},
   "cell_type": "markdown",
   "metadata": {},
   "source": [
    "for degisken in iterable:\n",
    "\n",
    "    kod satiri/satirlari"
   ]
  },
  {
   "cell_type": "code",
   "execution_count": 2,
   "metadata": {},
   "outputs": [
    {
     "name": "stdout",
     "output_type": "stream",
     "text": [
      "T\n",
      "E\n",
      "C\n",
      "H\n",
      "P\n",
      "R\n",
      "O\n"
     ]
    }
   ],
   "source": [
    "for i in \"techpro\":\n",
    "    print(i.upper())"
   ]
  },
  {
   "cell_type": "code",
   "execution_count": 1,
   "metadata": {},
   "outputs": [
    {
     "name": "stdout",
     "output_type": "stream",
     "text": [
      "1\n",
      "4\n",
      "9\n",
      "16\n",
      "25\n"
     ]
    }
   ],
   "source": [
    "for i in [1,2,3,4,5]:\n",
    "    print(i ** 2)"
   ]
  },
  {
   "cell_type": "code",
   "execution_count": 3,
   "metadata": {},
   "outputs": [
    {
     "name": "stdout",
     "output_type": "stream",
     "text": [
      "25\n",
      "36\n",
      "49\n",
      "64\n"
     ]
    }
   ],
   "source": [
    "for i in (5,6,7,8):\n",
    "    print(i ** 2)"
   ]
  },
  {
   "cell_type": "code",
   "execution_count": 4,
   "metadata": {},
   "outputs": [
    {
     "ename": "TypeError",
     "evalue": "'int' object is not iterable",
     "output_type": "error",
     "traceback": [
      "\u001b[1;31m---------------------------------------------------------------------------\u001b[0m",
      "\u001b[1;31mTypeError\u001b[0m                                 Traceback (most recent call last)",
      "Cell \u001b[1;32mIn[4], line 1\u001b[0m\n\u001b[1;32m----> 1\u001b[0m \u001b[39mfor\u001b[39;00m i \u001b[39min\u001b[39;00m \u001b[39m2023\u001b[39m:\n\u001b[0;32m      2\u001b[0m     \u001b[39mprint\u001b[39m(i)\n",
      "\u001b[1;31mTypeError\u001b[0m: 'int' object is not iterable"
     ]
    }
   ],
   "source": [
    "for i in 2023:\n",
    "    print(i)"
   ]
  },
  {
   "cell_type": "code",
   "execution_count": 5,
   "metadata": {},
   "outputs": [
    {
     "name": "stdout",
     "output_type": "stream",
     "text": [
      "Murat\n",
      "Enes\n",
      "Fatih\n"
     ]
    }
   ],
   "source": [
    "for i in (\"murat\", \"enes\", \"fatih\"):\n",
    "    print(i.capitalize())"
   ]
  },
  {
   "cell_type": "code",
   "execution_count": 11,
   "metadata": {},
   "outputs": [
    {
     "name": "stdout",
     "output_type": "stream",
     "text": [
      "0-1-4-9-16-25-"
     ]
    }
   ],
   "source": [
    "for i in range(0,6):\n",
    "    print(i ** 2, end =\"-\")"
   ]
  },
  {
   "cell_type": "code",
   "execution_count": 16,
   "metadata": {},
   "outputs": [
    {
     "name": "stdout",
     "output_type": "stream",
     "text": [
      "T-e-c-h-p-r-o\n"
     ]
    }
   ],
   "source": [
    "empty_str = \"\"\n",
    "for i in \"Techpro\":\n",
    "    empty_str += i + \"-\"\n",
    "print(empty_str.rstrip(\"-\"))"
   ]
  },
  {
   "cell_type": "code",
   "execution_count": 17,
   "metadata": {},
   "outputs": [
    {
     "name": "stdout",
     "output_type": "stream",
     "text": [
      "T\n",
      "T-e\n",
      "T-e-c\n",
      "T-e-c-h\n",
      "T-e-c-h-p\n",
      "T-e-c-h-p-r\n",
      "T-e-c-h-p-r-o\n"
     ]
    }
   ],
   "source": [
    "empty_str = \"\"\n",
    "for i in \"Techpro\":\n",
    "    empty_str += i + \"-\"\n",
    "    print(empty_str.rstrip(\"-\"))"
   ]
  },
  {
   "cell_type": "code",
   "execution_count": 20,
   "metadata": {},
   "outputs": [
    {
     "data": {
      "text/plain": [
       "'t-e-c-h-p-r-o'"
      ]
     },
     "execution_count": 20,
     "metadata": {},
     "output_type": "execute_result"
    }
   ],
   "source": [
    "\"-\".join(\"techpro\")"
   ]
  },
  {
   "cell_type": "code",
   "execution_count": 21,
   "metadata": {},
   "outputs": [
    {
     "data": {
      "text/plain": [
       "{1, 2, 3, 4, 5}"
      ]
     },
     "execution_count": 21,
     "metadata": {},
     "output_type": "execute_result"
    }
   ],
   "source": [
    "tuple_1 = (1, 2, 3, 4, 5, 5)\n",
    "set(tuple_1)"
   ]
  },
  {
   "cell_type": "code",
   "execution_count": 22,
   "metadata": {},
   "outputs": [],
   "source": [
    "empty_set = set()         # {} ==> bos dictionary\n",
    "for i in tuple_1:\n",
    "    empty_set.add(i)\n"
   ]
  },
  {
   "cell_type": "code",
   "execution_count": 23,
   "metadata": {},
   "outputs": [
    {
     "data": {
      "text/plain": [
       "{1, 2, 3, 4, 5}"
      ]
     },
     "execution_count": 23,
     "metadata": {},
     "output_type": "execute_result"
    }
   ],
   "source": [
    "empty_set"
   ]
  },
  {
   "cell_type": "code",
   "execution_count": 25,
   "metadata": {},
   "outputs": [
    {
     "data": {
      "text/plain": [
       "{'name': 'safi', 'surname': 'vahab', 'age': 45}"
      ]
     },
     "execution_count": 25,
     "metadata": {},
     "output_type": "execute_result"
    }
   ],
   "source": [
    "dict_1 = {\"name\" : \"safi\", \"surname\" : \"vahab\", \"age\" : 45}\n",
    "dict_1"
   ]
  },
  {
   "cell_type": "code",
   "execution_count": 26,
   "metadata": {},
   "outputs": [
    {
     "name": "stdout",
     "output_type": "stream",
     "text": [
      "name\n",
      "surname\n",
      "age\n"
     ]
    }
   ],
   "source": [
    "for i in dict_1:\n",
    "    print(i)"
   ]
  },
  {
   "cell_type": "code",
   "execution_count": 27,
   "metadata": {},
   "outputs": [
    {
     "name": "stdout",
     "output_type": "stream",
     "text": [
      "safi\n",
      "vahab\n",
      "45\n"
     ]
    }
   ],
   "source": [
    "for i in dict_1.values():\n",
    "    print(i)"
   ]
  },
  {
   "cell_type": "code",
   "execution_count": 28,
   "metadata": {},
   "outputs": [
    {
     "data": {
      "text/plain": [
       "dict_items([('name', 'safi'), ('surname', 'vahab'), ('age', 45)])"
      ]
     },
     "execution_count": 28,
     "metadata": {},
     "output_type": "execute_result"
    }
   ],
   "source": [
    "dict_1.items()"
   ]
  },
  {
   "cell_type": "code",
   "execution_count": 29,
   "metadata": {},
   "outputs": [
    {
     "name": "stdout",
     "output_type": "stream",
     "text": [
      "key: name, values: safi\n",
      "key: surname, values: vahab\n",
      "key: age, values: 45\n"
     ]
    }
   ],
   "source": [
    "for i, j in dict_1.items():\n",
    "    print(f\"key: {i}, values: {j}\")"
   ]
  },
  {
   "cell_type": "code",
   "execution_count": 32,
   "metadata": {},
   "outputs": [
    {
     "name": "stdout",
     "output_type": "stream",
     "text": [
      "key: name      , values: safi\n",
      "key: surname   , values: vahab\n",
      "key: age       , values: 45\n"
     ]
    }
   ],
   "source": [
    "for i, j in dict_1.items():\n",
    "    print(f\"key: {i:<10}, values: {j}\")   \n",
    "    # :< 10 => 10 satir ac, sola yasla, > saga yasla, ^ ortala demek"
   ]
  },
  {
   "cell_type": "code",
   "execution_count": 33,
   "metadata": {},
   "outputs": [
    {
     "data": {
      "text/plain": [
       "[('name1', 'name2', 'name3'), ('halil', 'fatih', 'ediz'), (25, 30, 17)]"
      ]
     },
     "execution_count": 33,
     "metadata": {},
     "output_type": "execute_result"
    }
   ],
   "source": [
    "liste_3 = [(\"name1\", \"name2\", \"name3\"), (\"halil\", \"fatih\", \"ediz\"), (25, 30, 17)]\n",
    "liste_3"
   ]
  },
  {
   "cell_type": "code",
   "execution_count": 34,
   "metadata": {},
   "outputs": [
    {
     "name": "stdout",
     "output_type": "stream",
     "text": [
      "name1*name2*name3\n",
      "halil*fatih*ediz\n",
      "25*30*17\n"
     ]
    }
   ],
   "source": [
    "for i, j, k in liste_3:\n",
    "    print(i, j, k, sep=\"*\")     # unpacking"
   ]
  },
  {
   "cell_type": "code",
   "execution_count": 35,
   "metadata": {},
   "outputs": [
    {
     "ename": "ValueError",
     "evalue": "too many values to unpack (expected 2)",
     "output_type": "error",
     "traceback": [
      "\u001b[1;31m---------------------------------------------------------------------------\u001b[0m",
      "\u001b[1;31mValueError\u001b[0m                                Traceback (most recent call last)",
      "Cell \u001b[1;32mIn[35], line 1\u001b[0m\n\u001b[1;32m----> 1\u001b[0m \u001b[39mfor\u001b[39;00m i, j, \u001b[39min\u001b[39;00m liste_3:\n\u001b[0;32m      2\u001b[0m     \u001b[39mprint\u001b[39m(i, j, k, sep\u001b[39m=\u001b[39m\u001b[39m\"\u001b[39m\u001b[39m*\u001b[39m\u001b[39m\"\u001b[39m)\n",
      "\u001b[1;31mValueError\u001b[0m: too many values to unpack (expected 2)"
     ]
    }
   ],
   "source": [
    "for i, j, in liste_3:\n",
    "    print(i, j, k, sep=\"*\")"
   ]
  },
  {
   "cell_type": "code",
   "execution_count": 38,
   "metadata": {},
   "outputs": [
    {
     "name": "stdout",
     "output_type": "stream",
     "text": [
      "1-bu ceza cok ogretici :)\n",
      "2-bu ceza cok ogretici :)\n",
      "3-bu ceza cok ogretici :)\n",
      "4-bu ceza cok ogretici :)\n",
      "5-bu ceza cok ogretici :)\n",
      "6-bu ceza cok ogretici :)\n",
      "7-bu ceza cok ogretici :)\n",
      "8-bu ceza cok ogretici :)\n",
      "9-bu ceza cok ogretici :)\n",
      "10-bu ceza cok ogretici :)\n"
     ]
    }
   ],
   "source": [
    "for i in range(1,11):\n",
    "    print(f\"{i}-bu ceza cok ogretici :)\")"
   ]
  },
  {
   "cell_type": "code",
   "execution_count": 40,
   "metadata": {},
   "outputs": [
    {
     "name": "stdout",
     "output_type": "stream",
     "text": [
      "7 * 0 = 0\n",
      "7 * 1 = 7\n",
      "7 * 2 = 14\n",
      "7 * 3 = 21\n",
      "7 * 4 = 28\n",
      "7 * 5 = 35\n",
      "7 * 6 = 42\n",
      "7 * 7 = 49\n",
      "7 * 8 = 56\n",
      "7 * 9 = 63\n",
      "7 * 10 = 70\n"
     ]
    }
   ],
   "source": [
    "a = int(input(\"1-10 arasi bir sayi giriniz\"))\n",
    "for i in range(11):\n",
    "    print(f\"{a} * {i} =\", (a * i))"
   ]
  },
  {
   "cell_type": "code",
   "execution_count": null,
   "metadata": {},
   "outputs": [],
   "source": []
  }
 ],
 "metadata": {
  "kernelspec": {
   "display_name": "Python 3",
   "language": "python",
   "name": "python3"
  },
  "language_info": {
   "codemirror_mode": {
    "name": "ipython",
    "version": 3
   },
   "file_extension": ".py",
   "mimetype": "text/x-python",
   "name": "python",
   "nbconvert_exporter": "python",
   "pygments_lexer": "ipython3",
   "version": "3.11.3"
  },
  "orig_nbformat": 4
 },
 "nbformat": 4,
 "nbformat_minor": 2
}
