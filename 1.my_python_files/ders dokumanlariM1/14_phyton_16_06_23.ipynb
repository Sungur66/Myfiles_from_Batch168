{
 "cells": [
  {
   "cell_type": "code",
   "execution_count": 8,
   "metadata": {},
   "outputs": [
    {
     "name": "stdout",
     "output_type": "stream",
     "text": [
      "0 mukemmel sayidir\n"
     ]
    }
   ],
   "source": [
    "# Mükemmel sayi bulma programi, \n",
    "# 6, 28, 496 sayilari gibi (enes umit beyin cözümü)\n",
    "\n",
    "sayi = int(input(\"sayi :\"))\n",
    "toplam = 0\n",
    "i = 1\n",
    "while(i < sayi):\n",
    "    if (sayi % i == 0):\n",
    "        toplam += i\n",
    "    i += 1\n",
    "if (toplam == sayi):\n",
    "    print(sayi,\"mukemmel sayidir\")\n",
    "else:\n",
    "    print(sayi ,\"mukemmel sayi degildir\")"
   ]
  },
  {
   "attachments": {},
   "cell_type": "markdown",
   "metadata": {},
   "source": [
    "# zip()"
   ]
  },
  {
   "cell_type": "code",
   "execution_count": 10,
   "metadata": {},
   "outputs": [],
   "source": [
    "a = [\"appe\", \"orange\",\"banana\"]\n",
    "b = [1,2,3]"
   ]
  },
  {
   "cell_type": "code",
   "execution_count": 11,
   "metadata": {},
   "outputs": [
    {
     "data": {
      "text/plain": [
       "<zip at 0x206a3750dc0>"
      ]
     },
     "execution_count": 11,
     "metadata": {},
     "output_type": "execute_result"
    }
   ],
   "source": [
    "zip(a,b)"
   ]
  },
  {
   "cell_type": "code",
   "execution_count": 12,
   "metadata": {},
   "outputs": [
    {
     "data": {
      "text/plain": [
       "[('appe', 1), ('orange', 2), ('banana', 3)]"
      ]
     },
     "execution_count": 12,
     "metadata": {},
     "output_type": "execute_result"
    }
   ],
   "source": [
    "list(zip(a,b))"
   ]
  },
  {
   "cell_type": "code",
   "execution_count": 13,
   "metadata": {},
   "outputs": [
    {
     "data": {
      "text/plain": [
       "(('appe', 1), ('orange', 2), ('banana', 3))"
      ]
     },
     "execution_count": 13,
     "metadata": {},
     "output_type": "execute_result"
    }
   ],
   "source": [
    "tuple(zip(a,b))"
   ]
  },
  {
   "cell_type": "code",
   "execution_count": 14,
   "metadata": {},
   "outputs": [],
   "source": [
    "x = \"techpro\"\n",
    "y = \"enes\"\n",
    "z = \"ali\""
   ]
  },
  {
   "cell_type": "code",
   "execution_count": 15,
   "metadata": {},
   "outputs": [
    {
     "data": {
      "text/plain": [
       "[('t', 'e', 'a'), ('e', 'n', 'l'), ('c', 'e', 'i')]"
      ]
     },
     "execution_count": 15,
     "metadata": {},
     "output_type": "execute_result"
    }
   ],
   "source": [
    "list(zip(x,y,z))"
   ]
  },
  {
   "cell_type": "code",
   "execution_count": 16,
   "metadata": {},
   "outputs": [
    {
     "data": {
      "text/plain": [
       "[('a', 't', 'e'), ('l', 'e', 'n'), ('i', 'c', 'e')]"
      ]
     },
     "execution_count": 16,
     "metadata": {},
     "output_type": "execute_result"
    }
   ],
   "source": [
    "list(zip(z, x,y))    # sralama önemli"
   ]
  },
  {
   "cell_type": "code",
   "execution_count": 17,
   "metadata": {},
   "outputs": [
    {
     "data": {
      "text/plain": [
       "[]"
      ]
     },
     "execution_count": 17,
     "metadata": {},
     "output_type": "execute_result"
    }
   ],
   "source": [
    "list(zip(\"techpro\", [1,2,3,4,5], []))  # elemani en az olan listeye göre birlestirir"
   ]
  },
  {
   "cell_type": "code",
   "execution_count": 18,
   "metadata": {},
   "outputs": [],
   "source": [
    "name = [\"murat\", \"enes\", \"koray\"]\n",
    "age = [35, 25, 23]\n",
    "job = [\"Dat-Sc\", \"phyt-dev\", \"data-ana\"]"
   ]
  },
  {
   "cell_type": "code",
   "execution_count": 19,
   "metadata": {},
   "outputs": [
    {
     "name": "stdout",
     "output_type": "stream",
     "text": [
      "murat     35   Dat-Sc         \n",
      "enes      25   phyt-dev       \n",
      "koray     23   data-ana       \n"
     ]
    }
   ],
   "source": [
    "for i,j,k in zip(name, age, job):\n",
    "    print(f\"{i:<10}{j:<5}{k:<15}\")"
   ]
  },
  {
   "cell_type": "code",
   "execution_count": 21,
   "metadata": {},
   "outputs": [
    {
     "ename": "ValueError",
     "evalue": "too many values to unpack (expected 2)",
     "output_type": "error",
     "traceback": [
      "\u001b[1;31m---------------------------------------------------------------------------\u001b[0m",
      "\u001b[1;31mValueError\u001b[0m                                Traceback (most recent call last)",
      "Cell \u001b[1;32mIn[21], line 1\u001b[0m\n\u001b[1;32m----> 1\u001b[0m \u001b[39mfor\u001b[39;00m i,j \u001b[39min\u001b[39;00m \u001b[39mzip\u001b[39m(name, age, job):\n\u001b[0;32m      2\u001b[0m     \u001b[39mprint\u001b[39m(\u001b[39mf\u001b[39m\u001b[39m\"\u001b[39m\u001b[39m{\u001b[39;00mi\u001b[39m:\u001b[39;00m\u001b[39m<10\u001b[39m\u001b[39m}\u001b[39;00m\u001b[39m{\u001b[39;00mj\u001b[39m:\u001b[39;00m\u001b[39m<5\u001b[39m\u001b[39m}\u001b[39;00m\u001b[39m{\u001b[39;00mk\u001b[39m:\u001b[39;00m\u001b[39m<15\u001b[39m\u001b[39m}\u001b[39;00m\u001b[39m\"\u001b[39m)\n",
      "\u001b[1;31mValueError\u001b[0m: too many values to unpack (expected 2)"
     ]
    }
   ],
   "source": [
    "for i,j in zip(name, age, job):   # ya 1 yada 3 degisken kullanmaliyiz\n",
    "    print(f\"{i:<10}{j:<5}{k:<15}\")"
   ]
  },
  {
   "cell_type": "code",
   "execution_count": 20,
   "metadata": {},
   "outputs": [
    {
     "name": "stdout",
     "output_type": "stream",
     "text": [
      "[('murat', 35, 'Dat-Sc'), ('enes', 25, 'phyt-dev'), ('koray', 23, 'data-ana')]\n"
     ]
    }
   ],
   "source": [
    "print(list(zip(name, age, job)))"
   ]
  },
  {
   "cell_type": "code",
   "execution_count": 28,
   "metadata": {},
   "outputs": [
    {
     "data": {
      "text/plain": [
       "20"
      ]
     },
     "execution_count": 28,
     "metadata": {},
     "output_type": "execute_result"
    }
   ],
   "source": [
    "liste_1 = [\"techpro\", \"education\"] * 10\n",
    "len(liste_1)"
   ]
  },
  {
   "cell_type": "code",
   "execution_count": 30,
   "metadata": {},
   "outputs": [
    {
     "data": {
      "text/plain": [
       "[(1, 'techpro'),\n",
       " (2, 'education'),\n",
       " (3, 'techpro'),\n",
       " (4, 'education'),\n",
       " (5, 'techpro'),\n",
       " (6, 'education'),\n",
       " (7, 'techpro'),\n",
       " (8, 'education'),\n",
       " (9, 'techpro'),\n",
       " (10, 'education'),\n",
       " (11, 'techpro'),\n",
       " (12, 'education'),\n",
       " (13, 'techpro'),\n",
       " (14, 'education'),\n",
       " (15, 'techpro'),\n",
       " (16, 'education'),\n",
       " (17, 'techpro'),\n",
       " (18, 'education'),\n",
       " (19, 'techpro')]"
      ]
     },
     "execution_count": 30,
     "metadata": {},
     "output_type": "execute_result"
    }
   ],
   "source": [
    "list(zip(range(1,20), liste_1))"
   ]
  },
  {
   "cell_type": "code",
   "execution_count": 25,
   "metadata": {},
   "outputs": [
    {
     "data": {
      "text/plain": [
       "['appe', 'orange', 'banana']"
      ]
     },
     "execution_count": 25,
     "metadata": {},
     "output_type": "execute_result"
    }
   ],
   "source": [
    "a"
   ]
  },
  {
   "attachments": {},
   "cell_type": "markdown",
   "metadata": {},
   "source": [
    "## enumerate()"
   ]
  },
  {
   "cell_type": "code",
   "execution_count": 26,
   "metadata": {},
   "outputs": [
    {
     "data": {
      "text/plain": [
       "<enumerate at 0x206a3764e50>"
      ]
     },
     "execution_count": 26,
     "metadata": {},
     "output_type": "execute_result"
    }
   ],
   "source": [
    "enumerate(a)"
   ]
  },
  {
   "cell_type": "code",
   "execution_count": 27,
   "metadata": {},
   "outputs": [
    {
     "data": {
      "text/plain": [
       "[(0, 'appe'), (1, 'orange'), (2, 'banana')]"
      ]
     },
     "execution_count": 27,
     "metadata": {},
     "output_type": "execute_result"
    }
   ],
   "source": [
    "list(enumerate(a))  # enumerate 0 dan baslar"
   ]
  },
  {
   "cell_type": "code",
   "execution_count": 32,
   "metadata": {},
   "outputs": [
    {
     "data": {
      "text/plain": [
       "[(101, 'techpro'),\n",
       " (102, 'education'),\n",
       " (103, 'techpro'),\n",
       " (104, 'education'),\n",
       " (105, 'techpro'),\n",
       " (106, 'education'),\n",
       " (107, 'techpro'),\n",
       " (108, 'education'),\n",
       " (109, 'techpro'),\n",
       " (110, 'education'),\n",
       " (111, 'techpro'),\n",
       " (112, 'education'),\n",
       " (113, 'techpro'),\n",
       " (114, 'education'),\n",
       " (115, 'techpro'),\n",
       " (116, 'education'),\n",
       " (117, 'techpro'),\n",
       " (118, 'education'),\n",
       " (119, 'techpro'),\n",
       " (120, 'education')]"
      ]
     },
     "execution_count": 32,
     "metadata": {},
     "output_type": "execute_result"
    }
   ],
   "source": [
    "list(enumerate(liste_1, 101))  # kactan baslayacagini belirleyebilyoruz. burda 101 den basliyor"
   ]
  },
  {
   "cell_type": "code",
   "execution_count": 33,
   "metadata": {},
   "outputs": [
    {
     "data": {
      "text/plain": [
       "{('appe', 1), ('banana', 3), ('orange', 2)}"
      ]
     },
     "execution_count": 33,
     "metadata": {},
     "output_type": "execute_result"
    }
   ],
   "source": [
    "set(zip(a,b))"
   ]
  },
  {
   "cell_type": "code",
   "execution_count": 36,
   "metadata": {},
   "outputs": [
    {
     "data": {
      "text/plain": [
       "{('c', 'e', 'i'), ('e', 'n', 'l'), ('t', 'e', 'a')}"
      ]
     },
     "execution_count": 36,
     "metadata": {},
     "output_type": "execute_result"
    }
   ],
   "source": [
    "set(zip(x,y,z))"
   ]
  },
  {
   "cell_type": "code",
   "execution_count": 34,
   "metadata": {},
   "outputs": [
    {
     "data": {
      "text/plain": [
       "{'appe': 1, 'orange': 2, 'banana': 3}"
      ]
     },
     "execution_count": 34,
     "metadata": {},
     "output_type": "execute_result"
    }
   ],
   "source": [
    "dict(zip(a,b))"
   ]
  },
  {
   "cell_type": "code",
   "execution_count": 37,
   "metadata": {},
   "outputs": [
    {
     "data": {
      "text/plain": [
       "{1: 'appe', 2: 'orange', 3: 'banana'}"
      ]
     },
     "execution_count": 37,
     "metadata": {},
     "output_type": "execute_result"
    }
   ],
   "source": [
    "dict(zip(b, a))"
   ]
  },
  {
   "cell_type": "code",
   "execution_count": 35,
   "metadata": {},
   "outputs": [
    {
     "ename": "ValueError",
     "evalue": "dictionary update sequence element #0 has length 3; 2 is required",
     "output_type": "error",
     "traceback": [
      "\u001b[1;31m---------------------------------------------------------------------------\u001b[0m",
      "\u001b[1;31mValueError\u001b[0m                                Traceback (most recent call last)",
      "Cell \u001b[1;32mIn[35], line 1\u001b[0m\n\u001b[1;32m----> 1\u001b[0m \u001b[39mdict\u001b[39;49m(\u001b[39mzip\u001b[39;49m(x,y,z))\n",
      "\u001b[1;31mValueError\u001b[0m: dictionary update sequence element #0 has length 3; 2 is required"
     ]
    }
   ],
   "source": [
    "dict(zip(x,y,z))"
   ]
  },
  {
   "cell_type": "code",
   "execution_count": 39,
   "metadata": {},
   "outputs": [],
   "source": [
    "num = [48, 10, 11, 21, 36, 5, 6, 52, 28, 29,\n",
    "       53, 54, 45, 19, 20, 47, 55, 39, 41, 7,\n",
    "       9, 17, 26, 27, 42, 22, 37, 51, 46, 18,\n",
    "       44, 30, 34, 13, 15, 35, 33, 16, 50, 24]\n"
   ]
  },
  {
   "cell_type": "code",
   "execution_count": 55,
   "metadata": {},
   "outputs": [
    {
     "name": "stdout",
     "output_type": "stream",
     "text": [
      "8 12 14 23 25 31 32 38 40 43 49 "
     ]
    }
   ],
   "source": [
    "for i in range(min(num), max(num)+1):\n",
    "    if i in num:\n",
    "        continue\n",
    "    else:\n",
    "        print(i, end=\" \")"
   ]
  },
  {
   "cell_type": "code",
   "execution_count": 66,
   "metadata": {},
   "outputs": [
    {
     "data": {
      "text/plain": [
       "{8, 12, 14, 23, 25, 31, 32, 38, 40, 43, 49}"
      ]
     },
     "execution_count": 66,
     "metadata": {},
     "output_type": "execute_result"
    }
   ],
   "source": [
    "set1 = set(num)\n",
    "set2 = set(range(min(num), max(num)+1))\n",
    "\n",
    "set(set2 - set1)"
   ]
  },
  {
   "cell_type": "code",
   "execution_count": 58,
   "metadata": {},
   "outputs": [
    {
     "name": "stdout",
     "output_type": "stream",
     "text": [
      "[8, 12, 14, 23, 25, 31, 32, 38, 40, 43, 49]\n"
     ]
    }
   ],
   "source": [
    "empty_list = []\n",
    "\n",
    "for i in range(min(num), max(num)):\n",
    "\n",
    "    if i not in num:\n",
    "        empty_list.append(i)\n",
    "\n",
    "print(empty_list)"
   ]
  },
  {
   "cell_type": "code",
   "execution_count": 59,
   "metadata": {},
   "outputs": [
    {
     "name": "stdout",
     "output_type": "stream",
     "text": [
      "[8, 12, 14, 23, 25, 31, 32, 38, 40, 43, 49]\n"
     ]
    }
   ],
   "source": [
    "empty_list = []\n",
    "\n",
    "for i in range(min(num), max(num)):\n",
    "\n",
    "    if i in num:\n",
    "        continue\n",
    "    empty_list.append(i)\n",
    "\n",
    "print(empty_list)"
   ]
  },
  {
   "attachments": {},
   "cell_type": "markdown",
   "metadata": {},
   "source": [
    "liste_2 deki tek sayilar aynen kalsin, cift sayilari karesi ile yerdegistir"
   ]
  },
  {
   "cell_type": "code",
   "execution_count": 67,
   "metadata": {},
   "outputs": [
    {
     "name": "stdout",
     "output_type": "stream",
     "text": [
      "[1, 4, 3, 16, 5, 36]\n"
     ]
    }
   ],
   "source": [
    "liste_2 = [1,2,3,4,5,6]\n",
    "yeni_liste = []\n",
    "for i in liste_2:\n",
    "    if i %2 == 1:\n",
    "        yeni_liste.append(i)\n",
    "    else:\n",
    "        yeni_liste.append(i**2)\n",
    "print(yeni_liste)"
   ]
  },
  {
   "attachments": {},
   "cell_type": "markdown",
   "metadata": {},
   "source": [
    "# List Comprehension"
   ]
  },
  {
   "cell_type": "code",
   "execution_count": 68,
   "metadata": {},
   "outputs": [
    {
     "name": "stdout",
     "output_type": "stream",
     "text": [
      "[1, 4, 9, 16, 25]\n"
     ]
    }
   ],
   "source": [
    "liste_3 = [1,2,3,4,5]\n",
    "empty_list = []\n",
    "for i in liste_3:\n",
    "    empty_list.append(i **2)\n",
    "print(empty_list)"
   ]
  },
  {
   "cell_type": "code",
   "execution_count": 69,
   "metadata": {},
   "outputs": [
    {
     "data": {
      "text/plain": [
       "[1, 4, 9, 16, 25]"
      ]
     },
     "execution_count": 69,
     "metadata": {},
     "output_type": "execute_result"
    }
   ],
   "source": [
    "[i ** 2 for i in liste_3]    # önce islem + döngü + kullancagimiz liste "
   ]
  },
  {
   "cell_type": "code",
   "execution_count": 70,
   "metadata": {},
   "outputs": [
    {
     "data": {
      "text/plain": [
       "[36, 49, 64, 81]"
      ]
     },
     "execution_count": 70,
     "metadata": {},
     "output_type": "execute_result"
    }
   ],
   "source": [
    "[i ** 2 for i in [6,7,8,9]] # min  10 kat hizli clisir"
   ]
  },
  {
   "cell_type": "code",
   "execution_count": 71,
   "metadata": {},
   "outputs": [
    {
     "data": {
      "text/plain": [
       "['renault*', 'fiat?!', 'ford?!']"
      ]
     },
     "execution_count": 71,
     "metadata": {},
     "output_type": "execute_result"
    }
   ],
   "source": [
    "liste_4 = [\"renault*\",\"fiat?!\",\"ford?!\"]\n",
    "liste_4"
   ]
  },
  {
   "cell_type": "code",
   "execution_count": 78,
   "metadata": {},
   "outputs": [
    {
     "data": {
      "text/plain": [
       "['renault', 'fiat', 'ford']"
      ]
     },
     "execution_count": 78,
     "metadata": {},
     "output_type": "execute_result"
    }
   ],
   "source": [
    "[i.replace(\"*\",\"\").replace(\"!\",\"\").replace(\"?\",\"\") for i in liste_4]"
   ]
  },
  {
   "cell_type": "code",
   "execution_count": 76,
   "metadata": {},
   "outputs": [
    {
     "name": "stdout",
     "output_type": "stream",
     "text": [
      "['renault', 'fiat', 'ford']\n"
     ]
    }
   ],
   "source": [
    "new_list = []\n",
    "for i in liste_4:\n",
    "    new_list.append(i.replace(\"*\",\"\").replace(\"!\",\"\").replace(\"?\",\"\"))\n",
    "print(new_list)"
   ]
  },
  {
   "cell_type": "code",
   "execution_count": 79,
   "metadata": {},
   "outputs": [
    {
     "name": "stdout",
     "output_type": "stream",
     "text": [
      "[1, 4, 9, 16, 25]\n"
     ]
    }
   ],
   "source": [
    "liste_3 = [1,2,3,4,5]\n",
    "empty_list = []\n",
    "for i in liste_3:\n",
    "    empty_list.append(i **2)\n",
    "print(empty_list)"
   ]
  },
  {
   "cell_type": "code",
   "execution_count": 80,
   "metadata": {},
   "outputs": [
    {
     "data": {
      "text/plain": [
       "[1, 9, 25]"
      ]
     },
     "execution_count": 80,
     "metadata": {},
     "output_type": "execute_result"
    }
   ],
   "source": [
    "[i ** 2 for i in liste_3 if i % 2]\n",
    "# yapilacak islem + for + i + liste + if + kosul"
   ]
  },
  {
   "cell_type": "code",
   "execution_count": 81,
   "metadata": {},
   "outputs": [
    {
     "name": "stdout",
     "output_type": "stream",
     "text": [
      "[1, 4, 3, 16, 5, 36]\n"
     ]
    }
   ],
   "source": [
    "liste_2 = [1,2,3,4,5,6]\n",
    "yeni_liste = []\n",
    "for i in liste_2:\n",
    "    if i %2 == 1:\n",
    "        yeni_liste.append(i)\n",
    "    else:\n",
    "        yeni_liste.append(i**2)\n",
    "print(yeni_liste)"
   ]
  },
  {
   "cell_type": "code",
   "execution_count": 82,
   "metadata": {},
   "outputs": [
    {
     "data": {
      "text/plain": [
       "[1, 4, 3, 16, 5, 36]"
      ]
     },
     "execution_count": 82,
     "metadata": {},
     "output_type": "execute_result"
    }
   ],
   "source": [
    "[i if i % 2 else i ** 2 for i in [1,2,3,4,5,6]]\n",
    "# önce if le yapacagi islem + if + kosul + else + else islemi + for + i + liste "
   ]
  },
  {
   "cell_type": "code",
   "execution_count": 83,
   "metadata": {},
   "outputs": [
    {
     "data": {
      "text/plain": [
       "[0, 1, 2, 3, 4, 25, 6, 7, 8, 9, 100, 11, 12, 13, 14, 225, 16, 17, 18, 19, 400]"
      ]
     },
     "execution_count": 83,
     "metadata": {},
     "output_type": "execute_result"
    }
   ],
   "source": [
    "[i**2 if i%5==0 else i for i in range(0,21)] "
   ]
  },
  {
   "attachments": {},
   "cell_type": "markdown",
   "metadata": {},
   "source": [
    "## nested loops"
   ]
  },
  {
   "cell_type": "code",
   "execution_count": 84,
   "metadata": {},
   "outputs": [
    {
     "name": "stdout",
     "output_type": "stream",
     "text": [
      "Omer 1\n",
      "Omer 2\n",
      "Omer 3\n",
      "Omer 4\n",
      "Omer 5\n",
      "Eren 1\n",
      "Eren 2\n",
      "Eren 3\n",
      "Eren 4\n",
      "Eren 5\n",
      "Nazim 1\n",
      "Nazim 2\n",
      "Nazim 3\n",
      "Nazim 4\n",
      "Nazim 5\n"
     ]
    }
   ],
   "source": [
    "for i in [\"Omer\", \"Eren\", \"Nazim\"]:  # soldan saga dogru giderken döngü bitene kadar \n",
    "    for j in [1,2,3,4,5]:             # is yapar sonra bastan baslar\n",
    "        print(i, j)"
   ]
  },
  {
   "cell_type": "code",
   "execution_count": 85,
   "metadata": {},
   "outputs": [
    {
     "name": "stdout",
     "output_type": "stream",
     "text": [
      "Omer 1\n",
      "Omer 2\n",
      "Omer 3\n",
      "Omer 4\n",
      "Omer 5\n",
      "ic döngü sonu\n",
      "Eren 1\n",
      "Eren 2\n",
      "Eren 3\n",
      "Eren 4\n",
      "Eren 5\n",
      "ic döngü sonu\n",
      "Nazim 1\n",
      "Nazim 2\n",
      "Nazim 3\n",
      "Nazim 4\n",
      "Nazim 5\n",
      "ic döngü sonu\n"
     ]
    }
   ],
   "source": [
    "for i in [\"Omer\", \"Eren\", \"Nazim\"]:   \n",
    "    for j in [1,2,3,4,5]:            \n",
    "        print(i, j)\n",
    "    print(\"ic döngü sonu\")"
   ]
  },
  {
   "cell_type": "code",
   "execution_count": 87,
   "metadata": {},
   "outputs": [
    {
     "name": "stdout",
     "output_type": "stream",
     "text": [
      "Omer 1\n",
      "Omer 2\n",
      "Omer 3\n",
      "Omer 4\n",
      "Omer 5\n",
      "ic döngü sonu\n",
      "Eren 1\n",
      "Eren 2\n",
      "Eren 3\n",
      "Eren 4\n",
      "Eren 5\n",
      "ic döngü sonu\n",
      "Nazim 1\n",
      "Nazim 2\n",
      "Nazim 3\n",
      "Nazim 4\n",
      "Nazim 5\n",
      "ic döngü sonu\n",
      "tüm döngülerin sonu\n"
     ]
    }
   ],
   "source": [
    "for i in [\"Omer\", \"Eren\", \"Nazim\"]:   \n",
    "    for j in [1,2,3,4,5]:            \n",
    "        print(i, j)\n",
    "    print(\"ic döngü sonu\")\n",
    "print(\"tüm döngülerin sonu\")"
   ]
  },
  {
   "cell_type": "code",
   "execution_count": 90,
   "metadata": {},
   "outputs": [
    {
     "name": "stdout",
     "output_type": "stream",
     "text": [
      "1 x 0  = 0\n",
      "1 x 1  = 1\n",
      "1 x 2  = 2\n",
      "1 x 3  = 3\n",
      "1 x 4  = 4\n",
      "1 x 5  = 5\n",
      "1 x 6  = 6\n",
      "1 x 7  = 7\n",
      "1 x 8  = 8\n",
      "1 x 9  = 9\n",
      "1 x 10 = 10\n"
     ]
    }
   ],
   "source": [
    "for i in range(1,2):\n",
    "    for j in range(0,11):\n",
    "        print(f\"{i} x {j:<2} = {i * j}\")"
   ]
  },
  {
   "cell_type": "code",
   "execution_count": 95,
   "metadata": {},
   "outputs": [
    {
     "name": "stdout",
     "output_type": "stream",
     "text": [
      "1 x 0  = 0\n",
      "1 x 1  = 1\n",
      "1 x 2  = 2\n",
      "1 x 3  = 3\n",
      "1 x 4  = 4\n",
      "1 x 5  = 5\n",
      "1 x 6  = 6\n",
      "1 x 7  = 7\n",
      "1 x 8  = 8\n",
      "1 x 9  = 9\n",
      "1 x 10 = 10\n",
      "++**(())**++\n",
      "2 x 0  = 0\n",
      "2 x 1  = 2\n",
      "2 x 2  = 4\n",
      "2 x 3  = 6\n",
      "2 x 4  = 8\n",
      "2 x 5  = 10\n",
      "2 x 6  = 12\n",
      "2 x 7  = 14\n",
      "2 x 8  = 16\n",
      "2 x 9  = 18\n",
      "2 x 10 = 20\n",
      "++**(())**++\n",
      "3 x 0  = 0\n",
      "3 x 1  = 3\n",
      "3 x 2  = 6\n",
      "3 x 3  = 9\n",
      "3 x 4  = 12\n",
      "3 x 5  = 15\n",
      "3 x 6  = 18\n",
      "3 x 7  = 21\n",
      "3 x 8  = 24\n",
      "3 x 9  = 27\n",
      "3 x 10 = 30\n",
      "++**(())**++\n"
     ]
    }
   ],
   "source": [
    "for i in range(1,4):\n",
    "    for j in range(0,11):\n",
    "        print(f\"{i} x {j:<2} = {i * j}\")\n",
    "    print(\"++**(())**++\")"
   ]
  },
  {
   "cell_type": "code",
   "execution_count": 96,
   "metadata": {},
   "outputs": [
    {
     "name": "stdout",
     "output_type": "stream",
     "text": [
      "1 cumali ****\n",
      "1 sibel ****\n",
      "2 cumali ****\n",
      "2 sibel ****\n"
     ]
    }
   ],
   "source": [
    "for i in [1,2]:\n",
    "    for j in [\"cumali\", \"sibel\"]:\n",
    "        for k in [\"****\"]:\n",
    "            print(i, j, k)"
   ]
  },
  {
   "attachments": {},
   "cell_type": "markdown",
   "metadata": {},
   "source": [
    "kullanicinin girdigi bir sayinin Armstrong number olup olmadigini tespit eden bir algoritma olusturun"
   ]
  },
  {
   "cell_type": "code",
   "execution_count": 100,
   "metadata": {},
   "outputs": [
    {
     "name": "stdout",
     "output_type": "stream",
     "text": [
      "407 bu bir armstrong sayidir\n"
     ]
    }
   ],
   "source": [
    "girilen_sayi = input(\"bir sayi girin ki, Armstrong mu bakayim gari\")\n",
    "ust = len(girilen_sayi)\n",
    "toplam = 0\n",
    "\n",
    "for i in girilen_sayi:\n",
    "    \n",
    "    toplam += int(i) ** ust\n",
    "\n",
    "if toplam == int(girilen_sayi):\n",
    "    print(\"{} bu bir armstrong sayidir\".format(girilen_sayi))\n",
    "else:\n",
    "    print(\"{} bu bir armstrong sayi degildir.\".format(girilen_sayi))"
   ]
  },
  {
   "cell_type": "code",
   "execution_count": 111,
   "metadata": {},
   "outputs": [
    {
     "name": "stdout",
     "output_type": "stream",
     "text": [
      "370 bu bir armstrong sayidir\n"
     ]
    }
   ],
   "source": [
    "girilen_sayi = input(\"bir sayi girin ki, Armstrong mu bakayim gari\")\n",
    "\n",
    "ust = len(girilen_sayi)\n",
    "\n",
    "toplam = sum([int(i) ** ust for i in girilen_sayi])\n",
    "\n",
    "if toplam == int(girilen_sayi):\n",
    "    print(\"{} bu bir armstrong sayidir\".format(girilen_sayi))\n",
    "else:\n",
    "    print(\"{} bu bir armstrong sayi degildir.\".format(girilen_sayi))"
   ]
  },
  {
   "attachments": {},
   "cell_type": "markdown",
   "metadata": {},
   "source": [
    "10 ile 10000 arasindaki Armstrong sayilari bulan kod."
   ]
  },
  {
   "cell_type": "code",
   "execution_count": 112,
   "metadata": {},
   "outputs": [
    {
     "name": "stdout",
     "output_type": "stream",
     "text": [
      "153 bu bir armstrong sayidir\n",
      "370 bu bir armstrong sayidir\n",
      "371 bu bir armstrong sayidir\n",
      "407 bu bir armstrong sayidir\n",
      "1634 bu bir armstrong sayidir\n",
      "8208 bu bir armstrong sayidir\n",
      "9474 bu bir armstrong sayidir\n"
     ]
    }
   ],
   "source": [
    "for i in range(10, 10001):\n",
    "\n",
    "    number = str(i)\n",
    "\n",
    "    ust = len(number)\n",
    "\n",
    "    toplam = sum([int(i) ** ust for i in number])\n",
    "\n",
    "    if toplam == int(number):\n",
    "        print(\"{} bu bir armstrong sayidir\".format(number))"
   ]
  },
  {
   "cell_type": "code",
   "execution_count": null,
   "metadata": {},
   "outputs": [],
   "source": [
    " "
   ]
  }
 ],
 "metadata": {
  "kernelspec": {
   "display_name": "Python 3",
   "language": "python",
   "name": "python3"
  },
  "language_info": {
   "codemirror_mode": {
    "name": "ipython",
    "version": 3
   },
   "file_extension": ".py",
   "mimetype": "text/x-python",
   "name": "python",
   "nbconvert_exporter": "python",
   "pygments_lexer": "ipython3",
   "version": "3.11.3"
  },
  "orig_nbformat": 4
 },
 "nbformat": 4,
 "nbformat_minor": 2
}
