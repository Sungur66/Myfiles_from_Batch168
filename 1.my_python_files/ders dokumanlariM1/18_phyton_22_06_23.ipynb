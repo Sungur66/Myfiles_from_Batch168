{
 "cells": [
  {
   "attachments": {},
   "cell_type": "markdown",
   "metadata": {},
   "source": [
    "# Try Exceptions\n",
    "\n",
    "hata alsakda kodun calismasini saglar"
   ]
  },
  {
   "cell_type": "code",
   "execution_count": 1,
   "metadata": {},
   "outputs": [
    {
     "ename": "TypeError",
     "evalue": "can only concatenate str (not \"int\") to str",
     "output_type": "error",
     "traceback": [
      "\u001b[1;31m---------------------------------------------------------------------------\u001b[0m",
      "\u001b[1;31mTypeError\u001b[0m                                 Traceback (most recent call last)",
      "Cell \u001b[1;32mIn[1], line 1\u001b[0m\n\u001b[1;32m----> 1\u001b[0m \u001b[39m\"\u001b[39;49m\u001b[39m4\u001b[39;49m\u001b[39m\"\u001b[39;49m \u001b[39m+\u001b[39;49m \u001b[39m5\u001b[39;49m\n",
      "\u001b[1;31mTypeError\u001b[0m: can only concatenate str (not \"int\") to str"
     ]
    }
   ],
   "source": [
    "\"4\" + 5"
   ]
  },
  {
   "cell_type": "code",
   "execution_count": 2,
   "metadata": {},
   "outputs": [
    {
     "name": "stdout",
     "output_type": "stream",
     "text": [
      "Hatayi gösterme, yeter ki calis\n"
     ]
    }
   ],
   "source": [
    "try:               # hata olsada alt kodlari calisabilmesi icin kullanilir\n",
    "    \"4\" + 5\n",
    "except:\n",
    "    print(\"Hatayi gösterme, yeter ki calis\")"
   ]
  },
  {
   "cell_type": "code",
   "execution_count": 3,
   "metadata": {},
   "outputs": [
    {
     "data": {
      "text/plain": [
       "6"
      ]
     },
     "execution_count": 3,
     "metadata": {},
     "output_type": "execute_result"
    }
   ],
   "source": [
    "3 * 2                # yukaridan gelseyd, try except olmasaydi bu satir calismazdi"
   ]
  },
  {
   "cell_type": "code",
   "execution_count": 7,
   "metadata": {},
   "outputs": [
    {
     "name": "stdout",
     "output_type": "stream",
     "text": [
      "44444\n"
     ]
    }
   ],
   "source": [
    "try:                          # hata yoksa alt satir calisir devam eder\n",
    "    print(\"4\" * 5)\n",
    "except:\n",
    "    print(\"Hatayi gösterme, yeter ki calis\")"
   ]
  },
  {
   "cell_type": "code",
   "execution_count": 11,
   "metadata": {},
   "outputs": [
    {
     "name": "stdout",
     "output_type": "stream",
     "text": [
      "44444\n"
     ]
    }
   ],
   "source": [
    "try:               # try kismi calisirsa except kismi calismaz\n",
    "    print(\"4\" * 5)\n",
    "except:\n",
    "    print(\"Hatayi gösterme, yeter ki calis\")\n",
    "    print(\"2\" *5)"
   ]
  },
  {
   "cell_type": "code",
   "execution_count": 8,
   "metadata": {},
   "outputs": [
    {
     "name": "stdout",
     "output_type": "stream",
     "text": [
      "Hatayi gösterme, yeter ki calis\n"
     ]
    },
    {
     "ename": "TypeError",
     "evalue": "can only concatenate str (not \"int\") to str",
     "output_type": "error",
     "traceback": [
      "\u001b[1;31m---------------------------------------------------------------------------\u001b[0m",
      "\u001b[1;31mTypeError\u001b[0m                                 Traceback (most recent call last)",
      "Cell \u001b[1;32mIn[8], line 2\u001b[0m\n\u001b[0;32m      1\u001b[0m \u001b[39mtry\u001b[39;00m:               \u001b[39m# except in icinde de hata varsa hata aliriz \u001b[39;00m\n\u001b[1;32m----> 2\u001b[0m     \u001b[39m\"\u001b[39;49m\u001b[39m4\u001b[39;49m\u001b[39m\"\u001b[39;49m \u001b[39m+\u001b[39;49m \u001b[39m5\u001b[39;49m\n\u001b[0;32m      3\u001b[0m \u001b[39mexcept\u001b[39;00m:\n",
      "\u001b[1;31mTypeError\u001b[0m: can only concatenate str (not \"int\") to str",
      "\nDuring handling of the above exception, another exception occurred:\n",
      "\u001b[1;31mTypeError\u001b[0m                                 Traceback (most recent call last)",
      "Cell \u001b[1;32mIn[8], line 5\u001b[0m\n\u001b[0;32m      3\u001b[0m \u001b[39mexcept\u001b[39;00m:\n\u001b[0;32m      4\u001b[0m     \u001b[39mprint\u001b[39m(\u001b[39m\"\u001b[39m\u001b[39mHatayi gösterme, yeter ki calis\u001b[39m\u001b[39m\"\u001b[39m)\n\u001b[1;32m----> 5\u001b[0m     \u001b[39m\"\u001b[39;49m\u001b[39m2\u001b[39;49m\u001b[39m\"\u001b[39;49m \u001b[39m+\u001b[39;49m \u001b[39m1\u001b[39;49m\n",
      "\u001b[1;31mTypeError\u001b[0m: can only concatenate str (not \"int\") to str"
     ]
    }
   ],
   "source": [
    "try:               # except in icinde de hata varsa hata aliriz \n",
    "    \"4\" + 5\n",
    "except:\n",
    "    print(\"Hatayi gösterme, yeter ki calis\")\n",
    "    \"2\" + 1"
   ]
  },
  {
   "cell_type": "code",
   "execution_count": 12,
   "metadata": {},
   "outputs": [
    {
     "name": "stdout",
     "output_type": "stream",
     "text": [
      "devam ediyorum\n"
     ]
    }
   ],
   "source": [
    "try:\n",
    "    print(\"4\" + 5)   # burda TypeError aliriz o yüzden except kismi callisir\n",
    "except TypeError:\n",
    "    print(\"Hata TypeError ise ben celisirim\")"
   ]
  },
  {
   "cell_type": "code",
   "execution_count": 13,
   "metadata": {},
   "outputs": [
    {
     "ename": "TypeError",
     "evalue": "can only concatenate str (not \"int\") to str",
     "output_type": "error",
     "traceback": [
      "\u001b[1;31m---------------------------------------------------------------------------\u001b[0m",
      "\u001b[1;31mTypeError\u001b[0m                                 Traceback (most recent call last)",
      "Cell \u001b[1;32mIn[13], line 2\u001b[0m\n\u001b[0;32m      1\u001b[0m \u001b[39mtry\u001b[39;00m:\n\u001b[1;32m----> 2\u001b[0m     \u001b[39mprint\u001b[39m(\u001b[39m\"\u001b[39;49m\u001b[39m4\u001b[39;49m\u001b[39m\"\u001b[39;49m \u001b[39m+\u001b[39;49m \u001b[39m5\u001b[39;49m)\n\u001b[0;32m      3\u001b[0m \u001b[39mexcept\u001b[39;00m \u001b[39mNameError\u001b[39;00m:\n\u001b[0;32m      4\u001b[0m     \u001b[39mprint\u001b[39m(\u001b[39m\"\u001b[39m\u001b[39mHata NameError ise ben celisirim\u001b[39m\u001b[39m\"\u001b[39m)\n",
      "\u001b[1;31mTypeError\u001b[0m: can only concatenate str (not \"int\") to str"
     ]
    }
   ],
   "source": [
    "try:\n",
    "    print(\"4\" + 5)\n",
    "except NameError:\n",
    "    print(\"Hata NameError ise ben celisirim\")"
   ]
  },
  {
   "cell_type": "code",
   "execution_count": 14,
   "metadata": {},
   "outputs": [
    {
     "name": "stdout",
     "output_type": "stream",
     "text": [
      "Hata TypeError ise ben celisim\n"
     ]
    }
   ],
   "source": [
    "try:\n",
    "    print(\"4\" + 5)\n",
    "except NameError:\n",
    "    print(\"Hata NameError ise ben celisirim\")\n",
    "except TypeError:\n",
    "    print(\"Hata TypeError ise ben celisim\")"
   ]
  },
  {
   "cell_type": "code",
   "execution_count": 15,
   "metadata": {},
   "outputs": [
    {
     "name": "stdout",
     "output_type": "stream",
     "text": [
      "2.0\n"
     ]
    }
   ],
   "source": [
    "x = int(input(\"bir sayi girin\"))\n",
    "y = int(input(\"bir sayi daha girin\"))\n",
    "\n",
    "try:\n",
    "    print(x/y)    # x = 8  ve y = 4\n",
    "except:\n",
    "    print(\"bu yaziyi görüyorsaniz hata var demektir\")"
   ]
  },
  {
   "cell_type": "code",
   "execution_count": 16,
   "metadata": {},
   "outputs": [
    {
     "ename": "ValueError",
     "evalue": "invalid literal for int() with base 10: 'dort'",
     "output_type": "error",
     "traceback": [
      "\u001b[1;31m---------------------------------------------------------------------------\u001b[0m",
      "\u001b[1;31mValueError\u001b[0m                                Traceback (most recent call last)",
      "Cell \u001b[1;32mIn[16], line 2\u001b[0m\n\u001b[0;32m      1\u001b[0m x \u001b[39m=\u001b[39m \u001b[39mint\u001b[39m(\u001b[39minput\u001b[39m(\u001b[39m\"\u001b[39m\u001b[39mbir sayi girin\u001b[39m\u001b[39m\"\u001b[39m))\n\u001b[1;32m----> 2\u001b[0m y \u001b[39m=\u001b[39m \u001b[39mint\u001b[39;49m(\u001b[39minput\u001b[39;49m(\u001b[39m\"\u001b[39;49m\u001b[39mbir sayi daha girin\u001b[39;49m\u001b[39m\"\u001b[39;49m))\n\u001b[0;32m      4\u001b[0m \u001b[39mtry\u001b[39;00m:\n\u001b[0;32m      5\u001b[0m     \u001b[39mprint\u001b[39m(x\u001b[39m/\u001b[39my)    \u001b[39m# x = 8  ve y = dort\u001b[39;00m\n",
      "\u001b[1;31mValueError\u001b[0m: invalid literal for int() with base 10: 'dort'"
     ]
    }
   ],
   "source": [
    "x = int(input(\"bir sayi girin\"))\n",
    "y = int(input(\"bir sayi daha girin\"))\n",
    "                                    # kod y den sonrasi icin calismaz\n",
    "try:\n",
    "    print(x/y)    # x = 8  ve y = dort, hata alcagiz\n",
    "except:\n",
    "    print(\"bu yaziyi görüyorsaniz hata var demektir\")"
   ]
  },
  {
   "cell_type": "code",
   "execution_count": 17,
   "metadata": {},
   "outputs": [
    {
     "name": "stdout",
     "output_type": "stream",
     "text": [
      "bu yaziyi görüyorsaniz hata var demektir\n"
     ]
    }
   ],
   "source": [
    "x = input(\"bir sayi girin\")\n",
    "y = input(\"bir sayi daha girin\")\n",
    "                                # kod sona kadar calisti\n",
    "try:\n",
    "    print(int(x) / int(y))    # x = 8  ve y = dort, hata alcagiz\n",
    "except:\n",
    "    print(\"bu yaziyi görüyorsaniz hata var demektir\")"
   ]
  },
  {
   "cell_type": "code",
   "execution_count": 19,
   "metadata": {},
   "outputs": [
    {
     "name": "stdout",
     "output_type": "stream",
     "text": [
      "Bu yaziyi görüyordaniz, sayiyi int olarak girmemissiniz\n"
     ]
    }
   ],
   "source": [
    "x = input(\"bir sayi girin\")\n",
    "y = input(\"bir sayi daha girin\")\n",
    "\n",
    "try:\n",
    "    print(int(x) / int(y))    # x = 8  ve y = dort, hata alcagiz\n",
    "except ValueError:\n",
    "    print(\"Bu yaziyi görüyordaniz, sayiyi int olarak girmemissiniz\") \n",
    "except:\n",
    "    print(\"bu yaziyi görüyorsaniz hata var demektir\")"
   ]
  },
  {
   "cell_type": "code",
   "execution_count": 20,
   "metadata": {},
   "outputs": [
    {
     "name": "stdout",
     "output_type": "stream",
     "text": [
      "bu yaziyi görüyorsaniz, ikinci girdiginiz sayi '0' dir ve sonuc tanimsiz dir\n"
     ]
    }
   ],
   "source": [
    "x = input(\"bir sayi girin\")\n",
    "y = input(\"bir sayi daha girin\")\n",
    "\n",
    "try:\n",
    "    print(int(x) / int(y))    # x = 8  ve y = 0 hata alcagiz\n",
    "except ValueError:\n",
    "    print(\"Bu yaziyi görüyordaniz, sayiyi int olarak girmemissiniz\") \n",
    "except ZeroDivisionError:\n",
    "    print(\"bu yaziyi görüyorsaniz, ikinci girdiginiz sayi '0' dir ve sonuc tanimsiz dir\")"
   ]
  },
  {
   "cell_type": "code",
   "execution_count": 23,
   "metadata": {},
   "outputs": [
    {
     "name": "stdout",
     "output_type": "stream",
     "text": [
      "1.6\n"
     ]
    }
   ],
   "source": [
    "x = input(\"bir sayi girin\")\n",
    "y = input(\"bir sayi daha girin\")\n",
    "\n",
    "try:\n",
    "    print(int(x) / int(y))    # x = 8  ve y = 5 hata yok\n",
    "except ValueError:\n",
    "    print(\"Bu yaziyi görüyordaniz, sayiyi int olarak girmemissiniz\") \n",
    "except ZeroDivisionError:\n",
    "    print(\"bu yaziyi görüyorsaniz, ikinci girdiginiz sayi '0' dir ve sonuc tanimsiz dir\")\n",
    "except:\n",
    "    print(\"hatalar oluştu!\")"
   ]
  },
  {
   "cell_type": "code",
   "execution_count": 22,
   "metadata": {},
   "outputs": [
    {
     "name": "stdout",
     "output_type": "stream",
     "text": [
      "hatalar oluştu!\n",
      "buradaki hata: name 'a' is not defined\n"
     ]
    }
   ],
   "source": [
    "x = input(\"bir sayi girin\")\n",
    "y = input(\"bir sayi daha girin\")\n",
    "\n",
    "try:\n",
    "    print(int(a) / int(y))    # x = 8  ve y = 2 hata alcagiz\n",
    "except ValueError:\n",
    "    print(\"Bu yaziyi görüyordaniz, sayiyi int olarak girmemissiniz\") \n",
    "except ZeroDivisionError:\n",
    "    print(\"bu yaziyi görüyorsaniz, ikinci girdiginiz sayi '0' dir ve sonuc tanimsiz dir\")\n",
    "except Exception as hata:\n",
    "    print(\"hatalar oluştu!\")\n",
    "    print(f\"buradaki hata: {hata}\")"
   ]
  },
  {
   "cell_type": "code",
   "execution_count": 24,
   "metadata": {},
   "outputs": [
    {
     "name": "stdout",
     "output_type": "stream",
     "text": [
      "hatalar oluştu!\n",
      "buradaki hata: <class 'Exception'>\n"
     ]
    }
   ],
   "source": [
    "\"\"\"\n",
    "x = input(\"bir sayi girin\")\n",
    "y = input(\"bir sayi daha girin\")\n",
    "\n",
    "try:\n",
    "    print(int(a) / int(y))    # x = 8  ve y = 2 hata alcagiz\n",
    "except ValueError:\n",
    "    print(\"Bu yaziyi görüyordaniz, sayiyi int olarak girmemissiniz\") \n",
    "except ZeroDivisionError:\n",
    "    print(\"bu yaziyi görüyorsaniz, ikinci girdiginiz sayi '0' dir ve sonuc tanimsiz dir\")\n",
    "except Exception:\n",
    "    print(\"hatalar oluştu!\")\n",
    "    print(f\"buradaki hata: {Exception}\")  #hata nin sebebini göstermez\n",
    "\n",
    "\"\"\""
   ]
  },
  {
   "cell_type": "code",
   "execution_count": 26,
   "metadata": {},
   "outputs": [
    {
     "name": "stdout",
     "output_type": "stream",
     "text": [
      "9.0\n"
     ]
    }
   ],
   "source": [
    "x = input(\"bir sayi girin\")\n",
    "y = input(\"bir sayi daha girin\")\n",
    "\n",
    "try:                        # try calisirsa else calisir.\n",
    "    a = int(x) / int(y)     # x = 12, y = 4\n",
    "except ValueError:\n",
    "    print(\"Bu yaziyi görüyordaniz, sayiyi int olarak girmemissiniz\") \n",
    "except ZeroDivisionError:\n",
    "    print(\"bu yaziyi görüyorsaniz, ikinci girdiginiz sayi '0' dir ve sonuc tanimsiz dir\")\n",
    "else:\n",
    "    print(a ** 2)"
   ]
  },
  {
   "cell_type": "code",
   "execution_count": 27,
   "metadata": {},
   "outputs": [
    {
     "name": "stdout",
     "output_type": "stream",
     "text": [
      "Bu yaziyi görüyordaniz, sayiyi int olarak girmemissiniz\n"
     ]
    }
   ],
   "source": [
    "x = input(\"bir sayi girin\")\n",
    "y = input(\"bir sayi daha girin\")\n",
    "\n",
    "try:                        # try calisirsa else calisir.\n",
    "    a = int(x) / int(y)     # x = oniki, y = 4\n",
    "except ValueError:\n",
    "    print(\"Bu yaziyi görüyordaniz, sayiyi int olarak girmemissiniz\") \n",
    "except ZeroDivisionError:\n",
    "    print(\"bu yaziyi görüyorsaniz, ikinci girdiginiz sayi '0' dir ve sonuc tanimsiz dir\")\n",
    "else:\n",
    "    print(a ** 2)"
   ]
  },
  {
   "cell_type": "code",
   "execution_count": 2,
   "metadata": {},
   "outputs": [
    {
     "name": "stdout",
     "output_type": "stream",
     "text": [
      "Bu yaziyi görüyordaniz, sayiyi int olarak girmemissiniz\n",
      "Bu yaziyi görüyordaniz, sayiyi int olarak girmemissiniz\n",
      "bu yaziyi görüyorsaniz, ikinci girdiginiz sayi '0' dir ve sonuc tanimsiz dir\n",
      "[2.0, 0.75, 0.27]\n"
     ]
    }
   ],
   "source": [
    "# Kullanicidan alinan iki sayinin bölümünden olusan uc elemanli bir liste olusturun\n",
    "liste = []\n",
    "while True:\n",
    "    x = input(\"bir sayi girin\")\n",
    "    y = input(\"bir sayi daha girin\")\n",
    "    \n",
    "    try:                        \n",
    "        a = round(int(x) / int(y), 2)     \n",
    "    except ValueError:\n",
    "        print(\"Bu yaziyi görüyordaniz, sayiyi int olarak girmemissiniz\") \n",
    "    except ZeroDivisionError:\n",
    "        print(\"bu yaziyi görüyorsaniz, ikinci girdiginiz sayi '0' dir ve sonuc tanimsiz dir\")\n",
    "    else:\n",
    "        liste.append(a)\n",
    "    \n",
    "    if len(liste) == 3:\n",
    "        break\n",
    "\n",
    "print(liste)"
   ]
  },
  {
   "attachments": {},
   "cell_type": "markdown",
   "metadata": {},
   "source": [
    "kullanicidan bir sayi alin ve karesini bulun"
   ]
  },
  {
   "cell_type": "code",
   "execution_count": 5,
   "metadata": {},
   "outputs": [
    {
     "name": "stdout",
     "output_type": "stream",
     "text": [
      "Hatali giris yaptinz, tekrar deneyin\n",
      "Hatali giris yaptinz, tekrar deneyin\n",
      "Hatali giris yaptinz, tekrar deneyin\n",
      "Hatali giris yaptinz, tekrar deneyin\n",
      "Hatali giris yaptinz, tekrar deneyin\n",
      "64\n"
     ]
    }
   ],
   "source": [
    "while True:\n",
    "    try:\n",
    "        x = int(input(\"bir sayi girin\"))\n",
    "        break\n",
    "    except:\n",
    "        print(\"Hatali giris yaptinz, tekrar deneyin\")\n",
    "\n",
    "print(x ** 2)\n"
   ]
  },
  {
   "cell_type": "code",
   "execution_count": 8,
   "metadata": {},
   "outputs": [
    {
     "name": "stdout",
     "output_type": "stream",
     "text": [
      "16.0\n",
      "Beni kimse durduramaz, her halükarda calisirim\n"
     ]
    }
   ],
   "source": [
    "x = input(\"bir sayi girin\")\n",
    "y = input(\"bir sayi daha girin\")\n",
    "\n",
    "try:                        \n",
    "    a = int(x) / int(y)     #  8 / 2\n",
    "except ValueError:\n",
    "    print(\"Bu yaziyi görüyordaniz, sayiyi int olarak girmemissiniz\") \n",
    "except ZeroDivisionError:\n",
    "    print(\"bu yaziyi görüyorsaniz, ikinci girdiginiz sayi '0' dir ve sonuc tanimsiz dir\")\n",
    "else:\n",
    "    print(a ** 2)\n",
    "finally:                    # her ne olursa olsun calisir\n",
    "    print(\"Beni kimse durduramaz, her halükarda calisirim\")"
   ]
  },
  {
   "cell_type": "code",
   "execution_count": 9,
   "metadata": {},
   "outputs": [
    {
     "name": "stdout",
     "output_type": "stream",
     "text": [
      "Bu yaziyi görüyordaniz, sayiyi int olarak girmemissiniz\n",
      "Beni kimse durduramaz, her halükarda calisirim\n",
      "bu yaziyi görüyorsaniz, ikinci girdiginiz sayi '0' dir ve sonuc tanimsiz dir\n",
      "Beni kimse durduramaz, her halükarda calisirim\n",
      "16.0\n",
      "Beni kimse durduramaz, her halükarda calisirim\n"
     ]
    }
   ],
   "source": [
    "while True:\n",
    "    x = input(\"bir sayi girin\")\n",
    "    y = input(\"bir sayi daha girin\")\n",
    "\n",
    "    try:                        \n",
    "        a = int(x) / int(y)     #  8 / 2\n",
    "    except ValueError:\n",
    "        print(\"Bu yaziyi görüyordaniz, sayiyi int olarak girmemissiniz\") \n",
    "    except ZeroDivisionError:\n",
    "        print(\"bu yaziyi görüyorsaniz, ikinci girdiginiz sayi '0' dir ve sonuc tanimsiz dir\")\n",
    "    else:\n",
    "        print(a ** 2)\n",
    "        break\n",
    "    finally:                    \n",
    "        print(\"Beni kimse durduramaz, her halükarda calisirim\")"
   ]
  },
  {
   "cell_type": "code",
   "execution_count": 11,
   "metadata": {},
   "outputs": [
    {
     "name": "stdout",
     "output_type": "stream",
     "text": [
      "[5, 15, 48]\n"
     ]
    }
   ],
   "source": [
    "liste = [5, \"aa15\" , 15 , \"asdeddcds48\", 48 ]\n",
    "sonuc = []\n",
    "for i in liste:\n",
    "    try:\n",
    "        x = int(i)\n",
    "    except:\n",
    "        continue\n",
    "    else:\n",
    "        sonuc.append(x)\n",
    "print(sonuc)"
   ]
  },
  {
   "cell_type": "code",
   "execution_count": 14,
   "metadata": {},
   "outputs": [
    {
     "ename": "TypeError",
     "evalue": "list indices must be integers or slices, not str",
     "output_type": "error",
     "traceback": [
      "\u001b[1;31m---------------------------------------------------------------------------\u001b[0m",
      "\u001b[1;31mTypeError\u001b[0m                                 Traceback (most recent call last)",
      "Cell \u001b[1;32mIn[14], line 7\u001b[0m\n\u001b[0;32m      5\u001b[0m         sonuc\u001b[39m.\u001b[39mappend(i)\n\u001b[0;32m      6\u001b[0m     \u001b[39melif\u001b[39;00m \u001b[39mtype\u001b[39m(i) \u001b[39m==\u001b[39m \u001b[39mstr\u001b[39m:\n\u001b[1;32m----> 7\u001b[0m         liste[i]\u001b[39m.\u001b[39mstrip(\u001b[39m\"\u001b[39m\u001b[39ma\u001b[39m\u001b[39m\"\u001b[39m)   \n\u001b[0;32m      9\u001b[0m \u001b[39mprint\u001b[39m(sonuc)\n",
      "\u001b[1;31mTypeError\u001b[0m: list indices must be integers or slices, not str"
     ]
    }
   ],
   "source": [
    "liste = [5, \"aa15\" , 15 , \"asdeddcds48\", 48 ]\n",
    "sonuc = []\n",
    "for i in liste:\n",
    "    if type(i) == int:\n",
    "        sonuc.append(i)\n",
    "    elif type(i) == str:\n",
    "        liste[i].strip(\"a\")   \n",
    "    \n",
    "print(sonuc)"
   ]
  },
  {
   "cell_type": "code",
   "execution_count": 15,
   "metadata": {},
   "outputs": [],
   "source": [
    "def fact_for_2(x):\n",
    "    assert x >= 0, \"Negatif sayilarin  faktöriyel degeri aranmaz\"\n",
    "    carpim_degeri = 1             # assert de yazdigimiz not hata durumunda return edilir\n",
    "    for i in range (x , 0, - 1 ):\n",
    "        carpim_degeri *= i\n",
    "    return carpim_degeri"
   ]
  },
  {
   "cell_type": "code",
   "execution_count": 16,
   "metadata": {},
   "outputs": [
    {
     "data": {
      "text/plain": [
       "120"
      ]
     },
     "execution_count": 16,
     "metadata": {},
     "output_type": "execute_result"
    }
   ],
   "source": [
    "fact_for_2(5)"
   ]
  },
  {
   "cell_type": "code",
   "execution_count": 17,
   "metadata": {},
   "outputs": [
    {
     "ename": "AssertionError",
     "evalue": "Negatif sayilarin  faktöriyel degeri aranmaz",
     "output_type": "error",
     "traceback": [
      "\u001b[1;31m---------------------------------------------------------------------------\u001b[0m",
      "\u001b[1;31mAssertionError\u001b[0m                            Traceback (most recent call last)",
      "Cell \u001b[1;32mIn[17], line 1\u001b[0m\n\u001b[1;32m----> 1\u001b[0m fact_for_2(\u001b[39m-\u001b[39;49m\u001b[39m5\u001b[39;49m)\n",
      "Cell \u001b[1;32mIn[15], line 2\u001b[0m, in \u001b[0;36mfact_for_2\u001b[1;34m(x)\u001b[0m\n\u001b[0;32m      1\u001b[0m \u001b[39mdef\u001b[39;00m \u001b[39mfact_for_2\u001b[39m(x):\n\u001b[1;32m----> 2\u001b[0m     \u001b[39massert\u001b[39;00m x \u001b[39m>\u001b[39m\u001b[39m=\u001b[39m \u001b[39m0\u001b[39m, \u001b[39m\"\u001b[39m\u001b[39mNegatif sayilarin  faktöriyel degeri aranmaz\u001b[39m\u001b[39m\"\u001b[39m\n\u001b[0;32m      3\u001b[0m     carpim_degeri \u001b[39m=\u001b[39m \u001b[39m1\u001b[39m\n\u001b[0;32m      4\u001b[0m     \u001b[39mfor\u001b[39;00m i \u001b[39min\u001b[39;00m \u001b[39mrange\u001b[39m (x , \u001b[39m0\u001b[39m, \u001b[39m-\u001b[39m \u001b[39m1\u001b[39m ):\n",
      "\u001b[1;31mAssertionError\u001b[0m: Negatif sayilarin  faktöriyel degeri aranmaz"
     ]
    }
   ],
   "source": [
    "fact_for_2(-5)"
   ]
  },
  {
   "attachments": {},
   "cell_type": "markdown",
   "metadata": {},
   "source": [
    "### tas kagit makas oyunu\n",
    "\n",
    "tas makasi kirar , \n",
    "makas kagidi keser ,\n",
    "kagit tasi sarar ,\n",
    "ayni secimde beraberlik"
   ]
  },
  {
   "cell_type": "code",
   "execution_count": 4,
   "metadata": {},
   "outputs": [
    {
     "name": "stdout",
     "output_type": "stream",
     "text": [
      "kazanan yok, berabere\n",
      "game over\n",
      "1 kerede oyuncu 0 kere kazandim\n",
      "bilgisayar kazandi\n",
      "game over\n",
      "2 kerede oyuncu 0 kere kazandim\n",
      "kazanan yok, berabere\n",
      "game over\n",
      "3 kerede oyuncu 0 kere kazandim\n",
      "bilgisayar kazandi\n",
      "game over\n",
      "4 kerede oyuncu 0 kere kazandim\n"
     ]
    }
   ],
   "source": [
    "import random\n",
    "import time\n",
    "\n",
    "x = input(\"Tas, Kagit, Makas oyunu oynamak istermisin. (evet icin 'e' veya hayir icin 'h' girin)\").lower()\n",
    "pc_listesi = [\"tas\",\"kagit\",\"makas\"]\n",
    "pc_counter = 0\n",
    "oyuncu_counter = 0\n",
    "beraberlik = 0\n",
    "\n",
    "while x == \"e\":\n",
    "    pc = pc_listesi[random.randint(0,2)]\n",
    "\n",
    "    oyuncu = input(\"tas, kagit, makas tan birini yaz\").lower()\n",
    "    if (pc == \"tas\" and oyuncu == \"makas\") or (pc == \"makas\" and oyuncu == \"kagit\") or (pc == \"kagit\" and oyuncu == \"tas\"):\n",
    "        kazanan = \"bilgisayar kazandi\"\n",
    "        pc_counter += 1\n",
    "    elif (pc == \"tas\" and oyuncu == \"kagit\") or (pc == \"makas\" and oyuncu == \"tas\") or (pc == \"kagit\" and oyuncu == \"makas\"):\n",
    "        kazanan = \"oyuncu kazandi\"\n",
    "        oyuncu_counter += 1\n",
    "    elif (pc == \"tas\" and oyuncu == \"tas\") or (pc == \"makas\" and oyuncu == \"makas\") or (pc == \"kagit\" and oyuncu == \"kagit\"):\n",
    "        kazanan = \"kazanan yok, berabere\"\n",
    "        beraberlik += 1\n",
    "    else:\n",
    "        kazanan = \"hatali giris yaptin\"\n",
    "    time.sleep(2)\n",
    "    print(kazanan)\n",
    "    time.sleep(1)\n",
    "\n",
    "    x = input(\"oyuna devam etmek istermisin? (evet icin 'e' veya hayir icin 'h' girin)\").lower()\n",
    "\n",
    "    print(\"game over\")\n",
    "    print(f\"{pc_counter + oyuncu_counter + beraberlik} kerede oyuncu {oyuncu_counter} kere kazandim\")"
   ]
  },
  {
   "cell_type": "code",
   "execution_count": 5,
   "metadata": {},
   "outputs": [
    {
     "name": "stdout",
     "output_type": "stream",
     "text": [
      "Game Over\n",
      "0 kerede ben 0 kere kazandım\n"
     ]
    }
   ],
   "source": [
    "import random\n",
    "import time\n",
    "x = input(\"Taş, Kağıt, Makas oyunu oynamak ister misin?(evet veya hayır)\").lower()\n",
    "\n",
    "pc_listesi = [\"taş\", \"kağıt\", \"makas\"]\n",
    "pc_counter = 0\n",
    "şahsım = 0\n",
    "berabere = 0\n",
    "while x == \"evet\":\n",
    "    \n",
    "    pc = pc_listesi[random.randint(0,2)]\n",
    "\n",
    "    ben = input(\"Taş, Kağıt yada Makas tan birini yaz\").lower()\n",
    "\n",
    "    if (pc == \"taş\" and ben == \"makas\") or (pc == \"makas\" and ben == \"kağıt\") or (pc == \"kağıt\" and ben == \"taş\"):\n",
    "\n",
    "        kazanan = \"bilgisayar kazandı\"\n",
    "        pc_counter += 1\n",
    "\n",
    "    elif (pc == \"taş\" and ben == \"kağıt\") or (pc == \"makas\" and ben == \"taş\" ) or (pc == \"kağıt\" and ben == \"makas\"):\n",
    "\n",
    "        kazanan = \"şahsım kazandı\"\n",
    "        şahsım += 1\n",
    "\n",
    "    elif (pc == \"taş\" and ben == \"taş\") or (pc == \"makas\" and ben == \"makas\" ) or (pc == \"kağıt\" and ben == \"kağıt\"):\n",
    "\n",
    "        kazanan = \"kazanan yok durum berabere\"\n",
    "        berabere += 1\n",
    "    else:\n",
    "        kazanan = \"hatalı giriş yaptın\"\n",
    "\n",
    "    time.sleep(2)\n",
    "\n",
    "    print(kazanan)\n",
    "\n",
    "    time.sleep(1)\n",
    "\n",
    "    x = input(\"Taş, Kağıt, Makas oyunu oynamaya devam etmek ister misin?(evet veya hayır)\").lower()\n",
    "\n",
    "print(\"Game Over\")\n",
    "print(f\"{pc_counter + şahsım + berabere} kerede ben {şahsım} kere kazandım\")"
   ]
  }
 ],
 "metadata": {
  "kernelspec": {
   "display_name": "Python 3",
   "language": "python",
   "name": "python3"
  },
  "language_info": {
   "codemirror_mode": {
    "name": "ipython",
    "version": 3
   },
   "file_extension": ".py",
   "mimetype": "text/x-python",
   "name": "python",
   "nbconvert_exporter": "python",
   "pygments_lexer": "ipython3",
   "version": "3.11.3"
  },
  "orig_nbformat": 4
 },
 "nbformat": 4,
 "nbformat_minor": 2
}
