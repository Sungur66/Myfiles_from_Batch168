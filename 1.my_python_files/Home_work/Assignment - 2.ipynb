{
 "cells": [
  {
   "attachments": {},
   "cell_type": "markdown",
   "id": "bb5fd8fe",
   "metadata": {},
   "source": [
    "1 .Given a string of odd length greater than 5, return a new string made of the middle three characters of a given String:\n",
    "Example:\n",
    "\n",
    "\"Murat\" >>> \"ura\"\n",
    "\"Techpro\" >>> \"chp\" "
   ]
  },
  {
   "cell_type": "code",
   "execution_count": 20,
   "id": "200330a8",
   "metadata": {},
   "outputs": [
    {
     "name": "stdout",
     "output_type": "stream",
     "text": [
      "chp\n"
     ]
    }
   ],
   "source": [
    "kelime = input(\"Bir kelime girin, uzunlugu besten buyuk ve tek sayi olsun!\")                      # 1. sorunun cözümü Sungur\n",
    "                                            # girilen kelime techpro\n",
    "if len(kelime) >= 5 and len(kelime) % 2:    # !! kelime 5e esit veya büyük\n",
    "    x = int(len(kelime)/2)\n",
    "    print(kelime[x-1] + kelime[x] + kelime[x+1])\n",
    "else:\n",
    "    print(f\"Girdiginiz kelime '{kelime}' kriterlere uygun degildir\") "
   ]
  },
  {
   "cell_type": "code",
   "execution_count": null,
   "id": "31af8d9d",
   "metadata": {},
   "outputs": [],
   "source": []
  },
  {
   "attachments": {},
   "cell_type": "markdown",
   "id": "bac258c8",
   "metadata": {},
   "source": [
    "2. Kullanıcıdan bir sayı alın. Ve geriye doğru saymasını sağlayın. Aralarda \"*\" işareti olacaktır. En sonunda ise \"GO!\" ifadesi.\n",
    "\n",
    "Example:\n",
    "input >> 3\n",
    "output >> '3*2*1*GO!'"
   ]
  },
  {
   "cell_type": "code",
   "execution_count": 25,
   "id": "548b905f",
   "metadata": {},
   "outputs": [
    {
     "name": "stdout",
     "output_type": "stream",
     "text": [
      "321*GO!\n"
     ]
    }
   ],
   "source": [
    "sayi = input(\"Bir sayi giriniz\")                                              # 2. sorunun cözümü Sungur\n",
    "\n",
    "print(sayi[::-1] + \"*GO!\")  # girilen sayi 123"
   ]
  },
  {
   "attachments": {},
   "cell_type": "markdown",
   "id": "d4504fd6",
   "metadata": {},
   "source": [
    "3. Write a Python program to remove all elements from a given list present in another list. Go to the editor\n",
    "Original lists:\n",
    "list1: [1, 2, 3, 4, 5, 6, 7, 8, 9, 10]\n",
    "list2: [2, 4, 6, 8]\n",
    "Remove all elements from 'list1' present in 'list2:\n",
    "[1, 3, 5, 7, 9, 10]"
   ]
  },
  {
   "cell_type": "code",
   "execution_count": 11,
   "id": "4aab6a5d",
   "metadata": {},
   "outputs": [
    {
     "name": "stdout",
     "output_type": "stream",
     "text": [
      "list1 =  []\n",
      "list2 =  [1, 3, 5, 7, 9]\n"
     ]
    }
   ],
   "source": [
    "list1 = [1, 2, 3, 4, 5, 6, 7, 8, 9, 10]                              # 3. sorunun cözümü Sungur\n",
    "list2 = [2, 4, 6, 8]\n",
    "\n",
    "list2.clear()\n",
    "\n",
    "for i in list1[:]: \n",
    "    if i % 2 == 0:\n",
    "        list1.remove(i)\n",
    "    else:\n",
    "        list1.remove(i)\n",
    "        list2.append(i)\n",
    "\n",
    "print(\"list1 = \", list1)\n",
    "print(\"list2 = \", list2) # sondaki 10 u yazdiramadim. sanki o 10 hata gibi degerlendirdim"
   ]
  },
  {
   "cell_type": "code",
   "execution_count": null,
   "id": "b5ea4653",
   "metadata": {},
   "outputs": [
    {
     "ename": "",
     "evalue": "",
     "output_type": "error",
     "traceback": [
      "\u001b[1;31mFailed to start the Kernel. \n",
      "\u001b[1;31mUnable to start Kernel 'Python 3.11.4' due to a timeout waiting for the ports to get used. \n",
      "\u001b[1;31mView Jupyter <a href='command:jupyter.viewOutput'>log</a> for further details."
     ]
    }
   ],
   "source": [
    "## soru 3 cozum1 MR Sedat\n",
    "list1 = [1, 2, 3, 4, 5, 6, 7, 8, 9, 10]                              # 3. sorunun cözümü Sungur\n",
    "list2 = [2, 4, 6, 8]\n",
    "\n",
    "for i in list1:\n",
    "    if i in list2:\n",
    "        list1.remove(i)\n",
    "print(list1)"
   ]
  },
  {
   "cell_type": "code",
   "execution_count": 1,
   "id": "ef6b24f1",
   "metadata": {},
   "outputs": [
    {
     "data": {
      "text/plain": [
       "[1, 3, 5, 7, 9, 10]"
      ]
     },
     "execution_count": 1,
     "metadata": {},
     "output_type": "execute_result"
    }
   ],
   "source": [
    "## soru 3 cozum2 MR Sedat\n",
    "list1 = [1, 2, 3, 4, 5, 6, 7, 8, 9, 10]                         \n",
    "list2 = [2, 4, 6, 8]\n",
    "\n",
    "set1 = set(list1)\n",
    "set2 = set(list2)\n",
    "\n",
    "list(set1 - set2)"
   ]
  },
  {
   "attachments": {},
   "cell_type": "markdown",
   "id": "5deef34a",
   "metadata": {},
   "source": [
    "4 - Negatif olmayan iki sayı alınız ve bu iki sayı arasındaki sayılardan tek olanları key, karelerini de value olacak şekilde sözlük haline getiren bir fonksiyon yazınız. (Sayıların kendileri dahil!)\n",
    "\n",
    "Example:\n",
    "keyvalue(12,5)\n",
    "\n",
    "{5: 25, 7: 49, 9: 81, 11: 121}"
   ]
  },
  {
   "cell_type": "code",
   "execution_count": 22,
   "id": "392998d1",
   "metadata": {},
   "outputs": [
    {
     "name": "stdout",
     "output_type": "stream",
     "text": [
      "{5: 25, 7: 49, 9: 81, 11: 121}\n"
     ]
    }
   ],
   "source": [
    "num1 = int(input(\"Sifirdan büyük bir sayi giriniz!\"))                                            # 4. sorunun cözümü Sungur\n",
    "num2 = int(input(\"Sifirdan büyük ikinci bir sayi giriniz!\"))\n",
    "\n",
    "if num1 > 0 and num2 > 0:\n",
    "    result = {}\n",
    "    if num1 < num2:\n",
    "        for i in range(num1, num2 + 1):\n",
    "            if i % 2:\n",
    "                result[i] = i ** 2\n",
    "    elif num1 > num2:\n",
    "        for i in range(num2, num1 + 1):\n",
    "            if i % 2:\n",
    "                result[i] = i ** 2\n",
    "\n",
    "    print(result)\n",
    "else:\n",
    "    print(f\"Girdiginiz sayilar sifirdan büyük degildir\") "
   ]
  },
  {
   "attachments": {},
   "cell_type": "markdown",
   "id": "903f7ae5",
   "metadata": {},
   "source": [
    "5 - Ardışık sıfırlar ve birler:\n",
    "\n",
    "Bu sorunun amacı, yalnızca sıfırlar ve birlerden oluşan bir ikili diziyi analiz etmektir. Kodunuz, dizedeki en büyük ardışık sıfır ve birlerin sayısını bulmalıdır. Örneğin, dize verildiğinde:\n",
    "\n",
    "\"1001101000110\" Ardışık sıfırların en büyük sayısı 3'tür.\n",
    "\n",
    "\"1001101000110\" Ardışık birlerin en büyük sayısı 2'dir.\n",
    "\n",
    "Sıfırlar ve birler dizisi olan tek bir parametre alan ardışık_sıfırlar adlı bir fonksiyon tanımlayın."
   ]
  },
  {
   "cell_type": "code",
   "execution_count": 5,
   "id": "3c036182",
   "metadata": {},
   "outputs": [
    {
     "name": "stdout",
     "output_type": "stream",
     "text": [
      "maximun 0'ler =  3\n",
      "maximun 1'ler =  2\n"
     ]
    },
    {
     "data": {
      "text/plain": [
       "' once string ifadeyi split ile 1 veya 0 lerden ayirdik ve olusan listeden len i maximum \\nolani belirleyip onun lentini yazdirdik. bunun icin key ifadesini kullandik'"
      ]
     },
     "execution_count": 5,
     "metadata": {},
     "output_type": "execute_result"
    }
   ],
   "source": [
    "## soru5 cozum MR Sedat\n",
    "sayi = \"1001101000110\"\n",
    "sayi.split(\"0\")  # = ['1', '', '11', '1', '', '', '11', '']\n",
    "\n",
    "print(\"maximun 0'ler = \", len(max(sayi.split(\"1\"), key = len)))\n",
    "print(\"maximun 1'ler = \", len(max(sayi.split(\"0\"), key = len)))\n",
    "\n",
    "\"\"\" once string ifadeyi split ile 1 veya 0 lerden ayirdik ve olusan listeden len i maximum \n",
    "olani belirleyip onun lentini yazdirdik. bunun icin key ifadesini kullandik\"\"\""
   ]
  },
  {
   "cell_type": "code",
   "execution_count": 6,
   "id": "c7a70fe9",
   "metadata": {},
   "outputs": [
    {
     "name": "stdout",
     "output_type": "stream",
     "text": [
      "ardişik sifirlarin en büyüğünün uzunluğu : 3\n",
      "ardişik birlerin en büyüğünün uzunluğu : 2\n"
     ]
    }
   ],
   "source": [
    "## soru 5 çözüm\n",
    "\n",
    "def ardişik(sayi):\n",
    "\n",
    "    print(f\"ardişik sifirlarin en büyüğünün uzunluğu : {len(max(sayi.split('1'), key = len))}\")\n",
    "    print(f\"ardişik birlerin en büyüğünün uzunluğu : {len(max(sayi.split('0'), key = len))}\")\n",
    "\n",
    "ardişik(\"1001101000110\")"
   ]
  },
  {
   "cell_type": "code",
   "execution_count": null,
   "id": "a8c6ccb0",
   "metadata": {},
   "outputs": [],
   "source": [
    "def count_max_bul(veri,max_aranan_deger):  # murat s nin cozumu\n",
    "\n",
    "    \"\"\"Bu fonksiyon, verilen bir liste veya sayı dizesi içersinde yer alan bir değerin, en çok kaç tanesinin yanyana\n",
    "    geldiğini bulur\"\"\"\n",
    "\n",
    "    veri = list(str(veri))\n",
    "    max_aranan_deger = str(max_aranan_deger)\n",
    "    count_max = 0\n",
    "    if max_aranan_deger in veri:\n",
    "        for i in range(len(veri)-1) :\n",
    "            count_i = 1\n",
    "            \n",
    "            while veri[i] == veri[i+1] == max_aranan_deger:        \n",
    "                count_i +=1\n",
    "                i += 1\n",
    "            \n",
    "            if count_i > count_max:\n",
    "                count_max=count_i\n",
    "                \n",
    "        print(f\"{max_aranan_deger} ardışık olarak en fazla {count_max} kez yanyan gelmiştir\")\n",
    "    else :\n",
    "        print('Girdiğiniz değeri verilenler içinde  bulamadım')"
   ]
  },
  {
   "attachments": {},
   "cell_type": "markdown",
   "id": "26614e94",
   "metadata": {},
   "source": [
    "6- \n",
    "Parametre olarak negatif olmayan bir sayı alan \"format_number\" adında bir fonksiyon yazın.\n",
    "\n",
    "Fonksiyonunuz sayıyı bir stringe dönüştürmeli ve binlik ayırıcı olarak virgül eklemelidir.\n",
    "\n",
    "Örneğin, format_number(1000000) Output: \"1,000,000\" çıktısını vermelidir."
   ]
  },
  {
   "cell_type": "code",
   "execution_count": 30,
   "id": "93ae876a",
   "metadata": {},
   "outputs": [
    {
     "data": {
      "text/plain": [
       "'12,345,679'"
      ]
     },
     "execution_count": 30,
     "metadata": {},
     "output_type": "execute_result"
    }
   ],
   "source": [
    "def format_num(sayi):\n",
    "    \n",
    "    a = str(sayi)\n",
    "    liste = []\n",
    "    \n",
    "    while a.isdigit():\n",
    "        \n",
    "        liste.append(a[-3:])\n",
    "        a = a[:-3]\n",
    "        \n",
    "    return \",\".join(reversed(liste))\n",
    "\n",
    "format_num(12345679)"
   ]
  },
  {
   "cell_type": "code",
   "execution_count": 133,
   "id": "983267db",
   "metadata": {},
   "outputs": [
    {
     "name": "stdout",
     "output_type": "stream",
     "text": [
      "[0, 1, 2, ',', 3, 4, 5, ',', 6, 7]\n"
     ]
    }
   ],
   "source": [
    "sayi = str(1234567)[::-1]\n",
    "counter = 0\n",
    "binlik = []\n",
    "for i in range(0, len(sayi)+1):\n",
    "    binlik.append(i)\n",
    "    counter += 1\n",
    "    if counter != 3:\n",
    "        continue\n",
    "    else :\n",
    "        binlik.append(',')\n",
    "        counter = 0\n",
    "print(binlik, sep=\"\")\n"
   ]
  },
  {
   "cell_type": "code",
   "execution_count": 135,
   "id": "d4efed96",
   "metadata": {},
   "outputs": [],
   "source": [
    "def format_number(sayi):\n",
    "    sayi_ = str(sayi)[::]\n",
    "    return \",\".join(sayi_)"
   ]
  },
  {
   "cell_type": "code",
   "execution_count": 136,
   "id": "96d0ddfb",
   "metadata": {},
   "outputs": [
    {
     "data": {
      "text/plain": [
       "'1,0,0,0,0,0,0,0'"
      ]
     },
     "execution_count": 136,
     "metadata": {},
     "output_type": "execute_result"
    }
   ],
   "source": [
    "format_number(10000000)"
   ]
  },
  {
   "attachments": {},
   "cell_type": "markdown",
   "id": "52dc60b7",
   "metadata": {},
   "source": [
    "7-\n",
    "Kullanıcıdan alınan bir text dizisinin tüm noktalama işaretlerini temizleyen bir fonksiyon yazınız.\n",
    "Example:\n",
    "cleaning(\"nas,ıls..ın\") >>> \"nasılsın\""
   ]
  },
  {
   "cell_type": "code",
   "execution_count": null,
   "id": "41f4012a",
   "metadata": {},
   "outputs": [],
   "source": [
    "def sirayla_bir_buyuk(name):  # cozum von MR Sedat\n",
    "    name = name.lower()\n",
    "    \n",
    "    return \"\".join[for i in name if i in st.ascii_lowercase] "
   ]
  },
  {
   "cell_type": "code",
   "execution_count": 5,
   "metadata": {},
   "outputs": [
    {
     "name": "stdout",
     "output_type": "stream",
     "text": [
      "nas,ils..in\n"
     ]
    }
   ],
   "source": [
    "yazi = \"nas,ils..in\"                                               # 7. sorunun cözümü Sungur\n",
    "\n",
    "for i in range(len(yazi)):\n",
    "    if not ord('A') <= i <= ord('z'):\n",
    "        yazi.replace(\"i\", \"\")\n",
    "\n",
    "print(yazi)\n"
   ]
  },
  {
   "cell_type": "code",
   "execution_count": 55,
   "id": "00a9c818",
   "metadata": {},
   "outputs": [],
   "source": [
    "def cleaning(yazi):                                                                            # 7. sorunun cözümü Sungur\n",
    "    yazi = input(\"Bir text dizisi giriniz. Eger harf disi karakter varsa silerim\")\n",
    "    \n",
    "    for i in range(len(yazi)):\n",
    "        if ord('A') <= ord(yazi[i]) <= ord('z'):\n",
    "            yazi_ = yazi[i]\n",
    "            print(yazi_, end=\"\") \n",
    "\n",
    "    # return (yazi[i] for i in range(len(yazi)) if ord('A') <= ord(yazi[i]) <= ord('z'))\n"
   ]
  },
  {
   "cell_type": "code",
   "execution_count": 58,
   "id": "a3a3de18",
   "metadata": {},
   "outputs": [
    {
     "name": "stdout",
     "output_type": "stream",
     "text": [
      "nasilsin"
     ]
    }
   ],
   "source": [
    "cleaning(\"nas,ils..in\")    # nas,ils..in  ??"
   ]
  },
  {
   "attachments": {},
   "cell_type": "markdown",
   "id": "d7d5f9a8",
   "metadata": {},
   "source": [
    "8-\n",
    "Kullanıcıdan bir sayı girmesini isteyin ve girilen sayıya göre papatya falı döndüren algoritma yazın. Son çıktının tüm karakterlerinin upper olmasına dikkat edin.\n",
    "\n",
    "example:\n",
    "input >> 5\n",
    "output >> ['Loves Me', 'Loves Me Not', 'Loves Me', 'Loves Me Not', 'LOVES ME']"
   ]
  },
  {
   "cell_type": "code",
   "execution_count": 145,
   "id": "1675c738",
   "metadata": {},
   "outputs": [
    {
     "name": "stdout",
     "output_type": "stream",
     "text": [
      "0:Loves Me Not\n",
      "1:Loves Me\n",
      "2:Loves Me Not\n",
      "3:Loves Me\n",
      "4:Loves Me Not\n",
      "5:Loves Me\n",
      "6:LOVES ME NOT\n"
     ]
    }
   ],
   "source": [
    "gir_sayi = int(input(\"Bir sayi giriniz\"))                                           # 8. sorunun cözümü Sungur\n",
    "secim = input(\"Baslangic degeri icin 'l': Loves Me veya 'n' Loves Me Not seciniz\")\n",
    "counter = 0\n",
    "x = 1\n",
    "\n",
    "if secim == 'l':\n",
    "    while x <= gir_sayi:\n",
    "        if x < gir_sayi and counter % 2 == 0:   \n",
    "            print(f\"{counter}:Loves Me\")\n",
    "            counter += 1\n",
    "            x += 1\n",
    "        elif x < gir_sayi and counter % 2 == 1:   \n",
    "            print(f\"{counter}:Loves Me Not\")\n",
    "            counter += 1\n",
    "            x += 1\n",
    "        elif x == gir_sayi and counter % 2 == 0:\n",
    "            print(f\"{counter}:Loves Me\".upper())\n",
    "            break\n",
    "        elif x == gir_sayi and counter % 2 == 1:\n",
    "            print(f\"{counter}:Loves Me Not\".upper())\n",
    "            break\n",
    "elif secim == 'n':\n",
    "    while x <= gir_sayi:\n",
    "        if x < gir_sayi and counter % 2 == 0:   \n",
    "            print(f\"{counter}:Loves Me Not\")\n",
    "            counter += 1\n",
    "            x += 1\n",
    "        elif x < gir_sayi and counter % 2 == 1:   \n",
    "            print(f\"{counter}:Loves Me\")\n",
    "            counter += 1\n",
    "            x += 1\n",
    "        elif x == gir_sayi and counter % 2 == 0:\n",
    "            print(f\"{counter}:Loves Me Not\".upper())\n",
    "            break\n",
    "        elif x == gir_sayi and counter % 2 == 1:\n",
    "            print(f\"{counter}:Loves Me\".upper())\n",
    "            break\n",
    "else:\n",
    "    print(\"Istenen verileri girmediniz. Tekrar deneyin\")"
   ]
  },
  {
   "attachments": {},
   "cell_type": "markdown",
   "id": "573a4d18",
   "metadata": {},
   "source": [
    "9 - Girilen bir sayının basanaklarını toplayan ve her seferinde oluşan yeni sayıya aynı işlemi yapan ve sonuç olarak tek basamaklı sayıya ulaşana kadar bu işlemi yapan ve işlemi kaç kere yaptığını döndüren bir fonksiyon yazın. \n",
    "\n",
    "Example\n",
    "\n",
    "input >> 142536\n",
    "process\n",
    "1 -  1+4+2+5+3+6 = 21\n",
    "2 -  2+1 = 3\n",
    "\n",
    "iki kere de işlem tamamlandı"
   ]
  },
  {
   "cell_type": "code",
   "execution_count": 8,
   "id": "e748c6ae",
   "metadata": {},
   "outputs": [
    {
     "data": {
      "text/plain": [
       "2"
      ]
     },
     "execution_count": 8,
     "metadata": {},
     "output_type": "execute_result"
    }
   ],
   "source": [
    "def tek_basamaga_dusur(sayi):\n",
    "    \n",
    "    x = str(sayi)\n",
    "    len_sayi = len(x)\n",
    "    sayac = 0\n",
    "    \n",
    "    while len_sayi != 1:\n",
    "        yeni_sayi = 0\n",
    "        for i in x:\n",
    "            yeni_sayi += int(i)\n",
    "        x = str(yeni_sayi)\n",
    "        len_sayi = len(x)\n",
    "        sayac += 1\n",
    "    \n",
    "    return sayac\n",
    "\n",
    "tek_basamaga_dusur(142536)\n",
    "             "
   ]
  },
  {
   "cell_type": "code",
   "execution_count": 10,
   "id": "8cf7cd20",
   "metadata": {},
   "outputs": [
    {
     "name": "stdout",
     "output_type": "stream",
     "text": [
      "en son yapılan işlemin sonucu : 3\n",
      "2 kere de işlem tamamlandı \n"
     ]
    }
   ],
   "source": [
    "def basamaklar_toplami(sayi):     # icardinin cozumu\n",
    "    sayaç = 0\n",
    "    while len(str(sayi)) > 1:\n",
    "        toplam = 0\n",
    "        for i in str(sayi):\n",
    "            toplam += int(i)\n",
    "        sayi = toplam\n",
    "        sayaç += 1\n",
    "    print(f\"en son yapılan işlemin sonucu : {toplam}\\n{sayaç} kere de işlem tamamlandı \")\n",
    "    \n",
    "basamaklar_toplami(142536)"
   ]
  },
  {
   "cell_type": "code",
   "execution_count": 173,
   "id": "3dd36d82",
   "metadata": {},
   "outputs": [
    {
     "name": "stdout",
     "output_type": "stream",
     "text": [
      "0 kere de islem tamamlandi\n"
     ]
    }
   ],
   "source": [
    "giril_sayi = input(\"bir sayi giriniz\")                                            # 7. sorunun cözümü Sungur\n",
    "sayac = 0\n",
    "toplam = 0\n",
    "\n",
    "while x == True: \n",
    "    for i in range(0, len(giril_sayi)):\n",
    "        toplam = int(giril_sayi[i]) + toplam\n",
    "    sayac += 1\n",
    "    print(f\"{sayac} - rakamlarin toplami {toplam}\")\n",
    "    giril_sayi = str(toplam)\n",
    "\n",
    "    break\n",
    "\n",
    "print(f\"{sayac} kere de islem tamamlandi\")    "
   ]
  },
  {
   "cell_type": "code",
   "execution_count": 166,
   "id": "6a417cc3",
   "metadata": {},
   "outputs": [
    {
     "name": "stdout",
     "output_type": "stream",
     "text": [
      "İşlem 2 kez yapıldı.\n"
     ]
    }
   ],
   "source": [
    "def sum_of_digits(number):\n",
    "    count = 0\n",
    "\n",
    "    while number >= 10:\n",
    "        digits_sum = 0\n",
    "        while number > 0:\n",
    "            digits_sum += number % 10\n",
    "            number //= 10\n",
    "\n",
    "        number = digits_sum\n",
    "        count += 1\n",
    "\n",
    "    return count\n",
    "\n",
    "# Örnek kullanım:\n",
    "number = 142536\n",
    "iteration_count = sum_of_digits(number)\n",
    "print(\"İşlem {} kez yapildi.\".format(iteration_count))"
   ]
  },
  {
   "cell_type": "code",
   "execution_count": 167,
   "id": "2e930384",
   "metadata": {},
   "outputs": [
    {
     "data": {
      "text/plain": [
       "2"
      ]
     },
     "execution_count": 167,
     "metadata": {},
     "output_type": "execute_result"
    }
   ],
   "source": [
    "sum_of_digits(142536)"
   ]
  },
  {
   "attachments": {},
   "cell_type": "markdown",
   "id": "f75b8f0f",
   "metadata": {},
   "source": [
    "10 - Write a function that sorts the odd numbers in ascending order that leaves the even numbers in their original positions in a given string of numbers.\n",
    "\n",
    "Example:\n",
    "\n",
    "[7, 1] => [1, 7]\n",
    "\n",
    "[5, 8, 6, 3, 4] => [3, 8, 6, 5, 4]\n",
    "\n",
    "[9, 8, 7, 6, 5, 4, 3, 2, 1, 0] => [1, 8, 3, 6, 5, 4, 7, 2, 9, 0]"
   ]
  },
  {
   "cell_type": "code",
   "execution_count": 19,
   "id": "9d37421c",
   "metadata": {},
   "outputs": [],
   "source": [
    "# [9, 8, 7, 6, 5, 4, 3, 2, 1, 0]\n",
    "def asc(liste):\n",
    "    \n",
    "    sorted_odd = sorted([i for i in liste if i % 2 == 1])\n",
    "    \n",
    "    sonuc = []\n",
    "    index = 0\n",
    "    \n",
    "    for i in liste:\n",
    "        \n",
    "        if i % 2 == 1:\n",
    "                    \n",
    "            sonuc.append(sorted_odd[index])\n",
    "            index += 1\n",
    "        \n",
    "        else:\n",
    "            sonuc.append(i)\n",
    "            \n",
    "    return sonuc"
   ]
  },
  {
   "cell_type": "code",
   "execution_count": 20,
   "id": "e33b9dc5",
   "metadata": {},
   "outputs": [
    {
     "data": {
      "text/plain": [
       "[2, 3, 8, 6, 5, 4]"
      ]
     },
     "execution_count": 20,
     "metadata": {},
     "output_type": "execute_result"
    }
   ],
   "source": [
    "asc([2, 5, 8, 6, 3, 4])"
   ]
  },
  {
   "cell_type": "code",
   "execution_count": null,
   "id": "00a515f8",
   "metadata": {},
   "outputs": [],
   "source": [
    "def odd_sort(numbers):   # murat beyin cozumu\n",
    "    \"\"\"Verilen bir sayı dizisindeki çift sayıları yerinde tutarken tek sayıları sıralı hale getirir.\"\"\"\n",
    "    evens = {}\n",
    "    for i in numbers:\n",
    "        if i%2==0:\n",
    "            evens[i] = numbers.index(i)\n",
    "    for i in numbers:\n",
    "        if i%2==0:    \n",
    "            numbers.remove(i)\n",
    "    numbers.sort()\n",
    "    \n",
    "    for i in evens:\n",
    "        numbers.insert(evens[i],i)\n",
    "    print(numbers)\n",
    "\n",
    "numbers = [9, 8, 7, 6, 5, 4, 3, 2, 1, 0]            \n",
    "odd_sort(numbers)"
   ]
  },
  {
   "cell_type": "code",
   "execution_count": null,
   "id": "1f0a57f9",
   "metadata": {},
   "outputs": [],
   "source": []
  },
  {
   "attachments": {},
   "cell_type": "markdown",
   "id": "0de6ca91",
   "metadata": {},
   "source": [
    "11 - bir fonksiyon yazın. İçerisine girilen string ifadenin her seferinde sırayla bir harfini büyük yazdırsın. Sonuç olarak liste döndürsün. Punctuation lar işleme dahil edilmemelidir.\n",
    "\n",
    "Example:\n",
    "input >> ankara\n",
    "\n",
    "output >> ['Ankara', 'aNkara', 'anKara', 'ankAra', 'ankaRa', 'ankarA']"
   ]
  },
  {
   "cell_type": "code",
   "execution_count": 16,
   "id": "802f13f2",
   "metadata": {},
   "outputs": [],
   "source": [
    "import string as st"
   ]
  },
  {
   "cell_type": "code",
   "execution_count": 22,
   "id": "23ea59c8",
   "metadata": {},
   "outputs": [
    {
     "data": {
      "text/plain": [
       "['Ankara', 'aNkara', 'anKara', 'ankAra', 'ankaRa', 'ankarA']"
      ]
     },
     "execution_count": 22,
     "metadata": {},
     "output_type": "execute_result"
    }
   ],
   "source": [
    "# soru11 cozum\n",
    "def sirayla_bir_buyuk(name):\n",
    "    name = name.lower()\n",
    "    \n",
    "    aa =  \"\".join([i for i in name if i in st.ascii_lowercase])\n",
    "\n",
    "    liste = []\n",
    "    \n",
    "    for i,j in zip(aa, range(len(aa))):\n",
    "        \n",
    "        liste.append(aa[:j] + aa[j].upper() + aa[j+1 :])\n",
    "    return liste\n",
    "\n",
    "sirayla_bir_buyuk(\"An&'karA723\")"
   ]
  },
  {
   "cell_type": "code",
   "execution_count": 20,
   "id": "c17eb4e6",
   "metadata": {},
   "outputs": [
    {
     "data": {
      "text/plain": [
       "['AnkArA', 'aNkara', 'anKara', 'AnkArA', 'ankaRa', 'AnkArA']"
      ]
     },
     "execution_count": 20,
     "metadata": {},
     "output_type": "execute_result"
    }
   ],
   "source": [
    "liste12=[]     # ilyas beyin cozumu :) kücük bir hata vawr\n",
    "def büyükHarf (kelime):\n",
    "    for i in range(0,len(kelime)):\n",
    "        yeni_kelime=kelime.replace(kelime[i], kelime[i].upper())\n",
    "        liste12.append(yeni_kelime)\n",
    "    return(liste12)\n",
    "\n",
    "büyükHarf(\"ankara\")"
   ]
  },
  {
   "cell_type": "code",
   "execution_count": 19,
   "id": "f072fb29",
   "metadata": {},
   "outputs": [
    {
     "data": {
      "text/plain": [
       "['Ankara', 'aNkara', 'anKara', 'ankAra', 'ankaRa', 'ankarA']"
      ]
     },
     "execution_count": 19,
     "metadata": {},
     "output_type": "execute_result"
    }
   ],
   "source": [
    "def siralibirharfbuyuk_1(kelime) :  # murat beyin cozumu\n",
    "     \n",
    "    if kelime.isalpha():\n",
    "        kelime = kelime.lower()\n",
    "        return [(kelime[:i] + kelime[i].upper() + kelime[i+1:]) for i in range(0,len(kelime))]\n",
    "    else:\n",
    "        return \"Hatalı giriş\"\n",
    "    \n",
    "siralibirharfbuyuk_1(\"ankara\")"
   ]
  },
  {
   "attachments": {},
   "cell_type": "markdown",
   "id": "1e98a1a3",
   "metadata": {},
   "source": [
    "12 - Write a function, which takes a non-negative integer (seconds) as input and returns the time in a human-readable format (HH:MM:SS)\n",
    "\n",
    "HH = hours, padded to 2 digits, range: 00 - 99\n",
    "MM = minutes, padded to 2 digits, range: 00 - 59\n",
    "SS = seconds, padded to 2 digits, range: 00 - 59\n",
    "The maximum time never exceeds 359999 (99:59:59)\n",
    "[bağlantı metni](https://www.codewars.com/kata/52685f7382004e774f0001f7)"
   ]
  },
  {
   "cell_type": "code",
   "execution_count": null,
   "id": "9c0eb1c8",
   "metadata": {},
   "outputs": [],
   "source": []
  },
  {
   "attachments": {},
   "cell_type": "markdown",
   "id": "3ecf0ab9",
   "metadata": {},
   "source": [
    "13 - Write a function scramble(str1, str2) that returns true if some of the str 1 characters can be rearranged to match str 2, false otherwise\n",
    "#Note >> Only lower case letters will be used (a-z). No punctuation or digits will be included.\n",
    "\n",
    "#Examples\n",
    "#scramble('rkqodlw', 'world') ==> True\n",
    "#scramble('katas', 'steak') ==> False"
   ]
  },
  {
   "cell_type": "code",
   "execution_count": 21,
   "id": "0d3f0772",
   "metadata": {},
   "outputs": [
    {
     "data": {
      "text/plain": [
       "True"
      ]
     },
     "execution_count": 21,
     "metadata": {},
     "output_type": "execute_result"
    }
   ],
   "source": [
    "## soru13 cozum1 \n",
    "def scremble(str1, str2):\n",
    "    set1 = set(str1)\n",
    "    count = 0\n",
    "    \n",
    "    for i in str2:\n",
    "        if i in set1:\n",
    "            count +=1\n",
    "        \n",
    "    if count == len(str2):\n",
    "        return True\n",
    "    else:\n",
    "        return False\n",
    "\n",
    "scremble(\"datascientist\", \"sedat\")"
   ]
  },
  {
   "cell_type": "code",
   "execution_count": 22,
   "id": "e9e2e590",
   "metadata": {},
   "outputs": [
    {
     "data": {
      "text/plain": [
       "True"
      ]
     },
     "execution_count": 22,
     "metadata": {},
     "output_type": "execute_result"
    }
   ],
   "source": [
    "## soru13 cozum2 \n",
    "def scremble2(str1, str2):\n",
    "    set1, set2 = set(str1), set(str2)\n",
    "    \n",
    "    return set2.issubset(set1)\n",
    "    \n",
    "scremble2(\"datascientist\", \"sedat\")\n",
    "    "
   ]
  },
  {
   "cell_type": "code",
   "execution_count": null,
   "id": "2e992a5e",
   "metadata": {},
   "outputs": [],
   "source": [
    "def scramble(str1,str2):  # murat beyin cozumu\n",
    "    if str1.isalpha() and str1.islower() and str2.isalpha() and str2.islower():\n",
    "        \n",
    "        for i in str2:\n",
    "            if i not in str1:\n",
    "                return False\n",
    "            \n",
    "        return True\n",
    "        \n",
    "    else:\n",
    "        return \"please use only lower case letters\"\n",
    "    \n",
    "print(scramble('rkqodlw', 'world'))\n",
    "print(scramble('katas', 'steak'))"
   ]
  },
  {
   "attachments": {},
   "cell_type": "markdown",
   "id": "c0900727",
   "metadata": {},
   "source": [
    "14 - 1 den 100 e kadar olan sayılardaki asal sayıları bulun. \n",
    "\n",
    "Output >>> [2, 3, 5, 7, 11, 13, 17, 19, 23, 29, 31, 37, 41, 43, 47, 53, 59, 61, 67, 71, 73, 79, 83, 89, 97]"
   ]
  },
  {
   "cell_type": "code",
   "execution_count": 27,
   "id": "5b6cc46c",
   "metadata": {},
   "outputs": [
    {
     "name": "stdout",
     "output_type": "stream",
     "text": [
      "asal sayilar [1, 11, 13, 17, 19, 23, 29, 31, 37, 41, 43, 47, 53, 59, 61, 67, 71, 73, 79, 83, 89, 97]\n"
     ]
    }
   ],
   "source": [
    "asal_sayilar = []                            # 14. sorunun cözümü Sungur\n",
    "\n",
    "for i in range(1, 101):          \n",
    "    if i % 2 != 0 and i % 3 != 0 and i % 5 != 0 and i % 7 != 0 :\n",
    "        asal_sayilar.append(i)\n",
    "print(\"asal sayilar\", asal_sayilar) "
   ]
  },
  {
   "attachments": {},
   "cell_type": "markdown",
   "id": "e8a6836f",
   "metadata": {},
   "source": [
    "15 - ```\n",
    "7- Once upon a time, on a way through the old wild mountainous west,…\n",
    "… a man was given directions to go from one point to another. The directions were \"NORTH\", \"SOUTH\", \"WEST\", \"EAST\". Clearly \"NORTH\" and \"SOUTH\" are opposite, \"WEST\" and \"EAST\" too.\n",
    "\n",
    "Going to one direction and coming back the opposite direction right away is a needless effort. Since this is the wild west, with dreadfull weather and not much water, it's important to save yourself some energy, otherwise you might die of thirst!\n",
    "\n",
    "How I crossed a mountainous desert the smart way.\n",
    "The directions given to the man are, for example, the following (depending on the language):\n",
    "\n",
    "[\"NORTH\", \"SOUTH\", \"SOUTH\", \"EAST\", \"WEST\", \"NORTH\", \"WEST\"].\n",
    "or\n",
    "{ \"NORTH\", \"SOUTH\", \"SOUTH\", \"EAST\", \"WEST\", \"NORTH\", \"WEST\" };\n",
    "or\n",
    "[North, South, South, East, West, North, West]\n",
    "You can immediatly see that going \"NORTH\" and immediately \"SOUTH\" is not reasonable, better stay to the same place! So the task is to give to the man a simplified version of the plan. A better plan in this case is simply:\n",
    "\n",
    "[\"WEST\"]\n",
    "or\n",
    "{ \"WEST\" }\n",
    "or\n",
    "[West]\n",
    "Other examples:\n",
    "In [\"NORTH\", \"SOUTH\", \"EAST\", \"WEST\"], the direction \"NORTH\" + \"SOUTH\" is going north and coming back right away.\n",
    "\n",
    "The path becomes [\"EAST\", \"WEST\"], now \"EAST\" and \"WEST\" annihilate each other, therefore, the final result is [] (nil in Clojure).\n",
    "\n",
    "In [\"NORTH\", \"EAST\", \"WEST\", \"SOUTH\", \"WEST\", \"WEST\"], \"NORTH\" and \"SOUTH\" are not directly opposite but they become directly opposite after the reduction of \"EAST\" and \"WEST\" so the whole path is reducible to [\"WEST\", \"WEST\"].\n",
    "\n",
    "Task\n",
    "Write a function dirReduc which will take an array of strings and returns an array of strings with the needless directions removed (W<->E or S<->N side by side).\n",
    "\n",
    "The Haskell version takes a list of directions with data Direction = North | East | West | South.\n",
    "The Clojure version returns nil when the path is reduced to nothing.\n",
    "The Rust version takes a slice of enum Direction {North, East, West, South}.\n",
    "See more examples in \"Sample Tests:\"\n",
    "Notes\n",
    "Not all paths can be made simpler. The path [\"NORTH\", \"WEST\", \"SOUTH\", \"EAST\"] is not reducible. \"NORTH\" and \"WEST\", \"WEST\" and \"SOUTH\", \"SOUTH\" and \"EAST\" are not directly opposite of each other and can't become such. Hence the result path is itself : [\"NORTH\", \"WEST\", \"SOUTH\", \"EAST\"].\n",
    "```"
   ]
  },
  {
   "cell_type": "code",
   "execution_count": 10,
   "id": "aecdf63c",
   "metadata": {},
   "outputs": [],
   "source": [
    "def yonler(liste):\n",
    "    \n",
    "    str_yonler = \"\".join([i[0] for i in liste]) \n",
    "    \n",
    "    while \"NS\" in str_yonler or \"SN\" in str_yonler or \"WE\" in str_yonler or \"EW\" in str_yonler:\n",
    "        str_yonler = str_yonler.replace(\"NS\",\"\").replace(\"SN\",\"\").replace(\"WE\",\"\").replace(\"EW\",\"\")\n",
    "    return str_yonler \n",
    "    "
   ]
  },
  {
   "cell_type": "code",
   "execution_count": 12,
   "id": "3d2d0236",
   "metadata": {},
   "outputs": [
    {
     "data": {
      "text/plain": [
       "'WW'"
      ]
     },
     "execution_count": 12,
     "metadata": {},
     "output_type": "execute_result"
    }
   ],
   "source": [
    "yonler([\"NORTH\", \"EAST\", \"WEST\", \"SOUTH\", \"WEST\", \"WEST\"])"
   ]
  }
 ],
 "metadata": {
  "kernelspec": {
   "display_name": "Python 3 (ipykernel)",
   "language": "python",
   "name": "python3"
  },
  "language_info": {
   "codemirror_mode": {
    "name": "ipython",
    "version": 3
   },
   "file_extension": ".py",
   "mimetype": "text/x-python",
   "name": "python",
   "nbconvert_exporter": "python",
   "pygments_lexer": "ipython3",
   "version": "3.11.4"
  }
 },
 "nbformat": 4,
 "nbformat_minor": 5
}
