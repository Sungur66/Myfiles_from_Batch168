{
 "cells": [
  {
   "cell_type": "markdown",
   "metadata": {},
   "source": [
    "### Polymorphism (cok bicimlilik)"
   ]
  },
  {
   "cell_type": "code",
   "execution_count": 1,
   "metadata": {},
   "outputs": [
    {
     "name": "stdout",
     "output_type": "stream",
     "text": [
      "Dikdortgencik alani: 20\n",
      "Ucgencik alani: 9.0\n"
     ]
    }
   ],
   "source": [
    "class Sekil:   #ana sinif\n",
    "    def __init__(self, ad):\n",
    "        self.ad = ad\n",
    "\n",
    "    def alan_hesapla(self):\n",
    "        pass\n",
    "\n",
    "class Dikdortgen(Sekil):\n",
    "    def __init__(self, ad, uzunluk, genislik):\n",
    "        super().__init__(ad) \n",
    "        self.uzunluk = uzunluk\n",
    "        self.genislik = genislik  \n",
    "\n",
    "    def alan_hesapla(self):\n",
    "        return self.uzunluk * self.genislik\n",
    "    \n",
    "class Ucgen(Sekil): \n",
    "    def __init__(self, ad, taban, yukseklik):\n",
    "        super().__init__(ad)\n",
    "        self.taban=taban\n",
    "        self.yukseklik=yukseklik\n",
    "\n",
    "    def alan_hesapla(self):\n",
    "        return 0.5 * self.taban * self.yukseklik   \n",
    "\n",
    "dikdortgen = Dikdortgen(\"Dikdortgencik\", 4 , 5)\n",
    "ucgen = Ucgen(\"Ucgencik\", 3, 6)\n",
    "\n",
    "sekil_listesi = [dikdortgen, ucgen]\n",
    "\n",
    "for sekil in sekil_listesi:\n",
    "    print(f\"{sekil.ad} alani: {sekil.alan_hesapla()}\")"
   ]
  },
  {
   "cell_type": "code",
   "execution_count": 2,
   "metadata": {},
   "outputs": [
    {
     "name": "stdout",
     "output_type": "stream",
     "text": [
      "Ali Kaya isimli yöneticinin toplam maasi : 51000\n",
      "Ayse kucuk isimli personelin toplam maasi : 40000\n",
      "Ahmet Kilic isimli personelin toplam maasi : 25000\n"
     ]
    }
   ],
   "source": [
    "class Calisan:\n",
    "    def __init__(self, ad, soyad):\n",
    "        self.ad = ad\n",
    "        self.soyad = soyad\n",
    "    \n",
    "    def maas_hesapla(self):\n",
    "        pass\n",
    "\n",
    "class Yonetici(Calisan):\n",
    "    def __init__(self, ad, soyad, maas, prim):\n",
    "        super().__init__(ad, soyad)\n",
    "        self.maas = maas\n",
    "        self.prim = prim\n",
    "        \n",
    "    def maas_hesapla(self):\n",
    "        maas_toplam = self.maas + self.prim\n",
    "        print(f\"{self.ad} {self.soyad} isimli yöneticinin toplam maasi : {maas_toplam}\")\n",
    "        \n",
    "class Personel(Calisan):\n",
    "    def __init__(self, ad, soyad, maas):\n",
    "        super().__init__(ad, soyad)\n",
    "        self.maas = maas\n",
    "        \n",
    "    def maas_hesapla(self):\n",
    "        print(f\"{self.ad} {self.soyad} isimli personelin toplam maasi : {self.maas}\")\n",
    "        \n",
    "calisanlar = [\n",
    "    Yonetici(\"Ali\", \"Kaya\", 50000, 1000),\n",
    "    Personel(\"Ayse\", \"kucuk\", 40000),\n",
    "    Personel(\"Ahmet\", \"Kilic\", 25000)\n",
    "              ]\n",
    "\n",
    "for calisan in calisanlar:\n",
    "    calisan.maas_hesapla()"
   ]
  },
  {
   "cell_type": "code",
   "execution_count": 12,
   "metadata": {},
   "outputs": [
    {
     "name": "stdout",
     "output_type": "stream",
     "text": [
      "mehmet ali isimli yöneticinin performansi degerlendiriliyor..\n",
      "Burak yigit isimli personelin performansi degerlendiriliyor..\n",
      "Veli akkus isimli personelin performansi degerlendiriliyor..\n"
     ]
    },
    {
     "ename": "TypeError",
     "evalue": "'float' object is not callable",
     "output_type": "error",
     "traceback": [
      "\u001b[1;31m---------------------------------------------------------------------------\u001b[0m",
      "\u001b[1;31mTypeError\u001b[0m                                 Traceback (most recent call last)",
      "Cell \u001b[1;32mIn[12], line 46\u001b[0m\n\u001b[0;32m     43\u001b[0m cal3 \u001b[39m=\u001b[39m Yonetici(\u001b[39m\"\u001b[39m\u001b[39mmehmet\u001b[39m\u001b[39m\"\u001b[39m, \u001b[39m\"\u001b[39m\u001b[39mali\u001b[39m\u001b[39m\"\u001b[39m, \u001b[39m45000\u001b[39m, [cal1, cal2])\n\u001b[0;32m     45\u001b[0m cal3\u001b[39m.\u001b[39mperformans_degerlendirme()\n\u001b[1;32m---> 46\u001b[0m cal3\u001b[39m.\u001b[39;49mprim_hesapla()\n\u001b[0;32m     47\u001b[0m cal1\u001b[39m.\u001b[39mzam_hesapla()       \n",
      "Cell \u001b[1;32mIn[12], line 28\u001b[0m, in \u001b[0;36mYonetici.prim_hesapla\u001b[1;34m(self)\u001b[0m\n\u001b[0;32m     25\u001b[0m     toplam_maas \u001b[39m+\u001b[39m\u001b[39m=\u001b[39m alt_calisan\u001b[39m.\u001b[39mmaas\n\u001b[0;32m     27\u001b[0m prim \u001b[39m=\u001b[39m toplam_maas \u001b[39m*\u001b[39m \u001b[39m0.1\u001b[39m\n\u001b[1;32m---> 28\u001b[0m prim(\u001b[39mf\u001b[39;49m\u001b[39m\"\u001b[39;49m\u001b[39m{\u001b[39;49;00m\u001b[39mself\u001b[39;49m\u001b[39m.\u001b[39;49mad\u001b[39m}\u001b[39;49;00m\u001b[39m \u001b[39;49m\u001b[39m{\u001b[39;49;00m\u001b[39mself\u001b[39;49m\u001b[39m.\u001b[39;49msoyad\u001b[39m}\u001b[39;49;00m\u001b[39m isimli yöneticiye \u001b[39;49m\u001b[39m{\u001b[39;49;00mprim\u001b[39m}\u001b[39;49;00m\u001b[39m odenecek.\u001b[39;49m\u001b[39m\"\u001b[39;49m)\n",
      "\u001b[1;31mTypeError\u001b[0m: 'float' object is not callable"
     ]
    }
   ],
   "source": [
    "class Calisan:\n",
    "    def __init__(self, ad, soyad, maas):\n",
    "        self.ad = ad\n",
    "        self.soyad = soyad\n",
    "        self.maas = maas\n",
    "        \n",
    "    def performans_degerlendirme(self):\n",
    "        pass\n",
    "\n",
    "class Yonetici(Calisan):\n",
    "    def __init__(self, ad, soyad, maas, alt_calisanlar):\n",
    "        super().__init__(ad, soyad, maas)\n",
    "        self.alt_calisanlar = alt_calisanlar\n",
    "        \n",
    "    def performans_degerlendirme(self):\n",
    "        print(f\"{self.ad} {self.soyad} isimli yöneticinin performansi degerlendiriliyor..\")\n",
    "        \n",
    "        for alt_calisanlar in self.alt_calisanlar:\n",
    "            alt_calisanlar.performans_degerlendirme()\n",
    "            \n",
    "    def prim_hesapla(self):\n",
    "        toplam_maas = self.maas\n",
    "        \n",
    "        for alt_calisan in self.alt_calisanlar:\n",
    "            toplam_maas += alt_calisan.maas\n",
    "        \n",
    "        prim = toplam_maas * 0.1\n",
    "        prim(f\"{self.ad} {self.soyad} isimli yöneticiye {prim} odenecek.\")\n",
    "        \n",
    "class Personel(Calisan):\n",
    "    def __init__(self, ad, soyad, maas):\n",
    "        super().__init__(ad, soyad, maas)\n",
    "    \n",
    "    def performans_degerlendirme(self):\n",
    "        print(f\"{self.ad} {self.soyad} isimli personelin performansi degerlendiriliyor..\")\n",
    "        \n",
    "    def zam_hesapla(self):\n",
    "        zam_orani = self.maas * 0.05\n",
    "        print(f\"{self.ad} {self.soyad} isimli personele {zam_orani} miktar zam yapilacak.\")       \n",
    "        \n",
    "cal1 = Personel(\"Burak\", \"yigit\", 30000) \n",
    "cal2 = Personel(\"Veli\", \"akkus\", 32000)\n",
    "cal3 = Yonetici(\"mehmet\", \"ali\", 45000, [cal1, cal2])\n",
    "\n",
    "cal3.performans_degerlendirme()\n",
    "cal3.prim_hesapla()\n",
    "cal1.zam_hesapla()       \n",
    "        "
   ]
  },
  {
   "cell_type": "code",
   "execution_count": 9,
   "metadata": {},
   "outputs": [
    {
     "name": "stdout",
     "output_type": "stream",
     "text": [
      "Mehmet Duran isimli yöneticinin performansı değerlendiriliyor...\n",
      "Burak Yiğit isimli çalışanın performansı değerlendiriliyor...\n",
      "Gönül Yardımcı isimli çalışanın performansı değerlendiriliyor...\n",
      "Mehmet Duran isimli yöneticiye 11200.0 TL prim ödenecek.\n",
      "Burak Yiğit isimli personele 1500.0 TL zam yapılacak.\n"
     ]
    }
   ],
   "source": [
    "class Calisan:                            # hocanin kodlari\n",
    "    def __init__(self, ad, soyad, maas):\n",
    "        self.ad = ad\n",
    "        self.soyad = soyad\n",
    "        self.maas = maas\n",
    "        \n",
    "    def performans_degerlendirme(self):\n",
    "        pass\n",
    "    \n",
    "class Yonetici(Calisan):\n",
    "    def __init__(self, ad, soyad, maas, alt_calisanlar):\n",
    "        super().__init__(ad, soyad, maas)\n",
    "        self.alt_calisanlar = alt_calisanlar\n",
    "\n",
    "    def performans_degerlendirme(self):\n",
    "        print(f\"{self.ad} {self.soyad} isimli yöneticinin performansı değerlendiriliyor...\")\n",
    "\n",
    "        for alt_calisan in self.alt_calisanlar:\n",
    "            alt_calisan.performans_degerlendirme()\n",
    "\n",
    "    def prim_hesapla(self):\n",
    "        toplam_maas = self.maas\n",
    "\n",
    "        for alt_calisan in self.alt_calisanlar:\n",
    "            toplam_maas += alt_calisan.maas\n",
    "\n",
    "        prim = toplam_maas * 0.1\n",
    "\n",
    "        print(f\"{self.ad} {self.soyad} isimli yöneticiye {prim} TL prim ödenecek.\")\n",
    "\n",
    "    \n",
    "class Personel(Calisan):\n",
    "    def __init__(self, ad, soyad, maas):\n",
    "        super().__init__(ad, soyad, maas)\n",
    "\n",
    "    def performans_degerlendirme(self):\n",
    "        print(f\"{self.ad} {self.soyad} isimli çalışanın performansı değerlendiriliyor...\")\n",
    "\n",
    "    def zam_hesapla(self):\n",
    "        zam_orani = self.maas * 0.05\n",
    "        print(f\"{self.ad} {self.soyad} isimli personele {zam_orani} TL zam yapılacak.\")\n",
    "\n",
    "    \n",
    "calisan1 = Personel(\"Burak\", \"Yiğit\", 30000)\n",
    "calisan2 = Personel(\"Gönül\", \"Yardımcı\", 32000)\n",
    "calisan3 = Yonetici(\"Mehmet\", \"Duran\", 50000, [calisan1, calisan2])\n",
    "\n",
    "calisan3.performans_degerlendirme()\n",
    "calisan3.prim_hesapla()\n",
    "calisan1.zam_hesapla()"
   ]
  },
  {
   "cell_type": "code",
   "execution_count": 16,
   "metadata": {},
   "outputs": [
    {
     "name": "stdout",
     "output_type": "stream",
     "text": [
      "20\n"
     ]
    }
   ],
   "source": [
    "class Stack:\n",
    "    def __init__(self):\n",
    "        self.items = []\n",
    "        \n",
    "    def push(self, item):\n",
    "        self.items.append(item)\n",
    "        \n",
    "    def pop(self):\n",
    "        return self.items.pop()\n",
    "    \n",
    "stack = Stack()\n",
    "stack.push(10)\n",
    "stack.push(20)\n",
    "\n",
    "print(stack.pop())"
   ]
  },
  {
   "cell_type": "markdown",
   "metadata": {},
   "source": [
    "***@abstractmethod***, Python'da soyut metotları tanımlamak için kullanılan bir dekoratördür. Soyut metotlar, bir üst sınıfta tanımlanırken alt sınıflar tarafından uygulanması gereken metotlardır. Soyut metotlar, üst sınıfta sadece metot imzasını (method signature) belirtirken, alt sınıflarda tamamlanması gereken özel işlevleri sağlamak için kullanılır."
   ]
  },
  {
   "cell_type": "code",
   "execution_count": 17,
   "metadata": {},
   "outputs": [
    {
     "name": "stdout",
     "output_type": "stream",
     "text": [
      "20\n"
     ]
    }
   ],
   "source": [
    "from abc import ABC, abstractmethod\n",
    "\n",
    "class Sekil(ABC):\n",
    "    @abstractmethod\n",
    "    def alan(self):\n",
    "        pass\n",
    "\n",
    "class Dikdortgen(Sekil):\n",
    "    def __init__(self, en, boy):\n",
    "        self.en = en\n",
    "        self.boy = boy\n",
    "        \n",
    "    def alan(self):\n",
    "        return self.en * self.boy\n",
    "\n",
    "dikdortgen = Dikdortgen(4, 5)\n",
    "\n",
    "print(dikdortgen.alan())\n",
    "        "
   ]
  },
  {
   "cell_type": "code",
   "execution_count": 9,
   "metadata": {},
   "outputs": [
    {
     "name": "stdout",
     "output_type": "stream",
     "text": [
      "LG urununden 100 adet stokta bulunmaktadir\n",
      "Piyale ürününden 1000 adet stokta bulunmaktadir\n",
      "LG urunu icin guncelleme yapildi. Stokta 150\n",
      "Piyale ürürünün stok güncellemesi yapildi. Yeni stok: 975\n"
     ]
    }
   ],
   "source": [
    "from abc import ABC, abstractmethod\n",
    "\n",
    "class Urun(ABC):\n",
    "    def __init__(self, ad, fiyat):\n",
    "        self.ad = ad\n",
    "        self.fiyat = fiyat\n",
    "    \n",
    "    @abstractmethod\n",
    "    def stok_durumu(self):\n",
    "        pass\n",
    "    \n",
    "    @abstractmethod\n",
    "    def stok_guncelle(self, miktar):\n",
    "        pass\n",
    "    \n",
    "class Elektronik(Urun):\n",
    "    def __init__(self, ad, fiyat, stok):\n",
    "        super().__init__(ad, fiyat)\n",
    "        self.stok = stok\n",
    "        \n",
    "    def stok_durumu(self):\n",
    "        if self.stok > 0:\n",
    "            print(f\"{self.ad} urununden {self.stok} adet stokta bulunmaktadir\")\n",
    "        else:\n",
    "            print(f\"{self.ad} urunu stokta bulunmaktadir\")\n",
    "            \n",
    "    def stok_guncelle(self, miktar):\n",
    "        self.stok += miktar\n",
    "        print(f\"{self.ad} urunu icin guncelleme yapildi. Stokta {self.stok}\")\n",
    "        \n",
    "class Gida(Urun):\n",
    "    \n",
    "    def __init__(self, ad, fiyat, stok):\n",
    "        super().__init__(ad, fiyat)\n",
    "        self.stok = stok\n",
    "        \n",
    "    def stok_durumu(self):\n",
    "        if self.stok > 0:\n",
    "            print(f\"{self.ad} ürününden {self.stok} adet stokta bulunmaktadir\")\n",
    "        else:\n",
    "            print(f\"{self.ad} ürünü stokta bulunmamaktadir\")\n",
    "\n",
    "    def stok_guncelle(self, miktar):\n",
    "        self.stok += miktar\n",
    "        print(f\"{self.ad} ürürünün stok güncellemesi yapildi. Yeni stok: {self.stok}\")\n",
    "\n",
    "televizyon = Elektronik(\"LG\", 30000, 100)\n",
    "makarna = Gida(\"Piyale\", 5, 1000)\n",
    "\n",
    "televizyon.stok_durumu()\n",
    "makarna.stok_durumu()\n",
    "        \n",
    "televizyon.stok_guncelle(50)\n",
    "makarna.stok_guncelle(-25)\n",
    "        \n",
    "    "
   ]
  },
  {
   "cell_type": "code",
   "execution_count": 20,
   "metadata": {},
   "outputs": [
    {
     "name": "stdout",
     "output_type": "stream",
     "text": [
      "LG ürününden 100 adet stokta bulunmaktadır\n",
      "Piyale ürününden 1000 adet stokta bulunmaktadır\n",
      "LG ürürünün stok güncellemesi yapıldı. Yeni stok: 150\n",
      "Piyale ürürünün stok güncellemesi yapıldı. Yeni stok: 975\n"
     ]
    }
   ],
   "source": [
    "from abc import ABC, abstractmethod   # hocadan gelen\n",
    "\n",
    "class Urun(ABC):\n",
    "    def __init__(self, ad, fiyat):\n",
    "        self.ad = ad\n",
    "        self.fiyat = fiyat\n",
    "\n",
    "    @abstractmethod\n",
    "    def stok_durumu(self):\n",
    "        pass\n",
    "\n",
    "    @abstractmethod\n",
    "    def stok_guncelle(self, miktar):\n",
    "        pass\n",
    "\n",
    "class Elektronik(Urun):\n",
    "    def __init__(self, ad, fiyat, stok):\n",
    "        super().__init__(ad, fiyat)\n",
    "        self.stok = stok\n",
    "\n",
    "    def stok_durumu(self):\n",
    "        if self.stok > 0:\n",
    "            print(f\"{self.ad} ürününden {self.stok} adet stokta bulunmaktadır\")\n",
    "        else:\n",
    "            print(f\"{self.ad} ürünü stokta bulunmamaktadır\")\n",
    "        \n",
    "    def stok_guncelle(self, miktar):\n",
    "        self.stok += miktar\n",
    "        print(f\"{self.ad} ürürünün stok güncellemesi yapıldı. Yeni stok: {self.stok}\")\n",
    "\n",
    "\n",
    "class Gida(Urun):\n",
    "\n",
    "    def __init__(self, ad, fiyat, stok):\n",
    "        super().__init__(ad, fiyat)\n",
    "        self.stok = stok\n",
    "    \n",
    "    def stok_durumu(self):\n",
    "        if self.stok > 0:\n",
    "            print(f\"{self.ad} ürününden {self.stok} adet stokta bulunmaktadır\")\n",
    "        else:\n",
    "            print(f\"{self.ad} ürünü stokta bulunmamaktadır\")\n",
    "\n",
    "    def stok_guncelle(self, miktar):\n",
    "        self.stok += miktar\n",
    "        print(f\"{self.ad} ürürünün stok güncellemesi yapıldı. Yeni stok: {self.stok}\")\n",
    "\n",
    "televizyon = Elektronik(\"LG\", 30000, 100)\n",
    "makarna = Gida(\"Piyale\", 5, 1000)\n",
    "\n",
    "televizyon.stok_durumu()\n",
    "makarna.stok_durumu()\n",
    "        \n",
    "televizyon.stok_guncelle(50)\n",
    "makarna.stok_guncelle(-25)"
   ]
  },
  {
   "cell_type": "markdown",
   "metadata": {},
   "source": [
    "# Encapsulation (Kapsülleme)\n",
    "\n",
    "kullanicinin verilere kontrollü bir sekilde ulasmasi ve degistirebilmesini saglar. \n",
    "__maas gibi kullanilir. get_maas veya set_maas diye kullanilabilir"
   ]
  },
  {
   "cell_type": "code",
   "execution_count": 3,
   "metadata": {},
   "outputs": [
    {
     "name": "stdout",
     "output_type": "stream",
     "text": [
      "isim Ahmet\n",
      "Soyisim kaleli\n",
      "Exam 1 75\n",
      "Exam 2 82\n",
      "Exam 1 90\n"
     ]
    }
   ],
   "source": [
    "class RegisterCourse:\n",
    "    def __init__(self, name, surname, exam1, exam2):\n",
    "        self.name = name\n",
    "        self.surname = surname\n",
    "        self.exam1 = exam1\n",
    "        self.exam2 = exam2\n",
    "        \n",
    "register = RegisterCourse(\"Ahmet\", \"kaleli\", 75, 82)\n",
    "    \n",
    "print(\"isim\", register.name)\n",
    "print(\"Soyisim\", register.surname)\n",
    "print(\"Exam 1\", register.exam1)\n",
    "print(\"Exam 2\", register.exam2)\n",
    "    \n",
    "register.exam1 = 90\n",
    "    \n",
    "print(\"Exam 1\", register.exam1)\n"
   ]
  },
  {
   "cell_type": "code",
   "execution_count": 8,
   "metadata": {},
   "outputs": [
    {
     "name": "stdout",
     "output_type": "stream",
     "text": [
      "isim Ahmet\n",
      "Soyisim kaleli\n",
      "Exam 1 75\n",
      "Exam 1 96\n"
     ]
    },
    {
     "ename": "AttributeError",
     "evalue": "'RegisterCourse' object has no attribute 'exam2'",
     "output_type": "error",
     "traceback": [
      "\u001b[1;31m---------------------------------------------------------------------------\u001b[0m",
      "\u001b[1;31mAttributeError\u001b[0m                            Traceback (most recent call last)",
      "Cell \u001b[1;32mIn[8], line 22\u001b[0m\n\u001b[0;32m     20\u001b[0m \u001b[39mprint\u001b[39m(\u001b[39m\"\u001b[39m\u001b[39mExam 1\u001b[39m\u001b[39m\"\u001b[39m, register\u001b[39m.\u001b[39mget_sinav())\n\u001b[0;32m     21\u001b[0m \u001b[39mprint\u001b[39m(\u001b[39m\"\u001b[39m\u001b[39mExam 1\u001b[39m\u001b[39m\"\u001b[39m, register\u001b[39m.\u001b[39mset_sinav(\u001b[39m96\u001b[39m))\n\u001b[1;32m---> 22\u001b[0m \u001b[39mprint\u001b[39m(\u001b[39m\"\u001b[39m\u001b[39mExam 2\u001b[39m\u001b[39m\"\u001b[39m, register\u001b[39m.\u001b[39;49mexam2)\n\u001b[0;32m     24\u001b[0m register\u001b[39m.\u001b[39mexam1 \u001b[39m=\u001b[39m \u001b[39m90\u001b[39m\n\u001b[0;32m     26\u001b[0m \u001b[39mprint\u001b[39m(\u001b[39m\"\u001b[39m\u001b[39mExam 1\u001b[39m\u001b[39m\"\u001b[39m, register\u001b[39m.\u001b[39mexam1)\n",
      "\u001b[1;31mAttributeError\u001b[0m: 'RegisterCourse' object has no attribute 'exam2'"
     ]
    }
   ],
   "source": [
    "class RegisterCourse:\n",
    "    def __init__(self, name, surname, exam1, exam2):\n",
    "        self.name = name\n",
    "        self.surname = surname\n",
    "        self.__exam1 = exam1\n",
    "        self.__exam2 = exam2\n",
    "        \n",
    "        \n",
    "    def get_sinav(self):\n",
    "        return (self.__exam1)\n",
    "    \n",
    "    def set_sinav(self, note):\n",
    "        self.__exam1 = note\n",
    "        return self.__exam1\n",
    "    \n",
    "register = RegisterCourse(\"Ahmet\", \"kaleli\", 75, 82)\n",
    "    \n",
    "print(\"isim\", register.name)\n",
    "print(\"Soyisim\", register.surname)\n",
    "print(\"Exam 1\", register.get_sinav())\n",
    "print(\"Exam 1\", register.set_sinav(96))\n",
    "\n",
    "\n",
    "print(\"Exam 2\", register.exam2)\n",
    "    \n",
    "register.exam1 = 90\n",
    "    \n",
    "print(\"Exam 1\", register.exam1)\n"
   ]
  },
  {
   "cell_type": "code",
   "execution_count": null,
   "metadata": {},
   "outputs": [],
   "source": []
  }
 ],
 "metadata": {
  "kernelspec": {
   "display_name": "Python 3",
   "language": "python",
   "name": "python3"
  },
  "language_info": {
   "codemirror_mode": {
    "name": "ipython",
    "version": 3
   },
   "file_extension": ".py",
   "mimetype": "text/x-python",
   "name": "python",
   "nbconvert_exporter": "python",
   "pygments_lexer": "ipython3",
   "version": "3.11.4"
  },
  "orig_nbformat": 4
 },
 "nbformat": 4,
 "nbformat_minor": 2
}
