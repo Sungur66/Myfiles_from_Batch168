{
 "cells": [
  {
   "cell_type": "markdown",
   "metadata": {},
   "source": [
    "# OOP - Objekt Oriented Projekt\n",
    "\n",
    "Phyon da Nesne Yönelimli Programlamlamaya Giris\n",
    "\n",
    "* Nesne tabanli Programlama, verileri ve yöntemleri temsil etmek icin \"nesneler\" fikrini kullanan bir programlama yöntemidir\n",
    "\n",
    "* Ayrica, gereksiz kod yerine düzgün ve yeniden kullanilabilir bir kod olusturmak icin kullanilir\n",
    "\n",
    "OOP = > Assagidan yukariya bir yaklasimdir, Program nesnelere ayrilmistir, \"Public\" - \"Private\" - \"Protected\" erisim degistiricilerini kullanir, daha güvenli, Nesne üye islevler icinde serbestce hareket edebilir, kalitim destekler"
   ]
  },
  {
   "cell_type": "markdown",
   "metadata": {},
   "source": [
    "Siniflar ve Nesneler nedir?\n",
    "\n",
    "<> Class : bir sinif, bir nesneler kolleksiyonudur veya ortak nitelikleri ve davranisi tanimlayan bir nesneler planidir"
   ]
  },
  {
   "cell_type": "code",
   "execution_count": 3,
   "metadata": {},
   "outputs": [],
   "source": [
    "class Employee():\n",
    "    def __init__(self, name, age, id, salary): # creating a function\n",
    "        self.name = name                      # self is an instance of a class\n",
    "        self.age = age\n",
    "        self.id = id\n",
    "        self.salary = salary"
   ]
  },
  {
   "cell_type": "code",
   "execution_count": 8,
   "metadata": {},
   "outputs": [
    {
     "name": "stdout",
     "output_type": "stream",
     "text": [
      "{'name': 'Name1', 'age': 22, 'id': 1000, 'salary': 1234}\n",
      "{'name': 'Name2', 'age': 23, 'id': 1500, 'salary': 4567}\n"
     ]
    }
   ],
   "source": [
    "emp1 = Employee(\"Name1\", 22, 1000, 1234)  # creating objects\n",
    "emp2 = Employee(\"Name2\", 23, 1500, 4567)\n",
    "\n",
    "print(emp1.__dict__)     #print dictionary\n",
    "print(emp2.__dict__)"
   ]
  },
  {
   "cell_type": "code",
   "execution_count": 9,
   "metadata": {},
   "outputs": [
    {
     "name": "stdout",
     "output_type": "stream",
     "text": [
      "<class 'int'>\n"
     ]
    }
   ],
   "source": [
    "x = 5\n",
    "print(type(x))"
   ]
  },
  {
   "cell_type": "code",
   "execution_count": 10,
   "metadata": {},
   "outputs": [],
   "source": [
    "emp1 = {\"ad\" : \"Osman\", \"soyad\" : \"Kaya\", \"salary\" : 2000, \"id\" : 4563} # yerine class tanimlanip kolaylastirilir"
   ]
  },
  {
   "cell_type": "markdown",
   "metadata": {},
   "source": [
    "\"ad\" : \"Osman\", bu bir 'instance' mis "
   ]
  },
  {
   "cell_type": "code",
   "execution_count": 11,
   "metadata": {},
   "outputs": [
    {
     "name": "stdout",
     "output_type": "stream",
     "text": [
      "<class '__main__.Personel'>\n",
      "<__main__.Personel object at 0x0000018074F0ACD0>\n",
      "<__main__.Personel object at 0x0000018074F0A410>\n"
     ]
    }
   ],
   "source": [
    "class Personel:\n",
    "    pass\n",
    "\n",
    "per_1 = Personel()\n",
    "per_2 = Personel()\n",
    "\n",
    "print(Personel)\n",
    "print(per_1)\n",
    "print(per_2)"
   ]
  },
  {
   "cell_type": "code",
   "execution_count": 12,
   "metadata": {},
   "outputs": [
    {
     "name": "stdout",
     "output_type": "stream",
     "text": [
      "<class '__main__.Personel'>\n",
      "<__main__.Personel object at 0x0000018074379010>\n",
      "<__main__.Personel object at 0x0000018074378250>\n"
     ]
    }
   ],
   "source": [
    "class Personel:\n",
    "    pass\n",
    "\n",
    "per_1 = Personel()\n",
    "per_2 = Personel()\n",
    "\n",
    "per_1.isim = \"Ahmet\"\n",
    "per_1.soyisim = \"Kaya\"\n",
    "per_1.eposta = \"ahmet.kaya@firma.com\"\n",
    "\n",
    "print(Personel)\n",
    "print(per_1)\n",
    "print(per_2)"
   ]
  },
  {
   "cell_type": "code",
   "execution_count": 13,
   "metadata": {},
   "outputs": [
    {
     "name": "stdout",
     "output_type": "stream",
     "text": [
      "<__main__.Personel object at 0x0000018074355990>\n",
      "<__main__.Personel object at 0x0000018074ECD050>\n",
      "ahmet.kaya@firma.com\n",
      "meltem.altin@firma.com\n"
     ]
    }
   ],
   "source": [
    "class Personel:\n",
    "    pass\n",
    "\n",
    "per_1 = Personel()\n",
    "per_2 = Personel()\n",
    "\n",
    "per_1.isim = \"Ahmet\"\n",
    "per_1.soyisim = \"Kaya\"\n",
    "per_1.eposta = \"ahmet.kaya@firma.com\"\n",
    "\n",
    "per_2.isim = \"Meltem\"\n",
    "per_2.soyisim = \"Altin\"\n",
    "per_2.eposta = \"meltem.altin@firma.com\"\n",
    "\n",
    "print(per_1)\n",
    "print(per_2)\n",
    "print(per_1.eposta)\n",
    "print(per_2.eposta)"
   ]
  },
  {
   "cell_type": "code",
   "execution_count": 18,
   "metadata": {},
   "outputs": [
    {
     "name": "stdout",
     "output_type": "stream",
     "text": [
      "Esma\n",
      "Sert\n",
      "45000\n",
      "esma.sert@firma.com\n",
      "------------------\n",
      "Marry\n",
      "Smith\n",
      "35000\n",
      "marry.smith@firma.com\n"
     ]
    }
   ],
   "source": [
    "class Personel:\n",
    "    def tanimla(self, isim, soyisim, maas):\n",
    "        self.ad = isim\n",
    "        self.soyad = soyisim\n",
    "        self.price = maas\n",
    "        self.eposta = f\"{isim.lower()}.{soyisim.lower()}@firma.com\"\n",
    "        return self\n",
    "        \n",
    "per1 = Personel().tanimla(isim = \"Esma\", soyisim = \"Sert\", maas = 45000)\n",
    "per2 = Personel().tanimla(\"Marry\",\"Smith\",35000)\n",
    "\n",
    "print(per1.ad)\n",
    "print(per1.soyad)\n",
    "print(per1.price)\n",
    "print(per1.eposta)\n",
    "print (\"------------------\")\n",
    "print(per2.ad)\n",
    "print(per2.soyad)\n",
    "print(per2.price)\n",
    "print(per2.eposta)\n"
   ]
  },
  {
   "cell_type": "code",
   "execution_count": 20,
   "metadata": {},
   "outputs": [
    {
     "name": "stdout",
     "output_type": "stream",
     "text": [
      "Esma1\n",
      "Sert1\n",
      "45000\n",
      "esma1.sert1@firma.com\n",
      "------------------\n",
      "Marry1\n",
      "Smith1\n",
      "35000\n",
      "marry1.smith1@firma.com\n"
     ]
    }
   ],
   "source": [
    "class Personel:\n",
    "    def __init__(self, isim, soyisim, maas):\n",
    "        self.ad = isim\n",
    "        self.soyad = soyisim\n",
    "        self.price = maas\n",
    "        self.eposta = f\"{isim.lower()}.{soyisim.lower()}@firma.com\"\n",
    "        \n",
    "per1 = Personel(isim = \"Esma1\", soyisim = \"Sert1\", maas = 45000)\n",
    "per2 = Personel(\"Marry1\",\"Smith1\",35000)\n",
    "\n",
    "print(per1.ad)\n",
    "print(per1.soyad)\n",
    "print(per1.price)\n",
    "print(per1.eposta)\n",
    "print (\"------------------\")\n",
    "print(per2.ad)\n",
    "print(per2.soyad)\n",
    "print(per2.price)\n",
    "print(per2.eposta)        \n",
    "        "
   ]
  },
  {
   "cell_type": "code",
   "execution_count": 21,
   "metadata": {},
   "outputs": [
    {
     "name": "stdout",
     "output_type": "stream",
     "text": [
      "Esma2\n",
      "Sert2\n",
      "45000\n",
      "esma2.sert2@firma.com\n",
      "------------------\n",
      "Marry2\n",
      "Smith2\n",
      "35000\n",
      "marry2.smith2@firma.com\n"
     ]
    }
   ],
   "source": [
    "class Personel1:\n",
    "    def __init__(nesne, isim, soyisim, maas):   # self yerine \"nesne\" yazabiliriz ama phyton da self kullanmaliyiz\n",
    "        nesne.ad = isim\n",
    "        nesne.soyad = soyisim\n",
    "        nesne.price = maas\n",
    "        nesne.eposta = f\"{isim.lower()}.{soyisim.lower()}@firma.com\"\n",
    "        \n",
    "per1 = Personel1(isim = \"Esma2\", soyisim = \"Sert2\", maas = 45000)\n",
    "per2 = Personel1(\"Marry2\",\"Smith2\",35000)\n",
    "\n",
    "print(per1.ad)\n",
    "print(per1.soyad)\n",
    "print(per1.price)\n",
    "print(per1.eposta)\n",
    "print (\"------------------\")\n",
    "print(per2.ad)\n",
    "print(per2.soyad)\n",
    "print(per2.price)\n",
    "print(per2.eposta) "
   ]
  },
  {
   "cell_type": "code",
   "execution_count": 24,
   "metadata": {},
   "outputs": [
    {
     "name": "stdout",
     "output_type": "stream",
     "text": [
      "Esma3 Sert3\n",
      "Marry3 Smith3\n",
      "%%%%%%%%%%%%%%%%%\n",
      "Esma3 Sert3\n",
      "Marry3 Smith3\n"
     ]
    }
   ],
   "source": [
    "class Personel2:\n",
    "    def __init__(self, isim, soyisim, maas):\n",
    "        self.ad = isim\n",
    "        self.soyad = soyisim\n",
    "        self.price = maas\n",
    "        self.eposta = f\"{isim.lower()}.{soyisim.lower()}@firma.com\"\n",
    "        \n",
    "    def tam_isim(self):\n",
    "        return f\"{self.ad} {self.soyad}\"\n",
    "    \n",
    "per1 = Personel2(isim = \"Esma3\", soyisim = \"Sert3\", maas = 45000)\n",
    "per2 = Personel2(\"Marry3\",\"Smith3\",35000)\n",
    "\n",
    "print(per1.tam_isim())\n",
    "print(per2.tam_isim())\n",
    "print(\"%%%%%%%%%%%%%%%%%\")\n",
    "print(Personel2.tam_isim(per1))\n",
    "print(Personel2.tam_isim(per2))\n",
    "    "
   ]
  },
  {
   "cell_type": "code",
   "execution_count": 25,
   "metadata": {},
   "outputs": [
    {
     "name": "stdout",
     "output_type": "stream",
     "text": [
      "Esma3 Sert3\n",
      "Marry3 Smith3\n",
      "Esma3 Sert3\n",
      "Marry3 Smith3\n"
     ]
    },
    {
     "data": {
      "text/plain": [
       "'Marry3 Smith3'"
      ]
     },
     "execution_count": 25,
     "metadata": {},
     "output_type": "execute_result"
    }
   ],
   "source": [
    "class Personel2:\n",
    "    def __init__(self, isim, soyisim, maas):\n",
    "        self.ad = isim\n",
    "        self.soyad = soyisim\n",
    "        self.price = maas\n",
    "        self.eposta = f\"{isim.lower()}.{soyisim.lower()}@firma.com\"\n",
    "        \n",
    "    def tam_isim(self):\n",
    "        tamisim = f\"{self.ad} {self.soyad}\"\n",
    "        print(tamisim)\n",
    "        return tamisim  # bundan dolayi enson ismi y<zdirdi\n",
    "    \n",
    "per1 = Personel2(isim = \"Esma3\", soyisim = \"Sert3\", maas = 45000)\n",
    "per2 = Personel2(\"Marry3\",\"Smith3\",35000)\n",
    "\n",
    "per1.tam_isim()\n",
    "per2.tam_isim()\n",
    "\"%%%%%%%%%%%%%%%%%\"\n",
    "Personel2.tam_isim(per1)\n",
    "Personel2.tam_isim(per2)"
   ]
  },
  {
   "cell_type": "code",
   "execution_count": 27,
   "metadata": {},
   "outputs": [
    {
     "name": "stdout",
     "output_type": "stream",
     "text": [
      "45000\n",
      "47250\n"
     ]
    }
   ],
   "source": [
    "class Personel2:      # personele zam yapmak istersek\n",
    "    \n",
    "    zam_orani = 1.05\n",
    "    \n",
    "    def __init__(self, isim, soyisim, maas):\n",
    "        self.ad = isim\n",
    "        self.soyad = soyisim\n",
    "        self.price = maas\n",
    "        self.eposta = f\"{isim.lower()}.{soyisim.lower()}@firma.com\"\n",
    "        \n",
    "    def tam_isim(self):\n",
    "        return f\"{self.ad} {self.soyad}\"\n",
    "    \n",
    "    def zam_uygula(self):\n",
    "        self.price = int(self.price * self.zam_orani) # self.zam_orani yazmazsak hata aliriz\n",
    "        # self.price = int(self.price * 1.05)   direkt zam orani yazilabilir ama herseferinde manuel girilmeli\n",
    "        # self.price = int(self.price * Personel.zam_orani)\n",
    "\n",
    "per1 = Personel2(\"Esma3\", \"Sert3\", 45000)\n",
    "per2 = Personel2(\"Marry3\",\"Smith3\",35000)\n",
    "\n",
    "print(per1.price)\n",
    "per1.zam_uygula()\n",
    "print(per1.price)"
   ]
  },
  {
   "cell_type": "code",
   "execution_count": 29,
   "metadata": {},
   "outputs": [
    {
     "name": "stdout",
     "output_type": "stream",
     "text": [
      "45000\n",
      "51749\n",
      "oooooooooooooooooooo\n",
      "1.15\n",
      "1.15\n",
      "1.15\n",
      "^^^^^^^^^^^^^^^^^^\n",
      "{'ad': 'Esma3',\n",
      " 'eposta': 'esma3.sert3@firma.com',\n",
      " 'price': 51749,\n",
      " 'soyad': 'Sert3'}\n",
      "----------------\n",
      "mappingproxy({'__dict__': <attribute '__dict__' of 'Personel2' objects>,\n",
      "              '__doc__': None,\n",
      "              '__init__': <function Personel2.__init__ at 0x0000018074F427A0>,\n",
      "              '__module__': '__main__',\n",
      "              '__weakref__': <attribute '__weakref__' of 'Personel2' objects>,\n",
      "              'tam_isim': <function Personel2.tam_isim at 0x0000018074F42AC0>,\n",
      "              'zam_orani': 1.15,\n",
      "              'zam_uygula': <function Personel2.zam_uygula at 0x0000018074F42B60>})\n"
     ]
    }
   ],
   "source": [
    "class Personel2:     \n",
    "    \n",
    "    zam_orani = 1.15\n",
    "    \n",
    "    def __init__(self, isim, soyisim, maas):\n",
    "        self.ad = isim\n",
    "        self.soyad = soyisim\n",
    "        self.price = maas\n",
    "        self.eposta = f\"{isim.lower()}.{soyisim.lower()}@firma.com\"\n",
    "        \n",
    "    def tam_isim(self):\n",
    "        return f\"{self.ad} {self.soyad}\"\n",
    "    \n",
    "    def zam_uygula(self):\n",
    "        self.price = int(self.price * self.zam_orani)\n",
    "\n",
    "per1 = Personel2(\"Esma3\", \"Sert3\", 45000)\n",
    "per2 = Personel2(\"Marry3\",\"Smith3\",35000)\n",
    "\n",
    "print(per1.price)\n",
    "per1.zam_uygula()\n",
    "print(per1.price)\n",
    "print(\"oooooooooooooooooooo\")\n",
    "print(Personel2.zam_orani)\n",
    "print(per1.zam_orani)\n",
    "print(per2.zam_orani)\n",
    "print(\"^^^^^^^^^^^^^^^^^^\")\n",
    "from pprint import pprint\n",
    "\n",
    "pprint(per1.__dict__)\n",
    "print(\"----------------\")\n",
    "pprint(Personel2.__dict__)"
   ]
  },
  {
   "cell_type": "code",
   "execution_count": 31,
   "metadata": {},
   "outputs": [
    {
     "name": "stdout",
     "output_type": "stream",
     "text": [
      "45000\n",
      "51749\n",
      "oooooooooooooooooooo\n",
      "1.15\n",
      "1.15\n",
      "1.15\n",
      "^^^^^^^^^^^^^^^^^^\n",
      "{'ad': 'Esma3',\n",
      " 'eposta': 'esma3.sert3@firma.com',\n",
      " 'price': 51749,\n",
      " 'soyad': 'Sert3'}\n",
      "----------------\n",
      "mappingproxy({'__dict__': <attribute '__dict__' of 'Personel2' objects>,\n",
      "              '__doc__': None,\n",
      "              '__init__': <function Personel2.__init__ at 0x0000018074F42F20>,\n",
      "              '__module__': '__main__',\n",
      "              '__weakref__': <attribute '__weakref__' of 'Personel2' objects>,\n",
      "              'tam_isim': <function Personel2.tam_isim at 0x0000018074F42FC0>,\n",
      "              'zam_orani': 1.15,\n",
      "              'zam_uygula': <function Personel2.zam_uygula at 0x0000018074F43060>})\n",
      "{'ad': 'Esma3',\n",
      " 'eposta': 'esma3.sert3@firma.com',\n",
      " 'price': 51749,\n",
      " 'soyad': 'Sert3',\n",
      " 'zam_orani': 1.2}\n"
     ]
    }
   ],
   "source": [
    "class Personel2:     \n",
    "    \n",
    "    zam_orani = 1.15\n",
    "    \n",
    "    def __init__(self, isim, soyisim, maas):\n",
    "        self.ad = isim\n",
    "        self.soyad = soyisim\n",
    "        self.price = maas\n",
    "        self.eposta = f\"{isim.lower()}.{soyisim.lower()}@firma.com\"\n",
    "        \n",
    "    def tam_isim(self):\n",
    "        return f\"{self.ad} {self.soyad}\"\n",
    "    \n",
    "    def zam_uygula(self):\n",
    "        self.price = int(self.price * self.zam_orani)\n",
    "\n",
    "per1 = Personel2(\"Esma3\", \"Sert3\", 45000)\n",
    "per2 = Personel2(\"Marry3\",\"Smith3\",35000)\n",
    "\n",
    "print(per1.price)\n",
    "per1.zam_uygula()\n",
    "print(per1.price)\n",
    "print(\"oooooooooooooooooooo\")\n",
    "print(Personel2.zam_orani)\n",
    "print(per1.zam_orani)\n",
    "print(per2.zam_orani)\n",
    "print(\"^^^^^^^^^^^^^^^^^^\")\n",
    "from pprint import pprint\n",
    "\n",
    "pprint(per1.__dict__)\n",
    "per1.zam_orani = 1.2\n",
    "print(\"----------------\")\n",
    "pprint(Personel2.__dict__)\n",
    "pprint(per1.__dict__)"
   ]
  },
  {
   "cell_type": "code",
   "execution_count": null,
   "metadata": {},
   "outputs": [],
   "source": []
  }
 ],
 "metadata": {
  "kernelspec": {
   "display_name": "Python 3",
   "language": "python",
   "name": "python3"
  },
  "language_info": {
   "codemirror_mode": {
    "name": "ipython",
    "version": 3
   },
   "file_extension": ".py",
   "mimetype": "text/x-python",
   "name": "python",
   "nbconvert_exporter": "python",
   "pygments_lexer": "ipython3",
   "version": "3.11.4"
  },
  "orig_nbformat": 4
 },
 "nbformat": 4,
 "nbformat_minor": 2
}
