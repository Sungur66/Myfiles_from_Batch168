{
 "cells": [
  {
   "cell_type": "markdown",
   "id": "ab119da8",
   "metadata": {},
   "source": [
    "<p style=\"background-color:#3ab1c8;font-family:Cursive;font-size:200%;color:black;text-align:center;border-radius:120px 20px;padding:20px;margin:20px;\"><b>Kendi denemem - January 2024</b></p>\n",
    "\n",
    "<p style=\"font-family:Cursive;font-size:100%;color:black;text-align:center;border-radius:10px 10px;\"><b>by Nash</b></p>\n",
    "\n",
    "<b style=\"font-family:Cursive;font-size:100%;color:black;text-align:right;border-radius:10px 10px;\">Follow me [Linkedin](www.linkedin.com/in/nash-n-sungur-333869289) | [Git Hub](https://api.whatsapp.com/send/?phone=%2B15853042959&text&type=phone_number&app_absent=0)</b>"
   ]
  },
  {
   "cell_type": "code",
   "execution_count": 1,
   "id": "5080bc33",
   "metadata": {
    "ExecuteTime": {
     "end_time": "2024-01-05T20:13:13.094350Z",
     "start_time": "2024-01-05T20:13:13.076432Z"
    }
   },
   "outputs": [],
   "source": [
    "#pip install tensorflow"
   ]
  },
  {
   "cell_type": "code",
   "execution_count": 2,
   "id": "b80b2dcb",
   "metadata": {
    "ExecuteTime": {
     "end_time": "2024-01-05T20:13:15.687402Z",
     "start_time": "2024-01-05T20:13:13.096864Z"
    }
   },
   "outputs": [
    {
     "name": "stderr",
     "output_type": "stream",
     "text": [
      "C:\\Users\\nsgr6\\AppData\\Local\\Programs\\Python\\Python310\\lib\\site-packages\\scipy\\__init__.py:146: UserWarning: A NumPy version >=1.17.3 and <1.25.0 is required for this version of SciPy (detected version 1.26.3\n",
      "  warnings.warn(f\"A NumPy version >={np_minversion} and <{np_maxversion}\"\n"
     ]
    }
   ],
   "source": [
    "import numpy as np\n",
    "import pandas as pd\n",
    "import seaborn as sns\n",
    "import matplotlib.pyplot as plt\n",
    "\n",
    "%matplotlib inline\n",
    "#%matplotlib notebook\n",
    "\n",
    "plt.rcParams[\"figure.figsize\"] = (10,6)\n",
    "\n",
    "import warnings\n",
    "warnings.filterwarnings(\"ignore\")\n",
    "warnings.warn(\"this will not show\")\n",
    "#pd.set_option('display.float_format', lambda x: '%.6f' % x)"
   ]
  },
  {
   "cell_type": "code",
   "execution_count": 3,
   "id": "49f28f53",
   "metadata": {
    "ExecuteTime": {
     "end_time": "2024-01-05T20:13:23.231911Z",
     "start_time": "2024-01-05T20:13:15.691708Z"
    }
   },
   "outputs": [
    {
     "name": "stdout",
     "output_type": "stream",
     "text": [
      "WARNING:tensorflow:From C:\\Users\\nsgr6\\AppData\\Local\\Programs\\Python\\Python310\\lib\\site-packages\\keras\\src\\losses.py:2976: The name tf.losses.sparse_softmax_cross_entropy is deprecated. Please use tf.compat.v1.losses.sparse_softmax_cross_entropy instead.\n",
      "\n"
     ]
    }
   ],
   "source": [
    "from tensorflow.keras.models import Sequential\n",
    "from tensorflow.keras.layers import Dense, Activation, Dropout, BatchNormalization \n",
    "from tensorflow.keras.optimizers import Adam, RMSprop, SGD\n",
    "from tensorflow.keras.callbacks import EarlyStopping\n",
    "from sklearn.neural_network import MLPClassifier"
   ]
  },
  {
   "cell_type": "code",
   "execution_count": 4,
   "id": "7d26128d",
   "metadata": {
    "ExecuteTime": {
     "end_time": "2024-01-05T20:13:23.263264Z",
     "start_time": "2024-01-05T20:13:23.234538Z"
    }
   },
   "outputs": [
    {
     "data": {
      "text/html": [
       "<div>\n",
       "<style scoped>\n",
       "    .dataframe tbody tr th:only-of-type {\n",
       "        vertical-align: middle;\n",
       "    }\n",
       "\n",
       "    .dataframe tbody tr th {\n",
       "        vertical-align: top;\n",
       "    }\n",
       "\n",
       "    .dataframe thead th {\n",
       "        text-align: right;\n",
       "    }\n",
       "</style>\n",
       "<table border=\"1\" class=\"dataframe\">\n",
       "  <thead>\n",
       "    <tr style=\"text-align: right;\">\n",
       "      <th></th>\n",
       "      <th>Survived</th>\n",
       "      <th>Pclass</th>\n",
       "      <th>Sex</th>\n",
       "      <th>Age</th>\n",
       "      <th>SibSp</th>\n",
       "      <th>Parch</th>\n",
       "      <th>Fare</th>\n",
       "      <th>Cabin</th>\n",
       "      <th>Embarked</th>\n",
       "    </tr>\n",
       "  </thead>\n",
       "  <tbody>\n",
       "    <tr>\n",
       "      <th>0</th>\n",
       "      <td>0</td>\n",
       "      <td>3</td>\n",
       "      <td>male</td>\n",
       "      <td>22.0</td>\n",
       "      <td>1</td>\n",
       "      <td>0</td>\n",
       "      <td>7.2500</td>\n",
       "      <td>X</td>\n",
       "      <td>S</td>\n",
       "    </tr>\n",
       "    <tr>\n",
       "      <th>1</th>\n",
       "      <td>1</td>\n",
       "      <td>1</td>\n",
       "      <td>female</td>\n",
       "      <td>38.0</td>\n",
       "      <td>1</td>\n",
       "      <td>0</td>\n",
       "      <td>71.2833</td>\n",
       "      <td>C85</td>\n",
       "      <td>C</td>\n",
       "    </tr>\n",
       "    <tr>\n",
       "      <th>2</th>\n",
       "      <td>1</td>\n",
       "      <td>3</td>\n",
       "      <td>female</td>\n",
       "      <td>26.0</td>\n",
       "      <td>0</td>\n",
       "      <td>0</td>\n",
       "      <td>7.9250</td>\n",
       "      <td>X</td>\n",
       "      <td>S</td>\n",
       "    </tr>\n",
       "    <tr>\n",
       "      <th>3</th>\n",
       "      <td>1</td>\n",
       "      <td>1</td>\n",
       "      <td>female</td>\n",
       "      <td>35.0</td>\n",
       "      <td>1</td>\n",
       "      <td>0</td>\n",
       "      <td>53.1000</td>\n",
       "      <td>C123</td>\n",
       "      <td>S</td>\n",
       "    </tr>\n",
       "    <tr>\n",
       "      <th>4</th>\n",
       "      <td>0</td>\n",
       "      <td>3</td>\n",
       "      <td>male</td>\n",
       "      <td>35.0</td>\n",
       "      <td>0</td>\n",
       "      <td>0</td>\n",
       "      <td>8.0500</td>\n",
       "      <td>X</td>\n",
       "      <td>S</td>\n",
       "    </tr>\n",
       "  </tbody>\n",
       "</table>\n",
       "</div>"
      ],
      "text/plain": [
       "   Survived  Pclass     Sex   Age  SibSp  Parch     Fare Cabin Embarked\n",
       "0         0       3    male  22.0      1      0   7.2500     X        S\n",
       "1         1       1  female  38.0      1      0  71.2833   C85        C\n",
       "2         1       3  female  26.0      0      0   7.9250     X        S\n",
       "3         1       1  female  35.0      1      0  53.1000  C123        S\n",
       "4         0       3    male  35.0      0      0   8.0500     X        S"
      ]
     },
     "execution_count": 4,
     "metadata": {},
     "output_type": "execute_result"
    }
   ],
   "source": [
    "df = pd.read_csv(\"titanic_train_eda.csv\")\n",
    "df.head()"
   ]
  },
  {
   "cell_type": "code",
   "execution_count": 5,
   "id": "d632bb9e",
   "metadata": {
    "ExecuteTime": {
     "end_time": "2024-01-05T20:13:23.294401Z",
     "start_time": "2024-01-05T20:13:23.267992Z"
    }
   },
   "outputs": [
    {
     "name": "stdout",
     "output_type": "stream",
     "text": [
      "<class 'pandas.core.frame.DataFrame'>\n",
      "RangeIndex: 891 entries, 0 to 890\n",
      "Data columns (total 9 columns):\n",
      " #   Column    Non-Null Count  Dtype  \n",
      "---  ------    --------------  -----  \n",
      " 0   Survived  891 non-null    int64  \n",
      " 1   Pclass    891 non-null    int64  \n",
      " 2   Sex       891 non-null    object \n",
      " 3   Age       891 non-null    float64\n",
      " 4   SibSp     891 non-null    int64  \n",
      " 5   Parch     891 non-null    int64  \n",
      " 6   Fare      891 non-null    float64\n",
      " 7   Cabin     891 non-null    object \n",
      " 8   Embarked  891 non-null    object \n",
      "dtypes: float64(2), int64(4), object(3)\n",
      "memory usage: 62.8+ KB\n"
     ]
    }
   ],
   "source": [
    "df.info()"
   ]
  },
  {
   "cell_type": "code",
   "execution_count": 6,
   "id": "96e3e4dc",
   "metadata": {
    "ExecuteTime": {
     "end_time": "2024-01-05T20:13:23.309298Z",
     "start_time": "2024-01-05T20:13:23.296983Z"
    }
   },
   "outputs": [],
   "source": [
    "from sklearn.preprocessing import OrdinalEncoder"
   ]
  },
  {
   "cell_type": "code",
   "execution_count": 10,
   "id": "c0a05766",
   "metadata": {
    "ExecuteTime": {
     "end_time": "2024-01-05T20:14:29.259457Z",
     "start_time": "2024-01-05T20:14:29.246854Z"
    }
   },
   "outputs": [
    {
     "data": {
      "text/plain": [
       "Index(['Sex', 'Cabin', 'Embarked'], dtype='object')"
      ]
     },
     "execution_count": 10,
     "metadata": {},
     "output_type": "execute_result"
    }
   ],
   "source": [
    "category = df.select_dtypes(\"object\").columns\n",
    "category"
   ]
  },
  {
   "cell_type": "code",
   "execution_count": 11,
   "id": "cc4e0544",
   "metadata": {
    "ExecuteTime": {
     "end_time": "2024-01-05T20:14:30.912665Z",
     "start_time": "2024-01-05T20:14:30.888062Z"
    }
   },
   "outputs": [
    {
     "data": {
      "text/html": [
       "<div>\n",
       "<style scoped>\n",
       "    .dataframe tbody tr th:only-of-type {\n",
       "        vertical-align: middle;\n",
       "    }\n",
       "\n",
       "    .dataframe tbody tr th {\n",
       "        vertical-align: top;\n",
       "    }\n",
       "\n",
       "    .dataframe thead th {\n",
       "        text-align: right;\n",
       "    }\n",
       "</style>\n",
       "<table border=\"1\" class=\"dataframe\">\n",
       "  <thead>\n",
       "    <tr style=\"text-align: right;\">\n",
       "      <th></th>\n",
       "      <th>Survived</th>\n",
       "      <th>Pclass</th>\n",
       "      <th>Sex</th>\n",
       "      <th>Age</th>\n",
       "      <th>SibSp</th>\n",
       "      <th>Parch</th>\n",
       "      <th>Fare</th>\n",
       "      <th>Cabin</th>\n",
       "      <th>Embarked</th>\n",
       "    </tr>\n",
       "  </thead>\n",
       "  <tbody>\n",
       "    <tr>\n",
       "      <th>0</th>\n",
       "      <td>0</td>\n",
       "      <td>3</td>\n",
       "      <td>1.0</td>\n",
       "      <td>22.0</td>\n",
       "      <td>1</td>\n",
       "      <td>0</td>\n",
       "      <td>7.2500</td>\n",
       "      <td>147.0</td>\n",
       "      <td>2.0</td>\n",
       "    </tr>\n",
       "    <tr>\n",
       "      <th>1</th>\n",
       "      <td>1</td>\n",
       "      <td>1</td>\n",
       "      <td>0.0</td>\n",
       "      <td>38.0</td>\n",
       "      <td>1</td>\n",
       "      <td>0</td>\n",
       "      <td>71.2833</td>\n",
       "      <td>81.0</td>\n",
       "      <td>0.0</td>\n",
       "    </tr>\n",
       "    <tr>\n",
       "      <th>2</th>\n",
       "      <td>1</td>\n",
       "      <td>3</td>\n",
       "      <td>0.0</td>\n",
       "      <td>26.0</td>\n",
       "      <td>0</td>\n",
       "      <td>0</td>\n",
       "      <td>7.9250</td>\n",
       "      <td>147.0</td>\n",
       "      <td>2.0</td>\n",
       "    </tr>\n",
       "    <tr>\n",
       "      <th>3</th>\n",
       "      <td>1</td>\n",
       "      <td>1</td>\n",
       "      <td>0.0</td>\n",
       "      <td>35.0</td>\n",
       "      <td>1</td>\n",
       "      <td>0</td>\n",
       "      <td>53.1000</td>\n",
       "      <td>55.0</td>\n",
       "      <td>2.0</td>\n",
       "    </tr>\n",
       "    <tr>\n",
       "      <th>4</th>\n",
       "      <td>0</td>\n",
       "      <td>3</td>\n",
       "      <td>1.0</td>\n",
       "      <td>35.0</td>\n",
       "      <td>0</td>\n",
       "      <td>0</td>\n",
       "      <td>8.0500</td>\n",
       "      <td>147.0</td>\n",
       "      <td>2.0</td>\n",
       "    </tr>\n",
       "  </tbody>\n",
       "</table>\n",
       "</div>"
      ],
      "text/plain": [
       "   Survived  Pclass  Sex   Age  SibSp  Parch     Fare  Cabin  Embarked\n",
       "0         0       3  1.0  22.0      1      0   7.2500  147.0       2.0\n",
       "1         1       1  0.0  38.0      1      0  71.2833   81.0       0.0\n",
       "2         1       3  0.0  26.0      0      0   7.9250  147.0       2.0\n",
       "3         1       1  0.0  35.0      1      0  53.1000   55.0       2.0\n",
       "4         0       3  1.0  35.0      0      0   8.0500  147.0       2.0"
      ]
     },
     "execution_count": 11,
     "metadata": {},
     "output_type": "execute_result"
    }
   ],
   "source": [
    "enc = OrdinalEncoder()\n",
    "df[category] = enc.fit_transform(df[category])\n",
    "df.head()"
   ]
  },
  {
   "cell_type": "code",
   "execution_count": 12,
   "id": "b9713afa",
   "metadata": {
    "ExecuteTime": {
     "end_time": "2024-01-05T20:14:35.049839Z",
     "start_time": "2024-01-05T20:14:35.034689Z"
    }
   },
   "outputs": [],
   "source": [
    "X = df[[\"Pclass\", \"Sex\", \"Age\", \"SibSp\", \"Parch\", \"Fare\", \"Cabin\", \"Embarked\"]].values\n",
    "y = df[\"Survived\"].values"
   ]
  },
  {
   "cell_type": "code",
   "execution_count": 13,
   "id": "fafa278d",
   "metadata": {
    "ExecuteTime": {
     "end_time": "2024-01-05T20:14:36.734760Z",
     "start_time": "2024-01-05T20:14:36.728113Z"
    }
   },
   "outputs": [],
   "source": [
    "from sklearn.model_selection import train_test_split\n",
    "\n",
    "X_train, X_test, y_train, y_test = train_test_split(X, y, test_size=0.25, train_size=None)"
   ]
  },
  {
   "cell_type": "code",
   "execution_count": 20,
   "id": "b65f5bed",
   "metadata": {
    "ExecuteTime": {
     "end_time": "2024-01-05T20:23:47.906276Z",
     "start_time": "2024-01-05T20:23:47.894899Z"
    }
   },
   "outputs": [],
   "source": [
    "model = Sequential()\n",
    "model.add(Dense(units=32, activation='relu'))\n",
    "model.add(Dense(units=32, activation='relu'))\n",
    "model.add(Dense(units=1, activation='sigmoid'))"
   ]
  },
  {
   "cell_type": "code",
   "execution_count": 21,
   "id": "c99fe3bb",
   "metadata": {
    "ExecuteTime": {
     "end_time": "2024-01-05T20:23:55.377823Z",
     "start_time": "2024-01-05T20:23:55.367557Z"
    }
   },
   "outputs": [],
   "source": [
    "model.compile(loss='binary_crossentropy', metrics = ['accuracy'])"
   ]
  },
  {
   "cell_type": "code",
   "execution_count": 30,
   "id": "140d61b5",
   "metadata": {
    "ExecuteTime": {
     "end_time": "2024-01-05T20:39:31.932400Z",
     "start_time": "2024-01-05T20:39:29.159326Z"
    },
    "scrolled": true
   },
   "outputs": [
    {
     "name": "stdout",
     "output_type": "stream",
     "text": [
      "Epoch 1/60\n",
      "21/21 [==============================] - 0s 2ms/step - loss: 0.4410 - accuracy: 0.8024\n",
      "Epoch 2/60\n",
      "21/21 [==============================] - 0s 2ms/step - loss: 0.4732 - accuracy: 0.7994\n",
      "Epoch 3/60\n",
      "21/21 [==============================] - 0s 3ms/step - loss: 0.4417 - accuracy: 0.8129\n",
      "Epoch 4/60\n",
      "21/21 [==============================] - 0s 2ms/step - loss: 0.4865 - accuracy: 0.7769\n",
      "Epoch 5/60\n",
      "21/21 [==============================] - 0s 2ms/step - loss: 0.4838 - accuracy: 0.7725\n",
      "Epoch 6/60\n",
      "21/21 [==============================] - 0s 2ms/step - loss: 0.4504 - accuracy: 0.7994\n",
      "Epoch 7/60\n",
      "21/21 [==============================] - 0s 3ms/step - loss: 0.4806 - accuracy: 0.8009\n",
      "Epoch 8/60\n",
      "21/21 [==============================] - 0s 2ms/step - loss: 0.4680 - accuracy: 0.8039\n",
      "Epoch 9/60\n",
      "21/21 [==============================] - 0s 2ms/step - loss: 0.4451 - accuracy: 0.8069\n",
      "Epoch 10/60\n",
      "21/21 [==============================] - 0s 2ms/step - loss: 0.4750 - accuracy: 0.7889\n",
      "Epoch 11/60\n",
      "21/21 [==============================] - 0s 2ms/step - loss: 0.4893 - accuracy: 0.7874\n",
      "Epoch 12/60\n",
      "21/21 [==============================] - 0s 2ms/step - loss: 0.4554 - accuracy: 0.8129\n",
      "Epoch 13/60\n",
      "21/21 [==============================] - 0s 2ms/step - loss: 0.4571 - accuracy: 0.7934\n",
      "Epoch 14/60\n",
      "21/21 [==============================] - 0s 2ms/step - loss: 0.4525 - accuracy: 0.7979\n",
      "Epoch 15/60\n",
      "21/21 [==============================] - 0s 2ms/step - loss: 0.4598 - accuracy: 0.7979\n",
      "Epoch 16/60\n",
      "21/21 [==============================] - 0s 2ms/step - loss: 0.4599 - accuracy: 0.8114\n",
      "Epoch 17/60\n",
      "21/21 [==============================] - 0s 2ms/step - loss: 0.4310 - accuracy: 0.8009\n",
      "Epoch 18/60\n",
      "21/21 [==============================] - 0s 2ms/step - loss: 0.4540 - accuracy: 0.7964\n",
      "Epoch 19/60\n",
      "21/21 [==============================] - 0s 2ms/step - loss: 0.4408 - accuracy: 0.7949\n",
      "Epoch 20/60\n",
      "21/21 [==============================] - 0s 2ms/step - loss: 0.4648 - accuracy: 0.8084\n",
      "Epoch 21/60\n",
      "21/21 [==============================] - 0s 2ms/step - loss: 0.4604 - accuracy: 0.8099\n",
      "Epoch 22/60\n",
      "21/21 [==============================] - 0s 2ms/step - loss: 0.4522 - accuracy: 0.7979\n",
      "Epoch 23/60\n",
      "21/21 [==============================] - 0s 2ms/step - loss: 0.4208 - accuracy: 0.8204\n",
      "Epoch 24/60\n",
      "21/21 [==============================] - 0s 2ms/step - loss: 0.4625 - accuracy: 0.7904\n",
      "Epoch 25/60\n",
      "21/21 [==============================] - 0s 2ms/step - loss: 0.4496 - accuracy: 0.8084\n",
      "Epoch 26/60\n",
      "21/21 [==============================] - 0s 2ms/step - loss: 0.4489 - accuracy: 0.8054\n",
      "Epoch 27/60\n",
      "21/21 [==============================] - 0s 2ms/step - loss: 0.4388 - accuracy: 0.8069\n",
      "Epoch 28/60\n",
      "21/21 [==============================] - 0s 2ms/step - loss: 0.4436 - accuracy: 0.8024\n",
      "Epoch 29/60\n",
      "21/21 [==============================] - 0s 2ms/step - loss: 0.4502 - accuracy: 0.8039\n",
      "Epoch 30/60\n",
      "21/21 [==============================] - 0s 2ms/step - loss: 0.4302 - accuracy: 0.8174\n",
      "Epoch 31/60\n",
      "21/21 [==============================] - 0s 2ms/step - loss: 0.4740 - accuracy: 0.7889\n",
      "Epoch 32/60\n",
      "21/21 [==============================] - 0s 2ms/step - loss: 0.4465 - accuracy: 0.7814\n",
      "Epoch 33/60\n",
      "21/21 [==============================] - 0s 2ms/step - loss: 0.4448 - accuracy: 0.8099\n",
      "Epoch 34/60\n",
      "21/21 [==============================] - 0s 2ms/step - loss: 0.4634 - accuracy: 0.7949\n",
      "Epoch 35/60\n",
      "21/21 [==============================] - 0s 2ms/step - loss: 0.4486 - accuracy: 0.8024\n",
      "Epoch 36/60\n",
      "21/21 [==============================] - 0s 2ms/step - loss: 0.4472 - accuracy: 0.8054\n",
      "Epoch 37/60\n",
      "21/21 [==============================] - 0s 2ms/step - loss: 0.4632 - accuracy: 0.7994\n",
      "Epoch 38/60\n",
      "21/21 [==============================] - 0s 2ms/step - loss: 0.4483 - accuracy: 0.7994\n",
      "Epoch 39/60\n",
      "21/21 [==============================] - 0s 2ms/step - loss: 0.4694 - accuracy: 0.7829\n",
      "Epoch 40/60\n",
      "21/21 [==============================] - 0s 2ms/step - loss: 0.4182 - accuracy: 0.8263\n",
      "Epoch 41/60\n",
      "21/21 [==============================] - 0s 2ms/step - loss: 0.4618 - accuracy: 0.7994\n",
      "Epoch 42/60\n",
      "21/21 [==============================] - 0s 2ms/step - loss: 0.4568 - accuracy: 0.7994\n",
      "Epoch 43/60\n",
      "21/21 [==============================] - 0s 2ms/step - loss: 0.4728 - accuracy: 0.8054\n",
      "Epoch 44/60\n",
      "21/21 [==============================] - 0s 2ms/step - loss: 0.4223 - accuracy: 0.8099\n",
      "Epoch 45/60\n",
      "21/21 [==============================] - 0s 2ms/step - loss: 0.4587 - accuracy: 0.8009\n",
      "Epoch 46/60\n",
      "21/21 [==============================] - 0s 2ms/step - loss: 0.4284 - accuracy: 0.8099\n",
      "Epoch 47/60\n",
      "21/21 [==============================] - 0s 2ms/step - loss: 0.4510 - accuracy: 0.7979\n",
      "Epoch 48/60\n",
      "21/21 [==============================] - 0s 2ms/step - loss: 0.4278 - accuracy: 0.8159\n",
      "Epoch 49/60\n",
      "21/21 [==============================] - 0s 2ms/step - loss: 0.4343 - accuracy: 0.8219\n",
      "Epoch 50/60\n",
      "21/21 [==============================] - 0s 2ms/step - loss: 0.4408 - accuracy: 0.8114\n",
      "Epoch 51/60\n",
      "21/21 [==============================] - 0s 2ms/step - loss: 0.4386 - accuracy: 0.8144\n",
      "Epoch 52/60\n",
      "21/21 [==============================] - 0s 2ms/step - loss: 0.4294 - accuracy: 0.8039\n",
      "Epoch 53/60\n",
      "21/21 [==============================] - 0s 2ms/step - loss: 0.4524 - accuracy: 0.8009\n",
      "Epoch 54/60\n",
      "21/21 [==============================] - 0s 2ms/step - loss: 0.4684 - accuracy: 0.7949\n",
      "Epoch 55/60\n",
      "21/21 [==============================] - 0s 2ms/step - loss: 0.4385 - accuracy: 0.8024\n",
      "Epoch 56/60\n",
      "21/21 [==============================] - 0s 2ms/step - loss: 0.4425 - accuracy: 0.8084\n",
      "Epoch 57/60\n",
      "21/21 [==============================] - 0s 2ms/step - loss: 0.4545 - accuracy: 0.7964\n",
      "Epoch 58/60\n",
      "21/21 [==============================] - 0s 2ms/step - loss: 0.4322 - accuracy: 0.8114\n",
      "Epoch 59/60\n",
      "21/21 [==============================] - 0s 2ms/step - loss: 0.4165 - accuracy: 0.8219\n",
      "Epoch 60/60\n",
      "21/21 [==============================] - 0s 2ms/step - loss: 0.4863 - accuracy: 0.7814\n"
     ]
    },
    {
     "data": {
      "text/plain": [
       "<keras.src.callbacks.History at 0x1c76455d180>"
      ]
     },
     "execution_count": 30,
     "metadata": {},
     "output_type": "execute_result"
    }
   ],
   "source": [
    "model.fit(x=X_train, y=y_train, batch_size=32, epochs=60)"
   ]
  },
  {
   "cell_type": "code",
   "execution_count": 31,
   "id": "e095296b",
   "metadata": {
    "ExecuteTime": {
     "end_time": "2024-01-05T20:40:10.977655Z",
     "start_time": "2024-01-05T20:40:10.961749Z"
    }
   },
   "outputs": [
    {
     "data": {
      "text/plain": [
       "[<tf.Variable 'dense_3/kernel:0' shape=(8, 32) dtype=float32, numpy=\n",
       " array([[ 0.32537416, -0.04130805,  0.5436827 ,  0.40166435, -0.29498434,\n",
       "         -0.00706706, -0.5269319 ,  0.03851145, -0.41682088, -0.4378812 ,\n",
       "          0.06163266,  0.3339255 ,  0.1457697 ,  0.5478832 ,  0.11529057,\n",
       "          0.13037522, -0.16029572,  0.3618631 , -0.6625164 , -0.16169101,\n",
       "          0.12175851,  0.0028054 ,  0.66440916,  0.06992817,  0.01324202,\n",
       "         -0.5093032 ,  0.1481443 , -0.57515085, -0.20559901, -0.4537484 ,\n",
       "         -0.47041067,  0.08323045],\n",
       "        [ 1.6250228 ,  0.5859346 , -0.6963289 ,  1.299137  , -0.22480449,\n",
       "          1.2360901 ,  0.5226476 , -1.4500824 , -1.1333425 ,  0.430584  ,\n",
       "         -0.23115927,  1.008921  , -1.0818337 , -0.9669687 , -0.9267301 ,\n",
       "         -1.4704864 ,  0.93738604,  0.00467339,  1.5231113 ,  1.136597  ,\n",
       "         -1.0896715 ,  0.09289192, -0.6975666 , -1.0964422 ,  0.35663706,\n",
       "         -1.1667141 , -0.40444973,  0.5364683 , -1.1343793 , -0.24763426,\n",
       "          1.3363793 , -1.8187125 ],\n",
       "        [ 0.17553723,  0.08861399, -0.01714271, -0.18804094, -0.12539163,\n",
       "          0.26935202, -0.5152718 ,  0.19466364,  0.33955452,  0.35423863,\n",
       "         -0.17555107,  0.05208857,  0.14881636,  0.12455648, -0.28193337,\n",
       "          0.04192722,  0.24305227, -0.3300972 , -0.6274839 , -0.11795724,\n",
       "         -0.41433886,  0.18446547,  0.07897277, -0.14451808,  0.20518006,\n",
       "         -0.24123949, -0.28252405,  0.15022263,  0.02861768,  0.24668232,\n",
       "          0.1358417 ,  0.3404615 ],\n",
       "        [ 0.2807408 , -0.44023818,  0.7947766 ,  0.06462897, -0.03029868,\n",
       "          0.4362142 , -0.35858062, -0.33924526, -0.02816045, -0.3591993 ,\n",
       "          0.28446728,  0.2393133 , -0.6000563 ,  0.17502224, -0.75082827,\n",
       "         -0.25345564,  0.09941985,  0.7369827 , -0.43826458,  0.60472244,\n",
       "         -0.20060502,  0.20625198,  0.9792588 , -0.06487632, -0.02080706,\n",
       "         -0.46627107,  0.43440068, -0.75411576, -0.7055905 , -0.4824681 ,\n",
       "         -0.9200684 , -0.3279903 ],\n",
       "        [ 0.1075925 , -0.04204501, -0.5377843 ,  0.3144532 ,  0.36248976,\n",
       "          0.39441553, -0.16504125, -0.34408164, -0.25569758, -0.27305388,\n",
       "         -0.14460972,  0.03027851,  0.03329604, -0.25806928,  0.21406382,\n",
       "          0.4800418 ,  0.18974586,  0.05411329, -0.4365139 ,  0.27679172,\n",
       "         -0.25458476,  0.16771251, -0.09808127, -0.14998251,  0.17645238,\n",
       "          0.17753318,  0.2926491 ,  0.4939683 , -0.2550082 ,  0.651347  ,\n",
       "         -0.6312009 , -0.25376847],\n",
       "        [-0.39920753,  0.08268996,  0.21674083, -0.34447098, -0.16153796,\n",
       "          0.2861398 ,  0.27656582,  0.10729966,  0.02049234, -0.4319076 ,\n",
       "          0.00463265,  0.14198531,  0.28981942,  0.33448708, -0.06780449,\n",
       "          0.24376129,  0.01788027,  0.06539509,  0.01327827,  0.24763027,\n",
       "          0.06440157, -0.2703401 ,  0.13530655,  0.09117363, -0.19848703,\n",
       "          0.00490984,  0.10298049,  0.1653305 , -0.27602473, -0.00779397,\n",
       "          0.18797979,  0.05673061],\n",
       "        [ 0.35411143, -0.0232686 , -0.37973368,  0.1494644 , -0.14444156,\n",
       "         -0.04815071, -0.2671226 , -0.02130294,  0.1933469 , -0.11674293,\n",
       "         -0.0052903 , -0.02291769,  0.17066357, -0.20009467,  0.22831303,\n",
       "         -0.2860154 ,  0.2798434 , -0.2559227 ,  0.13630655,  0.138132  ,\n",
       "          0.323644  , -0.3432966 , -0.2848147 ,  0.20593137, -0.07421637,\n",
       "          0.17272854, -0.13077873, -0.31002432,  0.2812972 , -0.4691602 ,\n",
       "          0.04853544,  0.20594712],\n",
       "        [-0.0832008 , -0.80044496,  0.18908791, -0.1042262 , -0.00648952,\n",
       "          0.11140613, -0.86636794, -0.37082237, -0.466153  ,  0.09897543,\n",
       "         -0.38238978,  0.23404016, -0.09402102, -0.03490802, -0.3741707 ,\n",
       "          0.5610756 , -0.11952332,  0.85516113, -0.24375398, -0.09553949,\n",
       "         -0.09728224,  0.51347053, -0.10654255,  0.09360532, -0.545866  ,\n",
       "         -0.5736421 ,  0.41264564,  0.13880958, -0.05525659,  0.78512   ,\n",
       "          0.02449434,  0.09848855]], dtype=float32)>,\n",
       " <tf.Variable 'dense_3/bias:0' shape=(32,) dtype=float32, numpy=\n",
       " array([-0.17189638, -0.43261647,  0.4804887 , -0.11794557,  0.        ,\n",
       "        -0.2464821 , -0.53785014,  0.24732539,  0.18197082, -0.06216438,\n",
       "         0.        , -0.21410932,  0.06641079,  0.30151647,  0.02824783,\n",
       "         0.5030526 , -0.21053842,  0.18888223, -0.41075116, -0.26162547,\n",
       "         0.15373424, -0.04236903,  0.4718627 ,  0.23509394,  0.0234939 ,\n",
       "         0.11115891,  0.36488095, -0.35633105,  0.12715885, -0.17777766,\n",
       "        -0.5226958 ,  0.26245648], dtype=float32)>,\n",
       " <tf.Variable 'dense_4/kernel:0' shape=(32, 32) dtype=float32, numpy=\n",
       " array([[ 0.20644978, -0.09893233, -0.16466829, ...,  0.5073094 ,\n",
       "          0.12081441,  0.03158042],\n",
       "        [-0.22958216, -0.09498561, -0.24630992, ..., -0.05814036,\n",
       "         -0.04703233,  0.01778053],\n",
       "        [ 0.08240965,  0.00226125, -0.13085936, ..., -0.24823157,\n",
       "          0.1929102 , -0.4740757 ],\n",
       "        ...,\n",
       "        [-0.30074558,  0.27146757, -0.00501177, ..., -0.0009158 ,\n",
       "          0.23769751,  0.3617976 ],\n",
       "        [ 0.02310403, -0.20350155, -0.30148938, ...,  0.12334772,\n",
       "         -0.04812726, -0.13351372],\n",
       "        [ 0.19297871, -0.0450557 , -0.2419899 , ..., -0.1738976 ,\n",
       "         -0.29462537,  0.04392333]], dtype=float32)>,\n",
       " <tf.Variable 'dense_4/bias:0' shape=(32,) dtype=float32, numpy=\n",
       " array([-3.94206401e-03,  3.05173406e-03,  0.00000000e+00,  1.55152544e-01,\n",
       "         0.00000000e+00, -1.23267278e-01,  1.96708083e-01, -2.02521086e-02,\n",
       "         0.00000000e+00,  2.15196416e-01, -1.25742564e-02, -2.18028337e-01,\n",
       "        -2.21080512e-01,  9.59495082e-02, -5.35310954e-02,  0.00000000e+00,\n",
       "         1.95931539e-01,  0.00000000e+00,  8.50951448e-02, -1.61657438e-01,\n",
       "        -1.94935918e-01,  1.64395273e-01,  0.00000000e+00, -2.36672357e-01,\n",
       "         2.92418927e-01,  0.00000000e+00, -2.33616401e-02, -5.48843801e-01,\n",
       "        -1.18985474e-04, -1.38147548e-01,  0.00000000e+00, -2.24295124e-01],\n",
       "       dtype=float32)>,\n",
       " <tf.Variable 'dense_5/kernel:0' shape=(32, 1) dtype=float32, numpy=\n",
       " array([[ 0.0061246 ],\n",
       "        [ 0.15199126],\n",
       "        [-0.2450993 ],\n",
       "        [ 0.2446269 ],\n",
       "        [ 0.1443724 ],\n",
       "        [-0.265966  ],\n",
       "        [ 0.3640056 ],\n",
       "        [-0.6192097 ],\n",
       "        [ 0.14633465],\n",
       "        [ 0.342667  ],\n",
       "        [-0.3867202 ],\n",
       "        [-0.23203653],\n",
       "        [-0.2928984 ],\n",
       "        [ 0.31361952],\n",
       "        [-0.05364048],\n",
       "        [ 0.23076397],\n",
       "        [ 0.1570935 ],\n",
       "        [ 0.07998675],\n",
       "        [ 0.04370069],\n",
       "        [-0.23369914],\n",
       "        [-0.14582856],\n",
       "        [ 0.20405169],\n",
       "        [-0.11303088],\n",
       "        [-0.02967374],\n",
       "        [ 0.3313571 ],\n",
       "        [ 0.00121617],\n",
       "        [ 0.21720856],\n",
       "        [-0.17109118],\n",
       "        [-0.09411927],\n",
       "        [-0.33464748],\n",
       "        [ 0.03738692],\n",
       "        [-0.02536032]], dtype=float32)>,\n",
       " <tf.Variable 'dense_5/bias:0' shape=(1,) dtype=float32, numpy=array([0.21445325], dtype=float32)>]"
      ]
     },
     "execution_count": 31,
     "metadata": {},
     "output_type": "execute_result"
    }
   ],
   "source": [
    "model.weights "
   ]
  },
  {
   "cell_type": "code",
   "execution_count": 32,
   "id": "404f4fcc",
   "metadata": {
    "ExecuteTime": {
     "end_time": "2024-01-05T20:40:16.249429Z",
     "start_time": "2024-01-05T20:40:16.232322Z"
    }
   },
   "outputs": [
    {
     "name": "stdout",
     "output_type": "stream",
     "text": [
      "Model: \"sequential_1\"\n",
      "_________________________________________________________________\n",
      " Layer (type)                Output Shape              Param #   \n",
      "=================================================================\n",
      " dense_3 (Dense)             (None, 32)                288       \n",
      "                                                                 \n",
      " dense_4 (Dense)             (None, 32)                1056      \n",
      "                                                                 \n",
      " dense_5 (Dense)             (None, 1)                 33        \n",
      "                                                                 \n",
      "=================================================================\n",
      "Total params: 1377 (5.38 KB)\n",
      "Trainable params: 1377 (5.38 KB)\n",
      "Non-trainable params: 0 (0.00 Byte)\n",
      "_________________________________________________________________\n"
     ]
    }
   ],
   "source": [
    "model.summary()"
   ]
  },
  {
   "cell_type": "code",
   "execution_count": 33,
   "id": "51c65deb",
   "metadata": {
    "ExecuteTime": {
     "end_time": "2024-01-05T20:40:18.564235Z",
     "start_time": "2024-01-05T20:40:18.558601Z"
    }
   },
   "outputs": [
    {
     "data": {
      "text/plain": [
       "{'loss': [0.4410456120967865,\n",
       "  0.47320976853370667,\n",
       "  0.44168752431869507,\n",
       "  0.4864746034145355,\n",
       "  0.48377442359924316,\n",
       "  0.45035484433174133,\n",
       "  0.48062726855278015,\n",
       "  0.4680323004722595,\n",
       "  0.44505783915519714,\n",
       "  0.4749610126018524,\n",
       "  0.4893461763858795,\n",
       "  0.45541632175445557,\n",
       "  0.45714905858039856,\n",
       "  0.45250657200813293,\n",
       "  0.4597759544849396,\n",
       "  0.45993906259536743,\n",
       "  0.43096959590911865,\n",
       "  0.45396360754966736,\n",
       "  0.440825879573822,\n",
       "  0.4647975564002991,\n",
       "  0.4603501856327057,\n",
       "  0.4521711468696594,\n",
       "  0.4208296239376068,\n",
       "  0.4624972343444824,\n",
       "  0.44957974553108215,\n",
       "  0.4488641023635864,\n",
       "  0.43879157304763794,\n",
       "  0.44359132647514343,\n",
       "  0.450190007686615,\n",
       "  0.43024787306785583,\n",
       "  0.47397443652153015,\n",
       "  0.4464963376522064,\n",
       "  0.44482719898223877,\n",
       "  0.46341413259506226,\n",
       "  0.4485522508621216,\n",
       "  0.447194367647171,\n",
       "  0.4631674885749817,\n",
       "  0.44833916425704956,\n",
       "  0.46941548585891724,\n",
       "  0.4181590676307678,\n",
       "  0.46183398365974426,\n",
       "  0.4567537009716034,\n",
       "  0.4727981388568878,\n",
       "  0.4223308563232422,\n",
       "  0.4586605131626129,\n",
       "  0.42838141322135925,\n",
       "  0.451026976108551,\n",
       "  0.4278498589992523,\n",
       "  0.43429678678512573,\n",
       "  0.44083911180496216,\n",
       "  0.43857342004776,\n",
       "  0.429390549659729,\n",
       "  0.4523731768131256,\n",
       "  0.4683714509010315,\n",
       "  0.4385320842266083,\n",
       "  0.44249555468559265,\n",
       "  0.4544573426246643,\n",
       "  0.4322373569011688,\n",
       "  0.4165358543395996,\n",
       "  0.4862664043903351],\n",
       " 'accuracy': [0.802395224571228,\n",
       "  0.7994012236595154,\n",
       "  0.8128742575645447,\n",
       "  0.7769461274147034,\n",
       "  0.772455096244812,\n",
       "  0.7994012236595154,\n",
       "  0.8008981943130493,\n",
       "  0.803892195224762,\n",
       "  0.8068862557411194,\n",
       "  0.788922131061554,\n",
       "  0.78742516040802,\n",
       "  0.8128742575645447,\n",
       "  0.7934131622314453,\n",
       "  0.7979041934013367,\n",
       "  0.7979041934013367,\n",
       "  0.811377227306366,\n",
       "  0.8008981943130493,\n",
       "  0.796407163143158,\n",
       "  0.794910192489624,\n",
       "  0.8083832263946533,\n",
       "  0.809880256652832,\n",
       "  0.7979041934013367,\n",
       "  0.8203592896461487,\n",
       "  0.7904191613197327,\n",
       "  0.8083832263946533,\n",
       "  0.8053892254829407,\n",
       "  0.8068862557411194,\n",
       "  0.802395224571228,\n",
       "  0.803892195224762,\n",
       "  0.817365288734436,\n",
       "  0.788922131061554,\n",
       "  0.78143709897995,\n",
       "  0.809880256652832,\n",
       "  0.794910192489624,\n",
       "  0.802395224571228,\n",
       "  0.8053892254829407,\n",
       "  0.7994012236595154,\n",
       "  0.7994012236595154,\n",
       "  0.7829341292381287,\n",
       "  0.826347291469574,\n",
       "  0.7994012236595154,\n",
       "  0.7994012236595154,\n",
       "  0.8053892254829407,\n",
       "  0.809880256652832,\n",
       "  0.8008981943130493,\n",
       "  0.809880256652832,\n",
       "  0.7979041934013367,\n",
       "  0.8158682584762573,\n",
       "  0.8218562602996826,\n",
       "  0.811377227306366,\n",
       "  0.8143712282180786,\n",
       "  0.803892195224762,\n",
       "  0.8008981943130493,\n",
       "  0.794910192489624,\n",
       "  0.802395224571228,\n",
       "  0.8083832263946533,\n",
       "  0.796407163143158,\n",
       "  0.811377227306366,\n",
       "  0.8218562602996826,\n",
       "  0.78143709897995]}"
      ]
     },
     "execution_count": 33,
     "metadata": {},
     "output_type": "execute_result"
    }
   ],
   "source": [
    "model.history.history"
   ]
  },
  {
   "cell_type": "code",
   "execution_count": 34,
   "id": "99db4878",
   "metadata": {
    "ExecuteTime": {
     "end_time": "2024-01-05T20:40:42.898522Z",
     "start_time": "2024-01-05T20:40:42.888421Z"
    },
    "scrolled": true
   },
   "outputs": [
    {
     "data": {
      "text/html": [
       "<div>\n",
       "<style scoped>\n",
       "    .dataframe tbody tr th:only-of-type {\n",
       "        vertical-align: middle;\n",
       "    }\n",
       "\n",
       "    .dataframe tbody tr th {\n",
       "        vertical-align: top;\n",
       "    }\n",
       "\n",
       "    .dataframe thead th {\n",
       "        text-align: right;\n",
       "    }\n",
       "</style>\n",
       "<table border=\"1\" class=\"dataframe\">\n",
       "  <thead>\n",
       "    <tr style=\"text-align: right;\">\n",
       "      <th></th>\n",
       "      <th>loss</th>\n",
       "      <th>accuracy</th>\n",
       "    </tr>\n",
       "  </thead>\n",
       "  <tbody>\n",
       "    <tr>\n",
       "      <th>0</th>\n",
       "      <td>0.441046</td>\n",
       "      <td>0.802395</td>\n",
       "    </tr>\n",
       "    <tr>\n",
       "      <th>1</th>\n",
       "      <td>0.473210</td>\n",
       "      <td>0.799401</td>\n",
       "    </tr>\n",
       "    <tr>\n",
       "      <th>2</th>\n",
       "      <td>0.441688</td>\n",
       "      <td>0.812874</td>\n",
       "    </tr>\n",
       "    <tr>\n",
       "      <th>3</th>\n",
       "      <td>0.486475</td>\n",
       "      <td>0.776946</td>\n",
       "    </tr>\n",
       "    <tr>\n",
       "      <th>4</th>\n",
       "      <td>0.483774</td>\n",
       "      <td>0.772455</td>\n",
       "    </tr>\n",
       "    <tr>\n",
       "      <th>5</th>\n",
       "      <td>0.450355</td>\n",
       "      <td>0.799401</td>\n",
       "    </tr>\n",
       "    <tr>\n",
       "      <th>6</th>\n",
       "      <td>0.480627</td>\n",
       "      <td>0.800898</td>\n",
       "    </tr>\n",
       "    <tr>\n",
       "      <th>7</th>\n",
       "      <td>0.468032</td>\n",
       "      <td>0.803892</td>\n",
       "    </tr>\n",
       "    <tr>\n",
       "      <th>8</th>\n",
       "      <td>0.445058</td>\n",
       "      <td>0.806886</td>\n",
       "    </tr>\n",
       "    <tr>\n",
       "      <th>9</th>\n",
       "      <td>0.474961</td>\n",
       "      <td>0.788922</td>\n",
       "    </tr>\n",
       "    <tr>\n",
       "      <th>10</th>\n",
       "      <td>0.489346</td>\n",
       "      <td>0.787425</td>\n",
       "    </tr>\n",
       "    <tr>\n",
       "      <th>11</th>\n",
       "      <td>0.455416</td>\n",
       "      <td>0.812874</td>\n",
       "    </tr>\n",
       "    <tr>\n",
       "      <th>12</th>\n",
       "      <td>0.457149</td>\n",
       "      <td>0.793413</td>\n",
       "    </tr>\n",
       "    <tr>\n",
       "      <th>13</th>\n",
       "      <td>0.452507</td>\n",
       "      <td>0.797904</td>\n",
       "    </tr>\n",
       "    <tr>\n",
       "      <th>14</th>\n",
       "      <td>0.459776</td>\n",
       "      <td>0.797904</td>\n",
       "    </tr>\n",
       "    <tr>\n",
       "      <th>15</th>\n",
       "      <td>0.459939</td>\n",
       "      <td>0.811377</td>\n",
       "    </tr>\n",
       "    <tr>\n",
       "      <th>16</th>\n",
       "      <td>0.430970</td>\n",
       "      <td>0.800898</td>\n",
       "    </tr>\n",
       "    <tr>\n",
       "      <th>17</th>\n",
       "      <td>0.453964</td>\n",
       "      <td>0.796407</td>\n",
       "    </tr>\n",
       "    <tr>\n",
       "      <th>18</th>\n",
       "      <td>0.440826</td>\n",
       "      <td>0.794910</td>\n",
       "    </tr>\n",
       "    <tr>\n",
       "      <th>19</th>\n",
       "      <td>0.464798</td>\n",
       "      <td>0.808383</td>\n",
       "    </tr>\n",
       "    <tr>\n",
       "      <th>20</th>\n",
       "      <td>0.460350</td>\n",
       "      <td>0.809880</td>\n",
       "    </tr>\n",
       "    <tr>\n",
       "      <th>21</th>\n",
       "      <td>0.452171</td>\n",
       "      <td>0.797904</td>\n",
       "    </tr>\n",
       "    <tr>\n",
       "      <th>22</th>\n",
       "      <td>0.420830</td>\n",
       "      <td>0.820359</td>\n",
       "    </tr>\n",
       "    <tr>\n",
       "      <th>23</th>\n",
       "      <td>0.462497</td>\n",
       "      <td>0.790419</td>\n",
       "    </tr>\n",
       "    <tr>\n",
       "      <th>24</th>\n",
       "      <td>0.449580</td>\n",
       "      <td>0.808383</td>\n",
       "    </tr>\n",
       "    <tr>\n",
       "      <th>25</th>\n",
       "      <td>0.448864</td>\n",
       "      <td>0.805389</td>\n",
       "    </tr>\n",
       "    <tr>\n",
       "      <th>26</th>\n",
       "      <td>0.438792</td>\n",
       "      <td>0.806886</td>\n",
       "    </tr>\n",
       "    <tr>\n",
       "      <th>27</th>\n",
       "      <td>0.443591</td>\n",
       "      <td>0.802395</td>\n",
       "    </tr>\n",
       "    <tr>\n",
       "      <th>28</th>\n",
       "      <td>0.450190</td>\n",
       "      <td>0.803892</td>\n",
       "    </tr>\n",
       "    <tr>\n",
       "      <th>29</th>\n",
       "      <td>0.430248</td>\n",
       "      <td>0.817365</td>\n",
       "    </tr>\n",
       "    <tr>\n",
       "      <th>30</th>\n",
       "      <td>0.473974</td>\n",
       "      <td>0.788922</td>\n",
       "    </tr>\n",
       "    <tr>\n",
       "      <th>31</th>\n",
       "      <td>0.446496</td>\n",
       "      <td>0.781437</td>\n",
       "    </tr>\n",
       "    <tr>\n",
       "      <th>32</th>\n",
       "      <td>0.444827</td>\n",
       "      <td>0.809880</td>\n",
       "    </tr>\n",
       "    <tr>\n",
       "      <th>33</th>\n",
       "      <td>0.463414</td>\n",
       "      <td>0.794910</td>\n",
       "    </tr>\n",
       "    <tr>\n",
       "      <th>34</th>\n",
       "      <td>0.448552</td>\n",
       "      <td>0.802395</td>\n",
       "    </tr>\n",
       "    <tr>\n",
       "      <th>35</th>\n",
       "      <td>0.447194</td>\n",
       "      <td>0.805389</td>\n",
       "    </tr>\n",
       "    <tr>\n",
       "      <th>36</th>\n",
       "      <td>0.463167</td>\n",
       "      <td>0.799401</td>\n",
       "    </tr>\n",
       "    <tr>\n",
       "      <th>37</th>\n",
       "      <td>0.448339</td>\n",
       "      <td>0.799401</td>\n",
       "    </tr>\n",
       "    <tr>\n",
       "      <th>38</th>\n",
       "      <td>0.469415</td>\n",
       "      <td>0.782934</td>\n",
       "    </tr>\n",
       "    <tr>\n",
       "      <th>39</th>\n",
       "      <td>0.418159</td>\n",
       "      <td>0.826347</td>\n",
       "    </tr>\n",
       "    <tr>\n",
       "      <th>40</th>\n",
       "      <td>0.461834</td>\n",
       "      <td>0.799401</td>\n",
       "    </tr>\n",
       "    <tr>\n",
       "      <th>41</th>\n",
       "      <td>0.456754</td>\n",
       "      <td>0.799401</td>\n",
       "    </tr>\n",
       "    <tr>\n",
       "      <th>42</th>\n",
       "      <td>0.472798</td>\n",
       "      <td>0.805389</td>\n",
       "    </tr>\n",
       "    <tr>\n",
       "      <th>43</th>\n",
       "      <td>0.422331</td>\n",
       "      <td>0.809880</td>\n",
       "    </tr>\n",
       "    <tr>\n",
       "      <th>44</th>\n",
       "      <td>0.458661</td>\n",
       "      <td>0.800898</td>\n",
       "    </tr>\n",
       "    <tr>\n",
       "      <th>45</th>\n",
       "      <td>0.428381</td>\n",
       "      <td>0.809880</td>\n",
       "    </tr>\n",
       "    <tr>\n",
       "      <th>46</th>\n",
       "      <td>0.451027</td>\n",
       "      <td>0.797904</td>\n",
       "    </tr>\n",
       "    <tr>\n",
       "      <th>47</th>\n",
       "      <td>0.427850</td>\n",
       "      <td>0.815868</td>\n",
       "    </tr>\n",
       "    <tr>\n",
       "      <th>48</th>\n",
       "      <td>0.434297</td>\n",
       "      <td>0.821856</td>\n",
       "    </tr>\n",
       "    <tr>\n",
       "      <th>49</th>\n",
       "      <td>0.440839</td>\n",
       "      <td>0.811377</td>\n",
       "    </tr>\n",
       "    <tr>\n",
       "      <th>50</th>\n",
       "      <td>0.438573</td>\n",
       "      <td>0.814371</td>\n",
       "    </tr>\n",
       "    <tr>\n",
       "      <th>51</th>\n",
       "      <td>0.429391</td>\n",
       "      <td>0.803892</td>\n",
       "    </tr>\n",
       "    <tr>\n",
       "      <th>52</th>\n",
       "      <td>0.452373</td>\n",
       "      <td>0.800898</td>\n",
       "    </tr>\n",
       "    <tr>\n",
       "      <th>53</th>\n",
       "      <td>0.468371</td>\n",
       "      <td>0.794910</td>\n",
       "    </tr>\n",
       "    <tr>\n",
       "      <th>54</th>\n",
       "      <td>0.438532</td>\n",
       "      <td>0.802395</td>\n",
       "    </tr>\n",
       "    <tr>\n",
       "      <th>55</th>\n",
       "      <td>0.442496</td>\n",
       "      <td>0.808383</td>\n",
       "    </tr>\n",
       "    <tr>\n",
       "      <th>56</th>\n",
       "      <td>0.454457</td>\n",
       "      <td>0.796407</td>\n",
       "    </tr>\n",
       "    <tr>\n",
       "      <th>57</th>\n",
       "      <td>0.432237</td>\n",
       "      <td>0.811377</td>\n",
       "    </tr>\n",
       "    <tr>\n",
       "      <th>58</th>\n",
       "      <td>0.416536</td>\n",
       "      <td>0.821856</td>\n",
       "    </tr>\n",
       "    <tr>\n",
       "      <th>59</th>\n",
       "      <td>0.486266</td>\n",
       "      <td>0.781437</td>\n",
       "    </tr>\n",
       "  </tbody>\n",
       "</table>\n",
       "</div>"
      ],
      "text/plain": [
       "        loss  accuracy\n",
       "0   0.441046  0.802395\n",
       "1   0.473210  0.799401\n",
       "2   0.441688  0.812874\n",
       "3   0.486475  0.776946\n",
       "4   0.483774  0.772455\n",
       "5   0.450355  0.799401\n",
       "6   0.480627  0.800898\n",
       "7   0.468032  0.803892\n",
       "8   0.445058  0.806886\n",
       "9   0.474961  0.788922\n",
       "10  0.489346  0.787425\n",
       "11  0.455416  0.812874\n",
       "12  0.457149  0.793413\n",
       "13  0.452507  0.797904\n",
       "14  0.459776  0.797904\n",
       "15  0.459939  0.811377\n",
       "16  0.430970  0.800898\n",
       "17  0.453964  0.796407\n",
       "18  0.440826  0.794910\n",
       "19  0.464798  0.808383\n",
       "20  0.460350  0.809880\n",
       "21  0.452171  0.797904\n",
       "22  0.420830  0.820359\n",
       "23  0.462497  0.790419\n",
       "24  0.449580  0.808383\n",
       "25  0.448864  0.805389\n",
       "26  0.438792  0.806886\n",
       "27  0.443591  0.802395\n",
       "28  0.450190  0.803892\n",
       "29  0.430248  0.817365\n",
       "30  0.473974  0.788922\n",
       "31  0.446496  0.781437\n",
       "32  0.444827  0.809880\n",
       "33  0.463414  0.794910\n",
       "34  0.448552  0.802395\n",
       "35  0.447194  0.805389\n",
       "36  0.463167  0.799401\n",
       "37  0.448339  0.799401\n",
       "38  0.469415  0.782934\n",
       "39  0.418159  0.826347\n",
       "40  0.461834  0.799401\n",
       "41  0.456754  0.799401\n",
       "42  0.472798  0.805389\n",
       "43  0.422331  0.809880\n",
       "44  0.458661  0.800898\n",
       "45  0.428381  0.809880\n",
       "46  0.451027  0.797904\n",
       "47  0.427850  0.815868\n",
       "48  0.434297  0.821856\n",
       "49  0.440839  0.811377\n",
       "50  0.438573  0.814371\n",
       "51  0.429391  0.803892\n",
       "52  0.452373  0.800898\n",
       "53  0.468371  0.794910\n",
       "54  0.438532  0.802395\n",
       "55  0.442496  0.808383\n",
       "56  0.454457  0.796407\n",
       "57  0.432237  0.811377\n",
       "58  0.416536  0.821856\n",
       "59  0.486266  0.781437"
      ]
     },
     "execution_count": 34,
     "metadata": {},
     "output_type": "execute_result"
    }
   ],
   "source": [
    "pd.DataFrame(model.history.history)"
   ]
  },
  {
   "cell_type": "code",
   "execution_count": 35,
   "id": "d7123f91",
   "metadata": {
    "ExecuteTime": {
     "end_time": "2024-01-05T20:41:08.046531Z",
     "start_time": "2024-01-05T20:41:07.900672Z"
    }
   },
   "outputs": [
    {
     "data": {
      "image/png": "[encoded data removed]",
      "text/plain": [
       "<Figure size 1000x600 with 1 Axes>"
      ]
     },
     "metadata": {},
     "output_type": "display_data"
    }
   ],
   "source": [
    "loss_df = pd.DataFrame(model.history.history)\n",
    "loss_df.plot();"
   ]
  },
  {
   "cell_type": "code",
   "execution_count": 45,
   "id": "4f24679c",
   "metadata": {
    "ExecuteTime": {
     "end_time": "2024-01-05T20:45:25.637496Z",
     "start_time": "2024-01-05T20:45:25.633696Z"
    }
   },
   "outputs": [],
   "source": [
    "from sklearn.metrics import mean_squared_error, mean_absolute_error, r2_score, explained_variance_score"
   ]
  },
  {
   "cell_type": "code",
   "execution_count": 46,
   "id": "dbc3d445",
   "metadata": {
    "ExecuteTime": {
     "end_time": "2024-01-05T20:45:30.737363Z",
     "start_time": "2024-01-05T20:45:30.629690Z"
    }
   },
   "outputs": [
    {
     "name": "stdout",
     "output_type": "stream",
     "text": [
      "21/21 - 0s - loss: 0.3935 - accuracy: 0.8293 - 51ms/epoch - 2ms/step\n"
     ]
    },
    {
     "data": {
      "text/plain": [
       "[0.393451064825058, 0.8293412923812866]"
      ]
     },
     "execution_count": 46,
     "metadata": {},
     "output_type": "execute_result"
    }
   ],
   "source": [
    "model.evaluate(X_train, y_train, verbose=2)"
   ]
  },
  {
   "cell_type": "code",
   "execution_count": 47,
   "id": "5a63337f",
   "metadata": {
    "ExecuteTime": {
     "end_time": "2024-01-05T20:45:33.127377Z",
     "start_time": "2024-01-05T20:45:33.041413Z"
    }
   },
   "outputs": [
    {
     "name": "stdout",
     "output_type": "stream",
     "text": [
      "7/7 [==============================] - 0s 2ms/step\n"
     ]
    }
   ],
   "source": [
    "y_pred = model.predict(X_test)"
   ]
  },
  {
   "cell_type": "code",
   "execution_count": 48,
   "id": "9b97fc66",
   "metadata": {
    "ExecuteTime": {
     "end_time": "2024-01-05T20:45:34.902233Z",
     "start_time": "2024-01-05T20:45:34.895978Z"
    }
   },
   "outputs": [
    {
     "data": {
      "text/plain": [
       "0.435376800234232"
      ]
     },
     "execution_count": 48,
     "metadata": {},
     "output_type": "execute_result"
    }
   ],
   "source": [
    "explained_variance_score(y_test, y_pred)"
   ]
  },
  {
   "cell_type": "code",
   "execution_count": 49,
   "id": "3666d018",
   "metadata": {
    "ExecuteTime": {
     "end_time": "2024-01-05T20:46:09.048679Z",
     "start_time": "2024-01-05T20:46:09.038641Z"
    }
   },
   "outputs": [
    {
     "data": {
      "text/html": [
       "<div>\n",
       "<style scoped>\n",
       "    .dataframe tbody tr th:only-of-type {\n",
       "        vertical-align: middle;\n",
       "    }\n",
       "\n",
       "    .dataframe tbody tr th {\n",
       "        vertical-align: top;\n",
       "    }\n",
       "\n",
       "    .dataframe thead th {\n",
       "        text-align: right;\n",
       "    }\n",
       "</style>\n",
       "<table border=\"1\" class=\"dataframe\">\n",
       "  <thead>\n",
       "    <tr style=\"text-align: right;\">\n",
       "      <th></th>\n",
       "      <th>Actual</th>\n",
       "      <th>Pred</th>\n",
       "    </tr>\n",
       "  </thead>\n",
       "  <tbody>\n",
       "    <tr>\n",
       "      <th>178</th>\n",
       "      <td>0</td>\n",
       "      <td>0.119836</td>\n",
       "    </tr>\n",
       "    <tr>\n",
       "      <th>69</th>\n",
       "      <td>1</td>\n",
       "      <td>0.539328</td>\n",
       "    </tr>\n",
       "    <tr>\n",
       "      <th>170</th>\n",
       "      <td>0</td>\n",
       "      <td>0.089322</td>\n",
       "    </tr>\n",
       "    <tr>\n",
       "      <th>215</th>\n",
       "      <td>0</td>\n",
       "      <td>0.020894</td>\n",
       "    </tr>\n",
       "    <tr>\n",
       "      <th>203</th>\n",
       "      <td>1</td>\n",
       "      <td>0.661769</td>\n",
       "    </tr>\n",
       "    <tr>\n",
       "      <th>26</th>\n",
       "      <td>1</td>\n",
       "      <td>0.822198</td>\n",
       "    </tr>\n",
       "    <tr>\n",
       "      <th>188</th>\n",
       "      <td>0</td>\n",
       "      <td>0.685341</td>\n",
       "    </tr>\n",
       "    <tr>\n",
       "      <th>159</th>\n",
       "      <td>0</td>\n",
       "      <td>0.775586</td>\n",
       "    </tr>\n",
       "    <tr>\n",
       "      <th>162</th>\n",
       "      <td>0</td>\n",
       "      <td>0.068249</td>\n",
       "    </tr>\n",
       "    <tr>\n",
       "      <th>156</th>\n",
       "      <td>1</td>\n",
       "      <td>0.069413</td>\n",
       "    </tr>\n",
       "  </tbody>\n",
       "</table>\n",
       "</div>"
      ],
      "text/plain": [
       "     Actual      Pred\n",
       "178       0  0.119836\n",
       "69        1  0.539328\n",
       "170       0  0.089322\n",
       "215       0  0.020894\n",
       "203       1  0.661769\n",
       "26        1  0.822198\n",
       "188       0  0.685341\n",
       "159       0  0.775586\n",
       "162       0  0.068249\n",
       "156       1  0.069413"
      ]
     },
     "execution_count": 49,
     "metadata": {},
     "output_type": "execute_result"
    }
   ],
   "source": [
    "my_dict = {\"Actual\" : y_test, \"Pred\" : y_pred.reshape(-1,)}\n",
    "compare = pd.DataFrame(my_dict)\n",
    "compare.sample(10)\n"
   ]
  },
  {
   "cell_type": "code",
   "execution_count": 50,
   "id": "1b3fe9bf",
   "metadata": {
    "ExecuteTime": {
     "end_time": "2024-01-05T20:46:54.114360Z",
     "start_time": "2024-01-05T20:46:53.707137Z"
    }
   },
   "outputs": [
    {
     "data": {
      "image/png": "[encoded data removed]",
      "text/plain": [
       "<Figure size 1000x600 with 1 Axes>"
      ]
     },
     "metadata": {},
     "output_type": "display_data"
    }
   ],
   "source": [
    "sns.scatterplot(x = 'Actual', y = 'Pred', data = compare);"
   ]
  },
  {
   "cell_type": "code",
   "execution_count": null,
   "id": "4a19bfd0",
   "metadata": {},
   "outputs": [],
   "source": []
  }
 ],
 "metadata": {
  "hide_input": false,
  "kernelspec": {
   "display_name": "Python (3.10.8)",
   "language": "python",
   "name": "3.10.8"
  },
  "language_info": {
   "codemirror_mode": {
    "name": "ipython",
    "version": 3
   },
   "file_extension": ".py",
   "mimetype": "text/x-python",
   "name": "python",
   "nbconvert_exporter": "python",
   "pygments_lexer": "ipython3",
   "version": "3.10.8"
  },
  "nbTranslate": {
   "displayLangs": [
    "*"
   ],
   "hotkey": "alt-t",
   "langInMainMenu": true,
   "sourceLang": "en",
   "targetLang": "fr",
   "useGoogleTranslate": true
  },
  "toc": {
   "base_numbering": 1,
   "nav_menu": {},
   "number_sections": true,
   "sideBar": true,
   "skip_h1_title": false,
   "title_cell": "Table of Contents",
   "title_sidebar": "Contents",
   "toc_cell": false,
   "toc_position": {},
   "toc_section_display": true,
   "toc_window_display": false
  }
 },
 "nbformat": 4,
 "nbformat_minor": 5
}
