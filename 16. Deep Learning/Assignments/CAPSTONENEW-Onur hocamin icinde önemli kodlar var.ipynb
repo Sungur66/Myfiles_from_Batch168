{
 "cells": [
  {
   "cell_type": "code",
   "execution_count": 1,
   "id": "8f02e2f2",
   "metadata": {
    "ExecuteTime": {
     "end_time": "2024-01-09T19:28:47.912870Z",
     "start_time": "2024-01-09T19:28:46.288689Z"
    }
   },
   "outputs": [],
   "source": [
    "import numpy as np\n",
    "import pandas as pd\n",
    "import matplotlib.pyplot as plt\n",
    "import seaborn as sns\n",
    "import scipy.stats as stats\n",
    "import statistics\n",
    "\n",
    "from sklearn.model_selection import train_test_split\n",
    "from sklearn.tree import DecisionTreeClassifier\n",
    "from sklearn.ensemble import RandomForestClassifier\n",
    "from sklearn.naive_bayes import GaussianNB\n",
    "from sklearn.linear_model import LogisticRegression\n",
    "from sklearn.model_selection import cross_val_score\n",
    "from sklearn.neighbors import KNeighborsClassifier\n",
    "import xgboost as xgb\n",
    "from sklearn.metrics import accuracy_score, precision_score, recall_score,classification_report,confusion_matrix"
   ]
  },
  {
   "cell_type": "code",
   "execution_count": 2,
   "id": "95365145",
   "metadata": {
    "ExecuteTime": {
     "end_time": "2024-01-09T19:28:51.948353Z",
     "start_time": "2024-01-09T19:28:47.914381Z"
    }
   },
   "outputs": [
    {
     "name": "stdout",
     "output_type": "stream",
     "text": [
      "WARNING:tensorflow:From C:\\Users\\onral\\anaconda3\\Lib\\site-packages\\keras\\src\\losses.py:2976: The name tf.losses.sparse_softmax_cross_entropy is deprecated. Please use tf.compat.v1.losses.sparse_softmax_cross_entropy instead.\n",
      "\n"
     ]
    }
   ],
   "source": [
    "import tensorflow as tf\n",
    "from tensorflow.keras.models import Sequential\n",
    "from tensorflow.keras.layers import Dense, Activation, Dropout\n",
    "from tensorflow.keras.callbacks import EarlyStopping\n",
    "from sklearn.metrics import classification_report, confusion_matrix\n",
    "from sklearn.metrics import roc_auc_score, roc_curve, precision_recall_curve, average_precision_score\n",
    "from sklearn.model_selection import cross_val_score, cross_validate\n",
    "from sklearn.model_selection import GridSearchCV"
   ]
  },
  {
   "cell_type": "code",
   "execution_count": 3,
   "id": "65a8b06e",
   "metadata": {
    "ExecuteTime": {
     "end_time": "2024-01-09T19:28:52.148631Z",
     "start_time": "2024-01-09T19:28:51.949359Z"
    }
   },
   "outputs": [
    {
     "data": {
      "text/html": [
       "<div>\n",
       "<style scoped>\n",
       "    .dataframe tbody tr th:only-of-type {\n",
       "        vertical-align: middle;\n",
       "    }\n",
       "\n",
       "    .dataframe tbody tr th {\n",
       "        vertical-align: top;\n",
       "    }\n",
       "\n",
       "    .dataframe thead th {\n",
       "        text-align: right;\n",
       "    }\n",
       "</style>\n",
       "<table border=\"1\" class=\"dataframe\">\n",
       "  <thead>\n",
       "    <tr style=\"text-align: right;\">\n",
       "      <th></th>\n",
       "      <th>Delay_from_due_date</th>\n",
       "      <th>Num_of_Delayed_Payment</th>\n",
       "      <th>Num_Credit_Inquiries</th>\n",
       "      <th>Credit_Utilization_Ratio</th>\n",
       "      <th>Credit_History_Age</th>\n",
       "      <th>Payment_of_Min_Amount</th>\n",
       "      <th>Amount_invested_monthly</th>\n",
       "      <th>Monthly_Balance</th>\n",
       "      <th>Credit_Score</th>\n",
       "      <th>Credit_Mix</th>\n",
       "      <th>...</th>\n",
       "      <th>Age</th>\n",
       "      <th>Annual_Income</th>\n",
       "      <th>Num_Bank_Accounts</th>\n",
       "      <th>Num_Credit_Card</th>\n",
       "      <th>Interest_Rate</th>\n",
       "      <th>Num_of_Loan</th>\n",
       "      <th>Monthly_Inhand_Salary</th>\n",
       "      <th>Changed_Credit_Limit</th>\n",
       "      <th>Outstanding_Debt</th>\n",
       "      <th>Total_EMI_per_month</th>\n",
       "    </tr>\n",
       "  </thead>\n",
       "  <tbody>\n",
       "    <tr>\n",
       "      <th>0</th>\n",
       "      <td>3.0</td>\n",
       "      <td>7.0</td>\n",
       "      <td>4.0</td>\n",
       "      <td>26.822620</td>\n",
       "      <td>265.0</td>\n",
       "      <td>No</td>\n",
       "      <td>80.415295</td>\n",
       "      <td>312.494089</td>\n",
       "      <td>Good</td>\n",
       "      <td>Good</td>\n",
       "      <td>...</td>\n",
       "      <td>23.0</td>\n",
       "      <td>19114.12</td>\n",
       "      <td>3.0</td>\n",
       "      <td>4.0</td>\n",
       "      <td>3.0</td>\n",
       "      <td>4.0</td>\n",
       "      <td>1824.843333</td>\n",
       "      <td>11.27</td>\n",
       "      <td>809.98</td>\n",
       "      <td>49.574949</td>\n",
       "    </tr>\n",
       "    <tr>\n",
       "      <th>1</th>\n",
       "      <td>3.0</td>\n",
       "      <td>7.0</td>\n",
       "      <td>4.0</td>\n",
       "      <td>31.944960</td>\n",
       "      <td>265.0</td>\n",
       "      <td>No</td>\n",
       "      <td>118.280222</td>\n",
       "      <td>284.629162</td>\n",
       "      <td>Good</td>\n",
       "      <td>Good</td>\n",
       "      <td>...</td>\n",
       "      <td>23.0</td>\n",
       "      <td>19114.12</td>\n",
       "      <td>3.0</td>\n",
       "      <td>4.0</td>\n",
       "      <td>3.0</td>\n",
       "      <td>4.0</td>\n",
       "      <td>1824.843333</td>\n",
       "      <td>11.27</td>\n",
       "      <td>809.98</td>\n",
       "      <td>49.574949</td>\n",
       "    </tr>\n",
       "    <tr>\n",
       "      <th>2</th>\n",
       "      <td>3.0</td>\n",
       "      <td>7.0</td>\n",
       "      <td>4.0</td>\n",
       "      <td>28.609352</td>\n",
       "      <td>267.0</td>\n",
       "      <td>No</td>\n",
       "      <td>81.699521</td>\n",
       "      <td>331.209863</td>\n",
       "      <td>Good</td>\n",
       "      <td>Good</td>\n",
       "      <td>...</td>\n",
       "      <td>23.0</td>\n",
       "      <td>19114.12</td>\n",
       "      <td>3.0</td>\n",
       "      <td>4.0</td>\n",
       "      <td>3.0</td>\n",
       "      <td>4.0</td>\n",
       "      <td>1824.843333</td>\n",
       "      <td>11.27</td>\n",
       "      <td>809.98</td>\n",
       "      <td>49.574949</td>\n",
       "    </tr>\n",
       "    <tr>\n",
       "      <th>3</th>\n",
       "      <td>5.0</td>\n",
       "      <td>4.0</td>\n",
       "      <td>4.0</td>\n",
       "      <td>31.377862</td>\n",
       "      <td>268.0</td>\n",
       "      <td>No</td>\n",
       "      <td>199.458074</td>\n",
       "      <td>223.451310</td>\n",
       "      <td>Good</td>\n",
       "      <td>Good</td>\n",
       "      <td>...</td>\n",
       "      <td>23.0</td>\n",
       "      <td>19114.12</td>\n",
       "      <td>3.0</td>\n",
       "      <td>4.0</td>\n",
       "      <td>3.0</td>\n",
       "      <td>4.0</td>\n",
       "      <td>1824.843333</td>\n",
       "      <td>11.27</td>\n",
       "      <td>809.98</td>\n",
       "      <td>49.574949</td>\n",
       "    </tr>\n",
       "    <tr>\n",
       "      <th>4</th>\n",
       "      <td>6.0</td>\n",
       "      <td>4.0</td>\n",
       "      <td>4.0</td>\n",
       "      <td>24.797347</td>\n",
       "      <td>269.0</td>\n",
       "      <td>No</td>\n",
       "      <td>41.420153</td>\n",
       "      <td>341.489231</td>\n",
       "      <td>Good</td>\n",
       "      <td>Good</td>\n",
       "      <td>...</td>\n",
       "      <td>23.0</td>\n",
       "      <td>19114.12</td>\n",
       "      <td>3.0</td>\n",
       "      <td>4.0</td>\n",
       "      <td>3.0</td>\n",
       "      <td>4.0</td>\n",
       "      <td>1824.843333</td>\n",
       "      <td>11.27</td>\n",
       "      <td>809.98</td>\n",
       "      <td>49.574949</td>\n",
       "    </tr>\n",
       "  </tbody>\n",
       "</table>\n",
       "<p>5 rows × 21 columns</p>\n",
       "</div>"
      ],
      "text/plain": [
       "   Delay_from_due_date  Num_of_Delayed_Payment  Num_Credit_Inquiries  \\\n",
       "0                  3.0                     7.0                   4.0   \n",
       "1                  3.0                     7.0                   4.0   \n",
       "2                  3.0                     7.0                   4.0   \n",
       "3                  5.0                     4.0                   4.0   \n",
       "4                  6.0                     4.0                   4.0   \n",
       "\n",
       "   Credit_Utilization_Ratio  Credit_History_Age Payment_of_Min_Amount  \\\n",
       "0                 26.822620               265.0                    No   \n",
       "1                 31.944960               265.0                    No   \n",
       "2                 28.609352               267.0                    No   \n",
       "3                 31.377862               268.0                    No   \n",
       "4                 24.797347               269.0                    No   \n",
       "\n",
       "   Amount_invested_monthly  Monthly_Balance Credit_Score Credit_Mix  ...  \\\n",
       "0                80.415295       312.494089         Good       Good  ...   \n",
       "1               118.280222       284.629162         Good       Good  ...   \n",
       "2                81.699521       331.209863         Good       Good  ...   \n",
       "3               199.458074       223.451310         Good       Good  ...   \n",
       "4                41.420153       341.489231         Good       Good  ...   \n",
       "\n",
       "    Age  Annual_Income  Num_Bank_Accounts  Num_Credit_Card  Interest_Rate  \\\n",
       "0  23.0       19114.12                3.0              4.0            3.0   \n",
       "1  23.0       19114.12                3.0              4.0            3.0   \n",
       "2  23.0       19114.12                3.0              4.0            3.0   \n",
       "3  23.0       19114.12                3.0              4.0            3.0   \n",
       "4  23.0       19114.12                3.0              4.0            3.0   \n",
       "\n",
       "   Num_of_Loan  Monthly_Inhand_Salary  Changed_Credit_Limit  Outstanding_Debt  \\\n",
       "0          4.0            1824.843333                 11.27            809.98   \n",
       "1          4.0            1824.843333                 11.27            809.98   \n",
       "2          4.0            1824.843333                 11.27            809.98   \n",
       "3          4.0            1824.843333                 11.27            809.98   \n",
       "4          4.0            1824.843333                 11.27            809.98   \n",
       "\n",
       "   Total_EMI_per_month  \n",
       "0            49.574949  \n",
       "1            49.574949  \n",
       "2            49.574949  \n",
       "3            49.574949  \n",
       "4            49.574949  \n",
       "\n",
       "[5 rows x 21 columns]"
      ]
     },
     "execution_count": 3,
     "metadata": {},
     "output_type": "execute_result"
    }
   ],
   "source": [
    "df = pd.read_csv(\"Score.csv\")\n",
    "df.head()"
   ]
  },
  {
   "cell_type": "code",
   "execution_count": 4,
   "id": "2f99f0c7",
   "metadata": {
    "ExecuteTime": {
     "end_time": "2024-01-09T19:28:52.201136Z",
     "start_time": "2024-01-09T19:28:52.149640Z"
    }
   },
   "outputs": [
    {
     "data": {
      "text/html": [
       "<div>\n",
       "<style scoped>\n",
       "    .dataframe tbody tr th:only-of-type {\n",
       "        vertical-align: middle;\n",
       "    }\n",
       "\n",
       "    .dataframe tbody tr th {\n",
       "        vertical-align: top;\n",
       "    }\n",
       "\n",
       "    .dataframe thead th {\n",
       "        text-align: right;\n",
       "    }\n",
       "</style>\n",
       "<table border=\"1\" class=\"dataframe\">\n",
       "  <thead>\n",
       "    <tr style=\"text-align: right;\">\n",
       "      <th></th>\n",
       "      <th>count</th>\n",
       "      <th>mean</th>\n",
       "      <th>std</th>\n",
       "      <th>min</th>\n",
       "      <th>25%</th>\n",
       "      <th>50%</th>\n",
       "      <th>75%</th>\n",
       "      <th>max</th>\n",
       "    </tr>\n",
       "  </thead>\n",
       "  <tbody>\n",
       "    <tr>\n",
       "      <th>Delay_from_due_date</th>\n",
       "      <td>99960.0</td>\n",
       "      <td>21.095718</td>\n",
       "      <td>14.827414</td>\n",
       "      <td>0.000000</td>\n",
       "      <td>10.000000</td>\n",
       "      <td>18.000000</td>\n",
       "      <td>28.000000</td>\n",
       "      <td>67.000000</td>\n",
       "    </tr>\n",
       "    <tr>\n",
       "      <th>Num_of_Delayed_Payment</th>\n",
       "      <td>99960.0</td>\n",
       "      <td>13.336345</td>\n",
       "      <td>6.269964</td>\n",
       "      <td>0.000000</td>\n",
       "      <td>9.000000</td>\n",
       "      <td>14.000000</td>\n",
       "      <td>18.000000</td>\n",
       "      <td>28.000000</td>\n",
       "    </tr>\n",
       "    <tr>\n",
       "      <th>Num_Credit_Inquiries</th>\n",
       "      <td>99960.0</td>\n",
       "      <td>5.774570</td>\n",
       "      <td>3.862224</td>\n",
       "      <td>0.000000</td>\n",
       "      <td>3.000000</td>\n",
       "      <td>5.000000</td>\n",
       "      <td>8.000000</td>\n",
       "      <td>29.000000</td>\n",
       "    </tr>\n",
       "    <tr>\n",
       "      <th>Credit_Utilization_Ratio</th>\n",
       "      <td>99960.0</td>\n",
       "      <td>32.284544</td>\n",
       "      <td>5.116888</td>\n",
       "      <td>20.000000</td>\n",
       "      <td>28.052051</td>\n",
       "      <td>32.305470</td>\n",
       "      <td>36.496305</td>\n",
       "      <td>50.000000</td>\n",
       "    </tr>\n",
       "    <tr>\n",
       "      <th>Credit_History_Age</th>\n",
       "      <td>99960.0</td>\n",
       "      <td>221.122819</td>\n",
       "      <td>99.696084</td>\n",
       "      <td>1.000000</td>\n",
       "      <td>144.000000</td>\n",
       "      <td>219.000000</td>\n",
       "      <td>302.000000</td>\n",
       "      <td>404.000000</td>\n",
       "    </tr>\n",
       "    <tr>\n",
       "      <th>Amount_invested_monthly</th>\n",
       "      <td>99960.0</td>\n",
       "      <td>193.665219</td>\n",
       "      <td>194.782737</td>\n",
       "      <td>0.000000</td>\n",
       "      <td>73.708522</td>\n",
       "      <td>129.342067</td>\n",
       "      <td>234.323706</td>\n",
       "      <td>1977.326102</td>\n",
       "    </tr>\n",
       "    <tr>\n",
       "      <th>Monthly_Balance</th>\n",
       "      <td>99960.0</td>\n",
       "      <td>403.445100</td>\n",
       "      <td>214.387092</td>\n",
       "      <td>0.007760</td>\n",
       "      <td>270.317007</td>\n",
       "      <td>337.237873</td>\n",
       "      <td>471.904834</td>\n",
       "      <td>1602.040519</td>\n",
       "    </tr>\n",
       "    <tr>\n",
       "      <th>Age</th>\n",
       "      <td>99960.0</td>\n",
       "      <td>33.269228</td>\n",
       "      <td>10.762371</td>\n",
       "      <td>14.000000</td>\n",
       "      <td>24.000000</td>\n",
       "      <td>33.000000</td>\n",
       "      <td>42.000000</td>\n",
       "      <td>56.000000</td>\n",
       "    </tr>\n",
       "    <tr>\n",
       "      <th>Annual_Income</th>\n",
       "      <td>99960.0</td>\n",
       "      <td>50498.704153</td>\n",
       "      <td>38294.243161</td>\n",
       "      <td>7005.930000</td>\n",
       "      <td>19338.480000</td>\n",
       "      <td>36996.830000</td>\n",
       "      <td>71681.400000</td>\n",
       "      <td>179987.280000</td>\n",
       "    </tr>\n",
       "    <tr>\n",
       "      <th>Num_Bank_Accounts</th>\n",
       "      <td>99960.0</td>\n",
       "      <td>5.368868</td>\n",
       "      <td>2.591668</td>\n",
       "      <td>0.000000</td>\n",
       "      <td>3.000000</td>\n",
       "      <td>5.000000</td>\n",
       "      <td>7.000000</td>\n",
       "      <td>10.000000</td>\n",
       "    </tr>\n",
       "    <tr>\n",
       "      <th>Num_Credit_Card</th>\n",
       "      <td>99960.0</td>\n",
       "      <td>5.532853</td>\n",
       "      <td>2.067698</td>\n",
       "      <td>0.000000</td>\n",
       "      <td>4.000000</td>\n",
       "      <td>5.000000</td>\n",
       "      <td>7.000000</td>\n",
       "      <td>11.000000</td>\n",
       "    </tr>\n",
       "    <tr>\n",
       "      <th>Interest_Rate</th>\n",
       "      <td>99960.0</td>\n",
       "      <td>14.535174</td>\n",
       "      <td>8.741047</td>\n",
       "      <td>1.000000</td>\n",
       "      <td>7.000000</td>\n",
       "      <td>13.000000</td>\n",
       "      <td>20.000000</td>\n",
       "      <td>34.000000</td>\n",
       "    </tr>\n",
       "    <tr>\n",
       "      <th>Num_of_Loan</th>\n",
       "      <td>99960.0</td>\n",
       "      <td>3.533974</td>\n",
       "      <td>2.446156</td>\n",
       "      <td>0.000000</td>\n",
       "      <td>2.000000</td>\n",
       "      <td>3.000000</td>\n",
       "      <td>5.000000</td>\n",
       "      <td>9.000000</td>\n",
       "    </tr>\n",
       "    <tr>\n",
       "      <th>Monthly_Inhand_Salary</th>\n",
       "      <td>99960.0</td>\n",
       "      <td>4196.814288</td>\n",
       "      <td>3186.518163</td>\n",
       "      <td>303.645417</td>\n",
       "      <td>1626.594167</td>\n",
       "      <td>3091.386667</td>\n",
       "      <td>5957.715000</td>\n",
       "      <td>15204.633333</td>\n",
       "    </tr>\n",
       "    <tr>\n",
       "      <th>Changed_Credit_Limit</th>\n",
       "      <td>99960.0</td>\n",
       "      <td>10.396953</td>\n",
       "      <td>6.510846</td>\n",
       "      <td>0.500000</td>\n",
       "      <td>5.500000</td>\n",
       "      <td>9.340000</td>\n",
       "      <td>14.680000</td>\n",
       "      <td>29.980000</td>\n",
       "    </tr>\n",
       "    <tr>\n",
       "      <th>Outstanding_Debt</th>\n",
       "      <td>99960.0</td>\n",
       "      <td>1426.514966</td>\n",
       "      <td>1155.252504</td>\n",
       "      <td>0.230000</td>\n",
       "      <td>566.080000</td>\n",
       "      <td>1166.470000</td>\n",
       "      <td>1948.200000</td>\n",
       "      <td>4998.070000</td>\n",
       "    </tr>\n",
       "    <tr>\n",
       "      <th>Total_EMI_per_month</th>\n",
       "      <td>99960.0</td>\n",
       "      <td>105.565802</td>\n",
       "      <td>125.820983</td>\n",
       "      <td>0.000000</td>\n",
       "      <td>29.054273</td>\n",
       "      <td>66.058063</td>\n",
       "      <td>145.584994</td>\n",
       "      <td>1779.103254</td>\n",
       "    </tr>\n",
       "  </tbody>\n",
       "</table>\n",
       "</div>"
      ],
      "text/plain": [
       "                            count          mean           std          min  \\\n",
       "Delay_from_due_date       99960.0     21.095718     14.827414     0.000000   \n",
       "Num_of_Delayed_Payment    99960.0     13.336345      6.269964     0.000000   \n",
       "Num_Credit_Inquiries      99960.0      5.774570      3.862224     0.000000   \n",
       "Credit_Utilization_Ratio  99960.0     32.284544      5.116888    20.000000   \n",
       "Credit_History_Age        99960.0    221.122819     99.696084     1.000000   \n",
       "Amount_invested_monthly   99960.0    193.665219    194.782737     0.000000   \n",
       "Monthly_Balance           99960.0    403.445100    214.387092     0.007760   \n",
       "Age                       99960.0     33.269228     10.762371    14.000000   \n",
       "Annual_Income             99960.0  50498.704153  38294.243161  7005.930000   \n",
       "Num_Bank_Accounts         99960.0      5.368868      2.591668     0.000000   \n",
       "Num_Credit_Card           99960.0      5.532853      2.067698     0.000000   \n",
       "Interest_Rate             99960.0     14.535174      8.741047     1.000000   \n",
       "Num_of_Loan               99960.0      3.533974      2.446156     0.000000   \n",
       "Monthly_Inhand_Salary     99960.0   4196.814288   3186.518163   303.645417   \n",
       "Changed_Credit_Limit      99960.0     10.396953      6.510846     0.500000   \n",
       "Outstanding_Debt          99960.0   1426.514966   1155.252504     0.230000   \n",
       "Total_EMI_per_month       99960.0    105.565802    125.820983     0.000000   \n",
       "\n",
       "                                   25%           50%           75%  \\\n",
       "Delay_from_due_date          10.000000     18.000000     28.000000   \n",
       "Num_of_Delayed_Payment        9.000000     14.000000     18.000000   \n",
       "Num_Credit_Inquiries          3.000000      5.000000      8.000000   \n",
       "Credit_Utilization_Ratio     28.052051     32.305470     36.496305   \n",
       "Credit_History_Age          144.000000    219.000000    302.000000   \n",
       "Amount_invested_monthly      73.708522    129.342067    234.323706   \n",
       "Monthly_Balance             270.317007    337.237873    471.904834   \n",
       "Age                          24.000000     33.000000     42.000000   \n",
       "Annual_Income             19338.480000  36996.830000  71681.400000   \n",
       "Num_Bank_Accounts             3.000000      5.000000      7.000000   \n",
       "Num_Credit_Card               4.000000      5.000000      7.000000   \n",
       "Interest_Rate                 7.000000     13.000000     20.000000   \n",
       "Num_of_Loan                   2.000000      3.000000      5.000000   \n",
       "Monthly_Inhand_Salary      1626.594167   3091.386667   5957.715000   \n",
       "Changed_Credit_Limit          5.500000      9.340000     14.680000   \n",
       "Outstanding_Debt            566.080000   1166.470000   1948.200000   \n",
       "Total_EMI_per_month          29.054273     66.058063    145.584994   \n",
       "\n",
       "                                    max  \n",
       "Delay_from_due_date           67.000000  \n",
       "Num_of_Delayed_Payment        28.000000  \n",
       "Num_Credit_Inquiries          29.000000  \n",
       "Credit_Utilization_Ratio      50.000000  \n",
       "Credit_History_Age           404.000000  \n",
       "Amount_invested_monthly     1977.326102  \n",
       "Monthly_Balance             1602.040519  \n",
       "Age                           56.000000  \n",
       "Annual_Income             179987.280000  \n",
       "Num_Bank_Accounts             10.000000  \n",
       "Num_Credit_Card               11.000000  \n",
       "Interest_Rate                 34.000000  \n",
       "Num_of_Loan                    9.000000  \n",
       "Monthly_Inhand_Salary      15204.633333  \n",
       "Changed_Credit_Limit          29.980000  \n",
       "Outstanding_Debt            4998.070000  \n",
       "Total_EMI_per_month         1779.103254  "
      ]
     },
     "execution_count": 4,
     "metadata": {},
     "output_type": "execute_result"
    }
   ],
   "source": [
    "df.describe().T"
   ]
  },
  {
   "cell_type": "code",
   "execution_count": 5,
   "id": "d9135545",
   "metadata": {
    "ExecuteTime": {
     "end_time": "2024-01-09T19:28:52.241281Z",
     "start_time": "2024-01-09T19:28:52.202143Z"
    }
   },
   "outputs": [
    {
     "name": "stdout",
     "output_type": "stream",
     "text": [
      "<class 'pandas.core.frame.DataFrame'>\n",
      "RangeIndex: 99960 entries, 0 to 99959\n",
      "Data columns (total 21 columns):\n",
      " #   Column                    Non-Null Count  Dtype  \n",
      "---  ------                    --------------  -----  \n",
      " 0   Delay_from_due_date       99960 non-null  float64\n",
      " 1   Num_of_Delayed_Payment    99960 non-null  float64\n",
      " 2   Num_Credit_Inquiries      99960 non-null  float64\n",
      " 3   Credit_Utilization_Ratio  99960 non-null  float64\n",
      " 4   Credit_History_Age        99960 non-null  float64\n",
      " 5   Payment_of_Min_Amount     99960 non-null  object \n",
      " 6   Amount_invested_monthly   99960 non-null  float64\n",
      " 7   Monthly_Balance           99960 non-null  float64\n",
      " 8   Credit_Score              99960 non-null  object \n",
      " 9   Credit_Mix                99960 non-null  object \n",
      " 10  Payment_Behaviour         99960 non-null  object \n",
      " 11  Age                       99960 non-null  float64\n",
      " 12  Annual_Income             99960 non-null  float64\n",
      " 13  Num_Bank_Accounts         99960 non-null  float64\n",
      " 14  Num_Credit_Card           99960 non-null  float64\n",
      " 15  Interest_Rate             99960 non-null  float64\n",
      " 16  Num_of_Loan               99960 non-null  float64\n",
      " 17  Monthly_Inhand_Salary     99960 non-null  float64\n",
      " 18  Changed_Credit_Limit      99960 non-null  float64\n",
      " 19  Outstanding_Debt          99960 non-null  float64\n",
      " 20  Total_EMI_per_month       99960 non-null  float64\n",
      "dtypes: float64(17), object(4)\n",
      "memory usage: 16.0+ MB\n"
     ]
    }
   ],
   "source": [
    "df.info()"
   ]
  },
  {
   "cell_type": "code",
   "execution_count": 6,
   "id": "f9991caf",
   "metadata": {
    "ExecuteTime": {
     "end_time": "2024-01-09T19:28:52.248708Z",
     "start_time": "2024-01-09T19:28:52.242289Z"
    }
   },
   "outputs": [
    {
     "data": {
      "text/plain": [
       "array(['Good', 'Standard', 'Bad'], dtype=object)"
      ]
     },
     "execution_count": 6,
     "metadata": {},
     "output_type": "execute_result"
    }
   ],
   "source": [
    "df['Credit_Mix'].unique()"
   ]
  },
  {
   "cell_type": "code",
   "execution_count": 7,
   "id": "cb3e8826",
   "metadata": {
    "ExecuteTime": {
     "end_time": "2024-01-09T19:28:52.259706Z",
     "start_time": "2024-01-09T19:28:52.249718Z"
    }
   },
   "outputs": [
    {
     "data": {
      "text/plain": [
       "array(['High_spent_Medium_value_payments',\n",
       "       'High_spent_Large_value_payments',\n",
       "       'High_spent_Small_value_payments',\n",
       "       'Low_spent_Large_value_payments', 'Low_spent_Small_value_payments',\n",
       "       'Low_spent_Medium_value_payments'], dtype=object)"
      ]
     },
     "execution_count": 7,
     "metadata": {},
     "output_type": "execute_result"
    }
   ],
   "source": [
    "df['Payment_Behaviour'].unique()"
   ]
  },
  {
   "cell_type": "code",
   "execution_count": 8,
   "id": "aa3f2170",
   "metadata": {
    "ExecuteTime": {
     "end_time": "2024-01-09T19:28:52.266730Z",
     "start_time": "2024-01-09T19:28:52.260714Z"
    }
   },
   "outputs": [
    {
     "data": {
      "text/plain": [
       "array(['Good', 'Standard', 'Poor'], dtype=object)"
      ]
     },
     "execution_count": 8,
     "metadata": {},
     "output_type": "execute_result"
    }
   ],
   "source": [
    "df['Credit_Score'].unique()"
   ]
  },
  {
   "cell_type": "code",
   "execution_count": 9,
   "id": "59460d6f",
   "metadata": {
    "ExecuteTime": {
     "end_time": "2024-01-09T19:28:52.274244Z",
     "start_time": "2024-01-09T19:28:52.267738Z"
    }
   },
   "outputs": [
    {
     "data": {
      "text/plain": [
       "array(['No', 'NM', 'Yes'], dtype=object)"
      ]
     },
     "execution_count": 9,
     "metadata": {},
     "output_type": "execute_result"
    }
   ],
   "source": [
    "df['Payment_of_Min_Amount'].unique()"
   ]
  },
  {
   "cell_type": "code",
   "execution_count": 10,
   "id": "e7e6a644",
   "metadata": {
    "ExecuteTime": {
     "end_time": "2024-01-09T19:28:52.290516Z",
     "start_time": "2024-01-09T19:28:52.276250Z"
    }
   },
   "outputs": [],
   "source": [
    "\n",
    "from sklearn.preprocessing import LabelEncoder\n",
    "le = LabelEncoder()\n",
    "df['Credit_Score'] = le.fit_transform(df['Credit_Score'])"
   ]
  },
  {
   "cell_type": "code",
   "execution_count": 11,
   "id": "ec777731",
   "metadata": {
    "ExecuteTime": {
     "end_time": "2024-01-09T19:28:52.298082Z",
     "start_time": "2024-01-09T19:28:52.291523Z"
    }
   },
   "outputs": [
    {
     "data": {
      "text/plain": [
       "array([0, 2, 1])"
      ]
     },
     "execution_count": 11,
     "metadata": {},
     "output_type": "execute_result"
    }
   ],
   "source": [
    "df['Credit_Score'].unique()"
   ]
  },
  {
   "cell_type": "code",
   "execution_count": 12,
   "id": "e8f1da07",
   "metadata": {
    "ExecuteTime": {
     "end_time": "2024-01-09T19:28:52.326905Z",
     "start_time": "2024-01-09T19:28:52.299091Z"
    }
   },
   "outputs": [],
   "source": [
    "df = pd.get_dummies(df, columns=['Credit_Mix','Payment_Behaviour','Payment_of_Min_Amount'])"
   ]
  },
  {
   "cell_type": "code",
   "execution_count": 13,
   "id": "e7269634",
   "metadata": {
    "ExecuteTime": {
     "end_time": "2024-01-09T19:28:52.338483Z",
     "start_time": "2024-01-09T19:28:52.327910Z"
    }
   },
   "outputs": [
    {
     "name": "stdout",
     "output_type": "stream",
     "text": [
      "<class 'pandas.core.frame.DataFrame'>\n",
      "RangeIndex: 99960 entries, 0 to 99959\n",
      "Data columns (total 30 columns):\n",
      " #   Column                                              Non-Null Count  Dtype  \n",
      "---  ------                                              --------------  -----  \n",
      " 0   Delay_from_due_date                                 99960 non-null  float64\n",
      " 1   Num_of_Delayed_Payment                              99960 non-null  float64\n",
      " 2   Num_Credit_Inquiries                                99960 non-null  float64\n",
      " 3   Credit_Utilization_Ratio                            99960 non-null  float64\n",
      " 4   Credit_History_Age                                  99960 non-null  float64\n",
      " 5   Amount_invested_monthly                             99960 non-null  float64\n",
      " 6   Monthly_Balance                                     99960 non-null  float64\n",
      " 7   Credit_Score                                        99960 non-null  int32  \n",
      " 8   Age                                                 99960 non-null  float64\n",
      " 9   Annual_Income                                       99960 non-null  float64\n",
      " 10  Num_Bank_Accounts                                   99960 non-null  float64\n",
      " 11  Num_Credit_Card                                     99960 non-null  float64\n",
      " 12  Interest_Rate                                       99960 non-null  float64\n",
      " 13  Num_of_Loan                                         99960 non-null  float64\n",
      " 14  Monthly_Inhand_Salary                               99960 non-null  float64\n",
      " 15  Changed_Credit_Limit                                99960 non-null  float64\n",
      " 16  Outstanding_Debt                                    99960 non-null  float64\n",
      " 17  Total_EMI_per_month                                 99960 non-null  float64\n",
      " 18  Credit_Mix_Bad                                      99960 non-null  uint8  \n",
      " 19  Credit_Mix_Good                                     99960 non-null  uint8  \n",
      " 20  Credit_Mix_Standard                                 99960 non-null  uint8  \n",
      " 21  Payment_Behaviour_High_spent_Large_value_payments   99960 non-null  uint8  \n",
      " 22  Payment_Behaviour_High_spent_Medium_value_payments  99960 non-null  uint8  \n",
      " 23  Payment_Behaviour_High_spent_Small_value_payments   99960 non-null  uint8  \n",
      " 24  Payment_Behaviour_Low_spent_Large_value_payments    99960 non-null  uint8  \n",
      " 25  Payment_Behaviour_Low_spent_Medium_value_payments   99960 non-null  uint8  \n",
      " 26  Payment_Behaviour_Low_spent_Small_value_payments    99960 non-null  uint8  \n",
      " 27  Payment_of_Min_Amount_NM                            99960 non-null  uint8  \n",
      " 28  Payment_of_Min_Amount_No                            99960 non-null  uint8  \n",
      " 29  Payment_of_Min_Amount_Yes                           99960 non-null  uint8  \n",
      "dtypes: float64(17), int32(1), uint8(12)\n",
      "memory usage: 14.5 MB\n"
     ]
    }
   ],
   "source": [
    "df.info()"
   ]
  },
  {
   "cell_type": "code",
   "execution_count": 14,
   "id": "9ff6c073",
   "metadata": {
    "ExecuteTime": {
     "end_time": "2024-01-09T19:28:52.345273Z",
     "start_time": "2024-01-09T19:28:52.339489Z"
    }
   },
   "outputs": [],
   "source": [
    "X = df.drop(['Credit_Score'], axis = 1)\n",
    "y = df['Credit_Score']"
   ]
  },
  {
   "cell_type": "code",
   "execution_count": 15,
   "id": "139023b2",
   "metadata": {
    "ExecuteTime": {
     "end_time": "2024-01-09T19:28:52.376276Z",
     "start_time": "2024-01-09T19:28:52.346278Z"
    }
   },
   "outputs": [],
   "source": [
    "from sklearn.model_selection import train_test_split\n",
    "X_train, X_test, y_train, y_test = train_test_split(X, y, test_size = 0.2, random_state = 42)"
   ]
  },
  {
   "cell_type": "code",
   "execution_count": 16,
   "id": "8934f1ab",
   "metadata": {
    "ExecuteTime": {
     "end_time": "2024-01-09T19:28:52.505930Z",
     "start_time": "2024-01-09T19:28:52.377281Z"
    }
   },
   "outputs": [],
   "source": [
    "from sklearn.preprocessing import StandardScaler\n",
    "sc = StandardScaler()\n",
    "X_train.loc[:, :'Monthly_Balance'] = sc.fit_transform(X_train.loc[:, :'Monthly_Balance'])\n",
    "X_test.loc[:, :'Monthly_Balance'] = sc.transform(X_test.loc[:, :'Monthly_Balance'])\n",
    "df.loc[:, :'Monthly_Balance'] = sc.transform(df.loc[:, :'Monthly_Balance'])"
   ]
  },
  {
   "cell_type": "code",
   "execution_count": 17,
   "id": "999e475d",
   "metadata": {
    "ExecuteTime": {
     "end_time": "2024-01-09T19:28:54.542708Z",
     "start_time": "2024-01-09T19:28:52.506937Z"
    }
   },
   "outputs": [
    {
     "data": {
      "text/html": [
       "<style>#sk-container-id-1 {color: black;background-color: white;}#sk-container-id-1 pre{padding: 0;}#sk-container-id-1 div.sk-toggleable {background-color: white;}#sk-container-id-1 label.sk-toggleable__label {cursor: pointer;display: block;width: 100%;margin-bottom: 0;padding: 0.3em;box-sizing: border-box;text-align: center;}#sk-container-id-1 label.sk-toggleable__label-arrow:before {content: \"▸\";float: left;margin-right: 0.25em;color: #696969;}#sk-container-id-1 label.sk-toggleable__label-arrow:hover:before {color: black;}#sk-container-id-1 div.sk-estimator:hover label.sk-toggleable__label-arrow:before {color: black;}#sk-container-id-1 div.sk-toggleable__content {max-height: 0;max-width: 0;overflow: hidden;text-align: left;background-color: #f0f8ff;}#sk-container-id-1 div.sk-toggleable__content pre {margin: 0.2em;color: black;border-radius: 0.25em;background-color: #f0f8ff;}#sk-container-id-1 input.sk-toggleable__control:checked~div.sk-toggleable__content {max-height: 200px;max-width: 100%;overflow: auto;}#sk-container-id-1 input.sk-toggleable__control:checked~label.sk-toggleable__label-arrow:before {content: \"▾\";}#sk-container-id-1 div.sk-estimator input.sk-toggleable__control:checked~label.sk-toggleable__label {background-color: #d4ebff;}#sk-container-id-1 div.sk-label input.sk-toggleable__control:checked~label.sk-toggleable__label {background-color: #d4ebff;}#sk-container-id-1 input.sk-hidden--visually {border: 0;clip: rect(1px 1px 1px 1px);clip: rect(1px, 1px, 1px, 1px);height: 1px;margin: -1px;overflow: hidden;padding: 0;position: absolute;width: 1px;}#sk-container-id-1 div.sk-estimator {font-family: monospace;background-color: #f0f8ff;border: 1px dotted black;border-radius: 0.25em;box-sizing: border-box;margin-bottom: 0.5em;}#sk-container-id-1 div.sk-estimator:hover {background-color: #d4ebff;}#sk-container-id-1 div.sk-parallel-item::after {content: \"\";width: 100%;border-bottom: 1px solid gray;flex-grow: 1;}#sk-container-id-1 div.sk-label:hover label.sk-toggleable__label {background-color: #d4ebff;}#sk-container-id-1 div.sk-serial::before {content: \"\";position: absolute;border-left: 1px solid gray;box-sizing: border-box;top: 0;bottom: 0;left: 50%;z-index: 0;}#sk-container-id-1 div.sk-serial {display: flex;flex-direction: column;align-items: center;background-color: white;padding-right: 0.2em;padding-left: 0.2em;position: relative;}#sk-container-id-1 div.sk-item {position: relative;z-index: 1;}#sk-container-id-1 div.sk-parallel {display: flex;align-items: stretch;justify-content: center;background-color: white;position: relative;}#sk-container-id-1 div.sk-item::before, #sk-container-id-1 div.sk-parallel-item::before {content: \"\";position: absolute;border-left: 1px solid gray;box-sizing: border-box;top: 0;bottom: 0;left: 50%;z-index: -1;}#sk-container-id-1 div.sk-parallel-item {display: flex;flex-direction: column;z-index: 1;position: relative;background-color: white;}#sk-container-id-1 div.sk-parallel-item:first-child::after {align-self: flex-end;width: 50%;}#sk-container-id-1 div.sk-parallel-item:last-child::after {align-self: flex-start;width: 50%;}#sk-container-id-1 div.sk-parallel-item:only-child::after {width: 0;}#sk-container-id-1 div.sk-dashed-wrapped {border: 1px dashed gray;margin: 0 0.4em 0.5em 0.4em;box-sizing: border-box;padding-bottom: 0.4em;background-color: white;}#sk-container-id-1 div.sk-label label {font-family: monospace;font-weight: bold;display: inline-block;line-height: 1.2em;}#sk-container-id-1 div.sk-label-container {text-align: center;}#sk-container-id-1 div.sk-container {/* jupyter's `normalize.less` sets `[hidden] { display: none; }` but bootstrap.min.css set `[hidden] { display: none !important; }` so we also need the `!important` here to be able to override the default hidden behavior on the sphinx rendered scikit-learn.org. See: https://github.com/scikit-learn/scikit-learn/issues/21755 */display: inline-block !important;position: relative;}#sk-container-id-1 div.sk-text-repr-fallback {display: none;}</style><div id=\"sk-container-id-1\" class=\"sk-top-container\"><div class=\"sk-text-repr-fallback\"><pre>XGBClassifier(base_score=None, booster=None, callbacks=None,\n",
       "              colsample_bylevel=None, colsample_bynode=None,\n",
       "              colsample_bytree=None, device=None, early_stopping_rounds=None,\n",
       "              enable_categorical=False, eval_metric=None, feature_types=None,\n",
       "              gamma=None, grow_policy=None, importance_type=None,\n",
       "              interaction_constraints=None, learning_rate=None, max_bin=None,\n",
       "              max_cat_threshold=None, max_cat_to_onehot=None,\n",
       "              max_delta_step=None, max_depth=None, max_leaves=None,\n",
       "              min_child_weight=None, missing=nan, monotone_constraints=None,\n",
       "              multi_strategy=None, n_estimators=None, n_jobs=None,\n",
       "              num_parallel_tree=None, objective=&#x27;multi:softprob&#x27;, ...)</pre><b>In a Jupyter environment, please rerun this cell to show the HTML representation or trust the notebook. <br />On GitHub, the HTML representation is unable to render, please try loading this page with nbviewer.org.</b></div><div class=\"sk-container\" hidden><div class=\"sk-item\"><div class=\"sk-estimator sk-toggleable\"><input class=\"sk-toggleable__control sk-hidden--visually\" id=\"sk-estimator-id-1\" type=\"checkbox\" checked><label for=\"sk-estimator-id-1\" class=\"sk-toggleable__label sk-toggleable__label-arrow\">XGBClassifier</label><div class=\"sk-toggleable__content\"><pre>XGBClassifier(base_score=None, booster=None, callbacks=None,\n",
       "              colsample_bylevel=None, colsample_bynode=None,\n",
       "              colsample_bytree=None, device=None, early_stopping_rounds=None,\n",
       "              enable_categorical=False, eval_metric=None, feature_types=None,\n",
       "              gamma=None, grow_policy=None, importance_type=None,\n",
       "              interaction_constraints=None, learning_rate=None, max_bin=None,\n",
       "              max_cat_threshold=None, max_cat_to_onehot=None,\n",
       "              max_delta_step=None, max_depth=None, max_leaves=None,\n",
       "              min_child_weight=None, missing=nan, monotone_constraints=None,\n",
       "              multi_strategy=None, n_estimators=None, n_jobs=None,\n",
       "              num_parallel_tree=None, objective=&#x27;multi:softprob&#x27;, ...)</pre></div></div></div></div></div>"
      ],
      "text/plain": [
       "XGBClassifier(base_score=None, booster=None, callbacks=None,\n",
       "              colsample_bylevel=None, colsample_bynode=None,\n",
       "              colsample_bytree=None, device=None, early_stopping_rounds=None,\n",
       "              enable_categorical=False, eval_metric=None, feature_types=None,\n",
       "              gamma=None, grow_policy=None, importance_type=None,\n",
       "              interaction_constraints=None, learning_rate=None, max_bin=None,\n",
       "              max_cat_threshold=None, max_cat_to_onehot=None,\n",
       "              max_delta_step=None, max_depth=None, max_leaves=None,\n",
       "              min_child_weight=None, missing=nan, monotone_constraints=None,\n",
       "              multi_strategy=None, n_estimators=None, n_jobs=None,\n",
       "              num_parallel_tree=None, objective='multi:softprob', ...)"
      ]
     },
     "execution_count": 17,
     "metadata": {},
     "output_type": "execute_result"
    }
   ],
   "source": [
    "from xgboost import XGBClassifier\n",
    "model_1 = XGBClassifier()\n",
    "model_1.fit(X_train, y_train)"
   ]
  },
  {
   "cell_type": "code",
   "execution_count": 18,
   "id": "af8af0cc",
   "metadata": {
    "ExecuteTime": {
     "end_time": "2024-01-09T19:28:54.574004Z",
     "start_time": "2024-01-09T19:28:54.543711Z"
    }
   },
   "outputs": [],
   "source": [
    "y_pred = model_1.predict(X_test)"
   ]
  },
  {
   "cell_type": "code",
   "execution_count": 19,
   "id": "97a7f286",
   "metadata": {
    "ExecuteTime": {
     "end_time": "2024-01-09T19:28:54.746697Z",
     "start_time": "2024-01-09T19:28:54.575515Z"
    }
   },
   "outputs": [
    {
     "data": {
      "image/png": "[encoded data removed]",
      "text/plain": [
       "<Figure size 800x600 with 2 Axes>"
      ]
     },
     "metadata": {},
     "output_type": "display_data"
    }
   ],
   "source": [
    "from sklearn.metrics import confusion_matrix\n",
    "import seaborn as sns\n",
    "import matplotlib.pyplot as plt\n",
    "\n",
    "# Assuming y_test and y_pred are your true labels and predicted labels, respectively\n",
    "cm = confusion_matrix(y_test, y_pred)\n",
    "\n",
    "# Create a seaborn heatmap for visualization\n",
    "plt.figure(figsize=(8, 6))\n",
    "sns.heatmap(cm, annot=True, fmt='d', cmap='Blues', xticklabels=['Predicted 0', 'Predicted 1'], yticklabels=['Actual 0', 'Actual 1'])\n",
    "plt.title('Confusion Matrix')\n",
    "plt.xlabel('Predicted Label')\n",
    "plt.ylabel('True Label')\n",
    "plt.show()"
   ]
  },
  {
   "cell_type": "code",
   "execution_count": 20,
   "id": "4821969d",
   "metadata": {
    "ExecuteTime": {
     "end_time": "2024-01-09T19:28:54.752262Z",
     "start_time": "2024-01-09T19:28:54.747702Z"
    }
   },
   "outputs": [
    {
     "data": {
      "text/plain": [
       "0.7666066426570628"
      ]
     },
     "execution_count": 20,
     "metadata": {},
     "output_type": "execute_result"
    }
   ],
   "source": [
    "accuracy_score(y_test, y_pred)"
   ]
  },
  {
   "cell_type": "code",
   "execution_count": 21,
   "id": "d76a5b8e",
   "metadata": {
    "ExecuteTime": {
     "end_time": "2024-01-09T19:28:55.089545Z",
     "start_time": "2024-01-09T19:28:54.753269Z"
    }
   },
   "outputs": [
    {
     "ename": "NameError",
     "evalue": "name 'calculate_results' is not defined",
     "output_type": "error",
     "traceback": [
      "\u001b[1;31m---------------------------------------------------------------------------\u001b[0m",
      "\u001b[1;31mNameError\u001b[0m                                 Traceback (most recent call last)",
      "Cell \u001b[1;32mIn[21], line 1\u001b[0m\n\u001b[1;32m----> 1\u001b[0m Xgboost \u001b[38;5;241m=\u001b[39m calculate_results(y_test, y_pred)\n",
      "\u001b[1;31mNameError\u001b[0m: name 'calculate_results' is not defined"
     ]
    }
   ],
   "source": [
    "Xgboost = calculate_results(y_test, y_pred)"
   ]
  },
  {
   "cell_type": "code",
   "execution_count": 23,
   "id": "21cd9918",
   "metadata": {
    "ExecuteTime": {
     "end_time": "2024-01-09T19:29:27.490149Z",
     "start_time": "2024-01-09T19:29:27.469674Z"
    },
    "run_control": {
     "marked": true
    },
    "scrolled": true
   },
   "outputs": [
    {
     "name": "stdout",
     "output_type": "stream",
     "text": [
      "Accuracy: 0.7666066426570628\n",
      "Precision: 0.7671932451346369\n",
      "Recall: 0.7666066426570628\n",
      "F1 Score: 0.7667645250282447\n",
      "Confusion Matrix:\n",
      "[[2637   48  934]\n",
      " [ 207 4317 1287]\n",
      " [ 944 1246 8372]]\n"
     ]
    }
   ],
   "source": [
    "from sklearn.metrics import accuracy_score, precision_score, recall_score, f1_score, confusion_matrix\n",
    "import xgboost as xgb\n",
    "\n",
    "# Assuming y_test and y_pred are your true labels and predicted labels, respectively\n",
    "# Assuming you have trained an XGBoost model and made predictions\n",
    "# Replace the following line with your actual XGBoost model and predictions\n",
    "# xgb_model = xgb.XGBClassifier()\n",
    "# y_pred = xgb_model.predict(X_test)\n",
    "\n",
    "def calculate_results(y_true, y_pred):\n",
    "    accuracy = accuracy_score(y_true, y_pred)\n",
    "    precision = precision_score(y_true, y_pred, average='weighted')  # Use 'weighted' for multiclass\n",
    "    recall = recall_score(y_true, y_pred, average='weighted')  # Use 'weighted' for multiclass\n",
    "    f1 = f1_score(y_true, y_pred, average='weighted')  # Use 'weighted' for multiclass\n",
    "    confusion = confusion_matrix(y_true, y_pred)\n",
    "    \n",
    "    print(\"Accuracy:\", accuracy)\n",
    "    print(\"Precision:\", precision)\n",
    "    print(\"Recall:\", recall)\n",
    "    print(\"F1 Score:\", f1)\n",
    "    print(\"Confusion Matrix:\")\n",
    "    print(confusion)\n",
    "    \n",
    "    return {\n",
    "        'accuracy': accuracy,\n",
    "        'precision': precision,\n",
    "        'recall': recall,\n",
    "        'f1': f1,\n",
    "        'confusion_matrix': confusion\n",
    "    }\n",
    "\n",
    "# Calculate and display results\n",
    "Xgboost_results = calculate_results(y_test, y_pred)"
   ]
  },
  {
   "cell_type": "code",
   "execution_count": 24,
   "id": "b086f33e",
   "metadata": {
    "ExecuteTime": {
     "end_time": "2024-01-09T19:29:30.292554Z",
     "start_time": "2024-01-09T19:29:28.979516Z"
    }
   },
   "outputs": [
    {
     "name": "stderr",
     "output_type": "stream",
     "text": [
      "C:\\Users\\onral\\anaconda3\\Lib\\site-packages\\sklearn\\linear_model\\_logistic.py:458: ConvergenceWarning: lbfgs failed to converge (status=1):\n",
      "STOP: TOTAL NO. of ITERATIONS REACHED LIMIT.\n",
      "\n",
      "Increase the number of iterations (max_iter) or scale the data as shown in:\n",
      "    https://scikit-learn.org/stable/modules/preprocessing.html\n",
      "Please also refer to the documentation for alternative solver options:\n",
      "    https://scikit-learn.org/stable/modules/linear_model.html#logistic-regression\n",
      "  n_iter_i = _check_optimize_result(\n"
     ]
    },
    {
     "data": {
      "text/html": [
       "<style>#sk-container-id-3 {color: black;background-color: white;}#sk-container-id-3 pre{padding: 0;}#sk-container-id-3 div.sk-toggleable {background-color: white;}#sk-container-id-3 label.sk-toggleable__label {cursor: pointer;display: block;width: 100%;margin-bottom: 0;padding: 0.3em;box-sizing: border-box;text-align: center;}#sk-container-id-3 label.sk-toggleable__label-arrow:before {content: \"▸\";float: left;margin-right: 0.25em;color: #696969;}#sk-container-id-3 label.sk-toggleable__label-arrow:hover:before {color: black;}#sk-container-id-3 div.sk-estimator:hover label.sk-toggleable__label-arrow:before {color: black;}#sk-container-id-3 div.sk-toggleable__content {max-height: 0;max-width: 0;overflow: hidden;text-align: left;background-color: #f0f8ff;}#sk-container-id-3 div.sk-toggleable__content pre {margin: 0.2em;color: black;border-radius: 0.25em;background-color: #f0f8ff;}#sk-container-id-3 input.sk-toggleable__control:checked~div.sk-toggleable__content {max-height: 200px;max-width: 100%;overflow: auto;}#sk-container-id-3 input.sk-toggleable__control:checked~label.sk-toggleable__label-arrow:before {content: \"▾\";}#sk-container-id-3 div.sk-estimator input.sk-toggleable__control:checked~label.sk-toggleable__label {background-color: #d4ebff;}#sk-container-id-3 div.sk-label input.sk-toggleable__control:checked~label.sk-toggleable__label {background-color: #d4ebff;}#sk-container-id-3 input.sk-hidden--visually {border: 0;clip: rect(1px 1px 1px 1px);clip: rect(1px, 1px, 1px, 1px);height: 1px;margin: -1px;overflow: hidden;padding: 0;position: absolute;width: 1px;}#sk-container-id-3 div.sk-estimator {font-family: monospace;background-color: #f0f8ff;border: 1px dotted black;border-radius: 0.25em;box-sizing: border-box;margin-bottom: 0.5em;}#sk-container-id-3 div.sk-estimator:hover {background-color: #d4ebff;}#sk-container-id-3 div.sk-parallel-item::after {content: \"\";width: 100%;border-bottom: 1px solid gray;flex-grow: 1;}#sk-container-id-3 div.sk-label:hover label.sk-toggleable__label {background-color: #d4ebff;}#sk-container-id-3 div.sk-serial::before {content: \"\";position: absolute;border-left: 1px solid gray;box-sizing: border-box;top: 0;bottom: 0;left: 50%;z-index: 0;}#sk-container-id-3 div.sk-serial {display: flex;flex-direction: column;align-items: center;background-color: white;padding-right: 0.2em;padding-left: 0.2em;position: relative;}#sk-container-id-3 div.sk-item {position: relative;z-index: 1;}#sk-container-id-3 div.sk-parallel {display: flex;align-items: stretch;justify-content: center;background-color: white;position: relative;}#sk-container-id-3 div.sk-item::before, #sk-container-id-3 div.sk-parallel-item::before {content: \"\";position: absolute;border-left: 1px solid gray;box-sizing: border-box;top: 0;bottom: 0;left: 50%;z-index: -1;}#sk-container-id-3 div.sk-parallel-item {display: flex;flex-direction: column;z-index: 1;position: relative;background-color: white;}#sk-container-id-3 div.sk-parallel-item:first-child::after {align-self: flex-end;width: 50%;}#sk-container-id-3 div.sk-parallel-item:last-child::after {align-self: flex-start;width: 50%;}#sk-container-id-3 div.sk-parallel-item:only-child::after {width: 0;}#sk-container-id-3 div.sk-dashed-wrapped {border: 1px dashed gray;margin: 0 0.4em 0.5em 0.4em;box-sizing: border-box;padding-bottom: 0.4em;background-color: white;}#sk-container-id-3 div.sk-label label {font-family: monospace;font-weight: bold;display: inline-block;line-height: 1.2em;}#sk-container-id-3 div.sk-label-container {text-align: center;}#sk-container-id-3 div.sk-container {/* jupyter's `normalize.less` sets `[hidden] { display: none; }` but bootstrap.min.css set `[hidden] { display: none !important; }` so we also need the `!important` here to be able to override the default hidden behavior on the sphinx rendered scikit-learn.org. See: https://github.com/scikit-learn/scikit-learn/issues/21755 */display: inline-block !important;position: relative;}#sk-container-id-3 div.sk-text-repr-fallback {display: none;}</style><div id=\"sk-container-id-3\" class=\"sk-top-container\"><div class=\"sk-text-repr-fallback\"><pre>LogisticRegression()</pre><b>In a Jupyter environment, please rerun this cell to show the HTML representation or trust the notebook. <br />On GitHub, the HTML representation is unable to render, please try loading this page with nbviewer.org.</b></div><div class=\"sk-container\" hidden><div class=\"sk-item\"><div class=\"sk-estimator sk-toggleable\"><input class=\"sk-toggleable__control sk-hidden--visually\" id=\"sk-estimator-id-3\" type=\"checkbox\" checked><label for=\"sk-estimator-id-3\" class=\"sk-toggleable__label sk-toggleable__label-arrow\">LogisticRegression</label><div class=\"sk-toggleable__content\"><pre>LogisticRegression()</pre></div></div></div></div></div>"
      ],
      "text/plain": [
       "LogisticRegression()"
      ]
     },
     "execution_count": 24,
     "metadata": {},
     "output_type": "execute_result"
    }
   ],
   "source": [
    "from sklearn.linear_model import LogisticRegression\n",
    "model_2 = LogisticRegression()\n",
    "model_2.fit(X_train, y_train)"
   ]
  },
  {
   "cell_type": "code",
   "execution_count": 25,
   "id": "19d37dae",
   "metadata": {
    "ExecuteTime": {
     "end_time": "2024-01-09T19:29:31.749525Z",
     "start_time": "2024-01-09T19:29:31.743296Z"
    }
   },
   "outputs": [],
   "source": [
    "y_pred = model_2.predict(X_test)"
   ]
  },
  {
   "cell_type": "code",
   "execution_count": 26,
   "id": "2f60c1d9",
   "metadata": {
    "ExecuteTime": {
     "end_time": "2024-01-09T19:29:43.411861Z",
     "start_time": "2024-01-09T19:29:43.277559Z"
    }
   },
   "outputs": [
    {
     "data": {
      "image/png": "[encoded data removed]",
      "text/plain": [
       "<Figure size 800x600 with 2 Axes>"
      ]
     },
     "metadata": {},
     "output_type": "display_data"
    }
   ],
   "source": [
    "from sklearn.metrics import confusion_matrix\n",
    "import seaborn as sns\n",
    "import matplotlib.pyplot as plt\n",
    "\n",
    "# Assuming y_test and y_pred are your true labels and predicted labels, respectively\n",
    "# Assuming you have trained a model and made predictions\n",
    "# Replace the following line with your actual model and predictions\n",
    "# model = ...  # your model\n",
    "# y_pred = model.predict(X_test)\n",
    "\n",
    "# Create a confusion matrix\n",
    "cm = confusion_matrix(y_test, y_pred)\n",
    "\n",
    "# Create a seaborn heatmap for visualization\n",
    "plt.figure(figsize=(8, 6))\n",
    "sns.heatmap(cm, annot=True, fmt='d', cmap='Blues', xticklabels=['Predicted 0', 'Predicted 1'], yticklabels=['Actual 0', 'Actual 1'])\n",
    "plt.title('Confusion Matrix')\n",
    "plt.xlabel('Predicted Label')\n",
    "plt.ylabel('True Label')\n",
    "plt.show()"
   ]
  },
  {
   "cell_type": "code",
   "execution_count": 27,
   "id": "25d0114c",
   "metadata": {
    "ExecuteTime": {
     "end_time": "2024-01-09T19:29:44.919659Z",
     "start_time": "2024-01-09T19:29:44.914620Z"
    }
   },
   "outputs": [
    {
     "data": {
      "text/plain": [
       "0.5527711084433774"
      ]
     },
     "execution_count": 27,
     "metadata": {},
     "output_type": "execute_result"
    }
   ],
   "source": [
    "accuracy_score(y_test, y_pred)"
   ]
  },
  {
   "cell_type": "code",
   "execution_count": 28,
   "id": "235d1562",
   "metadata": {
    "ExecuteTime": {
     "end_time": "2024-01-09T19:29:45.937172Z",
     "start_time": "2024-01-09T19:29:45.920603Z"
    }
   },
   "outputs": [
    {
     "name": "stdout",
     "output_type": "stream",
     "text": [
      "Accuracy: 0.5527711084433774\n",
      "Precision: 0.47362771501127904\n",
      "Recall: 0.5527711084433774\n",
      "F1 Score: 0.48289808844953025\n",
      "Confusion Matrix:\n",
      "[[   1  160 3458]\n",
      " [   0 2209 3602]\n",
      " [   7 1714 8841]]\n"
     ]
    }
   ],
   "source": [
    "logistic = calculate_results(y_test, y_pred)"
   ]
  },
  {
   "cell_type": "code",
   "execution_count": 29,
   "id": "514c849f",
   "metadata": {
    "ExecuteTime": {
     "end_time": "2024-01-09T19:29:48.141780Z",
     "start_time": "2024-01-09T19:29:47.771752Z"
    }
   },
   "outputs": [
    {
     "name": "stdout",
     "output_type": "stream",
     "text": [
      "WARNING:tensorflow:From C:\\Users\\onral\\anaconda3\\Lib\\site-packages\\keras\\src\\backend.py:873: The name tf.get_default_graph is deprecated. Please use tf.compat.v1.get_default_graph instead.\n",
      "\n",
      "WARNING:tensorflow:From C:\\Users\\onral\\anaconda3\\Lib\\site-packages\\keras\\src\\optimizers\\__init__.py:309: The name tf.train.Optimizer is deprecated. Please use tf.compat.v1.train.Optimizer instead.\n",
      "\n"
     ]
    }
   ],
   "source": [
    "import tensorflow as tf\n",
    "from tensorflow.keras import layers\n",
    "\n",
    "model_3 = tf.keras.Sequential([\n",
    "    layers.Dense(64, activation='relu'),\n",
    "    layers.Dense(128, activation='relu'),\n",
    "    layers.Dense(512, activation='relu'),\n",
    "    layers.Dropout(0.3),\n",
    "    layers.BatchNormalization(),\n",
    "    layers.Dense(3, activation='softmax')\n",
    "])\n",
    "\n",
    "model_3.compile(loss='sparse_categorical_crossentropy', optimizer='adam', metrics=['accuracy'])\n"
   ]
  },
  {
   "cell_type": "code",
   "execution_count": 30,
   "id": "e8060656",
   "metadata": {
    "ExecuteTime": {
     "end_time": "2024-01-09T19:30:29.342977Z",
     "start_time": "2024-01-09T19:29:49.179445Z"
    }
   },
   "outputs": [
    {
     "name": "stdout",
     "output_type": "stream",
     "text": [
      "Epoch 1/10\n",
      "WARNING:tensorflow:From C:\\Users\\onral\\anaconda3\\Lib\\site-packages\\keras\\src\\utils\\tf_utils.py:492: The name tf.ragged.RaggedTensorValue is deprecated. Please use tf.compat.v1.ragged.RaggedTensorValue instead.\n",
      "\n",
      "WARNING:tensorflow:From C:\\Users\\onral\\anaconda3\\Lib\\site-packages\\keras\\src\\engine\\base_layer_utils.py:384: The name tf.executing_eagerly_outside_functions is deprecated. Please use tf.compat.v1.executing_eagerly_outside_functions instead.\n",
      "\n",
      "2499/2499 [==============================] - 5s 2ms/step - loss: 0.9477 - accuracy: 0.5348 - val_loss: 0.9319 - val_accuracy: 0.5277\n",
      "Epoch 2/10\n",
      "2499/2499 [==============================] - 4s 2ms/step - loss: 0.9144 - accuracy: 0.5511 - val_loss: 0.9388 - val_accuracy: 0.5773\n",
      "Epoch 3/10\n",
      "2499/2499 [==============================] - 4s 2ms/step - loss: 0.9057 - accuracy: 0.5556 - val_loss: 0.9034 - val_accuracy: 0.5319\n",
      "Epoch 4/10\n",
      "2499/2499 [==============================] - 4s 2ms/step - loss: 0.9038 - accuracy: 0.5598 - val_loss: 0.9533 - val_accuracy: 0.5282\n",
      "Epoch 5/10\n",
      "2499/2499 [==============================] - 4s 2ms/step - loss: 0.8842 - accuracy: 0.5742 - val_loss: 0.8985 - val_accuracy: 0.5469\n",
      "Epoch 6/10\n",
      "2499/2499 [==============================] - 4s 2ms/step - loss: 0.8749 - accuracy: 0.5819 - val_loss: 0.9624 - val_accuracy: 0.5305\n",
      "Epoch 7/10\n",
      "2499/2499 [==============================] - 4s 1ms/step - loss: 0.8884 - accuracy: 0.5720 - val_loss: 0.9074 - val_accuracy: 0.6089\n",
      "Epoch 8/10\n",
      "2499/2499 [==============================] - 4s 2ms/step - loss: 0.8891 - accuracy: 0.5765 - val_loss: 1.1867 - val_accuracy: 0.5359\n",
      "Epoch 9/10\n",
      "2499/2499 [==============================] - 4s 1ms/step - loss: 0.8721 - accuracy: 0.5833 - val_loss: 0.8910 - val_accuracy: 0.6124\n",
      "Epoch 10/10\n",
      "2499/2499 [==============================] - 4s 2ms/step - loss: 0.8536 - accuracy: 0.5901 - val_loss: 0.8328 - val_accuracy: 0.6150\n"
     ]
    }
   ],
   "source": [
    "history = model_3.fit(X_train, y_train, validation_data = (X_test,y_test), epochs = 10)"
   ]
  },
  {
   "cell_type": "code",
   "execution_count": 31,
   "id": "01281a4a",
   "metadata": {
    "ExecuteTime": {
     "end_time": "2024-01-09T19:30:36.909674Z",
     "start_time": "2024-01-09T19:30:36.781991Z"
    }
   },
   "outputs": [
    {
     "data": {
      "image/png": "[encoded data removed]",
      "text/plain": [
       "<Figure size 640x480 with 1 Axes>"
      ]
     },
     "metadata": {},
     "output_type": "display_data"
    }
   ],
   "source": [
    "\n",
    "# Assuming 'history' is the object returned by model.fit(...)\n",
    "# Replace 'history' with the actual variable name used in your code\n",
    "# For example, history = model.fit(...)\n",
    "\n",
    "# Plot training loss\n",
    "plt.plot(history.history['loss'], label='Training Loss')\n",
    "# Optionally, plot validation loss if available\n",
    "if 'val_loss' in history.history:\n",
    "    plt.plot(history.history['val_loss'], label='Validation Loss')\n",
    "\n",
    "plt.xlabel('Epoch')\n",
    "plt.ylabel('Loss')\n",
    "plt.title('Training and Validation Loss Curves')\n",
    "plt.legend()\n",
    "plt.show()"
   ]
  },
  {
   "cell_type": "code",
   "execution_count": 32,
   "id": "dcd08934",
   "metadata": {
    "ExecuteTime": {
     "end_time": "2024-01-09T19:30:39.071494Z",
     "start_time": "2024-01-09T19:30:38.257684Z"
    }
   },
   "outputs": [
    {
     "name": "stdout",
     "output_type": "stream",
     "text": [
      "625/625 [==============================] - 1s 794us/step\n"
     ]
    }
   ],
   "source": [
    "\n",
    "y_prob = model_3.predict(X_test)\n",
    "y_pred = tf.argmax(y_prob, axis = 1)"
   ]
  },
  {
   "cell_type": "code",
   "execution_count": 33,
   "id": "a348653f",
   "metadata": {
    "ExecuteTime": {
     "end_time": "2024-01-09T19:30:40.272922Z",
     "start_time": "2024-01-09T19:30:40.145617Z"
    }
   },
   "outputs": [
    {
     "data": {
      "image/png": "[encoded data removed]",
      "text/plain": [
       "<Figure size 800x600 with 2 Axes>"
      ]
     },
     "metadata": {},
     "output_type": "display_data"
    }
   ],
   "source": [
    "cm = confusion_matrix(y_test, y_pred)\n",
    "\n",
    "# Create a seaborn heatmap for visualization\n",
    "plt.figure(figsize=(8, 6))\n",
    "sns.heatmap(cm, annot=True, fmt='d', cmap='Blues', xticklabels=['Predicted 0', 'Predicted 1'], yticklabels=['Actual 0', 'Actual 1'])\n",
    "plt.title('Confusion Matrix')\n",
    "plt.xlabel('Predicted Label')\n",
    "plt.ylabel('True Label')\n",
    "plt.show()"
   ]
  },
  {
   "cell_type": "code",
   "execution_count": 34,
   "id": "0f34e716",
   "metadata": {
    "ExecuteTime": {
     "end_time": "2024-01-09T19:30:41.604821Z",
     "start_time": "2024-01-09T19:30:41.600409Z"
    }
   },
   "outputs": [
    {
     "data": {
      "text/plain": [
       "0.615046018407363"
      ]
     },
     "execution_count": 34,
     "metadata": {},
     "output_type": "execute_result"
    }
   ],
   "source": [
    "accuracy_score(y_test, y_pred)"
   ]
  },
  {
   "cell_type": "code",
   "execution_count": 35,
   "id": "83c248c5",
   "metadata": {
    "ExecuteTime": {
     "end_time": "2024-01-09T19:30:42.778913Z",
     "start_time": "2024-01-09T19:30:42.762036Z"
    }
   },
   "outputs": [
    {
     "name": "stdout",
     "output_type": "stream",
     "text": [
      "Accuracy: 0.615046018407363\n",
      "Precision: 0.5108807888257955\n",
      "Recall: 0.615046018407363\n",
      "F1 Score: 0.5494635960680069\n",
      "Confusion Matrix:\n",
      "[[   0   44 3575]\n",
      " [   4 3277 2530]\n",
      " [   0 1543 9019]]\n"
     ]
    }
   ],
   "source": [
    "dnn = calculate_results(y_test, y_pred)"
   ]
  },
  {
   "cell_type": "code",
   "execution_count": 36,
   "id": "e434f366",
   "metadata": {
    "ExecuteTime": {
     "end_time": "2024-01-09T19:35:11.596559Z",
     "start_time": "2024-01-09T19:30:44.134865Z"
    }
   },
   "outputs": [
    {
     "data": {
      "text/html": [
       "<style>#sk-container-id-4 {color: black;background-color: white;}#sk-container-id-4 pre{padding: 0;}#sk-container-id-4 div.sk-toggleable {background-color: white;}#sk-container-id-4 label.sk-toggleable__label {cursor: pointer;display: block;width: 100%;margin-bottom: 0;padding: 0.3em;box-sizing: border-box;text-align: center;}#sk-container-id-4 label.sk-toggleable__label-arrow:before {content: \"▸\";float: left;margin-right: 0.25em;color: #696969;}#sk-container-id-4 label.sk-toggleable__label-arrow:hover:before {color: black;}#sk-container-id-4 div.sk-estimator:hover label.sk-toggleable__label-arrow:before {color: black;}#sk-container-id-4 div.sk-toggleable__content {max-height: 0;max-width: 0;overflow: hidden;text-align: left;background-color: #f0f8ff;}#sk-container-id-4 div.sk-toggleable__content pre {margin: 0.2em;color: black;border-radius: 0.25em;background-color: #f0f8ff;}#sk-container-id-4 input.sk-toggleable__control:checked~div.sk-toggleable__content {max-height: 200px;max-width: 100%;overflow: auto;}#sk-container-id-4 input.sk-toggleable__control:checked~label.sk-toggleable__label-arrow:before {content: \"▾\";}#sk-container-id-4 div.sk-estimator input.sk-toggleable__control:checked~label.sk-toggleable__label {background-color: #d4ebff;}#sk-container-id-4 div.sk-label input.sk-toggleable__control:checked~label.sk-toggleable__label {background-color: #d4ebff;}#sk-container-id-4 input.sk-hidden--visually {border: 0;clip: rect(1px 1px 1px 1px);clip: rect(1px, 1px, 1px, 1px);height: 1px;margin: -1px;overflow: hidden;padding: 0;position: absolute;width: 1px;}#sk-container-id-4 div.sk-estimator {font-family: monospace;background-color: #f0f8ff;border: 1px dotted black;border-radius: 0.25em;box-sizing: border-box;margin-bottom: 0.5em;}#sk-container-id-4 div.sk-estimator:hover {background-color: #d4ebff;}#sk-container-id-4 div.sk-parallel-item::after {content: \"\";width: 100%;border-bottom: 1px solid gray;flex-grow: 1;}#sk-container-id-4 div.sk-label:hover label.sk-toggleable__label {background-color: #d4ebff;}#sk-container-id-4 div.sk-serial::before {content: \"\";position: absolute;border-left: 1px solid gray;box-sizing: border-box;top: 0;bottom: 0;left: 50%;z-index: 0;}#sk-container-id-4 div.sk-serial {display: flex;flex-direction: column;align-items: center;background-color: white;padding-right: 0.2em;padding-left: 0.2em;position: relative;}#sk-container-id-4 div.sk-item {position: relative;z-index: 1;}#sk-container-id-4 div.sk-parallel {display: flex;align-items: stretch;justify-content: center;background-color: white;position: relative;}#sk-container-id-4 div.sk-item::before, #sk-container-id-4 div.sk-parallel-item::before {content: \"\";position: absolute;border-left: 1px solid gray;box-sizing: border-box;top: 0;bottom: 0;left: 50%;z-index: -1;}#sk-container-id-4 div.sk-parallel-item {display: flex;flex-direction: column;z-index: 1;position: relative;background-color: white;}#sk-container-id-4 div.sk-parallel-item:first-child::after {align-self: flex-end;width: 50%;}#sk-container-id-4 div.sk-parallel-item:last-child::after {align-self: flex-start;width: 50%;}#sk-container-id-4 div.sk-parallel-item:only-child::after {width: 0;}#sk-container-id-4 div.sk-dashed-wrapped {border: 1px dashed gray;margin: 0 0.4em 0.5em 0.4em;box-sizing: border-box;padding-bottom: 0.4em;background-color: white;}#sk-container-id-4 div.sk-label label {font-family: monospace;font-weight: bold;display: inline-block;line-height: 1.2em;}#sk-container-id-4 div.sk-label-container {text-align: center;}#sk-container-id-4 div.sk-container {/* jupyter's `normalize.less` sets `[hidden] { display: none; }` but bootstrap.min.css set `[hidden] { display: none !important; }` so we also need the `!important` here to be able to override the default hidden behavior on the sphinx rendered scikit-learn.org. See: https://github.com/scikit-learn/scikit-learn/issues/21755 */display: inline-block !important;position: relative;}#sk-container-id-4 div.sk-text-repr-fallback {display: none;}</style><div id=\"sk-container-id-4\" class=\"sk-top-container\"><div class=\"sk-text-repr-fallback\"><pre>RandomForestClassifier(criterion=&#x27;entropy&#x27;, n_estimators=1000, random_state=42)</pre><b>In a Jupyter environment, please rerun this cell to show the HTML representation or trust the notebook. <br />On GitHub, the HTML representation is unable to render, please try loading this page with nbviewer.org.</b></div><div class=\"sk-container\" hidden><div class=\"sk-item\"><div class=\"sk-estimator sk-toggleable\"><input class=\"sk-toggleable__control sk-hidden--visually\" id=\"sk-estimator-id-4\" type=\"checkbox\" checked><label for=\"sk-estimator-id-4\" class=\"sk-toggleable__label sk-toggleable__label-arrow\">RandomForestClassifier</label><div class=\"sk-toggleable__content\"><pre>RandomForestClassifier(criterion=&#x27;entropy&#x27;, n_estimators=1000, random_state=42)</pre></div></div></div></div></div>"
      ],
      "text/plain": [
       "RandomForestClassifier(criterion='entropy', n_estimators=1000, random_state=42)"
      ]
     },
     "execution_count": 36,
     "metadata": {},
     "output_type": "execute_result"
    }
   ],
   "source": [
    "\n",
    "from sklearn.ensemble import RandomForestClassifier\n",
    "model_4 = RandomForestClassifier(n_estimators=1000,criterion='entropy',random_state = 42)\n",
    "model_4.fit(X_train, y_train)"
   ]
  },
  {
   "cell_type": "code",
   "execution_count": 37,
   "id": "8f66855f",
   "metadata": {
    "ExecuteTime": {
     "end_time": "2024-01-09T19:39:30.412115Z",
     "start_time": "2024-01-09T19:39:26.241159Z"
    }
   },
   "outputs": [],
   "source": [
    "y_pred = model_4.predict(X_test)"
   ]
  },
  {
   "cell_type": "code",
   "execution_count": 38,
   "id": "6b20f674",
   "metadata": {
    "ExecuteTime": {
     "end_time": "2024-01-09T19:39:30.563664Z",
     "start_time": "2024-01-09T19:39:30.413152Z"
    }
   },
   "outputs": [
    {
     "data": {
      "image/png": "[encoded data removed]",
      "text/plain": [
       "<Figure size 800x600 with 2 Axes>"
      ]
     },
     "metadata": {},
     "output_type": "display_data"
    }
   ],
   "source": [
    "cm = confusion_matrix(y_test, y_pred)\n",
    "\n",
    "# Create a seaborn heatmap for visualization\n",
    "plt.figure(figsize=(8, 6))\n",
    "sns.heatmap(cm, annot=True, fmt='d', cmap='Blues', xticklabels=['Predicted 0', 'Predicted 1'], yticklabels=['Actual 0', 'Actual 1'])\n",
    "plt.title('Confusion Matrix')\n",
    "plt.xlabel('Predicted Label')\n",
    "plt.ylabel('True Label')\n",
    "plt.show()"
   ]
  },
  {
   "cell_type": "code",
   "execution_count": 39,
   "id": "194817cc",
   "metadata": {
    "ExecuteTime": {
     "end_time": "2024-01-09T19:39:33.040752Z",
     "start_time": "2024-01-09T19:39:33.036617Z"
    }
   },
   "outputs": [
    {
     "data": {
      "text/plain": [
       "0.8127250900360145"
      ]
     },
     "execution_count": 39,
     "metadata": {},
     "output_type": "execute_result"
    }
   ],
   "source": [
    "accuracy_score(y_test, y_pred)"
   ]
  },
  {
   "cell_type": "code",
   "execution_count": 40,
   "id": "6c4b1db8",
   "metadata": {
    "ExecuteTime": {
     "end_time": "2024-01-09T19:39:34.592203Z",
     "start_time": "2024-01-09T19:39:34.574245Z"
    }
   },
   "outputs": [
    {
     "name": "stdout",
     "output_type": "stream",
     "text": [
      "Accuracy: 0.8127250900360145\n",
      "Precision: 0.8128620687735713\n",
      "Recall: 0.8127250900360145\n",
      "F1 Score: 0.812596265524638\n",
      "Confusion Matrix:\n",
      "[[2749   13  857]\n",
      " [  12 4876  923]\n",
      " [ 737 1202 8623]]\n"
     ]
    }
   ],
   "source": [
    "\n",
    "random_forest = calculate_results(y_test, y_pred)"
   ]
  },
  {
   "cell_type": "code",
   "execution_count": 41,
   "id": "05b510a7",
   "metadata": {
    "ExecuteTime": {
     "end_time": "2024-01-09T19:39:36.715215Z",
     "start_time": "2024-01-09T19:39:35.939311Z"
    }
   },
   "outputs": [],
   "source": [
    "import xgboost as xgb\n",
    "from sklearn.metrics import accuracy_score, precision_score, recall_score, f1_score, confusion_matrix\n",
    "\n",
    "# Assuming you have trained an XGBoost model and made predictions\n",
    "xgb_model = xgb.XGBClassifier()\n",
    "xgb_model.fit(X_train, y_train)\n",
    "y_pred_xgboost = xgb_model.predict(X_test)\n",
    "\n",
    "# Calculate performance metrics\n",
    "accuracy_xgboost = accuracy_score(y_test, y_pred_xgboost)\n",
    "precision_xgboost = precision_score(y_test, y_pred_xgboost, average='weighted')\n",
    "recall_xgboost = recall_score(y_test, y_pred_xgboost, average='weighted')\n",
    "f1_xgboost = f1_score(y_test, y_pred_xgboost, average='weighted')\n",
    "confusion_matrix_xgboost = confusion_matrix(y_test, y_pred_xgboost)\n",
    "\n",
    "# Create a dictionary or a list with the metrics\n",
    "Xgboost = {\n",
    "    'Accuracy': accuracy_xgboost,\n",
    "    'Precision': precision_xgboost,\n",
    "    'Recall': recall_xgboost,\n",
    "    'F1 Score': f1_xgboost,\n",
    "    'Confusion Matrix': confusion_matrix_xgboost\n",
    "}\n",
    "\n",
    "# Now, you can use Xgboost in your DataFrame\n",
    "model_perf = pd.DataFrame({\"XGBoost\": Xgboost, \"Logistic Regression\": logistic, \"Deep Neural Network\": dnn, \"Random Forest\": random_forest})\n"
   ]
  },
  {
   "cell_type": "code",
   "execution_count": 42,
   "id": "e1cf435a",
   "metadata": {
    "ExecuteTime": {
     "end_time": "2024-01-09T19:39:37.659445Z",
     "start_time": "2024-01-09T19:39:37.656245Z"
    }
   },
   "outputs": [],
   "source": [
    "model_perf = model_perf.transpose()"
   ]
  },
  {
   "cell_type": "code",
   "execution_count": 43,
   "id": "4b883dd0",
   "metadata": {
    "ExecuteTime": {
     "end_time": "2024-01-09T19:39:39.578657Z",
     "start_time": "2024-01-09T19:39:39.568356Z"
    }
   },
   "outputs": [
    {
     "data": {
      "text/html": [
       "<div>\n",
       "<style scoped>\n",
       "    .dataframe tbody tr th:only-of-type {\n",
       "        vertical-align: middle;\n",
       "    }\n",
       "\n",
       "    .dataframe tbody tr th {\n",
       "        vertical-align: top;\n",
       "    }\n",
       "\n",
       "    .dataframe thead th {\n",
       "        text-align: right;\n",
       "    }\n",
       "</style>\n",
       "<table border=\"1\" class=\"dataframe\">\n",
       "  <thead>\n",
       "    <tr style=\"text-align: right;\">\n",
       "      <th></th>\n",
       "      <th>Accuracy</th>\n",
       "      <th>Precision</th>\n",
       "      <th>Recall</th>\n",
       "      <th>F1 Score</th>\n",
       "      <th>Confusion Matrix</th>\n",
       "      <th>accuracy</th>\n",
       "      <th>precision</th>\n",
       "      <th>recall</th>\n",
       "      <th>f1</th>\n",
       "      <th>confusion_matrix</th>\n",
       "    </tr>\n",
       "  </thead>\n",
       "  <tbody>\n",
       "    <tr>\n",
       "      <th>Random Forest</th>\n",
       "      <td>NaN</td>\n",
       "      <td>NaN</td>\n",
       "      <td>NaN</td>\n",
       "      <td>NaN</td>\n",
       "      <td>NaN</td>\n",
       "      <td>0.812725</td>\n",
       "      <td>0.812862</td>\n",
       "      <td>0.812725</td>\n",
       "      <td>0.812596</td>\n",
       "      <td>[[2749, 13, 857], [12, 4876, 923], [737, 1202,...</td>\n",
       "    </tr>\n",
       "    <tr>\n",
       "      <th>Deep Neural Network</th>\n",
       "      <td>NaN</td>\n",
       "      <td>NaN</td>\n",
       "      <td>NaN</td>\n",
       "      <td>NaN</td>\n",
       "      <td>NaN</td>\n",
       "      <td>0.615046</td>\n",
       "      <td>0.510881</td>\n",
       "      <td>0.615046</td>\n",
       "      <td>0.549464</td>\n",
       "      <td>[[0, 44, 3575], [4, 3277, 2530], [0, 1543, 9019]]</td>\n",
       "    </tr>\n",
       "    <tr>\n",
       "      <th>Logistic Regression</th>\n",
       "      <td>NaN</td>\n",
       "      <td>NaN</td>\n",
       "      <td>NaN</td>\n",
       "      <td>NaN</td>\n",
       "      <td>NaN</td>\n",
       "      <td>0.552771</td>\n",
       "      <td>0.473628</td>\n",
       "      <td>0.552771</td>\n",
       "      <td>0.482898</td>\n",
       "      <td>[[1, 160, 3458], [0, 2209, 3602], [7, 1714, 88...</td>\n",
       "    </tr>\n",
       "    <tr>\n",
       "      <th>XGBoost</th>\n",
       "      <td>0.766607</td>\n",
       "      <td>0.767193</td>\n",
       "      <td>0.766607</td>\n",
       "      <td>0.766765</td>\n",
       "      <td>[[2637, 48, 934], [207, 4317, 1287], [944, 124...</td>\n",
       "      <td>NaN</td>\n",
       "      <td>NaN</td>\n",
       "      <td>NaN</td>\n",
       "      <td>NaN</td>\n",
       "      <td>NaN</td>\n",
       "    </tr>\n",
       "  </tbody>\n",
       "</table>\n",
       "</div>"
      ],
      "text/plain": [
       "                     Accuracy Precision    Recall  F1 Score  \\\n",
       "Random Forest             NaN       NaN       NaN       NaN   \n",
       "Deep Neural Network       NaN       NaN       NaN       NaN   \n",
       "Logistic Regression       NaN       NaN       NaN       NaN   \n",
       "XGBoost              0.766607  0.767193  0.766607  0.766765   \n",
       "\n",
       "                                                      Confusion Matrix  \\\n",
       "Random Forest                                                      NaN   \n",
       "Deep Neural Network                                                NaN   \n",
       "Logistic Regression                                                NaN   \n",
       "XGBoost              [[2637, 48, 934], [207, 4317, 1287], [944, 124...   \n",
       "\n",
       "                     accuracy precision    recall        f1  \\\n",
       "Random Forest        0.812725  0.812862  0.812725  0.812596   \n",
       "Deep Neural Network  0.615046  0.510881  0.615046  0.549464   \n",
       "Logistic Regression  0.552771  0.473628  0.552771  0.482898   \n",
       "XGBoost                   NaN       NaN       NaN       NaN   \n",
       "\n",
       "                                                      confusion_matrix  \n",
       "Random Forest        [[2749, 13, 857], [12, 4876, 923], [737, 1202,...  \n",
       "Deep Neural Network  [[0, 44, 3575], [4, 3277, 2530], [0, 1543, 9019]]  \n",
       "Logistic Regression  [[1, 160, 3458], [0, 2209, 3602], [7, 1714, 88...  \n",
       "XGBoost                                                            NaN  "
      ]
     },
     "execution_count": 43,
     "metadata": {},
     "output_type": "execute_result"
    }
   ],
   "source": [
    "model_perf.sort_values(by=['accuracy'],ascending=False)"
   ]
  },
  {
   "cell_type": "code",
   "execution_count": 44,
   "id": "9b56edee",
   "metadata": {
    "ExecuteTime": {
     "end_time": "2024-01-09T19:39:45.641618Z",
     "start_time": "2024-01-09T19:39:45.627319Z"
    }
   },
   "outputs": [],
   "source": [
    "df1 = df.copy()"
   ]
  },
  {
   "cell_type": "code",
   "execution_count": 45,
   "id": "d008b438",
   "metadata": {
    "ExecuteTime": {
     "end_time": "2024-01-09T19:39:47.445044Z",
     "start_time": "2024-01-09T19:39:47.433585Z"
    }
   },
   "outputs": [
    {
     "name": "stdout",
     "output_type": "stream",
     "text": [
      "<class 'pandas.core.frame.DataFrame'>\n",
      "RangeIndex: 99960 entries, 0 to 99959\n",
      "Data columns (total 30 columns):\n",
      " #   Column                                              Non-Null Count  Dtype  \n",
      "---  ------                                              --------------  -----  \n",
      " 0   Delay_from_due_date                                 99960 non-null  float64\n",
      " 1   Num_of_Delayed_Payment                              99960 non-null  float64\n",
      " 2   Num_Credit_Inquiries                                99960 non-null  float64\n",
      " 3   Credit_Utilization_Ratio                            99960 non-null  float64\n",
      " 4   Credit_History_Age                                  99960 non-null  float64\n",
      " 5   Amount_invested_monthly                             99960 non-null  float64\n",
      " 6   Monthly_Balance                                     99960 non-null  float64\n",
      " 7   Credit_Score                                        99960 non-null  int32  \n",
      " 8   Age                                                 99960 non-null  float64\n",
      " 9   Annual_Income                                       99960 non-null  float64\n",
      " 10  Num_Bank_Accounts                                   99960 non-null  float64\n",
      " 11  Num_Credit_Card                                     99960 non-null  float64\n",
      " 12  Interest_Rate                                       99960 non-null  float64\n",
      " 13  Num_of_Loan                                         99960 non-null  float64\n",
      " 14  Monthly_Inhand_Salary                               99960 non-null  float64\n",
      " 15  Changed_Credit_Limit                                99960 non-null  float64\n",
      " 16  Outstanding_Debt                                    99960 non-null  float64\n",
      " 17  Total_EMI_per_month                                 99960 non-null  float64\n",
      " 18  Credit_Mix_Bad                                      99960 non-null  uint8  \n",
      " 19  Credit_Mix_Good                                     99960 non-null  uint8  \n",
      " 20  Credit_Mix_Standard                                 99960 non-null  uint8  \n",
      " 21  Payment_Behaviour_High_spent_Large_value_payments   99960 non-null  uint8  \n",
      " 22  Payment_Behaviour_High_spent_Medium_value_payments  99960 non-null  uint8  \n",
      " 23  Payment_Behaviour_High_spent_Small_value_payments   99960 non-null  uint8  \n",
      " 24  Payment_Behaviour_Low_spent_Large_value_payments    99960 non-null  uint8  \n",
      " 25  Payment_Behaviour_Low_spent_Medium_value_payments   99960 non-null  uint8  \n",
      " 26  Payment_Behaviour_Low_spent_Small_value_payments    99960 non-null  uint8  \n",
      " 27  Payment_of_Min_Amount_NM                            99960 non-null  uint8  \n",
      " 28  Payment_of_Min_Amount_No                            99960 non-null  uint8  \n",
      " 29  Payment_of_Min_Amount_Yes                           99960 non-null  uint8  \n",
      "dtypes: float64(17), int32(1), uint8(12)\n",
      "memory usage: 14.5 MB\n"
     ]
    }
   ],
   "source": [
    "df1.info()"
   ]
  },
  {
   "cell_type": "code",
   "execution_count": 46,
   "id": "3466bae8",
   "metadata": {
    "ExecuteTime": {
     "end_time": "2024-01-09T19:39:49.119159Z",
     "start_time": "2024-01-09T19:39:49.113746Z"
    }
   },
   "outputs": [
    {
     "data": {
      "text/plain": [
       "2    53149\n",
       "1    28988\n",
       "0    17823\n",
       "Name: Credit_Score, dtype: int64"
      ]
     },
     "execution_count": 46,
     "metadata": {},
     "output_type": "execute_result"
    }
   ],
   "source": [
    "df1['Credit_Score'].value_counts()"
   ]
  },
  {
   "cell_type": "code",
   "execution_count": 47,
   "id": "ca693d5f",
   "metadata": {
    "ExecuteTime": {
     "end_time": "2024-01-09T19:40:00.859919Z",
     "start_time": "2024-01-09T19:39:50.599728Z"
    }
   },
   "outputs": [
    {
     "name": "stdout",
     "output_type": "stream",
     "text": [
      "[LightGBM] [Info] Auto-choosing row-wise multi-threading, the overhead of testing was 0.001045 seconds.\n",
      "You can set `force_row_wise=true` to remove the overhead.\n",
      "And if memory is not enough, you can set `force_col_wise=true`.\n",
      "[LightGBM] [Info] Total Bins 2547\n",
      "[LightGBM] [Info] Number of data points in the train set: 66473, number of used features: 29\n",
      "[LightGBM] [Info] Start training from score -1.742091\n",
      "[LightGBM] [Info] Start training from score -1.244389\n",
      "[LightGBM] [Info] Start training from score -0.622262\n"
     ]
    },
    {
     "data": {
      "text/html": [
       "<style type=\"text/css\">\n",
       "#T_06cde_row8_col1, #T_06cde_row12_col1, #T_06cde_row14_col1 {\n",
       "  background-color: lightgreen;\n",
       "}\n",
       "</style>\n",
       "<table id=\"T_06cde\">\n",
       "  <thead>\n",
       "    <tr>\n",
       "      <th class=\"blank level0\" >&nbsp;</th>\n",
       "      <th id=\"T_06cde_level0_col0\" class=\"col_heading level0 col0\" >Description</th>\n",
       "      <th id=\"T_06cde_level0_col1\" class=\"col_heading level0 col1\" >Value</th>\n",
       "    </tr>\n",
       "  </thead>\n",
       "  <tbody>\n",
       "    <tr>\n",
       "      <th id=\"T_06cde_level0_row0\" class=\"row_heading level0 row0\" >0</th>\n",
       "      <td id=\"T_06cde_row0_col0\" class=\"data row0 col0\" >Session id</td>\n",
       "      <td id=\"T_06cde_row0_col1\" class=\"data row0 col1\" >3717</td>\n",
       "    </tr>\n",
       "    <tr>\n",
       "      <th id=\"T_06cde_level0_row1\" class=\"row_heading level0 row1\" >1</th>\n",
       "      <td id=\"T_06cde_row1_col0\" class=\"data row1 col0\" >Target</td>\n",
       "      <td id=\"T_06cde_row1_col1\" class=\"data row1 col1\" >Credit_Score</td>\n",
       "    </tr>\n",
       "    <tr>\n",
       "      <th id=\"T_06cde_level0_row2\" class=\"row_heading level0 row2\" >2</th>\n",
       "      <td id=\"T_06cde_row2_col0\" class=\"data row2 col0\" >Target type</td>\n",
       "      <td id=\"T_06cde_row2_col1\" class=\"data row2 col1\" >Multiclass</td>\n",
       "    </tr>\n",
       "    <tr>\n",
       "      <th id=\"T_06cde_level0_row3\" class=\"row_heading level0 row3\" >3</th>\n",
       "      <td id=\"T_06cde_row3_col0\" class=\"data row3 col0\" >Original data shape</td>\n",
       "      <td id=\"T_06cde_row3_col1\" class=\"data row3 col1\" >(99960, 30)</td>\n",
       "    </tr>\n",
       "    <tr>\n",
       "      <th id=\"T_06cde_level0_row4\" class=\"row_heading level0 row4\" >4</th>\n",
       "      <td id=\"T_06cde_row4_col0\" class=\"data row4 col0\" >Transformed data shape</td>\n",
       "      <td id=\"T_06cde_row4_col1\" class=\"data row4 col1\" >(96461, 6)</td>\n",
       "    </tr>\n",
       "    <tr>\n",
       "      <th id=\"T_06cde_level0_row5\" class=\"row_heading level0 row5\" >5</th>\n",
       "      <td id=\"T_06cde_row5_col0\" class=\"data row5 col0\" >Transformed train set shape</td>\n",
       "      <td id=\"T_06cde_row5_col1\" class=\"data row5 col1\" >(66473, 6)</td>\n",
       "    </tr>\n",
       "    <tr>\n",
       "      <th id=\"T_06cde_level0_row6\" class=\"row_heading level0 row6\" >6</th>\n",
       "      <td id=\"T_06cde_row6_col0\" class=\"data row6 col0\" >Transformed test set shape</td>\n",
       "      <td id=\"T_06cde_row6_col1\" class=\"data row6 col1\" >(29988, 6)</td>\n",
       "    </tr>\n",
       "    <tr>\n",
       "      <th id=\"T_06cde_level0_row7\" class=\"row_heading level0 row7\" >7</th>\n",
       "      <td id=\"T_06cde_row7_col0\" class=\"data row7 col0\" >Numeric features</td>\n",
       "      <td id=\"T_06cde_row7_col1\" class=\"data row7 col1\" >29</td>\n",
       "    </tr>\n",
       "    <tr>\n",
       "      <th id=\"T_06cde_level0_row8\" class=\"row_heading level0 row8\" >8</th>\n",
       "      <td id=\"T_06cde_row8_col0\" class=\"data row8 col0\" >Preprocess</td>\n",
       "      <td id=\"T_06cde_row8_col1\" class=\"data row8 col1\" >True</td>\n",
       "    </tr>\n",
       "    <tr>\n",
       "      <th id=\"T_06cde_level0_row9\" class=\"row_heading level0 row9\" >9</th>\n",
       "      <td id=\"T_06cde_row9_col0\" class=\"data row9 col0\" >Imputation type</td>\n",
       "      <td id=\"T_06cde_row9_col1\" class=\"data row9 col1\" >simple</td>\n",
       "    </tr>\n",
       "    <tr>\n",
       "      <th id=\"T_06cde_level0_row10\" class=\"row_heading level0 row10\" >10</th>\n",
       "      <td id=\"T_06cde_row10_col0\" class=\"data row10 col0\" >Numeric imputation</td>\n",
       "      <td id=\"T_06cde_row10_col1\" class=\"data row10 col1\" >mean</td>\n",
       "    </tr>\n",
       "    <tr>\n",
       "      <th id=\"T_06cde_level0_row11\" class=\"row_heading level0 row11\" >11</th>\n",
       "      <td id=\"T_06cde_row11_col0\" class=\"data row11 col0\" >Categorical imputation</td>\n",
       "      <td id=\"T_06cde_row11_col1\" class=\"data row11 col1\" >mode</td>\n",
       "    </tr>\n",
       "    <tr>\n",
       "      <th id=\"T_06cde_level0_row12\" class=\"row_heading level0 row12\" >12</th>\n",
       "      <td id=\"T_06cde_row12_col0\" class=\"data row12 col0\" >Remove outliers</td>\n",
       "      <td id=\"T_06cde_row12_col1\" class=\"data row12 col1\" >True</td>\n",
       "    </tr>\n",
       "    <tr>\n",
       "      <th id=\"T_06cde_level0_row13\" class=\"row_heading level0 row13\" >13</th>\n",
       "      <td id=\"T_06cde_row13_col0\" class=\"data row13 col0\" >Outliers threshold</td>\n",
       "      <td id=\"T_06cde_row13_col1\" class=\"data row13 col1\" >0.050000</td>\n",
       "    </tr>\n",
       "    <tr>\n",
       "      <th id=\"T_06cde_level0_row14\" class=\"row_heading level0 row14\" >14</th>\n",
       "      <td id=\"T_06cde_row14_col0\" class=\"data row14 col0\" >Feature selection</td>\n",
       "      <td id=\"T_06cde_row14_col1\" class=\"data row14 col1\" >True</td>\n",
       "    </tr>\n",
       "    <tr>\n",
       "      <th id=\"T_06cde_level0_row15\" class=\"row_heading level0 row15\" >15</th>\n",
       "      <td id=\"T_06cde_row15_col0\" class=\"data row15 col0\" >Feature selection method</td>\n",
       "      <td id=\"T_06cde_row15_col1\" class=\"data row15 col1\" >classic</td>\n",
       "    </tr>\n",
       "    <tr>\n",
       "      <th id=\"T_06cde_level0_row16\" class=\"row_heading level0 row16\" >16</th>\n",
       "      <td id=\"T_06cde_row16_col0\" class=\"data row16 col0\" >Feature selection estimator</td>\n",
       "      <td id=\"T_06cde_row16_col1\" class=\"data row16 col1\" >lightgbm</td>\n",
       "    </tr>\n",
       "    <tr>\n",
       "      <th id=\"T_06cde_level0_row17\" class=\"row_heading level0 row17\" >17</th>\n",
       "      <td id=\"T_06cde_row17_col0\" class=\"data row17 col0\" >Number of features selected</td>\n",
       "      <td id=\"T_06cde_row17_col1\" class=\"data row17 col1\" >0.200000</td>\n",
       "    </tr>\n",
       "    <tr>\n",
       "      <th id=\"T_06cde_level0_row18\" class=\"row_heading level0 row18\" >18</th>\n",
       "      <td id=\"T_06cde_row18_col0\" class=\"data row18 col0\" >Fold Generator</td>\n",
       "      <td id=\"T_06cde_row18_col1\" class=\"data row18 col1\" >StratifiedKFold</td>\n",
       "    </tr>\n",
       "    <tr>\n",
       "      <th id=\"T_06cde_level0_row19\" class=\"row_heading level0 row19\" >19</th>\n",
       "      <td id=\"T_06cde_row19_col0\" class=\"data row19 col0\" >Fold Number</td>\n",
       "      <td id=\"T_06cde_row19_col1\" class=\"data row19 col1\" >10</td>\n",
       "    </tr>\n",
       "    <tr>\n",
       "      <th id=\"T_06cde_level0_row20\" class=\"row_heading level0 row20\" >20</th>\n",
       "      <td id=\"T_06cde_row20_col0\" class=\"data row20 col0\" >CPU Jobs</td>\n",
       "      <td id=\"T_06cde_row20_col1\" class=\"data row20 col1\" >-1</td>\n",
       "    </tr>\n",
       "    <tr>\n",
       "      <th id=\"T_06cde_level0_row21\" class=\"row_heading level0 row21\" >21</th>\n",
       "      <td id=\"T_06cde_row21_col0\" class=\"data row21 col0\" >Use GPU</td>\n",
       "      <td id=\"T_06cde_row21_col1\" class=\"data row21 col1\" >False</td>\n",
       "    </tr>\n",
       "    <tr>\n",
       "      <th id=\"T_06cde_level0_row22\" class=\"row_heading level0 row22\" >22</th>\n",
       "      <td id=\"T_06cde_row22_col0\" class=\"data row22 col0\" >Log Experiment</td>\n",
       "      <td id=\"T_06cde_row22_col1\" class=\"data row22 col1\" >False</td>\n",
       "    </tr>\n",
       "    <tr>\n",
       "      <th id=\"T_06cde_level0_row23\" class=\"row_heading level0 row23\" >23</th>\n",
       "      <td id=\"T_06cde_row23_col0\" class=\"data row23 col0\" >Experiment Name</td>\n",
       "      <td id=\"T_06cde_row23_col1\" class=\"data row23 col1\" >clf-default-name</td>\n",
       "    </tr>\n",
       "    <tr>\n",
       "      <th id=\"T_06cde_level0_row24\" class=\"row_heading level0 row24\" >24</th>\n",
       "      <td id=\"T_06cde_row24_col0\" class=\"data row24 col0\" >USI</td>\n",
       "      <td id=\"T_06cde_row24_col1\" class=\"data row24 col1\" >3e6b</td>\n",
       "    </tr>\n",
       "  </tbody>\n",
       "</table>\n"
      ],
      "text/plain": [
       "<pandas.io.formats.style.Styler at 0x12166e10250>"
      ]
     },
     "metadata": {},
     "output_type": "display_data"
    }
   ],
   "source": [
    "from pycaret.classification import setup\n",
    "\n",
    "# Assuming df is your DataFrame\n",
    "clf1 = setup(data=df, target='Credit_Score', remove_outliers=True, feature_selection=True)\n"
   ]
  },
  {
   "cell_type": "code",
   "execution_count": 48,
   "id": "5c609bf3",
   "metadata": {
    "ExecuteTime": {
     "end_time": "2024-01-09T19:44:47.232425Z",
     "start_time": "2024-01-09T19:40:12.095445Z"
    }
   },
   "outputs": [
    {
     "data": {
      "text/html": [],
      "text/plain": [
       "<IPython.core.display.HTML object>"
      ]
     },
     "metadata": {},
     "output_type": "display_data"
    },
    {
     "data": {
      "text/html": [
       "<style type=\"text/css\">\n",
       "#T_fc28f th {\n",
       "  text-align: left;\n",
       "}\n",
       "#T_fc28f_row0_col0, #T_fc28f_row1_col0, #T_fc28f_row1_col1, #T_fc28f_row1_col2, #T_fc28f_row1_col3, #T_fc28f_row1_col4, #T_fc28f_row1_col5, #T_fc28f_row1_col6, #T_fc28f_row1_col7, #T_fc28f_row2_col0, #T_fc28f_row2_col1, #T_fc28f_row2_col2, #T_fc28f_row2_col3, #T_fc28f_row2_col4, #T_fc28f_row2_col5, #T_fc28f_row2_col6, #T_fc28f_row2_col7, #T_fc28f_row3_col0, #T_fc28f_row3_col1, #T_fc28f_row3_col2, #T_fc28f_row3_col3, #T_fc28f_row3_col4, #T_fc28f_row3_col5, #T_fc28f_row3_col6, #T_fc28f_row3_col7, #T_fc28f_row4_col0, #T_fc28f_row4_col1, #T_fc28f_row4_col2, #T_fc28f_row4_col3, #T_fc28f_row4_col4, #T_fc28f_row4_col5, #T_fc28f_row4_col6, #T_fc28f_row4_col7, #T_fc28f_row5_col0, #T_fc28f_row5_col1, #T_fc28f_row5_col2, #T_fc28f_row5_col3, #T_fc28f_row5_col4, #T_fc28f_row5_col5, #T_fc28f_row5_col6, #T_fc28f_row5_col7, #T_fc28f_row6_col0, #T_fc28f_row6_col1, #T_fc28f_row6_col2, #T_fc28f_row6_col3, #T_fc28f_row6_col4, #T_fc28f_row6_col5, #T_fc28f_row6_col6, #T_fc28f_row6_col7, #T_fc28f_row7_col0, #T_fc28f_row7_col1, #T_fc28f_row7_col2, #T_fc28f_row7_col3, #T_fc28f_row7_col4, #T_fc28f_row7_col5, #T_fc28f_row7_col6, #T_fc28f_row7_col7, #T_fc28f_row8_col0, #T_fc28f_row8_col1, #T_fc28f_row8_col2, #T_fc28f_row8_col3, #T_fc28f_row8_col4, #T_fc28f_row8_col5, #T_fc28f_row8_col6, #T_fc28f_row8_col7, #T_fc28f_row9_col0, #T_fc28f_row9_col1, #T_fc28f_row9_col2, #T_fc28f_row9_col3, #T_fc28f_row9_col4, #T_fc28f_row9_col5, #T_fc28f_row9_col6, #T_fc28f_row9_col7, #T_fc28f_row10_col0, #T_fc28f_row10_col1, #T_fc28f_row10_col2, #T_fc28f_row10_col3, #T_fc28f_row10_col4, #T_fc28f_row10_col5, #T_fc28f_row10_col6, #T_fc28f_row10_col7, #T_fc28f_row11_col0, #T_fc28f_row11_col1, #T_fc28f_row11_col2, #T_fc28f_row11_col3, #T_fc28f_row11_col4, #T_fc28f_row11_col5, #T_fc28f_row11_col6, #T_fc28f_row11_col7, #T_fc28f_row12_col0, #T_fc28f_row12_col1, #T_fc28f_row12_col2, #T_fc28f_row12_col3, #T_fc28f_row12_col4, #T_fc28f_row12_col5, #T_fc28f_row12_col6, #T_fc28f_row12_col7, #T_fc28f_row13_col0, #T_fc28f_row13_col1, #T_fc28f_row13_col2, #T_fc28f_row13_col3, #T_fc28f_row13_col4, #T_fc28f_row13_col5, #T_fc28f_row13_col6, #T_fc28f_row13_col7, #T_fc28f_row14_col0, #T_fc28f_row14_col1, #T_fc28f_row14_col2, #T_fc28f_row14_col3, #T_fc28f_row14_col4, #T_fc28f_row14_col5, #T_fc28f_row14_col6, #T_fc28f_row14_col7 {\n",
       "  text-align: left;\n",
       "}\n",
       "#T_fc28f_row0_col1, #T_fc28f_row0_col2, #T_fc28f_row0_col3, #T_fc28f_row0_col4, #T_fc28f_row0_col5, #T_fc28f_row0_col6, #T_fc28f_row0_col7 {\n",
       "  text-align: left;\n",
       "  background-color: yellow;\n",
       "}\n",
       "#T_fc28f_row0_col8, #T_fc28f_row1_col8, #T_fc28f_row2_col8, #T_fc28f_row3_col8, #T_fc28f_row4_col8, #T_fc28f_row5_col8, #T_fc28f_row6_col8, #T_fc28f_row7_col8, #T_fc28f_row8_col8, #T_fc28f_row10_col8, #T_fc28f_row11_col8, #T_fc28f_row12_col8, #T_fc28f_row13_col8, #T_fc28f_row14_col8 {\n",
       "  text-align: left;\n",
       "  background-color: lightgrey;\n",
       "}\n",
       "#T_fc28f_row9_col8 {\n",
       "  text-align: left;\n",
       "  background-color: yellow;\n",
       "  background-color: lightgrey;\n",
       "}\n",
       "</style>\n",
       "<table id=\"T_fc28f\">\n",
       "  <thead>\n",
       "    <tr>\n",
       "      <th class=\"blank level0\" >&nbsp;</th>\n",
       "      <th id=\"T_fc28f_level0_col0\" class=\"col_heading level0 col0\" >Model</th>\n",
       "      <th id=\"T_fc28f_level0_col1\" class=\"col_heading level0 col1\" >Accuracy</th>\n",
       "      <th id=\"T_fc28f_level0_col2\" class=\"col_heading level0 col2\" >AUC</th>\n",
       "      <th id=\"T_fc28f_level0_col3\" class=\"col_heading level0 col3\" >Recall</th>\n",
       "      <th id=\"T_fc28f_level0_col4\" class=\"col_heading level0 col4\" >Prec.</th>\n",
       "      <th id=\"T_fc28f_level0_col5\" class=\"col_heading level0 col5\" >F1</th>\n",
       "      <th id=\"T_fc28f_level0_col6\" class=\"col_heading level0 col6\" >Kappa</th>\n",
       "      <th id=\"T_fc28f_level0_col7\" class=\"col_heading level0 col7\" >MCC</th>\n",
       "      <th id=\"T_fc28f_level0_col8\" class=\"col_heading level0 col8\" >TT (Sec)</th>\n",
       "    </tr>\n",
       "  </thead>\n",
       "  <tbody>\n",
       "    <tr>\n",
       "      <th id=\"T_fc28f_level0_row0\" class=\"row_heading level0 row0\" >rf</th>\n",
       "      <td id=\"T_fc28f_row0_col0\" class=\"data row0 col0\" >Random Forest Classifier</td>\n",
       "      <td id=\"T_fc28f_row0_col1\" class=\"data row0 col1\" >0.8096</td>\n",
       "      <td id=\"T_fc28f_row0_col2\" class=\"data row0 col2\" >0.9102</td>\n",
       "      <td id=\"T_fc28f_row0_col3\" class=\"data row0 col3\" >0.8096</td>\n",
       "      <td id=\"T_fc28f_row0_col4\" class=\"data row0 col4\" >0.8096</td>\n",
       "      <td id=\"T_fc28f_row0_col5\" class=\"data row0 col5\" >0.8096</td>\n",
       "      <td id=\"T_fc28f_row0_col6\" class=\"data row0 col6\" >0.6833</td>\n",
       "      <td id=\"T_fc28f_row0_col7\" class=\"data row0 col7\" >0.6833</td>\n",
       "      <td id=\"T_fc28f_row0_col8\" class=\"data row0 col8\" >2.1440</td>\n",
       "    </tr>\n",
       "    <tr>\n",
       "      <th id=\"T_fc28f_level0_row1\" class=\"row_heading level0 row1\" >et</th>\n",
       "      <td id=\"T_fc28f_row1_col0\" class=\"data row1 col0\" >Extra Trees Classifier</td>\n",
       "      <td id=\"T_fc28f_row1_col1\" class=\"data row1 col1\" >0.8093</td>\n",
       "      <td id=\"T_fc28f_row1_col2\" class=\"data row1 col2\" >0.8943</td>\n",
       "      <td id=\"T_fc28f_row1_col3\" class=\"data row1 col3\" >0.8093</td>\n",
       "      <td id=\"T_fc28f_row1_col4\" class=\"data row1 col4\" >0.8094</td>\n",
       "      <td id=\"T_fc28f_row1_col5\" class=\"data row1 col5\" >0.8093</td>\n",
       "      <td id=\"T_fc28f_row1_col6\" class=\"data row1 col6\" >0.6830</td>\n",
       "      <td id=\"T_fc28f_row1_col7\" class=\"data row1 col7\" >0.6830</td>\n",
       "      <td id=\"T_fc28f_row1_col8\" class=\"data row1 col8\" >1.7450</td>\n",
       "    </tr>\n",
       "    <tr>\n",
       "      <th id=\"T_fc28f_level0_row2\" class=\"row_heading level0 row2\" >dt</th>\n",
       "      <td id=\"T_fc28f_row2_col0\" class=\"data row2 col0\" >Decision Tree Classifier</td>\n",
       "      <td id=\"T_fc28f_row2_col1\" class=\"data row2 col1\" >0.7975</td>\n",
       "      <td id=\"T_fc28f_row2_col2\" class=\"data row2 col2\" >0.8265</td>\n",
       "      <td id=\"T_fc28f_row2_col3\" class=\"data row2 col3\" >0.7975</td>\n",
       "      <td id=\"T_fc28f_row2_col4\" class=\"data row2 col4\" >0.7976</td>\n",
       "      <td id=\"T_fc28f_row2_col5\" class=\"data row2 col5\" >0.7975</td>\n",
       "      <td id=\"T_fc28f_row2_col6\" class=\"data row2 col6\" >0.6638</td>\n",
       "      <td id=\"T_fc28f_row2_col7\" class=\"data row2 col7\" >0.6638</td>\n",
       "      <td id=\"T_fc28f_row2_col8\" class=\"data row2 col8\" >1.1470</td>\n",
       "    </tr>\n",
       "    <tr>\n",
       "      <th id=\"T_fc28f_level0_row3\" class=\"row_heading level0 row3\" >knn</th>\n",
       "      <td id=\"T_fc28f_row3_col0\" class=\"data row3 col0\" >K Neighbors Classifier</td>\n",
       "      <td id=\"T_fc28f_row3_col1\" class=\"data row3 col1\" >0.7676</td>\n",
       "      <td id=\"T_fc28f_row3_col2\" class=\"data row3 col2\" >0.8796</td>\n",
       "      <td id=\"T_fc28f_row3_col3\" class=\"data row3 col3\" >0.7676</td>\n",
       "      <td id=\"T_fc28f_row3_col4\" class=\"data row3 col4\" >0.7688</td>\n",
       "      <td id=\"T_fc28f_row3_col5\" class=\"data row3 col5\" >0.7678</td>\n",
       "      <td id=\"T_fc28f_row3_col6\" class=\"data row3 col6\" >0.6169</td>\n",
       "      <td id=\"T_fc28f_row3_col7\" class=\"data row3 col7\" >0.6173</td>\n",
       "      <td id=\"T_fc28f_row3_col8\" class=\"data row3 col8\" >1.4870</td>\n",
       "    </tr>\n",
       "    <tr>\n",
       "      <th id=\"T_fc28f_level0_row4\" class=\"row_heading level0 row4\" >xgboost</th>\n",
       "      <td id=\"T_fc28f_row4_col0\" class=\"data row4 col0\" >Extreme Gradient Boosting</td>\n",
       "      <td id=\"T_fc28f_row4_col1\" class=\"data row4 col1\" >0.7250</td>\n",
       "      <td id=\"T_fc28f_row4_col2\" class=\"data row4 col2\" >0.8544</td>\n",
       "      <td id=\"T_fc28f_row4_col3\" class=\"data row4 col3\" >0.7250</td>\n",
       "      <td id=\"T_fc28f_row4_col4\" class=\"data row4 col4\" >0.7245</td>\n",
       "      <td id=\"T_fc28f_row4_col5\" class=\"data row4 col5\" >0.7195</td>\n",
       "      <td id=\"T_fc28f_row4_col6\" class=\"data row4 col6\" >0.5248</td>\n",
       "      <td id=\"T_fc28f_row4_col7\" class=\"data row4 col7\" >0.5292</td>\n",
       "      <td id=\"T_fc28f_row4_col8\" class=\"data row4 col8\" >1.6500</td>\n",
       "    </tr>\n",
       "    <tr>\n",
       "      <th id=\"T_fc28f_level0_row5\" class=\"row_heading level0 row5\" >lightgbm</th>\n",
       "      <td id=\"T_fc28f_row5_col0\" class=\"data row5 col0\" >Light Gradient Boosting Machine</td>\n",
       "      <td id=\"T_fc28f_row5_col1\" class=\"data row5 col1\" >0.6841</td>\n",
       "      <td id=\"T_fc28f_row5_col2\" class=\"data row5 col2\" >0.8260</td>\n",
       "      <td id=\"T_fc28f_row5_col3\" class=\"data row5 col3\" >0.6841</td>\n",
       "      <td id=\"T_fc28f_row5_col4\" class=\"data row5 col4\" >0.6840</td>\n",
       "      <td id=\"T_fc28f_row5_col5\" class=\"data row5 col5\" >0.6687</td>\n",
       "      <td id=\"T_fc28f_row5_col6\" class=\"data row5 col6\" >0.4385</td>\n",
       "      <td id=\"T_fc28f_row5_col7\" class=\"data row5 col7\" >0.4502</td>\n",
       "      <td id=\"T_fc28f_row5_col8\" class=\"data row5 col8\" >1.4810</td>\n",
       "    </tr>\n",
       "    <tr>\n",
       "      <th id=\"T_fc28f_level0_row6\" class=\"row_heading level0 row6\" >gbc</th>\n",
       "      <td id=\"T_fc28f_row6_col0\" class=\"data row6 col0\" >Gradient Boosting Classifier</td>\n",
       "      <td id=\"T_fc28f_row6_col1\" class=\"data row6 col1\" >0.6539</td>\n",
       "      <td id=\"T_fc28f_row6_col2\" class=\"data row6 col2\" >0.7876</td>\n",
       "      <td id=\"T_fc28f_row6_col3\" class=\"data row6 col3\" >0.6539</td>\n",
       "      <td id=\"T_fc28f_row6_col4\" class=\"data row6 col4\" >0.6507</td>\n",
       "      <td id=\"T_fc28f_row6_col5\" class=\"data row6 col5\" >0.6289</td>\n",
       "      <td id=\"T_fc28f_row6_col6\" class=\"data row6 col6\" >0.3727</td>\n",
       "      <td id=\"T_fc28f_row6_col7\" class=\"data row6 col7\" >0.3905</td>\n",
       "      <td id=\"T_fc28f_row6_col8\" class=\"data row6 col8\" >4.6580</td>\n",
       "    </tr>\n",
       "    <tr>\n",
       "      <th id=\"T_fc28f_level0_row7\" class=\"row_heading level0 row7\" >ada</th>\n",
       "      <td id=\"T_fc28f_row7_col0\" class=\"data row7 col0\" >Ada Boost Classifier</td>\n",
       "      <td id=\"T_fc28f_row7_col1\" class=\"data row7 col1\" >0.6252</td>\n",
       "      <td id=\"T_fc28f_row7_col2\" class=\"data row7 col2\" >0.6985</td>\n",
       "      <td id=\"T_fc28f_row7_col3\" class=\"data row7 col3\" >0.6252</td>\n",
       "      <td id=\"T_fc28f_row7_col4\" class=\"data row7 col4\" >0.6150</td>\n",
       "      <td id=\"T_fc28f_row7_col5\" class=\"data row7 col5\" >0.5944</td>\n",
       "      <td id=\"T_fc28f_row7_col6\" class=\"data row7 col6\" >0.3147</td>\n",
       "      <td id=\"T_fc28f_row7_col7\" class=\"data row7 col7\" >0.3345</td>\n",
       "      <td id=\"T_fc28f_row7_col8\" class=\"data row7 col8\" >1.7230</td>\n",
       "    </tr>\n",
       "    <tr>\n",
       "      <th id=\"T_fc28f_level0_row8\" class=\"row_heading level0 row8\" >lda</th>\n",
       "      <td id=\"T_fc28f_row8_col0\" class=\"data row8 col0\" >Linear Discriminant Analysis</td>\n",
       "      <td id=\"T_fc28f_row8_col1\" class=\"data row8 col1\" >0.5967</td>\n",
       "      <td id=\"T_fc28f_row8_col2\" class=\"data row8 col2\" >0.7200</td>\n",
       "      <td id=\"T_fc28f_row8_col3\" class=\"data row8 col3\" >0.5967</td>\n",
       "      <td id=\"T_fc28f_row8_col4\" class=\"data row8 col4\" >0.5786</td>\n",
       "      <td id=\"T_fc28f_row8_col5\" class=\"data row8 col5\" >0.5559</td>\n",
       "      <td id=\"T_fc28f_row8_col6\" class=\"data row8 col6\" >0.2485</td>\n",
       "      <td id=\"T_fc28f_row8_col7\" class=\"data row8 col7\" >0.2692</td>\n",
       "      <td id=\"T_fc28f_row8_col8\" class=\"data row8 col8\" >1.2590</td>\n",
       "    </tr>\n",
       "    <tr>\n",
       "      <th id=\"T_fc28f_level0_row9\" class=\"row_heading level0 row9\" >ridge</th>\n",
       "      <td id=\"T_fc28f_row9_col0\" class=\"data row9 col0\" >Ridge Classifier</td>\n",
       "      <td id=\"T_fc28f_row9_col1\" class=\"data row9 col1\" >0.5940</td>\n",
       "      <td id=\"T_fc28f_row9_col2\" class=\"data row9 col2\" >0.0000</td>\n",
       "      <td id=\"T_fc28f_row9_col3\" class=\"data row9 col3\" >0.5940</td>\n",
       "      <td id=\"T_fc28f_row9_col4\" class=\"data row9 col4\" >0.5800</td>\n",
       "      <td id=\"T_fc28f_row9_col5\" class=\"data row9 col5\" >0.5293</td>\n",
       "      <td id=\"T_fc28f_row9_col6\" class=\"data row9 col6\" >0.2190</td>\n",
       "      <td id=\"T_fc28f_row9_col7\" class=\"data row9 col7\" >0.2534</td>\n",
       "      <td id=\"T_fc28f_row9_col8\" class=\"data row9 col8\" >1.0770</td>\n",
       "    </tr>\n",
       "    <tr>\n",
       "      <th id=\"T_fc28f_level0_row10\" class=\"row_heading level0 row10\" >lr</th>\n",
       "      <td id=\"T_fc28f_row10_col0\" class=\"data row10 col0\" >Logistic Regression</td>\n",
       "      <td id=\"T_fc28f_row10_col1\" class=\"data row10 col1\" >0.5921</td>\n",
       "      <td id=\"T_fc28f_row10_col2\" class=\"data row10 col2\" >0.7153</td>\n",
       "      <td id=\"T_fc28f_row10_col3\" class=\"data row10 col3\" >0.5921</td>\n",
       "      <td id=\"T_fc28f_row10_col4\" class=\"data row10 col4\" >0.5766</td>\n",
       "      <td id=\"T_fc28f_row10_col5\" class=\"data row10 col5\" >0.5563</td>\n",
       "      <td id=\"T_fc28f_row10_col6\" class=\"data row10 col6\" >0.2434</td>\n",
       "      <td id=\"T_fc28f_row10_col7\" class=\"data row10 col7\" >0.2624</td>\n",
       "      <td id=\"T_fc28f_row10_col8\" class=\"data row10 col8\" >2.6310</td>\n",
       "    </tr>\n",
       "    <tr>\n",
       "      <th id=\"T_fc28f_level0_row11\" class=\"row_heading level0 row11\" >qda</th>\n",
       "      <td id=\"T_fc28f_row11_col0\" class=\"data row11 col0\" >Quadratic Discriminant Analysis</td>\n",
       "      <td id=\"T_fc28f_row11_col1\" class=\"data row11 col1\" >0.5817</td>\n",
       "      <td id=\"T_fc28f_row11_col2\" class=\"data row11 col2\" >0.7158</td>\n",
       "      <td id=\"T_fc28f_row11_col3\" class=\"data row11 col3\" >0.5817</td>\n",
       "      <td id=\"T_fc28f_row11_col4\" class=\"data row11 col4\" >0.5831</td>\n",
       "      <td id=\"T_fc28f_row11_col5\" class=\"data row11 col5\" >0.5762</td>\n",
       "      <td id=\"T_fc28f_row11_col6\" class=\"data row11 col6\" >0.2838</td>\n",
       "      <td id=\"T_fc28f_row11_col7\" class=\"data row11 col7\" >0.2875</td>\n",
       "      <td id=\"T_fc28f_row11_col8\" class=\"data row11 col8\" >1.3500</td>\n",
       "    </tr>\n",
       "    <tr>\n",
       "      <th id=\"T_fc28f_level0_row12\" class=\"row_heading level0 row12\" >nb</th>\n",
       "      <td id=\"T_fc28f_row12_col0\" class=\"data row12 col0\" >Naive Bayes</td>\n",
       "      <td id=\"T_fc28f_row12_col1\" class=\"data row12 col1\" >0.5557</td>\n",
       "      <td id=\"T_fc28f_row12_col2\" class=\"data row12 col2\" >0.6980</td>\n",
       "      <td id=\"T_fc28f_row12_col3\" class=\"data row12 col3\" >0.5557</td>\n",
       "      <td id=\"T_fc28f_row12_col4\" class=\"data row12 col4\" >0.6029</td>\n",
       "      <td id=\"T_fc28f_row12_col5\" class=\"data row12 col5\" >0.5595</td>\n",
       "      <td id=\"T_fc28f_row12_col6\" class=\"data row12 col6\" >0.3116</td>\n",
       "      <td id=\"T_fc28f_row12_col7\" class=\"data row12 col7\" >0.3260</td>\n",
       "      <td id=\"T_fc28f_row12_col8\" class=\"data row12 col8\" >1.2660</td>\n",
       "    </tr>\n",
       "    <tr>\n",
       "      <th id=\"T_fc28f_level0_row13\" class=\"row_heading level0 row13\" >dummy</th>\n",
       "      <td id=\"T_fc28f_row13_col0\" class=\"data row13 col0\" >Dummy Classifier</td>\n",
       "      <td id=\"T_fc28f_row13_col1\" class=\"data row13 col1\" >0.5317</td>\n",
       "      <td id=\"T_fc28f_row13_col2\" class=\"data row13 col2\" >0.5000</td>\n",
       "      <td id=\"T_fc28f_row13_col3\" class=\"data row13 col3\" >0.5317</td>\n",
       "      <td id=\"T_fc28f_row13_col4\" class=\"data row13 col4\" >0.2827</td>\n",
       "      <td id=\"T_fc28f_row13_col5\" class=\"data row13 col5\" >0.3691</td>\n",
       "      <td id=\"T_fc28f_row13_col6\" class=\"data row13 col6\" >0.0000</td>\n",
       "      <td id=\"T_fc28f_row13_col7\" class=\"data row13 col7\" >0.0000</td>\n",
       "      <td id=\"T_fc28f_row13_col8\" class=\"data row13 col8\" >1.2340</td>\n",
       "    </tr>\n",
       "    <tr>\n",
       "      <th id=\"T_fc28f_level0_row14\" class=\"row_heading level0 row14\" >svm</th>\n",
       "      <td id=\"T_fc28f_row14_col0\" class=\"data row14 col0\" >SVM - Linear Kernel</td>\n",
       "      <td id=\"T_fc28f_row14_col1\" class=\"data row14 col1\" >0.5285</td>\n",
       "      <td id=\"T_fc28f_row14_col2\" class=\"data row14 col2\" >0.0000</td>\n",
       "      <td id=\"T_fc28f_row14_col3\" class=\"data row14 col3\" >0.5285</td>\n",
       "      <td id=\"T_fc28f_row14_col4\" class=\"data row14 col4\" >0.5063</td>\n",
       "      <td id=\"T_fc28f_row14_col5\" class=\"data row14 col5\" >0.4697</td>\n",
       "      <td id=\"T_fc28f_row14_col6\" class=\"data row14 col6\" >0.1975</td>\n",
       "      <td id=\"T_fc28f_row14_col7\" class=\"data row14 col7\" >0.2193</td>\n",
       "      <td id=\"T_fc28f_row14_col8\" class=\"data row14 col8\" >1.6980</td>\n",
       "    </tr>\n",
       "  </tbody>\n",
       "</table>\n"
      ],
      "text/plain": [
       "<pandas.io.formats.style.Styler at 0x120a075be50>"
      ]
     },
     "metadata": {},
     "output_type": "display_data"
    },
    {
     "data": {
      "application/vnd.jupyter.widget-view+json": {
       "model_id": "",
       "version_major": 2,
       "version_minor": 0
      },
      "text/plain": [
       "Processing:   0%|          | 0/65 [00:00<?, ?it/s]"
      ]
     },
     "metadata": {},
     "output_type": "display_data"
    }
   ],
   "source": [
    "from pycaret.classification import compare_models\n",
    "best_model = compare_models()"
   ]
  },
  {
   "cell_type": "code",
   "execution_count": 49,
   "id": "337ffee7",
   "metadata": {
    "ExecuteTime": {
     "end_time": "2024-01-09T19:45:42.266560Z",
     "start_time": "2024-01-09T19:45:26.708839Z"
    }
   },
   "outputs": [
    {
     "data": {
      "text/html": [],
      "text/plain": [
       "<IPython.core.display.HTML object>"
      ]
     },
     "metadata": {},
     "output_type": "display_data"
    },
    {
     "data": {
      "text/html": [
       "<style type=\"text/css\">\n",
       "#T_79201_row10_col0, #T_79201_row10_col1, #T_79201_row10_col2, #T_79201_row10_col3, #T_79201_row10_col4, #T_79201_row10_col5, #T_79201_row10_col6 {\n",
       "  background: yellow;\n",
       "}\n",
       "</style>\n",
       "<table id=\"T_79201\">\n",
       "  <thead>\n",
       "    <tr>\n",
       "      <th class=\"blank level0\" >&nbsp;</th>\n",
       "      <th id=\"T_79201_level0_col0\" class=\"col_heading level0 col0\" >Accuracy</th>\n",
       "      <th id=\"T_79201_level0_col1\" class=\"col_heading level0 col1\" >AUC</th>\n",
       "      <th id=\"T_79201_level0_col2\" class=\"col_heading level0 col2\" >Recall</th>\n",
       "      <th id=\"T_79201_level0_col3\" class=\"col_heading level0 col3\" >Prec.</th>\n",
       "      <th id=\"T_79201_level0_col4\" class=\"col_heading level0 col4\" >F1</th>\n",
       "      <th id=\"T_79201_level0_col5\" class=\"col_heading level0 col5\" >Kappa</th>\n",
       "      <th id=\"T_79201_level0_col6\" class=\"col_heading level0 col6\" >MCC</th>\n",
       "    </tr>\n",
       "    <tr>\n",
       "      <th class=\"index_name level0\" >Fold</th>\n",
       "      <th class=\"blank col0\" >&nbsp;</th>\n",
       "      <th class=\"blank col1\" >&nbsp;</th>\n",
       "      <th class=\"blank col2\" >&nbsp;</th>\n",
       "      <th class=\"blank col3\" >&nbsp;</th>\n",
       "      <th class=\"blank col4\" >&nbsp;</th>\n",
       "      <th class=\"blank col5\" >&nbsp;</th>\n",
       "      <th class=\"blank col6\" >&nbsp;</th>\n",
       "    </tr>\n",
       "  </thead>\n",
       "  <tbody>\n",
       "    <tr>\n",
       "      <th id=\"T_79201_level0_row0\" class=\"row_heading level0 row0\" >0</th>\n",
       "      <td id=\"T_79201_row0_col0\" class=\"data row0 col0\" >0.7724</td>\n",
       "      <td id=\"T_79201_row0_col1\" class=\"data row0 col1\" >0.8836</td>\n",
       "      <td id=\"T_79201_row0_col2\" class=\"data row0 col2\" >0.7724</td>\n",
       "      <td id=\"T_79201_row0_col3\" class=\"data row0 col3\" >0.7730</td>\n",
       "      <td id=\"T_79201_row0_col4\" class=\"data row0 col4\" >0.7724</td>\n",
       "      <td id=\"T_79201_row0_col5\" class=\"data row0 col5\" >0.6237</td>\n",
       "      <td id=\"T_79201_row0_col6\" class=\"data row0 col6\" >0.6240</td>\n",
       "    </tr>\n",
       "    <tr>\n",
       "      <th id=\"T_79201_level0_row1\" class=\"row_heading level0 row1\" >1</th>\n",
       "      <td id=\"T_79201_row1_col0\" class=\"data row1 col0\" >0.7632</td>\n",
       "      <td id=\"T_79201_row1_col1\" class=\"data row1 col1\" >0.8774</td>\n",
       "      <td id=\"T_79201_row1_col2\" class=\"data row1 col2\" >0.7632</td>\n",
       "      <td id=\"T_79201_row1_col3\" class=\"data row1 col3\" >0.7634</td>\n",
       "      <td id=\"T_79201_row1_col4\" class=\"data row1 col4\" >0.7633</td>\n",
       "      <td id=\"T_79201_row1_col5\" class=\"data row1 col5\" >0.6071</td>\n",
       "      <td id=\"T_79201_row1_col6\" class=\"data row1 col6\" >0.6072</td>\n",
       "    </tr>\n",
       "    <tr>\n",
       "      <th id=\"T_79201_level0_row2\" class=\"row_heading level0 row2\" >2</th>\n",
       "      <td id=\"T_79201_row2_col0\" class=\"data row2 col0\" >0.7713</td>\n",
       "      <td id=\"T_79201_row2_col1\" class=\"data row2 col1\" >0.8793</td>\n",
       "      <td id=\"T_79201_row2_col2\" class=\"data row2 col2\" >0.7713</td>\n",
       "      <td id=\"T_79201_row2_col3\" class=\"data row2 col3\" >0.7730</td>\n",
       "      <td id=\"T_79201_row2_col4\" class=\"data row2 col4\" >0.7716</td>\n",
       "      <td id=\"T_79201_row2_col5\" class=\"data row2 col5\" >0.6241</td>\n",
       "      <td id=\"T_79201_row2_col6\" class=\"data row2 col6\" >0.6248</td>\n",
       "    </tr>\n",
       "    <tr>\n",
       "      <th id=\"T_79201_level0_row3\" class=\"row_heading level0 row3\" >3</th>\n",
       "      <td id=\"T_79201_row3_col0\" class=\"data row3 col0\" >0.7640</td>\n",
       "      <td id=\"T_79201_row3_col1\" class=\"data row3 col1\" >0.8783</td>\n",
       "      <td id=\"T_79201_row3_col2\" class=\"data row3 col2\" >0.7640</td>\n",
       "      <td id=\"T_79201_row3_col3\" class=\"data row3 col3\" >0.7648</td>\n",
       "      <td id=\"T_79201_row3_col4\" class=\"data row3 col4\" >0.7641</td>\n",
       "      <td id=\"T_79201_row3_col5\" class=\"data row3 col5\" >0.6101</td>\n",
       "      <td id=\"T_79201_row3_col6\" class=\"data row3 col6\" >0.6105</td>\n",
       "    </tr>\n",
       "    <tr>\n",
       "      <th id=\"T_79201_level0_row4\" class=\"row_heading level0 row4\" >4</th>\n",
       "      <td id=\"T_79201_row4_col0\" class=\"data row4 col0\" >0.7649</td>\n",
       "      <td id=\"T_79201_row4_col1\" class=\"data row4 col1\" >0.8794</td>\n",
       "      <td id=\"T_79201_row4_col2\" class=\"data row4 col2\" >0.7649</td>\n",
       "      <td id=\"T_79201_row4_col3\" class=\"data row4 col3\" >0.7665</td>\n",
       "      <td id=\"T_79201_row4_col4\" class=\"data row4 col4\" >0.7652</td>\n",
       "      <td id=\"T_79201_row4_col5\" class=\"data row4 col5\" >0.6131</td>\n",
       "      <td id=\"T_79201_row4_col6\" class=\"data row4 col6\" >0.6137</td>\n",
       "    </tr>\n",
       "    <tr>\n",
       "      <th id=\"T_79201_level0_row5\" class=\"row_heading level0 row5\" >5</th>\n",
       "      <td id=\"T_79201_row5_col0\" class=\"data row5 col0\" >0.7668</td>\n",
       "      <td id=\"T_79201_row5_col1\" class=\"data row5 col1\" >0.8787</td>\n",
       "      <td id=\"T_79201_row5_col2\" class=\"data row5 col2\" >0.7668</td>\n",
       "      <td id=\"T_79201_row5_col3\" class=\"data row5 col3\" >0.7676</td>\n",
       "      <td id=\"T_79201_row5_col4\" class=\"data row5 col4\" >0.7670</td>\n",
       "      <td id=\"T_79201_row5_col5\" class=\"data row5 col5\" >0.6148</td>\n",
       "      <td id=\"T_79201_row5_col6\" class=\"data row5 col6\" >0.6150</td>\n",
       "    </tr>\n",
       "    <tr>\n",
       "      <th id=\"T_79201_level0_row6\" class=\"row_heading level0 row6\" >6</th>\n",
       "      <td id=\"T_79201_row6_col0\" class=\"data row6 col0\" >0.7725</td>\n",
       "      <td id=\"T_79201_row6_col1\" class=\"data row6 col1\" >0.8827</td>\n",
       "      <td id=\"T_79201_row6_col2\" class=\"data row6 col2\" >0.7725</td>\n",
       "      <td id=\"T_79201_row6_col3\" class=\"data row6 col3\" >0.7744</td>\n",
       "      <td id=\"T_79201_row6_col4\" class=\"data row6 col4\" >0.7728</td>\n",
       "      <td id=\"T_79201_row6_col5\" class=\"data row6 col5\" >0.6264</td>\n",
       "      <td id=\"T_79201_row6_col6\" class=\"data row6 col6\" >0.6271</td>\n",
       "    </tr>\n",
       "    <tr>\n",
       "      <th id=\"T_79201_level0_row7\" class=\"row_heading level0 row7\" >7</th>\n",
       "      <td id=\"T_79201_row7_col0\" class=\"data row7 col0\" >0.7666</td>\n",
       "      <td id=\"T_79201_row7_col1\" class=\"data row7 col1\" >0.8814</td>\n",
       "      <td id=\"T_79201_row7_col2\" class=\"data row7 col2\" >0.7666</td>\n",
       "      <td id=\"T_79201_row7_col3\" class=\"data row7 col3\" >0.7679</td>\n",
       "      <td id=\"T_79201_row7_col4\" class=\"data row7 col4\" >0.7669</td>\n",
       "      <td id=\"T_79201_row7_col5\" class=\"data row7 col5\" >0.6157</td>\n",
       "      <td id=\"T_79201_row7_col6\" class=\"data row7 col6\" >0.6161</td>\n",
       "    </tr>\n",
       "    <tr>\n",
       "      <th id=\"T_79201_level0_row8\" class=\"row_heading level0 row8\" >8</th>\n",
       "      <td id=\"T_79201_row8_col0\" class=\"data row8 col0\" >0.7629</td>\n",
       "      <td id=\"T_79201_row8_col1\" class=\"data row8 col1\" >0.8746</td>\n",
       "      <td id=\"T_79201_row8_col2\" class=\"data row8 col2\" >0.7629</td>\n",
       "      <td id=\"T_79201_row8_col3\" class=\"data row8 col3\" >0.7646</td>\n",
       "      <td id=\"T_79201_row8_col4\" class=\"data row8 col4\" >0.7633</td>\n",
       "      <td id=\"T_79201_row8_col5\" class=\"data row8 col5\" >0.6100</td>\n",
       "      <td id=\"T_79201_row8_col6\" class=\"data row8 col6\" >0.6105</td>\n",
       "    </tr>\n",
       "    <tr>\n",
       "      <th id=\"T_79201_level0_row9\" class=\"row_heading level0 row9\" >9</th>\n",
       "      <td id=\"T_79201_row9_col0\" class=\"data row9 col0\" >0.7713</td>\n",
       "      <td id=\"T_79201_row9_col1\" class=\"data row9 col1\" >0.8807</td>\n",
       "      <td id=\"T_79201_row9_col2\" class=\"data row9 col2\" >0.7713</td>\n",
       "      <td id=\"T_79201_row9_col3\" class=\"data row9 col3\" >0.7729</td>\n",
       "      <td id=\"T_79201_row9_col4\" class=\"data row9 col4\" >0.7717</td>\n",
       "      <td id=\"T_79201_row9_col5\" class=\"data row9 col5\" >0.6240</td>\n",
       "      <td id=\"T_79201_row9_col6\" class=\"data row9 col6\" >0.6245</td>\n",
       "    </tr>\n",
       "    <tr>\n",
       "      <th id=\"T_79201_level0_row10\" class=\"row_heading level0 row10\" >Mean</th>\n",
       "      <td id=\"T_79201_row10_col0\" class=\"data row10 col0\" >0.7676</td>\n",
       "      <td id=\"T_79201_row10_col1\" class=\"data row10 col1\" >0.8796</td>\n",
       "      <td id=\"T_79201_row10_col2\" class=\"data row10 col2\" >0.7676</td>\n",
       "      <td id=\"T_79201_row10_col3\" class=\"data row10 col3\" >0.7688</td>\n",
       "      <td id=\"T_79201_row10_col4\" class=\"data row10 col4\" >0.7678</td>\n",
       "      <td id=\"T_79201_row10_col5\" class=\"data row10 col5\" >0.6169</td>\n",
       "      <td id=\"T_79201_row10_col6\" class=\"data row10 col6\" >0.6173</td>\n",
       "    </tr>\n",
       "    <tr>\n",
       "      <th id=\"T_79201_level0_row11\" class=\"row_heading level0 row11\" >Std</th>\n",
       "      <td id=\"T_79201_row11_col0\" class=\"data row11 col0\" >0.0037</td>\n",
       "      <td id=\"T_79201_row11_col1\" class=\"data row11 col1\" >0.0025</td>\n",
       "      <td id=\"T_79201_row11_col2\" class=\"data row11 col2\" >0.0037</td>\n",
       "      <td id=\"T_79201_row11_col3\" class=\"data row11 col3\" >0.0039</td>\n",
       "      <td id=\"T_79201_row11_col4\" class=\"data row11 col4\" >0.0037</td>\n",
       "      <td id=\"T_79201_row11_col5\" class=\"data row11 col5\" >0.0067</td>\n",
       "      <td id=\"T_79201_row11_col6\" class=\"data row11 col6\" >0.0068</td>\n",
       "    </tr>\n",
       "  </tbody>\n",
       "</table>\n"
      ],
      "text/plain": [
       "<pandas.io.formats.style.Styler at 0x12167e53390>"
      ]
     },
     "metadata": {},
     "output_type": "display_data"
    },
    {
     "data": {
      "application/vnd.jupyter.widget-view+json": {
       "model_id": "",
       "version_major": 2,
       "version_minor": 0
      },
      "text/plain": [
       "Processing:   0%|          | 0/4 [00:00<?, ?it/s]"
      ]
     },
     "metadata": {},
     "output_type": "display_data"
    }
   ],
   "source": [
    "from pycaret.classification import create_model\n",
    "\n",
    "# Assuming df is your DataFrame\n",
    "model_5 = create_model('knn')"
   ]
  },
  {
   "cell_type": "code",
   "execution_count": 50,
   "id": "d2c8bffe",
   "metadata": {
    "ExecuteTime": {
     "end_time": "2024-01-09T19:46:01.968856Z",
     "start_time": "2024-01-09T19:46:01.008447Z"
    }
   },
   "outputs": [
    {
     "data": {
      "text/html": [
       "<style type=\"text/css\">\n",
       "</style>\n",
       "<table id=\"T_26859\">\n",
       "  <thead>\n",
       "    <tr>\n",
       "      <th class=\"blank level0\" >&nbsp;</th>\n",
       "      <th id=\"T_26859_level0_col0\" class=\"col_heading level0 col0\" >Model</th>\n",
       "      <th id=\"T_26859_level0_col1\" class=\"col_heading level0 col1\" >Accuracy</th>\n",
       "      <th id=\"T_26859_level0_col2\" class=\"col_heading level0 col2\" >AUC</th>\n",
       "      <th id=\"T_26859_level0_col3\" class=\"col_heading level0 col3\" >Recall</th>\n",
       "      <th id=\"T_26859_level0_col4\" class=\"col_heading level0 col4\" >Prec.</th>\n",
       "      <th id=\"T_26859_level0_col5\" class=\"col_heading level0 col5\" >F1</th>\n",
       "      <th id=\"T_26859_level0_col6\" class=\"col_heading level0 col6\" >Kappa</th>\n",
       "      <th id=\"T_26859_level0_col7\" class=\"col_heading level0 col7\" >MCC</th>\n",
       "    </tr>\n",
       "  </thead>\n",
       "  <tbody>\n",
       "    <tr>\n",
       "      <th id=\"T_26859_level0_row0\" class=\"row_heading level0 row0\" >0</th>\n",
       "      <td id=\"T_26859_row0_col0\" class=\"data row0 col0\" >K Neighbors Classifier</td>\n",
       "      <td id=\"T_26859_row0_col1\" class=\"data row0 col1\" >0.7832</td>\n",
       "      <td id=\"T_26859_row0_col2\" class=\"data row0 col2\" >0.8929</td>\n",
       "      <td id=\"T_26859_row0_col3\" class=\"data row0 col3\" >0.7832</td>\n",
       "      <td id=\"T_26859_row0_col4\" class=\"data row0 col4\" >0.7852</td>\n",
       "      <td id=\"T_26859_row0_col5\" class=\"data row0 col5\" >0.7836</td>\n",
       "      <td id=\"T_26859_row0_col6\" class=\"data row0 col6\" >0.6442</td>\n",
       "      <td id=\"T_26859_row0_col7\" class=\"data row0 col7\" >0.6449</td>\n",
       "    </tr>\n",
       "  </tbody>\n",
       "</table>\n"
      ],
      "text/plain": [
       "<pandas.io.formats.style.Styler at 0x1208fa87150>"
      ]
     },
     "metadata": {},
     "output_type": "display_data"
    },
    {
     "data": {
      "text/html": [
       "<div>\n",
       "<style scoped>\n",
       "    .dataframe tbody tr th:only-of-type {\n",
       "        vertical-align: middle;\n",
       "    }\n",
       "\n",
       "    .dataframe tbody tr th {\n",
       "        vertical-align: top;\n",
       "    }\n",
       "\n",
       "    .dataframe thead th {\n",
       "        text-align: right;\n",
       "    }\n",
       "</style>\n",
       "<table border=\"1\" class=\"dataframe\">\n",
       "  <thead>\n",
       "    <tr style=\"text-align: right;\">\n",
       "      <th></th>\n",
       "      <th>Delay_from_due_date</th>\n",
       "      <th>Num_of_Delayed_Payment</th>\n",
       "      <th>Num_Credit_Inquiries</th>\n",
       "      <th>Credit_Utilization_Ratio</th>\n",
       "      <th>Credit_History_Age</th>\n",
       "      <th>Amount_invested_monthly</th>\n",
       "      <th>Monthly_Balance</th>\n",
       "      <th>Age</th>\n",
       "      <th>Annual_Income</th>\n",
       "      <th>Num_Bank_Accounts</th>\n",
       "      <th>...</th>\n",
       "      <th>Payment_Behaviour_High_spent_Small_value_payments</th>\n",
       "      <th>Payment_Behaviour_Low_spent_Large_value_payments</th>\n",
       "      <th>Payment_Behaviour_Low_spent_Medium_value_payments</th>\n",
       "      <th>Payment_Behaviour_Low_spent_Small_value_payments</th>\n",
       "      <th>Payment_of_Min_Amount_NM</th>\n",
       "      <th>Payment_of_Min_Amount_No</th>\n",
       "      <th>Payment_of_Min_Amount_Yes</th>\n",
       "      <th>Credit_Score</th>\n",
       "      <th>prediction_label</th>\n",
       "      <th>prediction_score</th>\n",
       "    </tr>\n",
       "  </thead>\n",
       "  <tbody>\n",
       "    <tr>\n",
       "      <th>18116</th>\n",
       "      <td>0.261781</td>\n",
       "      <td>0.105182</td>\n",
       "      <td>0.571079</td>\n",
       "      <td>1.493751</td>\n",
       "      <td>0.331181</td>\n",
       "      <td>-0.236162</td>\n",
       "      <td>0.814573</td>\n",
       "      <td>15.0</td>\n",
       "      <td>80657.843750</td>\n",
       "      <td>7.0</td>\n",
       "      <td>...</td>\n",
       "      <td>0</td>\n",
       "      <td>0</td>\n",
       "      <td>0</td>\n",
       "      <td>0</td>\n",
       "      <td>0</td>\n",
       "      <td>0</td>\n",
       "      <td>1</td>\n",
       "      <td>2</td>\n",
       "      <td>2</td>\n",
       "      <td>1.0</td>\n",
       "    </tr>\n",
       "    <tr>\n",
       "      <th>73384</th>\n",
       "      <td>1.610958</td>\n",
       "      <td>-0.213835</td>\n",
       "      <td>0.571079</td>\n",
       "      <td>-1.587998</td>\n",
       "      <td>-0.380479</td>\n",
       "      <td>-0.149464</td>\n",
       "      <td>-0.878788</td>\n",
       "      <td>31.0</td>\n",
       "      <td>20501.720703</td>\n",
       "      <td>7.0</td>\n",
       "      <td>...</td>\n",
       "      <td>0</td>\n",
       "      <td>0</td>\n",
       "      <td>0</td>\n",
       "      <td>1</td>\n",
       "      <td>0</td>\n",
       "      <td>0</td>\n",
       "      <td>1</td>\n",
       "      <td>1</td>\n",
       "      <td>1</td>\n",
       "      <td>0.6</td>\n",
       "    </tr>\n",
       "    <tr>\n",
       "      <th>14459</th>\n",
       "      <td>-0.008054</td>\n",
       "      <td>1.062236</td>\n",
       "      <td>-1.496950</td>\n",
       "      <td>-0.265741</td>\n",
       "      <td>0.922561</td>\n",
       "      <td>0.019291</td>\n",
       "      <td>2.857772</td>\n",
       "      <td>49.0</td>\n",
       "      <td>130130.796875</td>\n",
       "      <td>8.0</td>\n",
       "      <td>...</td>\n",
       "      <td>0</td>\n",
       "      <td>0</td>\n",
       "      <td>0</td>\n",
       "      <td>0</td>\n",
       "      <td>0</td>\n",
       "      <td>1</td>\n",
       "      <td>0</td>\n",
       "      <td>2</td>\n",
       "      <td>2</td>\n",
       "      <td>1.0</td>\n",
       "    </tr>\n",
       "    <tr>\n",
       "      <th>24802</th>\n",
       "      <td>-0.008054</td>\n",
       "      <td>-0.373344</td>\n",
       "      <td>0.054071</td>\n",
       "      <td>-1.147699</td>\n",
       "      <td>-0.470689</td>\n",
       "      <td>-0.385692</td>\n",
       "      <td>-0.199607</td>\n",
       "      <td>24.0</td>\n",
       "      <td>28263.500000</td>\n",
       "      <td>7.0</td>\n",
       "      <td>...</td>\n",
       "      <td>0</td>\n",
       "      <td>0</td>\n",
       "      <td>0</td>\n",
       "      <td>1</td>\n",
       "      <td>0</td>\n",
       "      <td>0</td>\n",
       "      <td>1</td>\n",
       "      <td>1</td>\n",
       "      <td>1</td>\n",
       "      <td>0.8</td>\n",
       "    </tr>\n",
       "    <tr>\n",
       "      <th>65609</th>\n",
       "      <td>-0.008054</td>\n",
       "      <td>0.902727</td>\n",
       "      <td>1.346589</td>\n",
       "      <td>0.262671</td>\n",
       "      <td>-1.092139</td>\n",
       "      <td>-0.196829</td>\n",
       "      <td>-0.448224</td>\n",
       "      <td>30.0</td>\n",
       "      <td>33446.441406</td>\n",
       "      <td>6.0</td>\n",
       "      <td>...</td>\n",
       "      <td>0</td>\n",
       "      <td>0</td>\n",
       "      <td>0</td>\n",
       "      <td>1</td>\n",
       "      <td>0</td>\n",
       "      <td>0</td>\n",
       "      <td>1</td>\n",
       "      <td>2</td>\n",
       "      <td>1</td>\n",
       "      <td>0.8</td>\n",
       "    </tr>\n",
       "    <tr>\n",
       "      <th>...</th>\n",
       "      <td>...</td>\n",
       "      <td>...</td>\n",
       "      <td>...</td>\n",
       "      <td>...</td>\n",
       "      <td>...</td>\n",
       "      <td>...</td>\n",
       "      <td>...</td>\n",
       "      <td>...</td>\n",
       "      <td>...</td>\n",
       "      <td>...</td>\n",
       "      <td>...</td>\n",
       "      <td>...</td>\n",
       "      <td>...</td>\n",
       "      <td>...</td>\n",
       "      <td>...</td>\n",
       "      <td>...</td>\n",
       "      <td>...</td>\n",
       "      <td>...</td>\n",
       "      <td>...</td>\n",
       "      <td>...</td>\n",
       "      <td>...</td>\n",
       "    </tr>\n",
       "    <tr>\n",
       "      <th>36495</th>\n",
       "      <td>-0.547725</td>\n",
       "      <td>0.583709</td>\n",
       "      <td>0.312575</td>\n",
       "      <td>1.561742</td>\n",
       "      <td>-0.350409</td>\n",
       "      <td>0.105013</td>\n",
       "      <td>-0.888200</td>\n",
       "      <td>38.0</td>\n",
       "      <td>35996.230469</td>\n",
       "      <td>4.0</td>\n",
       "      <td>...</td>\n",
       "      <td>0</td>\n",
       "      <td>0</td>\n",
       "      <td>0</td>\n",
       "      <td>0</td>\n",
       "      <td>0</td>\n",
       "      <td>0</td>\n",
       "      <td>1</td>\n",
       "      <td>2</td>\n",
       "      <td>2</td>\n",
       "      <td>1.0</td>\n",
       "    </tr>\n",
       "    <tr>\n",
       "      <th>31874</th>\n",
       "      <td>-0.615184</td>\n",
       "      <td>0.424200</td>\n",
       "      <td>-0.462936</td>\n",
       "      <td>1.191513</td>\n",
       "      <td>-0.300292</td>\n",
       "      <td>0.260852</td>\n",
       "      <td>-1.054915</td>\n",
       "      <td>36.0</td>\n",
       "      <td>23163.380859</td>\n",
       "      <td>4.0</td>\n",
       "      <td>...</td>\n",
       "      <td>0</td>\n",
       "      <td>0</td>\n",
       "      <td>0</td>\n",
       "      <td>1</td>\n",
       "      <td>0</td>\n",
       "      <td>0</td>\n",
       "      <td>1</td>\n",
       "      <td>2</td>\n",
       "      <td>2</td>\n",
       "      <td>1.0</td>\n",
       "    </tr>\n",
       "    <tr>\n",
       "      <th>28850</th>\n",
       "      <td>0.599075</td>\n",
       "      <td>0.743218</td>\n",
       "      <td>-1.238446</td>\n",
       "      <td>0.521810</td>\n",
       "      <td>1.002748</td>\n",
       "      <td>2.098043</td>\n",
       "      <td>-0.011463</td>\n",
       "      <td>29.0</td>\n",
       "      <td>101696.187500</td>\n",
       "      <td>5.0</td>\n",
       "      <td>...</td>\n",
       "      <td>0</td>\n",
       "      <td>0</td>\n",
       "      <td>0</td>\n",
       "      <td>0</td>\n",
       "      <td>0</td>\n",
       "      <td>1</td>\n",
       "      <td>0</td>\n",
       "      <td>2</td>\n",
       "      <td>1</td>\n",
       "      <td>0.8</td>\n",
       "    </tr>\n",
       "    <tr>\n",
       "      <th>94729</th>\n",
       "      <td>-0.547725</td>\n",
       "      <td>1.062236</td>\n",
       "      <td>0.571079</td>\n",
       "      <td>-0.125686</td>\n",
       "      <td>-0.320339</td>\n",
       "      <td>2.846949</td>\n",
       "      <td>-0.333267</td>\n",
       "      <td>42.0</td>\n",
       "      <td>85688.492188</td>\n",
       "      <td>8.0</td>\n",
       "      <td>...</td>\n",
       "      <td>0</td>\n",
       "      <td>0</td>\n",
       "      <td>0</td>\n",
       "      <td>0</td>\n",
       "      <td>0</td>\n",
       "      <td>0</td>\n",
       "      <td>1</td>\n",
       "      <td>2</td>\n",
       "      <td>2</td>\n",
       "      <td>0.6</td>\n",
       "    </tr>\n",
       "    <tr>\n",
       "      <th>74704</th>\n",
       "      <td>1.813334</td>\n",
       "      <td>2.338306</td>\n",
       "      <td>0.054071</td>\n",
       "      <td>-1.125086</td>\n",
       "      <td>-1.152279</td>\n",
       "      <td>-0.537035</td>\n",
       "      <td>-0.432437</td>\n",
       "      <td>28.0</td>\n",
       "      <td>31241.199219</td>\n",
       "      <td>6.0</td>\n",
       "      <td>...</td>\n",
       "      <td>0</td>\n",
       "      <td>0</td>\n",
       "      <td>0</td>\n",
       "      <td>1</td>\n",
       "      <td>0</td>\n",
       "      <td>0</td>\n",
       "      <td>1</td>\n",
       "      <td>1</td>\n",
       "      <td>1</td>\n",
       "      <td>1.0</td>\n",
       "    </tr>\n",
       "  </tbody>\n",
       "</table>\n",
       "<p>29988 rows × 32 columns</p>\n",
       "</div>"
      ],
      "text/plain": [
       "       Delay_from_due_date  Num_of_Delayed_Payment  Num_Credit_Inquiries  \\\n",
       "18116             0.261781                0.105182              0.571079   \n",
       "73384             1.610958               -0.213835              0.571079   \n",
       "14459            -0.008054                1.062236             -1.496950   \n",
       "24802            -0.008054               -0.373344              0.054071   \n",
       "65609            -0.008054                0.902727              1.346589   \n",
       "...                    ...                     ...                   ...   \n",
       "36495            -0.547725                0.583709              0.312575   \n",
       "31874            -0.615184                0.424200             -0.462936   \n",
       "28850             0.599075                0.743218             -1.238446   \n",
       "94729            -0.547725                1.062236              0.571079   \n",
       "74704             1.813334                2.338306              0.054071   \n",
       "\n",
       "       Credit_Utilization_Ratio  Credit_History_Age  Amount_invested_monthly  \\\n",
       "18116                  1.493751            0.331181                -0.236162   \n",
       "73384                 -1.587998           -0.380479                -0.149464   \n",
       "14459                 -0.265741            0.922561                 0.019291   \n",
       "24802                 -1.147699           -0.470689                -0.385692   \n",
       "65609                  0.262671           -1.092139                -0.196829   \n",
       "...                         ...                 ...                      ...   \n",
       "36495                  1.561742           -0.350409                 0.105013   \n",
       "31874                  1.191513           -0.300292                 0.260852   \n",
       "28850                  0.521810            1.002748                 2.098043   \n",
       "94729                 -0.125686           -0.320339                 2.846949   \n",
       "74704                 -1.125086           -1.152279                -0.537035   \n",
       "\n",
       "       Monthly_Balance   Age  Annual_Income  Num_Bank_Accounts  ...  \\\n",
       "18116         0.814573  15.0   80657.843750                7.0  ...   \n",
       "73384        -0.878788  31.0   20501.720703                7.0  ...   \n",
       "14459         2.857772  49.0  130130.796875                8.0  ...   \n",
       "24802        -0.199607  24.0   28263.500000                7.0  ...   \n",
       "65609        -0.448224  30.0   33446.441406                6.0  ...   \n",
       "...                ...   ...            ...                ...  ...   \n",
       "36495        -0.888200  38.0   35996.230469                4.0  ...   \n",
       "31874        -1.054915  36.0   23163.380859                4.0  ...   \n",
       "28850        -0.011463  29.0  101696.187500                5.0  ...   \n",
       "94729        -0.333267  42.0   85688.492188                8.0  ...   \n",
       "74704        -0.432437  28.0   31241.199219                6.0  ...   \n",
       "\n",
       "       Payment_Behaviour_High_spent_Small_value_payments  \\\n",
       "18116                                                  0   \n",
       "73384                                                  0   \n",
       "14459                                                  0   \n",
       "24802                                                  0   \n",
       "65609                                                  0   \n",
       "...                                                  ...   \n",
       "36495                                                  0   \n",
       "31874                                                  0   \n",
       "28850                                                  0   \n",
       "94729                                                  0   \n",
       "74704                                                  0   \n",
       "\n",
       "       Payment_Behaviour_Low_spent_Large_value_payments  \\\n",
       "18116                                                 0   \n",
       "73384                                                 0   \n",
       "14459                                                 0   \n",
       "24802                                                 0   \n",
       "65609                                                 0   \n",
       "...                                                 ...   \n",
       "36495                                                 0   \n",
       "31874                                                 0   \n",
       "28850                                                 0   \n",
       "94729                                                 0   \n",
       "74704                                                 0   \n",
       "\n",
       "       Payment_Behaviour_Low_spent_Medium_value_payments  \\\n",
       "18116                                                  0   \n",
       "73384                                                  0   \n",
       "14459                                                  0   \n",
       "24802                                                  0   \n",
       "65609                                                  0   \n",
       "...                                                  ...   \n",
       "36495                                                  0   \n",
       "31874                                                  0   \n",
       "28850                                                  0   \n",
       "94729                                                  0   \n",
       "74704                                                  0   \n",
       "\n",
       "       Payment_Behaviour_Low_spent_Small_value_payments  \\\n",
       "18116                                                 0   \n",
       "73384                                                 1   \n",
       "14459                                                 0   \n",
       "24802                                                 1   \n",
       "65609                                                 1   \n",
       "...                                                 ...   \n",
       "36495                                                 0   \n",
       "31874                                                 1   \n",
       "28850                                                 0   \n",
       "94729                                                 0   \n",
       "74704                                                 1   \n",
       "\n",
       "       Payment_of_Min_Amount_NM  Payment_of_Min_Amount_No  \\\n",
       "18116                         0                         0   \n",
       "73384                         0                         0   \n",
       "14459                         0                         1   \n",
       "24802                         0                         0   \n",
       "65609                         0                         0   \n",
       "...                         ...                       ...   \n",
       "36495                         0                         0   \n",
       "31874                         0                         0   \n",
       "28850                         0                         1   \n",
       "94729                         0                         0   \n",
       "74704                         0                         0   \n",
       "\n",
       "       Payment_of_Min_Amount_Yes  Credit_Score  prediction_label  \\\n",
       "18116                          1             2                 2   \n",
       "73384                          1             1                 1   \n",
       "14459                          0             2                 2   \n",
       "24802                          1             1                 1   \n",
       "65609                          1             2                 1   \n",
       "...                          ...           ...               ...   \n",
       "36495                          1             2                 2   \n",
       "31874                          1             2                 2   \n",
       "28850                          0             2                 1   \n",
       "94729                          1             2                 2   \n",
       "74704                          1             1                 1   \n",
       "\n",
       "       prediction_score  \n",
       "18116               1.0  \n",
       "73384               0.6  \n",
       "14459               1.0  \n",
       "24802               0.8  \n",
       "65609               0.8  \n",
       "...                 ...  \n",
       "36495               1.0  \n",
       "31874               1.0  \n",
       "28850               0.8  \n",
       "94729               0.6  \n",
       "74704               1.0  \n",
       "\n",
       "[29988 rows x 32 columns]"
      ]
     },
     "execution_count": 50,
     "metadata": {},
     "output_type": "execute_result"
    }
   ],
   "source": [
    "from pycaret.classification import create_model, predict_model\n",
    "from pycaret.classification import *\n",
    "predict_model(model_5)"
   ]
  },
  {
   "cell_type": "code",
   "execution_count": 51,
   "id": "2599c0fd",
   "metadata": {
    "ExecuteTime": {
     "end_time": "2024-01-09T19:46:05.403158Z",
     "start_time": "2024-01-09T19:46:04.265830Z"
    }
   },
   "outputs": [
    {
     "data": {
      "text/html": [],
      "text/plain": [
       "<IPython.core.display.HTML object>"
      ]
     },
     "metadata": {},
     "output_type": "display_data"
    },
    {
     "data": {
      "image/png": "[encoded data removed]",
      "text/plain": [
       "<Figure size 800x550 with 1 Axes>"
      ]
     },
     "metadata": {},
     "output_type": "display_data"
    }
   ],
   "source": [
    "\n",
    "plot_model(model_5, plot = \"auc\")"
   ]
  },
  {
   "cell_type": "code",
   "execution_count": 52,
   "id": "344005c9",
   "metadata": {
    "ExecuteTime": {
     "end_time": "2024-01-09T19:46:12.850512Z",
     "start_time": "2024-01-09T19:46:07.051427Z"
    }
   },
   "outputs": [],
   "source": [
    "final = finalize_model(model_5)"
   ]
  },
  {
   "cell_type": "code",
   "execution_count": 53,
   "id": "f6bc2629",
   "metadata": {
    "ExecuteTime": {
     "end_time": "2024-01-09T19:46:15.197182Z",
     "start_time": "2024-01-09T19:46:14.931926Z"
    }
   },
   "outputs": [
    {
     "name": "stdout",
     "output_type": "stream",
     "text": [
      "Transformation Pipeline and Model Successfully Saved\n"
     ]
    },
    {
     "data": {
      "text/plain": [
       "(Pipeline(memory=Memory(location=None),\n",
       "          steps=[('numerical_imputer',\n",
       "                  TransformerWrapper(exclude=None,\n",
       "                                     include=['Delay_from_due_date',\n",
       "                                              'Num_of_Delayed_Payment',\n",
       "                                              'Num_Credit_Inquiries',\n",
       "                                              'Credit_Utilization_Ratio',\n",
       "                                              'Credit_History_Age',\n",
       "                                              'Amount_invested_monthly',\n",
       "                                              'Monthly_Balance', 'Age',\n",
       "                                              'Annual_Income',\n",
       "                                              'Num_Bank_Accounts',\n",
       "                                              'Num_Credit_Card', 'Interest_Rate',\n",
       "                                              'Num_...\n",
       "                                                                                          random_state=None,\n",
       "                                                                                          reg_alpha=0.0,\n",
       "                                                                                          reg_lambda=0.0,\n",
       "                                                                                          subsample=1.0,\n",
       "                                                                                          subsample_for_bin=200000,\n",
       "                                                                                          subsample_freq=0),\n",
       "                                                                 importance_getter='auto',\n",
       "                                                                 max_features=5,\n",
       "                                                                 norm_order=1,\n",
       "                                                                 prefit=False,\n",
       "                                                                 threshold=-inf))),\n",
       "                 ('actual_estimator',\n",
       "                  KNeighborsClassifier(algorithm='auto', leaf_size=30,\n",
       "                                       metric='minkowski', metric_params=None,\n",
       "                                       n_jobs=-1, n_neighbors=5, p=2,\n",
       "                                       weights='uniform'))],\n",
       "          verbose=False),\n",
       " 'best credit score model.pkl')"
      ]
     },
     "execution_count": 53,
     "metadata": {},
     "output_type": "execute_result"
    }
   ],
   "source": [
    "save_model(final, \"best credit score model\")"
   ]
  },
  {
   "cell_type": "code",
   "execution_count": null,
   "id": "94c6bbcf",
   "metadata": {},
   "outputs": [],
   "source": []
  },
  {
   "cell_type": "code",
   "execution_count": 54,
   "id": "ef4362bd",
   "metadata": {
    "ExecuteTime": {
     "end_time": "2024-01-09T19:46:17.567700Z",
     "start_time": "2024-01-09T19:46:17.251836Z"
    }
   },
   "outputs": [
    {
     "ename": "ValueError",
     "evalue": "The feature names should match those that were passed during fit.\nFeature names unseen at fit time:\n- Credit_Score\n",
     "output_type": "error",
     "traceback": [
      "\u001b[1;31m---------------------------------------------------------------------------\u001b[0m",
      "\u001b[1;31mValueError\u001b[0m                                Traceback (most recent call last)",
      "Cell \u001b[1;32mIn[54], line 1\u001b[0m\n\u001b[1;32m----> 1\u001b[0m y_pred \u001b[38;5;241m=\u001b[39m model_4\u001b[38;5;241m.\u001b[39mpredict(df1)\n",
      "File \u001b[1;32m~\\anaconda3\\Lib\\site-packages\\sklearn\\ensemble\\_forest.py:820\u001b[0m, in \u001b[0;36mForestClassifier.predict\u001b[1;34m(self, X)\u001b[0m\n\u001b[0;32m    799\u001b[0m \u001b[38;5;28;01mdef\u001b[39;00m \u001b[38;5;21mpredict\u001b[39m(\u001b[38;5;28mself\u001b[39m, X):\n\u001b[0;32m    800\u001b[0m \u001b[38;5;250m    \u001b[39m\u001b[38;5;124;03m\"\"\"\u001b[39;00m\n\u001b[0;32m    801\u001b[0m \u001b[38;5;124;03m    Predict class for X.\u001b[39;00m\n\u001b[0;32m    802\u001b[0m \n\u001b[1;32m   (...)\u001b[0m\n\u001b[0;32m    818\u001b[0m \u001b[38;5;124;03m        The predicted classes.\u001b[39;00m\n\u001b[0;32m    819\u001b[0m \u001b[38;5;124;03m    \"\"\"\u001b[39;00m\n\u001b[1;32m--> 820\u001b[0m     proba \u001b[38;5;241m=\u001b[39m \u001b[38;5;28mself\u001b[39m\u001b[38;5;241m.\u001b[39mpredict_proba(X)\n\u001b[0;32m    822\u001b[0m     \u001b[38;5;28;01mif\u001b[39;00m \u001b[38;5;28mself\u001b[39m\u001b[38;5;241m.\u001b[39mn_outputs_ \u001b[38;5;241m==\u001b[39m \u001b[38;5;241m1\u001b[39m:\n\u001b[0;32m    823\u001b[0m         \u001b[38;5;28;01mreturn\u001b[39;00m \u001b[38;5;28mself\u001b[39m\u001b[38;5;241m.\u001b[39mclasses_\u001b[38;5;241m.\u001b[39mtake(np\u001b[38;5;241m.\u001b[39margmax(proba, axis\u001b[38;5;241m=\u001b[39m\u001b[38;5;241m1\u001b[39m), axis\u001b[38;5;241m=\u001b[39m\u001b[38;5;241m0\u001b[39m)\n",
      "File \u001b[1;32m~\\anaconda3\\Lib\\site-packages\\sklearn\\ensemble\\_forest.py:862\u001b[0m, in \u001b[0;36mForestClassifier.predict_proba\u001b[1;34m(self, X)\u001b[0m\n\u001b[0;32m    860\u001b[0m check_is_fitted(\u001b[38;5;28mself\u001b[39m)\n\u001b[0;32m    861\u001b[0m \u001b[38;5;66;03m# Check data\u001b[39;00m\n\u001b[1;32m--> 862\u001b[0m X \u001b[38;5;241m=\u001b[39m \u001b[38;5;28mself\u001b[39m\u001b[38;5;241m.\u001b[39m_validate_X_predict(X)\n\u001b[0;32m    864\u001b[0m \u001b[38;5;66;03m# Assign chunk of trees to jobs\u001b[39;00m\n\u001b[0;32m    865\u001b[0m n_jobs, _, _ \u001b[38;5;241m=\u001b[39m _partition_estimators(\u001b[38;5;28mself\u001b[39m\u001b[38;5;241m.\u001b[39mn_estimators, \u001b[38;5;28mself\u001b[39m\u001b[38;5;241m.\u001b[39mn_jobs)\n",
      "File \u001b[1;32m~\\anaconda3\\Lib\\site-packages\\sklearn\\ensemble\\_forest.py:602\u001b[0m, in \u001b[0;36mBaseForest._validate_X_predict\u001b[1;34m(self, X)\u001b[0m\n\u001b[0;32m    599\u001b[0m \u001b[38;5;250m\u001b[39m\u001b[38;5;124;03m\"\"\"\u001b[39;00m\n\u001b[0;32m    600\u001b[0m \u001b[38;5;124;03mValidate X whenever one tries to predict, apply, predict_proba.\"\"\"\u001b[39;00m\n\u001b[0;32m    601\u001b[0m check_is_fitted(\u001b[38;5;28mself\u001b[39m)\n\u001b[1;32m--> 602\u001b[0m X \u001b[38;5;241m=\u001b[39m \u001b[38;5;28mself\u001b[39m\u001b[38;5;241m.\u001b[39m_validate_data(X, dtype\u001b[38;5;241m=\u001b[39mDTYPE, accept_sparse\u001b[38;5;241m=\u001b[39m\u001b[38;5;124m\"\u001b[39m\u001b[38;5;124mcsr\u001b[39m\u001b[38;5;124m\"\u001b[39m, reset\u001b[38;5;241m=\u001b[39m\u001b[38;5;28;01mFalse\u001b[39;00m)\n\u001b[0;32m    603\u001b[0m \u001b[38;5;28;01mif\u001b[39;00m issparse(X) \u001b[38;5;129;01mand\u001b[39;00m (X\u001b[38;5;241m.\u001b[39mindices\u001b[38;5;241m.\u001b[39mdtype \u001b[38;5;241m!=\u001b[39m np\u001b[38;5;241m.\u001b[39mintc \u001b[38;5;129;01mor\u001b[39;00m X\u001b[38;5;241m.\u001b[39mindptr\u001b[38;5;241m.\u001b[39mdtype \u001b[38;5;241m!=\u001b[39m np\u001b[38;5;241m.\u001b[39mintc):\n\u001b[0;32m    604\u001b[0m     \u001b[38;5;28;01mraise\u001b[39;00m \u001b[38;5;167;01mValueError\u001b[39;00m(\u001b[38;5;124m\"\u001b[39m\u001b[38;5;124mNo support for np.int64 index based sparse matrices\u001b[39m\u001b[38;5;124m\"\u001b[39m)\n",
      "File \u001b[1;32m~\\anaconda3\\Lib\\site-packages\\sklearn\\base.py:548\u001b[0m, in \u001b[0;36mBaseEstimator._validate_data\u001b[1;34m(self, X, y, reset, validate_separately, **check_params)\u001b[0m\n\u001b[0;32m    483\u001b[0m \u001b[38;5;28;01mdef\u001b[39;00m \u001b[38;5;21m_validate_data\u001b[39m(\n\u001b[0;32m    484\u001b[0m     \u001b[38;5;28mself\u001b[39m,\n\u001b[0;32m    485\u001b[0m     X\u001b[38;5;241m=\u001b[39m\u001b[38;5;124m\"\u001b[39m\u001b[38;5;124mno_validation\u001b[39m\u001b[38;5;124m\"\u001b[39m,\n\u001b[1;32m   (...)\u001b[0m\n\u001b[0;32m    489\u001b[0m     \u001b[38;5;241m*\u001b[39m\u001b[38;5;241m*\u001b[39mcheck_params,\n\u001b[0;32m    490\u001b[0m ):\n\u001b[0;32m    491\u001b[0m \u001b[38;5;250m    \u001b[39m\u001b[38;5;124;03m\"\"\"Validate input data and set or check the `n_features_in_` attribute.\u001b[39;00m\n\u001b[0;32m    492\u001b[0m \n\u001b[0;32m    493\u001b[0m \u001b[38;5;124;03m    Parameters\u001b[39;00m\n\u001b[1;32m   (...)\u001b[0m\n\u001b[0;32m    546\u001b[0m \u001b[38;5;124;03m        validated.\u001b[39;00m\n\u001b[0;32m    547\u001b[0m \u001b[38;5;124;03m    \"\"\"\u001b[39;00m\n\u001b[1;32m--> 548\u001b[0m     \u001b[38;5;28mself\u001b[39m\u001b[38;5;241m.\u001b[39m_check_feature_names(X, reset\u001b[38;5;241m=\u001b[39mreset)\n\u001b[0;32m    550\u001b[0m     \u001b[38;5;28;01mif\u001b[39;00m y \u001b[38;5;129;01mis\u001b[39;00m \u001b[38;5;28;01mNone\u001b[39;00m \u001b[38;5;129;01mand\u001b[39;00m \u001b[38;5;28mself\u001b[39m\u001b[38;5;241m.\u001b[39m_get_tags()[\u001b[38;5;124m\"\u001b[39m\u001b[38;5;124mrequires_y\u001b[39m\u001b[38;5;124m\"\u001b[39m]:\n\u001b[0;32m    551\u001b[0m         \u001b[38;5;28;01mraise\u001b[39;00m \u001b[38;5;167;01mValueError\u001b[39;00m(\n\u001b[0;32m    552\u001b[0m             \u001b[38;5;124mf\u001b[39m\u001b[38;5;124m\"\u001b[39m\u001b[38;5;124mThis \u001b[39m\u001b[38;5;132;01m{\u001b[39;00m\u001b[38;5;28mself\u001b[39m\u001b[38;5;241m.\u001b[39m\u001b[38;5;18m__class__\u001b[39m\u001b[38;5;241m.\u001b[39m\u001b[38;5;18m__name__\u001b[39m\u001b[38;5;132;01m}\u001b[39;00m\u001b[38;5;124m estimator \u001b[39m\u001b[38;5;124m\"\u001b[39m\n\u001b[0;32m    553\u001b[0m             \u001b[38;5;124m\"\u001b[39m\u001b[38;5;124mrequires y to be passed, but the target y is None.\u001b[39m\u001b[38;5;124m\"\u001b[39m\n\u001b[0;32m    554\u001b[0m         )\n",
      "File \u001b[1;32m~\\anaconda3\\Lib\\site-packages\\sklearn\\base.py:481\u001b[0m, in \u001b[0;36mBaseEstimator._check_feature_names\u001b[1;34m(self, X, reset)\u001b[0m\n\u001b[0;32m    476\u001b[0m \u001b[38;5;28;01mif\u001b[39;00m \u001b[38;5;129;01mnot\u001b[39;00m missing_names \u001b[38;5;129;01mand\u001b[39;00m \u001b[38;5;129;01mnot\u001b[39;00m unexpected_names:\n\u001b[0;32m    477\u001b[0m     message \u001b[38;5;241m+\u001b[39m\u001b[38;5;241m=\u001b[39m (\n\u001b[0;32m    478\u001b[0m         \u001b[38;5;124m\"\u001b[39m\u001b[38;5;124mFeature names must be in the same order as they were in fit.\u001b[39m\u001b[38;5;130;01m\\n\u001b[39;00m\u001b[38;5;124m\"\u001b[39m\n\u001b[0;32m    479\u001b[0m     )\n\u001b[1;32m--> 481\u001b[0m \u001b[38;5;28;01mraise\u001b[39;00m \u001b[38;5;167;01mValueError\u001b[39;00m(message)\n",
      "\u001b[1;31mValueError\u001b[0m: The feature names should match those that were passed during fit.\nFeature names unseen at fit time:\n- Credit_Score\n"
     ]
    }
   ],
   "source": [
    "y_pred = model_4.predict(df1)"
   ]
  },
  {
   "cell_type": "code",
   "execution_count": 55,
   "id": "944271d6",
   "metadata": {
    "ExecuteTime": {
     "end_time": "2024-01-09T19:46:19.805021Z",
     "start_time": "2024-01-09T19:46:19.802049Z"
    }
   },
   "outputs": [],
   "source": [
    "y_pred_1 = le.inverse_transform(y_pred)"
   ]
  },
  {
   "cell_type": "code",
   "execution_count": 56,
   "id": "ccb29bf6",
   "metadata": {
    "ExecuteTime": {
     "end_time": "2024-01-09T19:46:22.157083Z",
     "start_time": "2024-01-09T19:46:22.154168Z"
    }
   },
   "outputs": [],
   "source": [
    "prediction = pd.DataFrame(y_pred_1, columns = ['Credit score (Predicted)'])"
   ]
  },
  {
   "cell_type": "code",
   "execution_count": 57,
   "id": "531c65d1",
   "metadata": {
    "ExecuteTime": {
     "end_time": "2024-01-09T19:46:24.657366Z",
     "start_time": "2024-01-09T19:46:24.651698Z"
    }
   },
   "outputs": [
    {
     "data": {
      "text/html": [
       "<div>\n",
       "<style scoped>\n",
       "    .dataframe tbody tr th:only-of-type {\n",
       "        vertical-align: middle;\n",
       "    }\n",
       "\n",
       "    .dataframe tbody tr th {\n",
       "        vertical-align: top;\n",
       "    }\n",
       "\n",
       "    .dataframe thead th {\n",
       "        text-align: right;\n",
       "    }\n",
       "</style>\n",
       "<table border=\"1\" class=\"dataframe\">\n",
       "  <thead>\n",
       "    <tr style=\"text-align: right;\">\n",
       "      <th></th>\n",
       "      <th>Credit score (Predicted)</th>\n",
       "    </tr>\n",
       "  </thead>\n",
       "  <tbody>\n",
       "    <tr>\n",
       "      <th>0</th>\n",
       "      <td>Poor</td>\n",
       "    </tr>\n",
       "    <tr>\n",
       "      <th>1</th>\n",
       "      <td>Standard</td>\n",
       "    </tr>\n",
       "    <tr>\n",
       "      <th>2</th>\n",
       "      <td>Good</td>\n",
       "    </tr>\n",
       "    <tr>\n",
       "      <th>3</th>\n",
       "      <td>Standard</td>\n",
       "    </tr>\n",
       "    <tr>\n",
       "      <th>4</th>\n",
       "      <td>Standard</td>\n",
       "    </tr>\n",
       "    <tr>\n",
       "      <th>...</th>\n",
       "      <td>...</td>\n",
       "    </tr>\n",
       "    <tr>\n",
       "      <th>19987</th>\n",
       "      <td>Poor</td>\n",
       "    </tr>\n",
       "    <tr>\n",
       "      <th>19988</th>\n",
       "      <td>Poor</td>\n",
       "    </tr>\n",
       "    <tr>\n",
       "      <th>19989</th>\n",
       "      <td>Standard</td>\n",
       "    </tr>\n",
       "    <tr>\n",
       "      <th>19990</th>\n",
       "      <td>Poor</td>\n",
       "    </tr>\n",
       "    <tr>\n",
       "      <th>19991</th>\n",
       "      <td>Standard</td>\n",
       "    </tr>\n",
       "  </tbody>\n",
       "</table>\n",
       "<p>19992 rows × 1 columns</p>\n",
       "</div>"
      ],
      "text/plain": [
       "      Credit score (Predicted)\n",
       "0                         Poor\n",
       "1                     Standard\n",
       "2                         Good\n",
       "3                     Standard\n",
       "4                     Standard\n",
       "...                        ...\n",
       "19987                     Poor\n",
       "19988                     Poor\n",
       "19989                 Standard\n",
       "19990                     Poor\n",
       "19991                 Standard\n",
       "\n",
       "[19992 rows x 1 columns]"
      ]
     },
     "execution_count": 57,
     "metadata": {},
     "output_type": "execute_result"
    }
   ],
   "source": [
    "prediction"
   ]
  },
  {
   "cell_type": "code",
   "execution_count": 58,
   "id": "1fdffb6d",
   "metadata": {
    "ExecuteTime": {
     "end_time": "2024-01-09T19:46:25.929160Z",
     "start_time": "2024-01-09T19:46:25.920397Z"
    }
   },
   "outputs": [],
   "source": [
    "results = df1.join(prediction)"
   ]
  },
  {
   "cell_type": "code",
   "execution_count": 59,
   "id": "5e89ca9a",
   "metadata": {
    "ExecuteTime": {
     "end_time": "2024-01-09T19:46:27.169273Z",
     "start_time": "2024-01-09T19:46:27.154097Z"
    }
   },
   "outputs": [
    {
     "data": {
      "text/html": [
       "<div>\n",
       "<style scoped>\n",
       "    .dataframe tbody tr th:only-of-type {\n",
       "        vertical-align: middle;\n",
       "    }\n",
       "\n",
       "    .dataframe tbody tr th {\n",
       "        vertical-align: top;\n",
       "    }\n",
       "\n",
       "    .dataframe thead th {\n",
       "        text-align: right;\n",
       "    }\n",
       "</style>\n",
       "<table border=\"1\" class=\"dataframe\">\n",
       "  <thead>\n",
       "    <tr style=\"text-align: right;\">\n",
       "      <th></th>\n",
       "      <th>Delay_from_due_date</th>\n",
       "      <th>Num_of_Delayed_Payment</th>\n",
       "      <th>Num_Credit_Inquiries</th>\n",
       "      <th>Credit_Utilization_Ratio</th>\n",
       "      <th>Credit_History_Age</th>\n",
       "      <th>Amount_invested_monthly</th>\n",
       "      <th>Monthly_Balance</th>\n",
       "      <th>Credit_Score</th>\n",
       "      <th>Age</th>\n",
       "      <th>Annual_Income</th>\n",
       "      <th>...</th>\n",
       "      <th>Payment_Behaviour_High_spent_Large_value_payments</th>\n",
       "      <th>Payment_Behaviour_High_spent_Medium_value_payments</th>\n",
       "      <th>Payment_Behaviour_High_spent_Small_value_payments</th>\n",
       "      <th>Payment_Behaviour_Low_spent_Large_value_payments</th>\n",
       "      <th>Payment_Behaviour_Low_spent_Medium_value_payments</th>\n",
       "      <th>Payment_Behaviour_Low_spent_Small_value_payments</th>\n",
       "      <th>Payment_of_Min_Amount_NM</th>\n",
       "      <th>Payment_of_Min_Amount_No</th>\n",
       "      <th>Payment_of_Min_Amount_Yes</th>\n",
       "      <th>Credit score (Predicted)</th>\n",
       "    </tr>\n",
       "  </thead>\n",
       "  <tbody>\n",
       "    <tr>\n",
       "      <th>0</th>\n",
       "      <td>-1.222314</td>\n",
       "      <td>-1.011380</td>\n",
       "      <td>-0.462936</td>\n",
       "      <td>-1.066659</td>\n",
       "      <td>0.441438</td>\n",
       "      <td>-0.582921</td>\n",
       "      <td>-0.423436</td>\n",
       "      <td>0</td>\n",
       "      <td>23.0</td>\n",
       "      <td>19114.12</td>\n",
       "      <td>...</td>\n",
       "      <td>0</td>\n",
       "      <td>1</td>\n",
       "      <td>0</td>\n",
       "      <td>0</td>\n",
       "      <td>0</td>\n",
       "      <td>0</td>\n",
       "      <td>0</td>\n",
       "      <td>1</td>\n",
       "      <td>0</td>\n",
       "      <td>Poor</td>\n",
       "    </tr>\n",
       "    <tr>\n",
       "      <th>1</th>\n",
       "      <td>-1.222314</td>\n",
       "      <td>-1.011380</td>\n",
       "      <td>-0.462936</td>\n",
       "      <td>-0.066662</td>\n",
       "      <td>0.441438</td>\n",
       "      <td>-0.387676</td>\n",
       "      <td>-0.553225</td>\n",
       "      <td>0</td>\n",
       "      <td>23.0</td>\n",
       "      <td>19114.12</td>\n",
       "      <td>...</td>\n",
       "      <td>0</td>\n",
       "      <td>1</td>\n",
       "      <td>0</td>\n",
       "      <td>0</td>\n",
       "      <td>0</td>\n",
       "      <td>0</td>\n",
       "      <td>0</td>\n",
       "      <td>1</td>\n",
       "      <td>0</td>\n",
       "      <td>Standard</td>\n",
       "    </tr>\n",
       "    <tr>\n",
       "      <th>2</th>\n",
       "      <td>-1.222314</td>\n",
       "      <td>-1.011380</td>\n",
       "      <td>-0.462936</td>\n",
       "      <td>-0.717848</td>\n",
       "      <td>0.461485</td>\n",
       "      <td>-0.576299</td>\n",
       "      <td>-0.336262</td>\n",
       "      <td>0</td>\n",
       "      <td>23.0</td>\n",
       "      <td>19114.12</td>\n",
       "      <td>...</td>\n",
       "      <td>0</td>\n",
       "      <td>1</td>\n",
       "      <td>0</td>\n",
       "      <td>0</td>\n",
       "      <td>0</td>\n",
       "      <td>0</td>\n",
       "      <td>0</td>\n",
       "      <td>1</td>\n",
       "      <td>0</td>\n",
       "      <td>Good</td>\n",
       "    </tr>\n",
       "    <tr>\n",
       "      <th>3</th>\n",
       "      <td>-1.087396</td>\n",
       "      <td>-1.489906</td>\n",
       "      <td>-0.462936</td>\n",
       "      <td>-0.177372</td>\n",
       "      <td>0.471508</td>\n",
       "      <td>0.030906</td>\n",
       "      <td>-0.838177</td>\n",
       "      <td>0</td>\n",
       "      <td>23.0</td>\n",
       "      <td>19114.12</td>\n",
       "      <td>...</td>\n",
       "      <td>0</td>\n",
       "      <td>1</td>\n",
       "      <td>0</td>\n",
       "      <td>0</td>\n",
       "      <td>0</td>\n",
       "      <td>0</td>\n",
       "      <td>0</td>\n",
       "      <td>1</td>\n",
       "      <td>0</td>\n",
       "      <td>Standard</td>\n",
       "    </tr>\n",
       "    <tr>\n",
       "      <th>4</th>\n",
       "      <td>-1.019937</td>\n",
       "      <td>-1.489906</td>\n",
       "      <td>-0.462936</td>\n",
       "      <td>-1.462039</td>\n",
       "      <td>0.481532</td>\n",
       "      <td>-0.783994</td>\n",
       "      <td>-0.288383</td>\n",
       "      <td>0</td>\n",
       "      <td>23.0</td>\n",
       "      <td>19114.12</td>\n",
       "      <td>...</td>\n",
       "      <td>0</td>\n",
       "      <td>1</td>\n",
       "      <td>0</td>\n",
       "      <td>0</td>\n",
       "      <td>0</td>\n",
       "      <td>0</td>\n",
       "      <td>0</td>\n",
       "      <td>1</td>\n",
       "      <td>0</td>\n",
       "      <td>Standard</td>\n",
       "    </tr>\n",
       "    <tr>\n",
       "      <th>5</th>\n",
       "      <td>-0.885019</td>\n",
       "      <td>-1.489906</td>\n",
       "      <td>-0.462936</td>\n",
       "      <td>-0.980832</td>\n",
       "      <td>0.491555</td>\n",
       "      <td>-0.675659</td>\n",
       "      <td>-0.293087</td>\n",
       "      <td>0</td>\n",
       "      <td>23.0</td>\n",
       "      <td>19114.12</td>\n",
       "      <td>...</td>\n",
       "      <td>0</td>\n",
       "      <td>1</td>\n",
       "      <td>0</td>\n",
       "      <td>0</td>\n",
       "      <td>0</td>\n",
       "      <td>0</td>\n",
       "      <td>0</td>\n",
       "      <td>1</td>\n",
       "      <td>0</td>\n",
       "      <td>Standard</td>\n",
       "    </tr>\n",
       "    <tr>\n",
       "      <th>6</th>\n",
       "      <td>-1.222314</td>\n",
       "      <td>-0.851871</td>\n",
       "      <td>-0.462936</td>\n",
       "      <td>-1.903194</td>\n",
       "      <td>0.501579</td>\n",
       "      <td>-0.077966</td>\n",
       "      <td>-0.739833</td>\n",
       "      <td>0</td>\n",
       "      <td>23.0</td>\n",
       "      <td>19114.12</td>\n",
       "      <td>...</td>\n",
       "      <td>0</td>\n",
       "      <td>1</td>\n",
       "      <td>0</td>\n",
       "      <td>0</td>\n",
       "      <td>0</td>\n",
       "      <td>0</td>\n",
       "      <td>0</td>\n",
       "      <td>1</td>\n",
       "      <td>0</td>\n",
       "      <td>Standard</td>\n",
       "    </tr>\n",
       "    <tr>\n",
       "      <th>7</th>\n",
       "      <td>-1.222314</td>\n",
       "      <td>-1.170889</td>\n",
       "      <td>-0.462936</td>\n",
       "      <td>-1.630624</td>\n",
       "      <td>0.501579</td>\n",
       "      <td>-0.869770</td>\n",
       "      <td>-0.210901</td>\n",
       "      <td>2</td>\n",
       "      <td>23.0</td>\n",
       "      <td>19114.12</td>\n",
       "      <td>...</td>\n",
       "      <td>0</td>\n",
       "      <td>1</td>\n",
       "      <td>0</td>\n",
       "      <td>0</td>\n",
       "      <td>0</td>\n",
       "      <td>0</td>\n",
       "      <td>0</td>\n",
       "      <td>1</td>\n",
       "      <td>0</td>\n",
       "      <td>Standard</td>\n",
       "    </tr>\n",
       "    <tr>\n",
       "      <th>8</th>\n",
       "      <td>-1.222314</td>\n",
       "      <td>-1.489906</td>\n",
       "      <td>-0.979943</td>\n",
       "      <td>-1.527109</td>\n",
       "      <td>0.982701</td>\n",
       "      <td>-0.459806</td>\n",
       "      <td>0.313409</td>\n",
       "      <td>2</td>\n",
       "      <td>28.0</td>\n",
       "      <td>34847.84</td>\n",
       "      <td>...</td>\n",
       "      <td>1</td>\n",
       "      <td>0</td>\n",
       "      <td>0</td>\n",
       "      <td>0</td>\n",
       "      <td>0</td>\n",
       "      <td>0</td>\n",
       "      <td>0</td>\n",
       "      <td>1</td>\n",
       "      <td>0</td>\n",
       "      <td>Standard</td>\n",
       "    </tr>\n",
       "    <tr>\n",
       "      <th>9</th>\n",
       "      <td>-0.952478</td>\n",
       "      <td>-1.968433</td>\n",
       "      <td>-0.979943</td>\n",
       "      <td>1.222959</td>\n",
       "      <td>0.992724</td>\n",
       "      <td>-0.789300</td>\n",
       "      <td>0.378155</td>\n",
       "      <td>0</td>\n",
       "      <td>28.0</td>\n",
       "      <td>34847.84</td>\n",
       "      <td>...</td>\n",
       "      <td>1</td>\n",
       "      <td>0</td>\n",
       "      <td>0</td>\n",
       "      <td>0</td>\n",
       "      <td>0</td>\n",
       "      <td>0</td>\n",
       "      <td>0</td>\n",
       "      <td>1</td>\n",
       "      <td>0</td>\n",
       "      <td>Poor</td>\n",
       "    </tr>\n",
       "    <tr>\n",
       "      <th>10</th>\n",
       "      <td>-1.222314</td>\n",
       "      <td>-1.968433</td>\n",
       "      <td>-0.979943</td>\n",
       "      <td>0.183222</td>\n",
       "      <td>1.002748</td>\n",
       "      <td>-0.695842</td>\n",
       "      <td>0.293734</td>\n",
       "      <td>2</td>\n",
       "      <td>28.0</td>\n",
       "      <td>34847.84</td>\n",
       "      <td>...</td>\n",
       "      <td>1</td>\n",
       "      <td>0</td>\n",
       "      <td>0</td>\n",
       "      <td>0</td>\n",
       "      <td>0</td>\n",
       "      <td>0</td>\n",
       "      <td>0</td>\n",
       "      <td>1</td>\n",
       "      <td>0</td>\n",
       "      <td>Standard</td>\n",
       "    </tr>\n",
       "    <tr>\n",
       "      <th>11</th>\n",
       "      <td>-1.222314</td>\n",
       "      <td>-1.649415</td>\n",
       "      <td>-0.979943</td>\n",
       "      <td>1.346302</td>\n",
       "      <td>1.012771</td>\n",
       "      <td>-0.485513</td>\n",
       "      <td>0.290053</td>\n",
       "      <td>0</td>\n",
       "      <td>28.0</td>\n",
       "      <td>34847.84</td>\n",
       "      <td>...</td>\n",
       "      <td>1</td>\n",
       "      <td>0</td>\n",
       "      <td>0</td>\n",
       "      <td>0</td>\n",
       "      <td>0</td>\n",
       "      <td>0</td>\n",
       "      <td>0</td>\n",
       "      <td>1</td>\n",
       "      <td>0</td>\n",
       "      <td>Standard</td>\n",
       "    </tr>\n",
       "    <tr>\n",
       "      <th>12</th>\n",
       "      <td>-1.222314</td>\n",
       "      <td>-1.968433</td>\n",
       "      <td>-0.979943</td>\n",
       "      <td>0.525436</td>\n",
       "      <td>1.022794</td>\n",
       "      <td>-0.326650</td>\n",
       "      <td>0.193128</td>\n",
       "      <td>0</td>\n",
       "      <td>28.0</td>\n",
       "      <td>34847.84</td>\n",
       "      <td>...</td>\n",
       "      <td>1</td>\n",
       "      <td>0</td>\n",
       "      <td>0</td>\n",
       "      <td>0</td>\n",
       "      <td>0</td>\n",
       "      <td>0</td>\n",
       "      <td>0</td>\n",
       "      <td>1</td>\n",
       "      <td>0</td>\n",
       "      <td>Standard</td>\n",
       "    </tr>\n",
       "    <tr>\n",
       "      <th>13</th>\n",
       "      <td>-1.222314</td>\n",
       "      <td>-2.127942</td>\n",
       "      <td>-0.979943</td>\n",
       "      <td>0.213688</td>\n",
       "      <td>1.032818</td>\n",
       "      <td>-0.773387</td>\n",
       "      <td>0.363781</td>\n",
       "      <td>0</td>\n",
       "      <td>28.0</td>\n",
       "      <td>34847.84</td>\n",
       "      <td>...</td>\n",
       "      <td>1</td>\n",
       "      <td>0</td>\n",
       "      <td>0</td>\n",
       "      <td>0</td>\n",
       "      <td>0</td>\n",
       "      <td>0</td>\n",
       "      <td>0</td>\n",
       "      <td>1</td>\n",
       "      <td>0</td>\n",
       "      <td>Standard</td>\n",
       "    </tr>\n",
       "    <tr>\n",
       "      <th>14</th>\n",
       "      <td>-1.222314</td>\n",
       "      <td>-1.489906</td>\n",
       "      <td>-0.979943</td>\n",
       "      <td>-0.225428</td>\n",
       "      <td>1.042841</td>\n",
       "      <td>-0.636102</td>\n",
       "      <td>0.286347</td>\n",
       "      <td>0</td>\n",
       "      <td>28.0</td>\n",
       "      <td>34847.84</td>\n",
       "      <td>...</td>\n",
       "      <td>1</td>\n",
       "      <td>0</td>\n",
       "      <td>0</td>\n",
       "      <td>0</td>\n",
       "      <td>0</td>\n",
       "      <td>0</td>\n",
       "      <td>1</td>\n",
       "      <td>0</td>\n",
       "      <td>0</td>\n",
       "      <td>Standard</td>\n",
       "    </tr>\n",
       "    <tr>\n",
       "      <th>15</th>\n",
       "      <td>-1.222314</td>\n",
       "      <td>-1.489906</td>\n",
       "      <td>-0.979943</td>\n",
       "      <td>0.126394</td>\n",
       "      <td>1.052864</td>\n",
       "      <td>0.131177</td>\n",
       "      <td>-0.220431</td>\n",
       "      <td>0</td>\n",
       "      <td>28.0</td>\n",
       "      <td>34847.84</td>\n",
       "      <td>...</td>\n",
       "      <td>1</td>\n",
       "      <td>0</td>\n",
       "      <td>0</td>\n",
       "      <td>0</td>\n",
       "      <td>0</td>\n",
       "      <td>0</td>\n",
       "      <td>0</td>\n",
       "      <td>1</td>\n",
       "      <td>0</td>\n",
       "      <td>Good</td>\n",
       "    </tr>\n",
       "    <tr>\n",
       "      <th>16</th>\n",
       "      <td>-1.087396</td>\n",
       "      <td>-0.851871</td>\n",
       "      <td>-0.721439</td>\n",
       "      <td>-0.716407</td>\n",
       "      <td>-0.079778</td>\n",
       "      <td>-0.129170</td>\n",
       "      <td>2.980572</td>\n",
       "      <td>0</td>\n",
       "      <td>34.0</td>\n",
       "      <td>143162.64</td>\n",
       "      <td>...</td>\n",
       "      <td>0</td>\n",
       "      <td>0</td>\n",
       "      <td>1</td>\n",
       "      <td>0</td>\n",
       "      <td>0</td>\n",
       "      <td>0</td>\n",
       "      <td>0</td>\n",
       "      <td>1</td>\n",
       "      <td>0</td>\n",
       "      <td>Standard</td>\n",
       "    </tr>\n",
       "    <tr>\n",
       "      <th>17</th>\n",
       "      <td>-0.547725</td>\n",
       "      <td>-1.170889</td>\n",
       "      <td>-0.721439</td>\n",
       "      <td>1.838247</td>\n",
       "      <td>-0.069754</td>\n",
       "      <td>0.203140</td>\n",
       "      <td>2.773549</td>\n",
       "      <td>0</td>\n",
       "      <td>34.0</td>\n",
       "      <td>143162.64</td>\n",
       "      <td>...</td>\n",
       "      <td>0</td>\n",
       "      <td>0</td>\n",
       "      <td>1</td>\n",
       "      <td>0</td>\n",
       "      <td>0</td>\n",
       "      <td>0</td>\n",
       "      <td>0</td>\n",
       "      <td>1</td>\n",
       "      <td>0</td>\n",
       "      <td>Standard</td>\n",
       "    </tr>\n",
       "    <tr>\n",
       "      <th>18</th>\n",
       "      <td>-0.885019</td>\n",
       "      <td>-1.011380</td>\n",
       "      <td>-0.721439</td>\n",
       "      <td>-1.125773</td>\n",
       "      <td>-0.059731</td>\n",
       "      <td>0.345614</td>\n",
       "      <td>1.454801</td>\n",
       "      <td>0</td>\n",
       "      <td>34.0</td>\n",
       "      <td>143162.64</td>\n",
       "      <td>...</td>\n",
       "      <td>0</td>\n",
       "      <td>0</td>\n",
       "      <td>1</td>\n",
       "      <td>0</td>\n",
       "      <td>0</td>\n",
       "      <td>0</td>\n",
       "      <td>0</td>\n",
       "      <td>1</td>\n",
       "      <td>0</td>\n",
       "      <td>Standard</td>\n",
       "    </tr>\n",
       "    <tr>\n",
       "      <th>19</th>\n",
       "      <td>-0.885019</td>\n",
       "      <td>-1.330397</td>\n",
       "      <td>-0.721439</td>\n",
       "      <td>1.408576</td>\n",
       "      <td>-0.059731</td>\n",
       "      <td>3.257537</td>\n",
       "      <td>0.107641</td>\n",
       "      <td>0</td>\n",
       "      <td>34.0</td>\n",
       "      <td>143162.64</td>\n",
       "      <td>...</td>\n",
       "      <td>0</td>\n",
       "      <td>0</td>\n",
       "      <td>1</td>\n",
       "      <td>0</td>\n",
       "      <td>0</td>\n",
       "      <td>0</td>\n",
       "      <td>0</td>\n",
       "      <td>1</td>\n",
       "      <td>0</td>\n",
       "      <td>Poor</td>\n",
       "    </tr>\n",
       "  </tbody>\n",
       "</table>\n",
       "<p>20 rows × 31 columns</p>\n",
       "</div>"
      ],
      "text/plain": [
       "    Delay_from_due_date  Num_of_Delayed_Payment  Num_Credit_Inquiries  \\\n",
       "0             -1.222314               -1.011380             -0.462936   \n",
       "1             -1.222314               -1.011380             -0.462936   \n",
       "2             -1.222314               -1.011380             -0.462936   \n",
       "3             -1.087396               -1.489906             -0.462936   \n",
       "4             -1.019937               -1.489906             -0.462936   \n",
       "5             -0.885019               -1.489906             -0.462936   \n",
       "6             -1.222314               -0.851871             -0.462936   \n",
       "7             -1.222314               -1.170889             -0.462936   \n",
       "8             -1.222314               -1.489906             -0.979943   \n",
       "9             -0.952478               -1.968433             -0.979943   \n",
       "10            -1.222314               -1.968433             -0.979943   \n",
       "11            -1.222314               -1.649415             -0.979943   \n",
       "12            -1.222314               -1.968433             -0.979943   \n",
       "13            -1.222314               -2.127942             -0.979943   \n",
       "14            -1.222314               -1.489906             -0.979943   \n",
       "15            -1.222314               -1.489906             -0.979943   \n",
       "16            -1.087396               -0.851871             -0.721439   \n",
       "17            -0.547725               -1.170889             -0.721439   \n",
       "18            -0.885019               -1.011380             -0.721439   \n",
       "19            -0.885019               -1.330397             -0.721439   \n",
       "\n",
       "    Credit_Utilization_Ratio  Credit_History_Age  Amount_invested_monthly  \\\n",
       "0                  -1.066659            0.441438                -0.582921   \n",
       "1                  -0.066662            0.441438                -0.387676   \n",
       "2                  -0.717848            0.461485                -0.576299   \n",
       "3                  -0.177372            0.471508                 0.030906   \n",
       "4                  -1.462039            0.481532                -0.783994   \n",
       "5                  -0.980832            0.491555                -0.675659   \n",
       "6                  -1.903194            0.501579                -0.077966   \n",
       "7                  -1.630624            0.501579                -0.869770   \n",
       "8                  -1.527109            0.982701                -0.459806   \n",
       "9                   1.222959            0.992724                -0.789300   \n",
       "10                  0.183222            1.002748                -0.695842   \n",
       "11                  1.346302            1.012771                -0.485513   \n",
       "12                  0.525436            1.022794                -0.326650   \n",
       "13                  0.213688            1.032818                -0.773387   \n",
       "14                 -0.225428            1.042841                -0.636102   \n",
       "15                  0.126394            1.052864                 0.131177   \n",
       "16                 -0.716407           -0.079778                -0.129170   \n",
       "17                  1.838247           -0.069754                 0.203140   \n",
       "18                 -1.125773           -0.059731                 0.345614   \n",
       "19                  1.408576           -0.059731                 3.257537   \n",
       "\n",
       "    Monthly_Balance  Credit_Score   Age  Annual_Income  ...  \\\n",
       "0         -0.423436             0  23.0       19114.12  ...   \n",
       "1         -0.553225             0  23.0       19114.12  ...   \n",
       "2         -0.336262             0  23.0       19114.12  ...   \n",
       "3         -0.838177             0  23.0       19114.12  ...   \n",
       "4         -0.288383             0  23.0       19114.12  ...   \n",
       "5         -0.293087             0  23.0       19114.12  ...   \n",
       "6         -0.739833             0  23.0       19114.12  ...   \n",
       "7         -0.210901             2  23.0       19114.12  ...   \n",
       "8          0.313409             2  28.0       34847.84  ...   \n",
       "9          0.378155             0  28.0       34847.84  ...   \n",
       "10         0.293734             2  28.0       34847.84  ...   \n",
       "11         0.290053             0  28.0       34847.84  ...   \n",
       "12         0.193128             0  28.0       34847.84  ...   \n",
       "13         0.363781             0  28.0       34847.84  ...   \n",
       "14         0.286347             0  28.0       34847.84  ...   \n",
       "15        -0.220431             0  28.0       34847.84  ...   \n",
       "16         2.980572             0  34.0      143162.64  ...   \n",
       "17         2.773549             0  34.0      143162.64  ...   \n",
       "18         1.454801             0  34.0      143162.64  ...   \n",
       "19         0.107641             0  34.0      143162.64  ...   \n",
       "\n",
       "    Payment_Behaviour_High_spent_Large_value_payments  \\\n",
       "0                                                   0   \n",
       "1                                                   0   \n",
       "2                                                   0   \n",
       "3                                                   0   \n",
       "4                                                   0   \n",
       "5                                                   0   \n",
       "6                                                   0   \n",
       "7                                                   0   \n",
       "8                                                   1   \n",
       "9                                                   1   \n",
       "10                                                  1   \n",
       "11                                                  1   \n",
       "12                                                  1   \n",
       "13                                                  1   \n",
       "14                                                  1   \n",
       "15                                                  1   \n",
       "16                                                  0   \n",
       "17                                                  0   \n",
       "18                                                  0   \n",
       "19                                                  0   \n",
       "\n",
       "    Payment_Behaviour_High_spent_Medium_value_payments  \\\n",
       "0                                                   1    \n",
       "1                                                   1    \n",
       "2                                                   1    \n",
       "3                                                   1    \n",
       "4                                                   1    \n",
       "5                                                   1    \n",
       "6                                                   1    \n",
       "7                                                   1    \n",
       "8                                                   0    \n",
       "9                                                   0    \n",
       "10                                                  0    \n",
       "11                                                  0    \n",
       "12                                                  0    \n",
       "13                                                  0    \n",
       "14                                                  0    \n",
       "15                                                  0    \n",
       "16                                                  0    \n",
       "17                                                  0    \n",
       "18                                                  0    \n",
       "19                                                  0    \n",
       "\n",
       "    Payment_Behaviour_High_spent_Small_value_payments  \\\n",
       "0                                                   0   \n",
       "1                                                   0   \n",
       "2                                                   0   \n",
       "3                                                   0   \n",
       "4                                                   0   \n",
       "5                                                   0   \n",
       "6                                                   0   \n",
       "7                                                   0   \n",
       "8                                                   0   \n",
       "9                                                   0   \n",
       "10                                                  0   \n",
       "11                                                  0   \n",
       "12                                                  0   \n",
       "13                                                  0   \n",
       "14                                                  0   \n",
       "15                                                  0   \n",
       "16                                                  1   \n",
       "17                                                  1   \n",
       "18                                                  1   \n",
       "19                                                  1   \n",
       "\n",
       "    Payment_Behaviour_Low_spent_Large_value_payments  \\\n",
       "0                                                  0   \n",
       "1                                                  0   \n",
       "2                                                  0   \n",
       "3                                                  0   \n",
       "4                                                  0   \n",
       "5                                                  0   \n",
       "6                                                  0   \n",
       "7                                                  0   \n",
       "8                                                  0   \n",
       "9                                                  0   \n",
       "10                                                 0   \n",
       "11                                                 0   \n",
       "12                                                 0   \n",
       "13                                                 0   \n",
       "14                                                 0   \n",
       "15                                                 0   \n",
       "16                                                 0   \n",
       "17                                                 0   \n",
       "18                                                 0   \n",
       "19                                                 0   \n",
       "\n",
       "    Payment_Behaviour_Low_spent_Medium_value_payments  \\\n",
       "0                                                   0   \n",
       "1                                                   0   \n",
       "2                                                   0   \n",
       "3                                                   0   \n",
       "4                                                   0   \n",
       "5                                                   0   \n",
       "6                                                   0   \n",
       "7                                                   0   \n",
       "8                                                   0   \n",
       "9                                                   0   \n",
       "10                                                  0   \n",
       "11                                                  0   \n",
       "12                                                  0   \n",
       "13                                                  0   \n",
       "14                                                  0   \n",
       "15                                                  0   \n",
       "16                                                  0   \n",
       "17                                                  0   \n",
       "18                                                  0   \n",
       "19                                                  0   \n",
       "\n",
       "    Payment_Behaviour_Low_spent_Small_value_payments  \\\n",
       "0                                                  0   \n",
       "1                                                  0   \n",
       "2                                                  0   \n",
       "3                                                  0   \n",
       "4                                                  0   \n",
       "5                                                  0   \n",
       "6                                                  0   \n",
       "7                                                  0   \n",
       "8                                                  0   \n",
       "9                                                  0   \n",
       "10                                                 0   \n",
       "11                                                 0   \n",
       "12                                                 0   \n",
       "13                                                 0   \n",
       "14                                                 0   \n",
       "15                                                 0   \n",
       "16                                                 0   \n",
       "17                                                 0   \n",
       "18                                                 0   \n",
       "19                                                 0   \n",
       "\n",
       "    Payment_of_Min_Amount_NM  Payment_of_Min_Amount_No  \\\n",
       "0                          0                         1   \n",
       "1                          0                         1   \n",
       "2                          0                         1   \n",
       "3                          0                         1   \n",
       "4                          0                         1   \n",
       "5                          0                         1   \n",
       "6                          0                         1   \n",
       "7                          0                         1   \n",
       "8                          0                         1   \n",
       "9                          0                         1   \n",
       "10                         0                         1   \n",
       "11                         0                         1   \n",
       "12                         0                         1   \n",
       "13                         0                         1   \n",
       "14                         1                         0   \n",
       "15                         0                         1   \n",
       "16                         0                         1   \n",
       "17                         0                         1   \n",
       "18                         0                         1   \n",
       "19                         0                         1   \n",
       "\n",
       "    Payment_of_Min_Amount_Yes  Credit score (Predicted)  \n",
       "0                           0                      Poor  \n",
       "1                           0                  Standard  \n",
       "2                           0                      Good  \n",
       "3                           0                  Standard  \n",
       "4                           0                  Standard  \n",
       "5                           0                  Standard  \n",
       "6                           0                  Standard  \n",
       "7                           0                  Standard  \n",
       "8                           0                  Standard  \n",
       "9                           0                      Poor  \n",
       "10                          0                  Standard  \n",
       "11                          0                  Standard  \n",
       "12                          0                  Standard  \n",
       "13                          0                  Standard  \n",
       "14                          0                  Standard  \n",
       "15                          0                      Good  \n",
       "16                          0                  Standard  \n",
       "17                          0                  Standard  \n",
       "18                          0                  Standard  \n",
       "19                          0                      Poor  \n",
       "\n",
       "[20 rows x 31 columns]"
      ]
     },
     "execution_count": 59,
     "metadata": {},
     "output_type": "execute_result"
    }
   ],
   "source": [
    "results.head(20)"
   ]
  },
  {
   "cell_type": "code",
   "execution_count": null,
   "id": "c89abad4",
   "metadata": {},
   "outputs": [],
   "source": []
  },
  {
   "cell_type": "code",
   "execution_count": null,
   "id": "961506bf",
   "metadata": {},
   "outputs": [],
   "source": []
  },
  {
   "cell_type": "code",
   "execution_count": null,
   "id": "6bb52cde",
   "metadata": {},
   "outputs": [],
   "source": []
  },
  {
   "cell_type": "code",
   "execution_count": null,
   "id": "12397064",
   "metadata": {},
   "outputs": [],
   "source": []
  },
  {
   "cell_type": "code",
   "execution_count": null,
   "id": "bee93e7f",
   "metadata": {},
   "outputs": [],
   "source": []
  },
  {
   "cell_type": "code",
   "execution_count": null,
   "id": "879c2780",
   "metadata": {},
   "outputs": [],
   "source": []
  },
  {
   "cell_type": "code",
   "execution_count": null,
   "id": "f0462216",
   "metadata": {},
   "outputs": [],
   "source": []
  },
  {
   "cell_type": "code",
   "execution_count": null,
   "id": "148ed696",
   "metadata": {},
   "outputs": [],
   "source": []
  },
  {
   "cell_type": "code",
   "execution_count": 60,
   "id": "6d4b81e6",
   "metadata": {
    "ExecuteTime": {
     "end_time": "2024-01-09T19:49:19.836681Z",
     "start_time": "2024-01-09T19:49:19.832224Z"
    }
   },
   "outputs": [],
   "source": [
    "from sklearn.metrics import mean_squared_error, mean_absolute_error, explained_variance_score, r2_score\n",
    "from sklearn.metrics import accuracy_score,roc_auc_score,recall_score,precision_score,f1_score\n",
    "def eval_metric(actual, pred):\n",
    "    f1 = f1_score(actual, y_pred)\n",
    "    precision = precision_score(actual, y_pred)\n",
    "    recall = recall_score(actual, y_pred)\n",
    "    auc_roc = roc_auc_score(actual, y_pred_prob)\n",
    "    Accu=accuracy_score(actual, y_pred)\n",
    "    mae = mean_absolute_error(actual, pred)\n",
    "    mse = mean_squared_error(actual, pred)\n",
    "    rmse = np.sqrt(mean_squared_error(actual, pred))\n",
    "    score = r2_score(actual, pred)\n",
    "    return print(\"r2_score:\", score, \"\\nmae:\", mae, \"\\nmse:\", mse, \"\\nrmse:\", rmse)"
   ]
  },
  {
   "cell_type": "code",
   "execution_count": 61,
   "id": "5da1e205",
   "metadata": {
    "ExecuteTime": {
     "end_time": "2024-01-09T19:49:53.761731Z",
     "start_time": "2024-01-09T19:49:30.750309Z"
    }
   },
   "outputs": [
    {
     "name": "stdout",
     "output_type": "stream",
     "text": [
      "[[2731   13  875]\n",
      " [   9 4853  949]\n",
      " [ 715 1199 8648]]\n",
      "              precision    recall  f1-score   support\n",
      "\n",
      "           0       0.79      0.75      0.77      3619\n",
      "           1       0.80      0.84      0.82      5811\n",
      "           2       0.83      0.82      0.82     10562\n",
      "\n",
      "    accuracy                           0.81     19992\n",
      "   macro avg       0.81      0.80      0.80     19992\n",
      "weighted avg       0.81      0.81      0.81     19992\n",
      "\n"
     ]
    }
   ],
   "source": [
    "from sklearn.ensemble import RandomForestClassifier\n",
    "\n",
    "rf_model = RandomForestClassifier(class_weight='balanced')\n",
    "rf_model.fit(X_train, y_train)\n",
    "y_pred = rf_model.predict(X_test)\n",
    "print(confusion_matrix(y_test, y_pred))\n",
    "print(classification_report(y_test, y_pred))"
   ]
  },
  {
   "cell_type": "code",
   "execution_count": null,
   "id": "3d118850",
   "metadata": {},
   "outputs": [],
   "source": []
  },
  {
   "cell_type": "code",
   "execution_count": null,
   "id": "80c9ebc4",
   "metadata": {},
   "outputs": [],
   "source": []
  },
  {
   "cell_type": "code",
   "execution_count": null,
   "id": "63468aa0",
   "metadata": {},
   "outputs": [],
   "source": []
  },
  {
   "cell_type": "code",
   "execution_count": null,
   "id": "23ebb975",
   "metadata": {},
   "outputs": [],
   "source": []
  },
  {
   "cell_type": "code",
   "execution_count": null,
   "id": "7b73a2ca",
   "metadata": {},
   "outputs": [],
   "source": []
  }
 ],
 "metadata": {
  "hide_input": false,
  "kernelspec": {
   "display_name": "Python 3 (ipykernel)",
   "language": "python",
   "name": "python3"
  },
  "language_info": {
   "codemirror_mode": {
    "name": "ipython",
    "version": 3
   },
   "file_extension": ".py",
   "mimetype": "text/x-python",
   "name": "python",
   "nbconvert_exporter": "python",
   "pygments_lexer": "ipython3",
   "version": "3.10.8"
  },
  "nbTranslate": {
   "displayLangs": [
    "*"
   ],
   "hotkey": "alt-t",
   "langInMainMenu": true,
   "sourceLang": "en",
   "targetLang": "fr",
   "useGoogleTranslate": true
  },
  "toc": {
   "base_numbering": 1,
   "nav_menu": {},
   "number_sections": true,
   "sideBar": true,
   "skip_h1_title": false,
   "title_cell": "Table of Contents",
   "title_sidebar": "Contents",
   "toc_cell": false,
   "toc_position": {},
   "toc_section_display": true,
   "toc_window_display": false
  }
 },
 "nbformat": 4,
 "nbformat_minor": 5
}
