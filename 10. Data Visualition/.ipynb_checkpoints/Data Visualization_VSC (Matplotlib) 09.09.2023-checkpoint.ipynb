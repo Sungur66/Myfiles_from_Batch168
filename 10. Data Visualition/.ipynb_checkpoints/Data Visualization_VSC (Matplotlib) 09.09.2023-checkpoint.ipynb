{
 "cells": [
  {
   "cell_type": "code",
   "execution_count": 1,
   "id": "e9543c29",
   "metadata": {},
   "outputs": [
    {
     "name": "stderr",
     "output_type": "stream",
     "text": [
      "UsageError: unrecognized arguments: # grafik ciktisini kod satirinin altind göstermek icin\n"
     ]
    }
   ],
   "source": [
    "import  numpy as np\n",
    "import pandas as pd\n",
    "\n",
    "import matplotlib as mpl\n",
    "import matplotlib.pyplot as plt\n",
    "\n",
    "import seaborn as sns\n",
    "\n",
    "import plotly as pl\n",
    "\n",
    "%matplotlib inline        # grafik ciktisini kod satirinin altind göstermek icin \n",
    "# %matplotib notebook     #  bu kod grafik çıktısını interaktif bir şekilde almak için\n",
    "                          # not: tüm grafikleri bir satırda toplar\n",
    "\n",
    "import warnings;\n",
    "warnings.filterwarnings(\"ignore\")"
   ]
  },
  {
   "cell_type": "code",
   "execution_count": null,
   "id": "bb93c49e",
   "metadata": {},
   "outputs": [],
   "source": [
    "print(\"sns =\",sns.__version__)\n",
    "print(\"pl =\",pl.__version__)\n",
    "print(\"mpl =\",mpl.__version__)"
   ]
  },
  {
   "cell_type": "code",
   "execution_count": null,
   "id": "628acb26",
   "metadata": {},
   "outputs": [],
   "source": [
    "print(np.__version__)\n",
    "print(pd.__version__)"
   ]
  },
  {
   "cell_type": "markdown",
   "id": "77bd861f",
   "metadata": {},
   "source": [
    "# Figure and Axes\n",
    "![Alt text](image.png)"
   ]
  },
  {
   "cell_type": "code",
   "execution_count": null,
   "id": "686f20e0",
   "metadata": {},
   "outputs": [],
   "source": [
    "x = np.arange(0, 10)\n",
    "x"
   ]
  },
  {
   "cell_type": "code",
   "execution_count": null,
   "id": "c0bd41fb",
   "metadata": {},
   "outputs": [],
   "source": [
    "y = x * 2\n",
    "y"
   ]
  },
  {
   "cell_type": "code",
   "execution_count": null,
   "id": "59909132",
   "metadata": {},
   "outputs": [],
   "source": [
    "plt.plot(x, y)\n",
    "plt.show()        # altta bir aciklama cikmamasi icin bu satiri yaziyoruz veya ; kullaniyoruz"
   ]
  },
  {
   "cell_type": "code",
   "execution_count": null,
   "id": "34bf381b",
   "metadata": {},
   "outputs": [],
   "source": [
    "plt.plot(x,y)"
   ]
  },
  {
   "cell_type": "code",
   "execution_count": null,
   "id": "5f1814b5",
   "metadata": {},
   "outputs": [],
   "source": [
    "plt.plot(x, y);"
   ]
  },
  {
   "cell_type": "code",
   "execution_count": null,
   "id": "abb69389",
   "metadata": {},
   "outputs": [],
   "source": [
    "plt.plot(x, y, 'bo')"
   ]
  },
  {
   "cell_type": "code",
   "execution_count": null,
   "id": "4d9bda0e",
   "metadata": {},
   "outputs": [],
   "source": [
    "plt.plot(y)"
   ]
  },
  {
   "cell_type": "code",
   "execution_count": null,
   "id": "9edfee24",
   "metadata": {},
   "outputs": [],
   "source": [
    "plt.plot(y, 'g^');"
   ]
  },
  {
   "cell_type": "code",
   "execution_count": null,
   "id": "007a7da6",
   "metadata": {},
   "outputs": [],
   "source": [
    "plt.plot(y, 'm*');"
   ]
  },
  {
   "cell_type": "code",
   "execution_count": null,
   "id": "0fce8826",
   "metadata": {},
   "outputs": [],
   "source": [
    "print(plt.style.available)"
   ]
  },
  {
   "cell_type": "code",
   "execution_count": null,
   "id": "f931c8f6",
   "metadata": {},
   "outputs": [],
   "source": [
    "plt.style.use(\"ggplot\")"
   ]
  },
  {
   "cell_type": "code",
   "execution_count": null,
   "id": "acf45cf5",
   "metadata": {},
   "outputs": [],
   "source": [
    "plt.plot(x,y);"
   ]
  },
  {
   "cell_type": "code",
   "execution_count": null,
   "id": "0d346f3e",
   "metadata": {},
   "outputs": [],
   "source": [
    "plt.figure(figsize=(10, 5))\n",
    "plt.plot(x, y);"
   ]
  },
  {
   "cell_type": "markdown",
   "id": "c5005308",
   "metadata": {},
   "source": [
    "# Grafiklere Argümanlar verme"
   ]
  },
  {
   "cell_type": "code",
   "execution_count": null,
   "id": "30536a37",
   "metadata": {},
   "outputs": [],
   "source": [
    "a = np.arange(0,100,2)[::-1]\n",
    "a"
   ]
  },
  {
   "cell_type": "code",
   "execution_count": null,
   "id": "385f7128",
   "metadata": {},
   "outputs": [],
   "source": [
    "x = np.linspace(0,10,100)\n",
    "y = np.sin(x)\n",
    "\n",
    "plt.figure(figsize=(9, 5))\n",
    "plt.plot(x, y, \"m4\");"
   ]
  },
  {
   "cell_type": "code",
   "execution_count": null,
   "id": "6a43c271",
   "metadata": {},
   "outputs": [],
   "source": [
    "x = np.linspace(0,10,100)\n",
    "y = np.sin(x)\n",
    "\n",
    "plt.figure(figsize=(9, 5))\n",
    "plt.plot(x, y, \"c^\");"
   ]
  },
  {
   "cell_type": "code",
   "execution_count": null,
   "id": "7f159e7f",
   "metadata": {},
   "outputs": [],
   "source": [
    "plt.figure(figsize=(8, 5))\n",
    "plt.plot(x, y, \"3c\")\n",
    "\n",
    "plt.xlabel(\"X - Axis\")\n",
    "plt.ylabel(\"Y - Axis\")\n",
    "\n",
    "plt.title (label= \"Axes\")\n",
    "plt.show()"
   ]
  },
  {
   "cell_type": "code",
   "execution_count": null,
   "id": "2a1aa575",
   "metadata": {},
   "outputs": [],
   "source": [
    "plt.figure(figsize = (8,5))\n",
    "plt.plot(x, y, \"b-.\")\n",
    "plt.xlabel(\"X - Axis\")\n",
    "plt.ylabel(\"Y - Axis\")\n",
    "plt.title(label = \"09.09.23\")\n",
    "plt.show()"
   ]
  },
  {
   "cell_type": "markdown",
   "id": "ecbc94ce",
   "metadata": {},
   "source": [
    "# Coklu data ve legend verme"
   ]
  },
  {
   "cell_type": "code",
   "execution_count": null,
   "id": "c35df7bd",
   "metadata": {},
   "outputs": [],
   "source": [
    "age = np.arange(25, 44, 2.5)\n",
    "salary_1 = np.arange(40000, 76000, 5000)\n",
    "salary_2 = [45372, 46852, 69401, 56790, 73000, 80000, 83545, 95642]"
   ]
  },
  {
   "cell_type": "code",
   "execution_count": null,
   "id": "6e246c46",
   "metadata": {},
   "outputs": [],
   "source": [
    "plt.figure(figsize=(10,6))\n",
    "plt.plot(age, salary_1, \"b:\", label = \"Salary_1\")\n",
    "plt.plot(age, salary_2, \"r-\", label = \"Salary_2\")\n",
    "\n",
    "plt.xlabel(\"Age\")\n",
    "plt.ylabel(\"Salary\")\n",
    "plt.title(\"Salary by Age\")\n",
    "\n",
    "plt.legend();"
   ]
  },
  {
   "cell_type": "code",
   "execution_count": null,
   "id": "071cedfd",
   "metadata": {},
   "outputs": [],
   "source": [
    "plt.figure(figsize=(10,6))\n",
    "plt.plot(age, salary_1, \"b:\", label = \"Salary_1\")\n",
    "plt.plot(age, salary_2, \"r-\", label = \"Salary_2\")\n",
    "\n",
    "plt.xlabel(\"Age\")\n",
    "plt.ylabel(\"Salary\")\n",
    "plt.title(\"Salary by Age\")\n",
    "\n",
    "plt.legend(bbox_to_anchor=(0.2, 1));"
   ]
  },
  {
   "cell_type": "code",
   "execution_count": null,
   "id": "5639fbf6",
   "metadata": {},
   "outputs": [],
   "source": [
    "plt.figure(figsize=(10,6))\n",
    "plt.plot(age, salary_1, \"b:\", label = \"Salary_1\")\n",
    "plt.plot(age, salary_2, \"r-\", label = \"Salary_2\")\n",
    "\n",
    "plt.xlabel(\"Age\")\n",
    "plt.ylabel(\"Salary\")\n",
    "plt.title(\"Salary by Age\")\n",
    "\n",
    "plt.legend(bbox_to_anchor=(0.2, 1));"
   ]
  },
  {
   "cell_type": "code",
   "execution_count": null,
   "id": "0887387b",
   "metadata": {},
   "outputs": [],
   "source": [
    "plt.plot(age, salary_1, \"g:\", label = \"Salary_1\")\n",
    "plt.plot(age, salary_2, \"m-\", label = \"Salary_2\")\n",
    "plt.xlabel(\"Age\")\n",
    "plt.ylabel(\"Salary\")\n",
    "plt.title(\"SALARY BY AGE\")\n",
    "plt.legend(loc='upper right')\n",
    "plt.show()"
   ]
  },
  {
   "cell_type": "code",
   "execution_count": null,
   "id": "1f94e5ec",
   "metadata": {},
   "outputs": [],
   "source": [
    "plt.figure(figsize=(10, 6))\n",
    "\n",
    "plt.plot(age, salary_1, \"b-\", linewidth=4 ,label = \"Salary_1\")\n",
    "plt.plot(age, salary_2, \"r-.\", lw=3 ,label = \"Salary_2\")\n",
    "\n",
    "plt.legend(loc='upper left')\n",
    "\n",
    "plt.show()"
   ]
  },
  {
   "cell_type": "markdown",
   "id": "bc65be99",
   "metadata": {},
   "source": [
    "# Figure and axes Renklendirmesi\n",
    "\n",
    "https://matplotlib.org/stable/tutorials/colors/colors.html"
   ]
  },
  {
   "cell_type": "code",
   "execution_count": null,
   "id": "f09f70cb",
   "metadata": {},
   "outputs": [],
   "source": [
    "plt.figure(facecolor=\"gold\", figsize=(9, 4))\n",
    "\n",
    "ax = plt.axes()\n",
    "ax.set_facecolor(\"cyan\")\n",
    "\n",
    "plt.plot(age, salary_1, \"b-\", lw=5, label = \"S1\")\n",
    "plt.plot(age, salary_2, \"r-.\", lw=3, label = \"S2\")\n",
    "\n",
    "plt.xlabel(\"Age\")\n",
    "plt.ylabel(\"Salary\")\n",
    "plt.title(\"Salary by Age\")\n",
    "\n",
    "plt.legend(bbox_to_anchor=(0.18, 0.9, 0, 0)) # ilk iki deger x ve y eksenine göre degerler\n",
    "plt.show()                                # son iki deger en ve yükseklik ayarlanir\n"
   ]
  },
  {
   "cell_type": "code",
   "execution_count": null,
   "id": "e9e6089f",
   "metadata": {},
   "outputs": [],
   "source": [
    "plt.figure(facecolor=\"yellow\", figsize=(10, 5))\n",
    "ax = plt.axes()\n",
    "ax.set_facecolor(\"xkcd:mint green\")\n",
    "plt.plot(age, salary_1, \"b-\", linewidth=6, label = \"Salary 1\")\n",
    "plt.plot(age, salary_2, \"r-.\", lw=2, label = \"Salary 2\")\n",
    "plt.xlabel(\"Age\")\n",
    "plt.ylabel(\"Salary\")\n",
    "plt.title(\"Salary by Age\")\n",
    "plt.legend(bbox_to_anchor=(0, 0.5, 0.57, 0.5))  # legend yerinin İnce ayarı için\n",
    "                                                # ilk iki değer x ve y eksenine göre kaydırır,\n",
    "                                                # son iki tanesi ise width ve height göre kaydırır.\n",
    "plt.show()"
   ]
  },
  {
   "cell_type": "markdown",
   "id": "1983ba1e",
   "metadata": {},
   "source": [
    "# Funktion Method and Object Oriented Methods\n",
    "\n",
    "Funktional Method"
   ]
  },
  {
   "cell_type": "code",
   "execution_count": null,
   "id": "44dbc94a",
   "metadata": {},
   "outputs": [],
   "source": [
    "plt.style.use(\"seaborn-darkgrid\")\n",
    "\n",
    "plt.plot(age, salary_1)\n",
    "plt.xlabel(\"Age\")\n",
    "plt.ylabel(\"Salary\")\n",
    "plt.title(\"Salary by Age\")\n",
    "\n",
    "plt.show()"
   ]
  },
  {
   "cell_type": "markdown",
   "id": "a1187e38",
   "metadata": {},
   "source": [
    "# Object Oriented Method"
   ]
  },
  {
   "cell_type": "code",
   "execution_count": null,
   "id": "a3371bf0",
   "metadata": {},
   "outputs": [],
   "source": [
    "fig, ax = plt.subplots()\n",
    "\n",
    "ax.plot(age, salary_1, \"b\")\n",
    "ax.set_xlabel(\"age\")\n",
    "ax.set_ylabel(\"Salary\")\n",
    "ax.set_title(\"Salary by Age\")"
   ]
  },
  {
   "cell_type": "markdown",
   "id": "8ed031c7",
   "metadata": {},
   "source": [
    "# Functional Method (coklu grafik cizimi)"
   ]
  },
  {
   "cell_type": "code",
   "execution_count": null,
   "id": "c747763a",
   "metadata": {},
   "outputs": [],
   "source": [
    "plt.subplot(2, 1, 1)  # iki satirlik 1 sütunluk figürun 1. grafigi\n",
    "plt.plot(age, salary_1, \"r\")\n",
    "\n",
    "plt.subplot(2, 1, 2)  # iki satirlik 1 sütunluk figürun 2. grafigi\n",
    "plt.plot(age, salary_2, \"k\");"
   ]
  },
  {
   "cell_type": "markdown",
   "id": "b974c8a0",
   "metadata": {},
   "source": [
    "# Object Oriented Method (coklu grafik cizme)"
   ]
  },
  {
   "cell_type": "code",
   "execution_count": null,
   "id": "f5d48a52",
   "metadata": {},
   "outputs": [],
   "source": [
    "fig, ax = plt.subplots(2, 1)\n",
    "\n",
    "ax[0].plot(age, salary_1, \"r\")\n",
    "ax[1].plot(age, salary_2, \"b\")"
   ]
  },
  {
   "cell_type": "code",
   "execution_count": null,
   "id": "a0d7cc4f",
   "metadata": {},
   "outputs": [],
   "source": [
    "fig, ax = plt.subplots(2, 1)\n",
    "\n",
    "ax[0].plot(age, salary_1, \"r\")\n",
    "ax[1].plot(age, salary_2, \"b\")\n",
    "\n",
    "plt.tight_layout();    # grafiklerin birbirine girmelerini engeller"
   ]
  },
  {
   "cell_type": "markdown",
   "id": "e269d670",
   "metadata": {},
   "source": [
    "# Functional Method (coklu grafik cizimi)"
   ]
  },
  {
   "cell_type": "code",
   "execution_count": null,
   "id": "52039d0f",
   "metadata": {},
   "outputs": [],
   "source": [
    "plt.subplot(2,3,1)\n",
    "plt.plot(age, salary_1, \"r\")\n",
    "plt.subplot(2,3,2)\n",
    "plt.plot(age, salary_1, \"r\")\n",
    "plt.subplot(2,3,3)\n",
    "plt.plot(age, salary_1, \"r\")\n",
    "plt.subplot(2,3,4)\n",
    "plt.plot(age, salary_1, \"b\")\n",
    "plt.subplot(2,3,5)\n",
    "plt.plot(age, salary_1, \"b\")\n",
    "plt.subplot(2,3,6)\n",
    "plt.plot(age, salary_1, \"b\")\n",
    "\n",
    "plt.show()"
   ]
  },
  {
   "cell_type": "code",
   "execution_count": null,
   "id": "4f2926e7",
   "metadata": {},
   "outputs": [],
   "source": [
    "plt.subplot(2,3,1)\n",
    "plt.plot(age, salary_1, \"r\")\n",
    "plt.subplot(2,3,2)\n",
    "plt.plot(age, salary_1, \"r\")\n",
    "plt.subplot(2,3,3)\n",
    "plt.plot(age, salary_1, \"r\")\n",
    "plt.subplot(2,3,4)\n",
    "plt.plot(age, salary_1, \"b\")\n",
    "plt.subplot(2,3,5)\n",
    "plt.plot(age, salary_1, \"b\")\n",
    "plt.subplot(2,3,6)\n",
    "plt.plot(age, salary_1, \"b\")\n",
    "plt.tight_layout();       # grafiklerin birbirinin icine girmesini engeller\n",
    "plt.show()"
   ]
  },
  {
   "cell_type": "markdown",
   "id": "b6dc605c",
   "metadata": {},
   "source": [
    "# Object Oriented Method (coklu grafik cizme)"
   ]
  },
  {
   "cell_type": "code",
   "execution_count": null,
   "id": "c1c43a29",
   "metadata": {},
   "outputs": [],
   "source": [
    "fig, ax = plt.subplots(2, 3)\n",
    "ax[0][0].plot(age, salary_1, \"b\")\n",
    "ax[0][1].plot(age, salary_1, \"b\")\n",
    "ax[0][2].plot(age, salary_1, \"b\")\n",
    "\n",
    "ax[1][0].plot(age, salary_1)\n",
    "ax[1][1].plot(age, salary_1)\n",
    "ax[1][2].plot(age, salary_1)\n",
    "\n",
    "plt.tight_layout()\n",
    "plt.show()"
   ]
  }
 ],
 "metadata": {
  "kernelspec": {
   "display_name": "Python 3 (ipykernel)",
   "language": "python",
   "name": "python3"
  },
  "language_info": {
   "codemirror_mode": {
    "name": "ipython",
    "version": 3
   },
   "file_extension": ".py",
   "mimetype": "text/x-python",
   "name": "python",
   "nbconvert_exporter": "python",
   "pygments_lexer": "ipython3",
   "version": "3.11.4"
  }
 },
 "nbformat": 4,
 "nbformat_minor": 5
}
