{
 "cells": [
  {
   "cell_type": "code",
   "execution_count": 8,
   "id": "e9543c29",
   "metadata": {},
   "outputs": [
    {
     "name": "stderr",
     "output_type": "stream",
     "text": [
      "UsageError: unrecognized arguments: # grafik ciktisini kod satirinin altind göstermek icin\n"
     ]
    }
   ],
   "source": [
    "import  numpy as np\n",
    "import pandas as pd\n",
    "\n",
    "import matplotlib as mpl\n",
    "import matplotlib.pyplot as plt\n",
    "\n",
    "import seaborn as sns\n",
    "\n",
    "import plotly as pl\n",
    "\n",
    "%matplotlib inline        # grafik ciktisini kod satirinin altind göstermek icin \n",
    "# %matplotib notebook     #  bu kod grafik çıktısını interaktif bir şekilde almak için\n",
    "                          # not: tüm grafikleri bir satırda toplar\n",
    "\n",
    "import warnings;\n",
    "warnings.filterwarnings(\"ignore\")"
   ]
  },
  {
   "cell_type": "code",
   "execution_count": 10,
   "id": "bb93c49e",
   "metadata": {},
   "outputs": [
    {
     "name": "stdout",
     "output_type": "stream",
     "text": [
      "sns = 0.11.2\n",
      "pl = 5.10.0\n",
      "mpl = 3.5.2\n"
     ]
    }
   ],
   "source": [
    "print(\"sns =\",sns.__version__)\n",
    "print(\"pl =\",pl.__version__)\n",
    "print(\"mpl =\",mpl.__version__)"
   ]
  },
  {
   "cell_type": "code",
   "execution_count": null,
   "id": "628acb26",
   "metadata": {},
   "outputs": [],
   "source": []
  }
 ],
 "metadata": {
  "kernelspec": {
   "display_name": "Python 3 (ipykernel)",
   "language": "python",
   "name": "python3"
  },
  "language_info": {
   "codemirror_mode": {
    "name": "ipython",
    "version": 3
   },
   "file_extension": ".py",
   "mimetype": "text/x-python",
   "name": "python",
   "nbconvert_exporter": "python",
   "pygments_lexer": "ipython3",
   "version": "3.11.4"
  }
 },
 "nbformat": 4,
 "nbformat_minor": 5
}
