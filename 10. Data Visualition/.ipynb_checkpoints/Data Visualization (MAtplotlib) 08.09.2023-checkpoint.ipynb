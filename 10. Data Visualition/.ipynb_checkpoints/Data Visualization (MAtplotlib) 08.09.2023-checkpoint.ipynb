{
 "cells": [
  {
   "cell_type": "code",
   "execution_count": 1,
   "id": "e9543c29",
   "metadata": {},
   "outputs": [],
   "source": [
    "import  numpy as np\n",
    "import pandas as pd\n",
    "\n",
    "import matplotlib as mpl\n",
    "import matplotlib.pyplot as plt\n",
    "\n",
    "import seaborn as sns\n",
    "\n",
    "%matplotlib inline        # grafik ciktisini kod satirinin altind göstermek icin \n",
    "# %matplotib notebook     #  bu kod grafik çıktısını interaktif bir şekilde almak için\n",
    "                          # not: tüm grafikleri bir satırda toplar\n",
    "\n",
    "import warnings;\n",
    "warnings.filterwarnings(\"ignore\")"
   ]
  },
  {
   "cell_type": "code",
   "execution_count": 22,
   "id": "c45c4971",
   "metadata": {},
   "outputs": [
    {
     "name": "stdout",
     "output_type": "stream",
     "text": [
      "3.7.1\n"
     ]
    }
   ],
   "source": [
    "print(mpl.__version__)"
   ]
  },
  {
   "cell_type": "code",
   "execution_count": 21,
   "id": "6f25d024",
   "metadata": {},
   "outputs": [
    {
     "name": "stdout",
     "output_type": "stream",
     "text": [
      "Collecting plotly==5.10.0\n",
      "  Downloading plotly-5.10.0-py2.py3-none-any.whl (15.2 MB)\n",
      "     ---------------------------------------- 0.0/15.2 MB ? eta -:--:--\n",
      "     ---------------------------------------- 0.1/15.2 MB 2.4 MB/s eta 0:00:07\n",
      "      --------------------------------------- 0.3/15.2 MB 2.9 MB/s eta 0:00:06\n",
      "     - -------------------------------------- 0.5/15.2 MB 3.4 MB/s eta 0:00:05\n",
      "     - -------------------------------------- 0.7/15.2 MB 3.7 MB/s eta 0:00:04\n",
      "     -- ------------------------------------- 0.9/15.2 MB 3.9 MB/s eta 0:00:04\n",
      "     --- ------------------------------------ 1.2/15.2 MB 4.1 MB/s eta 0:00:04\n",
      "     --- ------------------------------------ 1.4/15.2 MB 4.3 MB/s eta 0:00:04\n",
      "     ---- ----------------------------------- 1.7/15.2 MB 4.5 MB/s eta 0:00:04\n",
      "     ----- ---------------------------------- 2.1/15.2 MB 4.9 MB/s eta 0:00:03\n",
      "     ------ --------------------------------- 2.4/15.2 MB 5.2 MB/s eta 0:00:03\n",
      "     ------- -------------------------------- 2.8/15.2 MB 5.4 MB/s eta 0:00:03\n",
      "     -------- ------------------------------- 3.1/15.2 MB 5.6 MB/s eta 0:00:03\n",
      "     -------- ------------------------------- 3.1/15.2 MB 5.6 MB/s eta 0:00:03\n",
      "     -------- ------------------------------- 3.1/15.2 MB 5.6 MB/s eta 0:00:03\n",
      "     --------- ------------------------------ 3.5/15.2 MB 5.0 MB/s eta 0:00:03\n",
      "     ---------- ----------------------------- 3.9/15.2 MB 5.2 MB/s eta 0:00:03\n",
      "     ----------- ---------------------------- 4.4/15.2 MB 5.5 MB/s eta 0:00:02\n",
      "     ------------ --------------------------- 4.9/15.2 MB 5.8 MB/s eta 0:00:02\n",
      "     -------------- ------------------------- 5.6/15.2 MB 6.2 MB/s eta 0:00:02\n",
      "     ---------------- ----------------------- 6.2/15.2 MB 6.6 MB/s eta 0:00:02\n",
      "     ----------------- ---------------------- 6.8/15.2 MB 6.9 MB/s eta 0:00:02\n",
      "     ------------------- -------------------- 7.3/15.2 MB 7.1 MB/s eta 0:00:02\n",
      "     -------------------- ------------------- 7.9/15.2 MB 7.3 MB/s eta 0:00:02\n",
      "     ---------------------- ----------------- 8.5/15.2 MB 7.6 MB/s eta 0:00:01\n",
      "     ------------------------ --------------- 9.1/15.2 MB 7.8 MB/s eta 0:00:01\n",
      "     ------------------------- -------------- 9.7/15.2 MB 8.0 MB/s eta 0:00:01\n",
      "     --------------------------- ------------ 10.4/15.2 MB 8.4 MB/s eta 0:00:01\n",
      "     ---------------------------- ----------- 10.9/15.2 MB 9.2 MB/s eta 0:00:01\n",
      "     ------------------------------ --------- 11.6/15.2 MB 9.8 MB/s eta 0:00:01\n",
      "     ------------------------------- ------- 12.2/15.2 MB 10.2 MB/s eta 0:00:01\n",
      "     -------------------------------- ------ 12.8/15.2 MB 10.6 MB/s eta 0:00:01\n",
      "     ---------------------------------- ---- 13.4/15.2 MB 10.9 MB/s eta 0:00:01\n",
      "     ----------------------------------- --- 13.9/15.2 MB 12.6 MB/s eta 0:00:01\n",
      "     ------------------------------------- - 14.5/15.2 MB 12.8 MB/s eta 0:00:01\n",
      "     --------------------------------------  15.1/15.2 MB 12.9 MB/s eta 0:00:01\n",
      "     --------------------------------------  15.2/15.2 MB 12.8 MB/s eta 0:00:01\n",
      "     --------------------------------------- 15.2/15.2 MB 12.1 MB/s eta 0:00:00\n",
      "Requirement already satisfied: tenacity>=6.2.0 in c:\\users\\nsgr6\\anaconda3\\lib\\site-packages (from plotly==5.10.0) (8.2.2)\n",
      "Installing collected packages: plotly\n",
      "  Attempting uninstall: plotly\n",
      "    Found existing installation: plotly 5.9.0\n",
      "    Uninstalling plotly-5.9.0:\n",
      "      Successfully uninstalled plotly-5.9.0\n",
      "Successfully installed plotly-5.10.0\n",
      "^C\n"
     ]
    }
   ],
   "source": [
    "!pip uninstall matplotlib"
   ]
  },
  {
   "cell_type": "code",
   "execution_count": null,
   "id": "40a2ca6f",
   "metadata": {},
   "outputs": [],
   "source": [
    "!pip install matplotlib==3.5.2 "
   ]
  },
  {
   "cell_type": "code",
   "execution_count": 12,
   "id": "eabb4842",
   "metadata": {},
   "outputs": [
    {
     "name": "stdout",
     "output_type": "stream",
     "text": [
      "0.12.2\n"
     ]
    }
   ],
   "source": [
    "print(sns.__version__)"
   ]
  },
  {
   "cell_type": "markdown",
   "id": "7c896cbb",
   "metadata": {},
   "source": [
    "Matplotlib versiyon = 3.5.2\n",
    "Seaborn versiyon = 0.11.2\n",
    "Plotly versiyon = 5.10.0"
   ]
  },
  {
   "cell_type": "code",
   "execution_count": 10,
   "id": "bf2a5284",
   "metadata": {},
   "outputs": [
    {
     "name": "stdout",
     "output_type": "stream",
     "text": [
      "Collecting seaborn==0.11.2\n",
      "  Downloading seaborn-0.11.2-py3-none-any.whl (292 kB)\n",
      "     ---------------------------------------- 0.0/292.8 kB ? eta -:--:--\n",
      "     -------------- ----------------------- 112.6/292.8 kB 6.8 MB/s eta 0:00:01\n",
      "     -------------------------------------- 292.8/292.8 kB 4.6 MB/s eta 0:00:00\n",
      "Requirement already satisfied: numpy>=1.15 in c:\\users\\nsgr6\\anaconda3\\lib\\site-packages (from seaborn==0.11.2) (1.24.3)\n",
      "Requirement already satisfied: scipy>=1.0 in c:\\users\\nsgr6\\anaconda3\\lib\\site-packages (from seaborn==0.11.2) (1.10.1)\n",
      "Requirement already satisfied: pandas>=0.23 in c:\\users\\nsgr6\\anaconda3\\lib\\site-packages (from seaborn==0.11.2) (1.5.3)\n",
      "Requirement already satisfied: matplotlib>=2.2 in c:\\users\\nsgr6\\anaconda3\\lib\\site-packages (from seaborn==0.11.2) (3.7.1)\n",
      "Requirement already satisfied: contourpy>=1.0.1 in c:\\users\\nsgr6\\anaconda3\\lib\\site-packages (from matplotlib>=2.2->seaborn==0.11.2) (1.0.5)\n",
      "Requirement already satisfied: cycler>=0.10 in c:\\users\\nsgr6\\anaconda3\\lib\\site-packages (from matplotlib>=2.2->seaborn==0.11.2) (0.11.0)\n",
      "Requirement already satisfied: fonttools>=4.22.0 in c:\\users\\nsgr6\\anaconda3\\lib\\site-packages (from matplotlib>=2.2->seaborn==0.11.2) (4.25.0)\n",
      "Requirement already satisfied: kiwisolver>=1.0.1 in c:\\users\\nsgr6\\anaconda3\\lib\\site-packages (from matplotlib>=2.2->seaborn==0.11.2) (1.4.4)\n",
      "Requirement already satisfied: packaging>=20.0 in c:\\users\\nsgr6\\anaconda3\\lib\\site-packages (from matplotlib>=2.2->seaborn==0.11.2) (23.0)\n",
      "Requirement already satisfied: pillow>=6.2.0 in c:\\users\\nsgr6\\anaconda3\\lib\\site-packages (from matplotlib>=2.2->seaborn==0.11.2) (9.4.0)\n",
      "Requirement already satisfied: pyparsing>=2.3.1 in c:\\users\\nsgr6\\anaconda3\\lib\\site-packages (from matplotlib>=2.2->seaborn==0.11.2) (3.0.9)\n",
      "Requirement already satisfied: python-dateutil>=2.7 in c:\\users\\nsgr6\\anaconda3\\lib\\site-packages (from matplotlib>=2.2->seaborn==0.11.2) (2.8.2)\n",
      "Requirement already satisfied: pytz>=2020.1 in c:\\users\\nsgr6\\anaconda3\\lib\\site-packages (from pandas>=0.23->seaborn==0.11.2) (2022.7)\n",
      "Requirement already satisfied: six>=1.5 in c:\\users\\nsgr6\\anaconda3\\lib\\site-packages (from python-dateutil>=2.7->matplotlib>=2.2->seaborn==0.11.2) (1.16.0)\n",
      "Installing collected packages: seaborn\n",
      "  Attempting uninstall: seaborn\n",
      "    Found existing installation: seaborn 0.12.2\n",
      "    Uninstalling seaborn-0.12.2:\n",
      "      Successfully uninstalled seaborn-0.12.2\n",
      "Successfully installed seaborn-0.11.2\n"
     ]
    }
   ],
   "source": [
    "!pip install seaborn==0.11.2"
   ]
  },
  {
   "cell_type": "code",
   "execution_count": 15,
   "id": "dadc537a",
   "metadata": {},
   "outputs": [
    {
     "ename": "NameError",
     "evalue": "name 'seaborn' is not defined",
     "output_type": "error",
     "traceback": [
      "\u001b[1;31m---------------------------------------------------------------------------\u001b[0m",
      "\u001b[1;31mNameError\u001b[0m                                 Traceback (most recent call last)",
      "Cell \u001b[1;32mIn[15], line 1\u001b[0m\n\u001b[1;32m----> 1\u001b[0m \u001b[38;5;28mprint\u001b[39m(seaborn\u001b[38;5;241m.\u001b[39m__version__)\n",
      "\u001b[1;31mNameError\u001b[0m: name 'seaborn' is not defined"
     ]
    }
   ],
   "source": [
    "print(seaborn.__version__)"
   ]
  },
  {
   "cell_type": "code",
   "execution_count": 14,
   "id": "be773d97",
   "metadata": {},
   "outputs": [],
   "source": [
    "import seaborn as sns"
   ]
  },
  {
   "cell_type": "code",
   "execution_count": 18,
   "id": "aaab8f2b",
   "metadata": {},
   "outputs": [
    {
     "name": "stdout",
     "output_type": "stream",
     "text": [
      "^C\n"
     ]
    }
   ],
   "source": [
    "!pip install plotly==5.10.0"
   ]
  },
  {
   "cell_type": "code",
   "execution_count": null,
   "id": "80075a52",
   "metadata": {},
   "outputs": [],
   "source": []
  },
  {
   "cell_type": "code",
   "execution_count": null,
   "id": "da031b22",
   "metadata": {},
   "outputs": [],
   "source": []
  },
  {
   "cell_type": "code",
   "execution_count": null,
   "id": "01669439",
   "metadata": {},
   "outputs": [],
   "source": []
  },
  {
   "cell_type": "code",
   "execution_count": null,
   "id": "cdd67104",
   "metadata": {},
   "outputs": [],
   "source": []
  }
 ],
 "metadata": {
  "kernelspec": {
   "display_name": "Python 3 (ipykernel)",
   "language": "python",
   "name": "python3"
  },
  "language_info": {
   "codemirror_mode": {
    "name": "ipython",
    "version": 3
   },
   "file_extension": ".py",
   "mimetype": "text/x-python",
   "name": "python",
   "nbconvert_exporter": "python",
   "pygments_lexer": "ipython3",
   "version": "3.11.4"
  }
 },
 "nbformat": 4,
 "nbformat_minor": 5
}
