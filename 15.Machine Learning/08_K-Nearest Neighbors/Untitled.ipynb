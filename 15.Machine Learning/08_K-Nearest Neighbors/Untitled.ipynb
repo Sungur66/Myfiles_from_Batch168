{
 "cells": [
  {
   "cell_type": "code",
   "execution_count": 1,
   "id": "5812107c",
   "metadata": {
    "ExecuteTime": {
     "end_time": "2023-11-21T21:26:25.558447Z",
     "start_time": "2023-11-21T21:26:19.974312Z"
    },
    "scrolled": true
   },
   "outputs": [
    {
     "name": "stdout",
     "output_type": "stream",
     "text": [
      "Collecting jupyterthemes\n",
      "  Downloading jupyterthemes-0.20.0-py2.py3-none-any.whl (7.0 MB)\n",
      "     ---------------------------------------- 0.0/7.0 MB ? eta -:--:--\n",
      "      --------------------------------------- 0.2/7.0 MB 3.1 MB/s eta 0:00:03\n",
      "     --- ------------------------------------ 0.6/7.0 MB 7.4 MB/s eta 0:00:01\n",
      "     ----- ---------------------------------- 1.0/7.0 MB 8.2 MB/s eta 0:00:01\n",
      "     --------- ------------------------------ 1.6/7.0 MB 10.2 MB/s eta 0:00:01\n",
      "     ----------- ---------------------------- 2.1/7.0 MB 10.1 MB/s eta 0:00:01\n",
      "     -------------- ------------------------- 2.5/7.0 MB 10.8 MB/s eta 0:00:01\n",
      "     ----------------- ---------------------- 3.1/7.0 MB 11.4 MB/s eta 0:00:01\n",
      "     -------------------- ------------------- 3.5/7.0 MB 11.2 MB/s eta 0:00:01\n",
      "     ---------------------- ----------------- 4.0/7.0 MB 11.5 MB/s eta 0:00:01\n",
      "     ------------------------- -------------- 4.5/7.0 MB 11.9 MB/s eta 0:00:01\n",
      "     ---------------------------- ----------- 5.0/7.0 MB 11.8 MB/s eta 0:00:01\n",
      "     ------------------------------- -------- 5.5/7.0 MB 12.0 MB/s eta 0:00:01\n",
      "     ---------------------------------- ----- 6.0/7.0 MB 11.9 MB/s eta 0:00:01\n",
      "     ------------------------------------ --- 6.4/7.0 MB 12.1 MB/s eta 0:00:01\n",
      "     ---------------------------------------  7.0/7.0 MB 12.1 MB/s eta 0:00:01\n",
      "     ---------------------------------------- 7.0/7.0 MB 11.5 MB/s eta 0:00:00\n",
      "Requirement already satisfied: jupyter-core in c:\\users\\nsgr6\\appdata\\roaming\\python\\python310\\site-packages (from jupyterthemes) (5.3.1)\n",
      "Requirement already satisfied: notebook>=5.6.0 in c:\\users\\nsgr6\\appdata\\local\\programs\\python\\python310\\lib\\site-packages (from jupyterthemes) (7.0.6)\n",
      "Requirement already satisfied: ipython>=5.4.1 in c:\\users\\nsgr6\\appdata\\roaming\\python\\python310\\site-packages (from jupyterthemes) (8.15.0)\n",
      "Requirement already satisfied: matplotlib>=1.4.3 in c:\\users\\nsgr6\\appdata\\local\\programs\\python\\python310\\lib\\site-packages (from jupyterthemes) (3.5.2)\n",
      "Collecting lesscpy>=0.11.2 (from jupyterthemes)\n",
      "  Downloading lesscpy-0.15.1-py2.py3-none-any.whl (46 kB)\n",
      "     ---------------------------------------- 0.0/46.7 kB ? eta -:--:--\n",
      "     ---------------------------------------- 46.7/46.7 kB ? eta 0:00:00\n",
      "Requirement already satisfied: backcall in c:\\users\\nsgr6\\appdata\\roaming\\python\\python310\\site-packages (from ipython>=5.4.1->jupyterthemes) (0.2.0)\n",
      "Requirement already satisfied: decorator in c:\\users\\nsgr6\\appdata\\roaming\\python\\python310\\site-packages (from ipython>=5.4.1->jupyterthemes) (5.1.1)\n",
      "Requirement already satisfied: jedi>=0.16 in c:\\users\\nsgr6\\appdata\\roaming\\python\\python310\\site-packages (from ipython>=5.4.1->jupyterthemes) (0.19.0)\n",
      "Requirement already satisfied: matplotlib-inline in c:\\users\\nsgr6\\appdata\\roaming\\python\\python310\\site-packages (from ipython>=5.4.1->jupyterthemes) (0.1.6)\n",
      "Requirement already satisfied: pickleshare in c:\\users\\nsgr6\\appdata\\roaming\\python\\python310\\site-packages (from ipython>=5.4.1->jupyterthemes) (0.7.5)\n",
      "Requirement already satisfied: prompt-toolkit!=3.0.37,<3.1.0,>=3.0.30 in c:\\users\\nsgr6\\appdata\\roaming\\python\\python310\\site-packages (from ipython>=5.4.1->jupyterthemes) (3.0.39)\n",
      "Requirement already satisfied: pygments>=2.4.0 in c:\\users\\nsgr6\\appdata\\roaming\\python\\python310\\site-packages (from ipython>=5.4.1->jupyterthemes) (2.16.1)\n",
      "Requirement already satisfied: stack-data in c:\\users\\nsgr6\\appdata\\local\\programs\\python\\python310\\lib\\site-packages (from ipython>=5.4.1->jupyterthemes) (0.5.1)\n",
      "Requirement already satisfied: traitlets>=5 in c:\\users\\nsgr6\\appdata\\roaming\\python\\python310\\site-packages (from ipython>=5.4.1->jupyterthemes) (5.9.0)\n",
      "Requirement already satisfied: exceptiongroup in c:\\users\\nsgr6\\appdata\\roaming\\python\\python310\\site-packages (from ipython>=5.4.1->jupyterthemes) (1.1.3)\n",
      "Requirement already satisfied: colorama in c:\\users\\nsgr6\\appdata\\roaming\\python\\python310\\site-packages (from ipython>=5.4.1->jupyterthemes) (0.4.6)\n",
      "Requirement already satisfied: ply in c:\\users\\nsgr6\\appdata\\local\\programs\\python\\python310\\lib\\site-packages (from lesscpy>=0.11.2->jupyterthemes) (3.11)\n",
      "Requirement already satisfied: cycler>=0.10 in c:\\users\\nsgr6\\appdata\\local\\programs\\python\\python310\\lib\\site-packages (from matplotlib>=1.4.3->jupyterthemes) (0.11.0)\n",
      "Requirement already satisfied: fonttools>=4.22.0 in c:\\users\\nsgr6\\appdata\\local\\programs\\python\\python310\\lib\\site-packages (from matplotlib>=1.4.3->jupyterthemes) (4.42.1)\n",
      "Requirement already satisfied: kiwisolver>=1.0.1 in c:\\users\\nsgr6\\appdata\\local\\programs\\python\\python310\\lib\\site-packages (from matplotlib>=1.4.3->jupyterthemes) (1.4.5)\n",
      "Requirement already satisfied: numpy>=1.17 in c:\\users\\nsgr6\\appdata\\local\\programs\\python\\python310\\lib\\site-packages (from matplotlib>=1.4.3->jupyterthemes) (1.23.1)\n",
      "Requirement already satisfied: packaging>=20.0 in c:\\users\\nsgr6\\appdata\\roaming\\python\\python310\\site-packages (from matplotlib>=1.4.3->jupyterthemes) (23.1)\n",
      "Requirement already satisfied: pillow>=6.2.0 in c:\\users\\nsgr6\\appdata\\local\\programs\\python\\python310\\lib\\site-packages (from matplotlib>=1.4.3->jupyterthemes) (10.0.0)\n",
      "Requirement already satisfied: pyparsing>=2.2.1 in c:\\users\\nsgr6\\appdata\\local\\programs\\python\\python310\\lib\\site-packages (from matplotlib>=1.4.3->jupyterthemes) (3.1.1)\n",
      "Requirement already satisfied: python-dateutil>=2.7 in c:\\users\\nsgr6\\appdata\\roaming\\python\\python310\\site-packages (from matplotlib>=1.4.3->jupyterthemes) (2.8.2)\n",
      "Requirement already satisfied: jupyter-server<3,>=2.4.0 in c:\\users\\nsgr6\\appdata\\local\\programs\\python\\python310\\lib\\site-packages (from notebook>=5.6.0->jupyterthemes) (2.10.0)\n",
      "Requirement already satisfied: jupyterlab-server<3,>=2.22.1 in c:\\users\\nsgr6\\appdata\\local\\programs\\python\\python310\\lib\\site-packages (from notebook>=5.6.0->jupyterthemes) (2.25.1)\n",
      "Requirement already satisfied: jupyterlab<5,>=4.0.2 in c:\\users\\nsgr6\\appdata\\local\\programs\\python\\python310\\lib\\site-packages (from notebook>=5.6.0->jupyterthemes) (4.0.8)\n",
      "Requirement already satisfied: notebook-shim<0.3,>=0.2 in c:\\users\\nsgr6\\appdata\\local\\programs\\python\\python310\\lib\\site-packages (from notebook>=5.6.0->jupyterthemes) (0.2.3)\n",
      "Requirement already satisfied: tornado>=6.2.0 in c:\\users\\nsgr6\\appdata\\roaming\\python\\python310\\site-packages (from notebook>=5.6.0->jupyterthemes) (6.3.3)\n",
      "Requirement already satisfied: platformdirs>=2.5 in c:\\users\\nsgr6\\appdata\\roaming\\python\\python310\\site-packages (from jupyter-core->jupyterthemes) (3.10.0)\n",
      "Requirement already satisfied: pywin32>=300 in c:\\users\\nsgr6\\appdata\\roaming\\python\\python310\\site-packages (from jupyter-core->jupyterthemes) (306)\n",
      "Requirement already satisfied: parso<0.9.0,>=0.8.3 in c:\\users\\nsgr6\\appdata\\roaming\\python\\python310\\site-packages (from jedi>=0.16->ipython>=5.4.1->jupyterthemes) (0.8.3)\n",
      "Requirement already satisfied: anyio>=3.1.0 in c:\\users\\nsgr6\\appdata\\local\\programs\\python\\python310\\lib\\site-packages (from jupyter-server<3,>=2.4.0->notebook>=5.6.0->jupyterthemes) (4.0.0)\n",
      "Requirement already satisfied: argon2-cffi in c:\\users\\nsgr6\\appdata\\local\\programs\\python\\python310\\lib\\site-packages (from jupyter-server<3,>=2.4.0->notebook>=5.6.0->jupyterthemes) (23.1.0)\n",
      "Requirement already satisfied: jinja2 in c:\\users\\nsgr6\\appdata\\local\\programs\\python\\python310\\lib\\site-packages (from jupyter-server<3,>=2.4.0->notebook>=5.6.0->jupyterthemes) (3.0.3)\n",
      "Requirement already satisfied: jupyter-client>=7.4.4 in c:\\users\\nsgr6\\appdata\\roaming\\python\\python310\\site-packages (from jupyter-server<3,>=2.4.0->notebook>=5.6.0->jupyterthemes) (8.3.1)\n",
      "Requirement already satisfied: jupyter-events>=0.6.0 in c:\\users\\nsgr6\\appdata\\local\\programs\\python\\python310\\lib\\site-packages (from jupyter-server<3,>=2.4.0->notebook>=5.6.0->jupyterthemes) (0.9.0)\n",
      "Requirement already satisfied: jupyter-server-terminals in c:\\users\\nsgr6\\appdata\\local\\programs\\python\\python310\\lib\\site-packages (from jupyter-server<3,>=2.4.0->notebook>=5.6.0->jupyterthemes) (0.4.4)\n",
      "Requirement already satisfied: nbconvert>=6.4.4 in c:\\users\\nsgr6\\appdata\\local\\programs\\python\\python310\\lib\\site-packages (from jupyter-server<3,>=2.4.0->notebook>=5.6.0->jupyterthemes) (7.11.0)\n",
      "Requirement already satisfied: nbformat>=5.3.0 in c:\\users\\nsgr6\\appdata\\local\\programs\\python\\python310\\lib\\site-packages (from jupyter-server<3,>=2.4.0->notebook>=5.6.0->jupyterthemes) (5.9.2)\n",
      "Requirement already satisfied: overrides in c:\\users\\nsgr6\\appdata\\local\\programs\\python\\python310\\lib\\site-packages (from jupyter-server<3,>=2.4.0->notebook>=5.6.0->jupyterthemes) (7.4.0)\n",
      "Requirement already satisfied: prometheus-client in c:\\users\\nsgr6\\appdata\\local\\programs\\python\\python310\\lib\\site-packages (from jupyter-server<3,>=2.4.0->notebook>=5.6.0->jupyterthemes) (0.18.0)\n",
      "Requirement already satisfied: pywinpty in c:\\users\\nsgr6\\appdata\\local\\programs\\python\\python310\\lib\\site-packages (from jupyter-server<3,>=2.4.0->notebook>=5.6.0->jupyterthemes) (2.0.12)\n",
      "Requirement already satisfied: pyzmq>=24 in c:\\users\\nsgr6\\appdata\\roaming\\python\\python310\\site-packages (from jupyter-server<3,>=2.4.0->notebook>=5.6.0->jupyterthemes) (25.1.1)\n",
      "Requirement already satisfied: send2trash>=1.8.2 in c:\\users\\nsgr6\\appdata\\local\\programs\\python\\python310\\lib\\site-packages (from jupyter-server<3,>=2.4.0->notebook>=5.6.0->jupyterthemes) (1.8.2)\n",
      "Requirement already satisfied: terminado>=0.8.3 in c:\\users\\nsgr6\\appdata\\local\\programs\\python\\python310\\lib\\site-packages (from jupyter-server<3,>=2.4.0->notebook>=5.6.0->jupyterthemes) (0.18.0)\n",
      "Requirement already satisfied: websocket-client in c:\\users\\nsgr6\\appdata\\local\\programs\\python\\python310\\lib\\site-packages (from jupyter-server<3,>=2.4.0->notebook>=5.6.0->jupyterthemes) (1.6.4)\n",
      "Requirement already satisfied: async-lru>=1.0.0 in c:\\users\\nsgr6\\appdata\\local\\programs\\python\\python310\\lib\\site-packages (from jupyterlab<5,>=4.0.2->notebook>=5.6.0->jupyterthemes) (2.0.4)\n",
      "Requirement already satisfied: ipykernel in c:\\users\\nsgr6\\appdata\\roaming\\python\\python310\\site-packages (from jupyterlab<5,>=4.0.2->notebook>=5.6.0->jupyterthemes) (6.25.2)\n",
      "Requirement already satisfied: jupyter-lsp>=2.0.0 in c:\\users\\nsgr6\\appdata\\local\\programs\\python\\python310\\lib\\site-packages (from jupyterlab<5,>=4.0.2->notebook>=5.6.0->jupyterthemes) (2.2.0)\n",
      "Requirement already satisfied: tomli in c:\\users\\nsgr6\\appdata\\local\\programs\\python\\python310\\lib\\site-packages (from jupyterlab<5,>=4.0.2->notebook>=5.6.0->jupyterthemes) (2.0.1)\n",
      "Requirement already satisfied: babel>=2.10 in c:\\users\\nsgr6\\appdata\\local\\programs\\python\\python310\\lib\\site-packages (from jupyterlab-server<3,>=2.22.1->notebook>=5.6.0->jupyterthemes) (2.13.1)\n",
      "Requirement already satisfied: json5>=0.9.0 in c:\\users\\nsgr6\\appdata\\local\\programs\\python\\python310\\lib\\site-packages (from jupyterlab-server<3,>=2.22.1->notebook>=5.6.0->jupyterthemes) (0.9.14)\n",
      "Requirement already satisfied: jsonschema>=4.18.0 in c:\\users\\nsgr6\\appdata\\local\\programs\\python\\python310\\lib\\site-packages (from jupyterlab-server<3,>=2.22.1->notebook>=5.6.0->jupyterthemes) (4.19.0)\n",
      "Requirement already satisfied: requests>=2.31 in c:\\users\\nsgr6\\appdata\\local\\programs\\python\\python310\\lib\\site-packages (from jupyterlab-server<3,>=2.22.1->notebook>=5.6.0->jupyterthemes) (2.31.0)\n",
      "Requirement already satisfied: wcwidth in c:\\users\\nsgr6\\appdata\\roaming\\python\\python310\\site-packages (from prompt-toolkit!=3.0.37,<3.1.0,>=3.0.30->ipython>=5.4.1->jupyterthemes) (0.2.6)\n",
      "Requirement already satisfied: six>=1.5 in c:\\users\\nsgr6\\appdata\\roaming\\python\\python310\\site-packages (from python-dateutil>=2.7->matplotlib>=1.4.3->jupyterthemes) (1.16.0)\n",
      "Requirement already satisfied: executing in c:\\users\\nsgr6\\appdata\\local\\programs\\python\\python310\\lib\\site-packages (from stack-data->ipython>=5.4.1->jupyterthemes) (0.8.3)\n",
      "Requirement already satisfied: asttokens in c:\\users\\nsgr6\\appdata\\roaming\\python\\python310\\site-packages (from stack-data->ipython>=5.4.1->jupyterthemes) (2.4.0)\n",
      "Requirement already satisfied: pure-eval in c:\\users\\nsgr6\\appdata\\roaming\\python\\python310\\site-packages (from stack-data->ipython>=5.4.1->jupyterthemes) (0.2.2)\n",
      "Requirement already satisfied: idna>=2.8 in c:\\users\\nsgr6\\appdata\\local\\programs\\python\\python310\\lib\\site-packages (from anyio>=3.1.0->jupyter-server<3,>=2.4.0->notebook>=5.6.0->jupyterthemes) (3.4)\n",
      "Requirement already satisfied: sniffio>=1.1 in c:\\users\\nsgr6\\appdata\\local\\programs\\python\\python310\\lib\\site-packages (from anyio>=3.1.0->jupyter-server<3,>=2.4.0->notebook>=5.6.0->jupyterthemes) (1.3.0)\n",
      "Requirement already satisfied: typing-extensions>=4.0.0 in c:\\users\\nsgr6\\appdata\\local\\programs\\python\\python310\\lib\\site-packages (from async-lru>=1.0.0->jupyterlab<5,>=4.0.2->notebook>=5.6.0->jupyterthemes) (4.8.0)\n",
      "Requirement already satisfied: MarkupSafe>=2.0 in c:\\users\\nsgr6\\appdata\\local\\programs\\python\\python310\\lib\\site-packages (from jinja2->jupyter-server<3,>=2.4.0->notebook>=5.6.0->jupyterthemes) (2.1.3)\n",
      "Requirement already satisfied: attrs>=22.2.0 in c:\\users\\nsgr6\\appdata\\local\\programs\\python\\python310\\lib\\site-packages (from jsonschema>=4.18.0->jupyterlab-server<3,>=2.22.1->notebook>=5.6.0->jupyterthemes) (23.1.0)\n",
      "Requirement already satisfied: jsonschema-specifications>=2023.03.6 in c:\\users\\nsgr6\\appdata\\local\\programs\\python\\python310\\lib\\site-packages (from jsonschema>=4.18.0->jupyterlab-server<3,>=2.22.1->notebook>=5.6.0->jupyterthemes) (2023.7.1)\n",
      "Requirement already satisfied: referencing>=0.28.4 in c:\\users\\nsgr6\\appdata\\local\\programs\\python\\python310\\lib\\site-packages (from jsonschema>=4.18.0->jupyterlab-server<3,>=2.22.1->notebook>=5.6.0->jupyterthemes) (0.30.2)\n",
      "Requirement already satisfied: rpds-py>=0.7.1 in c:\\users\\nsgr6\\appdata\\local\\programs\\python\\python310\\lib\\site-packages (from jsonschema>=4.18.0->jupyterlab-server<3,>=2.22.1->notebook>=5.6.0->jupyterthemes) (0.10.3)\n",
      "Requirement already satisfied: python-json-logger>=2.0.4 in c:\\users\\nsgr6\\appdata\\local\\programs\\python\\python310\\lib\\site-packages (from jupyter-events>=0.6.0->jupyter-server<3,>=2.4.0->notebook>=5.6.0->jupyterthemes) (2.0.7)\n",
      "Requirement already satisfied: pyyaml>=5.3 in c:\\users\\nsgr6\\appdata\\local\\programs\\python\\python310\\lib\\site-packages (from jupyter-events>=0.6.0->jupyter-server<3,>=2.4.0->notebook>=5.6.0->jupyterthemes) (6.0.1)\n",
      "Requirement already satisfied: rfc3339-validator in c:\\users\\nsgr6\\appdata\\local\\programs\\python\\python310\\lib\\site-packages (from jupyter-events>=0.6.0->jupyter-server<3,>=2.4.0->notebook>=5.6.0->jupyterthemes) (0.1.4)\n",
      "Requirement already satisfied: rfc3986-validator>=0.1.1 in c:\\users\\nsgr6\\appdata\\local\\programs\\python\\python310\\lib\\site-packages (from jupyter-events>=0.6.0->jupyter-server<3,>=2.4.0->notebook>=5.6.0->jupyterthemes) (0.1.1)\n",
      "Requirement already satisfied: beautifulsoup4 in c:\\users\\nsgr6\\appdata\\local\\programs\\python\\python310\\lib\\site-packages (from nbconvert>=6.4.4->jupyter-server<3,>=2.4.0->notebook>=5.6.0->jupyterthemes) (4.12.2)\n",
      "Requirement already satisfied: bleach!=5.0.0 in c:\\users\\nsgr6\\appdata\\local\\programs\\python\\python310\\lib\\site-packages (from nbconvert>=6.4.4->jupyter-server<3,>=2.4.0->notebook>=5.6.0->jupyterthemes) (6.1.0)\n",
      "Requirement already satisfied: defusedxml in c:\\users\\nsgr6\\appdata\\local\\programs\\python\\python310\\lib\\site-packages (from nbconvert>=6.4.4->jupyter-server<3,>=2.4.0->notebook>=5.6.0->jupyterthemes) (0.7.1)\n",
      "Requirement already satisfied: jupyterlab-pygments in c:\\users\\nsgr6\\appdata\\local\\programs\\python\\python310\\lib\\site-packages (from nbconvert>=6.4.4->jupyter-server<3,>=2.4.0->notebook>=5.6.0->jupyterthemes) (0.2.2)\n",
      "Requirement already satisfied: mistune<4,>=2.0.3 in c:\\users\\nsgr6\\appdata\\local\\programs\\python\\python310\\lib\\site-packages (from nbconvert>=6.4.4->jupyter-server<3,>=2.4.0->notebook>=5.6.0->jupyterthemes) (3.0.2)\n",
      "Requirement already satisfied: nbclient>=0.5.0 in c:\\users\\nsgr6\\appdata\\local\\programs\\python\\python310\\lib\\site-packages (from nbconvert>=6.4.4->jupyter-server<3,>=2.4.0->notebook>=5.6.0->jupyterthemes) (0.9.0)\n",
      "Requirement already satisfied: pandocfilters>=1.4.1 in c:\\users\\nsgr6\\appdata\\local\\programs\\python\\python310\\lib\\site-packages (from nbconvert>=6.4.4->jupyter-server<3,>=2.4.0->notebook>=5.6.0->jupyterthemes) (1.5.0)\n",
      "Requirement already satisfied: tinycss2 in c:\\users\\nsgr6\\appdata\\local\\programs\\python\\python310\\lib\\site-packages (from nbconvert>=6.4.4->jupyter-server<3,>=2.4.0->notebook>=5.6.0->jupyterthemes) (1.2.1)\n",
      "Requirement already satisfied: fastjsonschema in c:\\users\\nsgr6\\appdata\\local\\programs\\python\\python310\\lib\\site-packages (from nbformat>=5.3.0->jupyter-server<3,>=2.4.0->notebook>=5.6.0->jupyterthemes) (2.18.0)\n",
      "Requirement already satisfied: charset-normalizer<4,>=2 in c:\\users\\nsgr6\\appdata\\local\\programs\\python\\python310\\lib\\site-packages (from requests>=2.31->jupyterlab-server<3,>=2.22.1->notebook>=5.6.0->jupyterthemes) (3.2.0)\n",
      "Requirement already satisfied: urllib3<3,>=1.21.1 in c:\\users\\nsgr6\\appdata\\local\\programs\\python\\python310\\lib\\site-packages (from requests>=2.31->jupyterlab-server<3,>=2.22.1->notebook>=5.6.0->jupyterthemes) (2.0.4)\n",
      "Requirement already satisfied: certifi>=2017.4.17 in c:\\users\\nsgr6\\appdata\\local\\programs\\python\\python310\\lib\\site-packages (from requests>=2.31->jupyterlab-server<3,>=2.22.1->notebook>=5.6.0->jupyterthemes) (2023.7.22)\n",
      "Requirement already satisfied: argon2-cffi-bindings in c:\\users\\nsgr6\\appdata\\local\\programs\\python\\python310\\lib\\site-packages (from argon2-cffi->jupyter-server<3,>=2.4.0->notebook>=5.6.0->jupyterthemes) (21.2.0)\n",
      "Requirement already satisfied: comm>=0.1.1 in c:\\users\\nsgr6\\appdata\\roaming\\python\\python310\\site-packages (from ipykernel->jupyterlab<5,>=4.0.2->notebook>=5.6.0->jupyterthemes) (0.1.4)\n",
      "Requirement already satisfied: debugpy>=1.6.5 in c:\\users\\nsgr6\\appdata\\roaming\\python\\python310\\site-packages (from ipykernel->jupyterlab<5,>=4.0.2->notebook>=5.6.0->jupyterthemes) (1.7.0)\n",
      "Requirement already satisfied: nest-asyncio in c:\\users\\nsgr6\\appdata\\roaming\\python\\python310\\site-packages (from ipykernel->jupyterlab<5,>=4.0.2->notebook>=5.6.0->jupyterthemes) (1.5.7)\n",
      "Requirement already satisfied: psutil in c:\\users\\nsgr6\\appdata\\roaming\\python\\python310\\site-packages (from ipykernel->jupyterlab<5,>=4.0.2->notebook>=5.6.0->jupyterthemes) (5.9.5)\n",
      "Requirement already satisfied: webencodings in c:\\users\\nsgr6\\appdata\\local\\programs\\python\\python310\\lib\\site-packages (from bleach!=5.0.0->nbconvert>=6.4.4->jupyter-server<3,>=2.4.0->notebook>=5.6.0->jupyterthemes) (0.5.1)\n",
      "Requirement already satisfied: fqdn in c:\\users\\nsgr6\\appdata\\local\\programs\\python\\python310\\lib\\site-packages (from jsonschema[format-nongpl]>=4.18.0->jupyter-events>=0.6.0->jupyter-server<3,>=2.4.0->notebook>=5.6.0->jupyterthemes) (1.5.1)\n",
      "Requirement already satisfied: isoduration in c:\\users\\nsgr6\\appdata\\local\\programs\\python\\python310\\lib\\site-packages (from jsonschema[format-nongpl]>=4.18.0->jupyter-events>=0.6.0->jupyter-server<3,>=2.4.0->notebook>=5.6.0->jupyterthemes) (20.11.0)\n",
      "Requirement already satisfied: jsonpointer>1.13 in c:\\users\\nsgr6\\appdata\\local\\programs\\python\\python310\\lib\\site-packages (from jsonschema[format-nongpl]>=4.18.0->jupyter-events>=0.6.0->jupyter-server<3,>=2.4.0->notebook>=5.6.0->jupyterthemes) (2.4)\n",
      "Requirement already satisfied: uri-template in c:\\users\\nsgr6\\appdata\\local\\programs\\python\\python310\\lib\\site-packages (from jsonschema[format-nongpl]>=4.18.0->jupyter-events>=0.6.0->jupyter-server<3,>=2.4.0->notebook>=5.6.0->jupyterthemes) (1.3.0)\n",
      "Requirement already satisfied: webcolors>=1.11 in c:\\users\\nsgr6\\appdata\\local\\programs\\python\\python310\\lib\\site-packages (from jsonschema[format-nongpl]>=4.18.0->jupyter-events>=0.6.0->jupyter-server<3,>=2.4.0->notebook>=5.6.0->jupyterthemes) (1.13)\n",
      "Requirement already satisfied: cffi>=1.0.1 in c:\\users\\nsgr6\\appdata\\local\\programs\\python\\python310\\lib\\site-packages (from argon2-cffi-bindings->argon2-cffi->jupyter-server<3,>=2.4.0->notebook>=5.6.0->jupyterthemes) (1.16.0)\n",
      "Requirement already satisfied: soupsieve>1.2 in c:\\users\\nsgr6\\appdata\\local\\programs\\python\\python310\\lib\\site-packages (from beautifulsoup4->nbconvert>=6.4.4->jupyter-server<3,>=2.4.0->notebook>=5.6.0->jupyterthemes) (2.5)\n",
      "Requirement already satisfied: pycparser in c:\\users\\nsgr6\\appdata\\local\\programs\\python\\python310\\lib\\site-packages (from cffi>=1.0.1->argon2-cffi-bindings->argon2-cffi->jupyter-server<3,>=2.4.0->notebook>=5.6.0->jupyterthemes) (2.21)\n",
      "Requirement already satisfied: arrow>=0.15.0 in c:\\users\\nsgr6\\appdata\\local\\programs\\python\\python310\\lib\\site-packages (from isoduration->jsonschema[format-nongpl]>=4.18.0->jupyter-events>=0.6.0->jupyter-server<3,>=2.4.0->notebook>=5.6.0->jupyterthemes) (1.3.0)\n",
      "Requirement already satisfied: types-python-dateutil>=2.8.10 in c:\\users\\nsgr6\\appdata\\local\\programs\\python\\python310\\lib\\site-packages (from arrow>=0.15.0->isoduration->jsonschema[format-nongpl]>=4.18.0->jupyter-events>=0.6.0->jupyter-server<3,>=2.4.0->notebook>=5.6.0->jupyterthemes) (2.8.19.14)\n",
      "Installing collected packages: lesscpy, jupyterthemes\n",
      "Successfully installed jupyterthemes-0.20.0 lesscpy-0.15.1\n",
      "Note: you may need to restart the kernel to use updated packages.\n"
     ]
    },
    {
     "name": "stderr",
     "output_type": "stream",
     "text": [
      "WARNING: Ignoring invalid distribution -lotly (c:\\users\\nsgr6\\appdata\\local\\programs\\python\\python310\\lib\\site-packages)\n",
      "WARNING: Ignoring invalid distribution -lotly (c:\\users\\nsgr6\\appdata\\local\\programs\\python\\python310\\lib\\site-packages)\n"
     ]
    }
   ],
   "source": [
    "pip install jupyterthemes"
   ]
  },
  {
   "cell_type": "code",
   "execution_count": 1,
   "id": "eba62207",
   "metadata": {
    "ExecuteTime": {
     "end_time": "2023-11-22T18:12:40.318916Z",
     "start_time": "2023-11-22T18:12:40.110463Z"
    }
   },
   "outputs": [],
   "source": [
    "import jupyterthemes as jt"
   ]
  },
  {
   "cell_type": "code",
   "execution_count": 3,
   "id": "000e406c",
   "metadata": {
    "ExecuteTime": {
     "end_time": "2023-11-22T18:13:04.016269Z",
     "start_time": "2023-11-22T18:13:03.998046Z"
    }
   },
   "outputs": [
    {
     "data": {
      "text/plain": [
       "['chesterish',\n",
       " 'grade3',\n",
       " 'gruvboxd',\n",
       " 'gruvboxl',\n",
       " 'monokai',\n",
       " 'oceans16',\n",
       " 'onedork',\n",
       " 'solarizedd',\n",
       " 'solarizedl']"
      ]
     },
     "execution_count": 3,
     "metadata": {},
     "output_type": "execute_result"
    }
   ],
   "source": [
    "jt.get_themes()"
   ]
  },
  {
   "cell_type": "code",
   "execution_count": null,
   "id": "3cf0dc33",
   "metadata": {},
   "outputs": [],
   "source": [
    "jt.install_theme(theme='solarizedl')"
   ]
  }
 ],
 "metadata": {
  "hide_input": false,
  "kernelspec": {
   "display_name": "Python (3.10.8)",
   "language": "python",
   "name": "3.10.8"
  },
  "language_info": {
   "codemirror_mode": {
    "name": "ipython",
    "version": 3
   },
   "file_extension": ".py",
   "mimetype": "text/x-python",
   "name": "python",
   "nbconvert_exporter": "python",
   "pygments_lexer": "ipython3",
   "version": "3.10.8"
  },
  "nbTranslate": {
   "displayLangs": [
    "*"
   ],
   "hotkey": "alt-t",
   "langInMainMenu": true,
   "sourceLang": "en",
   "targetLang": "fr",
   "useGoogleTranslate": true
  },
  "toc": {
   "base_numbering": 1,
   "nav_menu": {},
   "number_sections": true,
   "sideBar": true,
   "skip_h1_title": false,
   "title_cell": "Table of Contents",
   "title_sidebar": "Contents",
   "toc_cell": false,
   "toc_position": {},
   "toc_section_display": true,
   "toc_window_display": false
  },
  "varInspector": {
   "cols": {
    "lenName": 16,
    "lenType": 16,
    "lenVar": 40
   },
   "kernels_config": {
    "python": {
     "delete_cmd_postfix": "",
     "delete_cmd_prefix": "del ",
     "library": "var_list.py",
     "varRefreshCmd": "print(var_dic_list())"
    },
    "r": {
     "delete_cmd_postfix": ") ",
     "delete_cmd_prefix": "rm(",
     "library": "var_list.r",
     "varRefreshCmd": "cat(var_dic_list()) "
    }
   },
   "types_to_exclude": [
    "module",
    "function",
    "builtin_function_or_method",
    "instance",
    "_Feature"
   ],
   "window_display": false
  }
 },
 "nbformat": 4,
 "nbformat_minor": 5
}
