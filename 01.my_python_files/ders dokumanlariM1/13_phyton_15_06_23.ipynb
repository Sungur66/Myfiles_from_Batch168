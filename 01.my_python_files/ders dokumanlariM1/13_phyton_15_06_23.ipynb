{
 "cells": [
  {
   "cell_type": "code",
   "execution_count": 1,
   "metadata": {},
   "outputs": [
    {
     "name": "stdout",
     "output_type": "stream",
     "text": [
      "5 x 1  = 5\n",
      "5 x 2  = 10\n",
      "5 x 3  = 15\n",
      "5 x 4  = 20\n",
      "5 x 5  = 25\n",
      "5 x 6  = 30\n",
      "5 x 7  = 35\n",
      "5 x 8  = 40\n",
      "5 x 9  = 45\n",
      "5 x 10 = 50\n"
     ]
    }
   ],
   "source": [
    "number = int(input(\" 1 ile 9 arasi sayi giriniz\"))\n",
    "\n",
    "if 1 <= number <= 9:\n",
    "    for i in range (1, 11):\n",
    "        print(f\"{number} x {i:<2} = {number * i}\")\n",
    "else:\n",
    "    print(\"1 il e9 arasinda bir sayi girmenizi istemistim\")"
   ]
  },
  {
   "cell_type": "code",
   "execution_count": 3,
   "metadata": {},
   "outputs": [
    {
     "name": "stdout",
     "output_type": "stream",
     "text": [
      "1 ile 9 arasında bir sayı girmenizi istemiştim. Lütfen bu aralıkta bir sayı giriniz. \n",
      "1 ile 9 arasında bir sayı girmenizi istemiştim. Lütfen bu aralıkta bir sayı giriniz. \n",
      "4 x 1  = 4\n",
      "4 x 2  = 8\n",
      "4 x 3  = 12\n",
      "4 x 4  = 16\n",
      "4 x 5  = 20\n",
      "4 x 6  = 24\n",
      "4 x 7  = 28\n",
      "4 x 8  = 32\n",
      "4 x 9  = 36\n",
      "4 x 10 = 40\n"
     ]
    }
   ],
   "source": [
    "while True:\n",
    "\n",
    "    number = int(input(\"1 ile 9 arasında bir sayı girin\"))\n",
    "\n",
    "    if number in [1,2,3,4,5,6,7,8,9]:\n",
    "        for i in range(1,11):\n",
    "            print(f\"{number} x {i:<2} = {number * i}\")\n",
    "        break\n",
    "    else:\n",
    "        print(\"1 ile 9 arasında bir sayı girmenizi istemiştim. Lütfen bu aralıkta bir sayı giriniz. \")"
   ]
  },
  {
   "cell_type": "code",
   "execution_count": 2,
   "metadata": {},
   "outputs": [
    {
     "name": "stdout",
     "output_type": "stream",
     "text": [
      "1 il e9 arasinda bir sayi girmenizi istemistim. \n",
      "Lütfen bu aralikta bir sayi girin.\n",
      "3 x 1  = 3\n",
      "3 x 2  = 6\n",
      "3 x 3  = 9\n",
      "3 x 4  = 12\n",
      "3 x 5  = 15\n",
      "3 x 6  = 18\n",
      "3 x 7  = 21\n",
      "3 x 8  = 24\n",
      "3 x 9  = 27\n",
      "3 x 10 = 30\n"
     ]
    }
   ],
   "source": [
    "y = True\n",
    "while y:\n",
    "    number = int(input(\" 1 ile 9 arasi sayi giriniz\"))\n",
    "    if 1 <= number <= 9:\n",
    "        for i in range (1, 11):\n",
    "            print(f\"{number} x {i:<2} = {number * i}\")\n",
    "        y= False\n",
    "    else:\n",
    "        print(\"1 il e9 arasinda bir sayi girmenizi istemistim. \\nLütfen bu aralikta bir sayi girin.\")"
   ]
  },
  {
   "cell_type": "code",
   "execution_count": 1,
   "metadata": {},
   "outputs": [
    {
     "name": "stdout",
     "output_type": "stream",
     "text": [
      "1 ile 9 arasında bir sayı girmenizi istemiştim. Lütfen bu aralıkta bir sayı giriniz. \n",
      "1 ile 9 arasında bir sayı girmenizi istemiştim. Lütfen bu aralıkta bir sayı giriniz. \n",
      "1 ile 9 arasında bir sayı girmenizi istemiştim. Lütfen bu aralıkta bir sayı giriniz. \n",
      "1 x 1 = 1\n",
      "1 x 2 = 2\n",
      "1 x 3 = 3\n",
      "1 x 4 = 4\n",
      "1 x 5 = 5\n",
      "1 x 6 = 6\n",
      "1 x 7 = 7\n",
      "1 x 8 = 8\n",
      "1 x 9 = 9\n",
      "1 x 10= 10\n"
     ]
    }
   ],
   "source": [
    "y = True\n",
    "while y:\n",
    "\n",
    "    number = int(input(\"1 ile 9 arasında bir sayı girin\"))\n",
    "\n",
    "    if 1 <= number <= 9:\n",
    "        for i in range(1,11):\n",
    "            print(f\"{number} x {i:<2}= {number * i}\")\n",
    "        y = False\n",
    "    else:\n",
    "        print(\"1 ile 9 arasında bir sayı girmenizi istemiştim. Lütfen bu aralıkta bir sayı giriniz. \")"
   ]
  },
  {
   "cell_type": "code",
   "execution_count": 18,
   "metadata": {},
   "outputs": [
    {
     "name": "stdout",
     "output_type": "stream",
     "text": [
      "Toplam : 1275\n"
     ]
    }
   ],
   "source": [
    "sayi = range(1, 51)\n",
    "\n",
    "toplam = 0\n",
    "\n",
    "for i in range(1, 51):\n",
    "    toplam += i\n",
    "print(f\"Toplam : {toplam}\")"
   ]
  },
  {
   "cell_type": "code",
   "execution_count": 8,
   "metadata": {},
   "outputs": [
    {
     "name": "stdout",
     "output_type": "stream",
     "text": [
      "1-50 sayilarin toplami: 1275\n"
     ]
    }
   ],
   "source": [
    "sum_ = 0\n",
    "\n",
    "for i in range(1, 51):\n",
    "    sum_ += i\n",
    "print(f\"1-50 sayilarin toplami: {sum_}\")"
   ]
  },
  {
   "cell_type": "code",
   "execution_count": 10,
   "metadata": {},
   "outputs": [
    {
     "name": "stdout",
     "output_type": "stream",
     "text": [
      "1275\n"
     ]
    }
   ],
   "source": [
    "x = 1\n",
    "sum_2 = 0\n",
    "\n",
    "while x<51:\n",
    "    sum_2 += x\n",
    "    x += 1\n",
    "print(sum_2)"
   ]
  },
  {
   "attachments": {},
   "cell_type": "markdown",
   "metadata": {},
   "source": [
    "### sum()"
   ]
  },
  {
   "cell_type": "code",
   "execution_count": 9,
   "metadata": {},
   "outputs": [
    {
     "data": {
      "text/plain": [
       "1275"
      ]
     },
     "execution_count": 9,
     "metadata": {},
     "output_type": "execute_result"
    }
   ],
   "source": [
    "sum(range(1,51))"
   ]
  },
  {
   "cell_type": "code",
   "execution_count": 11,
   "metadata": {},
   "outputs": [
    {
     "data": {
      "text/plain": [
       "15"
      ]
     },
     "execution_count": 11,
     "metadata": {},
     "output_type": "execute_result"
    }
   ],
   "source": [
    "sum([1,2,3,4,5])"
   ]
  },
  {
   "cell_type": "code",
   "execution_count": 12,
   "metadata": {},
   "outputs": [
    {
     "data": {
      "text/plain": [
       "15"
      ]
     },
     "execution_count": 12,
     "metadata": {},
     "output_type": "execute_result"
    }
   ],
   "source": [
    "sum((1,2,3,4,5))"
   ]
  },
  {
   "cell_type": "code",
   "execution_count": 20,
   "metadata": {},
   "outputs": [
    {
     "data": {
      "text/plain": [
       "650"
      ]
     },
     "execution_count": 20,
     "metadata": {},
     "output_type": "execute_result"
    }
   ],
   "source": [
    "sum(range(0,51,2))"
   ]
  },
  {
   "cell_type": "code",
   "execution_count": 21,
   "metadata": {},
   "outputs": [
    {
     "ename": "SyntaxError",
     "evalue": "invalid syntax (1968207744.py, line 1)",
     "output_type": "error",
     "traceback": [
      "\u001b[1;36m  Cell \u001b[1;32mIn[21], line 1\u001b[1;36m\u001b[0m\n\u001b[1;33m    sum(range(,51,2))\u001b[0m\n\u001b[1;37m              ^\u001b[0m\n\u001b[1;31mSyntaxError\u001b[0m\u001b[1;31m:\u001b[0m invalid syntax\n"
     ]
    }
   ],
   "source": [
    "sum(range(,51,2))"
   ]
  },
  {
   "cell_type": "code",
   "execution_count": 15,
   "metadata": {},
   "outputs": [
    {
     "name": "stdout",
     "output_type": "stream",
     "text": [
      "650\n"
     ]
    }
   ],
   "source": [
    "sum_3 = 0\n",
    "\n",
    "for i in range(1,51):\n",
    "\n",
    "    if i % 2 == 0:\n",
    "        sum_3 += i\n",
    "print(sum_3)"
   ]
  },
  {
   "cell_type": "code",
   "execution_count": 24,
   "metadata": {},
   "outputs": [
    {
     "name": "stdout",
     "output_type": "stream",
     "text": [
      "25\n"
     ]
    }
   ],
   "source": [
    "sum_odd = 0\n",
    "\n",
    "for i in range(1,51):\n",
    "\n",
    "    if i % 2 :        # ifade true verecegi icin if döngüsü calisir\n",
    "        sum_odd += i\n",
    "print(sum_odd)"
   ]
  },
  {
   "attachments": {},
   "cell_type": "markdown",
   "metadata": {},
   "source": [
    "## break, contuniue"
   ]
  },
  {
   "cell_type": "code",
   "execution_count": 25,
   "metadata": {},
   "outputs": [
    {
     "name": "stdout",
     "output_type": "stream",
     "text": [
      "i sayisi:1\n",
      "i sayisi:2\n",
      "i sayisi:3\n",
      "9\n"
     ]
    }
   ],
   "source": [
    "for i in [1,2,3,4,5,6,7,8,9]:\n",
    "    print(f\"i sayisi:{i}\")\n",
    "\n",
    "    if i % 3 == 0:\n",
    "        print (i ** 2)\n",
    "        break"
   ]
  },
  {
   "cell_type": "code",
   "execution_count": 27,
   "metadata": {},
   "outputs": [
    {
     "name": "stdout",
     "output_type": "stream",
     "text": [
      "i sayisi:1\n",
      "i sayisi:2\n",
      "i sayisi:3\n",
      "9\n",
      "i sayisi:4\n",
      "i sayisi:5\n",
      "i sayisi:6\n",
      "36\n",
      "i sayisi:7\n",
      "i sayisi:8\n",
      "i sayisi:9\n",
      "81\n"
     ]
    },
    {
     "ename": "SyntaxError",
     "evalue": "'break' outside loop (574249462.py, line 6)",
     "output_type": "error",
     "traceback": [
      "\u001b[1;36m  Cell \u001b[1;32mIn[27], line 6\u001b[1;36m\u001b[0m\n\u001b[1;33m    break\u001b[0m\n\u001b[1;37m    ^\u001b[0m\n\u001b[1;31mSyntaxError\u001b[0m\u001b[1;31m:\u001b[0m 'break' outside loop\n"
     ]
    }
   ],
   "source": [
    "for i in [1,2,3,4,5,6,7,8,9]:\n",
    "    print(f\"i sayisi:{i}\")\n",
    "\n",
    "    if i % 3 == 0:\n",
    "        print (i ** 2)\n",
    "break"
   ]
  },
  {
   "cell_type": "code",
   "execution_count": 28,
   "metadata": {},
   "outputs": [
    {
     "name": "stdout",
     "output_type": "stream",
     "text": [
      "i sayisi:1\n",
      "1\n",
      "i sayisi:2\n",
      "4\n",
      "i sayisi:3\n",
      "i sayisi:4\n",
      "16\n",
      "i sayisi:5\n",
      "25\n",
      "i sayisi:6\n",
      "i sayisi:7\n",
      "49\n",
      "i sayisi:8\n",
      "64\n",
      "i sayisi:9\n"
     ]
    }
   ],
   "source": [
    "for i in [1,2,3,4,5,6,7,8,9]:\n",
    "    print(f\"i sayisi:{i}\")\n",
    "\n",
    "    if i % 3 == 0:\n",
    "        continue\n",
    "    print(i ** 2)"
   ]
  },
  {
   "cell_type": "code",
   "execution_count": 30,
   "metadata": {},
   "outputs": [
    {
     "name": "stdout",
     "output_type": "stream",
     "text": [
      "40\n"
     ]
    }
   ],
   "source": [
    "sum_5 = 0\n",
    "\n",
    "for i in [1,2,3,4,5,6,7,8,9]:\n",
    "   \n",
    "    if i % 5 == 0:\n",
    "        continue\n",
    "    else:\n",
    "        sum_5 +=i\n",
    "\n",
    "print(sum_5)"
   ]
  },
  {
   "cell_type": "code",
   "execution_count": 32,
   "metadata": {},
   "outputs": [
    {
     "data": {
      "text/plain": [
       "40"
      ]
     },
     "execution_count": 32,
     "metadata": {},
     "output_type": "execute_result"
    }
   ],
   "source": [
    "sum(range(0,10)) - sum(range(0,10,5))"
   ]
  },
  {
   "attachments": {},
   "cell_type": "markdown",
   "metadata": {},
   "source": [
    "Bir markete gittiniz. Markette her ürünün bir kod numarası var.\n",
    "1 : Elma 2 : Portakal 3 : Çilek 4 : Yumurta 5 : Havuç 6 : Armut ... vs. şeklinde.\n",
    "Kullanıcıya almak istediği ürünü sorunuz ve kod numarası ile seçim yaptırınız. Çıkış için \"q\" opsiyonunu sununuz. Kullanıcının her ürün seçimi sonrası \" .... elma sepete eklendi\" gibi bir dönüt veriniz. Kullanıcı ürün almaya devam ettikçe ürünleri bir listede toplayınız, almaktan vazgeçtiği durumda teşekkür edip, aldığı toplam ürünleri çıktı veren bir kod yazınız.\n",
    "\n",
    "Çıktı:\n",
    "Teşekkür Ederiz...\n",
    "Sepetinizde Bulunan Ürünler: elma, armut, yumurta ... vs."
   ]
  },
  {
   "cell_type": "code",
   "execution_count": 37,
   "metadata": {},
   "outputs": [
    {
     "name": "stdout",
     "output_type": "stream",
     "text": [
      "\n",
      "1 >> Elma \n",
      "2 >> Portakal\n",
      "3 >> Cilek\n",
      "4 >> Yumurta\n",
      "5 >> Havuc\n",
      "6 >> Armut\n",
      "\n",
      "Portakal sepete eklendi.\n",
      "Cilek sepete eklendi.\n",
      "Elma sepete eklendi.\n",
      "Bizi tercih ettiğiniz için teşekkürler. Yine bekleriz.\n",
      "Almis olduğunuz urunler: ['Portakal', 'Cilek', 'Elma']\n"
     ]
    }
   ],
   "source": [
    "urunler = {1 : \"Elma\", 2 : \"Portakal\", 3 : \"Cilek\", 4 : \"Yumurta\", 5 : \"Havuc\", 6: \"Armut\"}\n",
    "\n",
    "print(\"\"\"\n",
    "1 >> Elma \n",
    "2 >> Portakal\n",
    "3 >> Cilek\n",
    "4 >> Yumurta\n",
    "5 >> Havuc\n",
    "6 >> Armut\n",
    "\"\"\")\n",
    "\n",
    "sepet = []\n",
    "\n",
    "while True:\n",
    "\n",
    "    x = input(\"Almak istediginiz urunun kodunu yazin. Alis verisi sonlandirmak icin 'q' tusuna bakin\" )\n",
    "\n",
    "    if x !=\"q\":\n",
    "        sepet.append(urunler[int(x)])\n",
    "        print(f\"{urunler[int(x)]} sepete eklendi.\")\n",
    "    elif x == \"q\":\n",
    "        print(\"Bizi tercih ettiğiniz için teşekkürler. Yine bekleriz.\")\n",
    "        print(f\"Almis olduğunuz urunler: {sepet}\")\n",
    "        break"
   ]
  },
  {
   "cell_type": "code",
   "execution_count": null,
   "metadata": {},
   "outputs": [],
   "source": []
  },
  {
   "cell_type": "code",
   "execution_count": null,
   "metadata": {},
   "outputs": [],
   "source": []
  }
 ],
 "metadata": {
  "kernelspec": {
   "display_name": "Python 3",
   "language": "python",
   "name": "python3"
  },
  "language_info": {
   "codemirror_mode": {
    "name": "ipython",
    "version": 3
   },
   "file_extension": ".py",
   "mimetype": "text/x-python",
   "name": "python",
   "nbconvert_exporter": "python",
   "pygments_lexer": "ipython3",
   "version": "3.11.3"
  },
  "orig_nbformat": 4
 },
 "nbformat": 4,
 "nbformat_minor": 2
}
