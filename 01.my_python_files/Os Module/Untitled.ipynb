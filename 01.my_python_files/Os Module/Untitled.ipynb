{
 "cells": [
  {
   "cell_type": "markdown",
   "id": "a675faf1",
   "metadata": {},
   "source": [
    "# OOP- Class Yapisi"
   ]
  },
  {
   "cell_type": "code",
   "execution_count": 53,
   "id": "f5ad21af",
   "metadata": {
    "ExecuteTime": {
     "end_time": "2024-01-19T20:04:25.446055Z",
     "start_time": "2024-01-19T20:04:25.440364Z"
    }
   },
   "outputs": [],
   "source": [
    "class MyFirstClass:\n",
    "    pass"
   ]
  },
  {
   "cell_type": "code",
   "execution_count": 54,
   "id": "2326f253",
   "metadata": {
    "ExecuteTime": {
     "end_time": "2024-01-19T20:04:25.477405Z",
     "start_time": "2024-01-19T20:04:25.460799Z"
    }
   },
   "outputs": [
    {
     "name": "stdout",
     "output_type": "stream",
     "text": [
      "<class 'type'>\n"
     ]
    }
   ],
   "source": [
    "print(type(MyFirstClass))"
   ]
  },
  {
   "cell_type": "code",
   "execution_count": 55,
   "id": "ea85b17b",
   "metadata": {
    "ExecuteTime": {
     "end_time": "2024-01-19T20:04:25.493191Z",
     "start_time": "2024-01-19T20:04:25.482511Z"
    }
   },
   "outputs": [
    {
     "name": "stdout",
     "output_type": "stream",
     "text": [
      "<class '__main__.MyFirstClass'>\n"
     ]
    }
   ],
   "source": [
    "print(MyFirstClass)         # Phyton un icinde ana dosyalarinda, def ler gibi degil"
   ]
  },
  {
   "cell_type": "code",
   "execution_count": 56,
   "id": "d13bd5d1",
   "metadata": {
    "ExecuteTime": {
     "end_time": "2024-01-19T20:04:25.523450Z",
     "start_time": "2024-01-19T20:04:25.504373Z"
    }
   },
   "outputs": [
    {
     "data": {
      "text/plain": [
       "<__main__.MyFirstClass at 0x1c2b02a3fa0>"
      ]
     },
     "execution_count": 56,
     "metadata": {},
     "output_type": "execute_result"
    }
   ],
   "source": [
    "my_class = MyFirstClass()    # instance = object,  my_class bir instance dir\n",
    "\n",
    "my_class"
   ]
  },
  {
   "cell_type": "code",
   "execution_count": 57,
   "id": "527bfbaa",
   "metadata": {
    "ExecuteTime": {
     "end_time": "2024-01-19T20:04:25.538866Z",
     "start_time": "2024-01-19T20:04:25.526455Z"
    }
   },
   "outputs": [
    {
     "data": {
      "text/plain": [
       "['__class__',\n",
       " '__delattr__',\n",
       " '__dict__',\n",
       " '__dir__',\n",
       " '__doc__',\n",
       " '__eq__',\n",
       " '__format__',\n",
       " '__ge__',\n",
       " '__getattribute__',\n",
       " '__gt__',\n",
       " '__hash__',\n",
       " '__init__',\n",
       " '__init_subclass__',\n",
       " '__le__',\n",
       " '__lt__',\n",
       " '__module__',\n",
       " '__ne__',\n",
       " '__new__',\n",
       " '__reduce__',\n",
       " '__reduce_ex__',\n",
       " '__repr__',\n",
       " '__setattr__',\n",
       " '__sizeof__',\n",
       " '__str__',\n",
       " '__subclasshook__',\n",
       " '__weakref__']"
      ]
     },
     "execution_count": 57,
     "metadata": {},
     "output_type": "execute_result"
    }
   ],
   "source": [
    "dir(my_class)  # bir class da default olarak olusturulan seyleri gösterir"
   ]
  },
  {
   "cell_type": "code",
   "execution_count": 58,
   "id": "139d4698",
   "metadata": {
    "ExecuteTime": {
     "end_time": "2024-01-19T20:04:25.554911Z",
     "start_time": "2024-01-19T20:04:25.545358Z"
    }
   },
   "outputs": [],
   "source": [
    "class Person:\n",
    "    pass"
   ]
  },
  {
   "cell_type": "code",
   "execution_count": 59,
   "id": "a73b4a8c",
   "metadata": {
    "ExecuteTime": {
     "end_time": "2024-01-19T20:04:25.570911Z",
     "start_time": "2024-01-19T20:04:25.565732Z"
    }
   },
   "outputs": [
    {
     "name": "stdout",
     "output_type": "stream",
     "text": [
      "<__main__.Person object at 0x000001C2B02A3670>\n"
     ]
    }
   ],
   "source": [
    "p1 = Person()\n",
    "print(p1)"
   ]
  },
  {
   "cell_type": "code",
   "execution_count": 60,
   "id": "4a65bbe0",
   "metadata": {
    "ExecuteTime": {
     "end_time": "2024-01-19T20:04:25.602480Z",
     "start_time": "2024-01-19T20:04:25.587901Z"
    }
   },
   "outputs": [],
   "source": [
    "p1.name = \"Enes\"\n",
    "p1.age = 28\n",
    "p1.job = \"DS\""
   ]
  },
  {
   "cell_type": "code",
   "execution_count": 61,
   "id": "18c48a00",
   "metadata": {
    "ExecuteTime": {
     "end_time": "2024-01-19T20:04:25.617661Z",
     "start_time": "2024-01-19T20:04:25.611180Z"
    }
   },
   "outputs": [
    {
     "name": "stdout",
     "output_type": "stream",
     "text": [
      "Enes 28 DS\n"
     ]
    }
   ],
   "source": [
    "print(p1.name, p1.age, p1.job)"
   ]
  },
  {
   "cell_type": "code",
   "execution_count": 62,
   "id": "d8874af4",
   "metadata": {
    "ExecuteTime": {
     "end_time": "2024-01-19T20:04:25.649148Z",
     "start_time": "2024-01-19T20:04:25.634684Z"
    }
   },
   "outputs": [],
   "source": [
    "p2 = Person()"
   ]
  },
  {
   "cell_type": "code",
   "execution_count": 63,
   "id": "31ae114f",
   "metadata": {
    "ExecuteTime": {
     "end_time": "2024-01-19T20:04:25.681064Z",
     "start_time": "2024-01-19T20:04:25.656154Z"
    }
   },
   "outputs": [
    {
     "ename": "AttributeError",
     "evalue": "'Person' object has no attribute 'name'",
     "output_type": "error",
     "traceback": [
      "\u001b[1;31m---------------------------------------------------------------------------\u001b[0m",
      "\u001b[1;31mAttributeError\u001b[0m                            Traceback (most recent call last)",
      "Cell \u001b[1;32mIn[63], line 1\u001b[0m\n\u001b[1;32m----> 1\u001b[0m \u001b[43mp2\u001b[49m\u001b[38;5;241;43m.\u001b[39;49m\u001b[43mname\u001b[49m\n",
      "\u001b[1;31mAttributeError\u001b[0m: 'Person' object has no attribute 'name'"
     ]
    }
   ],
   "source": [
    "p2.name"
   ]
  },
  {
   "cell_type": "code",
   "execution_count": null,
   "id": "19d57bdf",
   "metadata": {
    "ExecuteTime": {
     "end_time": "2024-01-19T20:04:25.684183Z",
     "start_time": "2024-01-19T20:04:25.684183Z"
    }
   },
   "outputs": [],
   "source": [
    "p2.country = \"TR\"\n",
    "p2.country"
   ]
  },
  {
   "cell_type": "markdown",
   "id": "b3f27628",
   "metadata": {},
   "source": [
    "19Jan2024"
   ]
  },
  {
   "cell_type": "code",
   "execution_count": 64,
   "id": "ad0f0ea7",
   "metadata": {
    "ExecuteTime": {
     "end_time": "2024-01-19T20:04:25.743205Z",
     "start_time": "2024-01-19T20:04:25.733877Z"
    }
   },
   "outputs": [],
   "source": [
    "class Person:\n",
    "    \n",
    "    def __init__(self, isim, soyisim, yas):\n",
    "        self.name = isim\n",
    "        self.surname = soyisim\n",
    "        self.age = yas    "
   ]
  },
  {
   "cell_type": "markdown",
   "id": "b71d5d6e",
   "metadata": {},
   "source": [
    "self.name kisminda ki name -->attribute oluyor\n",
    "(isim, soyisim, yas) parantez icerisindeki argumanlar attribute olusturmak icin verilen argumanlar ya da parametreler"
   ]
  },
  {
   "cell_type": "code",
   "execution_count": 65,
   "id": "47ddc985",
   "metadata": {
    "ExecuteTime": {
     "end_time": "2024-01-19T20:04:25.789616Z",
     "start_time": "2024-01-19T20:04:25.780261Z"
    }
   },
   "outputs": [
    {
     "name": "stdout",
     "output_type": "stream",
     "text": [
      "<__main__.Person object at 0x000001C2B0247760>\n"
     ]
    }
   ],
   "source": [
    "person1 = Person(\"Fatih\", \"Bir\", 33)\n",
    "print(person1)"
   ]
  },
  {
   "cell_type": "code",
   "execution_count": 66,
   "id": "96cd4072",
   "metadata": {
    "ExecuteTime": {
     "end_time": "2024-01-19T20:04:25.821352Z",
     "start_time": "2024-01-19T20:04:25.803382Z"
    }
   },
   "outputs": [
    {
     "data": {
      "text/plain": [
       "('Fatih', 'Bir', 33)"
      ]
     },
     "execution_count": 66,
     "metadata": {},
     "output_type": "execute_result"
    }
   ],
   "source": [
    "person1.name, person1.surname, person1.age"
   ]
  },
  {
   "cell_type": "code",
   "execution_count": 67,
   "id": "af5fd693",
   "metadata": {
    "ExecuteTime": {
     "end_time": "2024-01-19T20:04:25.837698Z",
     "start_time": "2024-01-19T20:04:25.823919Z"
    }
   },
   "outputs": [
    {
     "name": "stdout",
     "output_type": "stream",
     "text": [
      "isim:Birsen, soyisim:iki, yas:43\n"
     ]
    }
   ],
   "source": [
    "person2 = Person(soyisim=\"iki\", isim = \"Birsen\", yas = 43)\n",
    "\n",
    "print(f\"isim:{person2.name}, soyisim:{person2.surname}, yas:{person2.age}\")"
   ]
  },
  {
   "cell_type": "code",
   "execution_count": 68,
   "id": "8d641287",
   "metadata": {
    "ExecuteTime": {
     "end_time": "2024-01-19T20:04:25.853255Z",
     "start_time": "2024-01-19T20:04:25.845032Z"
    }
   },
   "outputs": [
    {
     "data": {
      "text/plain": [
       "{'name': 'Birsen', 'surname': 'iki', 'age': 43}"
      ]
     },
     "execution_count": 68,
     "metadata": {},
     "output_type": "execute_result"
    }
   ],
   "source": [
    "person2.__dict__"
   ]
  },
  {
   "cell_type": "code",
   "execution_count": 69,
   "id": "6818291c",
   "metadata": {
    "ExecuteTime": {
     "end_time": "2024-01-19T20:04:25.884316Z",
     "start_time": "2024-01-19T20:04:25.868926Z"
    }
   },
   "outputs": [],
   "source": [
    "class Person:\n",
    "    \n",
    "    def __init__(self, isim= \"belirtilmedi\", soyisim= \"belirtilmedi\", yas= \"belirtilmedi\"):\n",
    "        self.name = isim\n",
    "        self.surname = soyisim\n",
    "        self.age = yas  "
   ]
  },
  {
   "cell_type": "code",
   "execution_count": 70,
   "id": "ab3b7446",
   "metadata": {
    "ExecuteTime": {
     "end_time": "2024-01-19T20:04:25.899767Z",
     "start_time": "2024-01-19T20:04:25.890743Z"
    }
   },
   "outputs": [],
   "source": [
    "p3 = Person(\"Pinar\", yas=33)"
   ]
  },
  {
   "cell_type": "code",
   "execution_count": 71,
   "id": "661b22ea",
   "metadata": {
    "ExecuteTime": {
     "end_time": "2024-01-19T20:04:25.914985Z",
     "start_time": "2024-01-19T20:04:25.910997Z"
    }
   },
   "outputs": [
    {
     "name": "stdout",
     "output_type": "stream",
     "text": [
      "isim:Pinar, soyisim:belirtilmedi, yas:33\n"
     ]
    }
   ],
   "source": [
    "print(f\"isim:{p3.name}, soyisim:{p3.surname}, yas:{p3.age}\")"
   ]
  },
  {
   "cell_type": "code",
   "execution_count": 72,
   "id": "30cd83b2",
   "metadata": {
    "ExecuteTime": {
     "end_time": "2024-01-19T20:04:25.946050Z",
     "start_time": "2024-01-19T20:04:25.930192Z"
    }
   },
   "outputs": [],
   "source": [
    "p3.salary = 5000         # sadece p3 icin salary bilgisi eklemis olduk"
   ]
  },
  {
   "cell_type": "code",
   "execution_count": 73,
   "id": "341ba405",
   "metadata": {
    "ExecuteTime": {
     "end_time": "2024-01-19T20:04:25.961562Z",
     "start_time": "2024-01-19T20:04:25.950115Z"
    }
   },
   "outputs": [
    {
     "data": {
      "text/plain": [
       "{'name': 'Pinar', 'surname': 'belirtilmedi', 'age': 33, 'salary': 5000}"
      ]
     },
     "execution_count": 73,
     "metadata": {},
     "output_type": "execute_result"
    }
   ],
   "source": [
    "p3.__dict__"
   ]
  },
  {
   "cell_type": "code",
   "execution_count": 74,
   "id": "eb7790d0",
   "metadata": {
    "ExecuteTime": {
     "end_time": "2024-01-19T20:04:25.976847Z",
     "start_time": "2024-01-19T20:04:25.968921Z"
    }
   },
   "outputs": [],
   "source": [
    "class Person:\n",
    "    \n",
    "    def __init__(self, isim= \"belirtilmedi\", soyisim= \"belirtilmedi\", yas= \"belirtilmedi\"):\n",
    "        self.name = isim\n",
    "        self.surname = soyisim\n",
    "        self.age = yas  \n",
    "    \n",
    "    def person_info(self):\n",
    "        print(f\"isim:{self.name}, soyisim:{self.surname}, yas:{self.age}\")"
   ]
  },
  {
   "cell_type": "code",
   "execution_count": 75,
   "id": "0dc10cc3",
   "metadata": {
    "ExecuteTime": {
     "end_time": "2024-01-19T20:04:26.008013Z",
     "start_time": "2024-01-19T20:04:25.989968Z"
    }
   },
   "outputs": [
    {
     "data": {
      "text/plain": [
       "{'name': 'ibo', 'surname': 'tatli', 'age': 30}"
      ]
     },
     "execution_count": 75,
     "metadata": {},
     "output_type": "execute_result"
    }
   ],
   "source": [
    "p5 = Person(\"ibo\", \"tatli\", 30)\n",
    "\n",
    "p5.__dict__"
   ]
  },
  {
   "cell_type": "code",
   "execution_count": 76,
   "id": "8f06a9e7",
   "metadata": {
    "ExecuteTime": {
     "end_time": "2024-01-19T20:04:26.023556Z",
     "start_time": "2024-01-19T20:04:26.011022Z"
    }
   },
   "outputs": [
    {
     "name": "stdout",
     "output_type": "stream",
     "text": [
      "isim:ibo, soyisim:tatli, yas:30\n"
     ]
    }
   ],
   "source": [
    "p5.person_info()"
   ]
  },
  {
   "cell_type": "markdown",
   "id": "991f0c27",
   "metadata": {},
   "source": [
    "## Class Atribute & Instance Atribute"
   ]
  },
  {
   "cell_type": "code",
   "execution_count": 77,
   "id": "51aab156",
   "metadata": {
    "ExecuteTime": {
     "end_time": "2024-01-19T20:04:26.053886Z",
     "start_time": "2024-01-19T20:04:26.041799Z"
    }
   },
   "outputs": [],
   "source": [
    "class Employees:\n",
    "    \n",
    "    def __init__(self, isim, soyisim, maas):\n",
    "        self.name = isim\n",
    "        self.surname = soyisim\n",
    "        self.salary = maas\n",
    "        self.raise_amount = 1.3"
   ]
  },
  {
   "cell_type": "code",
   "execution_count": 78,
   "id": "f1a17998",
   "metadata": {
    "ExecuteTime": {
     "end_time": "2024-01-19T20:04:26.069868Z",
     "start_time": "2024-01-19T20:04:26.064584Z"
    }
   },
   "outputs": [
    {
     "data": {
      "text/plain": [
       "{'name': 'Enes', 'surname': 'Kara', 'salary': 3500, 'raise_amount': 1.3}"
      ]
     },
     "execution_count": 78,
     "metadata": {},
     "output_type": "execute_result"
    }
   ],
   "source": [
    "e1 = Employees(\"Enes\", \"Kara\", 3500)\n",
    "e1.__dict__"
   ]
  },
  {
   "cell_type": "code",
   "execution_count": 79,
   "id": "e24076e8",
   "metadata": {
    "ExecuteTime": {
     "end_time": "2024-01-19T20:04:26.100640Z",
     "start_time": "2024-01-19T20:04:26.085313Z"
    }
   },
   "outputs": [],
   "source": [
    "class Employees:\n",
    "    \n",
    "    def __init__(self, isim, soyisim, maas):\n",
    "        self.name = isim\n",
    "        self.surname = soyisim\n",
    "        self.salary = maas\n",
    "        self.raise_amount = 1.3\n",
    "    \n",
    "    def salary_increase(self):\n",
    "        self.salary = self.salary * self.raise_amount"
   ]
  },
  {
   "cell_type": "code",
   "execution_count": 80,
   "id": "49292294",
   "metadata": {
    "ExecuteTime": {
     "end_time": "2024-01-19T20:04:26.115360Z",
     "start_time": "2024-01-19T20:04:26.109280Z"
    }
   },
   "outputs": [
    {
     "data": {
      "text/plain": [
       "{'name': 'Cumali', 'surname': 'Dural', 'salary': 10000, 'raise_amount': 1.3}"
      ]
     },
     "execution_count": 80,
     "metadata": {},
     "output_type": "execute_result"
    }
   ],
   "source": [
    "e2 = Employees(\"Cumali\", \"Dural\", 10000)\n",
    "\n",
    "e2.__dict__"
   ]
  },
  {
   "cell_type": "code",
   "execution_count": 81,
   "id": "f5456856",
   "metadata": {
    "ExecuteTime": {
     "end_time": "2024-01-19T20:04:26.146488Z",
     "start_time": "2024-01-19T20:04:26.131801Z"
    }
   },
   "outputs": [],
   "source": [
    "e2.salary_increase()"
   ]
  },
  {
   "cell_type": "code",
   "execution_count": 82,
   "id": "f09f6e0b",
   "metadata": {
    "ExecuteTime": {
     "end_time": "2024-01-19T20:04:26.162545Z",
     "start_time": "2024-01-19T20:04:26.153997Z"
    }
   },
   "outputs": [
    {
     "data": {
      "text/plain": [
       "({'name': 'Enes', 'surname': 'Kara', 'salary': 3500, 'raise_amount': 1.3},\n",
       " {'name': 'Cumali',\n",
       "  'surname': 'Dural',\n",
       "  'salary': 13000.0,\n",
       "  'raise_amount': 1.3})"
      ]
     },
     "execution_count": 82,
     "metadata": {},
     "output_type": "execute_result"
    }
   ],
   "source": [
    "e1.__dict__ , e2.__dict__"
   ]
  },
  {
   "cell_type": "code",
   "execution_count": 83,
   "id": "116e49e2",
   "metadata": {
    "ExecuteTime": {
     "end_time": "2024-01-19T20:04:26.193971Z",
     "start_time": "2024-01-19T20:04:26.178054Z"
    }
   },
   "outputs": [
    {
     "data": {
      "text/plain": [
       "{'name': 'fatih', 'surname': 'gül', 'salary': 5000, 'raise_amount': 1.3}"
      ]
     },
     "execution_count": 83,
     "metadata": {},
     "output_type": "execute_result"
    }
   ],
   "source": [
    "e3 = Employees(\"fatih\", \"gül\", 5000)\n",
    "e3.__dict__"
   ]
  },
  {
   "cell_type": "code",
   "execution_count": 84,
   "id": "40164b40",
   "metadata": {
    "ExecuteTime": {
     "end_time": "2024-01-19T20:04:26.209097Z",
     "start_time": "2024-01-19T20:04:26.201765Z"
    }
   },
   "outputs": [
    {
     "data": {
      "text/plain": [
       "{'name': 'fatih', 'surname': 'gül', 'salary': 5000, 'raise_amount': 1.4}"
      ]
     },
     "execution_count": 84,
     "metadata": {},
     "output_type": "execute_result"
    }
   ],
   "source": [
    "e3.raise_amount = 1.4\n",
    "\n",
    "e3.__dict__"
   ]
  },
  {
   "cell_type": "code",
   "execution_count": 85,
   "id": "9e75de61",
   "metadata": {
    "ExecuteTime": {
     "end_time": "2024-01-19T20:04:26.240813Z",
     "start_time": "2024-01-19T20:04:26.224784Z"
    }
   },
   "outputs": [
    {
     "data": {
      "text/plain": [
       "{'name': 'fatih', 'surname': 'gül', 'salary': 7000.0, 'raise_amount': 1.4}"
      ]
     },
     "execution_count": 85,
     "metadata": {},
     "output_type": "execute_result"
    }
   ],
   "source": [
    "e3.salary_increase()\n",
    "\n",
    "e3.__dict__"
   ]
  },
  {
   "cell_type": "code",
   "execution_count": 86,
   "id": "88d7d4db",
   "metadata": {
    "ExecuteTime": {
     "end_time": "2024-01-19T20:04:26.272570Z",
     "start_time": "2024-01-19T20:04:26.255717Z"
    }
   },
   "outputs": [],
   "source": [
    "class Employees:\n",
    "    \n",
    "    def __init__(self, isim, soyisim, maas, artis_miktari = 1.1):\n",
    "        self.name = isim\n",
    "        self.surname = soyisim\n",
    "        self.salary = maas\n",
    "        self.raise_amount = artis_miktari\n",
    "    \n",
    "    def salary_increase(self):\n",
    "        self.salary = self.salary * self.raise_amount\n",
    "       "
   ]
  },
  {
   "cell_type": "code",
   "execution_count": 87,
   "id": "88cdcb3f",
   "metadata": {
    "ExecuteTime": {
     "end_time": "2024-01-19T20:04:26.304199Z",
     "start_time": "2024-01-19T20:04:26.283626Z"
    }
   },
   "outputs": [
    {
     "data": {
      "text/plain": [
       "{'name': 'Tuba', 'surname': 'Al', 'salary': 8000, 'raise_amount': 1.5}"
      ]
     },
     "execution_count": 87,
     "metadata": {},
     "output_type": "execute_result"
    }
   ],
   "source": [
    "e4 = Employees(\"Tuba\", \"Al\", 8000, 1.5)\n",
    "\n",
    "e4.__dict__"
   ]
  },
  {
   "cell_type": "code",
   "execution_count": 88,
   "id": "0236d9ab",
   "metadata": {
    "ExecuteTime": {
     "end_time": "2024-01-19T20:04:26.319549Z",
     "start_time": "2024-01-19T20:04:26.309860Z"
    }
   },
   "outputs": [
    {
     "data": {
      "text/plain": [
       "{'name': 'Tuba', 'surname': 'Al', 'salary': 8000, 'raise_amount': 1.1}"
      ]
     },
     "execution_count": 88,
     "metadata": {},
     "output_type": "execute_result"
    }
   ],
   "source": [
    "e4 = Employees(\"Tuba\", \"Al\", 8000)\n",
    "               \n",
    "e4.__dict__"
   ]
  },
  {
   "cell_type": "code",
   "execution_count": 89,
   "id": "7b5e2659",
   "metadata": {
    "ExecuteTime": {
     "end_time": "2024-01-19T20:04:26.350437Z",
     "start_time": "2024-01-19T20:04:26.336222Z"
    }
   },
   "outputs": [],
   "source": [
    "class Employees:\n",
    "    \n",
    "    raise_amount = 1.5\n",
    "    \n",
    "    def __init__(self, isim, soyisim, maas, artis_miktari = 1.1):\n",
    "        self.name = isim\n",
    "        self.surname = soyisim\n",
    "        self.salary = maas\n",
    "        self.raise_amount = artis_miktari\n",
    "    \n",
    "    def salary_increase(self):\n",
    "        self.salary = self.salary * Employees.raise_amount"
   ]
  },
  {
   "cell_type": "code",
   "execution_count": 90,
   "id": "0ae20eae",
   "metadata": {
    "ExecuteTime": {
     "end_time": "2024-01-19T20:04:26.366198Z",
     "start_time": "2024-01-19T20:04:26.358092Z"
    }
   },
   "outputs": [
    {
     "data": {
      "text/plain": [
       "{'name': 'Salih', 'surname': 'Al', 'salary': 4000, 'raise_amount': 1.1}"
      ]
     },
     "execution_count": 90,
     "metadata": {},
     "output_type": "execute_result"
    }
   ],
   "source": [
    "e5 = Employees(\"Salih\", \"Al\", 4000)\n",
    "\n",
    "e5.__dict__"
   ]
  },
  {
   "cell_type": "code",
   "execution_count": 91,
   "id": "97b883ae",
   "metadata": {
    "ExecuteTime": {
     "end_time": "2024-01-19T20:04:26.397725Z",
     "start_time": "2024-01-19T20:04:26.378389Z"
    }
   },
   "outputs": [
    {
     "data": {
      "text/plain": [
       "{'name': 'Salih', 'surname': 'Al', 'salary': 6000.0, 'raise_amount': 1.1}"
      ]
     },
     "execution_count": 91,
     "metadata": {},
     "output_type": "execute_result"
    }
   ],
   "source": [
    "e5.salary_increase()\n",
    "\n",
    "e5.__dict__                # artis Employees.raise_amount kullanildi (1,5)"
   ]
  },
  {
   "cell_type": "markdown",
   "id": "336f90f4",
   "metadata": {},
   "source": [
    "## Class method & instance method"
   ]
  },
  {
   "cell_type": "code",
   "execution_count": 92,
   "id": "60fd14cc",
   "metadata": {
    "ExecuteTime": {
     "end_time": "2024-01-19T20:04:26.474823Z",
     "start_time": "2024-01-19T20:04:26.453170Z"
    }
   },
   "outputs": [],
   "source": [
    "class Employees:\n",
    "    \n",
    "    employee_count = 0\n",
    "    \n",
    "    def __init__(self, isim, soyisim, maas, artis_miktari = 1.1):\n",
    "        self.name = isim\n",
    "        self.surname = soyisim\n",
    "        self.salary = maas\n",
    "        self.raise_amount = artis_miktari\n",
    "        Employees.employee_count += 1\n",
    "        \n",
    "    def person_info(self):\n",
    "        print(f\"isim:{self.name}, soyisim:{self.surname}, maas:{self.salary}\")\n",
    "    \n",
    "    def salary_increase(self):\n",
    "        self.salary = self.salary * self.raise_amount\n",
    "        \n",
    "    @classmethod\n",
    "    def number_of_emplayee(cls):\n",
    "        return f\"Number of employees: {cls.employee_count}\""
   ]
  },
  {
   "cell_type": "code",
   "execution_count": 93,
   "id": "73270ce5",
   "metadata": {
    "ExecuteTime": {
     "end_time": "2024-01-19T20:04:26.490663Z",
     "start_time": "2024-01-19T20:04:26.478507Z"
    }
   },
   "outputs": [],
   "source": [
    "e6 = Employees(\"Can\", \"Al\", 5000)\n",
    "e7 = Employees(\"Pak\", \"Al\", 5000)"
   ]
  },
  {
   "cell_type": "code",
   "execution_count": 94,
   "id": "b5a18aeb",
   "metadata": {
    "ExecuteTime": {
     "end_time": "2024-01-19T20:04:26.506203Z",
     "start_time": "2024-01-19T20:04:26.499297Z"
    }
   },
   "outputs": [
    {
     "data": {
      "text/plain": [
       "'Number of employees: 2'"
      ]
     },
     "execution_count": 94,
     "metadata": {},
     "output_type": "execute_result"
    }
   ],
   "source": [
    "Employees.number_of_emplayee()"
   ]
  },
  {
   "cell_type": "code",
   "execution_count": 95,
   "id": "58928afa",
   "metadata": {
    "ExecuteTime": {
     "end_time": "2024-01-19T20:04:26.537453Z",
     "start_time": "2024-01-19T20:04:26.519048Z"
    }
   },
   "outputs": [],
   "source": [
    "e6.salary_increase()"
   ]
  },
  {
   "cell_type": "code",
   "execution_count": 96,
   "id": "4c9ad450",
   "metadata": {
    "ExecuteTime": {
     "end_time": "2024-01-19T20:04:26.552557Z",
     "start_time": "2024-01-19T20:04:26.543784Z"
    }
   },
   "outputs": [
    {
     "name": "stdout",
     "output_type": "stream",
     "text": [
      "isim:Can, soyisim:Al, maas:5500.0\n"
     ]
    }
   ],
   "source": [
    "e6.person_info()"
   ]
  },
  {
   "cell_type": "markdown",
   "id": "bbd1c75a",
   "metadata": {},
   "source": [
    "# Inheritance (Kalitim-miras)"
   ]
  },
  {
   "cell_type": "code",
   "execution_count": 101,
   "id": "d7517815",
   "metadata": {
    "ExecuteTime": {
     "end_time": "2024-01-19T20:05:34.995095Z",
     "start_time": "2024-01-19T20:05:34.984195Z"
    }
   },
   "outputs": [],
   "source": [
    "class Employees:\n",
    "    \n",
    "    employee_count = 0\n",
    "    \n",
    "    def __init__(self, isim, soyisim, maas, artis_miktari = 1.1):\n",
    "        self.name = isim\n",
    "        self.surname = soyisim\n",
    "        self.salary = maas\n",
    "        self.raise_amount = artis_miktari\n",
    "        Employees.employee_count += 1\n",
    "        \n",
    "    def person_info(self):\n",
    "        print(f\"isim:{self.name}, soyisim:{self.surname}, maas:{self.salary}\")\n",
    "    \n",
    "    def salary_increase(self):\n",
    "        self.salary = self.salary * self.raise_amount\n",
    "        \n",
    "    @classmethod\n",
    "    def number_of_emplayee(cls):\n",
    "        return f\"Number of employees: {cls.employee_count}\""
   ]
  },
  {
   "cell_type": "code",
   "execution_count": 102,
   "id": "ad872cfa",
   "metadata": {
    "ExecuteTime": {
     "end_time": "2024-01-19T20:05:36.645736Z",
     "start_time": "2024-01-19T20:05:36.636336Z"
    }
   },
   "outputs": [],
   "source": [
    "e6 = Employees(\"Can\", \"Al\", 5000)\n",
    "e7 = Employees(\"Pak\", \"Al\", 5000)"
   ]
  },
  {
   "cell_type": "code",
   "execution_count": 103,
   "id": "577784c8",
   "metadata": {
    "ExecuteTime": {
     "end_time": "2024-01-19T20:05:38.394162Z",
     "start_time": "2024-01-19T20:05:38.381886Z"
    }
   },
   "outputs": [],
   "source": [
    "class Programmer(Employees):\n",
    "    pass"
   ]
  },
  {
   "cell_type": "code",
   "execution_count": 104,
   "id": "3c466623",
   "metadata": {
    "ExecuteTime": {
     "end_time": "2024-01-19T20:05:39.505291Z",
     "start_time": "2024-01-19T20:05:39.485273Z"
    }
   },
   "outputs": [
    {
     "data": {
      "text/plain": [
       "{'name': 'Salih', 'surname': 'Al', 'salary': 5000, 'raise_amount': 1.1}"
      ]
     },
     "execution_count": 104,
     "metadata": {},
     "output_type": "execute_result"
    }
   ],
   "source": [
    "p1 = Programmer(\"Salih\", \"Al\", 5000)\n",
    "\n",
    "p1.__dict__"
   ]
  },
  {
   "cell_type": "code",
   "execution_count": 105,
   "id": "74bc0554",
   "metadata": {
    "ExecuteTime": {
     "end_time": "2024-01-19T20:05:40.661009Z",
     "start_time": "2024-01-19T20:05:40.644240Z"
    }
   },
   "outputs": [
    {
     "data": {
      "text/plain": [
       "'Number of employees: 3'"
      ]
     },
     "execution_count": 105,
     "metadata": {},
     "output_type": "execute_result"
    }
   ],
   "source": [
    "p1.number_of_emplayee()"
   ]
  },
  {
   "cell_type": "code",
   "execution_count": 106,
   "id": "f741b17a",
   "metadata": {
    "ExecuteTime": {
     "end_time": "2024-01-19T20:08:29.894924Z",
     "start_time": "2024-01-19T20:08:29.889317Z"
    }
   },
   "outputs": [],
   "source": [
    "class Programmer(Employees):\n",
    "    \n",
    "    def __init__(self, isim, soyisim, maas, dil):\n",
    "        self.name = isim\n",
    "        self.surname = soyisim\n",
    "        self.salary = maas\n",
    "        self.language = dil"
   ]
  },
  {
   "cell_type": "code",
   "execution_count": 107,
   "id": "dbac3e56",
   "metadata": {
    "ExecuteTime": {
     "end_time": "2024-01-19T20:10:05.935692Z",
     "start_time": "2024-01-19T20:10:05.920357Z"
    }
   },
   "outputs": [],
   "source": [
    "p2 = Programmer(\"Cüneyt\", \"Al\", 1000, \"Phyton\")"
   ]
  },
  {
   "cell_type": "code",
   "execution_count": 109,
   "id": "690826e2",
   "metadata": {
    "ExecuteTime": {
     "end_time": "2024-01-19T20:10:22.531278Z",
     "start_time": "2024-01-19T20:10:22.512572Z"
    }
   },
   "outputs": [
    {
     "data": {
      "text/plain": [
       "'Phyton'"
      ]
     },
     "execution_count": 109,
     "metadata": {},
     "output_type": "execute_result"
    }
   ],
   "source": [
    "p2.language"
   ]
  },
  {
   "cell_type": "code",
   "execution_count": 110,
   "id": "3e6ee7e2",
   "metadata": {
    "ExecuteTime": {
     "end_time": "2024-01-19T20:12:23.764026Z",
     "start_time": "2024-01-19T20:12:23.728064Z"
    }
   },
   "outputs": [
    {
     "ename": "AttributeError",
     "evalue": "'Programmer' object has no attribute 'raise_amount'",
     "output_type": "error",
     "traceback": [
      "\u001b[1;31m---------------------------------------------------------------------------\u001b[0m",
      "\u001b[1;31mAttributeError\u001b[0m                            Traceback (most recent call last)",
      "Cell \u001b[1;32mIn[110], line 1\u001b[0m\n\u001b[1;32m----> 1\u001b[0m \u001b[43mp2\u001b[49m\u001b[38;5;241;43m.\u001b[39;49m\u001b[43msalary_increase\u001b[49m\u001b[43m(\u001b[49m\u001b[43m)\u001b[49m\n",
      "Cell \u001b[1;32mIn[101], line 16\u001b[0m, in \u001b[0;36mEmployees.salary_increase\u001b[1;34m(self)\u001b[0m\n\u001b[0;32m     15\u001b[0m \u001b[38;5;28;01mdef\u001b[39;00m \u001b[38;5;21msalary_increase\u001b[39m(\u001b[38;5;28mself\u001b[39m):\n\u001b[1;32m---> 16\u001b[0m     \u001b[38;5;28mself\u001b[39m\u001b[38;5;241m.\u001b[39msalary \u001b[38;5;241m=\u001b[39m \u001b[38;5;28mself\u001b[39m\u001b[38;5;241m.\u001b[39msalary \u001b[38;5;241m*\u001b[39m \u001b[38;5;28;43mself\u001b[39;49m\u001b[38;5;241;43m.\u001b[39;49m\u001b[43mraise_amount\u001b[49m\n",
      "\u001b[1;31mAttributeError\u001b[0m: 'Programmer' object has no attribute 'raise_amount'"
     ]
    }
   ],
   "source": [
    "p2.salary_increase()"
   ]
  },
  {
   "cell_type": "code",
   "execution_count": 111,
   "id": "a8abfb76",
   "metadata": {
    "ExecuteTime": {
     "end_time": "2024-01-19T20:13:15.328401Z",
     "start_time": "2024-01-19T20:13:15.322885Z"
    }
   },
   "outputs": [],
   "source": [
    "p2.raise_amount = 1.5"
   ]
  },
  {
   "cell_type": "code",
   "execution_count": 112,
   "id": "34cb51df",
   "metadata": {
    "ExecuteTime": {
     "end_time": "2024-01-19T20:13:34.148260Z",
     "start_time": "2024-01-19T20:13:34.135358Z"
    }
   },
   "outputs": [
    {
     "data": {
      "text/plain": [
       "{'name': 'Cüneyt',\n",
       " 'surname': 'Al',\n",
       " 'salary': 1500.0,\n",
       " 'language': 'Phyton',\n",
       " 'raise_amount': 1.5}"
      ]
     },
     "execution_count": 112,
     "metadata": {},
     "output_type": "execute_result"
    }
   ],
   "source": [
    "p2.salary_increase()\n",
    "\n",
    "p2.__dict__"
   ]
  },
  {
   "cell_type": "code",
   "execution_count": 113,
   "id": "af1e48e1",
   "metadata": {
    "ExecuteTime": {
     "end_time": "2024-01-19T20:16:32.279872Z",
     "start_time": "2024-01-19T20:16:32.262104Z"
    }
   },
   "outputs": [],
   "source": [
    "class Programmer(Employees):\n",
    "    \n",
    "    def __init__(self, isim, soyisim, maas, dil):\n",
    "        super().__init__(isim, soyisim, maas)\n",
    "        self.language = dil"
   ]
  },
  {
   "cell_type": "code",
   "execution_count": 114,
   "id": "7a09c027",
   "metadata": {
    "ExecuteTime": {
     "end_time": "2024-01-19T20:17:31.507671Z",
     "start_time": "2024-01-19T20:17:31.495130Z"
    }
   },
   "outputs": [
    {
     "data": {
      "text/plain": [
       "{'name': 'Ali',\n",
       " 'surname': 'Al',\n",
       " 'salary': 3000,\n",
       " 'raise_amount': 1.1,\n",
       " 'language': 'java'}"
      ]
     },
     "execution_count": 114,
     "metadata": {},
     "output_type": "execute_result"
    }
   ],
   "source": [
    "p3 = Programmer(\"Ali\", \"Al\", 3000, \"java\")\n",
    "\n",
    "p3.__dict__"
   ]
  },
  {
   "cell_type": "code",
   "execution_count": 123,
   "id": "65e6713c",
   "metadata": {
    "ExecuteTime": {
     "end_time": "2024-01-19T20:26:40.979724Z",
     "start_time": "2024-01-19T20:26:40.963916Z"
    }
   },
   "outputs": [],
   "source": [
    "class Programmer(Employees):\n",
    "    \n",
    "    def __init__(self, isim, soyisim, maas, dil):\n",
    "        super().__init__(isim, soyisim, maas)\n",
    "        self.language = dil\n",
    "    \n",
    "    def person_info(self, tecrube_yili):\n",
    "        self.exprience = tecrube_yili\n",
    "        print(f\"isim:{self.name}, soyisim:{self.surname}, maas:{self.salary}, language:{self.language}, tecrube_yili:{self.exprience}\")"
   ]
  },
  {
   "cell_type": "code",
   "execution_count": 125,
   "id": "e778c0b3",
   "metadata": {
    "ExecuteTime": {
     "end_time": "2024-01-19T20:26:45.791501Z",
     "start_time": "2024-01-19T20:26:45.786471Z"
    }
   },
   "outputs": [
    {
     "data": {
      "text/plain": [
       "{'name': 'Ali',\n",
       " 'surname': 'Al',\n",
       " 'salary': 3000,\n",
       " 'raise_amount': 1.1,\n",
       " 'language': 'java'}"
      ]
     },
     "execution_count": 125,
     "metadata": {},
     "output_type": "execute_result"
    }
   ],
   "source": [
    "p3 = Programmer(\"Ali\", \"Al\", 3000, \"java\")\n",
    "\n",
    "p3.__dict__"
   ]
  },
  {
   "cell_type": "code",
   "execution_count": 126,
   "id": "3aa20e3e",
   "metadata": {
    "ExecuteTime": {
     "end_time": "2024-01-19T20:26:46.930252Z",
     "start_time": "2024-01-19T20:26:46.924432Z"
    }
   },
   "outputs": [
    {
     "name": "stdout",
     "output_type": "stream",
     "text": [
      "isim:Ali, soyisim:Al, maas:3000, language:java, tecrube_yili:4\n"
     ]
    }
   ],
   "source": [
    "p3.person_info(4)"
   ]
  },
  {
   "cell_type": "code",
   "execution_count": 127,
   "id": "25e9bc2e",
   "metadata": {
    "ExecuteTime": {
     "end_time": "2024-01-19T20:36:13.055431Z",
     "start_time": "2024-01-19T20:36:13.045074Z"
    }
   },
   "outputs": [],
   "source": [
    "class Manager(Employees):\n",
    "    \n",
    "    def __init__(self, isim, soyisim, maas, artis_miktari=1.1, calisan = None):\n",
    "        super().__init__(isim, soyisim, maas, artis_miktari)\n",
    "        if calisan == None:\n",
    "            self.employee = []\n",
    "        else:\n",
    "            self.employee = calisan\n",
    "        \n",
    "    def add_employee(self, calisan):\n",
    "        if calisan not in self.employee:\n",
    "            self.employee.append(calisan)\n",
    "\n",
    "    def remove_employee(self, calisan):\n",
    "        if calisan in self.employee:\n",
    "            self.employee.remove(calisan)\n",
    "            \n",
    "    def show_employee(self):\n",
    "        for i in self.employee:\n",
    "            i.person_info()"
   ]
  },
  {
   "cell_type": "code",
   "execution_count": 128,
   "id": "6e4598d7",
   "metadata": {
    "ExecuteTime": {
     "end_time": "2024-01-19T20:37:44.619327Z",
     "start_time": "2024-01-19T20:37:44.605290Z"
    }
   },
   "outputs": [],
   "source": [
    "m1 = Manager(\"Salih\", \"Al\", 7500)"
   ]
  },
  {
   "cell_type": "code",
   "execution_count": 129,
   "id": "d646c65b",
   "metadata": {
    "ExecuteTime": {
     "end_time": "2024-01-19T20:38:01.212701Z",
     "start_time": "2024-01-19T20:38:01.198141Z"
    }
   },
   "outputs": [
    {
     "data": {
      "text/plain": [
       "{'name': 'Salih',\n",
       " 'surname': 'Al',\n",
       " 'salary': 7500,\n",
       " 'raise_amount': 1.1,\n",
       " 'employee': []}"
      ]
     },
     "execution_count": 129,
     "metadata": {},
     "output_type": "execute_result"
    }
   ],
   "source": [
    "m1.__dict__"
   ]
  },
  {
   "cell_type": "code",
   "execution_count": 130,
   "id": "8c8be121",
   "metadata": {
    "ExecuteTime": {
     "end_time": "2024-01-19T20:38:44.404273Z",
     "start_time": "2024-01-19T20:38:44.390317Z"
    }
   },
   "outputs": [
    {
     "name": "stdout",
     "output_type": "stream",
     "text": [
      "isim:Salih, soyisim:Al, maas:8250.0\n"
     ]
    }
   ],
   "source": [
    "m1.salary_increase()\n",
    "\n",
    "m1.person_info()"
   ]
  },
  {
   "cell_type": "code",
   "execution_count": 132,
   "id": "8524673b",
   "metadata": {
    "ExecuteTime": {
     "end_time": "2024-01-19T20:39:36.362178Z",
     "start_time": "2024-01-19T20:39:36.341871Z"
    }
   },
   "outputs": [
    {
     "data": {
      "text/plain": [
       "{'name': 'Salih',\n",
       " 'surname': 'Al',\n",
       " 'salary': 8250.0,\n",
       " 'raise_amount': 1.1,\n",
       " 'employee': [<__main__.Employees at 0x1c2b02474c0>]}"
      ]
     },
     "execution_count": 132,
     "metadata": {},
     "output_type": "execute_result"
    }
   ],
   "source": [
    "m1.add_employee(e6)\n",
    "\n",
    "m1.__dict__"
   ]
  },
  {
   "cell_type": "code",
   "execution_count": 133,
   "id": "0eeecabb",
   "metadata": {
    "ExecuteTime": {
     "end_time": "2024-01-19T20:39:55.191938Z",
     "start_time": "2024-01-19T20:39:55.182874Z"
    }
   },
   "outputs": [
    {
     "name": "stdout",
     "output_type": "stream",
     "text": [
      "isim:Can, soyisim:Al, maas:5000\n"
     ]
    }
   ],
   "source": [
    "m1.show_employee()"
   ]
  },
  {
   "cell_type": "markdown",
   "id": "96150c07",
   "metadata": {},
   "source": [
    "Bütün Classlarin birlestigi toplu kod"
   ]
  },
  {
   "cell_type": "code",
   "execution_count": 134,
   "id": "b1f8e101",
   "metadata": {
    "ExecuteTime": {
     "end_time": "2024-01-19T20:48:55.376225Z",
     "start_time": "2024-01-19T20:48:52.915429Z"
    }
   },
   "outputs": [],
   "source": [
    "import pandas as pd\n",
    "from datetime import datetime\n",
    "\n",
    "class Employees:\n",
    "    raise_rate = 1.3\n",
    "    employee_log = []\n",
    "\n",
    "    def __init__(self, isim, soyisim, maaş):\n",
    "        self.name = isim\n",
    "        self.surname = soyisim\n",
    "        self.salary = maaş\n",
    "\n",
    "    def show_info(self):\n",
    "        print(f\"Name: {self.name} Surname: {self.surname} Salary: {self.salary}\")\n",
    "\n",
    "    @classmethod\n",
    "    def log_employee_action(cls, durum, çalışan):\n",
    "        cls.employee_log.append({\n",
    "            \"Action\": durum,\n",
    "            \"Name\": çalışan.name,\n",
    "            \"Surname\": çalışan.surname,\n",
    "            \"Salary\": çalışan.salary,\n",
    "            \"process_time\": datetime.now().strftime(\"%Y-%m-%d %H:%M:%S\")\n",
    "        })\n",
    "\n",
    "class Programmer(Employees):\n",
    "    def __init__(self, isim, soyisim, maaş, dil):\n",
    "        super().__init__(isim, soyisim, maaş)\n",
    "        self.program_language = dil\n",
    "    raise_rate = 1.5\n",
    "\n",
    "class Manager(Employees):\n",
    "    def __init__(self, isim, soyisim, maaş, çalışan=None):\n",
    "        super().__init__(isim, soyisim, maaş)\n",
    "        self.employee = çalışan if çalışan else []\n",
    "\n",
    "    def add_employe(self, çalışan):\n",
    "        if çalışan not in self.employee:\n",
    "            self.employee.append(çalışan)\n",
    "            Employees.log_employee_action(\"Added\", çalışan)\n",
    "\n",
    "    def remove_employe(self, çalışan):\n",
    "        if çalışan in self.employee:\n",
    "            self.employee.remove(çalışan)\n",
    "            Employees.log_employee_action(\"Removed\", çalışan)\n",
    "\n",
    "    def show_employe(self):\n",
    "        for i in self.employee:\n",
    "            i.show_info()"
   ]
  },
  {
   "cell_type": "code",
   "execution_count": 135,
   "id": "2098e716",
   "metadata": {
    "ExecuteTime": {
     "end_time": "2024-01-19T20:53:35.918110Z",
     "start_time": "2024-01-19T20:53:35.913201Z"
    }
   },
   "outputs": [],
   "source": [
    "e1 = Employees(\"A1\", \"Al\", 3000)"
   ]
  },
  {
   "cell_type": "code",
   "execution_count": 136,
   "id": "efec95ed",
   "metadata": {
    "ExecuteTime": {
     "end_time": "2024-01-19T20:53:36.712329Z",
     "start_time": "2024-01-19T20:53:36.694191Z"
    }
   },
   "outputs": [],
   "source": [
    "e2 = Employees(\"A2\", \"Al\", 3200)"
   ]
  },
  {
   "cell_type": "code",
   "execution_count": 137,
   "id": "51c28e0c",
   "metadata": {
    "ExecuteTime": {
     "end_time": "2024-01-19T20:53:38.925439Z",
     "start_time": "2024-01-19T20:53:38.911884Z"
    }
   },
   "outputs": [],
   "source": [
    "e3 = Employees(\"A3\", \"Al\", 3600)"
   ]
  },
  {
   "cell_type": "code",
   "execution_count": 138,
   "id": "08488f87",
   "metadata": {
    "ExecuteTime": {
     "end_time": "2024-01-19T20:53:39.560680Z",
     "start_time": "2024-01-19T20:53:39.546414Z"
    }
   },
   "outputs": [],
   "source": [
    "p1 = Programmer(\"B1\", \"Al\", 4000, \"Phyton\")"
   ]
  },
  {
   "cell_type": "code",
   "execution_count": 139,
   "id": "0648bce6",
   "metadata": {
    "ExecuteTime": {
     "end_time": "2024-01-19T20:53:40.352477Z",
     "start_time": "2024-01-19T20:53:40.339500Z"
    }
   },
   "outputs": [],
   "source": [
    "p2 = Programmer(\"B2\", \"Al\", 4100, \"C++\")"
   ]
  },
  {
   "cell_type": "code",
   "execution_count": 140,
   "id": "61695c23",
   "metadata": {
    "ExecuteTime": {
     "end_time": "2024-01-19T20:53:41.243733Z",
     "start_time": "2024-01-19T20:53:41.240621Z"
    }
   },
   "outputs": [],
   "source": [
    "p3 = Programmer(\"B3\", \"Al\", 4200, \"java\")"
   ]
  },
  {
   "cell_type": "code",
   "execution_count": 141,
   "id": "da409409",
   "metadata": {
    "ExecuteTime": {
     "end_time": "2024-01-19T20:53:42.412609Z",
     "start_time": "2024-01-19T20:53:42.397404Z"
    }
   },
   "outputs": [],
   "source": [
    "m1 = Manager(\"C1\", \"Al\", 5000)"
   ]
  },
  {
   "cell_type": "code",
   "execution_count": 142,
   "id": "1c5d205f",
   "metadata": {
    "ExecuteTime": {
     "end_time": "2024-01-19T20:55:00.485902Z",
     "start_time": "2024-01-19T20:55:00.471084Z"
    }
   },
   "outputs": [],
   "source": [
    "m1.add_employe(e1)\n",
    "m1.add_employe(e2)\n",
    "m1.add_employe(e3)\n",
    "m1.add_employe(p1)\n",
    "m1.remove_employe(e3)"
   ]
  },
  {
   "cell_type": "code",
   "execution_count": 143,
   "id": "d24d9f98",
   "metadata": {
    "ExecuteTime": {
     "end_time": "2024-01-19T20:56:39.518506Z",
     "start_time": "2024-01-19T20:56:39.012382Z"
    }
   },
   "outputs": [],
   "source": [
    "employee_df = pd.DataFrame(Employees.employee_log)\n",
    "employee_df.to_excel(\"log_kayitlari.xlsx\", index=False)"
   ]
  },
  {
   "cell_type": "code",
   "execution_count": null,
   "id": "e1d19c09",
   "metadata": {},
   "outputs": [],
   "source": []
  }
 ],
 "metadata": {
  "hide_input": false,
  "kernelspec": {
   "display_name": "Python (3.10.8)",
   "language": "python",
   "name": "3.10.8"
  },
  "language_info": {
   "codemirror_mode": {
    "name": "ipython",
    "version": 3
   },
   "file_extension": ".py",
   "mimetype": "text/x-python",
   "name": "python",
   "nbconvert_exporter": "python",
   "pygments_lexer": "ipython3",
   "version": "3.10.8"
  },
  "nbTranslate": {
   "displayLangs": [
    "*"
   ],
   "hotkey": "alt-t",
   "langInMainMenu": true,
   "sourceLang": "en",
   "targetLang": "fr",
   "useGoogleTranslate": true
  },
  "toc": {
   "base_numbering": 1,
   "nav_menu": {},
   "number_sections": true,
   "sideBar": true,
   "skip_h1_title": false,
   "title_cell": "Table of Contents",
   "title_sidebar": "Contents",
   "toc_cell": false,
   "toc_position": {},
   "toc_section_display": true,
   "toc_window_display": false
  }
 },
 "nbformat": 4,
 "nbformat_minor": 5
}
