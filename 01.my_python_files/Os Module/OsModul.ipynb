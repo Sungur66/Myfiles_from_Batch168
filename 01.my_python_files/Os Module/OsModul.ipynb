{
 "cells": [
  {
   "cell_type": "code",
   "execution_count": 1,
   "id": "2f07e4be",
   "metadata": {
    "ExecuteTime": {
     "end_time": "2024-01-18T18:12:25.346781Z",
     "start_time": "2024-01-18T18:12:25.341300Z"
    }
   },
   "outputs": [],
   "source": [
    "import os"
   ]
  },
  {
   "cell_type": "code",
   "execution_count": 2,
   "id": "3750155a",
   "metadata": {
    "ExecuteTime": {
     "end_time": "2024-01-18T18:12:52.300111Z",
     "start_time": "2024-01-18T18:12:52.295666Z"
    }
   },
   "outputs": [
    {
     "name": "stdout",
     "output_type": "stream",
     "text": [
      "C:\\Users\\nsgr6\\Documents\\IT-KURSLARIM\\GITHUB\\Myfiles_from_Batch168\\01.my_python_files\\Os Module\n"
     ]
    }
   ],
   "source": [
    "print(os.getcwd())"
   ]
  },
  {
   "cell_type": "code",
   "execution_count": 3,
   "id": "6c8aeaa9",
   "metadata": {
    "ExecuteTime": {
     "end_time": "2024-01-18T18:16:15.208068Z",
     "start_time": "2024-01-18T18:16:14.463812Z"
    }
   },
   "outputs": [
    {
     "ename": "FileNotFoundError",
     "evalue": "[WinError 2] The system cannot find the file specified: 'sample1'",
     "output_type": "error",
     "traceback": [
      "\u001b[1;31m---------------------------------------------------------------------------\u001b[0m",
      "\u001b[1;31mFileNotFoundError\u001b[0m                         Traceback (most recent call last)",
      "Cell \u001b[1;32mIn[3], line 1\u001b[0m\n\u001b[1;32m----> 1\u001b[0m \u001b[43mos\u001b[49m\u001b[38;5;241;43m.\u001b[39;49m\u001b[43mchdir\u001b[49m\u001b[43m(\u001b[49m\u001b[38;5;124;43m\"\u001b[39;49m\u001b[38;5;124;43msample1\u001b[39;49m\u001b[38;5;124;43m\"\u001b[39;49m\u001b[43m)\u001b[49m\n",
      "\u001b[1;31mFileNotFoundError\u001b[0m: [WinError 2] The system cannot find the file specified: 'sample1'"
     ]
    }
   ],
   "source": [
    "# os.chdir(\"sample1\")\n",
    "\n",
    "#FileNotFoundError: [WinError 2] The system cannot find the file specified: 'sample1'   bu hatayi aliyirz"
   ]
  },
  {
   "cell_type": "code",
   "execution_count": 4,
   "id": "8de717d9",
   "metadata": {
    "ExecuteTime": {
     "end_time": "2024-01-18T18:18:19.265884Z",
     "start_time": "2024-01-18T18:18:19.256612Z"
    }
   },
   "outputs": [
    {
     "ename": "SyntaxError",
     "evalue": "(unicode error) 'unicodeescape' codec can't decode bytes in position 2-3: truncated \\UXXXXXXXX escape (391413399.py, line 1)",
     "output_type": "error",
     "traceback": [
      "\u001b[1;36m  Cell \u001b[1;32mIn[4], line 1\u001b[1;36m\u001b[0m\n\u001b[1;33m    os.chdir(\"C:\\Users\\nsgr6\\Documents\\IT-KURSLARIM\\GITHUB\\Myfiles_from_Batch168\\01.my_python_files\")\u001b[0m\n\u001b[1;37m                                                                                                    ^\u001b[0m\n\u001b[1;31mSyntaxError\u001b[0m\u001b[1;31m:\u001b[0m (unicode error) 'unicodeescape' codec can't decode bytes in position 2-3: truncated \\UXXXXXXXX escape\n"
     ]
    }
   ],
   "source": [
    "os.chdir(\"C:\\Users\\nsgr6\\Documents\\IT-KURSLARIM\\GITHUB\\Myfiles_from_Batch168\\01.my_python_files\")"
   ]
  },
  {
   "cell_type": "code",
   "execution_count": 5,
   "id": "891b1ab8",
   "metadata": {
    "ExecuteTime": {
     "end_time": "2024-01-18T18:18:39.969136Z",
     "start_time": "2024-01-18T18:18:39.964773Z"
    }
   },
   "outputs": [],
   "source": [
    "os.chdir(r\"C:\\Users\\nsgr6\\Documents\\IT-KURSLARIM\\GITHUB\\Myfiles_from_Batch168\\01.my_python_files\")\n",
    "\n",
    "# calistigimiz dosyayi degistirmis olduk"
   ]
  },
  {
   "cell_type": "code",
   "execution_count": 6,
   "id": "bbc1c08b",
   "metadata": {
    "ExecuteTime": {
     "end_time": "2024-01-18T18:25:57.346566Z",
     "start_time": "2024-01-18T18:25:57.342002Z"
    }
   },
   "outputs": [],
   "source": [
    "os.chdir(r\"C:\\Users\\nsgr6\\Documents\\IT-KURSLARIM\\GITHUB\\Myfiles_from_Batch168\\01.my_python_files\\Os Module\")"
   ]
  },
  {
   "cell_type": "code",
   "execution_count": 7,
   "id": "f3d68e92",
   "metadata": {
    "ExecuteTime": {
     "end_time": "2024-01-18T18:26:11.214940Z",
     "start_time": "2024-01-18T18:26:11.208647Z"
    }
   },
   "outputs": [
    {
     "name": "stdout",
     "output_type": "stream",
     "text": [
      "C:\\Users\\nsgr6\\Documents\\IT-KURSLARIM\\GITHUB\\Myfiles_from_Batch168\\01.my_python_files\n"
     ]
    }
   ],
   "source": [
    "cd .."
   ]
  },
  {
   "cell_type": "code",
   "execution_count": 8,
   "id": "68dcf137",
   "metadata": {
    "ExecuteTime": {
     "end_time": "2024-01-18T18:27:30.501619Z",
     "start_time": "2024-01-18T18:27:30.495436Z"
    }
   },
   "outputs": [
    {
     "name": "stdout",
     "output_type": "stream",
     "text": [
      "C:\\Users\\nsgr6\\Documents\\IT-KURSLARIM\\GITHUB\\Myfiles_from_Batch168\\01.my_python_files\\Os Module\n"
     ]
    }
   ],
   "source": [
    "%cd \"Os Module\\\""
   ]
  },
  {
   "cell_type": "code",
   "execution_count": 9,
   "id": "5badf89d",
   "metadata": {
    "ExecuteTime": {
     "end_time": "2024-01-18T18:28:18.521056Z",
     "start_time": "2024-01-18T18:28:18.511559Z"
    }
   },
   "outputs": [
    {
     "data": {
      "text/plain": [
       "['.ipynb_checkpoints',\n",
       " 'adult_eda.csv',\n",
       " 'advantage_of_python.txt',\n",
       " 'Untitled.ipynb']"
      ]
     },
     "execution_count": 9,
     "metadata": {},
     "output_type": "execute_result"
    }
   ],
   "source": [
    "os.listdir()"
   ]
  },
  {
   "cell_type": "code",
   "execution_count": 10,
   "id": "2f50a599",
   "metadata": {
    "ExecuteTime": {
     "end_time": "2024-01-18T18:31:23.965288Z",
     "start_time": "2024-01-18T18:31:23.958926Z"
    }
   },
   "outputs": [
    {
     "name": "stdout",
     "output_type": "stream",
     "text": [
      ".ipynb_checkpoints\n",
      "adult_eda.csv\n",
      "advantage_of_python.txt\n",
      "Untitled.ipynb\n"
     ]
    }
   ],
   "source": [
    "directory_list = os.listdir()\n",
    "\n",
    "for i in directory_list:\n",
    "    print(i)"
   ]
  },
  {
   "cell_type": "code",
   "execution_count": 11,
   "id": "b2d26de6",
   "metadata": {
    "ExecuteTime": {
     "end_time": "2024-01-18T18:33:59.731523Z",
     "start_time": "2024-01-18T18:33:59.725953Z"
    }
   },
   "outputs": [],
   "source": [
    "os.listdir().remove(\"adult_eda.csv\") # islem yapti ama gercekte silmedi"
   ]
  },
  {
   "cell_type": "code",
   "execution_count": 12,
   "id": "0d122a63",
   "metadata": {
    "ExecuteTime": {
     "end_time": "2024-01-18T18:34:08.537073Z",
     "start_time": "2024-01-18T18:34:08.532228Z"
    }
   },
   "outputs": [
    {
     "name": "stdout",
     "output_type": "stream",
     "text": [
      ".ipynb_checkpoints\n",
      "adult_eda.csv\n",
      "advantage_of_python.txt\n",
      "Untitled.ipynb\n"
     ]
    }
   ],
   "source": [
    "directory_list = os.listdir()\n",
    "\n",
    "for i in directory_list:\n",
    "    print(i)"
   ]
  },
  {
   "cell_type": "code",
   "execution_count": 13,
   "id": "4cb69ca5",
   "metadata": {
    "ExecuteTime": {
     "end_time": "2024-01-18T18:34:40.829013Z",
     "start_time": "2024-01-18T18:34:40.822130Z"
    }
   },
   "outputs": [
    {
     "data": {
      "text/plain": [
       "'C:\\\\Users\\\\nsgr6\\\\Documents\\\\IT-KURSLARIM\\\\GITHUB\\\\Myfiles_from_Batch168\\\\01.my_python_files\\\\Os Module'"
      ]
     },
     "execution_count": 13,
     "metadata": {},
     "output_type": "execute_result"
    }
   ],
   "source": [
    "os.getcwd()"
   ]
  },
  {
   "cell_type": "code",
   "execution_count": 15,
   "id": "b595c7d4",
   "metadata": {
    "ExecuteTime": {
     "end_time": "2024-01-18T18:35:34.884210Z",
     "start_time": "2024-01-18T18:35:34.879603Z"
    }
   },
   "outputs": [],
   "source": [
    "os.mkdir(\"new_folder_deneme\")"
   ]
  },
  {
   "cell_type": "code",
   "execution_count": 17,
   "id": "61f99362",
   "metadata": {
    "ExecuteTime": {
     "end_time": "2024-01-18T18:36:21.376274Z",
     "start_time": "2024-01-18T18:36:21.372839Z"
    }
   },
   "outputs": [],
   "source": [
    "os.listdir().remove(\"new_folder\")"
   ]
  },
  {
   "cell_type": "code",
   "execution_count": 19,
   "id": "bef219aa",
   "metadata": {
    "ExecuteTime": {
     "end_time": "2024-01-18T18:41:12.107875Z",
     "start_time": "2024-01-18T18:41:12.086820Z"
    }
   },
   "outputs": [
    {
     "ename": "FileExistsError",
     "evalue": "[WinError 183] Cannot create a file when that file already exists: 'C:\\\\Users\\\\nsgr6\\\\Documents\\\\IT-KURSLARIM\\\\GITHUB\\\\Myfiles_from_Batch168\\\\01.my_python_files\\\\Os Module\\\\new_folder2'",
     "output_type": "error",
     "traceback": [
      "\u001b[1;31m---------------------------------------------------------------------------\u001b[0m",
      "\u001b[1;31mFileExistsError\u001b[0m                           Traceback (most recent call last)",
      "Cell \u001b[1;32mIn[19], line 1\u001b[0m\n\u001b[1;32m----> 1\u001b[0m \u001b[43mos\u001b[49m\u001b[38;5;241;43m.\u001b[39;49m\u001b[43mmkdir\u001b[49m\u001b[43m(\u001b[49m\u001b[38;5;124;43mr\u001b[39;49m\u001b[38;5;124;43m\"\u001b[39;49m\u001b[38;5;124;43mC:\u001b[39;49m\u001b[38;5;124;43m\\\u001b[39;49m\u001b[38;5;124;43mUsers\u001b[39;49m\u001b[38;5;124;43m\\\u001b[39;49m\u001b[38;5;124;43mnsgr6\u001b[39;49m\u001b[38;5;124;43m\\\u001b[39;49m\u001b[38;5;124;43mDocuments\u001b[39;49m\u001b[38;5;124;43m\\\u001b[39;49m\u001b[38;5;124;43mIT-KURSLARIM\u001b[39;49m\u001b[38;5;124;43m\\\u001b[39;49m\u001b[38;5;124;43mGITHUB\u001b[39;49m\u001b[38;5;124;43m\\\u001b[39;49m\u001b[38;5;124;43mMyfiles_from_Batch168\u001b[39;49m\u001b[38;5;124;43m\\\u001b[39;49m\u001b[38;5;124;43m01.my_python_files\u001b[39;49m\u001b[38;5;124;43m\\\u001b[39;49m\u001b[38;5;124;43mOs Module\u001b[39;49m\u001b[38;5;124;43m\\\u001b[39;49m\u001b[38;5;124;43mnew_folder2\u001b[39;49m\u001b[38;5;124;43m\"\u001b[39;49m\u001b[43m)\u001b[49m\n",
      "\u001b[1;31mFileExistsError\u001b[0m: [WinError 183] Cannot create a file when that file already exists: 'C:\\\\Users\\\\nsgr6\\\\Documents\\\\IT-KURSLARIM\\\\GITHUB\\\\Myfiles_from_Batch168\\\\01.my_python_files\\\\Os Module\\\\new_folder2'"
     ]
    }
   ],
   "source": [
    "os.mkdir(r\"C:\\Users\\nsgr6\\Documents\\IT-KURSLARIM\\GITHUB\\Myfiles_from_Batch168\\01.my_python_files\\Os Module\\new_folder2\")"
   ]
  },
  {
   "cell_type": "code",
   "execution_count": 20,
   "id": "40c78c6c",
   "metadata": {
    "ExecuteTime": {
     "end_time": "2024-01-18T18:43:03.103202Z",
     "start_time": "2024-01-18T18:43:03.098549Z"
    }
   },
   "outputs": [],
   "source": [
    "os.makedirs(r\"C:\\Users\\nsgr6\\Documents\\IT-KURSLARIM\\GITHUB\\Myfiles_from_Batch168\\01.my_python_files\\Os Module\\icice\\icice1\\icice2\")"
   ]
  },
  {
   "cell_type": "code",
   "execution_count": 23,
   "id": "6fe4e953",
   "metadata": {
    "ExecuteTime": {
     "end_time": "2024-01-18T18:45:08.273323Z",
     "start_time": "2024-01-18T18:45:08.269690Z"
    }
   },
   "outputs": [],
   "source": [
    "os.rmdir(r\"C:\\Users\\nsgr6\\Documents\\IT-KURSLARIM\\GITHUB\\Myfiles_from_Batch168\\01.my_python_files\\Os Module\\icice\\icice1\\icice2\")"
   ]
  },
  {
   "cell_type": "code",
   "execution_count": 22,
   "id": "e3b81011",
   "metadata": {
    "ExecuteTime": {
     "end_time": "2024-01-18T18:44:10.499340Z",
     "start_time": "2024-01-18T18:44:10.480905Z"
    }
   },
   "outputs": [
    {
     "ename": "OSError",
     "evalue": "[WinError 145] The directory is not empty: 'C:\\\\Users\\\\nsgr6\\\\Documents\\\\IT-KURSLARIM\\\\GITHUB\\\\Myfiles_from_Batch168\\\\01.my_python_files\\\\Os Module\\\\icice'",
     "output_type": "error",
     "traceback": [
      "\u001b[1;31m---------------------------------------------------------------------------\u001b[0m",
      "\u001b[1;31mOSError\u001b[0m                                   Traceback (most recent call last)",
      "Cell \u001b[1;32mIn[22], line 1\u001b[0m\n\u001b[1;32m----> 1\u001b[0m \u001b[43mos\u001b[49m\u001b[38;5;241;43m.\u001b[39;49m\u001b[43mrmdir\u001b[49m\u001b[43m(\u001b[49m\u001b[38;5;124;43mr\u001b[39;49m\u001b[38;5;124;43m\"\u001b[39;49m\u001b[38;5;124;43mC:\u001b[39;49m\u001b[38;5;124;43m\\\u001b[39;49m\u001b[38;5;124;43mUsers\u001b[39;49m\u001b[38;5;124;43m\\\u001b[39;49m\u001b[38;5;124;43mnsgr6\u001b[39;49m\u001b[38;5;124;43m\\\u001b[39;49m\u001b[38;5;124;43mDocuments\u001b[39;49m\u001b[38;5;124;43m\\\u001b[39;49m\u001b[38;5;124;43mIT-KURSLARIM\u001b[39;49m\u001b[38;5;124;43m\\\u001b[39;49m\u001b[38;5;124;43mGITHUB\u001b[39;49m\u001b[38;5;124;43m\\\u001b[39;49m\u001b[38;5;124;43mMyfiles_from_Batch168\u001b[39;49m\u001b[38;5;124;43m\\\u001b[39;49m\u001b[38;5;124;43m01.my_python_files\u001b[39;49m\u001b[38;5;124;43m\\\u001b[39;49m\u001b[38;5;124;43mOs Module\u001b[39;49m\u001b[38;5;124;43m\\\u001b[39;49m\u001b[38;5;124;43micice\u001b[39;49m\u001b[38;5;124;43m\"\u001b[39;49m\u001b[43m)\u001b[49m\n",
      "\u001b[1;31mOSError\u001b[0m: [WinError 145] The directory is not empty: 'C:\\\\Users\\\\nsgr6\\\\Documents\\\\IT-KURSLARIM\\\\GITHUB\\\\Myfiles_from_Batch168\\\\01.my_python_files\\\\Os Module\\\\icice'"
     ]
    }
   ],
   "source": [
    "os.rmdir(r\"C:\\Users\\nsgr6\\Documents\\IT-KURSLARIM\\GITHUB\\Myfiles_from_Batch168\\01.my_python_files\\Os Module\\icice\")\n",
    "\n",
    "#silinecek dosya bos ise islem yapar"
   ]
  },
  {
   "cell_type": "code",
   "execution_count": 26,
   "id": "4beba8f2",
   "metadata": {
    "ExecuteTime": {
     "end_time": "2024-01-18T18:53:26.889500Z",
     "start_time": "2024-01-18T18:53:26.884132Z"
    }
   },
   "outputs": [
    {
     "name": "stdout",
     "output_type": "stream",
     "text": [
      "('C:\\\\Users\\\\nsgr6\\\\Documents\\\\IT-KURSLARIM\\\\GITHUB\\\\Myfiles_from_Batch168\\\\01.my_python_files\\\\Os Module', ['.ipynb_checkpoints', 'icice', 'new_folder', 'new_folder2', 'new_folder_deneme'], ['adult_eda.csv', 'advantage_of_python.txt', 'Untitled.ipynb'])\n",
      "('C:\\\\Users\\\\nsgr6\\\\Documents\\\\IT-KURSLARIM\\\\GITHUB\\\\Myfiles_from_Batch168\\\\01.my_python_files\\\\Os Module\\\\.ipynb_checkpoints', [], ['Untitled-checkpoint.ipynb'])\n",
      "('C:\\\\Users\\\\nsgr6\\\\Documents\\\\IT-KURSLARIM\\\\GITHUB\\\\Myfiles_from_Batch168\\\\01.my_python_files\\\\Os Module\\\\icice', ['icice1'], [])\n",
      "('C:\\\\Users\\\\nsgr6\\\\Documents\\\\IT-KURSLARIM\\\\GITHUB\\\\Myfiles_from_Batch168\\\\01.my_python_files\\\\Os Module\\\\icice\\\\icice1', [], [])\n",
      "('C:\\\\Users\\\\nsgr6\\\\Documents\\\\IT-KURSLARIM\\\\GITHUB\\\\Myfiles_from_Batch168\\\\01.my_python_files\\\\Os Module\\\\new_folder', [], [])\n",
      "('C:\\\\Users\\\\nsgr6\\\\Documents\\\\IT-KURSLARIM\\\\GITHUB\\\\Myfiles_from_Batch168\\\\01.my_python_files\\\\Os Module\\\\new_folder2', [], [])\n",
      "('C:\\\\Users\\\\nsgr6\\\\Documents\\\\IT-KURSLARIM\\\\GITHUB\\\\Myfiles_from_Batch168\\\\01.my_python_files\\\\Os Module\\\\new_folder_deneme', [], [])\n"
     ]
    }
   ],
   "source": [
    "for i in os.walk(r\"C:\\Users\\nsgr6\\Documents\\IT-KURSLARIM\\GITHUB\\Myfiles_from_Batch168\\01.my_python_files\\Os Module\"):\n",
    "    print(i)"
   ]
  },
  {
   "cell_type": "code",
   "execution_count": 27,
   "id": "de459525",
   "metadata": {
    "ExecuteTime": {
     "end_time": "2024-01-18T18:55:07.535353Z",
     "start_time": "2024-01-18T18:55:07.529534Z"
    }
   },
   "outputs": [
    {
     "name": "stdout",
     "output_type": "stream",
     "text": [
      "Klasör yolu:  C:\\Users\\nsgr6\\Documents\\IT-KURSLARIM\\GITHUB\\Myfiles_from_Batch168\\01.my_python_files\\Os Module\n",
      "Klasörler:  ['.ipynb_checkpoints', 'icice', 'new_folder', 'new_folder2', 'new_folder_deneme']\n",
      "dosyalar:  ['adult_eda.csv', 'advantage_of_python.txt', 'Untitled.ipynb']\n",
      "\n",
      "Klasör yolu:  C:\\Users\\nsgr6\\Documents\\IT-KURSLARIM\\GITHUB\\Myfiles_from_Batch168\\01.my_python_files\\Os Module\\.ipynb_checkpoints\n",
      "Klasörler:  []\n",
      "dosyalar:  ['Untitled-checkpoint.ipynb']\n",
      "\n",
      "Klasör yolu:  C:\\Users\\nsgr6\\Documents\\IT-KURSLARIM\\GITHUB\\Myfiles_from_Batch168\\01.my_python_files\\Os Module\\icice\n",
      "Klasörler:  ['icice1']\n",
      "dosyalar:  []\n",
      "\n",
      "Klasör yolu:  C:\\Users\\nsgr6\\Documents\\IT-KURSLARIM\\GITHUB\\Myfiles_from_Batch168\\01.my_python_files\\Os Module\\icice\\icice1\n",
      "Klasörler:  []\n",
      "dosyalar:  []\n",
      "\n",
      "Klasör yolu:  C:\\Users\\nsgr6\\Documents\\IT-KURSLARIM\\GITHUB\\Myfiles_from_Batch168\\01.my_python_files\\Os Module\\new_folder\n",
      "Klasörler:  []\n",
      "dosyalar:  []\n",
      "\n",
      "Klasör yolu:  C:\\Users\\nsgr6\\Documents\\IT-KURSLARIM\\GITHUB\\Myfiles_from_Batch168\\01.my_python_files\\Os Module\\new_folder2\n",
      "Klasörler:  []\n",
      "dosyalar:  []\n",
      "\n",
      "Klasör yolu:  C:\\Users\\nsgr6\\Documents\\IT-KURSLARIM\\GITHUB\\Myfiles_from_Batch168\\01.my_python_files\\Os Module\\new_folder_deneme\n",
      "Klasörler:  []\n",
      "dosyalar:  []\n",
      "\n"
     ]
    }
   ],
   "source": [
    "for i in os.walk(r\"C:\\Users\\nsgr6\\Documents\\IT-KURSLARIM\\GITHUB\\Myfiles_from_Batch168\\01.my_python_files\\Os Module\"):\n",
    "    print(\"Klasör yolu: \", i[0])\n",
    "    print(\"Klasörler: \", i[1])\n",
    "    print(\"dosyalar: \", i[2])\n",
    "    print()"
   ]
  },
  {
   "cell_type": "markdown",
   "id": "240e2665",
   "metadata": {},
   "source": [
    "# File Operations"
   ]
  },
  {
   "cell_type": "code",
   "execution_count": 28,
   "id": "ee0955b0",
   "metadata": {
    "ExecuteTime": {
     "end_time": "2024-01-18T19:10:27.428487Z",
     "start_time": "2024-01-18T19:10:27.419556Z"
    }
   },
   "outputs": [
    {
     "data": {
      "text/plain": [
       "'C:\\\\Users\\\\nsgr6\\\\Documents\\\\IT-KURSLARIM\\\\GITHUB\\\\Myfiles_from_Batch168\\\\01.my_python_files\\\\Os Module'"
      ]
     },
     "execution_count": 28,
     "metadata": {},
     "output_type": "execute_result"
    }
   ],
   "source": [
    "os.getcwd()"
   ]
  },
  {
   "cell_type": "code",
   "execution_count": 33,
   "id": "8f18f8ea",
   "metadata": {
    "ExecuteTime": {
     "end_time": "2024-01-18T19:14:19.190631Z",
     "start_time": "2024-01-18T19:14:19.182221Z"
    }
   },
   "outputs": [],
   "source": [
    "f = open(\"advantage_of_python.txt\", mode = \"r\", encoding='utf-8')"
   ]
  },
  {
   "cell_type": "code",
   "execution_count": 34,
   "id": "1afadc3f",
   "metadata": {
    "ExecuteTime": {
     "end_time": "2024-01-18T19:14:20.707498Z",
     "start_time": "2024-01-18T19:14:20.689368Z"
    }
   },
   "outputs": [
    {
     "name": "stdout",
     "output_type": "stream",
     "text": [
      "Kolay Okunabilirlik ve Sadelik\n",
      "Python, okunması ve anlaşılması kolay olan bir dildir. Bu dil, insan diline yakın bir söz dizimine sahiptir ve açık bir yapıya sahiptir. Yani, başka bir Python programcısının yazdığı kodları kolayca anlayabilirsiniz.\n",
      "\n",
      "Ayrıca, Python'un basit ve sade söz dizimi, programcıların hızlı bir şekilde kod yazmalarını sağlar. Kodun anlaşılması ve yazılması daha kolay olduğundan, programcılar daha az zaman harcayarak daha fazla iş yapabilirler.\n",
      "\n",
      "Çok Yönlülük\n",
      "Python, birçok farklı alanda kullanılabilen bir dil olarak tanınır. Veri bilimi, yapay zeka, makine öğrenmesi, web geliştirme, otomasyon ve daha pek çok alanda kullanılabilir.\n",
      "\n",
      "Python, çeşitli kütüphaneleri ve modülleri ile birlikte gelir. Bu kütüphaneler, birçok farklı alanda kullanılabilecek araçlar sunar ve Python'u daha da çok yönlü bir hale getirir.\n",
      "\n",
      "Büyük Topluluk ve Kapsamlı Belgelendirme\n",
      "Python'un en büyük avantajlarından biri, dünya çapında büyük bir topluluğa sahip olmasıdır. Bu topluluk, Python'u kullanan programcılara yardımcı olmak için birçok kaynak sunar. Ayrıca, Python'un kapsamlı bir belgelendirmesi vardır ve programcılar, ihtiyaç duydukları herhangi bir konuda bilgi edinmek için belgelendirmeyi kullanabilirler.\n",
      "\n",
      "Ücretsiz ve Açık Kaynaklı\n",
      "Python, ücretsiz ve açık kaynaklı bir dildir. Bu, programcıların Python'u kullanarak projelerine başlamaları için herhangi bir ücret ödemelerine gerek olmadığı anlamına gelir. Python, tüm dünyadaki programcılar tarafından geliştirilmeye açıktır ve bu da Python topluluğunun büyümesine ve gelişmesine katkıda bulunur.\n",
      "\n",
      "Sonuç\n",
      "Python, kolay okunabilirlik, çok yönlülük, büyük topluluk ve kapsamlı belgelendirme, ücretsiz ve açık kaynaklı olma gibi birçok avantajıyla öne çıkar. Bu nedenle, Python son yıllarda birçok farklı alanda kullanılan en popüler dillerden biri haline gelmiştir.\n",
      "\n"
     ]
    }
   ],
   "source": [
    "icerik = f.read()\n",
    "print(icerik)"
   ]
  },
  {
   "cell_type": "code",
   "execution_count": 35,
   "id": "0ba9510c",
   "metadata": {
    "ExecuteTime": {
     "end_time": "2024-01-18T19:15:33.788410Z",
     "start_time": "2024-01-18T19:15:33.779760Z"
    }
   },
   "outputs": [
    {
     "data": {
      "text/plain": [
       "str"
      ]
     },
     "execution_count": 35,
     "metadata": {},
     "output_type": "execute_result"
    }
   ],
   "source": [
    "type(icerik)"
   ]
  },
  {
   "cell_type": "code",
   "execution_count": 36,
   "id": "72da3a08",
   "metadata": {
    "ExecuteTime": {
     "end_time": "2024-01-18T19:16:00.433720Z",
     "start_time": "2024-01-18T19:16:00.419278Z"
    }
   },
   "outputs": [
    {
     "data": {
      "text/plain": [
       "str"
      ]
     },
     "execution_count": 36,
     "metadata": {},
     "output_type": "execute_result"
    }
   ],
   "source": [
    "type(f.read())"
   ]
  },
  {
   "cell_type": "code",
   "execution_count": 37,
   "id": "c9915ed1",
   "metadata": {
    "ExecuteTime": {
     "end_time": "2024-01-18T19:16:20.408734Z",
     "start_time": "2024-01-18T19:16:20.394469Z"
    }
   },
   "outputs": [
    {
     "data": {
      "text/plain": [
       "builtin_function_or_method"
      ]
     },
     "execution_count": 37,
     "metadata": {},
     "output_type": "execute_result"
    }
   ],
   "source": [
    "type(f.read)  #f.read in ne oldugunu yzdi"
   ]
  },
  {
   "cell_type": "code",
   "execution_count": 38,
   "id": "b42ac698",
   "metadata": {
    "ExecuteTime": {
     "end_time": "2024-01-18T19:17:18.384176Z",
     "start_time": "2024-01-18T19:17:18.363248Z"
    }
   },
   "outputs": [
    {
     "name": "stdout",
     "output_type": "stream",
     "text": [
      "Kolay Okunabilirlik ve Sadelik\n",
      "Python, okunması ve anlaşılması kolay olan bir dildir. Bu dil, insan \n"
     ]
    }
   ],
   "source": [
    "f = open(\"advantage_of_python.txt\", mode = \"r\", encoding='utf-8')\n",
    "print(f.read()[:100])  # bastan itibaran 100 karakteri aldik"
   ]
  },
  {
   "cell_type": "code",
   "execution_count": 39,
   "id": "ac7da7cd",
   "metadata": {
    "ExecuteTime": {
     "end_time": "2024-01-18T19:18:13.205253Z",
     "start_time": "2024-01-18T19:18:13.194536Z"
    }
   },
   "outputs": [
    {
     "data": {
      "text/plain": [
       "''"
      ]
     },
     "execution_count": 39,
     "metadata": {},
     "output_type": "execute_result"
    }
   ],
   "source": [
    "f.read()    # kurzer/imlec textin sonucuna gittigi icin bos küme. kurzerin nerde oldugunu söyler."
   ]
  },
  {
   "cell_type": "code",
   "execution_count": 40,
   "id": "3331b8f1",
   "metadata": {
    "ExecuteTime": {
     "end_time": "2024-01-18T19:20:53.262447Z",
     "start_time": "2024-01-18T19:20:53.250092Z"
    }
   },
   "outputs": [
    {
     "data": {
      "text/plain": [
       "False"
      ]
     },
     "execution_count": 40,
     "metadata": {},
     "output_type": "execute_result"
    }
   ],
   "source": [
    "f.closed    # dosya kapalimi diye sormak icin"
   ]
  },
  {
   "cell_type": "code",
   "execution_count": 41,
   "id": "fe0b6fa1",
   "metadata": {
    "ExecuteTime": {
     "end_time": "2024-01-18T19:21:07.319131Z",
     "start_time": "2024-01-18T19:21:07.306398Z"
    }
   },
   "outputs": [],
   "source": [
    "f.close()  # dosyayi kapattik."
   ]
  },
  {
   "cell_type": "code",
   "execution_count": 42,
   "id": "4033990c",
   "metadata": {
    "ExecuteTime": {
     "end_time": "2024-01-18T19:21:43.350907Z",
     "start_time": "2024-01-18T19:21:43.339021Z"
    }
   },
   "outputs": [
    {
     "data": {
      "text/plain": [
       "True"
      ]
     },
     "execution_count": 42,
     "metadata": {},
     "output_type": "execute_result"
    }
   ],
   "source": [
    "f.closed"
   ]
  },
  {
   "cell_type": "code",
   "execution_count": 47,
   "id": "bed8ecf6",
   "metadata": {
    "ExecuteTime": {
     "end_time": "2024-01-18T19:29:05.181865Z",
     "start_time": "2024-01-18T19:29:05.151507Z"
    }
   },
   "outputs": [
    {
     "ename": "ValueError",
     "evalue": "I/O operation on closed file.",
     "output_type": "error",
     "traceback": [
      "\u001b[1;31m---------------------------------------------------------------------------\u001b[0m",
      "\u001b[1;31mValueError\u001b[0m                                Traceback (most recent call last)",
      "Cell \u001b[1;32mIn[47], line 3\u001b[0m\n\u001b[0;32m      1\u001b[0m f \u001b[38;5;241m=\u001b[39m \u001b[38;5;28mopen\u001b[39m(\u001b[38;5;124m\"\u001b[39m\u001b[38;5;124madvantage_of_python.txt\u001b[39m\u001b[38;5;124m\"\u001b[39m, mode \u001b[38;5;241m=\u001b[39m \u001b[38;5;124m\"\u001b[39m\u001b[38;5;124mr\u001b[39m\u001b[38;5;124m\"\u001b[39m, encoding\u001b[38;5;241m=\u001b[39m\u001b[38;5;124m'\u001b[39m\u001b[38;5;124mLatin-1\u001b[39m\u001b[38;5;124m'\u001b[39m)\n\u001b[0;32m      2\u001b[0m f\u001b[38;5;241m.\u001b[39mclose()\n\u001b[1;32m----> 3\u001b[0m \u001b[38;5;28mprint\u001b[39m(\u001b[43mf\u001b[49m\u001b[38;5;241;43m.\u001b[39;49m\u001b[43mread\u001b[49m\u001b[43m(\u001b[49m\u001b[43m)\u001b[49m)\n",
      "\u001b[1;31mValueError\u001b[0m: I/O operation on closed file."
     ]
    }
   ],
   "source": [
    "f = open(\"advantage_of_python.txt\", mode = \"r\", encoding='Latin-1')\n",
    "f.close()\n",
    "print(f.read()) "
   ]
  },
  {
   "cell_type": "code",
   "execution_count": 48,
   "id": "57ec1a00",
   "metadata": {
    "ExecuteTime": {
     "end_time": "2024-01-18T19:29:22.853133Z",
     "start_time": "2024-01-18T19:29:22.839474Z"
    }
   },
   "outputs": [],
   "source": [
    "f = open(\"advantage_of_python.txt\", mode = \"r\", encoding='utf-8')\n",
    "metin = f.read(100)       # imlec 100. karakterin sonunda\n",
    "f.close()"
   ]
  },
  {
   "cell_type": "code",
   "execution_count": 49,
   "id": "05cb36d7",
   "metadata": {
    "ExecuteTime": {
     "end_time": "2024-01-18T19:30:21.156004Z",
     "start_time": "2024-01-18T19:30:21.146548Z"
    }
   },
   "outputs": [
    {
     "data": {
      "text/plain": [
       "'Kolay Okunabilirlik ve Sadelik\\nPython, okunması ve anlaşılması kolay olan bir dildir. Bu dil, insan '"
      ]
     },
     "execution_count": 49,
     "metadata": {},
     "output_type": "execute_result"
    }
   ],
   "source": [
    "metin"
   ]
  },
  {
   "cell_type": "code",
   "execution_count": 50,
   "id": "e2b9c66c",
   "metadata": {
    "ExecuteTime": {
     "end_time": "2024-01-18T19:31:26.923089Z",
     "start_time": "2024-01-18T19:31:26.917342Z"
    }
   },
   "outputs": [],
   "source": [
    "f = open(\"advantage_of_python.txt\", mode = \"r\", encoding='utf-8')\n",
    "metin1 = f.read(100)       # imlec 100. karakterin sonunda\n",
    "metin2 = f.read(100)        #imlec 200. karakterin sonunda\n",
    "metin3 = f.read(100)\n",
    "f.close()"
   ]
  },
  {
   "cell_type": "code",
   "execution_count": 51,
   "id": "eeb82a4f",
   "metadata": {
    "ExecuteTime": {
     "end_time": "2024-01-18T19:31:31.394970Z",
     "start_time": "2024-01-18T19:31:31.385747Z"
    }
   },
   "outputs": [
    {
     "data": {
      "text/plain": [
       "'Kolay Okunabilirlik ve Sadelik\\nPython, okunması ve anlaşılması kolay olan bir dildir. Bu dil, insan '"
      ]
     },
     "execution_count": 51,
     "metadata": {},
     "output_type": "execute_result"
    }
   ],
   "source": [
    "metin1"
   ]
  },
  {
   "cell_type": "code",
   "execution_count": 52,
   "id": "e5057ca1",
   "metadata": {
    "ExecuteTime": {
     "end_time": "2024-01-18T19:31:38.860213Z",
     "start_time": "2024-01-18T19:31:38.840901Z"
    }
   },
   "outputs": [
    {
     "data": {
      "text/plain": [
       "'diline yakın bir söz dizimine sahiptir ve açık bir yapıya sahiptir. Yani, başka bir Python programcı'"
      ]
     },
     "execution_count": 52,
     "metadata": {},
     "output_type": "execute_result"
    }
   ],
   "source": [
    "metin2"
   ]
  },
  {
   "cell_type": "code",
   "execution_count": 53,
   "id": "7521a786",
   "metadata": {
    "ExecuteTime": {
     "end_time": "2024-01-18T19:31:44.391711Z",
     "start_time": "2024-01-18T19:31:44.384793Z"
    }
   },
   "outputs": [
    {
     "data": {
      "text/plain": [
       "\"sının yazdığı kodları kolayca anlayabilirsiniz.\\n\\nAyrıca, Python'un basit ve sade söz dizimi, program\""
      ]
     },
     "execution_count": 53,
     "metadata": {},
     "output_type": "execute_result"
    }
   ],
   "source": [
    "metin3"
   ]
  },
  {
   "cell_type": "code",
   "execution_count": 55,
   "id": "1fd86b55",
   "metadata": {
    "ExecuteTime": {
     "end_time": "2024-01-18T19:32:16.513604Z",
     "start_time": "2024-01-18T19:32:16.496745Z"
    }
   },
   "outputs": [
    {
     "name": "stdout",
     "output_type": "stream",
     "text": [
      "Kolay Okunabilirlik ve Sadelik\n",
      "Python, okunması ve anlaşılması kolay olan bir dildir. Bu dil, insan diline yakın bir söz dizimine sahiptir ve açık bir yapıya sahiptir. Yani, başka bir Python programcısının yazdığı kodları kolayca anlayabilirsiniz.\n",
      "\n",
      "Ayrıca, Python'un basit ve sade söz dizimi, program\n"
     ]
    }
   ],
   "source": [
    "print(metin1 + metin2 + metin3)"
   ]
  },
  {
   "cell_type": "code",
   "execution_count": 58,
   "id": "dd9657cb",
   "metadata": {
    "ExecuteTime": {
     "end_time": "2024-01-18T19:35:39.246991Z",
     "start_time": "2024-01-18T19:35:39.235646Z"
    }
   },
   "outputs": [
    {
     "name": "stdout",
     "output_type": "stream",
     "text": [
      "10\n",
      "25\n",
      "29\n"
     ]
    }
   ],
   "source": [
    "f = open(\"advantage_of_python.txt\", mode = \"r\", encoding='utf-8')\n",
    "metin1 = f.read(10)   \n",
    "print(f.tell())\n",
    "metin2 = f.read(15)       \n",
    "print(f.tell())\n",
    "metin3 = f.read(4)\n",
    "print(f.tell())             # imlecin yerini göstermesi icin\n",
    "f.close()"
   ]
  },
  {
   "cell_type": "code",
   "execution_count": 59,
   "id": "47f57d0a",
   "metadata": {
    "ExecuteTime": {
     "end_time": "2024-01-18T19:38:03.285109Z",
     "start_time": "2024-01-18T19:38:03.272071Z"
    }
   },
   "outputs": [
    {
     "name": "stdout",
     "output_type": "stream",
     "text": [
      "Kolay Okunabilirlik ve Sadelik\n",
      "Python, okunması ve anlaşılması kolay olan bir dildir. Bu dil, insan diline yakın bir söz dizimine sahiptir ve açık bir yapıya sahiptir. Yani, başka bir Python programcısının yazdığı kodları kolayca anlayabilirsiniz.\n",
      "\n",
      "Ayrıca, Python'un basit ve sade söz dizimi, programcıların hızlı bir şekilde kod yazmalarını sağlar. Kodun anlaşılması ve yazılması daha kolay olduğundan, programcılar daha az zaman harcayarak daha fazla iş yapabilirler.\n",
      "\n",
      "Çok Yönlülük\n",
      "Python, birçok farklı alanda kullanılabilen bir dil olarak tanınır. Veri bilimi, yapay zeka, makine öğrenmesi, web geliştirme, otomasyon ve daha pek çok alanda kullanılabilir.\n",
      "\n",
      "Python, çeşitli kütüphaneleri ve modülleri ile birlikte gelir. Bu kütüphaneler, birçok farklı alanda kullanılabilecek araçlar sunar ve Python'u daha da çok yönlü bir hale getirir.\n",
      "\n",
      "Büyük Topluluk ve Kapsamlı Belgelendirme\n",
      "Python'un en büyük avantajlarından biri, dünya çapında büyük bir topluluğa sahip olmasıdır. Bu topluluk, Python'u kullanan programcılara yardımcı olmak için birçok kaynak sunar. Ayrıca, Python'un kapsamlı bir belgelendirmesi vardır ve programcılar, ihtiyaç duydukları herhangi bir konuda bilgi edinmek için belgelendirmeyi kullanabilirler.\n",
      "\n",
      "Ücretsiz ve Açık Kaynaklı\n",
      "Python, ücretsiz ve açık kaynaklı bir dildir. Bu, programcıların Python'u kullanarak projelerine başlamaları için herhangi bir ücret ödemelerine gerek olmadığı anlamına gelir. Python, tüm dünyadaki programcılar tarafından geliştirilmeye açıktır ve bu da Python topluluğunun büyümesine ve gelişmesine katkıda bulunur.\n",
      "\n",
      "Sonuç\n",
      "Python, kolay okunabilirlik, çok yönlülük, büyük topluluk ve kapsamlı belgelendirme, ücretsiz ve açık kaynaklı olma gibi birçok avantajıyla öne çıkar. Bu nedenle, Python son yıllarda birçok farklı alanda kullanılan en popüler dillerden biri haline gelmiştir.\n",
      "\n"
     ]
    }
   ],
   "source": [
    "with open(\"advantage_of_python.txt\", mode = \"r\", encoding='utf-8') as f:\n",
    "    metin = f.read()\n",
    "                      # dosyayi acip otomatik kapatmak icin bu sekilde kullanilabilir\n",
    "print(metin)"
   ]
  },
  {
   "cell_type": "code",
   "execution_count": 61,
   "id": "60ef0a90",
   "metadata": {
    "ExecuteTime": {
     "end_time": "2024-01-18T19:40:56.714722Z",
     "start_time": "2024-01-18T19:40:56.689445Z"
    }
   },
   "outputs": [
    {
     "data": {
      "text/plain": [
       "['age,workclass,fnlwgt,education,education-num,marital-status,occupation,relationship,race,sex,capital-gain,capital-loss,hours-per-week,native-country,salary\\n',\n",
       " '39,State-gov,77516,Bachelors,13.0,Never-married,Adm-clerical,Not-in-family,White,Male,2174,0,40,United-States,<=50K\\n',\n",
       " '50,Self-emp-not-inc,83311,Bachelors,13.0,Married-civ-spouse,Exec-managerial,Husband,White,Male,0,0,13,United-States,<=50K\\n',\n",
       " '38,Private,215646,HS-grad,9.0,Divorced,Handlers-cleaners,Not-in-family,White,Male,0,0,40,United-States,<=50K\\n',\n",
       " '53,Private,234721,11th,7.0,Married-civ-spouse,Handlers-cleaners,Husband,Black,Male,0,0,40,United-States,<=50K\\n',\n",
       " '28,Private,338409,Bachelors,13.0,Married-civ-spouse,Prof-specialty,Wife,Black,Female,0,0,40,Cuba,<=50K\\n',\n",
       " '37,Private,284582,Masters,14.0,Married-civ-spouse,Exec-managerial,Wife,White,Female,0,0,40,United-States,<=50K\\n',\n",
       " '49,Private,160187,9th,5.0,Married-spouse-absent,Other-service,Not-in-family,Black,Female,0,0,16,Jamaica,<=50K\\n',\n",
       " '52,Self-emp-not-inc,209642,HS-grad,9.0,Married-civ-spouse,Exec-managerial,Husband,White,Male,0,0,45,United-States,>50K\\n',\n",
       " '31,Private,45781,Masters,14.0,Never-married,Prof-specialty,Not-in-family,White,Female,14084,0,50,United-States,>50K\\n']"
      ]
     },
     "execution_count": 61,
     "metadata": {},
     "output_type": "execute_result"
    }
   ],
   "source": [
    "with open(\"adult_eda.csv\", mode = \"r\", encoding='utf-8') as f:\n",
    "    df = f.readlines()\n",
    "                     \n",
    "df[:10]"
   ]
  },
  {
   "cell_type": "markdown",
   "id": "9176a545",
   "metadata": {},
   "source": [
    "## dosya olusturma, yazma"
   ]
  },
  {
   "cell_type": "code",
   "execution_count": 62,
   "id": "b21e0e61",
   "metadata": {
    "ExecuteTime": {
     "end_time": "2024-01-18T19:43:58.760139Z",
     "start_time": "2024-01-18T19:43:58.752357Z"
    }
   },
   "outputs": [
    {
     "data": {
      "text/plain": [
       "'C:\\\\Users\\\\nsgr6\\\\Documents\\\\IT-KURSLARIM\\\\GITHUB\\\\Myfiles_from_Batch168\\\\01.my_python_files\\\\Os Module'"
      ]
     },
     "execution_count": 62,
     "metadata": {},
     "output_type": "execute_result"
    }
   ],
   "source": [
    "os.getcwd()"
   ]
  },
  {
   "cell_type": "code",
   "execution_count": 63,
   "id": "d5b2097b",
   "metadata": {
    "ExecuteTime": {
     "end_time": "2024-01-18T19:45:09.230829Z",
     "start_time": "2024-01-18T19:45:09.216496Z"
    }
   },
   "outputs": [
    {
     "name": "stdout",
     "output_type": "stream",
     "text": [
      "C:\\Users\\nsgr6\\Documents\\IT-KURSLARIM\\GITHUB\\Myfiles_from_Batch168\\01.my_python_files\\Os Module\\files\n"
     ]
    }
   ],
   "source": [
    "os.mkdir(\"files\")\n",
    "os.chdir(\"files\")\n",
    "print(os.getcwd())"
   ]
  },
  {
   "cell_type": "code",
   "execution_count": 64,
   "id": "d5a00bf6",
   "metadata": {
    "ExecuteTime": {
     "end_time": "2024-01-18T19:46:36.907876Z",
     "start_time": "2024-01-18T19:46:36.897244Z"
    }
   },
   "outputs": [],
   "source": [
    "with open(\"deneme.txt\", mode=\"w\", encoding='utf-8') as f:\n",
    "    f.write(\"Merebalar kocum\")"
   ]
  },
  {
   "cell_type": "code",
   "execution_count": 65,
   "id": "fb6664c3",
   "metadata": {
    "ExecuteTime": {
     "end_time": "2024-01-18T19:48:57.975377Z",
     "start_time": "2024-01-18T19:48:57.958841Z"
    }
   },
   "outputs": [],
   "source": [
    "with open(\"deneme.txt\", mode=\"w\", encoding='utf-8') as f:  # var olana overwrite yapar\n",
    "    f.write(\"bu yeni yazdigim yazi 'erabalar kocum' ifadesini sildimi?\")"
   ]
  },
  {
   "cell_type": "code",
   "execution_count": 66,
   "id": "0b4d1013",
   "metadata": {
    "ExecuteTime": {
     "end_time": "2024-01-18T19:49:35.872108Z",
     "start_time": "2024-01-18T19:49:35.858052Z"
    }
   },
   "outputs": [],
   "source": [
    "with open(\"deneme.txt\", mode=\"a\", encoding='utf-8') as f:\n",
    "    f.write(\"BU YENI TEXT ILAVE EDILECEK\")"
   ]
  },
  {
   "cell_type": "code",
   "execution_count": 67,
   "id": "f4c920c9",
   "metadata": {
    "ExecuteTime": {
     "end_time": "2024-01-18T19:50:19.854322Z",
     "start_time": "2024-01-18T19:50:19.847417Z"
    }
   },
   "outputs": [],
   "source": [
    "with open(\"deneme.txt\", mode=\"a\", encoding='utf-8') as f:\n",
    "    f.write(\"\\nAha buda yeni satiriniz\")"
   ]
  },
  {
   "cell_type": "code",
   "execution_count": null,
   "id": "cc863155",
   "metadata": {},
   "outputs": [],
   "source": [
    "cd .."
   ]
  },
  {
   "cell_type": "code",
   "execution_count": 73,
   "id": "f52f32c1",
   "metadata": {
    "ExecuteTime": {
     "end_time": "2024-01-18T20:10:33.785616Z",
     "start_time": "2024-01-18T20:10:33.764768Z"
    }
   },
   "outputs": [
    {
     "data": {
      "text/plain": [
       "'C:\\\\Users\\\\nsgr6\\\\Documents\\\\IT-KURSLARIM\\\\GITHUB\\\\Myfiles_from_Batch168\\\\01.my_python_files\\\\Os Module'"
      ]
     },
     "execution_count": 73,
     "metadata": {},
     "output_type": "execute_result"
    }
   ],
   "source": [
    "os.getcwd()"
   ]
  },
  {
   "cell_type": "code",
   "execution_count": 75,
   "id": "7ff6398c",
   "metadata": {
    "ExecuteTime": {
     "end_time": "2024-01-18T20:12:33.195243Z",
     "start_time": "2024-01-18T20:12:33.180783Z"
    }
   },
   "outputs": [],
   "source": [
    "f = open(\"advantage_of_python.txt\", mode=\"r+\", encoding=\"utf-8\")\n",
    "\n",
    "metin = f.read()"
   ]
  },
  {
   "cell_type": "code",
   "execution_count": 76,
   "id": "4fadc4a1",
   "metadata": {
    "ExecuteTime": {
     "end_time": "2024-01-18T20:12:51.946101Z",
     "start_time": "2024-01-18T20:12:51.936138Z"
    }
   },
   "outputs": [
    {
     "data": {
      "text/plain": [
       "1995"
      ]
     },
     "execution_count": 76,
     "metadata": {},
     "output_type": "execute_result"
    }
   ],
   "source": [
    "f.tell()"
   ]
  },
  {
   "cell_type": "code",
   "execution_count": 77,
   "id": "1f8cf853",
   "metadata": {
    "ExecuteTime": {
     "end_time": "2024-01-18T20:12:53.381576Z",
     "start_time": "2024-01-18T20:12:53.361622Z"
    }
   },
   "outputs": [
    {
     "data": {
      "text/plain": [
       "28"
      ]
     },
     "execution_count": 77,
     "metadata": {},
     "output_type": "execute_result"
    }
   ],
   "source": [
    "f.write(\"\\nPhyton cok yönlü bir dildir\")"
   ]
  },
  {
   "cell_type": "code",
   "execution_count": 78,
   "id": "593f453e",
   "metadata": {
    "ExecuteTime": {
     "end_time": "2024-01-18T20:12:55.424502Z",
     "start_time": "2024-01-18T20:12:55.419158Z"
    }
   },
   "outputs": [],
   "source": [
    "f.close()"
   ]
  },
  {
   "cell_type": "code",
   "execution_count": 79,
   "id": "cda35eed",
   "metadata": {
    "ExecuteTime": {
     "end_time": "2024-01-18T20:12:56.733099Z",
     "start_time": "2024-01-18T20:12:56.717553Z"
    }
   },
   "outputs": [
    {
     "name": "stdout",
     "output_type": "stream",
     "text": [
      "C:\\Users\\nsgr6\\Documents\\IT-KURSLARIM\\GITHUB\\Myfiles_from_Batch168\\01.my_python_files\n"
     ]
    }
   ],
   "source": [
    "%cd .."
   ]
  },
  {
   "cell_type": "code",
   "execution_count": 83,
   "id": "49d7637a",
   "metadata": {
    "ExecuteTime": {
     "end_time": "2024-01-18T20:17:08.963305Z",
     "start_time": "2024-01-18T20:17:08.947287Z"
    }
   },
   "outputs": [
    {
     "name": "stdout",
     "output_type": "stream",
     "text": [
      "C:\\Users\\nsgr6\\Documents\\IT-KURSLARIM\\GITHUB\\Myfiles_from_Batch168\\01.my_python_files\\Os Module\n"
     ]
    }
   ],
   "source": [
    "%cd \"Os Module\\\""
   ]
  },
  {
   "cell_type": "code",
   "execution_count": 91,
   "id": "1bdb8507",
   "metadata": {
    "ExecuteTime": {
     "end_time": "2024-01-18T20:23:53.374216Z",
     "start_time": "2024-01-18T20:23:53.367106Z"
    }
   },
   "outputs": [],
   "source": [
    "f = open(\"advantage_of_python.txt\", mode=\"r+\", encoding=\"utf-8\")"
   ]
  },
  {
   "cell_type": "raw",
   "id": "93f52659",
   "metadata": {},
   "source": [
    "offset: İmlecin ne kadar ve hangi yönde hareket edeceğini belirler. Bu değer bayt cinsinden belirtilir.\n",
    "whence: İmlecin hangi referans noktasından hareket edeceğini belirtir. Üç değer alabilir:\n",
    "0: Dosyanın başından itibaren (varsayılan değer).\n",
    "1: Mevcut konumdan itibaren.\n",
    "2: Dosyanın sonundan itibaren."
   ]
  },
  {
   "cell_type": "code",
   "execution_count": 92,
   "id": "6d6bdb7b",
   "metadata": {
    "ExecuteTime": {
     "end_time": "2024-01-18T20:23:55.618357Z",
     "start_time": "2024-01-18T20:23:55.609540Z"
    }
   },
   "outputs": [],
   "source": [
    "metin = f.read()\n",
    "\n",
    "f.seek(0, 0)\n",
    "\n",
    "f.write(\"imlec su anda en basta\" + \"\\n\" + metin)\n",
    "\n",
    "f.close()"
   ]
  },
  {
   "cell_type": "code",
   "execution_count": null,
   "id": "54bb577a",
   "metadata": {},
   "outputs": [],
   "source": []
  }
 ],
 "metadata": {
  "hide_input": false,
  "kernelspec": {
   "display_name": "Python 3 (ipykernel)",
   "language": "python",
   "name": "python3"
  },
  "language_info": {
   "codemirror_mode": {
    "name": "ipython",
    "version": 3
   },
   "file_extension": ".py",
   "mimetype": "text/x-python",
   "name": "python",
   "nbconvert_exporter": "python",
   "pygments_lexer": "ipython3",
   "version": "3.10.8"
  },
  "nbTranslate": {
   "displayLangs": [
    "*"
   ],
   "hotkey": "alt-t",
   "langInMainMenu": true,
   "sourceLang": "en",
   "targetLang": "fr",
   "useGoogleTranslate": true
  },
  "toc": {
   "base_numbering": 1,
   "nav_menu": {},
   "number_sections": true,
   "sideBar": true,
   "skip_h1_title": false,
   "title_cell": "Table of Contents",
   "title_sidebar": "Contents",
   "toc_cell": false,
   "toc_position": {},
   "toc_section_display": true,
   "toc_window_display": false
  }
 },
 "nbformat": 4,
 "nbformat_minor": 5
}
