{
 "cells": [
  {
   "cell_type": "markdown",
   "id": "32ae9294",
   "metadata": {},
   "source": [
    "# Try & Exception "
   ]
  },
  {
   "cell_type": "raw",
   "id": "ecdb3c85",
   "metadata": {},
   "source": [
    "try:                                    Genel yapi bu sekilde,\n",
    "    pass\n",
    "except:\n",
    "    pass\n",
    "else:\n",
    "    pass\n",
    "finally:\n",
    "    pass"
   ]
  },
  {
   "cell_type": "code",
   "execution_count": 1,
   "id": "520f466f",
   "metadata": {
    "ExecuteTime": {
     "end_time": "2024-01-16T19:41:28.954042Z",
     "start_time": "2024-01-16T19:41:28.900788Z"
    }
   },
   "outputs": [
    {
     "data": {
      "text/plain": [
       "4.0"
      ]
     },
     "execution_count": 1,
     "metadata": {},
     "output_type": "execute_result"
    }
   ],
   "source": [
    "bölünen = 8\n",
    "bölen = 2\n",
    "\n",
    "bölünen / bölen"
   ]
  },
  {
   "cell_type": "code",
   "execution_count": 2,
   "id": "f44ccd24",
   "metadata": {
    "ExecuteTime": {
     "end_time": "2024-01-16T19:41:28.961794Z",
     "start_time": "2024-01-16T19:41:28.957822Z"
    }
   },
   "outputs": [],
   "source": [
    "# bölünen = 8\n",
    "# bölen = 0      # bölünen degerini input ile aldigimizi varsayip, ona hazirlikli olup try - except kodu yazmaliyiz\n",
    "\n",
    "# bölünen / bölen"
   ]
  },
  {
   "cell_type": "raw",
   "id": "464ca02b",
   "metadata": {},
   "source": [
    " ZeroDivisionError: division by zero \n",
    "---------------------------------------------------------------------------\n",
    "ZeroDivisionError                         Traceback (most recent call last)\n",
    "Cell In[2], line 4\n",
    "      1 bölünen = 8\n",
    "      2 bölen = 0\n",
    "----> 4 bölünen / bölen\n",
    "\n",
    "ZeroDivisionError: division by zero"
   ]
  },
  {
   "cell_type": "code",
   "execution_count": 3,
   "id": "b226a595",
   "metadata": {
    "ExecuteTime": {
     "end_time": "2024-01-16T19:41:28.982785Z",
     "start_time": "2024-01-16T19:41:28.975857Z"
    }
   },
   "outputs": [
    {
     "name": "stdout",
     "output_type": "stream",
     "text": [
      "10.0\n"
     ]
    }
   ],
   "source": [
    "bölünen = 10\n",
    "bölen = 0\n",
    "\n",
    "try:\n",
    "    print(bölünen / bölen)\n",
    "except:\n",
    "    bölen = 1                    # bu kisim calisti, cünkü try kisminda hata var!\n",
    "    print(bölünen / bölen)"
   ]
  },
  {
   "cell_type": "code",
   "execution_count": 4,
   "id": "d3ac0bec",
   "metadata": {
    "ExecuteTime": {
     "end_time": "2024-01-16T19:41:29.001466Z",
     "start_time": "2024-01-16T19:41:28.995924Z"
    }
   },
   "outputs": [
    {
     "name": "stdout",
     "output_type": "stream",
     "text": [
      "2.0\n"
     ]
    }
   ],
   "source": [
    "bölünen = 10\n",
    "bölen = 5\n",
    "\n",
    "try:\n",
    "    print(bölünen / bölen) # bu kisim calisti bu defa\n",
    "except:\n",
    "    bölen = 1\n",
    "    print(bölünen / bölen)"
   ]
  },
  {
   "cell_type": "code",
   "execution_count": 5,
   "id": "eab1c34d",
   "metadata": {
    "ExecuteTime": {
     "end_time": "2024-01-16T19:41:29.016191Z",
     "start_time": "2024-01-16T19:41:29.012498Z"
    }
   },
   "outputs": [],
   "source": [
    "# bölünen = 10\n",
    "# bölen = 0\n",
    "\n",
    "# try:\n",
    "#     print(bölünen / bölen) # bu kisim calisti bu defa\n",
    "# except:\n",
    "#     print(1 / '1')"
   ]
  },
  {
   "cell_type": "raw",
   "id": "961f7590",
   "metadata": {},
   "source": [
    " TypeError: unsupported operand type(s) for /: 'int' and 'str' \n",
    "---------------------------------------------------------------------------\n",
    "ZeroDivisionError                         Traceback (most recent call last)\n",
    "Cell In[6], line 5\n",
    "      4 try:\n",
    "----> 5     print(bölünen / bölen) # bu kisim calisti bu defa\n",
    "      6 except:\n",
    "\n",
    "ZeroDivisionError: division by zero\n",
    "\n",
    "During handling of the above exception, another exception occurred:\n",
    "\n",
    "TypeError                                 Traceback (most recent call last)\n",
    "Cell In[6], line 7\n",
    "      5     print(bölünen / bölen) # bu kisim calisti bu defa\n",
    "      6 except:\n",
    "----> 7     print(1 / '1')\n",
    "\n",
    "TypeError: unsupported operand type(s) for /: 'int' and 'str'"
   ]
  },
  {
   "cell_type": "code",
   "execution_count": 6,
   "id": "a1a270a9",
   "metadata": {
    "ExecuteTime": {
     "end_time": "2024-01-16T19:41:29.055668Z",
     "start_time": "2024-01-16T19:41:29.050841Z"
    }
   },
   "outputs": [
    {
     "name": "stdout",
     "output_type": "stream",
     "text": [
      "try kismindan gelecek olan hata 'ZeroDivisionError' dur\n"
     ]
    }
   ],
   "source": [
    "bölünen = 10\n",
    "bölen = 0\n",
    "\n",
    "try:\n",
    "    print(bölünen / bölen) \n",
    "except ZeroDivisionError:\n",
    "    print(\"try kismindan gelecek olan hata 'ZeroDivisionError' dur\")"
   ]
  },
  {
   "cell_type": "code",
   "execution_count": 7,
   "id": "32e4866a",
   "metadata": {
    "ExecuteTime": {
     "end_time": "2024-01-16T19:41:29.070730Z",
     "start_time": "2024-01-16T19:41:29.066171Z"
    }
   },
   "outputs": [],
   "source": [
    "# bölünen = 10\n",
    "# bölen = 0\n",
    "\n",
    "# try:\n",
    "#     print(bölünen / bölen) \n",
    "# except NameError:                   # try kisminda NameError alinmadigi icin except kismi calismaz\n",
    "#     print(\"try kismindan gelecek olan hata 'ZeroDivisionError' dur\")"
   ]
  },
  {
   "cell_type": "raw",
   "id": "6f8183ad",
   "metadata": {},
   "source": [
    " ZeroDivisionError: division by zero \n",
    "---------------------------------------------------------------------------\n",
    "ZeroDivisionError                         Traceback (most recent call last)\n",
    "Cell In[8], line 5\n",
    "      2 bölen = 0\n",
    "      4 try:\n",
    "----> 5     print(bölünen / bölen) \n",
    "      6 except NameError:\n",
    "      7     print(\"try kismindan gelecek olan hata 'ZeroDivisionError' dur\")\n",
    "\n",
    "ZeroDivisionError: division by zero"
   ]
  },
  {
   "cell_type": "code",
   "execution_count": 8,
   "id": "04705899",
   "metadata": {
    "ExecuteTime": {
     "end_time": "2024-01-16T19:41:29.107482Z",
     "start_time": "2024-01-16T19:41:29.102346Z"
    }
   },
   "outputs": [
    {
     "name": "stdout",
     "output_type": "stream",
     "text": [
      "try kismindan gelecek olan hata 'ZeroDivisionError' dur\n"
     ]
    }
   ],
   "source": [
    "bölünen = 10\n",
    "bölen = 0\n",
    "\n",
    "try:\n",
    "    print(bölünen / bölen) \n",
    "except NameError:\n",
    "    print(\"try kismindan gelecek olan hata 'NameError' dur\")  # bu calismaz\n",
    "except TypeError:\n",
    "    print(\"try kismindan gelecek olan hata 'TypeError' dur\")  # bu calismaz\n",
    "except ZeroDivisionError:\n",
    "    print(\"try kismindan gelecek olan hata 'ZeroDivisionError' dur\")"
   ]
  },
  {
   "cell_type": "code",
   "execution_count": 9,
   "id": "32d9dcff",
   "metadata": {
    "ExecuteTime": {
     "end_time": "2024-01-16T19:41:29.123421Z",
     "start_time": "2024-01-16T19:41:29.117600Z"
    }
   },
   "outputs": [
    {
     "name": "stdout",
     "output_type": "stream",
     "text": [
      "try kismindan gelecek olan hata 'ZeroDivisionError' dur\n"
     ]
    }
   ],
   "source": [
    "bölünen = 10\n",
    "bölen = 0\n",
    "\n",
    "try:\n",
    "    print(bölünen / bölen) \n",
    "except NameError:\n",
    "    print(\"try kismindan gelecek olan hata 'NameError' dur\")  \n",
    "except ZeroDivisionError:\n",
    "    print(\"try kismindan gelecek olan hata 'ZeroDivisionError' dur\")\n",
    "except:\n",
    "    print(\"Bütün hatalari ben hallederim.\")  "
   ]
  },
  {
   "cell_type": "code",
   "execution_count": 10,
   "id": "275793a4",
   "metadata": {
    "ExecuteTime": {
     "end_time": "2024-01-16T19:41:29.147226Z",
     "start_time": "2024-01-16T19:41:29.141499Z"
    }
   },
   "outputs": [
    {
     "name": "stdout",
     "output_type": "stream",
     "text": [
      "5.0\n",
      "try kismindan gelecek olan hata 'NameError' dur\n"
     ]
    }
   ],
   "source": [
    "bölünen = 10\n",
    "bölen = 2\n",
    "\n",
    "try:\n",
    "    print(bölünen / bölen)  # bura calisacak, ama name tanimli degil 'NameError' alacagiz ve 1.except calisacak\n",
    "    print(name)\n",
    "except NameError:\n",
    "    print(\"try kismindan gelecek olan hata 'NameError' dur\")  \n",
    "except ZeroDivisionError:\n",
    "    print(\"try kismindan gelecek olan hata 'ZeroDivisionError' dur\")\n",
    "except:\n",
    "    print(\"Bütün hatalari ben hallederim.\")  "
   ]
  },
  {
   "cell_type": "code",
   "execution_count": 11,
   "id": "d5e876d7",
   "metadata": {
    "ExecuteTime": {
     "end_time": "2024-01-16T19:41:29.185779Z",
     "start_time": "2024-01-16T19:41:29.180057Z"
    }
   },
   "outputs": [
    {
     "name": "stdout",
     "output_type": "stream",
     "text": [
      "5.0\n",
      "try kismindan gelecek olan hata 'ZeroDivisionError' dur\n"
     ]
    }
   ],
   "source": [
    "bölünen = 10\n",
    "bölen = 2\n",
    "\n",
    "try:\n",
    "    print(bölünen / bölen)  # bura calisacak, ama 5/0 ile 'ZeroDevisionError' alacagiz, 2. except calisacak\n",
    "    print(5 / 0)\n",
    "except NameError:\n",
    "    print(\"try kismindan gelecek olan hata 'NameError' dur\")  \n",
    "except ZeroDivisionError:\n",
    "    print(\"try kismindan gelecek olan hata 'ZeroDivisionError' dur\")\n",
    "except:\n",
    "    print(\"Bütün hatalari ben hallederim.\") "
   ]
  },
  {
   "cell_type": "code",
   "execution_count": 12,
   "id": "c0143f70",
   "metadata": {
    "ExecuteTime": {
     "end_time": "2024-01-16T19:41:29.205298Z",
     "start_time": "2024-01-16T19:41:29.198410Z"
    }
   },
   "outputs": [
    {
     "name": "stdout",
     "output_type": "stream",
     "text": [
      "5.0\n",
      "Bütün hatalari ben hallederim.\n"
     ]
    }
   ],
   "source": [
    "bölünen = 10\n",
    "bölen = 2\n",
    "\n",
    "try:\n",
    "    print(bölünen / bölen)  # bura calisacak, 3. except calisacak\n",
    "    print(5 + '0')\n",
    "except NameError:\n",
    "    print(\"try kismindan gelecek olan hata 'NameError' dur\")  \n",
    "except ZeroDivisionError:\n",
    "    print(\"try kismindan gelecek olan hata 'ZeroDivisionError' dur\")\n",
    "except:\n",
    "    print(\"Bütün hatalari ben hallederim.\") "
   ]
  },
  {
   "cell_type": "code",
   "execution_count": 13,
   "id": "43f622ac",
   "metadata": {
    "ExecuteTime": {
     "end_time": "2024-01-16T19:41:29.224004Z",
     "start_time": "2024-01-16T19:41:29.218198Z"
    }
   },
   "outputs": [
    {
     "name": "stdout",
     "output_type": "stream",
     "text": [
      "5.0\n",
      "Bütün hatalari ben hallederim.\n",
      "bu koddaki hata: unsupported operand type(s) for +: 'int' and 'str'\n"
     ]
    }
   ],
   "source": [
    "bölünen = 10\n",
    "bölen = 2\n",
    "\n",
    "try:\n",
    "    print(bölünen / bölen)  # 2. exception calisacak\n",
    "    print(5 + '0') \n",
    "except ZeroDivisionError:\n",
    "    bölen = 1\n",
    "    print(\"try kismindan gelecek olan hata 'ZeroDivisionError' dur\")\n",
    "except Exception as error:                               # Exception ile hatanin ne oldugunu göstermek icin\n",
    "    print(\"Bütün hatalari ben hallederim.\") \n",
    "    print(f\"bu koddaki hata: {error}\")"
   ]
  },
  {
   "cell_type": "code",
   "execution_count": 14,
   "id": "a3c513e0",
   "metadata": {
    "ExecuteTime": {
     "end_time": "2024-01-16T19:41:29.244985Z",
     "start_time": "2024-01-16T19:41:29.237508Z"
    }
   },
   "outputs": [
    {
     "name": "stdout",
     "output_type": "stream",
     "text": [
      "5.0\n",
      "Ben else olarak sadece ve sadece try calisip hata almazsa calisirim\n"
     ]
    }
   ],
   "source": [
    "bölünen = 10\n",
    "bölen = 2\n",
    "\n",
    "try:\n",
    "    print(bölünen / bölen)    # bura calisacak\n",
    "except ZeroDivisionError:\n",
    "    bölen = 1\n",
    "    print(bölünen / bölen)\n",
    "else:\n",
    "    print(\"Ben else olarak sadece ve sadece try calisip hata almazsa calisirim\")       # bura calisacak"
   ]
  },
  {
   "cell_type": "code",
   "execution_count": 15,
   "id": "06271c3e",
   "metadata": {
    "ExecuteTime": {
     "end_time": "2024-01-16T19:41:29.264869Z",
     "start_time": "2024-01-16T19:41:29.260751Z"
    }
   },
   "outputs": [
    {
     "name": "stdout",
     "output_type": "stream",
     "text": [
      "10.0\n"
     ]
    }
   ],
   "source": [
    "bölünen = 10\n",
    "bölen = 0\n",
    "\n",
    "try:\n",
    "    print(bölünen / bölen) \n",
    "except ZeroDivisionError:\n",
    "    bölen = 1\n",
    "    print(bölünen / bölen)   #bura calisacak\n",
    "else:\n",
    "    print(\"Ben else olarak sadece ve sadece try calisip hata almazsa calisirim\")"
   ]
  },
  {
   "cell_type": "code",
   "execution_count": 16,
   "id": "ff9e1a17",
   "metadata": {
    "ExecuteTime": {
     "end_time": "2024-01-16T19:41:29.286943Z",
     "start_time": "2024-01-16T19:41:29.281503Z"
    }
   },
   "outputs": [
    {
     "name": "stdout",
     "output_type": "stream",
     "text": [
      "10.0\n",
      "Ben finally olarak, her halükarda calisirim\n"
     ]
    }
   ],
   "source": [
    "bölünen = 10\n",
    "bölen = 0\n",
    "\n",
    "try:\n",
    "    print(bölünen / bölen) \n",
    "except ZeroDivisionError:\n",
    "    bölen = 1\n",
    "    print(bölünen / bölen)   #bura calisacak\n",
    "else:\n",
    "    print(\"Ben else olarak sadece ve sadece try calisip hata almazsa calisirim\")\n",
    "finally:\n",
    "    print(\"Ben finally olarak, her halükarda calisirim\")                  #bura calisacak"
   ]
  },
  {
   "cell_type": "code",
   "execution_count": 17,
   "id": "053f44cd",
   "metadata": {
    "ExecuteTime": {
     "end_time": "2024-01-16T19:41:29.303497Z",
     "start_time": "2024-01-16T19:41:29.297545Z"
    }
   },
   "outputs": [
    {
     "name": "stdout",
     "output_type": "stream",
     "text": [
      "2.5\n",
      "Ben else olarak sadece ve sadece try calisip hata almazsa calisirim\n",
      "Ben finally olarak, her halükarda calisirim\n"
     ]
    }
   ],
   "source": [
    "bölünen = 10\n",
    "bölen = 4\n",
    "\n",
    "try:\n",
    "    print(bölünen / bölen) #bura calisacak\n",
    "except ZeroDivisionError:\n",
    "    bölen = 1\n",
    "    print(bölünen / bölen)   \n",
    "else:\n",
    "    print(\"Ben else olarak sadece ve sadece try calisip hata almazsa calisirim\") #bura calisacak\n",
    "finally:\n",
    "    print(\"Ben finally olarak, her halükarda calisirim\")                  #bura calisacak"
   ]
  },
  {
   "cell_type": "code",
   "execution_count": 18,
   "id": "18a604b0",
   "metadata": {
    "ExecuteTime": {
     "end_time": "2024-01-16T19:41:29.318068Z",
     "start_time": "2024-01-16T19:41:29.314740Z"
    },
    "scrolled": true
   },
   "outputs": [],
   "source": [
    "# raise Exception(\"Keyfime göre\")    #hata alinacak"
   ]
  },
  {
   "cell_type": "raw",
   "id": "62ca4f6d",
   "metadata": {},
   "source": [
    " Exception: Keyfime göre \n",
    "---------------------------------------------------------------------------\n",
    "Exception                                 Traceback (most recent call last)\n",
    "Cell In[19], line 1\n",
    "----> 1 raise Exception(\"Keyfime göre\")\n",
    "\n",
    "Exception: Keyfime göre"
   ]
  },
  {
   "cell_type": "code",
   "execution_count": 19,
   "id": "3ac7a783",
   "metadata": {
    "ExecuteTime": {
     "end_time": "2024-01-16T19:41:29.350286Z",
     "start_time": "2024-01-16T19:41:29.345917Z"
    }
   },
   "outputs": [],
   "source": [
    "def tersyazdirma(a):\n",
    "    \n",
    "    if type(a) != str:\n",
    "        raise TypeError('Lütfen str deger giriniz.')\n",
    "    else:\n",
    "        return a[::-1]"
   ]
  },
  {
   "cell_type": "code",
   "execution_count": 20,
   "id": "babbdf57",
   "metadata": {
    "ExecuteTime": {
     "end_time": "2024-01-16T19:41:29.365321Z",
     "start_time": "2024-01-16T19:41:29.360599Z"
    }
   },
   "outputs": [
    {
     "data": {
      "text/plain": [
       "'orphcet'"
      ]
     },
     "execution_count": 20,
     "metadata": {},
     "output_type": "execute_result"
    }
   ],
   "source": [
    "tersyazdirma(\"techpro\")"
   ]
  },
  {
   "cell_type": "code",
   "execution_count": 21,
   "id": "dc1787a6",
   "metadata": {
    "ExecuteTime": {
     "end_time": "2024-01-16T19:41:29.378561Z",
     "start_time": "2024-01-16T19:41:29.374558Z"
    }
   },
   "outputs": [],
   "source": [
    "# tersyazdirma([1,2,3,4,5])    # hata alicaz"
   ]
  },
  {
   "cell_type": "raw",
   "id": "cd10024c",
   "metadata": {},
   "source": [
    " TypeError: Lütfen str deger giriniz. \n",
    "---------------------------------------------------------------------------\n",
    "TypeError                                 Traceback (most recent call last)\n",
    "Cell In[22], line 1\n",
    "----> 1 tersyazdirma([1,2,3,4,5])\n",
    "\n",
    "Cell In[20], line 4, in tersyazdirma(a)\n",
    "      1 def tersyazdirma(a):\n",
    "      3     if type(a) != str:\n",
    "----> 4         raise TypeError('Lütfen str deger giriniz.')\n",
    "      5     else:\n",
    "      6         return a[::-1]\n",
    "\n",
    "TypeError: Lütfen str deger giriniz."
   ]
  },
  {
   "cell_type": "code",
   "execution_count": 22,
   "id": "caeb9c86",
   "metadata": {
    "ExecuteTime": {
     "end_time": "2024-01-16T19:41:29.411735Z",
     "start_time": "2024-01-16T19:41:29.408180Z"
    }
   },
   "outputs": [],
   "source": [
    "liste = [1,2,3]"
   ]
  },
  {
   "cell_type": "code",
   "execution_count": 23,
   "id": "c36e961e",
   "metadata": {
    "ExecuteTime": {
     "end_time": "2024-01-16T19:41:29.430454Z",
     "start_time": "2024-01-16T19:41:29.425832Z"
    }
   },
   "outputs": [],
   "source": [
    "assert len(liste) == 3, \"eleman sayisi 3 olmali\""
   ]
  },
  {
   "cell_type": "code",
   "execution_count": 24,
   "id": "3badb6af",
   "metadata": {
    "ExecuteTime": {
     "end_time": "2024-01-16T19:41:29.448707Z",
     "start_time": "2024-01-16T19:41:29.444152Z"
    }
   },
   "outputs": [],
   "source": [
    "#assert len(liste) == 2, \"eleman sayisi 3 olmali\"  #hata alinacak"
   ]
  },
  {
   "cell_type": "raw",
   "id": "da7f2afd",
   "metadata": {},
   "source": [
    " AssertionError: eleman sayisi 3 olmali \n",
    "---------------------------------------------------------------------------\n",
    "AssertionError                            Traceback (most recent call last)\n",
    "Cell In[27], line 1\n",
    "----> 1 assert len(liste) == 2, \"eleman sayisi 3 olmali\"\n",
    "\n",
    "AssertionError: eleman sayisi 3 olmali"
   ]
  },
  {
   "cell_type": "code",
   "execution_count": 1,
   "id": "9a6adefb",
   "metadata": {
    "ExecuteTime": {
     "end_time": "2024-01-16T19:42:54.554404Z",
     "start_time": "2024-01-16T19:42:54.548643Z"
    }
   },
   "outputs": [],
   "source": [
    "# Recoursive fonksiyon\n",
    "\n",
    "def factoriel(sayi):\n",
    "    \n",
    "    if sayi == 1:\n",
    "        return 1\n",
    "    return sayi * factoriel(sayi - 1)"
   ]
  },
  {
   "cell_type": "code",
   "execution_count": 2,
   "id": "da69580e",
   "metadata": {
    "ExecuteTime": {
     "end_time": "2024-01-16T19:42:57.355886Z",
     "start_time": "2024-01-16T19:42:57.346798Z"
    }
   },
   "outputs": [
    {
     "data": {
      "text/plain": [
       "120"
      ]
     },
     "execution_count": 2,
     "metadata": {},
     "output_type": "execute_result"
    }
   ],
   "source": [
    "factoriel(5)"
   ]
  },
  {
   "cell_type": "code",
   "execution_count": null,
   "id": "46b06f22",
   "metadata": {},
   "outputs": [],
   "source": [
    "#factoriel(0)  # kernel cöküyor"
   ]
  },
  {
   "cell_type": "code",
   "execution_count": 3,
   "id": "bc0a90a7",
   "metadata": {
    "ExecuteTime": {
     "end_time": "2024-01-16T19:44:56.426920Z",
     "start_time": "2024-01-16T19:44:56.422073Z"
    }
   },
   "outputs": [],
   "source": [
    "def factoriel2(sayi):\n",
    "    \n",
    "    assert sayi > 0, \"factöriyel isleminde sayi pozitif olmalidir\"\n",
    "    if sayi == 1:\n",
    "        return 1\n",
    "    return sayi * factoriel2(sayi - 1)"
   ]
  },
  {
   "cell_type": "code",
   "execution_count": 4,
   "id": "936f0039",
   "metadata": {
    "ExecuteTime": {
     "end_time": "2024-01-16T19:45:08.018963Z",
     "start_time": "2024-01-16T19:45:08.010355Z"
    }
   },
   "outputs": [
    {
     "data": {
      "text/plain": [
       "6"
      ]
     },
     "execution_count": 4,
     "metadata": {},
     "output_type": "execute_result"
    }
   ],
   "source": [
    "factoriel2(3)"
   ]
  },
  {
   "cell_type": "code",
   "execution_count": 5,
   "id": "9e0543cb",
   "metadata": {
    "ExecuteTime": {
     "end_time": "2024-01-16T19:45:20.916224Z",
     "start_time": "2024-01-16T19:45:20.146390Z"
    }
   },
   "outputs": [
    {
     "ename": "AssertionError",
     "evalue": "factöriyel isleminde sayi pozitif olmalidir",
     "output_type": "error",
     "traceback": [
      "\u001b[1;31m---------------------------------------------------------------------------\u001b[0m",
      "\u001b[1;31mAssertionError\u001b[0m                            Traceback (most recent call last)",
      "Cell \u001b[1;32mIn[5], line 1\u001b[0m\n\u001b[1;32m----> 1\u001b[0m \u001b[43mfactoriel2\u001b[49m\u001b[43m(\u001b[49m\u001b[38;5;241;43m-\u001b[39;49m\u001b[38;5;241;43m4\u001b[39;49m\u001b[43m)\u001b[49m\n",
      "Cell \u001b[1;32mIn[3], line 3\u001b[0m, in \u001b[0;36mfactoriel2\u001b[1;34m(sayi)\u001b[0m\n\u001b[0;32m      1\u001b[0m \u001b[38;5;28;01mdef\u001b[39;00m \u001b[38;5;21mfactoriel2\u001b[39m(sayi):\n\u001b[1;32m----> 3\u001b[0m     \u001b[38;5;28;01massert\u001b[39;00m sayi \u001b[38;5;241m>\u001b[39m \u001b[38;5;241m0\u001b[39m, \u001b[38;5;124m\"\u001b[39m\u001b[38;5;124mfactöriyel isleminde sayi pozitif olmalidir\u001b[39m\u001b[38;5;124m\"\u001b[39m\n\u001b[0;32m      4\u001b[0m     \u001b[38;5;28;01mif\u001b[39;00m sayi \u001b[38;5;241m==\u001b[39m \u001b[38;5;241m1\u001b[39m:\n\u001b[0;32m      5\u001b[0m         \u001b[38;5;28;01mreturn\u001b[39;00m \u001b[38;5;241m1\u001b[39m\n",
      "\u001b[1;31mAssertionError\u001b[0m: factöriyel isleminde sayi pozitif olmalidir"
     ]
    }
   ],
   "source": [
    "# factoriel2(-4) # hata alinacak, ama kernel cökmeyecek"
   ]
  },
  {
   "cell_type": "raw",
   "id": "d3d07011",
   "metadata": {},
   "source": [
    " AssertionError: factöriyel isleminde sayi pozitif olmalidir \n",
    "---------------------------------------------------------------------------\n",
    "AssertionError                            Traceback (most recent call last)\n",
    "Cell In[5], line 1\n",
    "----> 1 factoriel2(-4)\n",
    "\n",
    "Cell In[3], line 3, in factoriel2(sayi)\n",
    "      1 def factoriel2(sayi):\n",
    "----> 3     assert sayi > 0, \"factöriyel isleminde sayi pozitif olmalidir\"\n",
    "      4     if sayi == 1:\n",
    "      5         return 1\n",
    "\n",
    "AssertionError: factöriyel isleminde sayi pozitif olmalidir"
   ]
  },
  {
   "cell_type": "markdown",
   "id": "0e04dfc0",
   "metadata": {},
   "source": [
    "# Web Scraping"
   ]
  },
  {
   "cell_type": "code",
   "execution_count": null,
   "id": "65bced49",
   "metadata": {},
   "outputs": [],
   "source": [
    "from selenium import webdriver\n",
    "import random\n",
    "import time\n",
    "from selenium.webdriver.common.by import "
   ]
  },
  {
   "cell_type": "code",
   "execution_count": null,
   "id": "c595095a",
   "metadata": {},
   "outputs": [],
   "source": []
  },
  {
   "cell_type": "code",
   "execution_count": null,
   "id": "c53bf918",
   "metadata": {},
   "outputs": [],
   "source": []
  },
  {
   "cell_type": "code",
   "execution_count": null,
   "id": "d95dacbc",
   "metadata": {},
   "outputs": [],
   "source": []
  },
  {
   "cell_type": "code",
   "execution_count": null,
   "id": "1b680189",
   "metadata": {},
   "outputs": [],
   "source": []
  },
  {
   "cell_type": "code",
   "execution_count": null,
   "id": "9cd0020c",
   "metadata": {},
   "outputs": [],
   "source": []
  },
  {
   "cell_type": "code",
   "execution_count": null,
   "id": "0852e214",
   "metadata": {},
   "outputs": [],
   "source": []
  },
  {
   "cell_type": "code",
   "execution_count": null,
   "id": "bab00d44",
   "metadata": {},
   "outputs": [],
   "source": []
  },
  {
   "cell_type": "code",
   "execution_count": null,
   "id": "8d9294cb",
   "metadata": {},
   "outputs": [],
   "source": []
  },
  {
   "cell_type": "code",
   "execution_count": null,
   "id": "86900141",
   "metadata": {},
   "outputs": [],
   "source": []
  },
  {
   "cell_type": "code",
   "execution_count": null,
   "id": "c3bb66d3",
   "metadata": {},
   "outputs": [],
   "source": []
  },
  {
   "cell_type": "code",
   "execution_count": null,
   "id": "ffa1ffe6",
   "metadata": {},
   "outputs": [],
   "source": []
  },
  {
   "cell_type": "code",
   "execution_count": null,
   "id": "63800b7d",
   "metadata": {},
   "outputs": [],
   "source": []
  },
  {
   "cell_type": "code",
   "execution_count": null,
   "id": "5eeac8e0",
   "metadata": {},
   "outputs": [],
   "source": []
  },
  {
   "cell_type": "code",
   "execution_count": null,
   "id": "a6eb0fb6",
   "metadata": {},
   "outputs": [],
   "source": []
  },
  {
   "cell_type": "code",
   "execution_count": null,
   "id": "c003e4cb",
   "metadata": {},
   "outputs": [],
   "source": []
  },
  {
   "cell_type": "code",
   "execution_count": null,
   "id": "188221e0",
   "metadata": {},
   "outputs": [],
   "source": []
  },
  {
   "cell_type": "code",
   "execution_count": null,
   "id": "412bdfe1",
   "metadata": {},
   "outputs": [],
   "source": []
  },
  {
   "cell_type": "code",
   "execution_count": null,
   "id": "81db3c63",
   "metadata": {},
   "outputs": [],
   "source": []
  },
  {
   "cell_type": "code",
   "execution_count": null,
   "id": "54846992",
   "metadata": {},
   "outputs": [],
   "source": []
  },
  {
   "cell_type": "code",
   "execution_count": null,
   "id": "7655c7c9",
   "metadata": {},
   "outputs": [],
   "source": []
  },
  {
   "cell_type": "code",
   "execution_count": null,
   "id": "000fa091",
   "metadata": {},
   "outputs": [],
   "source": []
  },
  {
   "cell_type": "code",
   "execution_count": null,
   "id": "4fc1f733",
   "metadata": {},
   "outputs": [],
   "source": []
  },
  {
   "cell_type": "code",
   "execution_count": null,
   "id": "ad8b7ff6",
   "metadata": {},
   "outputs": [],
   "source": []
  },
  {
   "cell_type": "code",
   "execution_count": null,
   "id": "42f07025",
   "metadata": {},
   "outputs": [],
   "source": []
  },
  {
   "cell_type": "code",
   "execution_count": null,
   "id": "75930c26",
   "metadata": {},
   "outputs": [],
   "source": []
  },
  {
   "cell_type": "code",
   "execution_count": null,
   "id": "6ff3c1de",
   "metadata": {},
   "outputs": [],
   "source": []
  },
  {
   "cell_type": "code",
   "execution_count": null,
   "id": "0b6d8116",
   "metadata": {},
   "outputs": [],
   "source": []
  },
  {
   "cell_type": "code",
   "execution_count": null,
   "id": "b9b2c126",
   "metadata": {},
   "outputs": [],
   "source": []
  },
  {
   "cell_type": "code",
   "execution_count": null,
   "id": "bf7a5f3c",
   "metadata": {},
   "outputs": [],
   "source": []
  },
  {
   "cell_type": "code",
   "execution_count": null,
   "id": "91d9199c",
   "metadata": {},
   "outputs": [],
   "source": []
  }
 ],
 "metadata": {
  "hide_input": false,
  "kernelspec": {
   "display_name": "Python 3 (ipykernel)",
   "language": "python",
   "name": "python3"
  },
  "language_info": {
   "codemirror_mode": {
    "name": "ipython",
    "version": 3
   },
   "file_extension": ".py",
   "mimetype": "text/x-python",
   "name": "python",
   "nbconvert_exporter": "python",
   "pygments_lexer": "ipython3",
   "version": "3.10.8"
  },
  "nbTranslate": {
   "displayLangs": [
    "*"
   ],
   "hotkey": "alt-t",
   "langInMainMenu": true,
   "sourceLang": "en",
   "targetLang": "fr",
   "useGoogleTranslate": true
  },
  "toc": {
   "base_numbering": 1,
   "nav_menu": {},
   "number_sections": true,
   "sideBar": true,
   "skip_h1_title": false,
   "title_cell": "Table of Contents",
   "title_sidebar": "Contents",
   "toc_cell": false,
   "toc_position": {},
   "toc_section_display": true,
   "toc_window_display": false
  }
 },
 "nbformat": 4,
 "nbformat_minor": 5
}
