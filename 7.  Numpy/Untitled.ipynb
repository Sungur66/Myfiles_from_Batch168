{
 "cells": [
  {
   "cell_type": "code",
   "execution_count": 3,
   "id": "2c64408b",
   "metadata": {},
   "outputs": [],
   "source": [
    "import numpy as np \n",
    "myPythonList = [1,9,8,3]"
   ]
  },
  {
   "cell_type": "code",
   "execution_count": 4,
   "id": "7a65e3ce",
   "metadata": {},
   "outputs": [],
   "source": [
    "numpy_array_from_list = np.array(myPythonList)"
   ]
  },
  {
   "cell_type": "code",
   "execution_count": 5,
   "id": "1bb65141",
   "metadata": {},
   "outputs": [
    {
     "data": {
      "text/plain": [
       "array([1, 9, 8, 3])"
      ]
     },
     "execution_count": 5,
     "metadata": {},
     "output_type": "execute_result"
    }
   ],
   "source": [
    "numpy_array_from_list"
   ]
  },
  {
   "cell_type": "code",
   "execution_count": 6,
   "id": "daf2ca84",
   "metadata": {},
   "outputs": [],
   "source": [
    "a  = np.array([1,9,8,3])"
   ]
  },
  {
   "cell_type": "code",
   "execution_count": 7,
   "id": "90d852fa",
   "metadata": {},
   "outputs": [
    {
     "data": {
      "text/plain": [
       "array([11, 19, 18, 13])"
      ]
     },
     "execution_count": 7,
     "metadata": {},
     "output_type": "execute_result"
    }
   ],
   "source": [
    "numpy_array_from_list + 10"
   ]
  },
  {
   "cell_type": "code",
   "execution_count": 12,
   "id": "619befae",
   "metadata": {},
   "outputs": [
    {
     "name": "stdout",
     "output_type": "stream",
     "text": [
      "(2, 3, 3)\n"
     ]
    }
   ],
   "source": [
    "d = np.array([\n",
    "    [[1, 2,3],\n",
    "      [12,13,14],\n",
    "        [4, 5, 6]],\n",
    "    [[7, 8,9],\n",
    "      [12,13,14],\n",
    "        [10, 11, 12]],\n",
    "                  ])\n",
    "print(d.shape)"
   ]
  },
  {
   "cell_type": "code",
   "execution_count": 13,
   "id": "3f54c422",
   "metadata": {},
   "outputs": [
    {
     "data": {
      "text/plain": [
       "array([[0., 0.],\n",
       "       [0., 0.]])"
      ]
     },
     "execution_count": 13,
     "metadata": {},
     "output_type": "execute_result"
    }
   ],
   "source": [
    "np.zeros((2,2))"
   ]
  },
  {
   "cell_type": "code",
   "execution_count": 21,
   "id": "e6facca1",
   "metadata": {},
   "outputs": [
    {
     "data": {
      "text/plain": [
       "array([[0, 0, 0, 0, 0],\n",
       "       [0, 0, 0, 0, 0]], dtype=int64)"
      ]
     },
     "execution_count": 21,
     "metadata": {},
     "output_type": "execute_result"
    }
   ],
   "source": [
    "np.zeros((2,5), dtype=np.int64)"
   ]
  },
  {
   "cell_type": "code",
   "execution_count": 23,
   "id": "948c9c40",
   "metadata": {},
   "outputs": [
    {
     "name": "stdout",
     "output_type": "stream",
     "text": [
      "[[[1 1 1 1 1 1 1 1]\n",
      "  [1 1 1 1 1 1 1 1]\n",
      "  [1 1 1 1 1 1 1 1]\n",
      "  [1 1 1 1 1 1 1 1]]]\n"
     ]
    }
   ],
   "source": [
    "s = np.ones((1,4,8), dtype=np.int16)\n",
    "print(s)"
   ]
  },
  {
   "cell_type": "code",
   "execution_count": 24,
   "id": "d165ac35",
   "metadata": {},
   "outputs": [
    {
     "data": {
      "text/plain": [
       "array([[[1, 1, 1, 1, 1, 1, 1, 1]],\n",
       "\n",
       "       [[1, 1, 1, 1, 1, 1, 1, 1]],\n",
       "\n",
       "       [[1, 1, 1, 1, 1, 1, 1, 1]],\n",
       "\n",
       "       [[1, 1, 1, 1, 1, 1, 1, 1]]], dtype=int16)"
      ]
     },
     "execution_count": 24,
     "metadata": {},
     "output_type": "execute_result"
    }
   ],
   "source": [
    "s.reshape(4,1,8)"
   ]
  },
  {
   "cell_type": "code",
   "execution_count": 26,
   "id": "cd7c1cbc",
   "metadata": {},
   "outputs": [
    {
     "data": {
      "text/plain": [
       "array([[[1, 1],\n",
       "        [1, 1]],\n",
       "\n",
       "       [[1, 1],\n",
       "        [1, 1]],\n",
       "\n",
       "       [[1, 1],\n",
       "        [1, 1]],\n",
       "\n",
       "       [[1, 1],\n",
       "        [1, 1]],\n",
       "\n",
       "       [[1, 1],\n",
       "        [1, 1]],\n",
       "\n",
       "       [[1, 1],\n",
       "        [1, 1]],\n",
       "\n",
       "       [[1, 1],\n",
       "        [1, 1]],\n",
       "\n",
       "       [[1, 1],\n",
       "        [1, 1]]], dtype=int16)"
      ]
     },
     "execution_count": 26,
     "metadata": {},
     "output_type": "execute_result"
    }
   ],
   "source": [
    "s.reshape(8,2,2)"
   ]
  },
  {
   "cell_type": "code",
   "execution_count": 27,
   "id": "90127c6d",
   "metadata": {},
   "outputs": [
    {
     "data": {
      "text/plain": [
       "array([1, 1, 1, 1, 1, 1, 1, 1, 1, 1, 1, 1, 1, 1, 1, 1, 1, 1, 1, 1, 1, 1,\n",
       "       1, 1, 1, 1, 1, 1, 1, 1, 1, 1], dtype=int16)"
      ]
     },
     "execution_count": 27,
     "metadata": {},
     "output_type": "execute_result"
    }
   ],
   "source": [
    "s.flatten()"
   ]
  },
  {
   "cell_type": "code",
   "execution_count": 32,
   "id": "0373deec",
   "metadata": {},
   "outputs": [
    {
     "name": "stdout",
     "output_type": "stream",
     "text": [
      "[7.90635145 7.99462906 7.54355354 7.95263797 7.70753075 8.36879285\n",
      " 8.84084498 7.75549021 8.49308319 8.28307178]\n"
     ]
    }
   ],
   "source": [
    "normal_array = np.random.normal(8, 0.4, 10)\n",
    "print(normal_array)"
   ]
  },
  {
   "cell_type": "code",
   "execution_count": 36,
   "id": "3d1e8905",
   "metadata": {},
   "outputs": [
    {
     "data": {
      "text/plain": [
       "array([ 5,  8, 11, 14, 17])"
      ]
     },
     "execution_count": 36,
     "metadata": {},
     "output_type": "execute_result"
    }
   ],
   "source": [
    "np.arange(5, 20,3)"
   ]
  },
  {
   "cell_type": "code",
   "execution_count": 42,
   "id": "4305ea1b",
   "metadata": {},
   "outputs": [
    {
     "data": {
      "text/plain": [
       "array([4.5       , 4.52631579, 4.55263158, 4.57894737, 4.60526316,\n",
       "       4.63157895, 4.65789474, 4.68421053, 4.71052632, 4.73684211,\n",
       "       4.76315789, 4.78947368, 4.81578947, 4.84210526, 4.86842105,\n",
       "       4.89473684, 4.92105263, 4.94736842, 4.97368421, 5.        ])"
      ]
     },
     "execution_count": 42,
     "metadata": {},
     "output_type": "execute_result"
    }
   ],
   "source": [
    "np.linspace(4.5, 5.0, num=20)"
   ]
  },
  {
   "cell_type": "code",
   "execution_count": 43,
   "id": "fad6567a",
   "metadata": {},
   "outputs": [
    {
     "data": {
      "text/plain": [
       "array([4.5       , 4.55555556, 4.61111111, 4.66666667, 4.72222222,\n",
       "       4.77777778, 4.83333333, 4.88888889, 4.94444444, 5.        ])"
      ]
     },
     "execution_count": 43,
     "metadata": {},
     "output_type": "execute_result"
    }
   ],
   "source": [
    "np.linspace(4.5, 5.0, num=10, endpoint=True)"
   ]
  },
  {
   "cell_type": "code",
   "execution_count": 45,
   "id": "7a7bcb04",
   "metadata": {},
   "outputs": [
    {
     "data": {
      "text/plain": [
       "array([ 1000.        ,  2154.43469003,  4641.58883361, 10000.        ])"
      ]
     },
     "execution_count": 45,
     "metadata": {},
     "output_type": "execute_result"
    }
   ],
   "source": [
    "np.logspace(3.0, 4.0, num=4)"
   ]
  },
  {
   "cell_type": "code",
   "execution_count": 46,
   "id": "f5555621",
   "metadata": {},
   "outputs": [
    {
     "data": {
      "text/plain": [
       "16"
      ]
     },
     "execution_count": 46,
     "metadata": {},
     "output_type": "execute_result"
    }
   ],
   "source": [
    "x = np.array([1,2,3], dtype=np.complex128)\n",
    "x.itemsize"
   ]
  },
  {
   "cell_type": "code",
   "execution_count": null,
   "id": "5a5709d0",
   "metadata": {},
   "outputs": [],
   "source": []
  }
 ],
 "metadata": {
  "kernelspec": {
   "display_name": "Python 3 (ipykernel)",
   "language": "python",
   "name": "python3"
  },
  "language_info": {
   "codemirror_mode": {
    "name": "ipython",
    "version": 3
   },
   "file_extension": ".py",
   "mimetype": "text/x-python",
   "name": "python",
   "nbconvert_exporter": "python",
   "pygments_lexer": "ipython3",
   "version": "3.11.3"
  }
 },
 "nbformat": 4,
 "nbformat_minor": 5
}
