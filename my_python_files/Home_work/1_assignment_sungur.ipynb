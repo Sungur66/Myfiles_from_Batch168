{
 "cells": [
  {
   "attachments": {},
   "cell_type": "markdown",
   "metadata": {},
   "source": [
    "Soru 1: (10 puan)Bir dairenin yarıçapını kullanıcıdan alarak alanını ve çevresini hesaplayan ve ekrana yazdıran kodu yazınız. Formüller: Alan= π*r² – Çevre=2*π*r Π = 3.14 olarak kabul edilebilir."
   ]
  },
  {
   "cell_type": "code",
   "execution_count": 6,
   "metadata": {},
   "outputs": [
    {
     "name": "stdout",
     "output_type": "stream",
     "text": [
      "Dairenin Alani =  12.56\n",
      "Dairenin Cevresi =  12.56\n"
     ]
    }
   ],
   "source": [
    "# Odev1 nin cozümü. Nasuh Sungur\n",
    "yari_cap = float(input(\"yaricap degerini giriniz!\"))\n",
    "pi = 3.14\n",
    "daire_alan = pi * yari_cap ** 2\n",
    "daire_cevre = 2 * pi * yari_cap\n",
    "                                  # yari cap 2 olunca\n",
    "print(\"Dairenin Alani = \" , daire_alan)\n",
    "print(\"Dairenin Cevresi = \" , daire_cevre)"
   ]
  },
  {
   "attachments": {},
   "cell_type": "markdown",
   "metadata": {},
   "source": [
    "Soru 2: (20 puan)\n",
    "Öğrencilerine 12 haneli öğrenci numarası veren üniversitenin verdiği numaranın ilk 4 hanesi giriş yılı 5. ve 6. hanesi okuduğu fakültenin numarası 7. ve 8. hane bölüm numarası 9. hanesi öğrenim numarası 11. ve 12. hane ise öğrencinin üniversiteye giriş sırasıdır. 12 haneli öğrenci kodunu kullanıcıdan alarak anlamlı şekilde ayıran ve ekrana yazan kodu yazınız.\n",
    "\n",
    "    1. Örnek Çıktı:\n",
    "\n",
    "    2. Öğrenci No: 20151411321\n",
    "\n",
    "    3. NUMARANIN ACILIMI:\n",
    "\n",
    "    4. GirisYili: 2015\n",
    "\n",
    "    5. FakulteNo: 14\n",
    "\n",
    "    6. BolumNo: 11\n",
    "\n",
    "    7. OgrenimNo: 3\n",
    "    \n",
    "    8. OgrenciNo: 21"
   ]
  },
  {
   "attachments": {},
   "cell_type": "markdown",
   "metadata": {},
   "source": []
  },
  {
   "cell_type": "code",
   "execution_count": 11,
   "metadata": {},
   "outputs": [
    {
     "name": "stdout",
     "output_type": "stream",
     "text": [
      "Öğrenci No:  123456789012 \n",
      "NUMARANIN ACILIMI: \n",
      "GirisYili:  1234 \n",
      "FakulteNo:  56 \n",
      "BolumNo:  78 \n",
      "OgrenimNo:  9 \n",
      "OgrenciNo:  012\n"
     ]
    }
   ],
   "source": [
    "# Odev2 nin cozümü. Nasuh Sungur\n",
    "ogr_num = input(\"12 haneli ögrenci numaranizi giriniz!\")\n",
    "\n",
    "if len(ogr_num) == 12:\n",
    "    giris_yili = ogr_num[:4]\n",
    "    fakulte_no = ogr_num[4:6]\n",
    "    bolum_no = ogr_num[6:8]\n",
    "    ogrenim_no = ogr_num[8:9]\n",
    "    ogrenci_no = ogr_num[9:]\n",
    "\n",
    "    print(\"Öğrenci No: \", ogr_num,\n",
    "          \"\\nNUMARANIN ACILIMI:\",\n",
    "          \"\\nGirisYili: \", giris_yili,\n",
    "          \"\\nFakulteNo: \", fakulte_no,\n",
    "          \"\\nBolumNo: \", bolum_no,          \n",
    "          \"\\nOgrenimNo: \", ogrenim_no, \n",
    "          \"\\nOgrenciNo: \", ogrenci_no )\n",
    "else:\n",
    "    print(\"girdiginiz numara yanlistir, tekrar deneyin\")\n"
   ]
  },
  {
   "attachments": {},
   "cell_type": "markdown",
   "metadata": {},
   "source": [
    "Soru 3: (20 puan)\n",
    "Bir liste içindeki 5’in katları olan sayıları bulan ve ekrana yazan bir program yazınız."
   ]
  },
  {
   "attachments": {},
   "cell_type": "markdown",
   "metadata": {},
   "source": []
  },
  {
   "cell_type": "code",
   "execution_count": 17,
   "metadata": {},
   "outputs": [
    {
     "name": "stdout",
     "output_type": "stream",
     "text": [
      "5\n",
      "10\n",
      "15\n",
      "20\n",
      "30\n",
      "40\n"
     ]
    }
   ],
   "source": [
    "# Odev3 nin cozümü. Nasuh Sungur\n",
    "den_list = [1, 3, 5, 9, 10, 14, 15, 20, 24, 30, 38, 40, 42]\n",
    "\n",
    "for i in den_list:\n",
    "    if i %5 == 0:\n",
    "        print(i) "
   ]
  },
  {
   "attachments": {},
   "cell_type": "markdown",
   "metadata": {},
   "source": [
    "Soru 4: (25 puan)  (Facebook Interview Question!)\n",
    "Parametre olarak bir tamsayı dizisi alan bir fonksiyon yazın (fonksiyonun adi moveZeroes olsun). Bu fonksiyonun görevi bu tamsayı dizisindeki sıfır olmayan öğelerin göreli sırasını korurken, tüm 0'ları dizinin sonuna taşısın.\n",
    "Not: Bunu dizinin bir kopyasını oluşturmadan, aynı dizi üzerinde yapmanız gerekmektedir.\n",
    "\n",
    "    1. Örnek:\n",
    "\n",
    "    2. sayilar = [0,1,0,3,11]\n",
    "\n",
    "    3. moveZeroes(sayilar)\n",
    "    \n",
    "    4. print(sayilar)  => Ekrana [1, 3, 11, 0, 0] yazmalı."
   ]
  },
  {
   "attachments": {},
   "cell_type": "markdown",
   "metadata": {},
   "source": []
  },
  {
   "cell_type": "code",
   "execution_count": 33,
   "metadata": {},
   "outputs": [],
   "source": [
    "# Odev4 nin cozümü. Nasuh Sungur\n",
    "def moveZeroes(sayilar):\n",
    "    \n",
    "    for i in sayilar:\n",
    "        if i != 0:\n",
    "           continue \n",
    "        else:\n",
    "            sayilar.remove(i)\n",
    "            sayilar.append(i)\n",
    "    return sayilar"
   ]
  },
  {
   "cell_type": "code",
   "execution_count": 36,
   "metadata": {},
   "outputs": [
    {
     "data": {
      "text/plain": [
       "[1, 3, 11, 0, 0]"
      ]
     },
     "execution_count": 36,
     "metadata": {},
     "output_type": "execute_result"
    }
   ],
   "source": [
    "moveZeroes([0,1,0,3,11])"
   ]
  },
  {
   "cell_type": "code",
   "execution_count": 157,
   "metadata": {},
   "outputs": [],
   "source": [
    "# Odev4 nin cozümü2. Nasuh Sungur\n",
    "def moveZeroes_1(sayilar):\n",
    "    \n",
    "    [(sayilar.remove(i), sayilar.append(i)) for i in sayilar if i == 0]\n",
    "    return sayilar"
   ]
  },
  {
   "cell_type": "code",
   "execution_count": 38,
   "metadata": {},
   "outputs": [
    {
     "data": {
      "text/plain": [
       "[4, 16, 45, 28, 5, 0, 0, 0]"
      ]
     },
     "execution_count": 38,
     "metadata": {},
     "output_type": "execute_result"
    }
   ],
   "source": [
    "moveZeroes_1([4,0,16,45,0,28,0,5])"
   ]
  },
  {
   "attachments": {},
   "cell_type": "markdown",
   "metadata": {},
   "source": [
    "Soru 5: (25 puan)  (Microsoft Interview Question!)\n",
    "Parametre olarak bir tamsayı listesi/arrayi (lst) alan bir fonksiyon yazın (fonksiyonun adı validMountainArray olsun). Bu fonksiyonun görevi lst tamsayı listesi eğer geçerli bir mountain array ise true değerini döndürsün aksi halde false değerini döndürsün.\n",
    "Bilgi: Mountain Array dizisi tanımı:\n",
    "    • lst.length >= 3 OLMALI\n",
    "    • i with 0 < i < lst.length - 1 öyle ki:\n",
    "        ◦ arr[0] < arr[1] < ... < arr[i - 1] < arr[i]\n",
    "arr[i] > arr[i + 1] > ... > arr[arr.length - 1]\n",
    "Aşağıdaki şekildeki örneklerde daha net anlaşılacak şekilde gösterilmiştir:\n",
    "\n",
    "Yani tekrar etmek gerekirse liste içindeki sayılar önce artacak daha sonra azalacaklardır.\n",
    "Sadece artma veya sadece azalma mountain array olmamaktadır.\n",
    "\n",
    "    1. Örnek:\n",
    "\n",
    "    2. Input: lst = [3,1]\n",
    "\n",
    "    3. Output: false\n",
    "\n",
    "    4.  \n",
    "    \n",
    "    5. Input: arr = [3,4,4]"
   ]
  },
  {
   "cell_type": "code",
   "execution_count": 52,
   "metadata": {},
   "outputs": [],
   "source": [
    "# Odev5 in cozümü. Nasuh Sungur\n",
    "\n",
    "def validMountainArray5(list):\n",
    "    \"\"\"En az uc elemanli bir sayi listesi giriniz\"\"\"\n",
    "    \n",
    "    if len(list) < 3:\n",
    "        return \"Girdiginiz liste en az 3 elemanli olmali\"\n",
    "    elif list.index(max(list)) == list.index(list[0]) or list.index(max(list)) == list.index(list[-1]):\n",
    "        return \"Girdiginiz sayi listesi ValidMountainArray a uygun degildir\"\n",
    "    else:\n",
    "        list_t = list[::-1]\n",
    "        list_art = []\n",
    "        list_azl = []\n",
    "    for i in range(0, list.index(max(list))+1):\n",
    "        if (list[i] < list[i + 1]):\n",
    "            list_art.append(list[i])\n",
    "    for j in range(0, list_t.index(max(list_t))+1):\n",
    "        if (list_t[j] < list_t[j+1]): \n",
    "            list_azl.append(list_t[j])\n",
    "    if len(list) == len(list_art) + len(list_azl) + 1:\n",
    "        return True\n",
    "    else:\n",
    "        return False"
   ]
  },
  {
   "cell_type": "code",
   "execution_count": 53,
   "metadata": {},
   "outputs": [
    {
     "data": {
      "text/plain": [
       "True"
      ]
     },
     "execution_count": 53,
     "metadata": {},
     "output_type": "execute_result"
    }
   ],
   "source": [
    "validMountainArray5([0,2,3,4,5,2,1,0])"
   ]
  },
  {
   "cell_type": "code",
   "execution_count": 54,
   "metadata": {},
   "outputs": [
    {
     "data": {
      "text/plain": [
       "False"
      ]
     },
     "execution_count": 54,
     "metadata": {},
     "output_type": "execute_result"
    }
   ],
   "source": [
    "validMountainArray5([0,2,3,3,5,2,1,0])"
   ]
  },
  {
   "cell_type": "code",
   "execution_count": 67,
   "metadata": {},
   "outputs": [],
   "source": [
    "def validMountainArray2(list):\n",
    "    \"\"\"En az uc elemanli bir sayi listesi giriniz\"\"\"\n",
    "    \n",
    "    if len(list) < 3:\n",
    "        return \"Girdiginiz liste en az 3 elemanli olmali\"\n",
    "    else:\n",
    "        for i in range(list[0], list.index(max(list)) + 1):\n",
    "            for j in range(list[::-1][0], list.index(max(list[::-1])) + 1):\n",
    "                if (list[i] < list[i + 1]) and (list[::-1][j] < list[::-1][j+1]): \n",
    "                    return True\n",
    "                else:\n",
    "                    return False "
   ]
  },
  {
   "cell_type": "code",
   "execution_count": 70,
   "metadata": {},
   "outputs": [
    {
     "data": {
      "text/plain": [
       "True"
      ]
     },
     "execution_count": 70,
     "metadata": {},
     "output_type": "execute_result"
    }
   ],
   "source": [
    "validMountainArray2([0,3,3,1,0])"
   ]
  },
  {
   "cell_type": "code",
   "execution_count": 9,
   "metadata": {},
   "outputs": [],
   "source": [
    "def validMountainArray3(list):\n",
    "    \"\"\"En az uc elemanli bir sayi listesi giriniz\"\"\"\n",
    "    \n",
    "    if len(list) < 3:\n",
    "        return \"Girdiginiz liste en az 3 elemanli olmali\"\n",
    "    else:\n",
    "        x = 0\n",
    "        y = 0\n",
    "        while x in range(list[0], list.index(max(list)) + 1):\n",
    "            while y in range(list[::-1][0], list.index(max(list[::-1])) + 1):\n",
    "                if (list[x] < list[x + 1]) and (list[::-1][y] < list[::-1][y+1]): \n",
    "                    return False\n",
    "                else:\n",
    "                    return True"
   ]
  },
  {
   "cell_type": "code",
   "execution_count": 6,
   "metadata": {},
   "outputs": [
    {
     "data": {
      "text/plain": [
       "False"
      ]
     },
     "execution_count": 6,
     "metadata": {},
     "output_type": "execute_result"
    }
   ],
   "source": [
    "validMountainArray2([0,2,3,1,0])"
   ]
  },
  {
   "cell_type": "code",
   "execution_count": 3,
   "metadata": {},
   "outputs": [],
   "source": [
    "def validMountainArray4(list):\n",
    "    \"\"\"En az uc elemanli bir sayi listesi giriniz\"\"\"\n",
    "    \n",
    "    if len(list) < 3:\n",
    "        return \"Girdiginiz liste en az 3 elemanli olmali\"\n",
    "    else:\n",
    "        list_t = list[::-1]\n",
    "        for i in range(list[0], list.index(max(list))):\n",
    "            if (list[i] < list[i + 1]):\n",
    "                a = True\n",
    "            else:\n",
    "                return False\n",
    "        for j in range(list_t[0], list_t.index(max(list_t))):\n",
    "            if (list_t[j] < list_t[j+1]): \n",
    "                b = True\n",
    "            else:\n",
    "                return False\n",
    "        if a == True and b == True:    \n",
    "            return True\n",
    "        else:\n",
    "            return False "
   ]
  },
  {
   "cell_type": "code",
   "execution_count": 4,
   "metadata": {},
   "outputs": [
    {
     "ename": "UnboundLocalError",
     "evalue": "cannot access local variable 'b' where it is not associated with a value",
     "output_type": "error",
     "traceback": [
      "\u001b[1;31m---------------------------------------------------------------------------\u001b[0m",
      "\u001b[1;31mUnboundLocalError\u001b[0m                         Traceback (most recent call last)",
      "Cell \u001b[1;32mIn[4], line 1\u001b[0m\n\u001b[1;32m----> 1\u001b[0m validMountainArray4([\u001b[39m0\u001b[39;49m,\u001b[39m3\u001b[39;49m,\u001b[39m2\u001b[39;49m])\n",
      "Cell \u001b[1;32mIn[3], line 18\u001b[0m, in \u001b[0;36mvalidMountainArray4\u001b[1;34m(list)\u001b[0m\n\u001b[0;32m     16\u001b[0m     \u001b[39melse\u001b[39;00m:\n\u001b[0;32m     17\u001b[0m         \u001b[39mreturn\u001b[39;00m \u001b[39mFalse\u001b[39;00m\n\u001b[1;32m---> 18\u001b[0m \u001b[39mif\u001b[39;00m a \u001b[39m==\u001b[39m \u001b[39mTrue\u001b[39;00m \u001b[39mand\u001b[39;00m b \u001b[39m==\u001b[39m \u001b[39mTrue\u001b[39;00m:    \n\u001b[0;32m     19\u001b[0m     \u001b[39mreturn\u001b[39;00m \u001b[39mTrue\u001b[39;00m\n\u001b[0;32m     20\u001b[0m \u001b[39melse\u001b[39;00m:\n",
      "\u001b[1;31mUnboundLocalError\u001b[0m: cannot access local variable 'b' where it is not associated with a value"
     ]
    }
   ],
   "source": [
    "validMountainArray4([0,3,2])"
   ]
  },
  {
   "cell_type": "code",
   "execution_count": null,
   "metadata": {},
   "outputs": [],
   "source": []
  },
  {
   "cell_type": "code",
   "execution_count": null,
   "metadata": {},
   "outputs": [],
   "source": [
    "\n"
   ]
  }
 ],
 "metadata": {
  "kernelspec": {
   "display_name": "Python 3",
   "language": "python",
   "name": "python3"
  },
  "language_info": {
   "codemirror_mode": {
    "name": "ipython",
    "version": 3
   },
   "file_extension": ".py",
   "mimetype": "text/x-python",
   "name": "python",
   "nbconvert_exporter": "python",
   "pygments_lexer": "ipython3",
   "version": "3.11.3"
  },
  "orig_nbformat": 4
 },
 "nbformat": 4,
 "nbformat_minor": 2
}
