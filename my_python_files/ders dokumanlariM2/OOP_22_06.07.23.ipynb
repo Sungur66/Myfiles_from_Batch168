{
 "cells": [
  {
   "cell_type": "code",
   "execution_count": 2,
   "metadata": {},
   "outputs": [
    {
     "name": "stdout",
     "output_type": "stream",
     "text": [
      "merhaba kelimesinde 3 sesli harf vardir\n"
     ]
    }
   ],
   "source": [
    "sesli_harfler = 'aeiuo'\n",
    "sayac = 0\n",
    "\n",
    "kelime = input(\"Bir Kelime Giriniz: \").lower()\n",
    "\n",
    "for harf in kelime:\n",
    "    if harf in sesli_harfler:\n",
    "        sayac += 1\n",
    "\n",
    "mesaj = f\"{kelime} kelimesinde {sayac} sesli harf vardir\"\n",
    "print(mesaj)"
   ]
  },
  {
   "cell_type": "code",
   "execution_count": 9,
   "metadata": {},
   "outputs": [
    {
     "name": "stdout",
     "output_type": "stream",
     "text": [
      "'bu kelimede kac sesli harf vardir?' kelimelerinde 11 sesli harf vardir\n"
     ]
    }
   ],
   "source": [
    "sesli_harfler = 'aeiuo'\n",
    "sayac = 0\n",
    "\n",
    "kelime = input(\"Bir Kelime Giriniz: \").lower()\n",
    "\n",
    "# def kelime_sor():\n",
    "#     return input(\"Bir Kelime Giriniz: \").lower()\n",
    "\n",
    "def seslidir(harf):\n",
    "    return harf in sesli_harfler\n",
    "\n",
    "def artir(sayac):\n",
    "    for harf in kelime:\n",
    "        if seslidir(harf):\n",
    "            sayac += 1\n",
    "    return sayac\n",
    "\n",
    "mesaj = f\"'{kelime}' kelimelerinde {artir(sayac)} sesli harf vardir\"\n",
    "print(mesaj)"
   ]
  },
  {
   "cell_type": "code",
   "execution_count": 11,
   "metadata": {},
   "outputs": [
    {
     "name": "stdout",
     "output_type": "stream",
     "text": [
      "'avakado' kelimelerinde 4 sesli harf vardir\n"
     ]
    }
   ],
   "source": [
    "sesli_harfler = 'aeiuo'\n",
    "sayac = 0\n",
    "\n",
    "def kelime_sor():\n",
    "    return input(\"Bir Kelime Giriniz: \").lower()\n",
    "\n",
    "def seslidir(harf):\n",
    "    return harf in sesli_harfler\n",
    "\n",
    "def artir(sayac, kelime):\n",
    "    for harf in kelime:\n",
    "        if seslidir(harf):\n",
    "            sayac += 1\n",
    "    return sayac\n",
    "\n",
    "def ekrana_goster(kelime):\n",
    "    mesaj = f\"'{kelime}' kelimelerinde {artir(sayac, kelime)} sesli harf vardir\"\n",
    "    print(mesaj)\n",
    "    \n",
    "def calistir():\n",
    "    kelime = kelime_sor()\n",
    "    ekrana_goster(kelime)\n",
    "    \n",
    "calistir()"
   ]
  },
  {
   "cell_type": "code",
   "execution_count": 13,
   "metadata": {},
   "outputs": [
    {
     "name": "stdout",
     "output_type": "stream",
     "text": [
      "'kelimeler' kelimelerinde 4 sesli harf vardir\n"
     ]
    }
   ],
   "source": [
    "sesli_harfler = 'aeiuo'\n",
    "sayac = 0\n",
    "\n",
    "def kelime_sor():\n",
    "    return input(\"Bir Kelime Giriniz: \").lower()\n",
    "\n",
    "def seslidir(harf):\n",
    "    return harf in sesli_harfler\n",
    "\n",
    "def artir(sayac, kelime):\n",
    "    for harf in kelime:\n",
    "        if seslidir(harf):\n",
    "            sayac += 1\n",
    "    return sayac\n",
    "\n",
    "def ekrana_goster(kelime):\n",
    "    mesaj = f\"'{kelime}' kelimelerinde {artir(sayac, kelime)} sesli harf vardir\"\n",
    "    print(mesaj)\n",
    "    \n",
    "def calistir():\n",
    "    kelime = kelime_sor()\n",
    "    ekrana_goster(kelime)\n",
    "    \n",
    "if __name__ == '__main__':\n",
    "    calistir()"
   ]
  },
  {
   "cell_type": "code",
   "execution_count": 17,
   "metadata": {},
   "outputs": [
    {
     "name": "stdout",
     "output_type": "stream",
     "text": [
      "'hololopsololop' kelimelerinde 6 sesli harf vardir\n"
     ]
    }
   ],
   "source": [
    "class HarfSayaci:\n",
    "    def __init__(self):\n",
    "        self.sesli_harfler = 'aeiuo'\n",
    "        self.sayac = 0\n",
    "\n",
    "    def kelime_sor(self):\n",
    "        return input(\"Bir Kelime Giriniz: \").lower()\n",
    "\n",
    "    def seslidir(self, harf):\n",
    "        return harf in self.sesli_harfler\n",
    "\n",
    "    def artir(self):\n",
    "        for harf in self.kelime:\n",
    "            if self.seslidir(harf):\n",
    "                self.sayac += 1\n",
    "        return self.sayac\n",
    "\n",
    "    def ekrana_goster(self):\n",
    "        sesli_harf_sayisi = self.artir()\n",
    "        mesaj = f\"'{self.kelime}' kelimelerinde {sesli_harf_sayisi} sesli harf vardir\"\n",
    "        print(mesaj)\n",
    "        \n",
    "    def calistir(self):\n",
    "        self.kelime = self.kelime_sor()\n",
    "        self.ekrana_goster()\n",
    "        \n",
    "if __name__ == '__main__':\n",
    "    harfinisayayim = HarfSayaci()\n",
    "    harfinisayayim.calistir()"
   ]
  },
  {
   "cell_type": "code",
   "execution_count": 18,
   "metadata": {},
   "outputs": [
    {
     "name": "stdout",
     "output_type": "stream",
     "text": [
      "'kelimeler' kelimelerinde 5 sessiz harf vardir\n"
     ]
    }
   ],
   "source": [
    "class HarfSayaci:\n",
    "    def __init__(self):\n",
    "        self.sessiz_harfler = 'bcdfghjklmnprstuvyzqwx'\n",
    "        self.sayac = 0\n",
    "\n",
    "    def kelime_sor(self):\n",
    "        return input(\"Bir Kelime Giriniz: \").lower()\n",
    "\n",
    "    def sessizdir(self, harf):\n",
    "        return harf in self.sessiz_harfler\n",
    "\n",
    "    def artir(self):\n",
    "        for harf in self.kelime:\n",
    "            if self.sessizdir(harf):\n",
    "                self.sayac += 1\n",
    "        return self.sayac\n",
    "\n",
    "    def ekrana_goster(self):\n",
    "        sessiz_harf_sayisi = self.artir()\n",
    "        mesaj = f\"'{self.kelime}' kelimelerinde {sessiz_harf_sayisi} sessiz harf vardir\"\n",
    "        print(mesaj)\n",
    "        \n",
    "    def calistir(self):\n",
    "        self.kelime = self.kelime_sor()\n",
    "        self.ekrana_goster()\n",
    "        \n",
    "if __name__ == '__main__':\n",
    "    harfinisayayim = HarfSayaci()\n",
    "    harfinisayayim.calistir()"
   ]
  },
  {
   "cell_type": "code",
   "execution_count": 19,
   "metadata": {},
   "outputs": [
    {
     "name": "stdout",
     "output_type": "stream",
     "text": [
      "uzaktankumanda kelimesinde 6 sesli harf vardir\n",
      "8 sessiz harf vardir \n"
     ]
    }
   ],
   "source": [
    "class HarfSayaci:                    # halil muslubas\n",
    "    def __init__(self):\n",
    "        self.sesli_harfler=\"aeiioöuü\"\n",
    "        self.sesizharfler=\"abcdfgğhjklmnprsştvyz\"\n",
    "        self.sayac_sesli=0\n",
    "        self.sayac_sessiz=0\n",
    "    def kelimesor(self):\n",
    "        return input(\"Kelime Gir\")\n",
    "    def seslendir(self,harf):\n",
    "        return harf in self.sesli_harfler\n",
    "    def sessiz_oku(self,harf):\n",
    "        return harf in self.sesizharfler\n",
    "    \n",
    "    def artir(self):\n",
    "        for harf in self.kelime:\n",
    "            if self.seslendir(harf):\n",
    "                self.sayac_sesli+=1\n",
    "            elif self.sessiz_oku(harf):\n",
    "                self.sayac_sessiz+=1\n",
    "        return [self.sayac_sesli,self.sayac_sessiz]\n",
    "    def ekranda_goster(self):\n",
    "        sesli_harf_sayisi=self.artir()\n",
    "        mesaj=f\"{self.kelime} kelimesinde {sesli_harf_sayisi[0]} sesli harf vardir\\n{sesli_harf_sayisi[1]} sessiz harf vardir \"\n",
    "        print(mesaj)\n",
    "    def calistir(self):\n",
    "        self.kelime=self.kelimesor()\n",
    "        self.ekranda_goster()\n",
    "        \n",
    "\n",
    "if __name__==\"__main__\":\n",
    "    sayac=HarfSayaci()\n",
    "    sayac.calistir()"
   ]
  },
  {
   "cell_type": "code",
   "execution_count": 20,
   "metadata": {},
   "outputs": [
    {
     "name": "stdout",
     "output_type": "stream",
     "text": [
      "gazetepencerew kelimesinde 6 sesli,12 sessiz harf vardır\n"
     ]
    }
   ],
   "source": [
    "class HarfSayaci:       # Murat s beyden\n",
    "    def __init__(self):\n",
    "        self.sesli_harfler = \"aeıioöuü\"\n",
    "        self.sessiz_harfler = \"bcçdefgğhjklmnprsştvyz\"\n",
    "        self.seslisayac = 0\n",
    "        self.sessizsayac = 0\n",
    "\n",
    "    def kelime_sor(self):\n",
    "        return input(\"Bir kelime giriniz: \").lower()\n",
    "    \n",
    "    def seslidir(self, harf):\n",
    "        return harf in self.sesli_harfler\n",
    "    \n",
    "    def sessizdir(self, harf):\n",
    "        return harf in self.sessiz_harfler\n",
    "    \n",
    "    def artirsesli(self):\n",
    "        for harf in self.kelime:\n",
    "            if self.seslidir(harf):\n",
    "                self.seslisayac += 1\n",
    "                            \n",
    "        return self.seslisayac\n",
    "    \n",
    "    def artirsessiz(self):\n",
    "        for harf in self.kelime:\n",
    "            if self.sessizdir(harf):\n",
    "                self.sessizsayac += 1\n",
    "                \n",
    "        return self. sessizsayac\n",
    "    \n",
    "    def ekrana_goster(self):\n",
    "        sesli_harf_sayisi = self.artirsesli()\n",
    "        sessiz_harf_sayisi = self.artirsessiz()\n",
    "        mesaj = f\"{self.kelime} kelimesinde {sesli_harf_sayisi} sesli,{sessiz_harf_sayisi} sessiz harf vardır\"\n",
    "        print(mesaj)\n",
    "\n",
    "    def calistir(self):\n",
    "        self.kelime = self.kelime_sor()\n",
    "        self.ekrana_goster()\n",
    "\n",
    "if __name__ == '__main__':\n",
    "    harfsay = HarfSayaci()\n",
    "    harfsay.calistir()"
   ]
  },
  {
   "cell_type": "code",
   "execution_count": 21,
   "metadata": {},
   "outputs": [
    {
     "name": "stdout",
     "output_type": "stream",
     "text": [
      "cekoslavakyalilastiramadiklarimizdan misinz kelimesinde 17 sesli, 25 sessiz harf vardır\n"
     ]
    }
   ],
   "source": [
    "class HarfSayaci:                    # hocanin kodlari\n",
    "    def __init__(self):\n",
    "        self.sesli_harfler = \"aeıioöuü\"\n",
    "        self.sessiz_harfler = \"bcçdfgğhjklmnprsştvyz\"\n",
    "        self.sayac_sesli = 0\n",
    "        self.sayac_sessiz = 0\n",
    "\n",
    "    def kelime_sor(self):\n",
    "        return input(\"Bir kelime giriniz: \").lower()\n",
    "    \n",
    "    def seslidir(self, harf):\n",
    "        return harf in self.sesli_harfler\n",
    "    \n",
    "    def sessizdir(self, harf):\n",
    "        return harf in self.sessiz_harfler\n",
    "    \n",
    "    def artir(self):\n",
    "        for harf in self.kelime:\n",
    "            if self.seslidir(harf):\n",
    "                self.sayac_sesli += 1\n",
    "            elif self.sessizdir(harf):\n",
    "                self.sayac_sessiz += 1\n",
    "        return (self.sayac_sesli, self.sayac_sessiz)\n",
    "    \n",
    "    def ekrana_goster(self):\n",
    "        sesli, sessiz = self.artir()  # tuple daki ilk deger sesli ikinci deger sessiz icin tanimlandi\n",
    "        mesaj = f\"{self.kelime} kelimesinde {sesli} sesli, {sessiz} sessiz harf vardır\"\n",
    "        print(mesaj)\n",
    "\n",
    "    def calistir(self):\n",
    "        self.kelime = self.kelime_sor()\n",
    "        self.ekrana_goster()\n",
    "\n",
    "if __name__ == '__main__':\n",
    "    harfsay = HarfSayaci()\n",
    "    harfsay.calistir()"
   ]
  },
  {
   "cell_type": "code",
   "execution_count": 30,
   "metadata": {},
   "outputs": [
    {
     "name": "stdout",
     "output_type": "stream",
     "text": [
      "0\n",
      "2\n",
      "52500.0\n"
     ]
    }
   ],
   "source": [
    "class Personel:\n",
    "    zam_orani = 1.05\n",
    "    personel_sayisi = 0\n",
    "    \n",
    "    def __init__(self, isim, soyisim, maas):\n",
    "        self.name = isim\n",
    "        self.soyad = soyisim\n",
    "        self.price = maas\n",
    "        self.eposta = f\"{isim.lower()}.{soyisim.lower()}@firma.com\"\n",
    "        \n",
    "        Personel.personel_sayisi += 1\n",
    "    \n",
    "    def tam_isim(self):\n",
    "        return f\"{self.name} {self.soyad}\"\n",
    "    \n",
    "    def zam_uygula(self):\n",
    "        self.price = self.price * self.zam_orani\n",
    "        \n",
    "print(Personel.personel_sayisi)\n",
    "    \n",
    "per1 = Personel(\"Hana\", \"Sng\", 50000)\n",
    "per2 = Personel(\"Hana2\", \"Sng2\", 52000)\n",
    "    \n",
    "print(Personel.personel_sayisi)\n",
    "\n",
    "per1.zam_uygula()\n",
    "print(per1.price)\n",
    "    "
   ]
  },
  {
   "cell_type": "markdown",
   "metadata": {},
   "source": [
    "# OOP  Metadolojileri"
   ]
  },
  {
   "cell_type": "code",
   "execution_count": 34,
   "metadata": {},
   "outputs": [],
   "source": [
    "class Arac:\n",
    "    def __init__(self, marka, model, renk):\n",
    "        self.marka = marka\n",
    "        self.model = model\n",
    "        self.renk = renk\n",
    "        \n",
    "    def hareket_et(self):\n",
    "        print(f\"{self.marka} arac hareket ediyor\")\n",
    "        \n",
    "    def dur(self):\n",
    "        print(f\"{self.marka} arac durdu\")\n",
    "        \n",
    "class Araba(Arac):\n",
    "    def __init__(self, marka, model, renk, hiz):\n",
    "        super().__init__(marka, model, renk)\n",
    "        self.hiz = hiz\n",
    "        \n",
    "    def hareket_et(self):\n",
    "        print(f\"{self.marka} araba hareket etmistir\")\n",
    "        \n",
    "    def dur(self):\n",
    "        print(f\"{self.marka} araba durmustur\")\n",
    "        \n",
    "class Bisiklet(Arac):\n",
    "    def __init__(self, marka, model, renk, vites_sayisi):\n",
    "        super().__init__(marka, model, renk)\n",
    "        self.vites_sayisi = vites_sayisi\n",
    "    \n",
    "    def hareket_et(self):\n",
    "        print(f\"{self.marka} bisiklet hareket etmistir\")\n",
    "        \n",
    "    def dur(self):\n",
    "        print(f\"{self.marka} bisiklet durmustur\")  \n",
    "    "
   ]
  },
  {
   "cell_type": "code",
   "execution_count": 44,
   "metadata": {},
   "outputs": [
    {
     "name": "stdout",
     "output_type": "stream",
     "text": [
      "<__main__.Araba object at 0x000002C228959BD0>\n",
      "mercedes araba hareket etmistir\n",
      "mercedes araba durmustur\n",
      "s300\n",
      "hizi:  300\n"
     ]
    }
   ],
   "source": [
    "araba1 = Araba(\"mercedes\", \"s300\", \"kirmizi\", 300)\n",
    "print(araba1)\n",
    "araba1.hareket_et()\n",
    "araba1.dur()\n",
    "print(araba1.model)\n",
    "print(\"hizi: \", araba1.hiz)"
   ]
  },
  {
   "cell_type": "code",
   "execution_count": 41,
   "metadata": {},
   "outputs": [
    {
     "name": "stdout",
     "output_type": "stream",
     "text": [
      "BMX bisiklet hareket etmistir\n",
      "BMX bisiklet durmustur\n",
      "hiz bsklt\n",
      "18\n"
     ]
    }
   ],
   "source": [
    "bisiklet1 = Bisiklet(\"BMX\", \"hiz bsklt\", \"gri\", 18)\n",
    "bisiklet1.hareket_et()\n",
    "bisiklet1.dur()\n",
    "print(bisiklet1.model)\n",
    "print(bisiklet1.vites_sayisi)"
   ]
  },
  {
   "cell_type": "code",
   "execution_count": null,
   "metadata": {},
   "outputs": [],
   "source": []
  }
 ],
 "metadata": {
  "kernelspec": {
   "display_name": "Python 3",
   "language": "python",
   "name": "python3"
  },
  "language_info": {
   "codemirror_mode": {
    "name": "ipython",
    "version": 3
   },
   "file_extension": ".py",
   "mimetype": "text/x-python",
   "name": "python",
   "nbconvert_exporter": "python",
   "pygments_lexer": "ipython3",
   "version": "3.11.4"
  },
  "orig_nbformat": 4
 },
 "nbformat": 4,
 "nbformat_minor": 2
}
