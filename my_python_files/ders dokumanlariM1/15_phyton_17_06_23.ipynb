{
 "cells": [
  {
   "attachments": {},
   "cell_type": "markdown",
   "metadata": {},
   "source": [
    "amicable number\n",
    "\n",
    "220 sayisinin tam bölenlerinin toplami bir sayi (284) (1, 2, 4, 5, 10, 11, 20, 22, 44, 55, 110)\n",
    "ve 284 un tam bölenlerinin stoplami 220 ise, 220 ve 284 dostane sayi amicable number"
   ]
  },
  {
   "cell_type": "code",
   "execution_count": 16,
   "metadata": {},
   "outputs": [
    {
     "name": "stdout",
     "output_type": "stream",
     "text": [
      "[1, 2, 3, 4, 5, 6, 7, 10, 12, 14, 15, 20, 21, 28, 30, 35, 42, 60, 70, 84, 105, 140, 210]\n",
      "924\n",
      "[1, 2, 3, 4, 6, 7, 11, 12, 14, 21, 22, 28, 33, 42, 44, 66, 77, 84, 132, 154, 231, 308, 462]\n",
      "1764\n",
      "Girdiginiz sayi 420, amicable degildir.\n"
     ]
    }
   ],
   "source": [
    "x = int(input(\"bir sayi girin\"))\n",
    "\n",
    "sum_i = 0\n",
    "sum_j = 0\n",
    "tam_bolenler1 = []\n",
    "tam_bolenler2 = []\n",
    "\n",
    "for i in range(1, x):\n",
    "    if x % i == 0:\n",
    "        tam_bolenler1.append(i)\n",
    "        sum_i += i\n",
    "print(tam_bolenler1)\n",
    "print(sum_i)\n",
    "\n",
    "for j in range(1, sum_i):\n",
    "\n",
    "    if sum_i % j == 0:\n",
    "        tam_bolenler2.append(j)\n",
    "        sum_j += j\n",
    "print(tam_bolenler2)\n",
    "print(sum_j)\n",
    "\n",
    "if x == sum_j:\n",
    "    print(f\"girdiginiz sayi {x}, {sum_i} ile amicable dir\")\n",
    "else:\n",
    "    print(f\"Girdiginiz sayi {x}, amicable degildir.\")\n",
    "\n"
   ]
  },
  {
   "cell_type": "code",
   "execution_count": 13,
   "metadata": {},
   "outputs": [
    {
     "name": "stdout",
     "output_type": "stream",
     "text": [
      "girdiginiz sayi 6, 6 ile amicable dir\n"
     ]
    }
   ],
   "source": [
    "x = int(input(\"bir sayi girin\"))\n",
    "\n",
    "sum_i = sum([i for i in range(1,x) if x % i == 0])\n",
    "    \n",
    "sum_j = sum([j for j in range(1, sum_i) if sum_i % j == 0])\n",
    "\n",
    "if x == sum_j:\n",
    "    print(f\"girdiginiz sayi {x}, {sum_i} ile amicable dir\")\n",
    "else:\n",
    "    print(f\"Girdiginiz sayi {x}, amicable degildir.\")"
   ]
  },
  {
   "cell_type": "code",
   "execution_count": 20,
   "metadata": {},
   "outputs": [
    {
     "data": {
      "text/plain": [
       "<generator object <genexpr> at 0x0000025CBE0665A0>"
      ]
     },
     "execution_count": 20,
     "metadata": {},
     "output_type": "execute_result"
    }
   ],
   "source": [
    "(i ** 2 for i in [1,2,3,4,5]) # islem yapildi hafizada kayitli"
   ]
  },
  {
   "cell_type": "code",
   "execution_count": 19,
   "metadata": {},
   "outputs": [
    {
     "data": {
      "text/plain": [
       "[1, 4, 9, 16, 25]"
      ]
     },
     "execution_count": 19,
     "metadata": {},
     "output_type": "execute_result"
    }
   ],
   "source": [
    "list(i ** 2 for i in [1,2,3,4,5])"
   ]
  },
  {
   "cell_type": "code",
   "execution_count": 22,
   "metadata": {},
   "outputs": [
    {
     "data": {
      "text/plain": [
       "(1, 4, 9, 16, 25)"
      ]
     },
     "execution_count": 22,
     "metadata": {},
     "output_type": "execute_result"
    }
   ],
   "source": [
    "tuple(i ** 2 for i in [1,2,3,4,5])"
   ]
  },
  {
   "attachments": {},
   "cell_type": "markdown",
   "metadata": {},
   "source": [
    "# funktions()"
   ]
  },
  {
   "attachments": {},
   "cell_type": "markdown",
   "metadata": {},
   "source": [
    "yapiaöcak bir islemi kolaylastirmak icin kullanilan methodlar. gömulü fonsiyonlsr 72 civari. kendimiz fonk. olusutabiliriz.\n",
    "\n",
    "def fonk_ismi(parametreler):\n",
    "\n",
    "    islem satiri/satirlari (ne yaptirmak istiyorsak)"
   ]
  },
  {
   "cell_type": "code",
   "execution_count": null,
   "metadata": {},
   "outputs": [],
   "source": [
    "def fonk_ismi(parametreler):\n",
    "    islem satirkari"
   ]
  },
  {
   "cell_type": "code",
   "execution_count": 23,
   "metadata": {},
   "outputs": [],
   "source": [
    "def karaler_toplami(x, y):\n",
    "    print(x ** 2 + y ** 2)"
   ]
  },
  {
   "cell_type": "code",
   "execution_count": 24,
   "metadata": {},
   "outputs": [
    {
     "name": "stdout",
     "output_type": "stream",
     "text": [
      "25\n"
     ]
    }
   ],
   "source": [
    "karaler_toplami(3,4)"
   ]
  },
  {
   "cell_type": "code",
   "execution_count": 25,
   "metadata": {},
   "outputs": [
    {
     "name": "stdout",
     "output_type": "stream",
     "text": [
      "56.45\n"
     ]
    }
   ],
   "source": [
    "karaler_toplami(3.4, 6.7)"
   ]
  },
  {
   "attachments": {},
   "cell_type": "markdown",
   "metadata": {},
   "source": [
    "iki sayinin carpimini bulan fonktion"
   ]
  },
  {
   "cell_type": "code",
   "execution_count": 27,
   "metadata": {},
   "outputs": [],
   "source": [
    "def multiply(a,b):\n",
    "    return a*b"
   ]
  },
  {
   "cell_type": "code",
   "execution_count": 28,
   "metadata": {},
   "outputs": [
    {
     "data": {
      "text/plain": [
       "<function __main__.multiply(a, b)>"
      ]
     },
     "execution_count": 28,
     "metadata": {},
     "output_type": "execute_result"
    }
   ],
   "source": [
    "multiply"
   ]
  },
  {
   "cell_type": "code",
   "execution_count": 29,
   "metadata": {},
   "outputs": [
    {
     "data": {
      "text/plain": [
       "12"
      ]
     },
     "execution_count": 29,
     "metadata": {},
     "output_type": "execute_result"
    }
   ],
   "source": [
    "multiply(3,4)"
   ]
  },
  {
   "cell_type": "code",
   "execution_count": null,
   "metadata": {},
   "outputs": [],
   "source": [
    "def karaler_toplami(x, y):\n",
    "    print(x ** 2 + y ** 2)"
   ]
  },
  {
   "cell_type": "code",
   "execution_count": 30,
   "metadata": {},
   "outputs": [
    {
     "name": "stdout",
     "output_type": "stream",
     "text": [
      "29\n"
     ]
    }
   ],
   "source": [
    "aa = karaler_toplami(2,5)"
   ]
  },
  {
   "cell_type": "code",
   "execution_count": 32,
   "metadata": {},
   "outputs": [],
   "source": [
    "bb = multiply(2,7)"
   ]
  },
  {
   "cell_type": "code",
   "execution_count": 33,
   "metadata": {},
   "outputs": [
    {
     "name": "stdout",
     "output_type": "stream",
     "text": [
      "14\n"
     ]
    }
   ],
   "source": [
    "print(bb)"
   ]
  },
  {
   "cell_type": "code",
   "execution_count": 31,
   "metadata": {},
   "outputs": [
    {
     "name": "stdout",
     "output_type": "stream",
     "text": [
      "None\n"
     ]
    }
   ],
   "source": [
    "print(aa) # print fonk bir kere calisir birdaha göstermez.\n",
    "          # fonksiyonlari baska yerlerde kullanabilmek icin return kullanilir\n",
    "          # ciktiyi baska bir yerde kullanmayiz"
   ]
  },
  {
   "cell_type": "code",
   "execution_count": 34,
   "metadata": {},
   "outputs": [],
   "source": [
    "def neset_baba():\n",
    "    print(\"kadinlar insandir, biz insanoglu\")"
   ]
  },
  {
   "cell_type": "code",
   "execution_count": 36,
   "metadata": {},
   "outputs": [
    {
     "name": "stdout",
     "output_type": "stream",
     "text": [
      "kadinlar insandir, biz insanoglu\n"
     ]
    }
   ],
   "source": [
    "neset_baba()"
   ]
  },
  {
   "cell_type": "code",
   "execution_count": 37,
   "metadata": {},
   "outputs": [
    {
     "name": "stdout",
     "output_type": "stream",
     "text": [
      "kadinlar insandir, biz insanoglu\n"
     ]
    }
   ],
   "source": [
    "neset_baba()"
   ]
  },
  {
   "cell_type": "code",
   "execution_count": 41,
   "metadata": {},
   "outputs": [],
   "source": [
    "def neset_baba2():\n",
    "    return(\"kadinlar insandir, biz insanoglu\")"
   ]
  },
  {
   "cell_type": "code",
   "execution_count": 42,
   "metadata": {},
   "outputs": [
    {
     "data": {
      "text/plain": [
       "'kadinlar insandir, biz insanoglu'"
      ]
     },
     "execution_count": 42,
     "metadata": {},
     "output_type": "execute_result"
    }
   ],
   "source": [
    "neset_baba2()"
   ]
  },
  {
   "attachments": {},
   "cell_type": "markdown",
   "metadata": {},
   "source": [
    "hesapmakinasi fonksiyonu"
   ]
  },
  {
   "cell_type": "code",
   "execution_count": 43,
   "metadata": {},
   "outputs": [],
   "source": [
    "def calculator(x, opr, y):\n",
    "\n",
    "    \"\"\"bu fonksiyon temel seviye 4 islem yapabilmek icin olusturulmustur \"\"\"\n",
    "\n",
    "    if (opr == '+'):\n",
    "        return x + y\n",
    "    elif (opr == \"-\"):\n",
    "        return x - y\n",
    "    elif (opr == \"*\"):\n",
    "        return x * y\n",
    "    elif (opr == \"/\"):\n",
    "        return x / y \n",
    "    else:\n",
    "        return \"Hatali giris yaptiniz\""
   ]
  },
  {
   "cell_type": "code",
   "execution_count": 44,
   "metadata": {},
   "outputs": [
    {
     "data": {
      "text/plain": [
       "9"
      ]
     },
     "execution_count": 44,
     "metadata": {},
     "output_type": "execute_result"
    }
   ],
   "source": [
    "calculator(4,\"+\",5)"
   ]
  },
  {
   "cell_type": "code",
   "execution_count": 45,
   "metadata": {},
   "outputs": [
    {
     "data": {
      "text/plain": [
       "20"
      ]
     },
     "execution_count": 45,
     "metadata": {},
     "output_type": "execute_result"
    }
   ],
   "source": [
    "calculator(4,\"*\",5)"
   ]
  },
  {
   "cell_type": "code",
   "execution_count": 46,
   "metadata": {},
   "outputs": [
    {
     "data": {
      "text/plain": [
       "'Hatali giris yaptiniz'"
      ]
     },
     "execution_count": 46,
     "metadata": {},
     "output_type": "execute_result"
    }
   ],
   "source": [
    "calculator(4,\"x\",5)"
   ]
  },
  {
   "cell_type": "code",
   "execution_count": 47,
   "metadata": {},
   "outputs": [
    {
     "data": {
      "text/plain": [
       "'Hatali giris yaptiniz'"
      ]
     },
     "execution_count": 47,
     "metadata": {},
     "output_type": "execute_result"
    }
   ],
   "source": [
    "calculator(4, 5, \"+\")"
   ]
  },
  {
   "cell_type": "code",
   "execution_count": 48,
   "metadata": {},
   "outputs": [
    {
     "ename": "TypeError",
     "evalue": "calculator() missing 1 required positional argument: 'y'",
     "output_type": "error",
     "traceback": [
      "\u001b[1;31m---------------------------------------------------------------------------\u001b[0m",
      "\u001b[1;31mTypeError\u001b[0m                                 Traceback (most recent call last)",
      "Cell \u001b[1;32mIn[48], line 1\u001b[0m\n\u001b[1;32m----> 1\u001b[0m calculator(\u001b[39m4\u001b[39;49m,\u001b[39m5\u001b[39;49m)\n",
      "\u001b[1;31mTypeError\u001b[0m: calculator() missing 1 required positional argument: 'y'"
     ]
    }
   ],
   "source": [
    "calculator(4,5)"
   ]
  },
  {
   "cell_type": "code",
   "execution_count": null,
   "metadata": {},
   "outputs": [],
   "source": [
    "calculator()"
   ]
  },
  {
   "cell_type": "code",
   "execution_count": 51,
   "metadata": {},
   "outputs": [],
   "source": [
    "def my_len(iter):\n",
    "    \"\"\"Girilen degerin uzunlugunu dondurur \"\"\"\n",
    "\n",
    "    counter = 0\n",
    "\n",
    "    for i in iter:\n",
    "        counter += 1\n",
    "    \n",
    "    return counter"
   ]
  },
  {
   "cell_type": "code",
   "execution_count": 52,
   "metadata": {},
   "outputs": [
    {
     "data": {
      "text/plain": [
       "7"
      ]
     },
     "execution_count": 52,
     "metadata": {},
     "output_type": "execute_result"
    }
   ],
   "source": [
    "my_len(\"techpro\")"
   ]
  },
  {
   "cell_type": "code",
   "execution_count": 53,
   "metadata": {},
   "outputs": [
    {
     "data": {
      "text/plain": [
       "5"
      ]
     },
     "execution_count": 53,
     "metadata": {},
     "output_type": "execute_result"
    }
   ],
   "source": [
    "my_len([1,2,3,4,5])"
   ]
  },
  {
   "cell_type": "code",
   "execution_count": 54,
   "metadata": {},
   "outputs": [
    {
     "ename": "TypeError",
     "evalue": "'int' object is not iterable",
     "output_type": "error",
     "traceback": [
      "\u001b[1;31m---------------------------------------------------------------------------\u001b[0m",
      "\u001b[1;31mTypeError\u001b[0m                                 Traceback (most recent call last)",
      "Cell \u001b[1;32mIn[54], line 1\u001b[0m\n\u001b[1;32m----> 1\u001b[0m my_len(\u001b[39m456\u001b[39;49m)\n",
      "Cell \u001b[1;32mIn[51], line 6\u001b[0m, in \u001b[0;36mmy_len\u001b[1;34m(iter)\u001b[0m\n\u001b[0;32m      2\u001b[0m \u001b[39m\u001b[39m\u001b[39m\"\"\"Girilen degerin uzunlugunu dondurur \"\"\"\u001b[39;00m\n\u001b[0;32m      4\u001b[0m counter \u001b[39m=\u001b[39m \u001b[39m0\u001b[39m\n\u001b[1;32m----> 6\u001b[0m \u001b[39mfor\u001b[39;00m i \u001b[39min\u001b[39;00m \u001b[39miter\u001b[39m:\n\u001b[0;32m      7\u001b[0m     counter \u001b[39m+\u001b[39m\u001b[39m=\u001b[39m \u001b[39m1\u001b[39m\n\u001b[0;32m      9\u001b[0m \u001b[39mreturn\u001b[39;00m counter\n",
      "\u001b[1;31mTypeError\u001b[0m: 'int' object is not iterable"
     ]
    }
   ],
   "source": [
    "my_len(456)"
   ]
  },
  {
   "cell_type": "code",
   "execution_count": 58,
   "metadata": {},
   "outputs": [],
   "source": [
    "def len_int(sayi):\n",
    "    \"\"\"Girilen sayinin uzunlugunu bulur \"\"\"\n",
    "    iter = str(sayi)\n",
    "    counter = 0\n",
    "\n",
    "    for i in iter:\n",
    "        counter += 1\n",
    "    \n",
    "    return counter"
   ]
  },
  {
   "cell_type": "code",
   "execution_count": 59,
   "metadata": {},
   "outputs": [
    {
     "data": {
      "text/plain": [
       "3"
      ]
     },
     "execution_count": 59,
     "metadata": {},
     "output_type": "execute_result"
    }
   ],
   "source": [
    "len_int(456)"
   ]
  },
  {
   "cell_type": "code",
   "execution_count": 60,
   "metadata": {},
   "outputs": [
    {
     "data": {
      "text/plain": [
       "7"
      ]
     },
     "execution_count": 60,
     "metadata": {},
     "output_type": "execute_result"
    }
   ],
   "source": [
    "len_int(\"techpro\")"
   ]
  },
  {
   "cell_type": "code",
   "execution_count": 61,
   "metadata": {},
   "outputs": [
    {
     "data": {
      "text/plain": [
       "15"
      ]
     },
     "execution_count": 61,
     "metadata": {},
     "output_type": "execute_result"
    }
   ],
   "source": [
    "len_int([1,2,3,4,5])"
   ]
  },
  {
   "cell_type": "code",
   "execution_count": 63,
   "metadata": {},
   "outputs": [],
   "source": [
    "def len_int2(x):\n",
    "    \"\"\"Girilen sayinin uzunlugunu bulur \"\"\"\n",
    "    if str(x).isdigit():\n",
    "        counter = 0\n",
    "        for i in str(x):\n",
    "            counter += 1\n",
    "    \n",
    "        return counter\n",
    "    else:\n",
    "        return \"int tipine uygun ifade girin\""
   ]
  },
  {
   "cell_type": "code",
   "execution_count": 64,
   "metadata": {},
   "outputs": [
    {
     "data": {
      "text/plain": [
       "4"
      ]
     },
     "execution_count": 64,
     "metadata": {},
     "output_type": "execute_result"
    }
   ],
   "source": [
    "len_int2(1234)"
   ]
  },
  {
   "cell_type": "code",
   "execution_count": 65,
   "metadata": {},
   "outputs": [
    {
     "data": {
      "text/plain": [
       "'int tipine uygun ifade girin'"
      ]
     },
     "execution_count": 65,
     "metadata": {},
     "output_type": "execute_result"
    }
   ],
   "source": [
    "len_int2([1,2,3])"
   ]
  },
  {
   "attachments": {},
   "cell_type": "markdown",
   "metadata": {},
   "source": [
    "bir cumle icindeki gecen harflerin sayisi bulan bir algoritma yazalim"
   ]
  },
  {
   "cell_type": "code",
   "execution_count": null,
   "metadata": {},
   "outputs": [],
   "source": [
    "\"Techpro education is the best\""
   ]
  },
  {
   "cell_type": "code",
   "execution_count": 68,
   "metadata": {},
   "outputs": [
    {
     "data": {
      "text/plain": [
       "{'friend1': 'Furkan', 'friend2': 'Hikmet'}"
      ]
     },
     "execution_count": 68,
     "metadata": {},
     "output_type": "execute_result"
    }
   ],
   "source": [
    "dict_friend = {\"friend1\" : \"Furkan\", \"friend2\":\"Hikmet\"}\n",
    "dict_friend"
   ]
  },
  {
   "cell_type": "code",
   "execution_count": 69,
   "metadata": {},
   "outputs": [
    {
     "data": {
      "text/plain": [
       "{'friend1': 'Furkan', 'friend2': 'Hikmet', 'friend3': 'Bahadir'}"
      ]
     },
     "execution_count": 69,
     "metadata": {},
     "output_type": "execute_result"
    }
   ],
   "source": [
    "dict_friend[\"friend3\"] = \"Bahadir\"\n",
    "dict_friend"
   ]
  },
  {
   "cell_type": "code",
   "execution_count": 70,
   "metadata": {},
   "outputs": [
    {
     "data": {
      "text/plain": [
       "{'friend1': 'Furkan', 'friend2': 'Hikmet', 'friend3': 'Murat'}"
      ]
     },
     "execution_count": 70,
     "metadata": {},
     "output_type": "execute_result"
    }
   ],
   "source": [
    "dict_friend[\"friend3\"] = \"Murat\"\n",
    "dict_friend"
   ]
  },
  {
   "cell_type": "code",
   "execution_count": 75,
   "metadata": {},
   "outputs": [
    {
     "name": "stdout",
     "output_type": "stream",
     "text": [
      "{'T': 1, 'e': 4, 'c': 2, 'h': 2, 'p': 1, 'r': 1, 'o': 2, 'd': 1, 'u': 1, 'a': 1, 't': 3, 'i': 2, 'n': 1, 's': 2, 'b': 1}\n"
     ]
    }
   ],
   "source": [
    "sentence = \"Techpro education is the best\"\n",
    "\n",
    "my_dict = dict()\n",
    "\n",
    "for i in sentence:\n",
    "    if i.isalpha():\n",
    "        if i in my_dict:\n",
    "            my_dict[i] +=1\n",
    "        else:\n",
    "            my_dict[i] = 1\n",
    "    else:\n",
    "        continue\n",
    "    \n",
    "print(my_dict)"
   ]
  },
  {
   "cell_type": "code",
   "execution_count": 76,
   "metadata": {},
   "outputs": [],
   "source": [
    "def harf_sayisi_bulma(sentence):\n",
    "    \"\"\"Bu fonksiyon harf sayisini bulur\"\"\"\n",
    "    my_dict = dict()\n",
    "\n",
    "    for i in sentence:\n",
    "        if i.isalpha():\n",
    "            if i in my_dict:\n",
    "                my_dict[i] +=1\n",
    "            else:\n",
    "                my_dict[i] = 1\n",
    "    return my_dict"
   ]
  },
  {
   "cell_type": "code",
   "execution_count": 77,
   "metadata": {},
   "outputs": [
    {
     "data": {
      "text/plain": [
       "{'h': 1,\n",
       " 'o': 5,\n",
       " 'c': 1,\n",
       " 'a': 9,\n",
       " 'm': 7,\n",
       " 'i': 11,\n",
       " 'n': 7,\n",
       " 'k': 9,\n",
       " 'e': 15,\n",
       " 'y': 3,\n",
       " 'l': 7,\n",
       " 'r': 9,\n",
       " 'd': 6,\n",
       " 'v': 3,\n",
       " 'ı': 5,\n",
       " 't': 5,\n",
       " 'ç': 1,\n",
       " 'u': 2,\n",
       " 'z': 3,\n",
       " 'p': 2,\n",
       " 's': 2,\n",
       " 'g': 1}"
      ]
     },
     "execution_count": 77,
     "metadata": {},
     "output_type": "execute_result"
    }
   ],
   "source": [
    "harf_sayisi_bulma(\"\"\"hocam in i  keylerde var mı kontrol etmek için kullanırız \n",
    "dediniz peki value larda var mı kontrol etmek isteseydik ne yapmamız gerekirdi.\"\"\")"
   ]
  },
  {
   "cell_type": "code",
   "execution_count": null,
   "metadata": {},
   "outputs": [],
   "source": []
  },
  {
   "cell_type": "code",
   "execution_count": null,
   "metadata": {},
   "outputs": [],
   "source": []
  }
 ],
 "metadata": {
  "kernelspec": {
   "display_name": "Python 3",
   "language": "python",
   "name": "python3"
  },
  "language_info": {
   "codemirror_mode": {
    "name": "ipython",
    "version": 3
   },
   "file_extension": ".py",
   "mimetype": "text/x-python",
   "name": "python",
   "nbconvert_exporter": "python",
   "pygments_lexer": "ipython3",
   "version": "3.11.3"
  },
  "orig_nbformat": 4
 },
 "nbformat": 4,
 "nbformat_minor": 2
}
