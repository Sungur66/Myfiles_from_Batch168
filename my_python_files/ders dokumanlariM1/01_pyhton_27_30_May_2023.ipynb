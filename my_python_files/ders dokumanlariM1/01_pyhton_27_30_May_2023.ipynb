{
 "cells": [
  {
   "cell_type": "code",
   "execution_count": 1,
   "metadata": {},
   "outputs": [
    {
     "name": "stdout",
     "output_type": "stream",
     "text": [
      "hello world\n"
     ]
    }
   ],
   "source": [
    "print(\"hello world\") \n"
   ]
  },
  {
   "cell_type": "code",
   "execution_count": 5,
   "metadata": {},
   "outputs": [
    {
     "ename": "SyntaxError",
     "evalue": "incomplete input (4056701561.py, line 1)",
     "output_type": "error",
     "traceback": [
      "\u001b[1;36m  Cell \u001b[1;32mIn[5], line 1\u001b[1;36m\u001b[0m\n\u001b[1;33m    print(\"nörüyon la piton\"\u001b[0m\n\u001b[1;37m                            ^\u001b[0m\n\u001b[1;31mSyntaxError\u001b[0m\u001b[1;31m:\u001b[0m incomplete input\n"
     ]
    }
   ],
   "source": [
    "print(\"nörüyon la piton\""
   ]
  },
  {
   "cell_type": "code",
   "execution_count": 2,
   "metadata": {},
   "outputs": [
    {
     "name": "stdout",
     "output_type": "stream",
     "text": [
      "cift tirnakla baslayan cift tirnakla bitmeli\n"
     ]
    }
   ],
   "source": [
    "print(\"cift tirnakla baslayan cift tirnakla bitmeli\")"
   ]
  },
  {
   "cell_type": "code",
   "execution_count": 3,
   "metadata": {},
   "outputs": [
    {
     "name": "stdout",
     "output_type": "stream",
     "text": [
      "tek trinakla baslyan tek tirnakla bitmeli\n"
     ]
    }
   ],
   "source": [
    "print('tek trinakla baslyan tek tirnakla bitmeli')"
   ]
  },
  {
   "attachments": {},
   "cell_type": "markdown",
   "metadata": {},
   "source": [
    "                                      markdown aciklama icin kullanilir "
   ]
  },
  {
   "cell_type": "code",
   "execution_count": 6,
   "metadata": {},
   "outputs": [
    {
     "ename": "SyntaxError",
     "evalue": "unterminated string literal (detected at line 1) (389630834.py, line 1)",
     "output_type": "error",
     "traceback": [
      "\u001b[1;36m  Cell \u001b[1;32mIn[6], line 1\u001b[1;36m\u001b[0m\n\u001b[1;33m    print(' I'm learning pyhton')\u001b[0m\n\u001b[1;37m                               ^\u001b[0m\n\u001b[1;31mSyntaxError\u001b[0m\u001b[1;31m:\u001b[0m unterminated string literal (detected at line 1)\n"
     ]
    }
   ],
   "source": [
    "print(' I'm learning pyhton')"
   ]
  },
  {
   "cell_type": "code",
   "execution_count": 7,
   "metadata": {},
   "outputs": [
    {
     "name": "stdout",
     "output_type": "stream",
     "text": [
      "I'm learning pyhton\n"
     ]
    }
   ],
   "source": [
    "print(\"I'm learning pyhton\")"
   ]
  },
  {
   "cell_type": "code",
   "execution_count": 8,
   "metadata": {},
   "outputs": [
    {
     "name": "stdout",
     "output_type": "stream",
     "text": [
      " merhaba ben nasuh\n"
     ]
    }
   ],
   "source": [
    "print(\"\"\" merhaba ben nasuh\"\"\")"
   ]
  },
  {
   "cell_type": "code",
   "execution_count": 9,
   "metadata": {},
   "outputs": [
    {
     "name": "stdout",
     "output_type": "stream",
     "text": [
      "merhaba ben nasuh\n"
     ]
    }
   ],
   "source": [
    "print('''merhaba ben nasuh''')"
   ]
  },
  {
   "cell_type": "code",
   "execution_count": 13,
   "metadata": {},
   "outputs": [
    {
     "ename": "SyntaxError",
     "evalue": "invalid syntax. Perhaps you forgot a comma? (1372547134.py, line 1)",
     "output_type": "error",
     "traceback": [
      "\u001b[1;36m  Cell \u001b[1;32mIn[13], line 1\u001b[1;36m\u001b[0m\n\u001b[1;33m    print(\"\"\"\"\"\"hello\"\"\"\"\"\")\u001b[0m\n\u001b[1;37m          ^\u001b[0m\n\u001b[1;31mSyntaxError\u001b[0m\u001b[1;31m:\u001b[0m invalid syntax. Perhaps you forgot a comma?\n"
     ]
    }
   ],
   "source": [
    "print(\"\"\"\"\"\"hello\"\"\"\"\"\") "
   ]
  },
  {
   "cell_type": "code",
   "execution_count": 15,
   "metadata": {},
   "outputs": [
    {
     "name": "stdout",
     "output_type": "stream",
     "text": [
      "Dann kannst Du hier zahlreiche Angebote vergleichen und Verkäufer direkt kontaktieren. Professionelle Autohändler oder Privatverkäufer, Firmenfahrzeuge von gewerblichen Anbietern oder Jahreswagen. Auch mit Gebrauchtwagen-Garantie oder Qualitätssiegel.\n"
     ]
    }
   ],
   "source": [
    "print(\"Dann kannst Du hier zahlreiche Angebote vergleichen und Verkäufer direkt kontaktieren. Professionelle Autohändler oder Privatverkäufer, Firmenfahrzeuge von gewerblichen Anbietern oder Jahreswagen. Auch mit Gebrauchtwagen-Garantie oder Qualitätssiegel.\")"
   ]
  },
  {
   "cell_type": "code",
   "execution_count": 16,
   "metadata": {},
   "outputs": [
    {
     "ename": "SyntaxError",
     "evalue": "unterminated string literal (detected at line 1) (686804304.py, line 1)",
     "output_type": "error",
     "traceback": [
      "\u001b[1;36m  Cell \u001b[1;32mIn[16], line 1\u001b[1;36m\u001b[0m\n\u001b[1;33m    print(\"Dann kannst Du hier zahlreiche Angebote vergleichen und Verkäufer direkt kontaktieren.\u001b[0m\n\u001b[1;37m          ^\u001b[0m\n\u001b[1;31mSyntaxError\u001b[0m\u001b[1;31m:\u001b[0m unterminated string literal (detected at line 1)\n"
     ]
    }
   ],
   "source": [
    "print(\"Dann kannst Du hier zahlreiche Angebote vergleichen und Verkäufer direkt kontaktieren. \n",
    "      Professionelle Autohändler oder Privatverkäufer, \n",
    "      Firmenfahrzeuge von gewerblichen Anbietern oder Jahreswagen. \n",
    "      Auch mit Gebrauchtwagen-Garantie oder Qualitätssiegel.\")"
   ]
  },
  {
   "cell_type": "code",
   "execution_count": 17,
   "metadata": {},
   "outputs": [
    {
     "name": "stdout",
     "output_type": "stream",
     "text": [
      "Dann kannst Du hier zahlreiche Angebote vergleichen und Verkäufer direkt kontaktieren. \n",
      "Professionelle Autohändler oder Privatverkäufer, \n",
      "Firmenfahrzeuge von gewerblichen Anbietern oder Jahreswagen. \n",
      "Auch mit Gebrauchtwagen-Garantie oder Qualitätssiegel.\n"
     ]
    }
   ],
   "source": [
    "print(\"\"\"Dann kannst Du hier zahlreiche Angebote vergleichen und Verkäufer direkt kontaktieren. \n",
    "Professionelle Autohändler oder Privatverkäufer, \n",
    "Firmenfahrzeuge von gewerblichen Anbietern oder Jahreswagen. \n",
    "Auch mit Gebrauchtwagen-Garantie oder Qualitätssiegel.\"\"\")"
   ]
  },
  {
   "attachments": {},
   "cell_type": "markdown",
   "metadata": {},
   "source": [
    "\"\"\" (uc tirnak la uzun metinleri yazdira biliriz. VEYA xalismasini istemedigimiz kodlarin basi v sonuna koyariz ve o kodlar calismaz, yazilmis kodlarda silinmemis olur)"
   ]
  },
  {
   "attachments": {},
   "cell_type": "markdown",
   "metadata": {},
   "source": [
    "                    pep8 kurallari"
   ]
  },
  {
   "attachments": {},
   "cell_type": "markdown",
   "metadata": {},
   "source": [
    "PEP 8 (Python Enhancement Proposal 8), Python programlama dilinde kodun stil ve düzeni için önerilen bir kılavuzdur. Bu kılavuz, Python topluluğu tarafından kabul edilmiş bir standarttır ve kodun okunabilirliğini artırmayı hedefler. İşte bazı önemli PEP 8 kuralları:\n",
    "\n",
    "İsimlendirme:\n",
    "Değişken ve fonksiyon isimleri küçük harflerle ve gerektiğinde alt çizgi (_) kullanarak yazılır. Örnek: my_variable, my_function.\n",
    "Sabit (constant) isimleri tamamen büyük harflerle yazılır. Örnek: MY_CONSTANT.\n",
    "Sınıflar için CamelCase isimlendirme kullanılır. Örnek: MyClass.\n",
    "Modül isimleri küçük harflerle ve gerektiğinde alt çizgi (_) kullanarak yazılır. Örnek: my_module.\n",
    "\n",
    "Girintileme:\n",
    "4 boşluk veya bir sekme karakteri kullanarak girintileme yapılır. Girintileme seviyeleri arasında tutarlılık sağlanmalıdır.\n",
    "Girintileme seviyesi, her seviye için 4 boşluk kullanılması önerilir.\n",
    "\n",
    "Satır Uzunluğu:\n",
    "Bir satırın en fazla 79 karakter olmasını önerilir. Uzun satırları bölmek için parantezler veya satır sonlarındaki devam işareti () kullanılabilir.\n",
    "\n",
    "Boşluklar:\n",
    "Operatörlerin etrafında ve virgül sonrasında bir boşluk bırakılması önerilir. Örnek: a = 10 + 5, my_function(arg1, arg2).\n",
    "Parantezlerin içinde ve etrafında boşluk bırakılması önerilir. Örnek: my_function(arg1, arg2).\n",
    "İfadeler arasında ve fonksiyon tanımları arasında bir boşluk bırakılması önerilir.\n",
    "Dosyaların en üstünde ve sınıf/fonksiyon tanımlarının başında 2 boş satır bırakılması önerilir.\n",
    "\n",
    "Yorumlar:\n",
    "Kodun anlaşılmasını kolaylaştırmak için açıklayıcı yorumlar kullanılmalıdır.\n",
    "Yorumlar, kodun üzerinde yer almalı veya boş bir satır ile ayrılmalıdır.\n",
    "Kısa yorumlar için # sembolü kullanılır, daha uzun açıklamalar için çok satırlı yorumlar (''' ... ''' veya \"\"\" ... \"\"\") kullanılır.\n",
    "Bu, PEP 8'in bazı temel kurallarını özetlemektedir. Daha fazla ayrıntı için orijinal PEP 8 belgesine başvurmanız önerilir."
   ]
  },
  {
   "attachments": {},
   "cell_type": "markdown",
   "metadata": {},
   "source": [
    "#### comment"
   ]
  },
  {
   "cell_type": "code",
   "execution_count": 18,
   "metadata": {},
   "outputs": [
    {
     "data": {
      "text/plain": [
       "8"
      ]
     },
     "execution_count": 18,
     "metadata": {},
     "output_type": "execute_result"
    }
   ],
   "source": [
    "3+5 # 3 ile 5 in toplami gibi/ grtrktiginde aciklama yazilir "
   ]
  },
  {
   "attachments": {},
   "cell_type": "markdown",
   "metadata": {},
   "source": [
    "## variables"
   ]
  },
  {
   "cell_type": "code",
   "execution_count": 20,
   "metadata": {},
   "outputs": [
    {
     "name": "stdout",
     "output_type": "stream",
     "text": [
      "ali\n"
     ]
    }
   ],
   "source": [
    "name=\"ali\" # name degiskenine ali yi tanimladik (string tipi degisken)\n",
    "print(name)"
   ]
  },
  {
   "cell_type": "code",
   "execution_count": 21,
   "metadata": {},
   "outputs": [
    {
     "name": "stdout",
     "output_type": "stream",
     "text": [
      "33\n"
     ]
    }
   ],
   "source": [
    "age=33   # age degiskenine 33 ü tanimladik (int integer tipi degisken)\n",
    "print(age)"
   ]
  },
  {
   "cell_type": "code",
   "execution_count": 22,
   "metadata": {},
   "outputs": [
    {
     "name": "stdout",
     "output_type": "stream",
     "text": [
      "(3, 14)\n"
     ]
    }
   ],
   "source": [
    "pi_sayisi=3,14   # pi degiskenini tanimladik (float tipi degisken)\n",
    "print(pi_sayisi)"
   ]
  },
  {
   "attachments": {},
   "cell_type": "markdown",
   "metadata": {},
   "source": [
    "degiskenler rakamla baslayamaz, ikiden fazla kelimeyi _ ile bagla,"
   ]
  },
  {
   "cell_type": "code",
   "execution_count": 23,
   "metadata": {},
   "outputs": [
    {
     "name": "stdout",
     "output_type": "stream",
     "text": [
      "kerim abdul\n"
     ]
    }
   ],
   "source": [
    "first_name=\"kerim\"\n",
    "last_name=\"abdul\"\n",
    "print(first_name, last_name)"
   ]
  },
  {
   "cell_type": "code",
   "execution_count": 25,
   "metadata": {},
   "outputs": [
    {
     "name": "stdout",
     "output_type": "stream",
     "text": [
      "Rabia\n",
      "Cengiz\n",
      "(3, 14)\n",
      "kerim\n",
      "abdul\n"
     ]
    },
    {
     "data": {
      "text/plain": [
       "(None, None, None, None, None)"
      ]
     },
     "execution_count": 25,
     "metadata": {},
     "output_type": "execute_result"
    }
   ],
   "source": [
    "name_1, name_2 = \"Rabia\", \"Cengiz\"\n",
    "print(name_1), print(name_2), print(pi_sayisi), print(first_name), print(last_name)"
   ]
  },
  {
   "cell_type": "code",
   "execution_count": 26,
   "metadata": {},
   "outputs": [
    {
     "ename": "ValueError",
     "evalue": "too many values to unpack (expected 2)",
     "output_type": "error",
     "traceback": [
      "\u001b[1;31m---------------------------------------------------------------------------\u001b[0m",
      "\u001b[1;31mValueError\u001b[0m                                Traceback (most recent call last)",
      "Cell \u001b[1;32mIn[26], line 1\u001b[0m\n\u001b[1;32m----> 1\u001b[0m name_3, name_4 \u001b[39m=\u001b[39m \u001b[39m\"\u001b[39m\u001b[39myusuf\u001b[39m\u001b[39m\"\u001b[39m\n",
      "\u001b[1;31mValueError\u001b[0m: too many values to unpack (expected 2)"
     ]
    }
   ],
   "source": [
    "name_3, name_4 = \"yusuf\""
   ]
  },
  {
   "cell_type": "code",
   "execution_count": 27,
   "metadata": {},
   "outputs": [
    {
     "name": "stdout",
     "output_type": "stream",
     "text": [
      "('yusuf', 'Senih')\n"
     ]
    }
   ],
   "source": [
    "name_3 = \"yusuf\", \"Senih\"\n",
    "print(name_3)"
   ]
  },
  {
   "cell_type": "code",
   "execution_count": 28,
   "metadata": {},
   "outputs": [
    {
     "name": "stdout",
     "output_type": "stream",
     "text": [
      "Fatih Fatih\n"
     ]
    }
   ],
   "source": [
    "name_4 = \"Fatih\"\n",
    "name_5 = \"Fatih\"\n",
    "print(name_4, name_5)"
   ]
  },
  {
   "cell_type": "code",
   "execution_count": 1,
   "metadata": {},
   "outputs": [
    {
     "name": "stdout",
     "output_type": "stream",
     "text": [
      "3\n",
      "1\n"
     ]
    }
   ],
   "source": [
    "pi=3\n",
    "num=1\n",
    "\n",
    "print(pi)\n",
    "print(num)"
   ]
  },
  {
   "attachments": {},
   "cell_type": "markdown",
   "metadata": {},
   "source": [
    "# Data Types\n"
   ]
  },
  {
   "cell_type": "code",
   "execution_count": 2,
   "metadata": {},
   "outputs": [
    {
     "data": {
      "text/plain": [
       "'Hello world'"
      ]
     },
     "execution_count": 2,
     "metadata": {},
     "output_type": "execute_result"
    }
   ],
   "source": [
    "\"Hello world\" # strhello world\n"
   ]
  },
  {
   "cell_type": "code",
   "execution_count": 3,
   "metadata": {},
   "outputs": [
    {
     "name": "stdout",
     "output_type": "stream",
     "text": [
      "<class 'str'>\n"
     ]
    }
   ],
   "source": [
    "print(type(\"enes\")) # type ögrenmek icin bu sekilde sorgulama yapilabilir"
   ]
  },
  {
   "cell_type": "code",
   "execution_count": 4,
   "metadata": {},
   "outputs": [
    {
     "data": {
      "text/plain": [
       "str"
      ]
     },
     "execution_count": 4,
     "metadata": {},
     "output_type": "execute_result"
    }
   ],
   "source": [
    "type(\"sedat\") # jupiter icin bu sekilde de sorgulanabilir"
   ]
  },
  {
   "cell_type": "code",
   "execution_count": 7,
   "metadata": {},
   "outputs": [
    {
     "data": {
      "text/plain": [
       "(str, str, int)"
      ]
     },
     "execution_count": 7,
     "metadata": {},
     "output_type": "execute_result"
    }
   ],
   "source": [
    "type(\"3\"), type('5'), type(7)"
   ]
  },
  {
   "cell_type": "code",
   "execution_count": 8,
   "metadata": {},
   "outputs": [
    {
     "data": {
      "text/plain": [
       "int"
      ]
     },
     "execution_count": 8,
     "metadata": {},
     "output_type": "execute_result"
    }
   ],
   "source": [
    "age = 43\n",
    "type(age)"
   ]
  },
  {
   "cell_type": "code",
   "execution_count": 10,
   "metadata": {},
   "outputs": [
    {
     "data": {
      "text/plain": [
       "str"
      ]
     },
     "execution_count": 10,
     "metadata": {},
     "output_type": "execute_result"
    }
   ],
   "source": [
    "pi_number = \"\"\"3.14\"\"\"\n",
    "type(pi_number)"
   ]
  },
  {
   "cell_type": "code",
   "execution_count": 12,
   "metadata": {},
   "outputs": [
    {
     "data": {
      "text/plain": [
       "(bool, bool)"
      ]
     },
     "execution_count": 12,
     "metadata": {},
     "output_type": "execute_result"
    }
   ],
   "source": [
    "type(False), type(True) # boolean tipi data"
   ]
  },
  {
   "attachments": {},
   "cell_type": "markdown",
   "metadata": {},
   "source": [
    "# Type Coversion"
   ]
  },
  {
   "attachments": {},
   "cell_type": "markdown",
   "metadata": {},
   "source": [
    "## all types to str"
   ]
  },
  {
   "cell_type": "code",
   "execution_count": 17,
   "metadata": {},
   "outputs": [
    {
     "name": "stdout",
     "output_type": "stream",
     "text": [
      "<class 'int'>\n"
     ]
    }
   ],
   "source": [
    "age = 32\n",
    "print(type(age))"
   ]
  },
  {
   "cell_type": "code",
   "execution_count": 16,
   "metadata": {},
   "outputs": [
    {
     "name": "stdout",
     "output_type": "stream",
     "text": [
      "32\n",
      "<class 'str'>\n"
     ]
    }
   ],
   "source": [
    "converted_age = str(age)     # str yapmak icin sadece yaziyoruz, istersek bir fonksiyon yapabiliriz \n",
    "print(converted_age)\n",
    "print(type(converted_age))"
   ]
  },
  {
   "cell_type": "code",
   "execution_count": 18,
   "metadata": {},
   "outputs": [
    {
     "data": {
      "text/plain": [
       "float"
      ]
     },
     "execution_count": 18,
     "metadata": {},
     "output_type": "execute_result"
    }
   ],
   "source": [
    "pi_number = 3.14\n",
    "type(pi_number)"
   ]
  },
  {
   "cell_type": "code",
   "execution_count": 20,
   "metadata": {},
   "outputs": [
    {
     "name": "stdout",
     "output_type": "stream",
     "text": [
      "<class 'str'>\n"
     ]
    }
   ],
   "source": [
    "converted_pi = str(pi_number)\n",
    "print(type(converted_pi))"
   ]
  },
  {
   "cell_type": "code",
   "execution_count": 22,
   "metadata": {},
   "outputs": [
    {
     "data": {
      "text/plain": [
       "('False', 'True')"
      ]
     },
     "execution_count": 22,
     "metadata": {},
     "output_type": "execute_result"
    }
   ],
   "source": [
    "x = False\n",
    "y = True\n",
    "str(x), str(y)"
   ]
  },
  {
   "cell_type": "code",
   "execution_count": null,
   "metadata": {},
   "outputs": [],
   "source": []
  },
  {
   "attachments": {},
   "cell_type": "markdown",
   "metadata": {},
   "source": [
    "## str to int or float"
   ]
  },
  {
   "cell_type": "code",
   "execution_count": 24,
   "metadata": {},
   "outputs": [],
   "source": [
    "sayi_1 = \"35\"\n",
    "sayi_2 = \"otuz\"\n"
   ]
  },
  {
   "cell_type": "code",
   "execution_count": 26,
   "metadata": {},
   "outputs": [
    {
     "data": {
      "text/plain": [
       "int"
      ]
     },
     "execution_count": 26,
     "metadata": {},
     "output_type": "execute_result"
    }
   ],
   "source": [
    "int(sayi_1)\n",
    "type(int(sayi_1))"
   ]
  },
  {
   "cell_type": "code",
   "execution_count": 27,
   "metadata": {},
   "outputs": [
    {
     "ename": "ValueError",
     "evalue": "invalid literal for int() with base 10: 'otuz'",
     "output_type": "error",
     "traceback": [
      "\u001b[1;31m---------------------------------------------------------------------------\u001b[0m",
      "\u001b[1;31mValueError\u001b[0m                                Traceback (most recent call last)",
      "Cell \u001b[1;32mIn[27], line 1\u001b[0m\n\u001b[1;32m----> 1\u001b[0m \u001b[39mint\u001b[39;49m(sayi_2)\n",
      "\u001b[1;31mValueError\u001b[0m: invalid literal for int() with base 10: 'otuz'"
     ]
    }
   ],
   "source": [
    "int(sayi_2)   # ifadenin integer gibi görünmesi lazim !!!"
   ]
  },
  {
   "cell_type": "code",
   "execution_count": 28,
   "metadata": {},
   "outputs": [],
   "source": [
    "sayi_3 = \"3.14\"\n",
    "sayi_4 = \"3,15\"  # parantez icindeki virgülden dolayi iki degisken oldugunu algiliyor\n",
    "sayi_5 = \"ücnoktaondort\""
   ]
  },
  {
   "cell_type": "code",
   "execution_count": 29,
   "metadata": {},
   "outputs": [
    {
     "data": {
      "text/plain": [
       "str"
      ]
     },
     "execution_count": 29,
     "metadata": {},
     "output_type": "execute_result"
    }
   ],
   "source": [
    "float(sayi_3)\n",
    "type(sayi_3)"
   ]
  },
  {
   "cell_type": "code",
   "execution_count": 30,
   "metadata": {},
   "outputs": [
    {
     "ename": "ValueError",
     "evalue": "could not convert string to float: '3,15'",
     "output_type": "error",
     "traceback": [
      "\u001b[1;31m---------------------------------------------------------------------------\u001b[0m",
      "\u001b[1;31mValueError\u001b[0m                                Traceback (most recent call last)",
      "Cell \u001b[1;32mIn[30], line 1\u001b[0m\n\u001b[1;32m----> 1\u001b[0m \u001b[39mfloat\u001b[39;49m(sayi_4)\n",
      "\u001b[1;31mValueError\u001b[0m: could not convert string to float: '3,15'"
     ]
    }
   ],
   "source": [
    "float(sayi_4) # virgulden dolayi ceviremiyor"
   ]
  },
  {
   "cell_type": "code",
   "execution_count": 31,
   "metadata": {},
   "outputs": [
    {
     "ename": "ValueError",
     "evalue": "could not convert string to float: 'ücnoktaondort'",
     "output_type": "error",
     "traceback": [
      "\u001b[1;31m---------------------------------------------------------------------------\u001b[0m",
      "\u001b[1;31mValueError\u001b[0m                                Traceback (most recent call last)",
      "Cell \u001b[1;32mIn[31], line 1\u001b[0m\n\u001b[1;32m----> 1\u001b[0m \u001b[39mfloat\u001b[39;49m(sayi_5)\n",
      "\u001b[1;31mValueError\u001b[0m: could not convert string to float: 'ücnoktaondort'"
     ]
    }
   ],
   "source": [
    "float(sayi_5)"
   ]
  },
  {
   "attachments": {},
   "cell_type": "markdown",
   "metadata": {},
   "source": [
    "## float to integer or int to float"
   ]
  },
  {
   "cell_type": "code",
   "execution_count": 32,
   "metadata": {},
   "outputs": [
    {
     "name": "stdout",
     "output_type": "stream",
     "text": [
      "<class 'int'>\n",
      "<class 'float'>\n"
     ]
    }
   ],
   "source": [
    "sayi_6 = 24\n",
    "sayi_7 = 5.6\n",
    "print(type(sayi_6))\n",
    "print(type(sayi_7))"
   ]
  },
  {
   "cell_type": "code",
   "execution_count": 35,
   "metadata": {},
   "outputs": [
    {
     "name": "stdout",
     "output_type": "stream",
     "text": [
      "<class 'float'>\n"
     ]
    }
   ],
   "source": [
    "float(sayi_6)\n",
    "print(type(float(sayi_6)))"
   ]
  },
  {
   "cell_type": "code",
   "execution_count": 37,
   "metadata": {},
   "outputs": [
    {
     "name": "stdout",
     "output_type": "stream",
     "text": [
      "<class 'int'>\n"
     ]
    }
   ],
   "source": [
    "int(sayi_7)    # noktadan sonrasini siler atar\n",
    "print(type(int(sayi_7)))"
   ]
  },
  {
   "cell_type": "code",
   "execution_count": 38,
   "metadata": {},
   "outputs": [
    {
     "data": {
      "text/plain": [
       "(5, -3, 34)"
      ]
     },
     "execution_count": 38,
     "metadata": {},
     "output_type": "execute_result"
    }
   ],
   "source": [
    "int(5.9999), int(-3.8), int(34.33) "
   ]
  },
  {
   "cell_type": "code",
   "execution_count": 41,
   "metadata": {},
   "outputs": [
    {
     "data": {
      "text/plain": [
       "6"
      ]
     },
     "execution_count": 41,
     "metadata": {},
     "output_type": "execute_result"
    }
   ],
   "source": [
    "int(5.99999999999999999999999999999999999999)#noktadan sonra 16 haneyi geciyorsa yukariya yuvarliyor :)"
   ]
  },
  {
   "attachments": {},
   "cell_type": "markdown",
   "metadata": {},
   "source": [
    "# bool to int or float"
   ]
  },
  {
   "cell_type": "code",
   "execution_count": 49,
   "metadata": {},
   "outputs": [
    {
     "name": "stdout",
     "output_type": "stream",
     "text": [
      "<class 'bool'>\n",
      "<class 'bool'>\n"
     ]
    }
   ],
   "source": [
    "x = False\n",
    "y = True\n",
    "print(type(x))\n",
    "print(type(y))"
   ]
  },
  {
   "cell_type": "code",
   "execution_count": 50,
   "metadata": {},
   "outputs": [
    {
     "name": "stdout",
     "output_type": "stream",
     "text": [
      "<class 'int'>\n"
     ]
    }
   ],
   "source": [
    "int(x)   # False un karsiligi 0\n",
    "print(type(int(x)))"
   ]
  },
  {
   "cell_type": "code",
   "execution_count": 51,
   "metadata": {},
   "outputs": [
    {
     "name": "stdout",
     "output_type": "stream",
     "text": [
      "<class 'int'>\n"
     ]
    }
   ],
   "source": [
    "int(y)   #True nun karsiligi 1\n",
    "print(type(int(y)))"
   ]
  },
  {
   "cell_type": "code",
   "execution_count": 52,
   "metadata": {},
   "outputs": [
    {
     "name": "stdout",
     "output_type": "stream",
     "text": [
      "<class 'float'>\n"
     ]
    }
   ],
   "source": [
    "float(x)\n",
    "print(type(float(x)))"
   ]
  },
  {
   "cell_type": "code",
   "execution_count": 53,
   "metadata": {},
   "outputs": [
    {
     "name": "stdout",
     "output_type": "stream",
     "text": [
      "<class 'float'>\n"
     ]
    }
   ],
   "source": [
    "float(y)\n",
    "print(type(float(y)))"
   ]
  },
  {
   "cell_type": "code",
   "execution_count": 2,
   "metadata": {},
   "outputs": [],
   "source": [
    "jan = march = may = jul = august = oct = dec = 31\n",
    "apr = jun = sep = nov = 30\n",
    "feb = 28                         # bu sekildede de degiskenler tanimlanabilir\n",
    "\n",
    "jan, march, may, jul, august, oct, dec = 31, 31, 31, 31, 31, 31, 31\n",
    "apr, jun, sep, nov, 30, 30, 30, 30\n",
    "feb = 28  \n"
   ]
  },
  {
   "cell_type": "code",
   "execution_count": 3,
   "metadata": {},
   "outputs": [
    {
     "name": "stdout",
     "output_type": "stream",
     "text": [
      "31 31 31 31 31 31 31 30 30 30 30 28\n"
     ]
    }
   ],
   "source": [
    "print(jan, march, may, jul, august, oct, dec, apr, jun, sep, nov, feb)"
   ]
  },
  {
   "cell_type": "code",
   "execution_count": 5,
   "metadata": {},
   "outputs": [],
   "source": []
  }
 ],
 "metadata": {
  "kernelspec": {
   "display_name": "Python 3",
   "language": "python",
   "name": "python3"
  },
  "language_info": {
   "codemirror_mode": {
    "name": "ipython",
    "version": 3
   },
   "file_extension": ".py",
   "mimetype": "text/x-python",
   "name": "python",
   "nbconvert_exporter": "python",
   "pygments_lexer": "ipython3",
   "version": "3.11.3"
  },
  "orig_nbformat": 4
 },
 "nbformat": 4,
 "nbformat_minor": 2
}
