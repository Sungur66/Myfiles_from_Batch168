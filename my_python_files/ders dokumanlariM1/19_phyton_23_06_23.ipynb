{
 "cells": [
  {
   "attachments": {},
   "cell_type": "markdown",
   "metadata": {},
   "source": [
    "# Modules\n",
    "\n",
    "math, time, rondom gibi bir cok fonksiyonu iceren kütüphaneler"
   ]
  },
  {
   "cell_type": "code",
   "execution_count": 2,
   "metadata": {},
   "outputs": [],
   "source": [
    "import random    # random modulunu komple indirdik, "
   ]
  },
  {
   "cell_type": "code",
   "execution_count": 3,
   "metadata": {},
   "outputs": [
    {
     "data": {
      "text/plain": [
       "5"
      ]
     },
     "execution_count": 3,
     "metadata": {},
     "output_type": "execute_result"
    }
   ],
   "source": [
    "random.randint(3, 5)                        # random dan sonra . ya basinca fonksiyonlarini görürüz"
   ]
  },
  {
   "cell_type": "code",
   "execution_count": 5,
   "metadata": {},
   "outputs": [],
   "source": [
    "import random as rd   # gibi bir cok module isim verilerek kullanilir"
   ]
  },
  {
   "cell_type": "code",
   "execution_count": 10,
   "metadata": {},
   "outputs": [
    {
     "data": {
      "text/plain": [
       "12"
      ]
     },
     "execution_count": 10,
     "metadata": {},
     "output_type": "execute_result"
    }
   ],
   "source": [
    "rd.randint(7,17)"
   ]
  },
  {
   "cell_type": "code",
   "execution_count": 11,
   "metadata": {},
   "outputs": [],
   "source": [
    "import math  # math yeterince kisa, kisaltmaya gerek yok"
   ]
  },
  {
   "cell_type": "code",
   "execution_count": 12,
   "metadata": {},
   "outputs": [
    {
     "data": {
      "text/plain": [
       "16.0"
      ]
     },
     "execution_count": 12,
     "metadata": {},
     "output_type": "execute_result"
    }
   ],
   "source": [
    "math.pow(2,4)  # 2 ** 4 ifadesi"
   ]
  },
  {
   "cell_type": "code",
   "execution_count": 13,
   "metadata": {},
   "outputs": [
    {
     "data": {
      "text/plain": [
       "8.0"
      ]
     },
     "execution_count": 13,
     "metadata": {},
     "output_type": "execute_result"
    }
   ],
   "source": [
    "math.sqrt(64)"
   ]
  },
  {
   "cell_type": "code",
   "execution_count": 14,
   "metadata": {},
   "outputs": [
    {
     "name": "stdout",
     "output_type": "stream",
     "text": [
      "Help on built-in function pow in module math:\n",
      "\n",
      "pow(x, y, /)\n",
      "    Return x**y (x to the power of y).\n",
      "\n"
     ]
    }
   ],
   "source": [
    "help(math.pow)"
   ]
  },
  {
   "cell_type": "code",
   "execution_count": 15,
   "metadata": {},
   "outputs": [
    {
     "ename": "TypeError",
     "evalue": "'float' object is not callable",
     "output_type": "error",
     "traceback": [
      "\u001b[1;31m---------------------------------------------------------------------------\u001b[0m",
      "\u001b[1;31mTypeError\u001b[0m                                 Traceback (most recent call last)",
      "Cell \u001b[1;32mIn[15], line 1\u001b[0m\n\u001b[1;32m----> 1\u001b[0m math\u001b[39m.\u001b[39;49me()\n",
      "\u001b[1;31mTypeError\u001b[0m: 'float' object is not callable"
     ]
    }
   ],
   "source": [
    "math.e()     # burdaki e bir fonksiyon degil, matematik teki e degeri "
   ]
  },
  {
   "cell_type": "code",
   "execution_count": 17,
   "metadata": {},
   "outputs": [
    {
     "data": {
      "text/plain": [
       "2.718281828459045"
      ]
     },
     "execution_count": 17,
     "metadata": {},
     "output_type": "execute_result"
    }
   ],
   "source": [
    "math.e"
   ]
  },
  {
   "cell_type": "code",
   "execution_count": 18,
   "metadata": {},
   "outputs": [
    {
     "data": {
      "text/plain": [
       "3.141592653589793"
      ]
     },
     "execution_count": 18,
     "metadata": {},
     "output_type": "execute_result"
    }
   ],
   "source": [
    "math.pi"
   ]
  },
  {
   "cell_type": "code",
   "execution_count": 19,
   "metadata": {},
   "outputs": [
    {
     "name": "stdout",
     "output_type": "stream",
     "text": [
      "Help on built-in function factorial in module math:\n",
      "\n",
      "factorial(n, /)\n",
      "    Find n!.\n",
      "    \n",
      "    Raise a ValueError if x is negative or non-integral.\n",
      "\n"
     ]
    }
   ],
   "source": [
    "help(math.factorial)  # aciklama daki / ifadesi positional argüment olduguunun belirtiyor"
   ]
  },
  {
   "cell_type": "code",
   "execution_count": 20,
   "metadata": {},
   "outputs": [
    {
     "ename": "ValueError",
     "evalue": "factorial() not defined for negative values",
     "output_type": "error",
     "traceback": [
      "\u001b[1;31m---------------------------------------------------------------------------\u001b[0m",
      "\u001b[1;31mValueError\u001b[0m                                Traceback (most recent call last)",
      "Cell \u001b[1;32mIn[20], line 1\u001b[0m\n\u001b[1;32m----> 1\u001b[0m math\u001b[39m.\u001b[39;49mfactorial(\u001b[39m-\u001b[39;49m\u001b[39m3\u001b[39;49m)\n",
      "\u001b[1;31mValueError\u001b[0m: factorial() not defined for negative values"
     ]
    }
   ],
   "source": [
    "math.factorial(-3)"
   ]
  },
  {
   "cell_type": "code",
   "execution_count": 21,
   "metadata": {},
   "outputs": [
    {
     "ename": "ModuleNotFoundError",
     "evalue": "No module named 'pyautogui'",
     "output_type": "error",
     "traceback": [
      "\u001b[1;31m---------------------------------------------------------------------------\u001b[0m",
      "\u001b[1;31mModuleNotFoundError\u001b[0m                       Traceback (most recent call last)",
      "Cell \u001b[1;32mIn[21], line 1\u001b[0m\n\u001b[1;32m----> 1\u001b[0m \u001b[39mimport\u001b[39;00m \u001b[39mpyautogui\u001b[39;00m\n",
      "\u001b[1;31mModuleNotFoundError\u001b[0m: No module named 'pyautogui'"
     ]
    }
   ],
   "source": [
    "import pyautogui"
   ]
  },
  {
   "cell_type": "code",
   "execution_count": 22,
   "metadata": {},
   "outputs": [
    {
     "name": "stdout",
     "output_type": "stream",
     "text": [
      "^C\n",
      "Note: you may need to restart the kernel to use updated packages.\n"
     ]
    }
   ],
   "source": [
    "# pip install pyautogui"
   ]
  },
  {
   "cell_type": "code",
   "execution_count": 24,
   "metadata": {},
   "outputs": [
    {
     "name": "stdout",
     "output_type": "stream",
     "text": [
      "^C\n"
     ]
    },
    {
     "name": "stderr",
     "output_type": "stream",
     "text": [
      "ERROR: Invalid requirement: '#alternatif'\n"
     ]
    }
   ],
   "source": [
    "# !pip install pyautogui  #alternatif indirme kodlari"
   ]
  },
  {
   "cell_type": "code",
   "execution_count": null,
   "metadata": {},
   "outputs": [],
   "source": [
    "%pip install pyautogui"
   ]
  },
  {
   "cell_type": "code",
   "execution_count": 1,
   "metadata": {},
   "outputs": [
    {
     "ename": "ValueError",
     "evalue": "The python kernel does not appear to be a conda environment.  Please use ``%pip install`` instead.",
     "output_type": "error",
     "traceback": [
      "\u001b[1;31m---------------------------------------------------------------------------\u001b[0m",
      "\u001b[1;31mValueError\u001b[0m                                Traceback (most recent call last)",
      "Cell \u001b[1;32mIn[1], line 1\u001b[0m\n\u001b[1;32m----> 1\u001b[0m get_ipython()\u001b[39m.\u001b[39;49mrun_line_magic(\u001b[39m'\u001b[39;49m\u001b[39mconda\u001b[39;49m\u001b[39m'\u001b[39;49m, \u001b[39m'\u001b[39;49m\u001b[39minstall pyautogui\u001b[39;49m\u001b[39m'\u001b[39;49m)\n",
      "File \u001b[1;32m~\\AppData\\Roaming\\Python\\Python311\\site-packages\\IPython\\core\\interactiveshell.py:2417\u001b[0m, in \u001b[0;36mInteractiveShell.run_line_magic\u001b[1;34m(self, magic_name, line, _stack_depth)\u001b[0m\n\u001b[0;32m   2415\u001b[0m     kwargs[\u001b[39m'\u001b[39m\u001b[39mlocal_ns\u001b[39m\u001b[39m'\u001b[39m] \u001b[39m=\u001b[39m \u001b[39mself\u001b[39m\u001b[39m.\u001b[39mget_local_scope(stack_depth)\n\u001b[0;32m   2416\u001b[0m \u001b[39mwith\u001b[39;00m \u001b[39mself\u001b[39m\u001b[39m.\u001b[39mbuiltin_trap:\n\u001b[1;32m-> 2417\u001b[0m     result \u001b[39m=\u001b[39m fn(\u001b[39m*\u001b[39;49margs, \u001b[39m*\u001b[39;49m\u001b[39m*\u001b[39;49mkwargs)\n\u001b[0;32m   2419\u001b[0m \u001b[39m# The code below prevents the output from being displayed\u001b[39;00m\n\u001b[0;32m   2420\u001b[0m \u001b[39m# when using magics with decodator @output_can_be_silenced\u001b[39;00m\n\u001b[0;32m   2421\u001b[0m \u001b[39m# when the last Python token in the expression is a ';'.\u001b[39;00m\n\u001b[0;32m   2422\u001b[0m \u001b[39mif\u001b[39;00m \u001b[39mgetattr\u001b[39m(fn, magic\u001b[39m.\u001b[39mMAGIC_OUTPUT_CAN_BE_SILENCED, \u001b[39mFalse\u001b[39;00m):\n",
      "File \u001b[1;32m~\\AppData\\Roaming\\Python\\Python311\\site-packages\\IPython\\core\\magics\\packaging.py:87\u001b[0m, in \u001b[0;36mPackagingMagics.conda\u001b[1;34m(self, line)\u001b[0m\n\u001b[0;32m     81\u001b[0m \u001b[39m\u001b[39m\u001b[39m\"\"\"Run the conda package manager within the current kernel.\u001b[39;00m\n\u001b[0;32m     82\u001b[0m \n\u001b[0;32m     83\u001b[0m \u001b[39mUsage:\u001b[39;00m\n\u001b[0;32m     84\u001b[0m \u001b[39m  %conda install [pkgs]\u001b[39;00m\n\u001b[0;32m     85\u001b[0m \u001b[39m\"\"\"\u001b[39;00m\n\u001b[0;32m     86\u001b[0m \u001b[39mif\u001b[39;00m \u001b[39mnot\u001b[39;00m _is_conda_environment():\n\u001b[1;32m---> 87\u001b[0m     \u001b[39mraise\u001b[39;00m \u001b[39mValueError\u001b[39;00m(\u001b[39m\"\u001b[39m\u001b[39mThe python kernel does not appear to be a conda environment.  \u001b[39m\u001b[39m\"\u001b[39m\n\u001b[0;32m     88\u001b[0m                      \u001b[39m\"\u001b[39m\u001b[39mPlease use ``\u001b[39m\u001b[39m%\u001b[39m\u001b[39mpip install`` instead.\u001b[39m\u001b[39m\"\u001b[39m)\n\u001b[0;32m     90\u001b[0m conda \u001b[39m=\u001b[39m _get_conda_executable()\n\u001b[0;32m     91\u001b[0m args \u001b[39m=\u001b[39m shlex\u001b[39m.\u001b[39msplit(line)\n",
      "\u001b[1;31mValueError\u001b[0m: The python kernel does not appear to be a conda environment.  Please use ``%pip install`` instead."
     ]
    }
   ],
   "source": [
    "# conda install pyautogui"
   ]
  },
  {
   "cell_type": "code",
   "execution_count": 5,
   "metadata": {},
   "outputs": [],
   "source": [
    "import pyautogui as pa"
   ]
  },
  {
   "cell_type": "code",
   "execution_count": 6,
   "metadata": {},
   "outputs": [
    {
     "name": "stdout",
     "output_type": "stream",
     "text": [
      "Help on package pyautogui:\n",
      "\n",
      "NAME\n",
      "    pyautogui\n",
      "\n",
      "DESCRIPTION\n",
      "    # PyAutoGUI lets Python control the mouse and keyboard, and other GUI automation tasks. For Windows, macOS, and Linux,\n",
      "    # on Python 3 and 2.\n",
      "    # https://github.com/asweigart/pyautogui\n",
      "    # Al Sweigart al@inventwithpython.com (Send me feedback & suggestions!)\n",
      "\n",
      "PACKAGE CONTENTS\n",
      "    __main__\n",
      "    _pyautogui_java\n",
      "    _pyautogui_osx\n",
      "    _pyautogui_win\n",
      "    _pyautogui_x11\n",
      "\n",
      "SUBMODULES\n",
      "    platformModule\n",
      "\n",
      "CLASSES\n",
      "    builtins.Exception(builtins.BaseException)\n",
      "        PyAutoGUIException\n",
      "            FailSafeException\n",
      "            ImageNotFoundException\n",
      "    builtins.tuple(builtins.object)\n",
      "        Point\n",
      "        Size\n",
      "    \n",
      "    class FailSafeException(PyAutoGUIException)\n",
      "     |  This exception is raised by PyAutoGUI functions when the user puts the mouse cursor into one of the \"failsafe\n",
      "     |  points\" (by default, one of the four corners of the primary monitor). This exception shouldn't be caught; it's\n",
      "     |  meant to provide a way to terminate a misbehaving script.\n",
      "     |  \n",
      "     |  Method resolution order:\n",
      "     |      FailSafeException\n",
      "     |      PyAutoGUIException\n",
      "     |      builtins.Exception\n",
      "     |      builtins.BaseException\n",
      "     |      builtins.object\n",
      "     |  \n",
      "     |  Data descriptors inherited from PyAutoGUIException:\n",
      "     |  \n",
      "     |  __weakref__\n",
      "     |      list of weak references to the object (if defined)\n",
      "     |  \n",
      "     |  ----------------------------------------------------------------------\n",
      "     |  Methods inherited from builtins.Exception:\n",
      "     |  \n",
      "     |  __init__(self, /, *args, **kwargs)\n",
      "     |      Initialize self.  See help(type(self)) for accurate signature.\n",
      "     |  \n",
      "     |  ----------------------------------------------------------------------\n",
      "     |  Static methods inherited from builtins.Exception:\n",
      "     |  \n",
      "     |  __new__(*args, **kwargs) from builtins.type\n",
      "     |      Create and return a new object.  See help(type) for accurate signature.\n",
      "     |  \n",
      "     |  ----------------------------------------------------------------------\n",
      "     |  Methods inherited from builtins.BaseException:\n",
      "     |  \n",
      "     |  __delattr__(self, name, /)\n",
      "     |      Implement delattr(self, name).\n",
      "     |  \n",
      "     |  __getattribute__(self, name, /)\n",
      "     |      Return getattr(self, name).\n",
      "     |  \n",
      "     |  __reduce__(...)\n",
      "     |      Helper for pickle.\n",
      "     |  \n",
      "     |  __repr__(self, /)\n",
      "     |      Return repr(self).\n",
      "     |  \n",
      "     |  __setattr__(self, name, value, /)\n",
      "     |      Implement setattr(self, name, value).\n",
      "     |  \n",
      "     |  __setstate__(...)\n",
      "     |  \n",
      "     |  __str__(self, /)\n",
      "     |      Return str(self).\n",
      "     |  \n",
      "     |  add_note(...)\n",
      "     |      Exception.add_note(note) --\n",
      "     |      add a note to the exception\n",
      "     |  \n",
      "     |  with_traceback(...)\n",
      "     |      Exception.with_traceback(tb) --\n",
      "     |      set self.__traceback__ to tb and return self.\n",
      "     |  \n",
      "     |  ----------------------------------------------------------------------\n",
      "     |  Data descriptors inherited from builtins.BaseException:\n",
      "     |  \n",
      "     |  __cause__\n",
      "     |      exception cause\n",
      "     |  \n",
      "     |  __context__\n",
      "     |      exception context\n",
      "     |  \n",
      "     |  __dict__\n",
      "     |  \n",
      "     |  __suppress_context__\n",
      "     |  \n",
      "     |  __traceback__\n",
      "     |  \n",
      "     |  args\n",
      "    \n",
      "    class ImageNotFoundException(PyAutoGUIException)\n",
      "     |  This exception is the PyAutoGUI version of PyScreeze's `ImageNotFoundException`, which is raised when a locate*()\n",
      "     |  function call is unable to find an image.\n",
      "     |  \n",
      "     |  Ideally, `pyscreeze.ImageNotFoundException` should never be raised by PyAutoGUI.\n",
      "     |  \n",
      "     |  Method resolution order:\n",
      "     |      ImageNotFoundException\n",
      "     |      PyAutoGUIException\n",
      "     |      builtins.Exception\n",
      "     |      builtins.BaseException\n",
      "     |      builtins.object\n",
      "     |  \n",
      "     |  Data descriptors inherited from PyAutoGUIException:\n",
      "     |  \n",
      "     |  __weakref__\n",
      "     |      list of weak references to the object (if defined)\n",
      "     |  \n",
      "     |  ----------------------------------------------------------------------\n",
      "     |  Methods inherited from builtins.Exception:\n",
      "     |  \n",
      "     |  __init__(self, /, *args, **kwargs)\n",
      "     |      Initialize self.  See help(type(self)) for accurate signature.\n",
      "     |  \n",
      "     |  ----------------------------------------------------------------------\n",
      "     |  Static methods inherited from builtins.Exception:\n",
      "     |  \n",
      "     |  __new__(*args, **kwargs) from builtins.type\n",
      "     |      Create and return a new object.  See help(type) for accurate signature.\n",
      "     |  \n",
      "     |  ----------------------------------------------------------------------\n",
      "     |  Methods inherited from builtins.BaseException:\n",
      "     |  \n",
      "     |  __delattr__(self, name, /)\n",
      "     |      Implement delattr(self, name).\n",
      "     |  \n",
      "     |  __getattribute__(self, name, /)\n",
      "     |      Return getattr(self, name).\n",
      "     |  \n",
      "     |  __reduce__(...)\n",
      "     |      Helper for pickle.\n",
      "     |  \n",
      "     |  __repr__(self, /)\n",
      "     |      Return repr(self).\n",
      "     |  \n",
      "     |  __setattr__(self, name, value, /)\n",
      "     |      Implement setattr(self, name, value).\n",
      "     |  \n",
      "     |  __setstate__(...)\n",
      "     |  \n",
      "     |  __str__(self, /)\n",
      "     |      Return str(self).\n",
      "     |  \n",
      "     |  add_note(...)\n",
      "     |      Exception.add_note(note) --\n",
      "     |      add a note to the exception\n",
      "     |  \n",
      "     |  with_traceback(...)\n",
      "     |      Exception.with_traceback(tb) --\n",
      "     |      set self.__traceback__ to tb and return self.\n",
      "     |  \n",
      "     |  ----------------------------------------------------------------------\n",
      "     |  Data descriptors inherited from builtins.BaseException:\n",
      "     |  \n",
      "     |  __cause__\n",
      "     |      exception cause\n",
      "     |  \n",
      "     |  __context__\n",
      "     |      exception context\n",
      "     |  \n",
      "     |  __dict__\n",
      "     |  \n",
      "     |  __suppress_context__\n",
      "     |  \n",
      "     |  __traceback__\n",
      "     |  \n",
      "     |  args\n",
      "    \n",
      "    class Point(builtins.tuple)\n",
      "     |  Point(x, y)\n",
      "     |  \n",
      "     |  Point(x, y)\n",
      "     |  \n",
      "     |  Method resolution order:\n",
      "     |      Point\n",
      "     |      builtins.tuple\n",
      "     |      builtins.object\n",
      "     |  \n",
      "     |  Methods defined here:\n",
      "     |  \n",
      "     |  __getnewargs__(self)\n",
      "     |      Return self as a plain tuple.  Used by copy and pickle.\n",
      "     |  \n",
      "     |  __repr__(self)\n",
      "     |      Return a nicely formatted representation string\n",
      "     |  \n",
      "     |  _asdict(self)\n",
      "     |      Return a new dict which maps field names to their values.\n",
      "     |  \n",
      "     |  _replace(self, /, **kwds)\n",
      "     |      Return a new Point object replacing specified fields with new values\n",
      "     |  \n",
      "     |  ----------------------------------------------------------------------\n",
      "     |  Class methods defined here:\n",
      "     |  \n",
      "     |  _make(iterable) from builtins.type\n",
      "     |      Make a new Point object from a sequence or iterable\n",
      "     |  \n",
      "     |  ----------------------------------------------------------------------\n",
      "     |  Static methods defined here:\n",
      "     |  \n",
      "     |  __new__(_cls, x, y)\n",
      "     |      Create new instance of Point(x, y)\n",
      "     |  \n",
      "     |  ----------------------------------------------------------------------\n",
      "     |  Data descriptors defined here:\n",
      "     |  \n",
      "     |  x\n",
      "     |      Alias for field number 0\n",
      "     |  \n",
      "     |  y\n",
      "     |      Alias for field number 1\n",
      "     |  \n",
      "     |  ----------------------------------------------------------------------\n",
      "     |  Data and other attributes defined here:\n",
      "     |  \n",
      "     |  __match_args__ = ('x', 'y')\n",
      "     |  \n",
      "     |  _field_defaults = {}\n",
      "     |  \n",
      "     |  _fields = ('x', 'y')\n",
      "     |  \n",
      "     |  ----------------------------------------------------------------------\n",
      "     |  Methods inherited from builtins.tuple:\n",
      "     |  \n",
      "     |  __add__(self, value, /)\n",
      "     |      Return self+value.\n",
      "     |  \n",
      "     |  __contains__(self, key, /)\n",
      "     |      Return key in self.\n",
      "     |  \n",
      "     |  __eq__(self, value, /)\n",
      "     |      Return self==value.\n",
      "     |  \n",
      "     |  __ge__(self, value, /)\n",
      "     |      Return self>=value.\n",
      "     |  \n",
      "     |  __getattribute__(self, name, /)\n",
      "     |      Return getattr(self, name).\n",
      "     |  \n",
      "     |  __getitem__(self, key, /)\n",
      "     |      Return self[key].\n",
      "     |  \n",
      "     |  __gt__(self, value, /)\n",
      "     |      Return self>value.\n",
      "     |  \n",
      "     |  __hash__(self, /)\n",
      "     |      Return hash(self).\n",
      "     |  \n",
      "     |  __iter__(self, /)\n",
      "     |      Implement iter(self).\n",
      "     |  \n",
      "     |  __le__(self, value, /)\n",
      "     |      Return self<=value.\n",
      "     |  \n",
      "     |  __len__(self, /)\n",
      "     |      Return len(self).\n",
      "     |  \n",
      "     |  __lt__(self, value, /)\n",
      "     |      Return self<value.\n",
      "     |  \n",
      "     |  __mul__(self, value, /)\n",
      "     |      Return self*value.\n",
      "     |  \n",
      "     |  __ne__(self, value, /)\n",
      "     |      Return self!=value.\n",
      "     |  \n",
      "     |  __rmul__(self, value, /)\n",
      "     |      Return value*self.\n",
      "     |  \n",
      "     |  count(self, value, /)\n",
      "     |      Return number of occurrences of value.\n",
      "     |  \n",
      "     |  index(self, value, start=0, stop=9223372036854775807, /)\n",
      "     |      Return first index of value.\n",
      "     |      \n",
      "     |      Raises ValueError if the value is not present.\n",
      "     |  \n",
      "     |  ----------------------------------------------------------------------\n",
      "     |  Class methods inherited from builtins.tuple:\n",
      "     |  \n",
      "     |  __class_getitem__(...) from builtins.type\n",
      "     |      See PEP 585\n",
      "    \n",
      "    class PyAutoGUIException(builtins.Exception)\n",
      "     |  PyAutoGUI code will raise this exception class for any invalid actions. If PyAutoGUI raises some other exception,\n",
      "     |  you should assume that this is caused by a bug in PyAutoGUI itself. (Including a failure to catch potential\n",
      "     |  exceptions raised by PyAutoGUI.)\n",
      "     |  \n",
      "     |  Method resolution order:\n",
      "     |      PyAutoGUIException\n",
      "     |      builtins.Exception\n",
      "     |      builtins.BaseException\n",
      "     |      builtins.object\n",
      "     |  \n",
      "     |  Data descriptors defined here:\n",
      "     |  \n",
      "     |  __weakref__\n",
      "     |      list of weak references to the object (if defined)\n",
      "     |  \n",
      "     |  ----------------------------------------------------------------------\n",
      "     |  Methods inherited from builtins.Exception:\n",
      "     |  \n",
      "     |  __init__(self, /, *args, **kwargs)\n",
      "     |      Initialize self.  See help(type(self)) for accurate signature.\n",
      "     |  \n",
      "     |  ----------------------------------------------------------------------\n",
      "     |  Static methods inherited from builtins.Exception:\n",
      "     |  \n",
      "     |  __new__(*args, **kwargs) from builtins.type\n",
      "     |      Create and return a new object.  See help(type) for accurate signature.\n",
      "     |  \n",
      "     |  ----------------------------------------------------------------------\n",
      "     |  Methods inherited from builtins.BaseException:\n",
      "     |  \n",
      "     |  __delattr__(self, name, /)\n",
      "     |      Implement delattr(self, name).\n",
      "     |  \n",
      "     |  __getattribute__(self, name, /)\n",
      "     |      Return getattr(self, name).\n",
      "     |  \n",
      "     |  __reduce__(...)\n",
      "     |      Helper for pickle.\n",
      "     |  \n",
      "     |  __repr__(self, /)\n",
      "     |      Return repr(self).\n",
      "     |  \n",
      "     |  __setattr__(self, name, value, /)\n",
      "     |      Implement setattr(self, name, value).\n",
      "     |  \n",
      "     |  __setstate__(...)\n",
      "     |  \n",
      "     |  __str__(self, /)\n",
      "     |      Return str(self).\n",
      "     |  \n",
      "     |  add_note(...)\n",
      "     |      Exception.add_note(note) --\n",
      "     |      add a note to the exception\n",
      "     |  \n",
      "     |  with_traceback(...)\n",
      "     |      Exception.with_traceback(tb) --\n",
      "     |      set self.__traceback__ to tb and return self.\n",
      "     |  \n",
      "     |  ----------------------------------------------------------------------\n",
      "     |  Data descriptors inherited from builtins.BaseException:\n",
      "     |  \n",
      "     |  __cause__\n",
      "     |      exception cause\n",
      "     |  \n",
      "     |  __context__\n",
      "     |      exception context\n",
      "     |  \n",
      "     |  __dict__\n",
      "     |  \n",
      "     |  __suppress_context__\n",
      "     |  \n",
      "     |  __traceback__\n",
      "     |  \n",
      "     |  args\n",
      "    \n",
      "    class Size(builtins.tuple)\n",
      "     |  Size(width, height)\n",
      "     |  \n",
      "     |  Size(width, height)\n",
      "     |  \n",
      "     |  Method resolution order:\n",
      "     |      Size\n",
      "     |      builtins.tuple\n",
      "     |      builtins.object\n",
      "     |  \n",
      "     |  Methods defined here:\n",
      "     |  \n",
      "     |  __getnewargs__(self)\n",
      "     |      Return self as a plain tuple.  Used by copy and pickle.\n",
      "     |  \n",
      "     |  __repr__(self)\n",
      "     |      Return a nicely formatted representation string\n",
      "     |  \n",
      "     |  _asdict(self)\n",
      "     |      Return a new dict which maps field names to their values.\n",
      "     |  \n",
      "     |  _replace(self, /, **kwds)\n",
      "     |      Return a new Size object replacing specified fields with new values\n",
      "     |  \n",
      "     |  ----------------------------------------------------------------------\n",
      "     |  Class methods defined here:\n",
      "     |  \n",
      "     |  _make(iterable) from builtins.type\n",
      "     |      Make a new Size object from a sequence or iterable\n",
      "     |  \n",
      "     |  ----------------------------------------------------------------------\n",
      "     |  Static methods defined here:\n",
      "     |  \n",
      "     |  __new__(_cls, width, height)\n",
      "     |      Create new instance of Size(width, height)\n",
      "     |  \n",
      "     |  ----------------------------------------------------------------------\n",
      "     |  Data descriptors defined here:\n",
      "     |  \n",
      "     |  width\n",
      "     |      Alias for field number 0\n",
      "     |  \n",
      "     |  height\n",
      "     |      Alias for field number 1\n",
      "     |  \n",
      "     |  ----------------------------------------------------------------------\n",
      "     |  Data and other attributes defined here:\n",
      "     |  \n",
      "     |  __match_args__ = ('width', 'height')\n",
      "     |  \n",
      "     |  _field_defaults = {}\n",
      "     |  \n",
      "     |  _fields = ('width', 'height')\n",
      "     |  \n",
      "     |  ----------------------------------------------------------------------\n",
      "     |  Methods inherited from builtins.tuple:\n",
      "     |  \n",
      "     |  __add__(self, value, /)\n",
      "     |      Return self+value.\n",
      "     |  \n",
      "     |  __contains__(self, key, /)\n",
      "     |      Return key in self.\n",
      "     |  \n",
      "     |  __eq__(self, value, /)\n",
      "     |      Return self==value.\n",
      "     |  \n",
      "     |  __ge__(self, value, /)\n",
      "     |      Return self>=value.\n",
      "     |  \n",
      "     |  __getattribute__(self, name, /)\n",
      "     |      Return getattr(self, name).\n",
      "     |  \n",
      "     |  __getitem__(self, key, /)\n",
      "     |      Return self[key].\n",
      "     |  \n",
      "     |  __gt__(self, value, /)\n",
      "     |      Return self>value.\n",
      "     |  \n",
      "     |  __hash__(self, /)\n",
      "     |      Return hash(self).\n",
      "     |  \n",
      "     |  __iter__(self, /)\n",
      "     |      Implement iter(self).\n",
      "     |  \n",
      "     |  __le__(self, value, /)\n",
      "     |      Return self<=value.\n",
      "     |  \n",
      "     |  __len__(self, /)\n",
      "     |      Return len(self).\n",
      "     |  \n",
      "     |  __lt__(self, value, /)\n",
      "     |      Return self<value.\n",
      "     |  \n",
      "     |  __mul__(self, value, /)\n",
      "     |      Return self*value.\n",
      "     |  \n",
      "     |  __ne__(self, value, /)\n",
      "     |      Return self!=value.\n",
      "     |  \n",
      "     |  __rmul__(self, value, /)\n",
      "     |      Return value*self.\n",
      "     |  \n",
      "     |  count(self, value, /)\n",
      "     |      Return number of occurrences of value.\n",
      "     |  \n",
      "     |  index(self, value, start=0, stop=9223372036854775807, /)\n",
      "     |      Return first index of value.\n",
      "     |      \n",
      "     |      Raises ValueError if the value is not present.\n",
      "     |  \n",
      "     |  ----------------------------------------------------------------------\n",
      "     |  Class methods inherited from builtins.tuple:\n",
      "     |  \n",
      "     |  __class_getitem__(...) from builtins.type\n",
      "     |      See PEP 585\n",
      "\n",
      "FUNCTIONS\n",
      "    click(x=None, y=None, clicks=1, interval=0.0, button='primary', duration=0.0, tween=<function linear at 0x000001F73FBDC2C0>, logScreenshot=None, _pause=True)\n",
      "        Performs pressing a mouse button down and then immediately releasing it. Returns ``None``.\n",
      "        \n",
      "        When no arguments are passed, the primary mouse button is clicked at the mouse cursor's current location.\n",
      "        \n",
      "        If integers for ``x`` and ``y`` are passed, the click will happen at that XY coordinate. If ``x`` is a string, the\n",
      "        string is an image filename that PyAutoGUI will attempt to locate on the screen and click the center of. If ``x``\n",
      "        is a sequence of two coordinates, those coordinates will be used for the XY coordinate to click on.\n",
      "        \n",
      "        The ``clicks`` argument is an int of how many clicks to make, and defaults to ``1``.\n",
      "        \n",
      "        The ``interval`` argument is an int or float of how many seconds to wait in between each click, if ``clicks`` is\n",
      "        greater than ``1``. It defaults to ``0.0`` for no pause in between clicks.\n",
      "        \n",
      "        The ``button`` argument is one of the constants ``LEFT``, ``MIDDLE``, ``RIGHT``, ``PRIMARY``, or ``SECONDARY``.\n",
      "        It defaults to ``PRIMARY`` (which is the left mouse button, unless the operating system has been set for\n",
      "        left-handed users.)\n",
      "        \n",
      "        If ``x`` and ``y`` are specified, and the click is not happening at the mouse cursor's current location, then\n",
      "        the ``duration`` argument is an int or float of how many seconds it should take to move the mouse to the XY\n",
      "        coordinates. It defaults to ``0`` for an instant move.\n",
      "        \n",
      "        If ``x`` and ``y`` are specified and ``duration`` is not ``0``, the ``tween`` argument is a tweening function\n",
      "        that specifies the movement pattern of the mouse cursor as it moves to the XY coordinates. The default is a\n",
      "        simple linear tween. See the PyTweening module documentation for more details.\n",
      "        \n",
      "        The ``pause`` parameter is deprecated. Call the ``pyautogui.sleep()`` function to implement a pause.\n",
      "        \n",
      "        Raises:\n",
      "          PyAutoGUIException: If button is not one of 'left', 'middle', 'right', 1, 2, 3\n",
      "    \n",
      "    countdown(seconds)\n",
      "    \n",
      "    displayMousePosition(xOffset=0, yOffset=0)\n",
      "        This function is meant to be run from the command line. It will\n",
      "        automatically display the location and RGB of the mouse cursor.\n",
      "    \n",
      "    doubleClick(x=None, y=None, interval=0.0, button='left', duration=0.0, tween=<function linear at 0x000001F73FBDC2C0>, logScreenshot=None, _pause=True)\n",
      "        Performs a double click.\n",
      "        \n",
      "        This is a wrapper function for click('left', x, y, 2, interval).\n",
      "        \n",
      "        The x and y parameters detail where the mouse event happens. If None, the\n",
      "        current mouse position is used. If a float value, it is rounded down. If\n",
      "        outside the boundaries of the screen, the event happens at edge of the\n",
      "        screen.\n",
      "        \n",
      "        Args:\n",
      "          x (int, float, None, tuple, optional): The x position on the screen where the\n",
      "            click happens. None by default. If tuple, this is used for x and y.\n",
      "            If x is a str, it's considered a filename of an image to find on\n",
      "            the screen with locateOnScreen() and click the center of.\n",
      "          y (int, float, None, optional): The y position on the screen where the\n",
      "            click happens. None by default.\n",
      "          interval (float, optional): The number of seconds in between each click,\n",
      "            if the number of clicks is greater than 1. 0.0 by default, for no\n",
      "            pause in between clicks.\n",
      "          button (str, int, optional): The mouse button released. TODO\n",
      "        \n",
      "        Returns:\n",
      "          None\n",
      "        \n",
      "        Raises:\n",
      "          PyAutoGUIException: If button is not one of 'left', 'middle', 'right', 1, 2, 3, 4,\n",
      "            5, 6, or 7\n",
      "    \n",
      "    drag = dragRel(xOffset=0, yOffset=0, duration=0.0, tween=<function linear at 0x000001F73FBDC2C0>, button='primary', logScreenshot=None, _pause=True, mouseDownUp=True)\n",
      "        Performs a mouse drag (mouse movement while a button is held down) to a\n",
      "        point on the screen, relative to its current position.\n",
      "        \n",
      "        The x and y parameters detail where the mouse event happens. If None, the\n",
      "        current mouse position is used. If a float value, it is rounded down. If\n",
      "        outside the boundaries of the screen, the event happens at edge of the\n",
      "        screen.\n",
      "        \n",
      "        Args:\n",
      "          x (int, float, None, tuple, optional): How far left (for negative values) or\n",
      "            right (for positive values) to move the cursor. 0 by default. If tuple, this is used for xOffset and yOffset.\n",
      "          y (int, float, None, optional): How far up (for negative values) or\n",
      "            down (for positive values) to move the cursor. 0 by default.\n",
      "          duration (float, optional): The amount of time it takes to move the mouse\n",
      "            cursor to the new xy coordinates. If 0, then the mouse cursor is moved\n",
      "            instantaneously. 0.0 by default.\n",
      "          tween (func, optional): The tweening function used if the duration is not\n",
      "            0. A linear tween is used by default.\n",
      "          button (str, int, optional): The mouse button released. TODO\n",
      "          mouseDownUp (True, False): When true, the mouseUp/Down actions are not performed.\n",
      "            Which allows dragging over multiple (small) actions. 'True' by default.\n",
      "        \n",
      "        Returns:\n",
      "          None\n",
      "    \n",
      "    dragRel(xOffset=0, yOffset=0, duration=0.0, tween=<function linear at 0x000001F73FBDC2C0>, button='primary', logScreenshot=None, _pause=True, mouseDownUp=True)\n",
      "        Performs a mouse drag (mouse movement while a button is held down) to a\n",
      "        point on the screen, relative to its current position.\n",
      "        \n",
      "        The x and y parameters detail where the mouse event happens. If None, the\n",
      "        current mouse position is used. If a float value, it is rounded down. If\n",
      "        outside the boundaries of the screen, the event happens at edge of the\n",
      "        screen.\n",
      "        \n",
      "        Args:\n",
      "          x (int, float, None, tuple, optional): How far left (for negative values) or\n",
      "            right (for positive values) to move the cursor. 0 by default. If tuple, this is used for xOffset and yOffset.\n",
      "          y (int, float, None, optional): How far up (for negative values) or\n",
      "            down (for positive values) to move the cursor. 0 by default.\n",
      "          duration (float, optional): The amount of time it takes to move the mouse\n",
      "            cursor to the new xy coordinates. If 0, then the mouse cursor is moved\n",
      "            instantaneously. 0.0 by default.\n",
      "          tween (func, optional): The tweening function used if the duration is not\n",
      "            0. A linear tween is used by default.\n",
      "          button (str, int, optional): The mouse button released. TODO\n",
      "          mouseDownUp (True, False): When true, the mouseUp/Down actions are not performed.\n",
      "            Which allows dragging over multiple (small) actions. 'True' by default.\n",
      "        \n",
      "        Returns:\n",
      "          None\n",
      "    \n",
      "    dragTo(x=None, y=None, duration=0.0, tween=<function linear at 0x000001F73FBDC2C0>, button='primary', logScreenshot=None, _pause=True, mouseDownUp=True)\n",
      "        Performs a mouse drag (mouse movement while a button is held down) to a\n",
      "        point on the screen.\n",
      "        \n",
      "        The x and y parameters detail where the mouse event happens. If None, the\n",
      "        current mouse position is used. If a float value, it is rounded down. If\n",
      "        outside the boundaries of the screen, the event happens at edge of the\n",
      "        screen.\n",
      "        \n",
      "        Args:\n",
      "          x (int, float, None, tuple, optional): How far left (for negative values) or\n",
      "            right (for positive values) to move the cursor. 0 by default. If tuple, this is used for x and y.\n",
      "            If x is a str, it's considered a filename of an image to find on\n",
      "            the screen with locateOnScreen() and click the center of.\n",
      "          y (int, float, None, optional): How far up (for negative values) or\n",
      "            down (for positive values) to move the cursor. 0 by default.\n",
      "          duration (float, optional): The amount of time it takes to move the mouse\n",
      "            cursor to the new xy coordinates. If 0, then the mouse cursor is moved\n",
      "            instantaneously. 0.0 by default.\n",
      "          tween (func, optional): The tweening function used if the duration is not\n",
      "            0. A linear tween is used by default.\n",
      "          button (str, int, optional): The mouse button released. TODO\n",
      "          mouseDownUp (True, False): When true, the mouseUp/Down actions are not performed.\n",
      "            Which allows dragging over multiple (small) actions. 'True' by default.\n",
      "        \n",
      "        Returns:\n",
      "          None\n",
      "    \n",
      "    failSafeCheck()\n",
      "    \n",
      "    getInfo()\n",
      "    \n",
      "    getPointOnLine(x1, y1, x2, y2, n)\n",
      "        Returns an (x, y) tuple of the point that has progressed a proportion ``n`` along the line defined by the two\n",
      "        ``x1``, ``y1`` and ``x2``, ``y2`` coordinates.\n",
      "        \n",
      "        This function was copied from pytweening module, so that it can be called even if PyTweening is not installed.\n",
      "    \n",
      "    hold(keys, logScreenshot=None, _pause=True)\n",
      "        Context manager that performs a keyboard key press down upon entry,\n",
      "        followed by a release upon exit.\n",
      "        \n",
      "        Args:\n",
      "          key (str, list): The key to be pressed. The valid names are listed in\n",
      "          KEYBOARD_KEYS. Can also be a list of such strings.\n",
      "          pause (float, optional): How many seconds in the end of function process.\n",
      "          None by default, for no pause in the end of function process.\n",
      "        Returns:\n",
      "          None\n",
      "    \n",
      "    hotkey(*args, **kwargs)\n",
      "        Performs key down presses on the arguments passed in order, then performs\n",
      "        key releases in reverse order.\n",
      "        \n",
      "        The effect is that calling hotkey('ctrl', 'shift', 'c') would perform a\n",
      "        \"Ctrl-Shift-C\" hotkey/keyboard shortcut press.\n",
      "        \n",
      "        Args:\n",
      "          key(s) (str): The series of keys to press, in order. This can also be a\n",
      "            list of key strings to press.\n",
      "          interval (float, optional): The number of seconds in between each press.\n",
      "            0.0 by default, for no pause in between presses.\n",
      "        \n",
      "        Returns:\n",
      "          None\n",
      "    \n",
      "    hscroll(clicks, x=None, y=None, logScreenshot=None, _pause=True)\n",
      "        Performs an explicitly horizontal scroll of the mouse scroll wheel,\n",
      "        if this is supported by the operating system. (Currently just Linux.)\n",
      "        \n",
      "        The x and y parameters detail where the mouse event happens. If None, the\n",
      "        current mouse position is used. If a float value, it is rounded down. If\n",
      "        outside the boundaries of the screen, the event happens at edge of the\n",
      "        screen.\n",
      "        \n",
      "        Args:\n",
      "          clicks (int, float): The amount of scrolling to perform.\n",
      "          x (int, float, None, tuple, optional): The x position on the screen where the\n",
      "            click happens. None by default. If tuple, this is used for x and y.\n",
      "          y (int, float, None, optional): The y position on the screen where the\n",
      "            click happens. None by default.\n",
      "        \n",
      "        Returns:\n",
      "          None\n",
      "    \n",
      "    isShiftCharacter(character)\n",
      "        Returns True if the ``character`` is a keyboard key that would require the shift key to be held down, such as\n",
      "        uppercase letters or the symbols on the keyboard's number row.\n",
      "    \n",
      "    isValidKey(key)\n",
      "        Returns a Boolean value if the given key is a valid value to pass to\n",
      "        PyAutoGUI's keyboard-related functions for the current platform.\n",
      "        \n",
      "        This function is here because passing an invalid value to the PyAutoGUI\n",
      "        keyboard functions currently is a no-op that does not raise an exception.\n",
      "        \n",
      "        Some keys are only valid on some platforms. For example, while 'esc' is\n",
      "        valid for the Escape key on all platforms, 'browserback' is only used on\n",
      "        Windows operating systems.\n",
      "        \n",
      "        Args:\n",
      "          key (str): The key value.\n",
      "        \n",
      "        Returns:\n",
      "          bool: True if key is a valid value, False if not.\n",
      "    \n",
      "    keyDown(key, logScreenshot=None, _pause=True)\n",
      "        Performs a keyboard key press without the release. This will put that\n",
      "        key in a held down state.\n",
      "        \n",
      "        NOTE: For some reason, this does not seem to cause key repeats like would\n",
      "        happen if a keyboard key was held down on a text field.\n",
      "        \n",
      "        Args:\n",
      "          key (str): The key to be pressed down. The valid names are listed in\n",
      "          KEYBOARD_KEYS.\n",
      "        \n",
      "        Returns:\n",
      "          None\n",
      "    \n",
      "    keyUp(key, logScreenshot=None, _pause=True)\n",
      "        Performs a keyboard key release (without the press down beforehand).\n",
      "        \n",
      "        Args:\n",
      "          key (str): The key to be released up. The valid names are listed in\n",
      "          KEYBOARD_KEYS.\n",
      "        \n",
      "        Returns:\n",
      "          None\n",
      "    \n",
      "    leftClick(x=None, y=None, interval=0.0, duration=0.0, tween=<function linear at 0x000001F73FBDC2C0>, logScreenshot=None, _pause=True)\n",
      "        Performs a left mouse button click.\n",
      "        \n",
      "        This is a wrapper function for click('left', x, y).\n",
      "        \n",
      "        The x and y parameters detail where the mouse event happens. If None, the\n",
      "        current mouse position is used. If a float value, it is rounded down. If\n",
      "        outside the boundaries of the screen, the event happens at edge of the\n",
      "        screen.\n",
      "        \n",
      "        Args:\n",
      "          x (int, float, None, tuple, optional): The x position on the screen where the\n",
      "            click happens. None by default. If tuple, this is used for x and y.\n",
      "            If x is a str, it's considered a filename of an image to find on\n",
      "            the screen with locateOnScreen() and click the center of.\n",
      "          y (int, float, None, optional): The y position on the screen where the\n",
      "            click happens. None by default.\n",
      "          interval (float, optional): The number of seconds in between each click,\n",
      "            if the number of clicks is greater than 1. 0.0 by default, for no\n",
      "            pause in between clicks.\n",
      "        \n",
      "        Returns:\n",
      "          None\n",
      "    \n",
      "    linear(n)\n",
      "        Returns ``n``, where ``n`` is the float argument between ``0.0`` and ``1.0``. This function is for the default\n",
      "        linear tween for mouse moving functions.\n",
      "        \n",
      "        This function was copied from PyTweening module, so that it can be called even if PyTweening is not installed.\n",
      "    \n",
      "    locate(*args, **kwargs)\n",
      "        TODO\n",
      "    \n",
      "    locateAll(*args, **kwargs)\n",
      "        TODO\n",
      "    \n",
      "    locateAllOnScreen(*args, **kwargs)\n",
      "        TODO\n",
      "    \n",
      "    locateCenterOnScreen(*args, **kwargs)\n",
      "        TODO\n",
      "    \n",
      "    locateOnScreen(*args, **kwargs)\n",
      "        TODO - rewrite this\n",
      "        minSearchTime - amount of time in seconds to repeat taking\n",
      "        screenshots and trying to locate a match.  The default of 0 performs\n",
      "        a single search.\n",
      "    \n",
      "    locateOnWindow(*args, **kwargs)\n",
      "        TODO\n",
      "    \n",
      "    middleClick(x=None, y=None, interval=0.0, duration=0.0, tween=<function linear at 0x000001F73FBDC2C0>, logScreenshot=None, _pause=True)\n",
      "        Performs a middle mouse button click.\n",
      "        \n",
      "        This is a wrapper function for click('middle', x, y).\n",
      "        \n",
      "        The x and y parameters detail where the mouse event happens. If None, the\n",
      "        current mouse position is used. If a float value, it is rounded down. If\n",
      "        outside the boundaries of the screen, the event happens at edge of the\n",
      "        screen.\n",
      "        \n",
      "        Args:\n",
      "          x (int, float, None, tuple, optional): The x position on the screen where the\n",
      "            click happens. None by default. If tuple, this is used for x and y.\n",
      "            If x is a str, it's considered a filename of an image to find on\n",
      "            the screen with locateOnScreen() and click the center of.\n",
      "          y (int, float, None, optional): The y position on the screen where the\n",
      "            click happens. None by default.\n",
      "        \n",
      "        Returns:\n",
      "          None\n",
      "    \n",
      "    mouseDown(x=None, y=None, button='primary', duration=0.0, tween=<function linear at 0x000001F73FBDC2C0>, logScreenshot=None, _pause=True)\n",
      "        Performs pressing a mouse button down (but not up).\n",
      "        \n",
      "        The x and y parameters detail where the mouse event happens. If None, the\n",
      "        current mouse position is used. If a float value, it is rounded down. If\n",
      "        outside the boundaries of the screen, the event happens at edge of the\n",
      "        screen.\n",
      "        \n",
      "        Args:\n",
      "          x (int, float, None, tuple, optional): The x position on the screen where the\n",
      "            mouse down happens. None by default. If tuple, this is used for x and y.\n",
      "            If x is a str, it's considered a filename of an image to find on\n",
      "            the screen with locateOnScreen() and click the center of.\n",
      "          y (int, float, None, optional): The y position on the screen where the\n",
      "            mouse down happens. None by default.\n",
      "          button (str, int, optional): The mouse button pressed down. TODO\n",
      "        \n",
      "        Returns:\n",
      "          None\n",
      "        \n",
      "        Raises:\n",
      "          PyAutoGUIException: If button is not one of 'left', 'middle', 'right', 1, 2, or 3\n",
      "    \n",
      "    mouseInfo()\n",
      "        Launches the MouseInfo app. This application provides mouse coordinate information which can be useful when\n",
      "        planning GUI automation tasks. This function blocks until the application is closed.\n",
      "    \n",
      "    mouseUp(x=None, y=None, button='primary', duration=0.0, tween=<function linear at 0x000001F73FBDC2C0>, logScreenshot=None, _pause=True)\n",
      "        Performs releasing a mouse button up (but not down beforehand).\n",
      "        \n",
      "        The x and y parameters detail where the mouse event happens. If None, the\n",
      "        current mouse position is used. If a float value, it is rounded down. If\n",
      "        outside the boundaries of the screen, the event happens at edge of the\n",
      "        screen.\n",
      "        \n",
      "        Args:\n",
      "          x (int, float, None, tuple, optional): The x position on the screen where the\n",
      "            mouse up happens. None by default. If tuple, this is used for x and y.\n",
      "            If x is a str, it's considered a filename of an image to find on\n",
      "            the screen with locateOnScreen() and click the center of.\n",
      "          y (int, float, None, optional): The y position on the screen where the\n",
      "            mouse up happens. None by default.\n",
      "          button (str, int, optional): The mouse button released. TODO\n",
      "        \n",
      "        Returns:\n",
      "          None\n",
      "        \n",
      "        Raises:\n",
      "          PyAutoGUIException: If button is not one of 'left', 'middle', 'right', 1, 2, or 3\n",
      "    \n",
      "    move = moveRel(xOffset=None, yOffset=None, duration=0.0, tween=<function linear at 0x000001F73FBDC2C0>, logScreenshot=False, _pause=True)\n",
      "        Moves the mouse cursor to a point on the screen, relative to its current\n",
      "        position.\n",
      "        \n",
      "        The x and y parameters detail where the mouse event happens. If None, the\n",
      "        current mouse position is used. If a float value, it is rounded down. If\n",
      "        outside the boundaries of the screen, the event happens at edge of the\n",
      "        screen.\n",
      "        \n",
      "        Args:\n",
      "          x (int, float, None, tuple, optional): How far left (for negative values) or\n",
      "            right (for positive values) to move the cursor. 0 by default. If tuple, this is used for x and y.\n",
      "          y (int, float, None, optional): How far up (for negative values) or\n",
      "            down (for positive values) to move the cursor. 0 by default.\n",
      "          duration (float, optional): The amount of time it takes to move the mouse\n",
      "            cursor to the new xy coordinates. If 0, then the mouse cursor is moved\n",
      "            instantaneously. 0.0 by default.\n",
      "          tween (func, optional): The tweening function used if the duration is not\n",
      "            0. A linear tween is used by default.\n",
      "        \n",
      "        Returns:\n",
      "          None\n",
      "    \n",
      "    moveRel(xOffset=None, yOffset=None, duration=0.0, tween=<function linear at 0x000001F73FBDC2C0>, logScreenshot=False, _pause=True)\n",
      "        Moves the mouse cursor to a point on the screen, relative to its current\n",
      "        position.\n",
      "        \n",
      "        The x and y parameters detail where the mouse event happens. If None, the\n",
      "        current mouse position is used. If a float value, it is rounded down. If\n",
      "        outside the boundaries of the screen, the event happens at edge of the\n",
      "        screen.\n",
      "        \n",
      "        Args:\n",
      "          x (int, float, None, tuple, optional): How far left (for negative values) or\n",
      "            right (for positive values) to move the cursor. 0 by default. If tuple, this is used for x and y.\n",
      "          y (int, float, None, optional): How far up (for negative values) or\n",
      "            down (for positive values) to move the cursor. 0 by default.\n",
      "          duration (float, optional): The amount of time it takes to move the mouse\n",
      "            cursor to the new xy coordinates. If 0, then the mouse cursor is moved\n",
      "            instantaneously. 0.0 by default.\n",
      "          tween (func, optional): The tweening function used if the duration is not\n",
      "            0. A linear tween is used by default.\n",
      "        \n",
      "        Returns:\n",
      "          None\n",
      "    \n",
      "    moveTo(x=None, y=None, duration=0.0, tween=<function linear at 0x000001F73FBDC2C0>, logScreenshot=False, _pause=True)\n",
      "        Moves the mouse cursor to a point on the screen.\n",
      "        \n",
      "        The x and y parameters detail where the mouse event happens. If None, the\n",
      "        current mouse position is used. If a float value, it is rounded down. If\n",
      "        outside the boundaries of the screen, the event happens at edge of the\n",
      "        screen.\n",
      "        \n",
      "        Args:\n",
      "          x (int, float, None, tuple, optional): The x position on the screen where the\n",
      "            click happens. None by default. If tuple, this is used for x and y.\n",
      "            If x is a str, it's considered a filename of an image to find on\n",
      "            the screen with locateOnScreen() and click the center of.\n",
      "          y (int, float, None, optional): The y position on the screen where the\n",
      "            click happens. None by default.\n",
      "          duration (float, optional): The amount of time it takes to move the mouse\n",
      "            cursor to the xy coordinates. If 0, then the mouse cursor is moved\n",
      "            instantaneously. 0.0 by default.\n",
      "          tween (func, optional): The tweening function used if the duration is not\n",
      "            0. A linear tween is used by default.\n",
      "        \n",
      "        Returns:\n",
      "          None\n",
      "    \n",
      "    onScreen(x, y=None)\n",
      "        Returns whether the given xy coordinates are on the primary screen or not.\n",
      "        \n",
      "        Note that this function doesn't work for secondary screens.\n",
      "        \n",
      "        Args:\n",
      "          Either the arguments are two separate values, first arg for x and second\n",
      "            for y, or there is a single argument of a sequence with two values, the\n",
      "            first x and the second y.\n",
      "            Example: onScreen(x, y) or onScreen([x, y])\n",
      "        \n",
      "        Returns:\n",
      "          bool: True if the xy coordinates are on the screen at its current\n",
      "            resolution, otherwise False.\n",
      "    \n",
      "    position(x=None, y=None)\n",
      "        Returns the current xy coordinates of the mouse cursor as a two-integer tuple.\n",
      "        \n",
      "        Args:\n",
      "          x (int, None, optional) - If not None, this argument overrides the x in\n",
      "            the return value.\n",
      "          y (int, None, optional) - If not None, this argument overrides the y in\n",
      "            the return value.\n",
      "        \n",
      "        Returns:\n",
      "          (x, y) tuple of the current xy coordinates of the mouse cursor.\n",
      "        \n",
      "        NOTE: The position() function doesn't check for failsafe.\n",
      "    \n",
      "    press(keys, presses=1, interval=0.0, logScreenshot=None, _pause=True)\n",
      "        Performs a keyboard key press down, followed by a release.\n",
      "        \n",
      "        Args:\n",
      "          key (str, list): The key to be pressed. The valid names are listed in\n",
      "          KEYBOARD_KEYS. Can also be a list of such strings.\n",
      "          presses (integer, optional): The number of press repetitions.\n",
      "          1 by default, for just one press.\n",
      "          interval (float, optional): How many seconds between each press.\n",
      "          0.0 by default, for no pause between presses.\n",
      "          pause (float, optional): How many seconds in the end of function process.\n",
      "          None by default, for no pause in the end of function process.\n",
      "        Returns:\n",
      "          None\n",
      "    \n",
      "    printInfo(dontPrint=False)\n",
      "    \n",
      "    raisePyAutoGUIImageNotFoundException(wrappedFunction)\n",
      "        A decorator that wraps PyScreeze locate*() functions so that the PyAutoGUI user sees them raise PyAutoGUI's\n",
      "        ImageNotFoundException rather than PyScreeze's ImageNotFoundException. This is because PyScreeze should be\n",
      "        invisible to PyAutoGUI users.\n",
      "    \n",
      "    resolution = size()\n",
      "        Returns the width and height of the screen as a two-integer tuple.\n",
      "        \n",
      "        Returns:\n",
      "          (width, height) tuple of the screen size, in pixels.\n",
      "    \n",
      "    rightClick(x=None, y=None, interval=0.0, duration=0.0, tween=<function linear at 0x000001F73FBDC2C0>, logScreenshot=None, _pause=True)\n",
      "        Performs a right mouse button click.\n",
      "        \n",
      "        This is a wrapper function for click('right', x, y).\n",
      "        \n",
      "        The x and y parameters detail where the mouse event happens. If None, the\n",
      "        current mouse position is used. If a float value, it is rounded down. If\n",
      "        outside the boundaries of the screen, the event happens at edge of the\n",
      "        screen.\n",
      "        \n",
      "        Args:\n",
      "          x (int, float, None, tuple, optional): The x position on the screen where the\n",
      "            click happens. None by default. If tuple, this is used for x and y.\n",
      "            If x is a str, it's considered a filename of an image to find on\n",
      "            the screen with locateOnScreen() and click the center of.\n",
      "          y (int, float, None, optional): The y position on the screen where the\n",
      "            click happens. None by default.\n",
      "          interval (float, optional): The number of seconds in between each click,\n",
      "            if the number of clicks is greater than 1. 0.0 by default, for no\n",
      "            pause in between clicks.\n",
      "        \n",
      "        Returns:\n",
      "          None\n",
      "    \n",
      "    run(commandStr, _ssCount=None)\n",
      "        Run a series of PyAutoGUI function calls according to a mini-language\n",
      "        made for this function. The `commandStr` is composed of character\n",
      "        commands that represent PyAutoGUI function calls.\n",
      "        \n",
      "        For example, `run('ccg-20,+0c')` clicks the mouse twice, then makes\n",
      "        the mouse cursor go 20 pixels to the left, then click again.\n",
      "        \n",
      "        Whitespace between commands and arguments is ignored. Command characters\n",
      "        must be lowercase. Quotes must be single quotes.\n",
      "        \n",
      "        For example, the previous call could also be written as `run('c c g -20, +0 c')`.\n",
      "        \n",
      "        The character commands and their equivalents are here:\n",
      "        \n",
      "        `c` => `click(button=PRIMARY)`\n",
      "        `l` => `click(button=LEFT)`\n",
      "        `m` => `click(button=MIDDLE)`\n",
      "        `r` => `click(button=RIGHT)`\n",
      "        `su` => `scroll(1) # scroll up`\n",
      "        `sd` => `scroll(-1) # scroll down`\n",
      "        `ss` => `screenshot('screenshot1.png') # filename number increases on its own`\n",
      "        \n",
      "        `gX,Y` => `moveTo(X, Y)`\n",
      "        `g+X,-Y` => `move(X, Y) # The + or - prefix is the difference between move() and moveTo()`\n",
      "        `dX,Y` => `dragTo(X, Y)`\n",
      "        `d+X,-Y` => `drag(X, Y) # The + or - prefix is the difference between drag() and dragTo()`\n",
      "        \n",
      "        `k'key'` => `press('key')`\n",
      "        `w'text'` => `write('text')`\n",
      "        `h'key,key,key'` => `hotkey(*'key,key,key'.replace(' ', '').split(','))`\n",
      "        `a'hello'` => `alert('hello')`\n",
      "        \n",
      "        `sN` => `sleep(N) # N can be an int or float`\n",
      "        `pN` => `PAUSE = N # N can be an int or float`\n",
      "        \n",
      "        `fN(commands)` => for i in range(N): run(commands)\n",
      "        \n",
      "        Note that any changes to `PAUSE` with the `p` command will be undone when\n",
      "        this function returns. The original `PAUSE` setting will be reset.\n",
      "        \n",
      "        TODO - This function is under development.\n",
      "    \n",
      "    scroll(clicks, x=None, y=None, logScreenshot=None, _pause=True)\n",
      "        Performs a scroll of the mouse scroll wheel.\n",
      "        \n",
      "        Whether this is a vertical or horizontal scroll depends on the underlying\n",
      "        operating system.\n",
      "        \n",
      "        The x and y parameters detail where the mouse event happens. If None, the\n",
      "        current mouse position is used. If a float value, it is rounded down. If\n",
      "        outside the boundaries of the screen, the event happens at edge of the\n",
      "        screen.\n",
      "        \n",
      "        Args:\n",
      "          clicks (int, float): The amount of scrolling to perform.\n",
      "          x (int, float, None, tuple, optional): The x position on the screen where the\n",
      "            click happens. None by default. If tuple, this is used for x and y.\n",
      "          y (int, float, None, optional): The y position on the screen where the\n",
      "            click happens. None by default.\n",
      "        \n",
      "        Returns:\n",
      "          None\n",
      "    \n",
      "    shortcut = hotkey(*args, **kwargs)\n",
      "        Performs key down presses on the arguments passed in order, then performs\n",
      "        key releases in reverse order.\n",
      "        \n",
      "        The effect is that calling hotkey('ctrl', 'shift', 'c') would perform a\n",
      "        \"Ctrl-Shift-C\" hotkey/keyboard shortcut press.\n",
      "        \n",
      "        Args:\n",
      "          key(s) (str): The series of keys to press, in order. This can also be a\n",
      "            list of key strings to press.\n",
      "          interval (float, optional): The number of seconds in between each press.\n",
      "            0.0 by default, for no pause in between presses.\n",
      "        \n",
      "        Returns:\n",
      "          None\n",
      "    \n",
      "    size()\n",
      "        Returns the width and height of the screen as a two-integer tuple.\n",
      "        \n",
      "        Returns:\n",
      "          (width, height) tuple of the screen size, in pixels.\n",
      "    \n",
      "    sleep(seconds)\n",
      "    \n",
      "    tripleClick(x=None, y=None, interval=0.0, button='left', duration=0.0, tween=<function linear at 0x000001F73FBDC2C0>, logScreenshot=None, _pause=True)\n",
      "        Performs a triple click.\n",
      "        \n",
      "        This is a wrapper function for click('left', x, y, 3, interval).\n",
      "        \n",
      "        The x and y parameters detail where the mouse event happens. If None, the\n",
      "        current mouse position is used. If a float value, it is rounded down. If\n",
      "        outside the boundaries of the screen, the event happens at edge of the\n",
      "        screen.\n",
      "        \n",
      "        Args:\n",
      "          x (int, float, None, tuple, optional): The x position on the screen where the\n",
      "            click happens. None by default. If tuple, this is used for x and y.\n",
      "            If x is a str, it's considered a filename of an image to find on\n",
      "            the screen with locateOnScreen() and click the center of.\n",
      "          y (int, float, None, optional): The y position on the screen where the\n",
      "            click happens. None by default.\n",
      "          interval (float, optional): The number of seconds in between each click,\n",
      "            if the number of clicks is greater than 1. 0.0 by default, for no\n",
      "            pause in between clicks.\n",
      "          button (str, int, optional): The mouse button released. TODO\n",
      "        \n",
      "        Returns:\n",
      "          None\n",
      "        \n",
      "        Raises:\n",
      "          PyAutoGUIException: If button is not one of 'left', 'middle', 'right', 1, 2, 3, 4,\n",
      "            5, 6, or 7\n",
      "    \n",
      "    typewrite(message, interval=0.0, logScreenshot=None, _pause=True)\n",
      "        Performs a keyboard key press down, followed by a release, for each of\n",
      "        the characters in message.\n",
      "        \n",
      "        The message argument can also be list of strings, in which case any valid\n",
      "        keyboard name can be used.\n",
      "        \n",
      "        Since this performs a sequence of keyboard presses and does not hold down\n",
      "        keys, it cannot be used to perform keyboard shortcuts. Use the hotkey()\n",
      "        function for that.\n",
      "        \n",
      "        Args:\n",
      "          message (str, list): If a string, then the characters to be pressed. If a\n",
      "            list, then the key names of the keys to press in order. The valid names\n",
      "            are listed in KEYBOARD_KEYS.\n",
      "          interval (float, optional): The number of seconds in between each press.\n",
      "            0.0 by default, for no pause in between presses.\n",
      "        \n",
      "        Returns:\n",
      "          None\n",
      "    \n",
      "    useImageNotFoundException(value=None)\n",
      "        When called with no arguments, PyAutoGUI will raise ImageNotFoundException when the PyScreeze locate*() functions\n",
      "        can't find the image it was told to locate. The default behavior is to return None. Call this function with no\n",
      "        arguments (or with True as the argument) to have exceptions raised, which is a better practice.\n",
      "        \n",
      "        You can also disable raising exceptions by passing False for the argument.\n",
      "    \n",
      "    vscroll(clicks, x=None, y=None, logScreenshot=None, _pause=True)\n",
      "        Performs an explicitly vertical scroll of the mouse scroll wheel,\n",
      "        if this is supported by the operating system. (Currently just Linux.)\n",
      "        \n",
      "        The x and y parameters detail where the mouse event happens. If None, the\n",
      "        current mouse position is used. If a float value, it is rounded down. If\n",
      "        outside the boundaries of the screen, the event happens at edge of the\n",
      "        screen.\n",
      "        \n",
      "        Args:\n",
      "          clicks (int, float): The amount of scrolling to perform.\n",
      "          x (int, float, None, tuple, optional): The x position on the screen where the\n",
      "            click happens. None by default. If tuple, this is used for x and y.\n",
      "          y (int, float, None, optional): The y position on the screen where the\n",
      "            click happens. None by default.\n",
      "        \n",
      "        Returns:\n",
      "          None\n",
      "    \n",
      "    write = typewrite(message, interval=0.0, logScreenshot=None, _pause=True)\n",
      "        Performs a keyboard key press down, followed by a release, for each of\n",
      "        the characters in message.\n",
      "        \n",
      "        The message argument can also be list of strings, in which case any valid\n",
      "        keyboard name can be used.\n",
      "        \n",
      "        Since this performs a sequence of keyboard presses and does not hold down\n",
      "        keys, it cannot be used to perform keyboard shortcuts. Use the hotkey()\n",
      "        function for that.\n",
      "        \n",
      "        Args:\n",
      "          message (str, list): If a string, then the characters to be pressed. If a\n",
      "            list, then the key names of the keys to press in order. The valid names\n",
      "            are listed in KEYBOARD_KEYS.\n",
      "          interval (float, optional): The number of seconds in between each press.\n",
      "            0.0 by default, for no pause in between presses.\n",
      "        \n",
      "        Returns:\n",
      "          None\n",
      "\n",
      "DATA\n",
      "    DARWIN_CATCH_UP_TIME = 0.01\n",
      "    FAILSAFE = True\n",
      "    FAILSAFE_POINTS = [(0, 0), (0, 1079), (1919, 0), (1919, 1079)]\n",
      "    G_LOG_SCREENSHOTS_FILENAMES = []\n",
      "    KEYBOARD_KEYS = ['\\t', '\\n', '\\r', ' ', '!', '\"', '#', '$', '%', '&', ...\n",
      "    KEY_NAMES = ['\\t', '\\n', '\\r', ' ', '!', '\"', '#', '$', '%', '&', \"'\",...\n",
      "    LEFT = 'left'\n",
      "    LOG_SCREENSHOTS = False\n",
      "    LOG_SCREENSHOTS_LIMIT = 10\n",
      "    MIDDLE = 'middle'\n",
      "    MINIMUM_DURATION = 0.1\n",
      "    MINIMUM_SLEEP = 0.05\n",
      "    PAUSE = 0.1\n",
      "    PRIMARY = 'primary'\n",
      "    QWERTY = '`1234567890-=qwertyuiop[]\\\\asdfghjkl;\\'zxcvbnm,./~!@#$%^&*()...\n",
      "    QWERTZ = r'=1234567890/0qwertzuiop89-asdfghjkl,\\yxcvbnm,.7+!@#$%^&*()?...\n",
      "    RIGHT = 'right'\n",
      "    SECONDARY = 'secondary'\n",
      "\n",
      "VERSION\n",
      "    0.9.54\n",
      "\n",
      "FILE\n",
      "    c:\\users\\nsgr6\\appdata\\local\\programs\\python\\python311\\lib\\site-packages\\pyautogui\\__init__.py\n",
      "\n",
      "\n"
     ]
    }
   ],
   "source": [
    "help(pa)"
   ]
  },
  {
   "cell_type": "code",
   "execution_count": 9,
   "metadata": {},
   "outputs": [
    {
     "data": {
      "text/plain": [
       "Point(x=113, y=126)"
      ]
     },
     "execution_count": 9,
     "metadata": {},
     "output_type": "execute_result"
    }
   ],
   "source": [
    "pa.position()"
   ]
  },
  {
   "cell_type": "code",
   "execution_count": 11,
   "metadata": {},
   "outputs": [],
   "source": [
    "pa.moveTo(x=113, y=126)"
   ]
  },
  {
   "attachments": {},
   "cell_type": "markdown",
   "metadata": {},
   "source": [
    "# Create Module"
   ]
  },
  {
   "cell_type": "code",
   "execution_count": 8,
   "metadata": {},
   "outputs": [
    {
     "data": {
      "text/plain": [
       "'c:\\\\Users\\\\nsgr6\\\\Desktop\\\\my Python\\\\B168\\\\ders dokumanlariM'"
      ]
     },
     "execution_count": 8,
     "metadata": {},
     "output_type": "execute_result"
    }
   ],
   "source": [
    "pwd"
   ]
  },
  {
   "cell_type": "code",
   "execution_count": 6,
   "metadata": {},
   "outputs": [],
   "source": [
    "from my_package import my_math"
   ]
  },
  {
   "cell_type": "code",
   "execution_count": 7,
   "metadata": {},
   "outputs": [
    {
     "name": "stdout",
     "output_type": "stream",
     "text": [
      "Help on function mean in module my_package.my_math:\n",
      "\n",
      "mean(x, y)\n",
      "    Bu fonksiyon iki sayinin ortalamasini verir\n",
      "\n"
     ]
    }
   ],
   "source": [
    "help(my_math.mean)"
   ]
  },
  {
   "cell_type": "code",
   "execution_count": 8,
   "metadata": {},
   "outputs": [
    {
     "name": "stdout",
     "output_type": "stream",
     "text": [
      "Help on function factoriyel in module my_package.my_math:\n",
      "\n",
      "factoriyel(x)\n",
      "    Bu fonksiyon icerisine yazilan sayinin faktöriyelini bulur\n",
      "\n"
     ]
    }
   ],
   "source": [
    "help(my_math.factoriyel)"
   ]
  },
  {
   "cell_type": "code",
   "execution_count": 9,
   "metadata": {},
   "outputs": [
    {
     "data": {
      "text/plain": [
       "16"
      ]
     },
     "execution_count": 9,
     "metadata": {},
     "output_type": "execute_result"
    }
   ],
   "source": [
    "my_math.factoriyel(5)"
   ]
  },
  {
   "cell_type": "code",
   "execution_count": 10,
   "metadata": {},
   "outputs": [
    {
     "ename": "AssertionError",
     "evalue": "negatif sayilarin faktöriyeli aranmaz",
     "output_type": "error",
     "traceback": [
      "\u001b[1;31m---------------------------------------------------------------------------\u001b[0m",
      "\u001b[1;31mAssertionError\u001b[0m                            Traceback (most recent call last)",
      "Cell \u001b[1;32mIn[10], line 1\u001b[0m\n\u001b[1;32m----> 1\u001b[0m my_math\u001b[39m.\u001b[39;49mfactoriyel(\u001b[39m-\u001b[39;49m\u001b[39m5\u001b[39;49m)\n",
      "File \u001b[1;32mc:\\Users\\nsgr6\\Desktop\\my Python\\B168\\ders dokumanlariM\\my_package\\my_math.py:5\u001b[0m, in \u001b[0;36mfactoriyel\u001b[1;34m(x)\u001b[0m\n\u001b[0;32m      1\u001b[0m \u001b[39mdef\u001b[39;00m \u001b[39mfactoriyel\u001b[39m(x):\n\u001b[0;32m      3\u001b[0m \u001b[39m    \u001b[39m\u001b[39m\"\"\"Bu fonksiyon icerisine yazilan sayinin faktöriyelini bulur\"\"\"\u001b[39;00m\n\u001b[1;32m----> 5\u001b[0m     \u001b[39massert\u001b[39;00m x \u001b[39m>\u001b[39m\u001b[39m=\u001b[39m \u001b[39m0\u001b[39m, \u001b[39m\"\u001b[39m\u001b[39mnegatif sayilarin faktöriyeli aranmaz\u001b[39m\u001b[39m\"\u001b[39m\n\u001b[0;32m      7\u001b[0m     carpim_degeri \u001b[39m=\u001b[39m \u001b[39m1\u001b[39m\n\u001b[0;32m      9\u001b[0m     \u001b[39mfor\u001b[39;00m i \u001b[39min\u001b[39;00m \u001b[39mrange\u001b[39m(x, \u001b[39m0\u001b[39m, \u001b[39m-\u001b[39m\u001b[39m1\u001b[39m):\n",
      "\u001b[1;31mAssertionError\u001b[0m: negatif sayilarin faktöriyeli aranmaz"
     ]
    }
   ],
   "source": [
    "my_math.factoriyel(-5)"
   ]
  },
  {
   "cell_type": "code",
   "execution_count": null,
   "metadata": {},
   "outputs": [
    {
     "data": {
      "text/plain": [
       "3.14"
      ]
     },
     "execution_count": 6,
     "metadata": {},
     "output_type": "execute_result"
    }
   ],
   "source": [
    "my_math.my_pi"
   ]
  },
  {
   "cell_type": "code",
   "execution_count": null,
   "metadata": {},
   "outputs": [
    {
     "data": {
      "text/plain": [
       "7.0"
      ]
     },
     "execution_count": 7,
     "metadata": {},
     "output_type": "execute_result"
    }
   ],
   "source": [
    "my_math.mean(4,10)"
   ]
  },
  {
   "cell_type": "code",
   "execution_count": 11,
   "metadata": {},
   "outputs": [
    {
     "data": {
      "text/plain": [
       "5.5"
      ]
     },
     "execution_count": 11,
     "metadata": {},
     "output_type": "execute_result"
    }
   ],
   "source": [
    "my_math.mean(5,6)"
   ]
  },
  {
   "cell_type": "code",
   "execution_count": 12,
   "metadata": {},
   "outputs": [
    {
     "data": {
      "text/plain": [
       "5.777777777777778"
      ]
     },
     "execution_count": 12,
     "metadata": {},
     "output_type": "execute_result"
    }
   ],
   "source": [
    "my_math.mean_(2,4,8,6,5,7,3,9,8)"
   ]
  },
  {
   "cell_type": "code",
   "execution_count": 14,
   "metadata": {},
   "outputs": [],
   "source": [
    "from modul_klasor import my_modul"
   ]
  },
  {
   "cell_type": "code",
   "execution_count": 15,
   "metadata": {},
   "outputs": [
    {
     "data": {
      "text/plain": [
       "[2, 4, 6, 8]"
      ]
     },
     "execution_count": 15,
     "metadata": {},
     "output_type": "execute_result"
    }
   ],
   "source": [
    "my_modul.ciftleri_ayikla(1,2,3,4,5,6,7,8,9,11)"
   ]
  },
  {
   "cell_type": "code",
   "execution_count": 16,
   "metadata": {},
   "outputs": [
    {
     "data": {
      "text/plain": [
       "[1, 3, 5, 7, 9, 11]"
      ]
     },
     "execution_count": 16,
     "metadata": {},
     "output_type": "execute_result"
    }
   ],
   "source": [
    "my_modul.tekleri_ayikla(1,2,3,4,5,6,7,8,9,11)"
   ]
  },
  {
   "cell_type": "code",
   "execution_count": 17,
   "metadata": {},
   "outputs": [
    {
     "data": {
      "text/plain": [
       "'Prints the values to a stream, or to sys.stdout by default.\\n\\n  sep\\n    string inserted between values, default a space.\\n  end\\n    string appended after the last value, default a newline.\\n  file\\n    a file-like object (stream); defaults to the current sys.stdout.\\n  flush\\n    whether to forcibly flush the stream.'"
      ]
     },
     "execution_count": 17,
     "metadata": {},
     "output_type": "execute_result"
    }
   ],
   "source": [
    "print.__doc__"
   ]
  },
  {
   "cell_type": "code",
   "execution_count": 18,
   "metadata": {},
   "outputs": [
    {
     "name": "stdout",
     "output_type": "stream",
     "text": [
      "Prints the values to a stream, or to sys.stdout by default.\n",
      "\n",
      "  sep\n",
      "    string inserted between values, default a space.\n",
      "  end\n",
      "    string appended after the last value, default a newline.\n",
      "  file\n",
      "    a file-like object (stream); defaults to the current sys.stdout.\n",
      "  flush\n",
      "    whether to forcibly flush the stream.\n"
     ]
    }
   ],
   "source": [
    "print(print.__doc__)"
   ]
  },
  {
   "cell_type": "code",
   "execution_count": 19,
   "metadata": {},
   "outputs": [
    {
     "data": {
      "text/plain": [
       "'Bu fonksiyon icerisine yazilan sayinin faktöriyelini bulur'"
      ]
     },
     "execution_count": 19,
     "metadata": {},
     "output_type": "execute_result"
    }
   ],
   "source": [
    "my_math.factoriyel.__doc__"
   ]
  },
  {
   "cell_type": "code",
   "execution_count": 28,
   "metadata": {},
   "outputs": [
    {
     "name": "stdout",
     "output_type": "stream",
     "text": [
      "2510"
     ]
    }
   ],
   "source": [
    "str1 = \"I am 25 years and 10 months old\"\n",
    "\n",
    "for i in str1:\n",
    "    if i.isdigit() == True:\n",
    "        print(i, end=\"\")\n",
    "        "
   ]
  },
  {
   "cell_type": "code",
   "execution_count": 31,
   "metadata": {},
   "outputs": [
    {
     "data": {
      "text/plain": [
       "['2', '5', '1', '0']"
      ]
     },
     "execution_count": 31,
     "metadata": {},
     "output_type": "execute_result"
    }
   ],
   "source": [
    "str1 = \"I am 25 years and 10 months old\"\n",
    "\n",
    "[i for i in str1 if i.isdigit()]"
   ]
  },
  {
   "cell_type": "code",
   "execution_count": 32,
   "metadata": {},
   "outputs": [
    {
     "data": {
      "text/plain": [
       "'2510'"
      ]
     },
     "execution_count": 32,
     "metadata": {},
     "output_type": "execute_result"
    }
   ],
   "source": [
    "str1 = \"I am 25 years and 10 months old\"\n",
    "\n",
    "\"\".join([i for i in str1 if i.isdigit()])"
   ]
  },
  {
   "cell_type": "code",
   "execution_count": 29,
   "metadata": {},
   "outputs": [
    {
     "data": {
      "text/plain": [
       "'2510'"
      ]
     },
     "execution_count": 29,
     "metadata": {},
     "output_type": "execute_result"
    }
   ],
   "source": [
    "str1 = \"I am 25 years and 10 months old\"\n",
    "\n",
    "\"\".join([i for i in str1 if i.isnumeric()])"
   ]
  },
  {
   "cell_type": "code",
   "execution_count": 30,
   "metadata": {},
   "outputs": [
    {
     "name": "stdout",
     "output_type": "stream",
     "text": [
      "2510\n"
     ]
    }
   ],
   "source": [
    "str1 = \"I am 25 years and 10 months old\"\n",
    "\n",
    "print(\"\".join([i for i in str1 if i.isnumeric()]))"
   ]
  },
  {
   "cell_type": "code",
   "execution_count": null,
   "metadata": {},
   "outputs": [],
   "source": []
  },
  {
   "cell_type": "code",
   "execution_count": 34,
   "metadata": {},
   "outputs": [
    {
     "data": {
      "text/plain": [
       "'I am  years and  months old'"
      ]
     },
     "execution_count": 34,
     "metadata": {},
     "output_type": "execute_result"
    }
   ],
   "source": [
    "str1 = \"I am 25 years and 10 months old\"\n",
    "\n",
    "\"\".join([i for i in str1 if not i.isdigit()])"
   ]
  },
  {
   "cell_type": "code",
   "execution_count": null,
   "metadata": {},
   "outputs": [],
   "source": []
  }
 ],
 "metadata": {
  "kernelspec": {
   "display_name": "Python 3",
   "language": "python",
   "name": "python3"
  },
  "language_info": {
   "codemirror_mode": {
    "name": "ipython",
    "version": 3
   },
   "file_extension": ".py",
   "mimetype": "text/x-python",
   "name": "python",
   "nbconvert_exporter": "python",
   "pygments_lexer": "ipython3",
   "version": "3.11.3"
  },
  "orig_nbformat": 4
 },
 "nbformat": 4,
 "nbformat_minor": 2
}
