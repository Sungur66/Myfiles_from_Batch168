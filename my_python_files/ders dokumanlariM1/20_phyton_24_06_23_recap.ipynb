{
 "cells": [
  {
   "cell_type": "code",
   "execution_count": 3,
   "metadata": {},
   "outputs": [
    {
     "name": "stdout",
     "output_type": "stream",
     "text": [
      "3 + 33 + 333 = 369\n"
     ]
    }
   ],
   "source": [
    "x = input(\"sifir harici bir sayi giriniz\")\n",
    "\n",
    "if x.isnumeric():\n",
    "    if int(x) in [1,2,3,4,5,6,7,8,9]:\n",
    "\n",
    "        x1 = int(x)\n",
    "        x2 = int(x + x)\n",
    "        x3 = int(x + x + x)\n",
    "        toplam = (x1 + x2 + x3)\n",
    "        print(f\"{x1} + {x2} + {x3} = {toplam}\")"
   ]
  },
  {
   "cell_type": "code",
   "execution_count": null,
   "metadata": {},
   "outputs": [],
   "source": [
    "x = input(\"bir sayi giriniz\")\n",
    "\n",
    "if x.isnumeric():\n",
    "    if int(x) in [1,2,3,4,5,6,7,8,9]:\n",
    "        sonuc = int(x) + int(x * 2) + int(x * 3)\n",
    "    else:\n",
    "        sonuc = \"rakam girdiginizden emin misiniz?\"\n",
    "else:\n",
    "    sonuc = \"int formatinda girdiginizden emin olun\"\n",
    "\n",
    "print(sonuc)"
   ]
  },
  {
   "cell_type": "code",
   "execution_count": 10,
   "metadata": {},
   "outputs": [
    {
     "name": "stdout",
     "output_type": "stream",
     "text": [
      "GirisYili = 1234\n",
      "FakulteNo = 56\n",
      "BolumNo = 78\n",
      "OgrenimNo = 9\n",
      "OgrenciNo = 12\n"
     ]
    }
   ],
   "source": [
    "ogr_nu = input(\"11 haneli ogrenci numaranizi girin\")\n",
    "\n",
    "if ogr_nu.isdigit() and len(ogr_nu) == 11:\n",
    "    ogr_bil = dict( GirisYili = ogr_nu[0:4],\n",
    "                    FakulteNo = ogr_nu[4:6],\n",
    "                    BolumNo = ogr_nu[6:8],\n",
    "                    OgrenimNo = ogr_nu[8],\n",
    "                    OgrenciNo = ogr_nu[9:])\n",
    "else: \n",
    "    print(\"yanlis giris yaptiniz\")\n",
    "\n",
    "for i in ogr_bil.items():\n",
    "    print(i[0] + \" = \" + i[1])\n",
    "\n",
    "    "
   ]
  },
  {
   "attachments": {},
   "cell_type": "markdown",
   "metadata": {},
   "source": [
    "soru\n",
    "Kullanicidan bir kelime girmesini isteyin. ve her karakterini index numarasi ile eslestirin."
   ]
  },
  {
   "cell_type": "code",
   "execution_count": 12,
   "metadata": {},
   "outputs": [
    {
     "name": "stdout",
     "output_type": "stream",
     "text": [
      "[(0, 's'), (1, 'u'), (2, 'n'), (3, 'g'), (4, 'u'), (5, 'r')]\n"
     ]
    }
   ],
   "source": [
    "# 1. Cozum\n",
    "\n",
    "x = input(\"Bir kelime girin\")\n",
    "\n",
    "index_list = [i for i in range(0, len(x))]\n",
    "\n",
    "char_list = [i for  i in x]\n",
    "\n",
    "aa = list(zip(index_list, char_list))\n",
    "\n",
    "print(aa)"
   ]
  },
  {
   "cell_type": "code",
   "execution_count": 13,
   "metadata": {},
   "outputs": [
    {
     "name": "stdout",
     "output_type": "stream",
     "text": [
      "{0: 's', 1: 'u', 2: 'n', 3: 'g', 4: 'u', 5: 'r'}\n"
     ]
    }
   ],
   "source": [
    "# 2. Cozum\n",
    "\n",
    "x = input(\"Bir kelime girin\")\n",
    "\n",
    "dict_char = {}\n",
    "\n",
    "for i in range(len(x)):\n",
    "\n",
    "    dict_char[i] = x[i]\n",
    "print(dict_char)"
   ]
  },
  {
   "cell_type": "code",
   "execution_count": 14,
   "metadata": {},
   "outputs": [
    {
     "data": {
      "text/plain": [
       "[(0, 's'), (1, 'u'), (2, 'n'), (3, 'g'), (4, 'u'), (5, 'r')]"
      ]
     },
     "execution_count": 14,
     "metadata": {},
     "output_type": "execute_result"
    }
   ],
   "source": [
    "# 3. Cozum\n",
    "\n",
    "x = input(\"Bir kelime girin\")\n",
    "\n",
    "list(enumerate(x))"
   ]
  },
  {
   "cell_type": "code",
   "execution_count": 15,
   "metadata": {},
   "outputs": [
    {
     "data": {
      "text/plain": [
       "{0: 's', 1: 'u', 2: 'n', 3: 'g', 4: 'u', 5: 'r'}"
      ]
     },
     "execution_count": 15,
     "metadata": {},
     "output_type": "execute_result"
    }
   ],
   "source": [
    "# 3. Cozum2\n",
    "\n",
    "x = input(\"Bir kelime girin\")\n",
    "\n",
    "dict(enumerate(x))"
   ]
  },
  {
   "attachments": {},
   "cell_type": "markdown",
   "metadata": {},
   "source": [
    "assignment 5 in cozumu: Mountain Array"
   ]
  },
  {
   "cell_type": "code",
   "execution_count": 16,
   "metadata": {},
   "outputs": [],
   "source": [
    "# [0,4,5,6,4,2,1]\n",
    "\n",
    "def validMauntainArray(arr):\n",
    "\n",
    "    if len(arr) < 3:\n",
    "        return False\n",
    "    \n",
    "    i = 1\n",
    "\n",
    "    while i < len(arr) and arr[i] > arr[i - 1]:\n",
    "        i += 1\n",
    "    \n",
    "    if i == 1 or i == len(arr):\n",
    "        return False\n",
    "    \n",
    "    while i < len(arr) and arr[i] < arr[i - 1]:\n",
    "        i += 1\n",
    "    \n",
    "    if i == len(arr):\n",
    "        return True\n",
    "    else: \n",
    "        return False\n"
   ]
  },
  {
   "cell_type": "code",
   "execution_count": 17,
   "metadata": {},
   "outputs": [
    {
     "data": {
      "text/plain": [
       "True"
      ]
     },
     "execution_count": 17,
     "metadata": {},
     "output_type": "execute_result"
    }
   ],
   "source": [
    "validMauntainArray([0,4,5,6,4,2,1])"
   ]
  },
  {
   "cell_type": "code",
   "execution_count": 18,
   "metadata": {},
   "outputs": [
    {
     "data": {
      "text/plain": [
       "False"
      ]
     },
     "execution_count": 18,
     "metadata": {},
     "output_type": "execute_result"
    }
   ],
   "source": [
    "validMauntainArray([0,0,5,6,4,2,1])"
   ]
  },
  {
   "cell_type": "code",
   "execution_count": 22,
   "metadata": {},
   "outputs": [
    {
     "data": {
      "text/plain": [
       "False"
      ]
     },
     "execution_count": 22,
     "metadata": {},
     "output_type": "execute_result"
    }
   ],
   "source": [
    "validMauntainArray([0,4,5,6,4,2,1,0,0])"
   ]
  },
  {
   "cell_type": "code",
   "execution_count": 20,
   "metadata": {},
   "outputs": [
    {
     "data": {
      "text/plain": [
       "False"
      ]
     },
     "execution_count": 20,
     "metadata": {},
     "output_type": "execute_result"
    }
   ],
   "source": [
    "validMauntainArray([0,4,5,6,4,5,1])"
   ]
  },
  {
   "cell_type": "code",
   "execution_count": 21,
   "metadata": {},
   "outputs": [
    {
     "data": {
      "text/plain": [
       "False"
      ]
     },
     "execution_count": 21,
     "metadata": {},
     "output_type": "execute_result"
    }
   ],
   "source": [
    "validMauntainArray([0,4,5,6,4,2,9])"
   ]
  },
  {
   "cell_type": "code",
   "execution_count": 28,
   "metadata": {},
   "outputs": [],
   "source": [
    "# halilmuslubas in cozumu\n",
    "\n",
    "dizi=[20, 70, 60, 50, 40, 30, 20, 1]\n",
    "def validMountainArray22(lst:list):\n",
    "    art_say=0\n",
    "    azl_say=0\n",
    "    if len(lst)<3: return False\n",
    "    artan=False\n",
    "    Azalan=False\n",
    "    for i in range(1,len (lst)):\n",
    "        if lst[i-1] < lst[i]:\n",
    "            art_say+=1\n",
    "            artan=True\n",
    "            if Azalan:\n",
    "                return False\n",
    "        elif lst[i-1] > lst[i]:\n",
    "            azl_say+=1\n",
    "            artan= False\n",
    "            Azalan= True\n",
    "        else:\n",
    "            return False\n",
    "    if art_say==len(lst)-1 or azl_say==len(lst)-1:\n",
    "        return False\n",
    "    else:\n",
    "        return True"
   ]
  },
  {
   "cell_type": "code",
   "execution_count": 32,
   "metadata": {},
   "outputs": [
    {
     "data": {
      "text/plain": [
       "True"
      ]
     },
     "execution_count": 32,
     "metadata": {},
     "output_type": "execute_result"
    }
   ],
   "source": [
    " validMountainArray22([0,4,5,6,4,2,1,0])"
   ]
  },
  {
   "cell_type": "code",
   "execution_count": 33,
   "metadata": {},
   "outputs": [],
   "source": [
    "aa = lambda x, y, z: x ** y + z"
   ]
  },
  {
   "cell_type": "code",
   "execution_count": 35,
   "metadata": {},
   "outputs": [
    {
     "data": {
      "text/plain": [
       "15"
      ]
     },
     "execution_count": 35,
     "metadata": {},
     "output_type": "execute_result"
    }
   ],
   "source": [
    "aa(3,2,6)"
   ]
  },
  {
   "cell_type": "code",
   "execution_count": 36,
   "metadata": {},
   "outputs": [
    {
     "data": {
      "text/plain": [
       "15"
      ]
     },
     "execution_count": 36,
     "metadata": {},
     "output_type": "execute_result"
    }
   ],
   "source": [
    "(lambda x, y, z: x ** y + z)(3,2,6)"
   ]
  },
  {
   "cell_type": "code",
   "execution_count": 42,
   "metadata": {},
   "outputs": [],
   "source": [
    "# Assignment 4 , Answer of the teacher\n",
    "\n",
    "def moveZeroes(sayilar):\n",
    "    liste = []\n",
    "    for i in sayilar:\n",
    "        if i != 0:\n",
    "            liste.append(i)\n",
    "\n",
    "    for i in range(len(sayilar) - len(liste)):\n",
    "        liste.append(0)\n",
    "    \n",
    "    return liste\n"
   ]
  },
  {
   "cell_type": "code",
   "execution_count": 43,
   "metadata": {},
   "outputs": [
    {
     "data": {
      "text/plain": [
       "[1, 3, 11, 0, 0]"
      ]
     },
     "execution_count": 43,
     "metadata": {},
     "output_type": "execute_result"
    }
   ],
   "source": [
    "moveZeroes([0,1,0,3,11])"
   ]
  },
  {
   "cell_type": "code",
   "execution_count": 45,
   "metadata": {},
   "outputs": [],
   "source": [
    "def moveZeroes2(sayilar):\n",
    "\n",
    "    index = 0\n",
    "\n",
    "    for i in sayilar:\n",
    "        if i != 0:\n",
    "            sayilar[index] = i\n",
    "            index += 1\n",
    "    for x in range(index, len(sayilar)):\n",
    "        sayilar[x] = 0\n",
    "    \n",
    "    return sayilar"
   ]
  },
  {
   "cell_type": "code",
   "execution_count": 46,
   "metadata": {},
   "outputs": [
    {
     "data": {
      "text/plain": [
       "[1, 3, 11, 0, 0]"
      ]
     },
     "execution_count": 46,
     "metadata": {},
     "output_type": "execute_result"
    }
   ],
   "source": [
    "moveZeroes2([0,1,0,3,11])"
   ]
  }
 ],
 "metadata": {
  "kernelspec": {
   "display_name": "Python 3",
   "language": "python",
   "name": "python3"
  },
  "language_info": {
   "codemirror_mode": {
    "name": "ipython",
    "version": 3
   },
   "file_extension": ".py",
   "mimetype": "text/x-python",
   "name": "python",
   "nbconvert_exporter": "python",
   "pygments_lexer": "ipython3",
   "version": "3.11.3"
  },
  "orig_nbformat": 4
 },
 "nbformat": 4,
 "nbformat_minor": 2
}
