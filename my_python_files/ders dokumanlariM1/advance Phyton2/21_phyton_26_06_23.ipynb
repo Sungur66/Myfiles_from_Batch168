{
 "cells": [
  {
   "attachments": {},
   "cell_type": "markdown",
   "metadata": {},
   "source": [
    "# File Management\n",
    "dosyalam islemleri"
   ]
  },
  {
   "attachments": {},
   "cell_type": "markdown",
   "metadata": {},
   "source": [
    "## open()\n",
    "\n",
    "doya acam olusturma amacli kullanilir\n",
    "\n",
    "open(dosya_adi, dosya_erisme_modu)\n",
    "\n",
    "doya erisme modu:(dosyayi hangi amacla actigimizi belirtir. \n",
    "'w':(write) yazma modu)\n",
    "1. dosyayi olusturur.\n",
    "2. dosya mevcutsa icerigi siler ve yeni olusturulacaklari yazar.\n"
   ]
  },
  {
   "cell_type": "code",
   "execution_count": 1,
   "metadata": {},
   "outputs": [
    {
     "data": {
      "text/plain": [
       "<_io.TextIOWrapper name='newfile.txt' mode='w' encoding='cp1252'>"
      ]
     },
     "execution_count": 1,
     "metadata": {},
     "output_type": "execute_result"
    }
   ],
   "source": [
    "open(\"newfile.txt\", \"w\")"
   ]
  },
  {
   "cell_type": "code",
   "execution_count": 2,
   "metadata": {},
   "outputs": [
    {
     "name": "stdout",
     "output_type": "stream",
     "text": [
      "<_io.TextIOWrapper name='newfile.txt' mode='w' encoding='cp1252'>\n"
     ]
    }
   ],
   "source": [
    "result = open(\"newfile.txt\", \"w\") # 'w' kipi/modu biraz tehlikeli, kaydedilen degisiklikleri silebilir \n",
    "\n",
    "print(result)"
   ]
  },
  {
   "cell_type": "code",
   "execution_count": 3,
   "metadata": {},
   "outputs": [
    {
     "data": {
      "text/plain": [
       "'c:\\\\Users\\\\nsgr6\\\\Desktop\\\\my Python\\\\B168\\\\ders dokumanlariM'"
      ]
     },
     "execution_count": 3,
     "metadata": {},
     "output_type": "execute_result"
    }
   ],
   "source": [
    "pwd"
   ]
  },
  {
   "cell_type": "code",
   "execution_count": 5,
   "metadata": {},
   "outputs": [
    {
     "data": {
      "text/plain": [
       "<function dir>"
      ]
     },
     "execution_count": 5,
     "metadata": {},
     "output_type": "execute_result"
    }
   ],
   "source": [
    "dir"
   ]
  },
  {
   "cell_type": "code",
   "execution_count": 6,
   "metadata": {},
   "outputs": [
    {
     "data": {
      "text/plain": [
       "['In',\n",
       " 'Out',\n",
       " '_',\n",
       " '_1',\n",
       " '_3',\n",
       " '_4',\n",
       " '_5',\n",
       " '__',\n",
       " '___',\n",
       " '__builtin__',\n",
       " '__builtins__',\n",
       " '__doc__',\n",
       " '__loader__',\n",
       " '__name__',\n",
       " '__package__',\n",
       " '__spec__',\n",
       " '__vsc_ipynb_file__',\n",
       " '_dh',\n",
       " '_i',\n",
       " '_i1',\n",
       " '_i2',\n",
       " '_i3',\n",
       " '_i4',\n",
       " '_i5',\n",
       " '_i6',\n",
       " '_ih',\n",
       " '_ii',\n",
       " '_iii',\n",
       " '_oh',\n",
       " 'exit',\n",
       " 'get_ipython',\n",
       " 'open',\n",
       " 'quit',\n",
       " 'result']"
      ]
     },
     "execution_count": 6,
     "metadata": {},
     "output_type": "execute_result"
    }
   ],
   "source": [
    "dir() # burda pek kullanisli degil!"
   ]
  },
  {
   "cell_type": "code",
   "execution_count": 9,
   "metadata": {},
   "outputs": [
    {
     "name": "stdout",
     "output_type": "stream",
     "text": [
      "<_io.TextIOWrapper name='C:/Users/nsgr6/Desktop/newfile_deneme.txt' mode='w' encoding='cp1252'>\n"
     ]
    }
   ],
   "source": [
    "file = open(\"C:/Users/nsgr6/Desktop/newfile_deneme.txt\",\"w\")\n",
    "print(file)"
   ]
  },
  {
   "cell_type": "code",
   "execution_count": 10,
   "metadata": {},
   "outputs": [
    {
     "ename": "SyntaxError",
     "evalue": "(unicode error) 'unicodeescape' codec can't decode bytes in position 2-3: truncated \\UXXXXXXXX escape (2032574949.py, line 1)",
     "output_type": "error",
     "traceback": [
      "\u001b[1;36m  Cell \u001b[1;32mIn[10], line 1\u001b[1;36m\u001b[0m\n\u001b[1;33m    file = open(\"C:\\Users\\nsgr6\\Desktop\\newfile_deneme2.txt\",\"w\")\u001b[0m\n\u001b[1;37m                                                            ^\u001b[0m\n\u001b[1;31mSyntaxError\u001b[0m\u001b[1;31m:\u001b[0m (unicode error) 'unicodeescape' codec can't decode bytes in position 2-3: truncated \\UXXXXXXXX escape\n"
     ]
    }
   ],
   "source": [
    "file = open(\"C:\\Users\\nsgr6\\Desktop\\newfile_deneme2.txt\",\"w\")\n",
    "print(file)     # \\ leri kacis olarak algiliyor ve syntax hatasi veriyor"
   ]
  },
  {
   "cell_type": "code",
   "execution_count": 11,
   "metadata": {},
   "outputs": [
    {
     "name": "stdout",
     "output_type": "stream",
     "text": [
      "<_io.TextIOWrapper name='C:\\\\Users\\\\nsgr6\\\\Desktop\\\\newfile_deneme2.txt' mode='w' encoding='cp1252'>\n"
     ]
    }
   ],
   "source": [
    "file = open(r\"C:\\Users\\nsgr6\\Desktop\\newfile_deneme2.txt\",\"w\")\n",
    "print(file)  # dosya olustu"
   ]
  },
  {
   "cell_type": "code",
   "execution_count": 12,
   "metadata": {},
   "outputs": [
    {
     "name": "stdout",
     "output_type": "stream",
     "text": [
      "<_io.TextIOWrapper name='C:\\\\\\\\Users\\\\\\\\nsgr6\\\\Desktop\\\\\\\\newfile_deneme3.txt' mode='w' encoding='cp1252'>\n"
     ]
    }
   ],
   "source": [
    "file = open(r\"C:\\\\Users\\\\nsgr6\\Desktop\\\\newfile_deneme3.txt\",\"w\")\n",
    "print(file) # buda bir diger yöntem"
   ]
  },
  {
   "cell_type": "code",
   "execution_count": 21,
   "metadata": {},
   "outputs": [
    {
     "name": "stdout",
     "output_type": "stream",
     "text": [
      "<_io.TextIOWrapper name='newfile.txt' mode='w' encoding='utf-8'>\n"
     ]
    }
   ],
   "source": [
    "file = open(\"newfile.txt\", \"w\", encoding=\"utf-8\")\n",
    "file.write(\"Ahmet Külyutmaz \" * 3)\n",
    "print(file)\n",
    "file.close()"
   ]
  },
  {
   "attachments": {},
   "cell_type": "markdown",
   "metadata": {},
   "source": [
    "\"a\" : (Append kipi) ekleme. Dosya yoksa olusturur, var olan dosyanin sonuna yazar."
   ]
  },
  {
   "cell_type": "code",
   "execution_count": 24,
   "metadata": {},
   "outputs": [],
   "source": [
    "file = open(\"newfile.txt\", \"a\", encoding=\"utf-8\")\n",
    "file.write(\"\\nFatma Külyutmaz\\n\")\n",
    "file.close()"
   ]
  },
  {
   "attachments": {},
   "cell_type": "markdown",
   "metadata": {},
   "source": [
    "\"x\":(create kipi) olusturma. Dosya varsa hata verir"
   ]
  },
  {
   "cell_type": "code",
   "execution_count": 25,
   "metadata": {},
   "outputs": [
    {
     "ename": "FileExistsError",
     "evalue": "[Errno 17] File exists: 'newfile.txt'",
     "output_type": "error",
     "traceback": [
      "\u001b[1;31m---------------------------------------------------------------------------\u001b[0m",
      "\u001b[1;31mFileExistsError\u001b[0m                           Traceback (most recent call last)",
      "Cell \u001b[1;32mIn[25], line 1\u001b[0m\n\u001b[1;32m----> 1\u001b[0m file \u001b[39m=\u001b[39m \u001b[39mopen\u001b[39;49m(\u001b[39m\"\u001b[39;49m\u001b[39mnewfile.txt\u001b[39;49m\u001b[39m\"\u001b[39;49m, \u001b[39m\"\u001b[39;49m\u001b[39mx\u001b[39;49m\u001b[39m\"\u001b[39;49m, encoding\u001b[39m=\u001b[39;49m\u001b[39m\"\u001b[39;49m\u001b[39mutf-8\u001b[39;49m\u001b[39m\"\u001b[39;49m)\n\u001b[0;32m      2\u001b[0m file\u001b[39m.\u001b[39mwrite(\u001b[39m\"\u001b[39m\u001b[39m\\n\u001b[39;00m\u001b[39mNilgün Külyutmaz\u001b[39m\u001b[39m\\n\u001b[39;00m\u001b[39m\"\u001b[39m)\n\u001b[0;32m      3\u001b[0m file\u001b[39m.\u001b[39mclose()\n",
      "File \u001b[1;32m~\\AppData\\Roaming\\Python\\Python311\\site-packages\\IPython\\core\\interactiveshell.py:284\u001b[0m, in \u001b[0;36m_modified_open\u001b[1;34m(file, *args, **kwargs)\u001b[0m\n\u001b[0;32m    277\u001b[0m \u001b[39mif\u001b[39;00m file \u001b[39min\u001b[39;00m {\u001b[39m0\u001b[39m, \u001b[39m1\u001b[39m, \u001b[39m2\u001b[39m}:\n\u001b[0;32m    278\u001b[0m     \u001b[39mraise\u001b[39;00m \u001b[39mValueError\u001b[39;00m(\n\u001b[0;32m    279\u001b[0m         \u001b[39mf\u001b[39m\u001b[39m\"\u001b[39m\u001b[39mIPython won\u001b[39m\u001b[39m'\u001b[39m\u001b[39mt let you open fd=\u001b[39m\u001b[39m{\u001b[39;00mfile\u001b[39m}\u001b[39;00m\u001b[39m by default \u001b[39m\u001b[39m\"\u001b[39m\n\u001b[0;32m    280\u001b[0m         \u001b[39m\"\u001b[39m\u001b[39mas it is likely to crash IPython. If you know what you are doing, \u001b[39m\u001b[39m\"\u001b[39m\n\u001b[0;32m    281\u001b[0m         \u001b[39m\"\u001b[39m\u001b[39myou can use builtins\u001b[39m\u001b[39m'\u001b[39m\u001b[39m open.\u001b[39m\u001b[39m\"\u001b[39m\n\u001b[0;32m    282\u001b[0m     )\n\u001b[1;32m--> 284\u001b[0m \u001b[39mreturn\u001b[39;00m io_open(file, \u001b[39m*\u001b[39;49margs, \u001b[39m*\u001b[39;49m\u001b[39m*\u001b[39;49mkwargs)\n",
      "\u001b[1;31mFileExistsError\u001b[0m: [Errno 17] File exists: 'newfile.txt'"
     ]
    }
   ],
   "source": [
    "file = open(\"newfile.txt\", \"x\", encoding=\"utf-8\")\n",
    "file.write(\"\\nNilgün Külyutmaz\\n\")\n",
    "file.close()     # FileExistsError aliriz"
   ]
  },
  {
   "cell_type": "code",
   "execution_count": 26,
   "metadata": {},
   "outputs": [],
   "source": [
    "file = open(\"newfile22.txt\", \"x\", encoding=\"utf-8\")\n",
    "file.write(\"\\nNilgün Külyutmaz\\n\")\n",
    "file.close()"
   ]
  },
  {
   "attachments": {},
   "cell_type": "markdown",
   "metadata": {},
   "source": [
    "'r'(Resd metodu) okuma. dosya konumda yoksa hata verir."
   ]
  },
  {
   "cell_type": "code",
   "execution_count": 28,
   "metadata": {},
   "outputs": [
    {
     "name": "stdout",
     "output_type": "stream",
     "text": [
      "<_io.TextIOWrapper name='newfile.txt' mode='r' encoding='cp1252'>\n"
     ]
    }
   ],
   "source": [
    "file = open(\"newfile.txt\") # herhangi bir kip belirtilmezse default read kiptedir\n",
    "print(file)\n",
    "file.close()"
   ]
  },
  {
   "cell_type": "code",
   "execution_count": 30,
   "metadata": {},
   "outputs": [
    {
     "name": "stdout",
     "output_type": "stream",
     "text": [
      "<_io.TextIOWrapper name='newfile.txt' mode='r' encoding='cp1252'>\n"
     ]
    }
   ],
   "source": [
    "file = open(\"newfile.txt\", \"r\") # yukardakiyle ayni\n",
    "print(file)\n",
    "file.close()"
   ]
  },
  {
   "cell_type": "code",
   "execution_count": 31,
   "metadata": {},
   "outputs": [
    {
     "name": "stdout",
     "output_type": "stream",
     "text": [
      "dosya okuma hatasi\n",
      "dosya kapandi\n"
     ]
    }
   ],
   "source": [
    "try: \n",
    "    file = open(\"newfile8.txt\", \"r\")\n",
    "    print(file)\n",
    "except FileNotFoundError:\n",
    "    print(\"dosya okuma hatasi\")\n",
    "finally:\n",
    "    print(\"dosya kapandi\")\n",
    "    file.close()"
   ]
  },
  {
   "cell_type": "code",
   "execution_count": 32,
   "metadata": {},
   "outputs": [
    {
     "name": "stdout",
     "output_type": "stream",
     "text": [
      "<_io.TextIOWrapper name='newfile.txt' mode='r' encoding='cp1252'>\n",
      "dosya kapandi\n"
     ]
    }
   ],
   "source": [
    "try: \n",
    "    file = open(\"newfile.txt\", \"r\")\n",
    "    print(file)\n",
    "except FileNotFoundError:\n",
    "    print(\"dosya okuma hatasi\")\n",
    "finally:\n",
    "    print(\"dosya kapandi\")\n",
    "    file.close()"
   ]
  },
  {
   "cell_type": "code",
   "execution_count": 33,
   "metadata": {},
   "outputs": [
    {
     "name": "stdout",
     "output_type": "stream",
     "text": [
      "Ahmet Külyutmaz Ahmet Külyutmaz Ahmet Külyutmaz \n",
      "\n",
      "Fatma Külyutmaz\n",
      "\n",
      "Fatma Külyutmaz\n",
      "\n",
      "\n",
      "\n",
      "Fatma Külyutmaz\n",
      "\n"
     ]
    }
   ],
   "source": [
    "file = open(\"newfile.txt\", \"r\", encoding=\"utf-8\")\n",
    "\n",
    "for i in file:\n",
    "    print(i, end=\"\\n\")\n",
    "\n",
    "file.close()"
   ]
  },
  {
   "cell_type": "code",
   "execution_count": 36,
   "metadata": {},
   "outputs": [
    {
     "name": "stdout",
     "output_type": "stream",
     "text": [
      "Ahmet Külyutmaz Ahmet Külyutmaz Ahmet Külyutmaz \n",
      "Fatma Külyutmaz\n",
      "Fatma Külyutmaz\n",
      "\n",
      "Fatma Külyutmaz\n",
      "\n"
     ]
    }
   ],
   "source": [
    "file = open(\"newfile.txt\", \"r\", encoding=\"utf-8\")\n",
    "\n",
    "content = file.read()\n",
    "print(content)\n",
    "\n",
    "file.close()"
   ]
  },
  {
   "cell_type": "code",
   "execution_count": 39,
   "metadata": {},
   "outputs": [
    {
     "name": "stdout",
     "output_type": "stream",
     "text": [
      "icerik1\n",
      "Ahmet Külyutmaz Ahmet Külyutmaz Ahmet Külyutmaz \n",
      "Fatma Külyutmaz\n",
      "Fatma Külyutmaz\n",
      "\n",
      "Fatma Külyutmaz\n",
      "\n",
      "icerik2\n",
      "\n"
     ]
    }
   ],
   "source": [
    "file = open(\"newfile.txt\",\"r\",encoding=\"utf-8\")\n",
    "\n",
    "content1 = file.read()\n",
    "print(\"icerik1\")\n",
    "print(content1)      # read le dosyayi okudu körser en sonda kaldi\n",
    "content2 = file.read()\n",
    "print(\"icerik2\")     # content2 icin altta okunacak birsey yok\n",
    "print(content2)\n",
    "\n",
    "file.close()\n"
   ]
  },
  {
   "cell_type": "code",
   "execution_count": 41,
   "metadata": {},
   "outputs": [
    {
     "name": "stdout",
     "output_type": "stream",
     "text": [
      "icerik1\n",
      "Ahmet Külyutmaz Ahmet Külyutmaz Ahmet Külyutmaz \n",
      "Fatma Külyutmaz\n",
      "Fatma Külyutmaz\n",
      "\n",
      "Fatma Külyutmaz\n",
      "\n",
      "icerik2\n",
      "Ahmet Külyutmaz Ahmet Külyutmaz Ahmet Külyutmaz \n",
      "Fatma Külyutmaz\n",
      "Fatma Külyutmaz\n",
      "\n",
      "Fatma Külyutmaz\n",
      "\n"
     ]
    }
   ],
   "source": [
    "file = open(\"newfile.txt\",\"r\",encoding=\"utf-8\")\n",
    "\n",
    "content1 = file.read()\n",
    "print(\"icerik1\")\n",
    "print(content1)   \n",
    "file.seek(0)  # birden fazla okuma yapilacaksa file.seek() yapmak uygun\n",
    "content2 = file.read()\n",
    "print(\"icerik2\")    \n",
    "print(content2)\n",
    "\n",
    "file.close()"
   ]
  },
  {
   "cell_type": "code",
   "execution_count": 45,
   "metadata": {},
   "outputs": [
    {
     "name": "stdout",
     "output_type": "stream",
     "text": [
      "icerik1\n",
      "Ahmet Külyutmaz Ahmet Külyutmaz Ahmet Külyutmaz \n",
      "Fatma Külyutmaz\n",
      "Fatma Külyutmaz\n",
      "\n",
      "Fatma Külyutmaz\n",
      "\n",
      "icerik2\n",
      "ülyutmaz Ahmet Külyutmaz \n",
      "Fatma Külyutmaz\n",
      "Fatma Külyutmaz\n",
      "\n",
      "Fatma Külyutmaz\n",
      "\n"
     ]
    }
   ],
   "source": [
    "file = open(\"newfile.txt\",\"r\",encoding=\"utf-8\")\n",
    "\n",
    "content1 = file.read()\n",
    "print(\"icerik1\")\n",
    "print(content1)   \n",
    "file.seek(24)  # 15 inci byte dan itibaren okuyacak ikinci defa\n",
    "content2 = file.read()\n",
    "print(\"icerik2\")    \n",
    "print(content2)\n",
    "\n",
    "file.close()"
   ]
  },
  {
   "attachments": {},
   "cell_type": "markdown",
   "metadata": {},
   "source": [
    "w, a, x modu read modunda degildir, hata verir. Ayni sekilde r modunda w, a, x kipleri hata verir."
   ]
  },
  {
   "cell_type": "code",
   "execution_count": 48,
   "metadata": {},
   "outputs": [
    {
     "name": "stdout",
     "output_type": "stream",
     "text": [
      "Ahmet\n"
     ]
    }
   ],
   "source": [
    "file = open(\"newfile.txt\", \"r\", encoding=\"utf-8\")\n",
    "\n",
    "content = file.read(5) # () bu sekilde hepsini okur. (5) 5'e kadar okur\n",
    "\n",
    "print(content)\n",
    "\n",
    "file.close()"
   ]
  },
  {
   "cell_type": "code",
   "execution_count": 49,
   "metadata": {},
   "outputs": [
    {
     "name": "stdout",
     "output_type": "stream",
     "text": [
      "Ahmet\n",
      " Kü\n"
     ]
    }
   ],
   "source": [
    "file = open(\"newfile.txt\", \"r\", encoding=\"utf-8\")\n",
    "\n",
    "content = file.read(5) \n",
    "content2 = file.read(3) # körser 5'teydi, sonraki 3 ü okur\n",
    "\n",
    "print(content)\n",
    "print(content2)\n",
    "\n",
    "file.close()"
   ]
  },
  {
   "attachments": {},
   "cell_type": "markdown",
   "metadata": {},
   "source": [
    "### +++ readline()"
   ]
  },
  {
   "cell_type": "code",
   "execution_count": 53,
   "metadata": {},
   "outputs": [
    {
     "name": "stdout",
     "output_type": "stream",
     "text": [
      "Ahmet Külyutmaz Ahmet Külyutmaz Ahmet Külyutmaz \n",
      "Fatma Külyutmaz\n",
      "Fatma Külyutmaz\n",
      "\n",
      "Fatma Külyutmaz\n",
      "\n",
      "\n",
      "\n"
     ]
    }
   ],
   "source": [
    "file = open(\"newfile.txt\", \"r\", encoding=\"utf-8\")\n",
    "\n",
    "print(file.readline(), end='')\n",
    "print(file.readline(), end='')\n",
    "print(file.readline(), end='')\n",
    "print(file.readline(), end='')\n",
    "print(file.readline())\n",
    "print(file.readline())\n",
    "print(file.readline())\n",
    "\n",
    "\n",
    "\n",
    "file.close()"
   ]
  },
  {
   "attachments": {},
   "cell_type": "markdown",
   "metadata": {},
   "source": [
    "### +++ readlines() "
   ]
  },
  {
   "cell_type": "code",
   "execution_count": 58,
   "metadata": {},
   "outputs": [
    {
     "name": "stdout",
     "output_type": "stream",
     "text": [
      "['Ahmet Külyutmaz Ahmet Külyutmaz Ahmet Külyutmaz \\n', 'Fatma Külyutmaz\\n', 'Fatma Külyutmaz\\n', '\\n', 'Fatma Külyutmaz\\n']\n"
     ]
    }
   ],
   "source": [
    "file = open(\"newfile.txt\", \"r\", encoding=\"utf-8\")\n",
    "\n",
    "print(file.readlines())\n",
    "\n",
    "file.close()"
   ]
  },
  {
   "cell_type": "code",
   "execution_count": 59,
   "metadata": {},
   "outputs": [
    {
     "name": "stdout",
     "output_type": "stream",
     "text": [
      "Ahmet Külyutmaz Ahmet Külyutmaz Ahmet Külyutmaz \n",
      " Fatma Külyutmaz\n",
      " Fatma Külyutmaz\n",
      " \n",
      "\n"
     ]
    }
   ],
   "source": [
    "file = open(\"newfile.txt\", \"r\", encoding=\"utf-8\")\n",
    "\n",
    "liste = file.readlines()\n",
    "\n",
    "print(*liste[:-1])\n",
    "\n",
    "file.close()"
   ]
  },
  {
   "cell_type": "code",
   "execution_count": 61,
   "metadata": {},
   "outputs": [],
   "source": [
    "file = open(\"new.txt\", \"w\", encoding=\"utf-8\")\n",
    "file.write(\"\"\" \n",
    "Görebildiğin kadar mavi\n",
    "Sürebildiğin kadar toprak\n",
    "Sarabildiğin kadar kadın\n",
    "Bu dünya\n",
    "Güvenebildiğin kadar dost\n",
    "Düşünebildiğin kadar güzel\n",
    "\"\"\")\n",
    "\n",
    "file.close()\n"
   ]
  },
  {
   "cell_type": "code",
   "execution_count": 63,
   "metadata": {},
   "outputs": [
    {
     "name": "stdout",
     "output_type": "stream",
     "text": [
      " \n",
      "Görebildiğin kadar mavi\n",
      "Sürebildiğin kadar toprak\n",
      "Sarabildiğin kadar kadın\n",
      "Bu dünya\n",
      "Güvenebildiğin kadar dost\n",
      "Düşünebildiğin kadar güzel\n",
      "\n"
     ]
    }
   ],
   "source": [
    "file = open(\"new.txt\", \"r\", encoding=\"utf-8\")\n",
    "\n",
    "content = file.read()\n",
    "print(content)\n",
    "\n",
    "file.close()"
   ]
  },
  {
   "cell_type": "code",
   "execution_count": 64,
   "metadata": {},
   "outputs": [
    {
     "name": "stdout",
     "output_type": "stream",
     "text": [
      " \n",
      "Görebildiğin kadar mavi\n",
      "Sürebildiğin kadar toprak\n",
      "Sarabildiğin kadar kadın\n",
      "Bu dünya\n",
      "Güvenebildiğin\n",
      "0\n",
      " \n",
      "Görebildiğin kadar mavi\n",
      "Sürebildiğin kadar toprak\n",
      "Sarabildiğin kadar kadın\n",
      "Bu dünya\n",
      "Güvenebildiğin kadar dost\n",
      "Düşünebildiğin kadar güzel\n",
      "\n",
      "160\n"
     ]
    }
   ],
   "source": [
    "with open(\"new.txt\", \"r\", encoding=\"utf-8\") as file:\n",
    "    content = file.read(100)\n",
    "    print(content)\n",
    "    file.seek(0)\n",
    "    print(file.tell()) # filr.tell() körser nerdeyse onu gösterir\n",
    "    content2 = file.read(200)\n",
    "    print(content2)\n",
    "    print(file.tell()) # with open, close() u icerir\n",
    " "
   ]
  },
  {
   "cell_type": "code",
   "execution_count": 65,
   "metadata": {},
   "outputs": [],
   "source": [
    "with open(\"newnew.txt\", \"w\", encoding=\"utf-8\") as file:\n",
    "    file.write(\"\"\"\" \n",
    "        Görebildiğin kadar mavi\n",
    "        Sürebildiğin kadar toprak\n",
    "        Sarabildiğin kadar kadın\n",
    "        Bu dünya\n",
    "        Güvenebildiğin\n",
    "        0\n",
    "        \n",
    "        Görebildiğin kadar mavi\n",
    "        Sürebildiğin kadar toprak\n",
    "        Sarabildiğin kadar kadın\n",
    "        Bu dünya\n",
    "        Güvenebildiğin kadar dost\n",
    "        Düşünebildiğin kadar güzel\n",
    "    \"\"\")\n",
    "\n"
   ]
  },
  {
   "attachments": {},
   "cell_type": "markdown",
   "metadata": {},
   "source": [
    "sayfa basinda güncelleme"
   ]
  },
  {
   "cell_type": "code",
   "execution_count": 67,
   "metadata": {},
   "outputs": [
    {
     "name": "stdout",
     "output_type": "stream",
     "text": [
      "      Görebildiğin kadar mavi\n",
      "        Sürebildiğin kadar toprak\n",
      "        Sarabildiğin kadar kadın\n",
      "        Bu dünya\n",
      "        Güvenebildiğin\n",
      "        0\n",
      "        \n",
      "        Görebildiğin kadar mavi\n",
      "        Sürebildiğin kadar toprak\n",
      "        Sarabildiğin kadar kadın\n",
      "        Bu dünya\n",
      "        Güvenebildiğin kadar dost\n",
      "        Düşünebildiğin kadar güzel\n",
      "    \n",
      "387\n"
     ]
    }
   ],
   "source": [
    "with open(\"newnew.txt\", \"r+\", encoding=\"utf-8\") as file1:\n",
    "    file1.write(\"Deneme\")\n",
    "\n",
    "    print(file1.read())\n",
    "    print(file1.tell())"
   ]
  },
  {
   "cell_type": "code",
   "execution_count": 70,
   "metadata": {},
   "outputs": [
    {
     "name": "stdout",
     "output_type": "stream",
     "text": [
      "Deneme\n",
      "    Görebildiğin kadar mavi\n",
      "        Sürebildiğin kadar toprak\n",
      "        Sarabildiğin kadar kadın\n",
      "        Bu dünya\n",
      "        Güvenebildiğin\n",
      "        0\n",
      "        \n",
      "        Görebildiğin kadar mavi\n",
      "        Sürebildiğin kadar toprak\n",
      "        Sarabildiğin kadar kadın\n",
      "        Bu dünya\n",
      "        Güvenebildiğin kadar dost\n",
      "        Düşünebildiğin kadar güzel\n",
      "    \n",
      "387\n"
     ]
    }
   ],
   "source": [
    "with open(\"newnew.txt\", \"r+\", encoding=\"utf-8\") as file1:\n",
    "    file1.write(\"Deneme\\n\")\n",
    "         # close() icin ikinci with yazmamiz gerek\n",
    "with open(\"newnew.txt\", \"r\", encoding=\"utf-8\") as file1:\n",
    "    print(file1.read())\n",
    "    print(file1.tell())"
   ]
  },
  {
   "cell_type": "code",
   "execution_count": 72,
   "metadata": {},
   "outputs": [
    {
     "name": "stdout",
     "output_type": "stream",
     "text": [
      "Deneme\n",
      "    Görebildiğin kadar mavi\n",
      "        Sürebildiğin kadar toprak\n",
      "        Sarabildiğin kadar kadın\n",
      "        Bu dünya\n",
      "        Güvenebildiğin\n",
      "        0\n",
      "        \n",
      "        Görebildiğin kadar mavi\n",
      "        Sürebildiğin kadar toprak\n",
      "        Sarabildiğin kadar kadın\n",
      "        Bu dünya\n",
      "        Güvenebildiğin kadar dost\n",
      "        Düşünebildiğin kadar güzel\n",
      "    \n",
      "Deneme\n",
      "    Görebildiğin kadar mavi\n",
      "        Sürebildiğin kadar toprak\n",
      "        Sarabildiğin kadar kadın\n",
      "        Bu dünya\n",
      "        Güvenebildiğin\n",
      "        0\n",
      "        \n",
      "        Görebildiğin kadar mavi\n",
      "        Sürebildiğin kadar toprak\n",
      "        Sarabildiğin kadar kadın\n",
      "        Bu dünya\n",
      "        Güvenebildiğin kadar dost\n",
      "        Düşünebildiğin kadar güzel\n",
      "    Deneme\n",
      "\n",
      "395\n"
     ]
    }
   ],
   "source": [
    "with open(\"newnew.txt\", \"r+\", encoding=\"utf-8\") as file1:\n",
    "    print(file1.read())\n",
    "    file1.write(\"Deneme\\n\")\n",
    "         # close() icin ikinci with yazmamiz gerek\n",
    "with open(\"newnew.txt\", \"r\", encoding=\"utf-8\") as file1:\n",
    "    print(file1.read())\n",
    "    print(file1.tell())"
   ]
  },
  {
   "cell_type": "code",
   "execution_count": 75,
   "metadata": {},
   "outputs": [
    {
     "name": "stdout",
     "output_type": "stream",
     "text": [
      "Deneme\n",
      "    Görebildiğin kadar mavi\n",
      "        Sürebildiğin kadar toprak\n",
      "        Sarabildiğin kadar kadın\n",
      "        Bu dünya\n",
      "        Güvenebildiğin\n",
      "        0\n",
      "        \n",
      "        Görebildiğin kadar mavi\n",
      "        SürDENEME\n",
      "in kadar toprak\n",
      "        Sarabildiğin kadar kadın\n",
      "        Bu dünya\n",
      "        Güvenebildiğin kadar dost\n",
      "        Düşünebildiğin kadar güzel\n",
      "    Deneme\n",
      "\n",
      "395\n"
     ]
    }
   ],
   "source": [
    "with open(\"newnew.txt\", \"r+\", encoding=\"utf-8\") as file1:\n",
    "    file1.seek(225)\n",
    "    file1.write(\"DENEME\")\n",
    "         # close() icin ikinci with yazmamiz gerek\n",
    "with open(\"newnew.txt\", \"r\", encoding=\"utf-8\") as file1:\n",
    "    print(file1.read())\n",
    "    print(file1.tell())"
   ]
  },
  {
   "cell_type": "code",
   "execution_count": 76,
   "metadata": {},
   "outputs": [
    {
     "name": "stdout",
     "output_type": "stream",
     "text": [
      "Deneme\n",
      "    Görebildiğin kadar mavi\n",
      "        Sürebildiğin kadar toprak\n",
      "        Sarabildiğin kadar kadın\n",
      "        Bu dünya\n",
      "        Güvenebildiğin\n",
      "        0\n",
      "        \n",
      "        Görebildiğin kadar mavi\n",
      "        SürDENEME\n",
      "in kadar toprak\n",
      "        Sarabildiğin kadar kadın\n",
      "        Bu dünya\n",
      "        Güvenebildiğin kadar dost\n",
      "        Düşünebildiğin kadar güzel\n",
      "    Deneme\n",
      "Guzel siir\n"
     ]
    }
   ],
   "source": [
    "with open(\"newnew.txt\", \"a\", encoding=\"utf-8\") as dosya:\n",
    "    dosya.write(\"Guzel siir\")\n",
    "\n",
    "with open(\"newnew.txt\", \"r\", encoding=\"utf-8\") as dosya:\n",
    "    print(dosya.read())"
   ]
  },
  {
   "cell_type": "code",
   "execution_count": 79,
   "metadata": {},
   "outputs": [
    {
     "name": "stdout",
     "output_type": "stream",
     "text": [
      " SaIR e ait Güzel bir SIIR SaIR e ait Güzel bir SIIRDeneme\n",
      "    Görebildiğin kadar mavi\n",
      "        Sürebildiğin kadar toprak\n",
      "        Sarabildiğin kadar kadın\n",
      "        Bu dünya\n",
      "        Güvenebildiğin\n",
      "        0\n",
      "        \n",
      "        Görebildiğin kadar mavi\n",
      "        SürDENEME\n",
      "in kadar toprak\n",
      "        Sarabildiğin kadar kadın\n",
      "        Bu dünya\n",
      "        Güvenebildiğin kadar dost\n",
      "        Düşünebildiğin kadar güzel\n",
      "    Deneme\n",
      "Guzel siir\n"
     ]
    }
   ],
   "source": [
    "with open(\"newnew.txt\", \"r+\", encoding=\"utf-8\") as file1:\n",
    "    content = file1.read()\n",
    "    content = \" SaIR e ait Güzel bir SIIR\" + content\n",
    "    file1.seek(0)\n",
    "    file1.write(content) \n",
    "\n",
    "with open(\"newnew.txt\", \"r\", encoding=\"utf-8\") as file1:\n",
    "    print (file1.read())"
   ]
  },
  {
   "cell_type": "code",
   "execution_count": 84,
   "metadata": {},
   "outputs": [
    {
     "name": "stdout",
     "output_type": "stream",
     "text": [
      " SaIR e ait Güzel bir SIIR SaIR e ait Güzel bir SIIRDeneme\n",
      "    Görebildiğin kadar mavi\n",
      "        Sürebildiğin kadar toprak\n",
      "        Sarabildiğin kadar kadın\n",
      "        Bu dünya\n",
      "        Güvenebildiğin\n",
      "        0\n",
      "        \n",
      "        Görebildiğin kadar mavi\n",
      "        SürDENEME\n",
      "in kadar toprak\n",
      "        Sarabildiğin kadar kadın\n",
      "        Bu dünya\n",
      "        Güvenebildiğin kadar dost\n",
      "        Düşünebildiğin kadar güzel\n",
      "SAYfanin Ortasi Burasi MI?\n",
      "\n",
      "    Deneme\n",
      "Guzel siirSAYfanin Ortasi Burasi MI?\n",
      "\n",
      "SAYfanin Ortasi Burasi MI?\n",
      "\n",
      "\n"
     ]
    }
   ],
   "source": [
    "with open(\"newnew.txt\", \"r+\", encoding=\"utf-8\") as file1:\n",
    "    liste = file1.readlines()\n",
    "    # print(len(liste))  # 17 imis\n",
    "    liste.insert(15, 'SAYfanin Ortasi Burasi MI?\\n\\n')\n",
    "    file1.seek(0)\n",
    "    for i in liste:\n",
    "        file1.write(i)\n",
    "\n",
    "with open(\"newnew.txt\", \"r\", encoding=\"utf-8\") as file1:\n",
    "    print(file1.read())"
   ]
  },
  {
   "cell_type": "code",
   "execution_count": 86,
   "metadata": {},
   "outputs": [
    {
     "name": "stdout",
     "output_type": "stream",
     "text": [
      " SaIR e ait Güzel bir SIIR SaIR e ait Güzel bir SIIRDeneme\n",
      "    Görebildiğin kadar mavi\n",
      "        Sürebildiğin kadar toprak\n",
      "        Sarabildiğin kadar kadın\n",
      "        Bu dünya\n",
      "        Güvenebildiğin\n",
      "        0\n",
      "        \n",
      "        Görebildiğin kadar mavi\n",
      "        SürDENEME\n",
      "\n",
      "\n",
      " Iyi Orta gol getirir\n",
      "\n",
      "in kadar toprak\n",
      "        Sarabildiğin kadar kadın\n",
      "        Bu dünya\n",
      "        Güvenebildiğin kadar dost\n",
      "        Düşünebildiğin kadar güzel\n",
      "SAYfanin Ortasi Burasi MI?\n",
      "\n",
      "    Deneme\n",
      "Guzel siirSAYfanin Ortasi Burasi MI?\n",
      "\n",
      "SAYfanin Ortasi Burasi MI?\n",
      "\n",
      "\n"
     ]
    }
   ],
   "source": [
    "with open(\"newnew.txt\", \"r+\", encoding=\"utf-8\") as file1:\n",
    "    liste = file1.readlines()\n",
    "    # print(len(liste))  # 17 imis\n",
    "    liste.insert(10, '\\n\\n Iyi Orta gol getirir\\n\\n')\n",
    "    file1.seek(0)\n",
    "    file1.writelines(liste)\n",
    "\n",
    "with open(\"newnew.txt\", \"r\", encoding=\"utf-8\") as file1:\n",
    "    print(file1.read())"
   ]
  },
  {
   "cell_type": "code",
   "execution_count": null,
   "metadata": {},
   "outputs": [],
   "source": []
  },
  {
   "cell_type": "code",
   "execution_count": null,
   "metadata": {},
   "outputs": [],
   "source": []
  },
  {
   "cell_type": "code",
   "execution_count": null,
   "metadata": {},
   "outputs": [],
   "source": []
  },
  {
   "cell_type": "code",
   "execution_count": null,
   "metadata": {},
   "outputs": [],
   "source": []
  }
 ],
 "metadata": {
  "kernelspec": {
   "display_name": "Python 3",
   "language": "python",
   "name": "python3"
  },
  "language_info": {
   "codemirror_mode": {
    "name": "ipython",
    "version": 3
   },
   "file_extension": ".py",
   "mimetype": "text/x-python",
   "name": "python",
   "nbconvert_exporter": "python",
   "pygments_lexer": "ipython3",
   "version": "3.11.3"
  },
  "orig_nbformat": 4
 },
 "nbformat": 4,
 "nbformat_minor": 2
}
