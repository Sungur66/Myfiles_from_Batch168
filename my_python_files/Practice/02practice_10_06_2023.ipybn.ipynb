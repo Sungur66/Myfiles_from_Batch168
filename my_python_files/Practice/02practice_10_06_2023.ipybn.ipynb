{
 "cells": [
  {
   "attachments": {},
   "cell_type": "markdown",
   "metadata": {},
   "source": [
    "# format & f-string"
   ]
  },
  {
   "cell_type": "code",
   "execution_count": 1,
   "metadata": {},
   "outputs": [
    {
     "ename": "TypeError",
     "evalue": "can only concatenate str (not \"int\") to str",
     "output_type": "error",
     "traceback": [
      "\u001b[1;31m---------------------------------------------------------------------------\u001b[0m",
      "\u001b[1;31mTypeError\u001b[0m                                 Traceback (most recent call last)",
      "Cell \u001b[1;32mIn[1], line 5\u001b[0m\n\u001b[0;32m      2\u001b[0m surname \u001b[39m=\u001b[39m \u001b[39m\"\u001b[39m\u001b[39mAltin\u001b[39m\u001b[39m\"\u001b[39m\n\u001b[0;32m      3\u001b[0m age \u001b[39m=\u001b[39m \u001b[39m35\u001b[39m\n\u001b[1;32m----> 5\u001b[0m greating \u001b[39m=\u001b[39m \u001b[39m\"\u001b[39;49m\u001b[39mMy name is\u001b[39;49m\u001b[39m\"\u001b[39;49m \u001b[39m+\u001b[39;49m name \u001b[39m+\u001b[39;49m \u001b[39m\"\u001b[39;49m\u001b[39m \u001b[39;49m\u001b[39m\"\u001b[39;49m \u001b[39m+\u001b[39;49m surname \u001b[39m+\u001b[39;49m \u001b[39m\"\u001b[39;49m\u001b[39mand \u001b[39;49m\u001b[39m\\n\u001b[39;49;00m\u001b[39mI\u001b[39;49m\u001b[39m'\u001b[39;49m\u001b[39mm\u001b[39;49m\u001b[39m\"\u001b[39;49m \u001b[39m+\u001b[39;49m age \u001b[39m+\u001b[39m \u001b[39m\"\u001b[39m\u001b[39myearsold.\u001b[39m\u001b[39m\"\u001b[39m\n",
      "\u001b[1;31mTypeError\u001b[0m: can only concatenate str (not \"int\") to str"
     ]
    }
   ],
   "source": [
    "name = \"Ahmet\"\n",
    "surname = \"Altin\"\n",
    "age = 35\n",
    "\n",
    "greating = \"My name is\" + name + \" \" + surname + \"and \\nI'm\" + age + \"yearsold.\""
   ]
  },
  {
   "cell_type": "code",
   "execution_count": 4,
   "metadata": {},
   "outputs": [
    {
     "name": "stdout",
     "output_type": "stream",
     "text": [
      "My name is Ahmet Altinand \n",
      "I'm 35 yearsold.\n"
     ]
    }
   ],
   "source": [
    "name = \"Ahmet\"\n",
    "surname = \"Altin\"\n",
    "age = 35\n",
    "\n",
    "greating = \"My name is\" + \" \" + name + \" \" + surname + \"and \\nI'm\" + \" \" + str(age) + \" \" + \"year sold.\"\n",
    "print(greating)"
   ]
  },
  {
   "cell_type": "code",
   "execution_count": 6,
   "metadata": {},
   "outputs": [
    {
     "name": "stdout",
     "output_type": "stream",
     "text": [
      "My name is Ahmet Altin and \n",
      "I'm 35 yearsold.\n"
     ]
    }
   ],
   "source": [
    "name = \"Ahmet\"\n",
    "surname = \"Altin\"\n",
    "age = 35\n",
    "\n",
    "print(\"My name is {} {} and \\nI'm {} yearsold.\".format(name, surname, age))"
   ]
  },
  {
   "cell_type": "code",
   "execution_count": 11,
   "metadata": {},
   "outputs": [
    {
     "name": "stdout",
     "output_type": "stream",
     "text": [
      "My name is Ahmet Altin and \n",
      "I'm 35 yearsold.\n"
     ]
    }
   ],
   "source": [
    "name = \"Ahmet\"\n",
    "surname = \"Altin\"\n",
    "age = 35\n",
    "\n",
    "print(\"My name is {2} {1} and \\nI'm {0} yearsold.\".format(age, surname, name))"
   ]
  },
  {
   "cell_type": "code",
   "execution_count": 13,
   "metadata": {},
   "outputs": [
    {
     "name": "stdout",
     "output_type": "stream",
     "text": [
      "My name is Ahmet Altin and \n",
      "I'm 35 yearsold.\n"
     ]
    }
   ],
   "source": [
    "name = \"Ahmet\"\n",
    "surname = \"Altin\"\n",
    "age = 35\n",
    "\n",
    "print(\"My name is {n} {s} and \\nI'm {a} yearsold.\".format(a = age, n = name, s = surname))"
   ]
  },
  {
   "cell_type": "code",
   "execution_count": 14,
   "metadata": {},
   "outputs": [
    {
     "name": "stdout",
     "output_type": "stream",
     "text": [
      "c, b and a\n",
      "abracadabra\n"
     ]
    }
   ],
   "source": [
    "str1 = '{2}, {1} and {0}'.format('a', 'b', 'c')\n",
    "str2 = '{0}{1}{0}'.format(\"abra\",\"cad\")\n",
    "print(str1, str2, sep=\"\\n\")"
   ]
  },
  {
   "cell_type": "code",
   "execution_count": 15,
   "metadata": {},
   "outputs": [
    {
     "name": "stdout",
     "output_type": "stream",
     "text": [
      "My name is Ahmet Altin and \n",
      "I'm 35 yearsold\n"
     ]
    }
   ],
   "source": [
    "name = \"Ahmet\"\n",
    "surname = \"Altin\"\n",
    "age = 35\n",
    "\n",
    "print(f\"My name is {name} {surname} and \\nI'm {age} yearsold\")"
   ]
  },
  {
   "cell_type": "code",
   "execution_count": 16,
   "metadata": {},
   "outputs": [
    {
     "data": {
      "text/plain": [
       "\"My name is Ahmet Altinand \\nI'm 35 yearsold.\""
      ]
     },
     "execution_count": 16,
     "metadata": {},
     "output_type": "execute_result"
    }
   ],
   "source": [
    "greating"
   ]
  },
  {
   "cell_type": "code",
   "execution_count": 17,
   "metadata": {},
   "outputs": [
    {
     "name": "stdout",
     "output_type": "stream",
     "text": [
      "My name is Ahmet Altinand \n",
      "I'm 35 yearsold.\n"
     ]
    }
   ],
   "source": [
    "print(greating)"
   ]
  },
  {
   "cell_type": "code",
   "execution_count": 18,
   "metadata": {},
   "outputs": [
    {
     "data": {
      "text/plain": [
       "43"
      ]
     },
     "execution_count": 18,
     "metadata": {},
     "output_type": "execute_result"
    }
   ],
   "source": [
    "len(greating)"
   ]
  },
  {
   "cell_type": "code",
   "execution_count": 25,
   "metadata": {},
   "outputs": [
    {
     "data": {
      "text/plain": [
       "'m sAmtAtnn '"
      ]
     },
     "execution_count": 25,
     "metadata": {},
     "output_type": "execute_result"
    }
   ],
   "source": [
    "sonuc = greating[5 : 26 : 2]\n",
    "sonuc"
   ]
  },
  {
   "cell_type": "code",
   "execution_count": 26,
   "metadata": {},
   "outputs": [
    {
     "data": {
      "text/plain": [
       "'se5m\\nni'"
      ]
     },
     "execution_count": 26,
     "metadata": {},
     "output_type": "execute_result"
    }
   ],
   "source": [
    "sonuc2 = greating[-5 : -25 : -3]\n",
    "sonuc2"
   ]
  },
  {
   "cell_type": "code",
   "execution_count": 34,
   "metadata": {},
   "outputs": [
    {
     "name": "stdout",
     "output_type": "stream",
     "text": [
      "My name is Ahmet Altinand \n",
      "I'm 35 yearsold.\n"
     ]
    }
   ],
   "source": [
    "print(greating, sep= \"_\")"
   ]
  },
  {
   "cell_type": "code",
   "execution_count": 27,
   "metadata": {},
   "outputs": [
    {
     "name": "stdout",
     "output_type": "stream",
     "text": [
      "M_y_ _n_a_m_e_ _i_s_ _A_h_m_e_t_ _A_l_t_i_n_a_n_d_ _\n",
      "_I_'_m_ _3_5_ _y_e_a_r_s_o_l_d_.\n"
     ]
    }
   ],
   "source": [
    "print(*greating, sep= \"_\")   # * ifadesi her karekterin arasini aciyormus"
   ]
  },
  {
   "attachments": {},
   "cell_type": "markdown",
   "metadata": {},
   "source": [
    "### **string** methods"
   ]
  },
  {
   "cell_type": "code",
   "execution_count": 28,
   "metadata": {},
   "outputs": [
    {
     "name": "stdout",
     "output_type": "stream",
     "text": [
      "MY NAME IS AHMET ALTINAND \n",
      "I'M 35 YEARSOLD.\n"
     ]
    }
   ],
   "source": [
    "print(greating.upper())"
   ]
  },
  {
   "cell_type": "code",
   "execution_count": 30,
   "metadata": {},
   "outputs": [
    {
     "name": "stdout",
     "output_type": "stream",
     "text": [
      "my name is ahmet altinand \n",
      "i'm 35 yearsold.\n"
     ]
    }
   ],
   "source": [
    "print(greating.upper().lower()) "
   ]
  },
  {
   "cell_type": "code",
   "execution_count": 32,
   "metadata": {},
   "outputs": [
    {
     "name": "stdout",
     "output_type": "stream",
     "text": [
      "BU YAZIYI FARK ETMENIZLE\n",
      "fark etmenizin\n",
      "Hic bir. sey fark. etmiyot\n",
      "Fark Edeceksinzi\n"
     ]
    }
   ],
   "source": [
    "print(\"bu yaziyi fark etmenizle\".upper(),\n",
    "      \"FARK ETMENIZIN\".lower(),\n",
    "      \"hic bir. sey fark. etmiyot\".capitalize(),\n",
    "      \"fARK eDECEKSINZI\".title(),\n",
    "      sep=\"\\n\")"
   ]
  },
  {
   "cell_type": "code",
   "execution_count": 41,
   "metadata": {},
   "outputs": [
    {
     "name": "stdout",
     "output_type": "stream",
     "text": [
      "['Caköslavakyal', 'Last', 'Ramad', 'Klar', 'M', 'Zdan M', 'S', 'Nz?']\n"
     ]
    }
   ],
   "source": [
    "print(\"Cekoslavakyalilastiramadiklarimizdan misinz?\"\n",
    "      .replace(\"e\", \"a\")\n",
    "      .replace(\"o\", \"ö\")\n",
    "      .replace(\"i\",\"_\")\n",
    "      .title()\n",
    "      .split(\"_\"))"
   ]
  },
  {
   "cell_type": "code",
   "execution_count": 42,
   "metadata": {},
   "outputs": [
    {
     "name": "stdout",
     "output_type": "stream",
     "text": [
      "tECHPRO IS THE BEST COURSE IN THE WORLD\n"
     ]
    }
   ],
   "source": [
    "str1 = \"Techpro is the best course in the world\"\n",
    "print(str1.swapcase())"
   ]
  },
  {
   "cell_type": "code",
   "execution_count": 43,
   "metadata": {},
   "outputs": [
    {
     "name": "stdout",
     "output_type": "stream",
     "text": [
      "t E C H P R O   I S   T H E   B E S T   C O U R S E   I N   T H E   W O R L D\n"
     ]
    }
   ],
   "source": [
    "str1 = \"Techpro is the best course in the world\"\n",
    "print(*str1.swapcase())"
   ]
  },
  {
   "cell_type": "code",
   "execution_count": 44,
   "metadata": {},
   "outputs": [
    {
     "name": "stdout",
     "output_type": "stream",
     "text": [
      "['T', 'chpro is th', ' b', 'st course in the world']\n"
     ]
    }
   ],
   "source": [
    "print(str1.split(\"e\", maxsplit=3))  # ilk uc e den sonra ayirmayi birakir"
   ]
  },
  {
   "cell_type": "code",
   "execution_count": 45,
   "metadata": {},
   "outputs": [
    {
     "name": "stdout",
     "output_type": "stream",
     "text": [
      "['Tec', 'pro is t', 'e best course in t', 'e world']\n"
     ]
    }
   ],
   "source": [
    "print(str1.split(\"h\"), sep=\"ß\\n\")"
   ]
  },
  {
   "cell_type": "code",
   "execution_count": 46,
   "metadata": {},
   "outputs": [
    {
     "name": "stdout",
     "output_type": "stream",
     "text": [
      "Tecß\n",
      "pro is tß\n",
      "e best course in tß\n",
      "e world\n"
     ]
    }
   ],
   "source": [
    "print(*str1.split(\"h\"), sep=\"ß\\n\")  # * liste seklinde cikti almak yerine str verir"
   ]
  },
  {
   "cell_type": "code",
   "execution_count": 47,
   "metadata": {},
   "outputs": [
    {
     "name": "stdout",
     "output_type": "stream",
     "text": [
      "Techpro is the best course in the worl\n"
     ]
    }
   ],
   "source": [
    "print(str1.strip(\"d\")) # bastan ve sondan d harflerini siler"
   ]
  },
  {
   "cell_type": "code",
   "execution_count": 48,
   "metadata": {},
   "outputs": [
    {
     "name": "stdout",
     "output_type": "stream",
     "text": [
      "echpro is the best course in the worl\n"
     ]
    }
   ],
   "source": [
    "print(str1.strip(\"d\").strip(\"T\"))"
   ]
  },
  {
   "cell_type": "code",
   "execution_count": 49,
   "metadata": {},
   "outputs": [
    {
     "name": "stdout",
     "output_type": "stream",
     "text": [
      "Techpro°is°the°best°course°in°the°world\n"
     ]
    }
   ],
   "source": [
    "print(str1.replace(\" \", \"°\"))"
   ]
  },
  {
   "cell_type": "code",
   "execution_count": 50,
   "metadata": {},
   "outputs": [
    {
     "name": "stdout",
     "output_type": "stream",
     "text": [
      "*Techpro°is°the°best°course°in°the°world*\n"
     ]
    }
   ],
   "source": [
    "print(str1.replace(\" \", \"°\").join(\"**\"))"
   ]
  },
  {
   "cell_type": "code",
   "execution_count": 51,
   "metadata": {},
   "outputs": [
    {
     "name": "stdout",
     "output_type": "stream",
     "text": [
      "*Techpro°is°the°best°course°in°the°world\n",
      "Techpro°is°the°best°course°in°the°world*\n"
     ]
    }
   ],
   "source": [
    "print(str1.replace(\" \", \"°\").join(\"*\\n*\"))"
   ]
  },
  {
   "cell_type": "code",
   "execution_count": 52,
   "metadata": {},
   "outputs": [
    {
     "data": {
      "text/plain": [
       "39"
      ]
     },
     "execution_count": 52,
     "metadata": {},
     "output_type": "execute_result"
    }
   ],
   "source": [
    "len(str1)"
   ]
  },
  {
   "cell_type": "code",
   "execution_count": 53,
   "metadata": {},
   "outputs": [
    {
     "name": "stdout",
     "output_type": "stream",
     "text": [
      "§§§§§Techpro is the best course in the world§§§§§§\n"
     ]
    }
   ],
   "source": [
    "print(str1.center(50, '§')) # 50 karaktere tamamlamak icin § leri kullandi"
   ]
  },
  {
   "cell_type": "code",
   "execution_count": 54,
   "metadata": {},
   "outputs": [
    {
     "name": "stdout",
     "output_type": "stream",
     "text": [
      "Techpro is the best course in the world§§§§§§§§§§§\n"
     ]
    }
   ],
   "source": [
    "print(str1.ljust(50, '§')) "
   ]
  },
  {
   "cell_type": "code",
   "execution_count": 55,
   "metadata": {},
   "outputs": [
    {
     "name": "stdout",
     "output_type": "stream",
     "text": [
      "§§§§§§§§§§§Techpro is the best course in the world\n"
     ]
    }
   ],
   "source": [
    "print(str1.rjust(50, '§')) "
   ]
  },
  {
   "cell_type": "code",
   "execution_count": 57,
   "metadata": {},
   "outputs": [
    {
     "name": "stdout",
     "output_type": "stream",
     "text": [
      "$$$$$^^***Techpro is the best course in the world***^^^!!!!!\n"
     ]
    }
   ],
   "source": [
    "str2 = str1.center(45, \"*\").center(50, \"^\").ljust(55, \"!\").rjust(60, \"$\")\n",
    "print(str2)"
   ]
  },
  {
   "cell_type": "code",
   "execution_count": 59,
   "metadata": {},
   "outputs": [
    {
     "data": {
      "text/plain": [
       "'Techpro is the best course in the world'"
      ]
     },
     "execution_count": 59,
     "metadata": {},
     "output_type": "execute_result"
    }
   ],
   "source": [
    "str2 = str2.strip(\"$!^*\")\n",
    "str2"
   ]
  },
  {
   "cell_type": "code",
   "execution_count": 60,
   "metadata": {},
   "outputs": [
    {
     "data": {
      "text/plain": [
       "'Techpro is the best course in the world'"
      ]
     },
     "execution_count": 60,
     "metadata": {},
     "output_type": "execute_result"
    }
   ],
   "source": [
    "str2"
   ]
  },
  {
   "cell_type": "code",
   "execution_count": 62,
   "metadata": {},
   "outputs": [
    {
     "data": {
      "text/plain": [
       "'Techpro is the best course in the world'"
      ]
     },
     "execution_count": 62,
     "metadata": {},
     "output_type": "execute_result"
    }
   ],
   "source": [
    "str2_2 = str2.center(30, \"_\")\n",
    "str2_2"
   ]
  },
  {
   "cell_type": "code",
   "execution_count": 63,
   "metadata": {},
   "outputs": [
    {
     "data": {
      "text/plain": [
       "11"
      ]
     },
     "execution_count": 63,
     "metadata": {},
     "output_type": "execute_result"
    }
   ],
   "source": [
    "str3 = str1.find(\"the\")\n",
    "str3"
   ]
  },
  {
   "cell_type": "code",
   "execution_count": 64,
   "metadata": {},
   "outputs": [
    {
     "data": {
      "text/plain": [
       "30"
      ]
     },
     "execution_count": 64,
     "metadata": {},
     "output_type": "execute_result"
    }
   ],
   "source": [
    "str3 = str1.rfind(\"the\")\n",
    "str3"
   ]
  },
  {
   "cell_type": "code",
   "execution_count": 65,
   "metadata": {},
   "outputs": [
    {
     "data": {
      "text/plain": [
       "-1"
      ]
     },
     "execution_count": 65,
     "metadata": {},
     "output_type": "execute_result"
    }
   ],
   "source": [
    "str3 = str1.find(\"the\", 15, 25)  # -1 sonuc bulamadim demek bu aralikta yok demek\n",
    "str3"
   ]
  },
  {
   "cell_type": "code",
   "execution_count": 67,
   "metadata": {},
   "outputs": [
    {
     "data": {
      "text/plain": [
       "30"
      ]
     },
     "execution_count": 67,
     "metadata": {},
     "output_type": "execute_result"
    }
   ],
   "source": [
    "str3 = str1.find(\"the\", 15, 35)\n",
    "str3"
   ]
  },
  {
   "attachments": {},
   "cell_type": "markdown",
   "metadata": {},
   "source": [
    "### **if, elif, else"
   ]
  },
  {
   "cell_type": "code",
   "execution_count": 69,
   "metadata": {},
   "outputs": [
    {
     "name": "stdout",
     "output_type": "stream",
     "text": [
      "s a y i   1 5   i l e   2 5   a r a s i\n"
     ]
    }
   ],
   "source": [
    "x = 20 \n",
    "if x > 25:\n",
    "    print(*\"sayi 25 den büyük\")\n",
    "elif x < 15:\n",
    "    print(\"sayi 15 den kucuk\")\n",
    "else:\n",
    "    print(*\"sayi 15 ile 25 arasi\")"
   ]
  },
  {
   "cell_type": "code",
   "execution_count": 70,
   "metadata": {},
   "outputs": [
    {
     "name": "stdout",
     "output_type": "stream",
     "text": [
      "girdiginiz sayi 44"
     ]
    },
    {
     "ename": "TypeError",
     "evalue": "'>' not supported between instances of 'str' and 'int'",
     "output_type": "error",
     "traceback": [
      "\u001b[1;31m---------------------------------------------------------------------------\u001b[0m",
      "\u001b[1;31mTypeError\u001b[0m                                 Traceback (most recent call last)",
      "Cell \u001b[1;32mIn[70], line 4\u001b[0m\n\u001b[0;32m      1\u001b[0m x \u001b[39m=\u001b[39m \u001b[39minput\u001b[39m(\u001b[39m\"\u001b[39m\u001b[39mbir sayi lutfen\u001b[39m\u001b[39m\"\u001b[39m)\n\u001b[0;32m      2\u001b[0m \u001b[39mprint\u001b[39m(\u001b[39mf\u001b[39m\u001b[39m\"\u001b[39m\u001b[39mgirdiginiz sayi \u001b[39m\u001b[39m{\u001b[39;00mx\u001b[39m}\u001b[39;00m\u001b[39m\"\u001b[39m, end\u001b[39m=\u001b[39m\u001b[39m\"\u001b[39m\u001b[39m\"\u001b[39m)\n\u001b[1;32m----> 4\u001b[0m \u001b[39mif\u001b[39;00m x \u001b[39m>\u001b[39;49m \u001b[39m25\u001b[39;49m:\n\u001b[0;32m      5\u001b[0m     \u001b[39mprint\u001b[39m(\u001b[39m*\u001b[39m\u001b[39m\"\u001b[39m\u001b[39msayi 25 den büyük\u001b[39m\u001b[39m\"\u001b[39m)\n\u001b[0;32m      6\u001b[0m \u001b[39melif\u001b[39;00m x \u001b[39m<\u001b[39m \u001b[39m15\u001b[39m:\n",
      "\u001b[1;31mTypeError\u001b[0m: '>' not supported between instances of 'str' and 'int'"
     ]
    }
   ],
   "source": [
    "x = input(\"bir sayi lutfen\")\n",
    "print(f\"girdiginiz sayi {x}\", end=\"\")    # girilenler str dir\n",
    "\n",
    "if x > 25:\n",
    "    print(*\"sayi 25 den büyük\")\n",
    "elif x < 15:\n",
    "    print(\"sayi 15 den kucuk\")\n",
    "else:\n",
    "    print(*\"sayi 15 ile 25 arasi\")\n"
   ]
  },
  {
   "cell_type": "code",
   "execution_count": 74,
   "metadata": {},
   "outputs": [
    {
     "name": "stdout",
     "output_type": "stream",
     "text": [
      "girdiginiz sayi 112 \n",
      "s a y i   2 5   d e n   b ü y ü k\n"
     ]
    }
   ],
   "source": [
    "x = int(input(\"bir sayi lutfen\"))\n",
    "print(f\"girdiginiz sayi {x} \\n\", end=\"\")\n",
    "\n",
    "if x >= 25:\n",
    "    print(*\"sayi 25 den büyük\")\n",
    "elif x <= 15:\n",
    "    print(\"sayi 15 den kucuk\")\n",
    "else:\n",
    "    print(*\"sayi 15 ile 25 arasi\")"
   ]
  },
  {
   "cell_type": "code",
   "execution_count": 76,
   "metadata": {},
   "outputs": [
    {
     "name": "stdout",
     "output_type": "stream",
     "text": [
      "14 ehliyet almak icin uygun kriterlere sahip degilsiniz\n"
     ]
    }
   ],
   "source": [
    "isim = input(\"isminizi yaziniz!\")\n",
    "yas = int(input(\"Yasinizi giriniz\"))\n",
    "egitim = input(\"Egitim durumunuzu giriniz\").lower()\n",
    "\n",
    "if yas >= 18 and egitim == \"lise\" or egitim == \"üniversite\":\n",
    "    print(f\"{isim}, yasinz {yas}, ve mezuniyetiniz {egitim} oldugundan ehliyet alabilirsiniz\")\n",
    "else:\n",
    "    print(f\"{isim} ehliyet almak icin uygun kriterlere sahip degilsiniz\")"
   ]
  },
  {
   "attachments": {},
   "cell_type": "markdown",
   "metadata": {},
   "source": [
    "ÖDEV: Bir öğrencinin 2 yazılı bir sözlü notunu alıp hesaplanan ortalamaya göre not aralığına karşılık gelen not bilgisini yazdıran python uygulamasını yapınız. Tüm notlar eşit ağırlıktadır.\n",
    "\n",
    "0 -24 => 0\n",
    "25-44 => 1\n",
    "45-54 => 2\n",
    "55-69 => 3\n",
    "70-84 => 4\n",
    "85-100 => 5"
   ]
  },
  {
   "attachments": {},
   "cell_type": "markdown",
   "metadata": {},
   "source": [
    "SORU: Girilen bir sayının pozitif çift sayı olup olmadığını kontrol eden python uygulamasını yapınız."
   ]
  },
  {
   "cell_type": "code",
   "execution_count": 78,
   "metadata": {},
   "outputs": [
    {
     "name": "stdout",
     "output_type": "stream",
     "text": [
      "Grilen sayi 5 cift veya pozitf degildir\n"
     ]
    }
   ],
   "source": [
    "sayi = int(input(\"bir sayi giriniz\"))\n",
    "\n",
    "if sayi %2 == 0 and sayi > 0:\n",
    "    print(f\"Girdiginiz sayi {sayi} pozitif ve cifttir\")\n",
    "else:\n",
    "    print(f\"Grilen sayi {sayi} cift veya pozitf degildir\")"
   ]
  },
  {
   "cell_type": "code",
   "execution_count": 80,
   "metadata": {},
   "outputs": [
    {
     "name": "stdout",
     "output_type": "stream",
     "text": [
      "sayi tektir\n"
     ]
    }
   ],
   "source": [
    "sayi = int(input(\"bir sayi giriniz\"))\n",
    "\n",
    "if sayi  %2 :\n",
    "    print(\"sayi tektir\")\n",
    "else:\n",
    "    print(\"sayi cifttir\")"
   ]
  },
  {
   "attachments": {},
   "cell_type": "markdown",
   "metadata": {},
   "source": [
    "# Collection Types (Array)\n",
    "\n",
    "#### list, tuples, dictionaries, sets"
   ]
  },
  {
   "attachments": {},
   "cell_type": "markdown",
   "metadata": {},
   "source": [
    "#### lists"
   ]
  },
  {
   "cell_type": "code",
   "execution_count": 81,
   "metadata": {},
   "outputs": [
    {
     "data": {
      "text/plain": [
       "[]"
      ]
     },
     "execution_count": 81,
     "metadata": {},
     "output_type": "execute_result"
    }
   ],
   "source": [
    "liste1 = []\n",
    "liste1"
   ]
  },
  {
   "cell_type": "code",
   "execution_count": 82,
   "metadata": {},
   "outputs": [
    {
     "data": {
      "text/plain": [
       "list"
      ]
     },
     "execution_count": 82,
     "metadata": {},
     "output_type": "execute_result"
    }
   ],
   "source": [
    "type(liste1)"
   ]
  },
  {
   "cell_type": "code",
   "execution_count": 83,
   "metadata": {},
   "outputs": [
    {
     "name": "stdout",
     "output_type": "stream",
     "text": [
      "<class 'list'>\n"
     ]
    }
   ],
   "source": [
    "print(type(liste1))"
   ]
  },
  {
   "cell_type": "code",
   "execution_count": 84,
   "metadata": {},
   "outputs": [
    {
     "data": {
      "text/plain": [
       "['a', 'l', 'i', 'v', 'e', 'l', 'i', 'd', 'e', 'l', 'i']"
      ]
     },
     "execution_count": 84,
     "metadata": {},
     "output_type": "execute_result"
    }
   ],
   "source": [
    "liste2 = list(\"alivelideli\")\n",
    "liste2"
   ]
  },
  {
   "cell_type": "code",
   "execution_count": 85,
   "metadata": {},
   "outputs": [
    {
     "ename": "TypeError",
     "evalue": "list expected at most 1 argument, got 3",
     "output_type": "error",
     "traceback": [
      "\u001b[1;31m---------------------------------------------------------------------------\u001b[0m",
      "\u001b[1;31mTypeError\u001b[0m                                 Traceback (most recent call last)",
      "Cell \u001b[1;32mIn[85], line 1\u001b[0m\n\u001b[1;32m----> 1\u001b[0m liste3 \u001b[39m=\u001b[39m \u001b[39mlist\u001b[39;49m(\u001b[39m1256\u001b[39;49m, \u001b[39m\"\u001b[39;49m\u001b[39mali\u001b[39;49m\u001b[39m\"\u001b[39;49m, \u001b[39mFalse\u001b[39;49;00m)\n",
      "\u001b[1;31mTypeError\u001b[0m: list expected at most 1 argument, got 3"
     ]
    }
   ],
   "source": [
    "liste3 = list(1256, \"ali\", False)"
   ]
  },
  {
   "cell_type": "code",
   "execution_count": 86,
   "metadata": {},
   "outputs": [
    {
     "ename": "TypeError",
     "evalue": "'int' object is not iterable",
     "output_type": "error",
     "traceback": [
      "\u001b[1;31m---------------------------------------------------------------------------\u001b[0m",
      "\u001b[1;31mTypeError\u001b[0m                                 Traceback (most recent call last)",
      "Cell \u001b[1;32mIn[86], line 1\u001b[0m\n\u001b[1;32m----> 1\u001b[0m liste3 \u001b[39m=\u001b[39m \u001b[39mlist\u001b[39;49m(\u001b[39m1256\u001b[39;49m)\n",
      "\u001b[1;31mTypeError\u001b[0m: 'int' object is not iterable"
     ]
    }
   ],
   "source": [
    "liste3 = list(1256)"
   ]
  },
  {
   "cell_type": "code",
   "execution_count": 87,
   "metadata": {},
   "outputs": [
    {
     "ename": "TypeError",
     "evalue": "'bool' object is not iterable",
     "output_type": "error",
     "traceback": [
      "\u001b[1;31m---------------------------------------------------------------------------\u001b[0m",
      "\u001b[1;31mTypeError\u001b[0m                                 Traceback (most recent call last)",
      "Cell \u001b[1;32mIn[87], line 1\u001b[0m\n\u001b[1;32m----> 1\u001b[0m liste3 \u001b[39m=\u001b[39m \u001b[39mlist\u001b[39;49m(\u001b[39mFalse\u001b[39;49;00m)\n",
      "\u001b[1;31mTypeError\u001b[0m: 'bool' object is not iterable"
     ]
    }
   ],
   "source": [
    "liste3 = list(False)"
   ]
  },
  {
   "attachments": {},
   "cell_type": "markdown",
   "metadata": {},
   "source": [
    "list ler tek elemanli ve karakterlerine ulasabilecegi (iterable) veri tipi kabul eder"
   ]
  },
  {
   "cell_type": "code",
   "execution_count": 88,
   "metadata": {},
   "outputs": [
    {
     "data": {
      "text/plain": [
       "[1, 2, 3, 4, 5]"
      ]
     },
     "execution_count": 88,
     "metadata": {},
     "output_type": "execute_result"
    }
   ],
   "source": [
    "liste3 = list([1, 2, 3, 4, 5])\n",
    "liste3"
   ]
  },
  {
   "cell_type": "code",
   "execution_count": 89,
   "metadata": {},
   "outputs": [
    {
     "ename": "TypeError",
     "evalue": "list expected at most 1 argument, got 3",
     "output_type": "error",
     "traceback": [
      "\u001b[1;31m---------------------------------------------------------------------------\u001b[0m",
      "\u001b[1;31mTypeError\u001b[0m                                 Traceback (most recent call last)",
      "Cell \u001b[1;32mIn[89], line 1\u001b[0m\n\u001b[1;32m----> 1\u001b[0m liste4 \u001b[39m=\u001b[39m \u001b[39mlist\u001b[39;49m([\u001b[39m1\u001b[39;49m,\u001b[39m2\u001b[39;49m,\u001b[39m3\u001b[39;49m,\u001b[39m4\u001b[39;49m,\u001b[39m5\u001b[39;49m],[\u001b[39m6\u001b[39;49m,\u001b[39m7\u001b[39;49m],[\u001b[39m9\u001b[39;49m,\u001b[39m10\u001b[39;49m])\n\u001b[0;32m      2\u001b[0m liste4\n",
      "\u001b[1;31mTypeError\u001b[0m: list expected at most 1 argument, got 3"
     ]
    }
   ],
   "source": [
    "liste4 = list([1,2,3,4,5],[6,7],[9,10])\n",
    "liste4"
   ]
  },
  {
   "cell_type": "code",
   "execution_count": 90,
   "metadata": {},
   "outputs": [
    {
     "name": "stdout",
     "output_type": "stream",
     "text": [
      "[1, 2, 3]\n",
      "['bir', 2, True, 5.6]\n"
     ]
    }
   ],
   "source": [
    "liste1 = [1, 2, 3]\n",
    "liste2 = [\"bir\", 2, True, 5.6]\n",
    "print(liste1, liste2, sep=\"\\n\")"
   ]
  },
  {
   "cell_type": "code",
   "execution_count": 92,
   "metadata": {},
   "outputs": [
    {
     "data": {
      "text/plain": [
       "(1, 3)"
      ]
     },
     "execution_count": 92,
     "metadata": {},
     "output_type": "execute_result"
    }
   ],
   "source": [
    "liste1[0], liste1[2]"
   ]
  },
  {
   "cell_type": "code",
   "execution_count": 94,
   "metadata": {},
   "outputs": [
    {
     "data": {
      "text/plain": [
       "['one', 'two', 'three', 'four', 'five', 'six']"
      ]
     },
     "execution_count": 94,
     "metadata": {},
     "output_type": "execute_result"
    }
   ],
   "source": [
    "liste3 = [\"one\", \"two\", \"three\"]\n",
    "liste4 = [\"four\", \"five\", \"six\"]\n",
    "numbers = liste3 + liste4\n",
    "numbers"
   ]
  },
  {
   "cell_type": "code",
   "execution_count": 95,
   "metadata": {},
   "outputs": [
    {
     "name": "stdout",
     "output_type": "stream",
     "text": [
      "3\n",
      "4\n"
     ]
    }
   ],
   "source": [
    "list1 = [\"one\", \"two\", \"three\"]\n",
    "list2 = [[1, 2, 3], [4, 5, 6], [7, 8, 9], 10]\n",
    "\n",
    "print(len(list1))\n",
    "print(len(list2))"
   ]
  },
  {
   "cell_type": "code",
   "execution_count": 96,
   "metadata": {},
   "outputs": [
    {
     "data": {
      "text/plain": [
       "['Hello', 'world.', \"I'm\", 'a', 'friend']"
      ]
     },
     "execution_count": 96,
     "metadata": {},
     "output_type": "execute_result"
    }
   ],
   "source": [
    "message = \"Hello world. I'm a friend\".split()\n",
    "message"
   ]
  },
  {
   "cell_type": "code",
   "execution_count": 97,
   "metadata": {},
   "outputs": [
    {
     "data": {
      "text/plain": [
       "5"
      ]
     },
     "execution_count": 97,
     "metadata": {},
     "output_type": "execute_result"
    }
   ],
   "source": [
    "len(message)"
   ]
  },
  {
   "cell_type": "code",
   "execution_count": 98,
   "metadata": {},
   "outputs": [
    {
     "data": {
      "text/plain": [
       "'a'"
      ]
     },
     "execution_count": 98,
     "metadata": {},
     "output_type": "execute_result"
    }
   ],
   "source": [
    "message[3]"
   ]
  },
  {
   "cell_type": "code",
   "execution_count": 99,
   "metadata": {},
   "outputs": [
    {
     "data": {
      "text/plain": [
       "['world.', \"I'm\"]"
      ]
     },
     "execution_count": 99,
     "metadata": {},
     "output_type": "execute_result"
    }
   ],
   "source": [
    "message[1 : 3]"
   ]
  },
  {
   "cell_type": "code",
   "execution_count": 101,
   "metadata": {},
   "outputs": [
    {
     "data": {
      "text/plain": [
       "['Hello', 'world.', \"I'm\", 'a']"
      ]
     },
     "execution_count": 101,
     "metadata": {},
     "output_type": "execute_result"
    }
   ],
   "source": [
    "message[ : 4]"
   ]
  },
  {
   "cell_type": "code",
   "execution_count": 102,
   "metadata": {},
   "outputs": [
    {
     "data": {
      "text/plain": [
       "['friend', 'a', \"I'm\"]"
      ]
     },
     "execution_count": 102,
     "metadata": {},
     "output_type": "execute_result"
    }
   ],
   "source": [
    "message[-1 : -4 : -1]"
   ]
  },
  {
   "cell_type": "code",
   "execution_count": 103,
   "metadata": {},
   "outputs": [
    {
     "name": "stdout",
     "output_type": "stream",
     "text": [
      "ahmet yilmaz\n",
      "mehmet sert\n",
      "mustafa kaya\n"
     ]
    }
   ],
   "source": [
    "name = [\"ahmet\", \"mehmet\", \"mustafa\"]\n",
    "surname = [\"yilmaz\", \"sert\", \"kaya\"]\n",
    "\n",
    "full_name1 = name[0]+\" \"+surname[0]\n",
    "full_name2 = name[1]+\" \"+surname[1]\n",
    "full_name3 = name[2]+\" \"+surname[2]\n",
    "print(full_name1, full_name2, full_name3, sep=\"\\n\")"
   ]
  },
  {
   "cell_type": "code",
   "execution_count": 104,
   "metadata": {},
   "outputs": [
    {
     "data": {
      "text/plain": [
       "['one', 'update', 'three']"
      ]
     },
     "execution_count": 104,
     "metadata": {},
     "output_type": "execute_result"
    }
   ],
   "source": [
    "listea = [\"one\", \"two\", \"three\"]\n",
    "listea[1] = \"update\"\n",
    "listea"
   ]
  },
  {
   "cell_type": "code",
   "execution_count": 105,
   "metadata": {},
   "outputs": [
    {
     "name": "stdout",
     "output_type": "stream",
     "text": [
      "Ahmet\n",
      "Kaya\n",
      "70\n"
     ]
    }
   ],
   "source": [
    "studentA = [\"Ahmet\", \"Demir\", 2010, [70, 60, 70]]\n",
    "studentB = [\"Nihal\", \"Kaya\", 1999, [80, 80, 70]]\n",
    "studentC = [\"Elif\", \"İpek\", 1998, [80, 70, 90]]\n",
    "\n",
    "result = studentA[0]\n",
    "print(result)\n",
    "result = studentB[1]\n",
    "print(result)\n",
    "result = studentC[3][1]\n",
    "print(result)"
   ]
  },
  {
   "cell_type": "code",
   "execution_count": 106,
   "metadata": {},
   "outputs": [
    {
     "name": "stdout",
     "output_type": "stream",
     "text": [
      "Ahmet Demir 13 yaşında ve not ortalaması 66.67\n"
     ]
    }
   ],
   "source": [
    "result = f\"{studentA[0]} {studentA[1]} {2023-studentA[2]} yaşında ve not ortalaması {round((studentA[3][0] + studentA[3][1] + studentA[3][2])/3, 2)}\"\n",
    "print(result)"
   ]
  },
  {
   "attachments": {},
   "cell_type": "markdown",
   "metadata": {},
   "source": [
    "### list methods"
   ]
  },
  {
   "cell_type": "code",
   "execution_count": 107,
   "metadata": {},
   "outputs": [
    {
     "data": {
      "text/plain": [
       "['apple', 'banana', 'orange', 'kiwi']"
      ]
     },
     "execution_count": 107,
     "metadata": {},
     "output_type": "execute_result"
    }
   ],
   "source": [
    "liste = [\"apple\", \"banana\", \"orange\"]\n",
    "liste.append(\"kiwi\")\n",
    "liste"
   ]
  },
  {
   "cell_type": "code",
   "execution_count": 108,
   "metadata": {},
   "outputs": [
    {
     "ename": "TypeError",
     "evalue": "list.append() takes exactly one argument (2 given)",
     "output_type": "error",
     "traceback": [
      "\u001b[1;31m---------------------------------------------------------------------------\u001b[0m",
      "\u001b[1;31mTypeError\u001b[0m                                 Traceback (most recent call last)",
      "Cell \u001b[1;32mIn[108], line 2\u001b[0m\n\u001b[0;32m      1\u001b[0m liste \u001b[39m=\u001b[39m [\u001b[39m\"\u001b[39m\u001b[39mapple\u001b[39m\u001b[39m\"\u001b[39m, \u001b[39m\"\u001b[39m\u001b[39mbanana\u001b[39m\u001b[39m\"\u001b[39m, \u001b[39m\"\u001b[39m\u001b[39morange\u001b[39m\u001b[39m\"\u001b[39m]\n\u001b[1;32m----> 2\u001b[0m liste\u001b[39m.\u001b[39;49mappend(\u001b[39m\"\u001b[39;49m\u001b[39mkiwi\u001b[39;49m\u001b[39m\"\u001b[39;49m, \u001b[39m\"\u001b[39;49m\u001b[39mcherry\u001b[39;49m\u001b[39m\"\u001b[39;49m)\n\u001b[0;32m      3\u001b[0m liste\n",
      "\u001b[1;31mTypeError\u001b[0m: list.append() takes exactly one argument (2 given)"
     ]
    }
   ],
   "source": [
    "liste = [\"apple\", \"banana\", \"orange\"]\n",
    "liste.append(\"kiwi\", \"cherry\")\n",
    "liste"
   ]
  },
  {
   "cell_type": "code",
   "execution_count": 109,
   "metadata": {},
   "outputs": [
    {
     "data": {
      "text/plain": [
       "['apple', 'banana', 'orange', ['kiwi', 'cherry']]"
      ]
     },
     "execution_count": 109,
     "metadata": {},
     "output_type": "execute_result"
    }
   ],
   "source": [
    "liste.append([\"kiwi\", \"cherry\"])\n",
    "liste"
   ]
  },
  {
   "cell_type": "code",
   "execution_count": 110,
   "metadata": {},
   "outputs": [
    {
     "data": {
      "text/plain": [
       "['apple', 'banana', 'orange', 'strawberry', ['kiwi', 'cherry']]"
      ]
     },
     "execution_count": 110,
     "metadata": {},
     "output_type": "execute_result"
    }
   ],
   "source": [
    "liste.insert(3, \"strawberry\")\n",
    "liste"
   ]
  },
  {
   "cell_type": "code",
   "execution_count": 111,
   "metadata": {},
   "outputs": [
    {
     "data": {
      "text/plain": [
       "['apple', 'banana', 'strawberry', ['kiwi', 'cherry']]"
      ]
     },
     "execution_count": 111,
     "metadata": {},
     "output_type": "execute_result"
    }
   ],
   "source": [
    "liste.remove(\"orange\")\n",
    "liste"
   ]
  },
  {
   "cell_type": "code",
   "execution_count": 112,
   "metadata": {},
   "outputs": [
    {
     "data": {
      "text/plain": [
       "['apple', 'banana', 'strawberry']"
      ]
     },
     "execution_count": 112,
     "metadata": {},
     "output_type": "execute_result"
    }
   ],
   "source": [
    "liste.pop()\n",
    "liste"
   ]
  },
  {
   "cell_type": "code",
   "execution_count": 113,
   "metadata": {},
   "outputs": [
    {
     "data": {
      "text/plain": [
       "'apple'"
      ]
     },
     "execution_count": 113,
     "metadata": {},
     "output_type": "execute_result"
    }
   ],
   "source": [
    "liste.pop(0)"
   ]
  },
  {
   "cell_type": "code",
   "execution_count": 114,
   "metadata": {},
   "outputs": [
    {
     "data": {
      "text/plain": [
       "['banana', 'strawberry']"
      ]
     },
     "execution_count": 114,
     "metadata": {},
     "output_type": "execute_result"
    }
   ],
   "source": [
    "liste"
   ]
  },
  {
   "cell_type": "code",
   "execution_count": 115,
   "metadata": {},
   "outputs": [
    {
     "ename": "NameError",
     "evalue": "name 'liste' is not defined",
     "output_type": "error",
     "traceback": [
      "\u001b[1;31m---------------------------------------------------------------------------\u001b[0m",
      "\u001b[1;31mNameError\u001b[0m                                 Traceback (most recent call last)",
      "Cell \u001b[1;32mIn[115], line 2\u001b[0m\n\u001b[0;32m      1\u001b[0m \u001b[39mdel\u001b[39;00m liste\n\u001b[1;32m----> 2\u001b[0m liste\n",
      "\u001b[1;31mNameError\u001b[0m: name 'liste' is not defined"
     ]
    }
   ],
   "source": [
    "del liste\n",
    "liste"
   ]
  },
  {
   "cell_type": "code",
   "execution_count": 116,
   "metadata": {},
   "outputs": [
    {
     "data": {
      "text/plain": [
       "['apple', 'banana', 'orange']"
      ]
     },
     "execution_count": 116,
     "metadata": {},
     "output_type": "execute_result"
    }
   ],
   "source": [
    "liste = [\"apple\", \"banana\", \"orange\"]\n",
    "liste"
   ]
  },
  {
   "cell_type": "code",
   "execution_count": 117,
   "metadata": {},
   "outputs": [
    {
     "data": {
      "text/plain": [
       "[]"
      ]
     },
     "execution_count": 117,
     "metadata": {},
     "output_type": "execute_result"
    }
   ],
   "source": [
    "liste.clear()\n",
    "liste"
   ]
  },
  {
   "attachments": {},
   "cell_type": "markdown",
   "metadata": {},
   "source": [
    "ÖDEV: Bir öğrencinin 2 yazılı bir sözlü notunu alıp hesaplanan ortalamaya göre not aralığına karşılık gelen not bilgisini yazdıran python uygulamasını yapınız. Tüm notlar eşit ağırlıktadır.\n",
    "\n",
    "0 -24 => 0\n",
    "25-44 => 1\n",
    "45-54 => 2\n",
    "55-69 => 3\n",
    "70-84 => 4\n",
    "85-100 => 5"
   ]
  },
  {
   "cell_type": "code",
   "execution_count": 149,
   "metadata": {},
   "outputs": [
    {
     "name": "stdout",
     "output_type": "stream",
     "text": [
      "Sınav Not Ortalaman 65 Geçme Notun:3\n"
     ]
    }
   ],
   "source": [
    "# Practise_Odev_ ilyas beyin\n",
    "yaz_1=int(input(\"Birinci Yazılı Notunu Giriniz\",))\n",
    "yaz_2= int(input(\"İkinci Yazılı Notunu Giriniz\",))\n",
    "sozlu=int(input(\"Sözlü Notunu Giriniz\",))\n",
    "ortalama=float(( yaz_1 + yaz_2 + sozlu)/3)\n",
    "ort=round(ortalama)\n",
    "if ort in range(0,25):\n",
    "    print(\"Sınav Not Ortalaman\", ort, \"Geçme Notun:0\")\n",
    "elif ort in range(25,45):\n",
    "     print (\"Sınav Not Ortalaman\", ort, \"Geçme Notun:1\")\n",
    "elif ort in range(45,55):\n",
    "    print (\"Sınav Not Ortalaman\", ort, \"Geçme Notun:2\")\n",
    "elif ort in range(55,70):\n",
    "    print (\"Sınav Not Ortalaman\", ort, \"Geçme Notun:3\")\n",
    "elif ort in range(70,85):\n",
    "    print (\"Sınav Not Ortalaman\", ort, \"Geçme Notun:4\")\n",
    "elif ort in range(85,101):\n",
    "    print (\"Sınav Not Ortalaman\", ort, \"Geçme Notun:5\")\n",
    "else:\n",
    "    print(\"Sınav Not Ortalaması 0-100 Arasında Olması Gerek. Girilen Notları Kontrol Ediniz\")\n"
   ]
  },
  {
   "cell_type": "code",
   "execution_count": 145,
   "metadata": {},
   "outputs": [
    {
     "name": "stdout",
     "output_type": "stream",
     "text": [
      "Not ortalamaniz = 45.0 ve notunuz 'Iki' dir\n"
     ]
    }
   ],
   "source": [
    "# Practise_Odev_ Sungur\n",
    "exam1 = float(input(\"Birinci sinav sonucunu yazinz\"))\n",
    "exam2 = float(input(\"Ikinci sinav sonucunu yazinz\"))\n",
    "verbal = float(input(\"Sozlü sinav sonucunu yazinz\"))\n",
    "\n",
    "average = round((exam1 + exam2 + verbal) / 3, 0) \n",
    "\n",
    "if average < 0 or average > 100:\n",
    "    print(\"Not ortalamaniz belirlenen aralikta degildir. Tekrar deneyin\")\n",
    "else:\n",
    "    if average < 25:\n",
    "        print(f\"Not ortalamaniz = {average} ve notunuz 'Sifir' dir\")\n",
    "    elif average < 45:\n",
    "        print(f\"Not ortalamaniz = {average} ve notunuz 'Bir' dir\")\n",
    "    elif average < 55:\n",
    "        print(f\"Not ortalamaniz = {average} ve notunuz 'Iki' dir\")\n",
    "    elif average < 70:\n",
    "        print(f\"Not ortalamaniz = {average} ve notunuz 'Uc' tur\")\n",
    "    elif average < 85:\n",
    "        print(f\"Not ortalamaniz = {average} ve notunuz 'Dort' dur\")\n",
    "    elif average <= 100:\n",
    "        print(f\"Not ortalamaniz = {average} ve notunuz 'Bes' tir\")\n",
    " "
   ]
  },
  {
   "cell_type": "code",
   "execution_count": null,
   "metadata": {},
   "outputs": [],
   "source": []
  }
 ],
 "metadata": {
  "kernelspec": {
   "display_name": "Python 3",
   "language": "python",
   "name": "python3"
  },
  "language_info": {
   "codemirror_mode": {
    "name": "ipython",
    "version": 3
   },
   "file_extension": ".py",
   "mimetype": "text/x-python",
   "name": "python",
   "nbconvert_exporter": "python",
   "pygments_lexer": "ipython3",
   "version": "3.11.3"
  },
  "orig_nbformat": 4
 },
 "nbformat": 4,
 "nbformat_minor": 2
}
